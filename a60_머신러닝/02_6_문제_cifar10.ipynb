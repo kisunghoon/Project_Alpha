{
 "cells": [
  {
   "cell_type": "markdown",
   "metadata": {
    "id": "TLxkoz448wR3"
   },
   "source": [
    "https://tutorials.pytorch.kr/beginner/blitz/cifar10_tutorial.html\n",
    "\n",
    "- 아래 코드는 pytorch 한국 사용자 모임에 올려진 공식 tutorial 코드입니다 \n",
    "- 약간의 수정을 하여 cpu 및 cuda 환경에서 모두 작동할수 있도록 수정했습니다"
   ]
  },
  {
   "cell_type": "markdown",
   "metadata": {
    "id": "4zR0EHo-8wR5"
   },
   "source": [
    "# Cifar10 데이터셋\n",
    "![](https://paperswithcode.com/media/datasets/CIFAR-10-0000000431-b71f61c0_U5n3Glr.jpg)\n",
    "\n",
    "- **3 x 32 x 32** :  32x32 픽셀 크기의 이미지가 3개 채널(channel)\n",
    "- 10개 클래스"
   ]
  },
  {
   "cell_type": "markdown",
   "metadata": {
    "id": "mZ0P4rynZEvI"
   },
   "source": [
    "# 우선 처음부터 끝까지 코드를 하나하나 보면서 실행해보세요"
   ]
  },
  {
   "cell_type": "code",
   "execution_count": 1,
   "metadata": {
    "id": "YfSpfW918wR7"
   },
   "outputs": [],
   "source": [
    "# 실행환경에 따라 변경하세요\n",
    "save_dir = r'D:\\DevRoot\\DataSet\\torch\\dataset'   # 학습 환경\n",
    "# save_dir = r'./dataset'    # Colab 사용시\n"
   ]
  },
  {
   "cell_type": "code",
   "execution_count": null,
   "metadata": {
    "id": "qSS3YJb1ZDvn"
   },
   "outputs": [],
   "source": []
  },
  {
   "cell_type": "code",
   "execution_count": 2,
   "metadata": {},
   "outputs": [],
   "source": [
    "import matplotlib.pyplot as plt\n",
    "import numpy as np\n",
    "%matplotlib inline\n",
    "\n",
    "import os"
   ]
  },
  {
   "cell_type": "code",
   "execution_count": 3,
   "metadata": {},
   "outputs": [
    {
     "data": {
      "image/png": "[encoded data removed]",
      "text/plain": [
       "<Figure size 432x288 with 1 Axes>"
      ]
     },
     "metadata": {
      "needs_background": "light"
     },
     "output_type": "display_data"
    }
   ],
   "source": [
    "# 이상하게 torch 를 import 하기 전에 \n",
    "# 먼저  imshow() 해줘야 나중에 정상적으로 시각화 된다.\n",
    "d = np.array([[0, 1], [1, 0]])\n",
    "plt.imshow(d, 'gray')\n",
    "plt.show()"
   ]
  },
  {
   "cell_type": "code",
   "execution_count": 4,
   "metadata": {
    "id": "PI549E298wR6"
   },
   "outputs": [],
   "source": [
    "import torch\n",
    "\n",
    "# 모델 설계를 위한 nn, F\n",
    "import torch.nn as nn\n",
    "import torch.nn.functional as F\n",
    "\n",
    "# Optimization 을 \n",
    "import torch.optim as optim\n",
    "\n",
    "# torchvision 은 주로 이미지 데이터를 관리하기 위한 모듈\n",
    "# torchvision 데이터셋의 출력(output)은 [0, 1] 범위를 갖는 PILImage 이미지입니다. \n",
    "# 이를 [-1, 1]의 범위로 정규화된 Tensor로 변환합니다.\n",
    "import torchvision\n",
    "from torchvision import datasets, transforms\n",
    "\n"
   ]
  },
  {
   "cell_type": "code",
   "execution_count": null,
   "metadata": {},
   "outputs": [],
   "source": []
  },
  {
   "cell_type": "code",
   "execution_count": null,
   "metadata": {},
   "outputs": [],
   "source": []
  },
  {
   "cell_type": "code",
   "execution_count": null,
   "metadata": {},
   "outputs": [],
   "source": []
  },
  {
   "cell_type": "code",
   "execution_count": null,
   "metadata": {},
   "outputs": [],
   "source": []
  },
  {
   "cell_type": "markdown",
   "metadata": {
    "id": "1xgaBlkxXTVZ"
   },
   "source": [
    "# Hyper Parameter"
   ]
  },
  {
   "cell_type": "code",
   "execution_count": 5,
   "metadata": {
    "id": "VGZ5jcxt8wR7"
   },
   "outputs": [],
   "source": [
    "seed = 1   # PyTorch 는 랜덤하게 학습을 하다 보니까, 학습 랜덤값을 고정시키기 위해 seed 사용\n",
    "\n",
    "lr = 0.001   # learning rate\n",
    "momentum = 0.5  # SGD 의 lr 에 같이 넣어주는 param. \n",
    "\n",
    "batch_size = 4\n",
    "\n",
    "epochs = 3\n",
    "\n",
    "no_cuda = False    # CUDA 설치되어 있으면 False 로 하세요\n",
    "log_interval = 2000"
   ]
  },
  {
   "cell_type": "markdown",
   "metadata": {
    "id": "z9YE3kqaO-eh"
   },
   "source": [
    "## CPU vs Cuda 사용여부 세팅"
   ]
  },
  {
   "cell_type": "code",
   "execution_count": 6,
   "metadata": {
    "colab": {
     "base_uri": "https://localhost:8080/"
    },
    "id": "0R3x1P9b9Hmr",
    "outputId": "d702d037-84a3-4786-db0c-402b79f9229b"
   },
   "outputs": [
    {
     "name": "stdout",
     "output_type": "stream",
     "text": [
      "cpu\n"
     ]
    }
   ],
   "source": [
    "use_cuda = not no_cuda and torch.cuda.is_available()\n",
    "device = torch.device(\"cuda\" if use_cuda else \"cpu\")\n",
    "print(device)\n",
    "kwargs = {'num_workers': 2, 'pin_memory': True} if use_cuda else {}"
   ]
  },
  {
   "cell_type": "markdown",
   "metadata": {
    "id": "TcWI16C7H09a"
   },
   "source": [
    "# Preprocess"
   ]
  },
  {
   "cell_type": "code",
   "execution_count": 7,
   "metadata": {
    "colab": {
     "base_uri": "https://localhost:8080/"
    },
    "id": "OLswOOSk8wR7",
    "outputId": "6b2b4fd3-77e6-4d3e-f5f8-e92b4fbc9adc"
   },
   "outputs": [
    {
     "name": "stdout",
     "output_type": "stream",
     "text": [
      "Files already downloaded and verified\n",
      "Files already downloaded and verified\n"
     ]
    }
   ],
   "source": [
    "transform = transforms.Compose(\n",
    "    [transforms.ToTensor(),\n",
    "     transforms.Normalize((0.5, 0.5, 0.5), (0.5, 0.5, 0.5))])\n",
    "\n",
    "batch_size = 4\n",
    "\n",
    "trainset = torchvision.datasets.CIFAR10(root=save_dir, train=True,\n",
    "                                        download=True, transform=transform)\n",
    "trainloader = torch.utils.data.DataLoader(trainset, batch_size=batch_size,\n",
    "                                          shuffle=True, **kwargs)\n",
    "\n",
    "testset = torchvision.datasets.CIFAR10(root=save_dir, train=False,\n",
    "                                       download=True, transform=transform)\n",
    "testloader = torch.utils.data.DataLoader(testset, batch_size=batch_size,\n",
    "                                         shuffle=False, **kwargs)\n",
    "\n",
    "classes = ('plane', 'car', 'bird', 'cat',\n",
    "           'deer', 'dog', 'frog', 'horse', 'ship', 'truck')"
   ]
  },
  {
   "cell_type": "markdown",
   "metadata": {
    "id": "eFiX1MXyXkDy"
   },
   "source": [
    "# 문제 1\n",
    "`transforms.Normalize((0.5, 0.5, 0.5), (0.5, 0.5, 0.5))])`    <-- 왜 (0.5, 0.5, 0.5 ) 3개씩인가?  설명해보세요\n",
    "\n",
    ">\n",
    ">\n",
    ">"
   ]
  },
  {
   "cell_type": "code",
   "execution_count": 8,
   "metadata": {
    "id": "yYVPSafmPIR1"
   },
   "outputs": [],
   "source": [
    "# 답안 작성\n",
    "\n",
    "\n",
    "\n",
    "\n"
   ]
  },
  {
   "cell_type": "markdown",
   "metadata": {
    "id": "f74Bqwd48wR8"
   },
   "source": [
    "## 데이터 확인"
   ]
  },
  {
   "cell_type": "code",
   "execution_count": 9,
   "metadata": {
    "colab": {
     "base_uri": "https://localhost:8080/",
     "height": 157
    },
    "id": "n2Q-J8E68wR9",
    "outputId": "c04d84d3-7ddd-4295-ec23-394e1e162b56"
   },
   "outputs": [
    {
     "data": {
      "image/png": "[encoded data removed]",
      "text/plain": [
       "<Figure size 432x288 with 1 Axes>"
      ]
     },
     "metadata": {
      "needs_background": "light"
     },
     "output_type": "display_data"
    },
    {
     "name": "stdout",
     "output_type": "stream",
     "text": [
      " frog  ship   dog  bird\n"
     ]
    }
   ],
   "source": [
    "# 이미지를 보여주기 위한 함수\n",
    "\n",
    "def imshow(img):\n",
    "    img = img / 2 + 0.5     # unnormalize\n",
    "    npimg = img.numpy()\n",
    "    plt.imshow(np.transpose(npimg, (1, 2, 0)))\n",
    "    plt.show()\n",
    "\n",
    "\n",
    "# 학습용 이미지를 무작위로 가져오기\n",
    "dataiter = iter(trainloader)\n",
    "images, labels = dataiter.next()\n",
    "\n",
    "# 이미지 보여주기\n",
    "imshow(torchvision.utils.make_grid(images))\n",
    "# 정답(label) 출력\n",
    "print(' '.join('%5s' % classes[labels[j]] for j in range(batch_size)))"
   ]
  },
  {
   "cell_type": "markdown",
   "metadata": {
    "id": "nzGI_V8WX8op"
   },
   "source": [
    "# 문제2-1\n",
    "`img = img / 2 + 0.5`    <-- 왜 이것이 unnormalizing 인가?\n",
    "\n"
   ]
  },
  {
   "cell_type": "code",
   "execution_count": 10,
   "metadata": {},
   "outputs": [],
   "source": [
    "# 답안작성 2-1] \n",
    "\n",
    "\n"
   ]
  },
  {
   "cell_type": "markdown",
   "metadata": {
    "id": "3Z1kK6ndX9lQ"
   },
   "source": [
    "# 문제2-2\n",
    "`plt.imshow(np.transpose(npimg, (1, 2, 0)))`   <- transpose 를 한 이유는 무엇인가?\n"
   ]
  },
  {
   "cell_type": "code",
   "execution_count": 11,
   "metadata": {
    "id": "_OuZLXusNZZu"
   },
   "outputs": [],
   "source": [
    "\n",
    "\n",
    "\n",
    "\n",
    "\n",
    "\n",
    "# 답안작성 2-2]\n",
    "\n",
    "\n",
    "\n",
    "\n"
   ]
  },
  {
   "cell_type": "markdown",
   "metadata": {
    "id": "w5UrHrdnQDGh"
   },
   "source": [
    " # Model"
   ]
  },
  {
   "cell_type": "code",
   "execution_count": 12,
   "metadata": {
    "id": "VcKFESBR8wR9"
   },
   "outputs": [],
   "source": [
    "class Net(nn.Module):\n",
    "    def __init__(self):\n",
    "        super().__init__()\n",
    "        self.conv1 = nn.Conv2d(3, 6, 5)\n",
    "        self.pool = nn.MaxPool2d(2, 2)\n",
    "        self.conv2 = nn.Conv2d(6, 16, 5)\n",
    "        self.fc1 = nn.Linear(16 * 5 * 5, 120)\n",
    "        self.fc2 = nn.Linear(120, 84)\n",
    "        self.fc3 = nn.Linear(84, 10)\n",
    "\n",
    "    def forward(self, x):\n",
    "        x = self.pool(F.relu(self.conv1(x)))\n",
    "        x = self.pool(F.relu(self.conv2(x)))\n",
    "        x = x.view(-1, 16 * 5 * 5)\n",
    "        x = F.relu(self.fc1(x))\n",
    "        x = F.relu(self.fc2(x))\n",
    "        x = self.fc3(x)\n",
    "        return x"
   ]
  },
  {
   "cell_type": "markdown",
   "metadata": {
    "id": "SGB0Ym7kYY5o"
   },
   "source": [
    "# 문제 3\n",
    "\n",
    "- 14번째 행   `x = x.view(-1, 16 * 5 * 5)`  ←  왜 두번째 매개변수는 16 * 5 * 5 이 되었는가? \n",
    "\n",
    "최초 데이터 입력부터 view() 에 이르기까지 각 레이어를 통과할때 마다 shape 의 구체적인 변화와 이유를 통해 설명해보세요\n"
   ]
  },
  {
   "cell_type": "code",
   "execution_count": 13,
   "metadata": {
    "id": "GJWDhi7UNnYN"
   },
   "outputs": [],
   "source": [
    "# 답안 작성]\n",
    "\n",
    "\n",
    "\n",
    "\n",
    "\n"
   ]
  },
  {
   "cell_type": "markdown",
   "metadata": {
    "id": "CGyWEabtQKpx"
   },
   "source": [
    "# Model compilie & Optimizer"
   ]
  },
  {
   "cell_type": "code",
   "execution_count": 14,
   "metadata": {
    "id": "iMLEgk3R8wR9"
   },
   "outputs": [],
   "source": [
    "net = Net().to(device)  # 컴파일\n",
    "criterion = nn.CrossEntropyLoss()\n",
    "optimizer = optim.SGD(net.parameters(), lr=lr, momentum=momentum)"
   ]
  },
  {
   "cell_type": "code",
   "execution_count": 15,
   "metadata": {
    "colab": {
     "base_uri": "https://localhost:8080/"
    },
    "id": "w4TeKume8wR-",
    "outputId": "681a1101-53a5-4b03-9fbb-7063c5c8bfc8"
   },
   "outputs": [
    {
     "name": "stdout",
     "output_type": "stream",
     "text": [
      "[1,  2000] loss: 2.303\n",
      "[1,  4000] loss: 2.287\n",
      "[1,  6000] loss: 2.180\n",
      "[1,  8000] loss: 2.016\n",
      "[1, 10000] loss: 1.919\n",
      "[1, 12000] loss: 1.841\n",
      "[2,  2000] loss: 1.752\n",
      "[2,  4000] loss: 1.679\n",
      "[2,  6000] loss: 1.622\n",
      "[2,  8000] loss: 1.590\n",
      "[2, 10000] loss: 1.563\n",
      "[2, 12000] loss: 1.535\n",
      "[3,  2000] loss: 1.469\n",
      "[3,  4000] loss: 1.448\n",
      "[3,  6000] loss: 1.430\n",
      "[3,  8000] loss: 1.417\n",
      "[3, 10000] loss: 1.410\n",
      "[3, 12000] loss: 1.410\n",
      "Finished Training\n"
     ]
    }
   ],
   "source": [
    "for epoch in range(epochs):   # 데이터셋을 수차례 반복합니다.\n",
    "\n",
    "    net.train()\n",
    "\n",
    "    running_loss = 0.0\n",
    "    for i, data in enumerate(trainloader, 0):\n",
    "        # [inputs, labels]의 목록인 data로부터 입력을 받은 후;\n",
    "        inputs, labels =  data[0].to(device), data[1].to(device)\n",
    "\n",
    "        # 변화도(Gradient) 매개변수를 0으로 만들고\n",
    "        optimizer.zero_grad()\n",
    "\n",
    "        # 순전파 + 역전파 + 최적화를 한 후\n",
    "        outputs = net(inputs)\n",
    "        loss = criterion(outputs, labels)\n",
    "        loss.backward()\n",
    "        optimizer.step()\n",
    "\n",
    "        # 통계를 출력합니다.\n",
    "        running_loss += loss.item()\n",
    "        if i % 2000 == 1999:    # print every 2000 mini-batches\n",
    "            print('[%d, %5d] loss: %.3f' %\n",
    "                  (epoch + 1, i + 1, running_loss / 2000))\n",
    "            running_loss = 0.0\n",
    "\n",
    "print('Finished Training')"
   ]
  },
  {
   "cell_type": "markdown",
   "metadata": {
    "id": "YVA7b8vt8wR-"
   },
   "source": [
    "## 학습모델 저장"
   ]
  },
  {
   "cell_type": "code",
   "execution_count": 16,
   "metadata": {
    "id": "FG2xFL408wR-"
   },
   "outputs": [],
   "source": [
    "PATH = os.path.join(save_dir, 'cifar_net.pth')\n",
    "torch.save(net.state_dict(), PATH)"
   ]
  },
  {
   "cell_type": "markdown",
   "metadata": {
    "id": "M4vCXNOt8wR-"
   },
   "source": [
    "## 테스트"
   ]
  },
  {
   "cell_type": "markdown",
   "metadata": {
    "id": "zmpv5L318wR-"
   },
   "source": [
    "### 테스트용 데이터 들여다 보기"
   ]
  },
  {
   "cell_type": "code",
   "execution_count": 17,
   "metadata": {
    "colab": {
     "base_uri": "https://localhost:8080/",
     "height": 157
    },
    "id": "dsaZs2Zm8wR_",
    "outputId": "dd024cd0-a8d1-423d-f2d4-4b2a14259b2a"
   },
   "outputs": [
    {
     "data": {
      "image/png": "[encoded data removed]",
      "text/plain": [
       "<Figure size 432x288 with 1 Axes>"
      ]
     },
     "metadata": {
      "needs_background": "light"
     },
     "output_type": "display_data"
    },
    {
     "name": "stdout",
     "output_type": "stream",
     "text": [
      "GroundTruth:    cat  ship  ship plane\n"
     ]
    }
   ],
   "source": [
    "dataiter = iter(testloader)\n",
    "images, labels = dataiter.next()\n",
    "\n",
    "\n",
    "# 이미지를 출력합니다.\n",
    "imshow(torchvision.utils.make_grid(images))\n",
    "print('GroundTruth: ', ' '.join('%5s' % classes[labels[j]] for j in range(4)))  # 4개만"
   ]
  },
  {
   "cell_type": "code",
   "execution_count": null,
   "metadata": {
    "id": "3XEqkEgd8wR_"
   },
   "outputs": [],
   "source": []
  },
  {
   "cell_type": "markdown",
   "metadata": {
    "id": "3PJM9WXf8wR_"
   },
   "source": [
    "## 저장했던 모델 불러오기"
   ]
  },
  {
   "cell_type": "code",
   "execution_count": 18,
   "metadata": {
    "colab": {
     "base_uri": "https://localhost:8080/"
    },
    "id": "s-WHdTen8wR_",
    "outputId": "79ad421b-f694-4a3c-8a1c-13b1fcb38662"
   },
   "outputs": [
    {
     "data": {
      "text/plain": [
       "<All keys matched successfully>"
      ]
     },
     "execution_count": 18,
     "metadata": {},
     "output_type": "execute_result"
    }
   ],
   "source": [
    "net = Net().to(device)  # 컴파일\n",
    "net.load_state_dict(torch.load(PATH))"
   ]
  },
  {
   "cell_type": "code",
   "execution_count": null,
   "metadata": {
    "id": "ZNXAA8aC8wR_"
   },
   "outputs": [],
   "source": []
  },
  {
   "cell_type": "markdown",
   "metadata": {
    "id": "rrXfkWRY8wR_"
   },
   "source": [
    "## 예측해보기"
   ]
  },
  {
   "cell_type": "code",
   "execution_count": 19,
   "metadata": {
    "id": "sKpmbLNf8wSA"
   },
   "outputs": [],
   "source": [
    "outputs = net(images.to(device))  # 앞선 4개에 대해 들여다 보기"
   ]
  },
  {
   "cell_type": "code",
   "execution_count": 20,
   "metadata": {
    "colab": {
     "base_uri": "https://localhost:8080/"
    },
    "id": "ItcEJzS98wSA",
    "outputId": "09d68bd8-c6f3-4dfb-c09a-712669632ccd"
   },
   "outputs": [
    {
     "data": {
      "text/plain": [
       "tensor([[-0.9843, -2.9012,  1.6284,  3.7837, -0.0310,  3.3738,  1.2802, -0.4482,\n",
       "         -1.8850, -1.9363],\n",
       "        [ 3.3360,  3.4333, -0.8789, -2.5758, -1.8475, -3.9805, -3.8649, -3.4466,\n",
       "          5.6392,  3.3429],\n",
       "        [ 1.6597,  2.1388, -0.5467, -1.1356, -1.3448, -1.6131, -3.0067, -1.6180,\n",
       "          2.6835,  2.3040],\n",
       "        [ 3.0548,  1.3955,  0.1432, -1.4433, -0.3351, -2.8271, -1.9093, -2.4827,\n",
       "          3.7521,  0.8625]], grad_fn=<AddmmBackward>)"
      ]
     },
     "execution_count": 20,
     "metadata": {},
     "output_type": "execute_result"
    }
   ],
   "source": [
    "outputs"
   ]
  },
  {
   "cell_type": "code",
   "execution_count": 21,
   "metadata": {
    "colab": {
     "base_uri": "https://localhost:8080/"
    },
    "id": "dE_2xYRGWCMF",
    "outputId": "3ad5ac87-265c-44fb-e053-3b881191e915"
   },
   "outputs": [
    {
     "data": {
      "text/plain": [
       "torch.Size([4, 10])"
      ]
     },
     "execution_count": 21,
     "metadata": {},
     "output_type": "execute_result"
    }
   ],
   "source": [
    "outputs.shape"
   ]
  },
  {
   "cell_type": "code",
   "execution_count": null,
   "metadata": {
    "id": "8_XWz41nZsEA"
   },
   "outputs": [],
   "source": []
  },
  {
   "cell_type": "markdown",
   "metadata": {
    "id": "GoYm-sMvZu-w"
   },
   "source": [
    "# 문제 4\n",
    " - \n",
    " 위 outputs 의 shape 은 왜 [4, 10] 이 되었는지 설명해보세요"
   ]
  },
  {
   "cell_type": "code",
   "execution_count": 22,
   "metadata": {
    "id": "Yk2JXRRY8wSA"
   },
   "outputs": [],
   "source": [
    "# 답안작성]\n",
    "\n",
    "\n",
    "\n",
    "\n",
    "\n",
    "\n"
   ]
  },
  {
   "cell_type": "markdown",
   "metadata": {
    "id": "BW96OvLK8wSA"
   },
   "source": [
    "# 전체 데이터 셋에 대해 정확도 확인"
   ]
  },
  {
   "cell_type": "code",
   "execution_count": 23,
   "metadata": {
    "colab": {
     "base_uri": "https://localhost:8080/"
    },
    "id": "KkdevMTO8wSA",
    "outputId": "55bc98cd-4563-408d-9b2a-8ea6d2545139"
   },
   "outputs": [
    {
     "name": "stdout",
     "output_type": "stream",
     "text": [
      "Accuracy of the network on the 10000 test images: 48 %\n"
     ]
    }
   ],
   "source": [
    "net.eval()\n",
    "\n",
    "correct = 0\n",
    "total = 0\n",
    "with torch.no_grad():\n",
    "    for data in testloader:\n",
    "        images, labels =  data[0].to(device), data[1].to(device)\n",
    "        outputs = net(images)\n",
    "        _, predicted = torch.max(outputs.data, 1)\n",
    "        total += labels.size(0)\n",
    "        correct += (predicted == labels).sum().item()\n",
    "\n",
    "print('Accuracy of the network on the 10000 test images: %d %%' % (\n",
    "    100 * correct / total))"
   ]
  },
  {
   "cell_type": "markdown",
   "metadata": {
    "id": "lwvryEKq8wSA"
   },
   "source": [
    "## 각 클래스별로 정확도 확인"
   ]
  },
  {
   "cell_type": "code",
   "execution_count": 24,
   "metadata": {
    "colab": {
     "base_uri": "https://localhost:8080/"
    },
    "id": "_VkoiY3p8wSB",
    "outputId": "57e8a0d5-07d0-42f3-92c0-6780938a20c6"
   },
   "outputs": [
    {
     "name": "stdout",
     "output_type": "stream",
     "text": [
      "Accuracy of plane : 53 %\n",
      "Accuracy of   car : 54 %\n",
      "Accuracy of  bird : 37 %\n",
      "Accuracy of   cat : 26 %\n",
      "Accuracy of  deer : 25 %\n",
      "Accuracy of   dog : 63 %\n",
      "Accuracy of  frog : 46 %\n",
      "Accuracy of horse : 69 %\n",
      "Accuracy of  ship : 51 %\n",
      "Accuracy of truck : 60 %\n"
     ]
    }
   ],
   "source": [
    "class_correct = list(0. for i in range(10))\n",
    "class_total = list(0. for i in range(10))\n",
    "with torch.no_grad():\n",
    "    for data in testloader:\n",
    "        images, labels = data[0].to(device), data[1].to(device)\n",
    "        outputs = net(images)\n",
    "        _, predicted = torch.max(outputs, 1)\n",
    "        c = (predicted == labels).squeeze()\n",
    "        for i in range(4):\n",
    "            label = labels[i]\n",
    "            class_correct[label] += c[i].item()\n",
    "            class_total[label] += 1\n",
    "\n",
    "\n",
    "for i in range(10):\n",
    "    print('Accuracy of %5s : %2d %%' % (\n",
    "        classes[i], 100 * class_correct[i] / class_total[i]))"
   ]
  },
  {
   "cell_type": "code",
   "execution_count": null,
   "metadata": {
    "id": "et5ZURSy8wSB"
   },
   "outputs": [],
   "source": []
  },
  {
   "cell_type": "code",
   "execution_count": null,
   "metadata": {
    "id": "QEF9uniV8wSB"
   },
   "outputs": [],
   "source": []
  },
  {
   "cell_type": "code",
   "execution_count": null,
   "metadata": {
    "id": "umzwSG4C8wSB"
   },
   "outputs": [],
   "source": []
  },
  {
   "cell_type": "code",
   "execution_count": null,
   "metadata": {
    "id": "pfO6NdwT8wSB"
   },
   "outputs": [],
   "source": []
  },
  {
   "cell_type": "code",
   "execution_count": null,
   "metadata": {
    "id": "k2TSb9zN8wSB"
   },
   "outputs": [],
   "source": []
  },
  {
   "cell_type": "code",
   "execution_count": null,
   "metadata": {
    "id": "WWXAPsj48wSB"
   },
   "outputs": [],
   "source": []
  },
  {
   "cell_type": "code",
   "execution_count": null,
   "metadata": {
    "id": "TbjEoDHg8wSC"
   },
   "outputs": [],
   "source": []
  },
  {
   "cell_type": "code",
   "execution_count": null,
   "metadata": {
    "id": "hBOcy6oF8wSC"
   },
   "outputs": [],
   "source": []
  },
  {
   "cell_type": "code",
   "execution_count": null,
   "metadata": {
    "id": "6k-E_Oyb8wSC"
   },
   "outputs": [],
   "source": []
  },
  {
   "cell_type": "code",
   "execution_count": null,
   "metadata": {
    "id": "_9e_QPr28wSC"
   },
   "outputs": [],
   "source": []
  },
  {
   "cell_type": "code",
   "execution_count": null,
   "metadata": {
    "id": "F-vf_wta8wSC"
   },
   "outputs": [],
   "source": []
  }
 ],
 "metadata": {
  "accelerator": "GPU",
  "colab": {
   "collapsed_sections": [],
   "name": "02_6 연습 cifar10.ipynb",
   "provenance": []
  },
  "kernelspec": {
   "display_name": "Python 3",
   "language": "python",
   "name": "python3"
  },
  "language_info": {
   "codemirror_mode": {
    "name": "ipython",
    "version": 3
   },
   "file_extension": ".py",
   "mimetype": "text/x-python",
   "name": "python",
   "nbconvert_exporter": "python",
   "pygments_lexer": "ipython3",
   "version": "3.8.5"
  }
 },
 "nbformat": 4,
 "nbformat_minor": 1
}
