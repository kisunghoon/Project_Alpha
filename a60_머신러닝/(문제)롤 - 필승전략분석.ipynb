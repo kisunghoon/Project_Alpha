{
 "cells": [
  {
   "cell_type": "markdown",
   "metadata": {},
   "source": [
    "# 평가 : NCS 머신러닝 기반 데이터 분석 "
   ]
  },
  {
   "cell_type": "markdown",
   "metadata": {
    "id": "NqqLNJZjfi8U"
   },
   "source": [
    "## 데이터 소개\n",
    "- 이번 주제는 League of Legends Diamond Ranked Games (10 min) 데이터셋을 사용합니다.\n",
    "\n",
    "    \n",
    "- 다음 1개의 csv 파일을 사용합니다.\n",
    "    - high_diamond_ranked_10min.csv\n",
    "    \n",
    "    \n",
    "- 각 파일의 컬럼은 아래와 같습니다.\n",
    "    - gameId: 게임 판의 고유 ID\n",
    "    - **blueWins**: 블루팀의 승리 여부 (0: 패배, 1: 승리)  <-- 타겟값\n",
    "    - xxxWardsPlaced: xxx팀에서 설치한 와드의 수 \n",
    "    - xxxWardsDestroyed: xxx팀에서 파괴한 와드의 수\n",
    "    - xxxFirstBlood: xxx팀의 첫번째 킬 달성 여부\n",
    "    - xxxKills: xxx팀의 킬 수\n",
    "    - xxxDeaths: xxx팀의 죽음 수\n",
    "    - xxxAssists: xxx팀의 어시스트 수\n",
    "    - xxxEliteMonsters: xxx팀이 죽인 엘리트 몬스터 수\n",
    "    - xxxDragons: xxx팀이 죽인 용의 수\n",
    "    - xxxHeralds: xxx팀이 죽인 전령의 수\n",
    "    - xxxTowersDestroyed: xxx팀이 파괴한 탑의 수\n",
    "    - xxxTotalGold: xxx팀의 전체 획득 골드\n",
    "    - xxxAvgLevel: xxx팀의 평균 레벨\n",
    "    - xxxTotalExperience: xxx팀의 총 경험치 획득량\n",
    "    - xxxTotalMinionsKilled: xxx팀의 총 미니언 킬 수\n",
    "    - xxxTotalJungleMinionsKilled: xxx팀의 총 정글 미니언 킬 수\n",
    "    - xxxGoldDiff: xxx팀과 다른 팀 간의 골드 획득량 차이\n",
    "    - xxxExperienceDiff: xxx팀과 다른 팀과의 경험치 획득량 차이\n",
    "    - xxxCSPerMin: xxx팀의 분당 CS 스코어\n",
    "    - xxxGoldPerMin: xxx팀의 분당 골드 획득량\n",
    "      \n",
    "        \n",
    "- 데이터 출처: https://www.kaggle.com/bobbyscience/league-of-legends-diamond-ranked-games-10-min"
   ]
  },
  {
   "cell_type": "markdown",
   "metadata": {},
   "source": [
    "## 평가환경\n",
    "- Jupyter Notebook\n",
    "- scikit-learn"
   ]
  },
  {
   "cell_type": "markdown",
   "metadata": {
    "id": "IRssoNrgP7So"
   },
   "source": [
    "## 1_1. 데이터셋 준비\n",
    "- 위 출처의 데이터셋 다운로드, 압축풀기하여 현재 폴더에 저장하기\n",
    "- DataFrame 으로 읽어 들이고 변수명 **df** 에 담기\n",
    "\n",
    "\n",
    "- df.head() 출력하기"
   ]
  },
  {
   "cell_type": "code",
   "execution_count": null,
   "metadata": {},
   "outputs": [],
   "source": [
    "# TODO"
   ]
  },
  {
   "cell_type": "code",
   "execution_count": null,
   "metadata": {},
   "outputs": [],
   "source": [
    "df.head()"
   ]
  },
  {
   "cell_type": "markdown",
   "metadata": {
    "id": "9L3BNVM7tHN5"
   },
   "source": [
    "## 1_2. EDA 및 데이터 기초 통계 분석\n",
    "- df 의 각 컬럼 분석\n",
    "- 기술통계량 분석"
   ]
  },
  {
   "cell_type": "code",
   "execution_count": null,
   "metadata": {},
   "outputs": [],
   "source": [
    "# TODO"
   ]
  },
  {
   "cell_type": "code",
   "execution_count": null,
   "metadata": {},
   "outputs": [],
   "source": []
  },
  {
   "cell_type": "code",
   "execution_count": null,
   "metadata": {},
   "outputs": [],
   "source": []
  },
  {
   "cell_type": "markdown",
   "metadata": {
    "id": "GD18QuastZy8"
   },
   "source": [
    "## 2. 모델 학습을 위한 데이터 전처리\n"
   ]
  },
  {
   "cell_type": "markdown",
   "metadata": {},
   "source": [
    "## 2_1. 학습에 불필요한 컬럼을 제거합니다\n",
    "- **df** 에서 다음의 불필요한 컬럼들을 제거합니다 \n",
    ">'gameId', 'redFirstBlood', 'redKills', 'redDeaths','redTotalGold', 'redTotalExperience', 'redGoldDiff','redExperienceDiff'\n",
    "\n",
    "- 컬럼이 제거된 df.head() 출력 하기\n",
    "- 컬럼이 제거된 df 의 column 개수 출력 하기"
   ]
  },
  {
   "cell_type": "code",
   "execution_count": null,
   "metadata": {},
   "outputs": [],
   "source": [
    "# TODO"
   ]
  },
  {
   "cell_type": "code",
   "execution_count": null,
   "metadata": {},
   "outputs": [],
   "source": [
    "df.head()"
   ]
  },
  {
   "cell_type": "code",
   "execution_count": null,
   "metadata": {},
   "outputs": [],
   "source": []
  },
  {
   "cell_type": "code",
   "execution_count": null,
   "metadata": {},
   "outputs": [],
   "source": [
    "# df 의 column 개수 출력하기"
   ]
  },
  {
   "cell_type": "code",
   "execution_count": null,
   "metadata": {},
   "outputs": [],
   "source": []
  },
  {
   "cell_type": "markdown",
   "metadata": {
    "id": "Dev2yLeMta85"
   },
   "source": [
    "## 2_2. 수치형 데이터 표준화하기\n",
    "- df에서 수치형 데이터만 모아서 **X_num** 변수에 담기 (DataFrame)\n",
    "- df에서 분류형 데이터만 모아서 **X_cat** 변수에 담기 (DataFrame)\n",
    "\n",
    "\n",
    "- **StandardScaler** 를 사용하여 표준화를 진행한뒤 결과를 DataFrame 으로 바꾸어 변수 **X_scaled** 에 저장\n",
    "\n",
    "\n",
    "- 데이터 **X** <= X_scaled 와 X_cat 을 합한 데이터 담기\n",
    "- 타겟값 **y** <= 'blueWins'  담기\n",
    "\n",
    "\n",
    "- X.head() 출력 \n",
    "- X.describe() 출력"
   ]
  },
  {
   "cell_type": "code",
   "execution_count": null,
   "metadata": {},
   "outputs": [],
   "source": [
    "# TODO"
   ]
  },
  {
   "cell_type": "code",
   "execution_count": null,
   "metadata": {},
   "outputs": [],
   "source": [
    "# df 의 수치형 데이터만 담기\n",
    "X_num = "
   ]
  },
  {
   "cell_type": "code",
   "execution_count": null,
   "metadata": {},
   "outputs": [],
   "source": [
    "# df 의 분류형 데이터만 담기\n",
    "X_cat = "
   ]
  },
  {
   "cell_type": "code",
   "execution_count": null,
   "metadata": {},
   "outputs": [],
   "source": [
    "# 표준화 한 결과 담기\n",
    "X_scaled = "
   ]
  },
  {
   "cell_type": "code",
   "execution_count": null,
   "metadata": {},
   "outputs": [],
   "source": [
    "# X_scaled 와 X_cat 합치기\n",
    "\n",
    "X = "
   ]
  },
  {
   "cell_type": "code",
   "execution_count": null,
   "metadata": {},
   "outputs": [],
   "source": [
    "# 'blueWins' 담기\n",
    "\n",
    "y = "
   ]
  },
  {
   "cell_type": "code",
   "execution_count": null,
   "metadata": {},
   "outputs": [],
   "source": [
    "# 출력하기\n",
    "X.head()"
   ]
  },
  {
   "cell_type": "code",
   "execution_count": null,
   "metadata": {},
   "outputs": [],
   "source": [
    "# 출력하기\n",
    "X.describe()"
   ]
  },
  {
   "cell_type": "code",
   "execution_count": null,
   "metadata": {},
   "outputs": [],
   "source": []
  },
  {
   "cell_type": "code",
   "execution_count": null,
   "metadata": {},
   "outputs": [],
   "source": []
  },
  {
   "cell_type": "markdown",
   "metadata": {},
   "source": [
    "## 3. 최적 파라미터 찾기\n",
    "\n",
    "- 위에서 만든 X, y 를 LogisticRegression 모델에 학습시키기 위한 최적의 파라미터를 찾는다\n",
    "- 다음 2개의 파라미터 값의 grid 를 다음과 같이 주고 최적값을 찾아낸다\n",
    "    - 'max_iter' : [100, 200, 300]\n",
    "    - 'C' : [0.5, 1.0, 1.5, 2.0]\n",
    "    \n",
    "- GridSearchCV 사용\n",
    "\n",
    "\n",
    "- 결과의 최적점수 출력하기\n",
    "- 결과의 최적 파라미터 출력하기\n",
    "- 결과의 cv_results_ 값을 DataFrame 으로 출력하기"
   ]
  },
  {
   "cell_type": "code",
   "execution_count": 2,
   "metadata": {},
   "outputs": [],
   "source": [
    "# TODO 최적 파라미터 찾기"
   ]
  },
  {
   "cell_type": "code",
   "execution_count": 3,
   "metadata": {},
   "outputs": [],
   "source": [
    "# TODO  결과의 최적점수 출력하기"
   ]
  },
  {
   "cell_type": "code",
   "execution_count": 4,
   "metadata": {},
   "outputs": [],
   "source": [
    "# TODO 결과의 최적 파라미터 출력하기"
   ]
  },
  {
   "cell_type": "code",
   "execution_count": 5,
   "metadata": {},
   "outputs": [],
   "source": [
    "# cv_results_ 값을 DataFrame 으로 출력하기"
   ]
  },
  {
   "cell_type": "code",
   "execution_count": null,
   "metadata": {},
   "outputs": [],
   "source": []
  },
  {
   "cell_type": "markdown",
   "metadata": {
    "id": "x93Tb6lptcA2"
   },
   "source": [
    "## 4. 학습데이터와 테스트데이터 분리하기\n",
    "- 학습용(train) : 테스트용(test) = 7:3 비율로 분리하기\n",
    "- 분리된 각 데이터와 레이블은 아래 변수명으로 담습니다.\n",
    "    - 학습용 데이터 X_train\n",
    "    - 테스트용 데이터 X_test\n",
    "    - 학습용 레이블 y_train\n",
    "    - 테스트용 레이블 y_test\n",
    "    \n",
    "    \n",
    "- 분리된 학습용 데이터개수와 테스트용 데이터 개수 출력하기    "
   ]
  },
  {
   "cell_type": "code",
   "execution_count": 22,
   "metadata": {
    "executionInfo": {
     "elapsed": 673,
     "status": "ok",
     "timestamp": 1610319098909,
     "user": {
      "displayName": "김패캠",
      "photoUrl": "",
      "userId": "06994282823286758918"
     },
     "user_tz": -540
    },
    "id": "F07QjOFwFNEw"
   },
   "outputs": [],
   "source": [
    "# 데이터 분할하기\n",
    "X_train, X_test, y_train, y_test = "
   ]
  },
  {
   "cell_type": "code",
   "execution_count": 6,
   "metadata": {},
   "outputs": [],
   "source": [
    "# 분리된 학습용 데이터개수와 테스트용 데이터 개수 출력하기    \n",
    "# TODO"
   ]
  },
  {
   "cell_type": "code",
   "execution_count": null,
   "metadata": {},
   "outputs": [],
   "source": []
  },
  {
   "cell_type": "markdown",
   "metadata": {
    "id": "Ckexl202tmZI"
   },
   "source": [
    "## 4. Classification 모델 생성/학습하기\n",
    "- LogisticRegression 모델로 학습합니다\n",
    "- 모델 변수명 **model_lr**"
   ]
  },
  {
   "cell_type": "code",
   "execution_count": null,
   "metadata": {},
   "outputs": [],
   "source": [
    "# TODO : LogisticRegression 모델 생성/학습\n",
    "model_lr = "
   ]
  },
  {
   "cell_type": "code",
   "execution_count": null,
   "metadata": {},
   "outputs": [],
   "source": []
  },
  {
   "cell_type": "markdown",
   "metadata": {},
   "source": [
    "## 5. 교차검증 해보기\n",
    "- 원 변수 X, y 에 대한 교차검증 (cross validation) 하기\n",
    "- 4-fold(분할) cross validation 진행하기\n",
    "\n",
    "\n",
    "- 교차검증의 정확도 score 출력\n",
    "\n",
    "- 교차검증의 정확도 score 의 평균과 표준편차 출력\n"
   ]
  },
  {
   "cell_type": "code",
   "execution_count": 7,
   "metadata": {},
   "outputs": [],
   "source": [
    "# TODO : 교차검증 수행하기"
   ]
  },
  {
   "cell_type": "code",
   "execution_count": null,
   "metadata": {},
   "outputs": [],
   "source": [
    "# TODO : 교차검증의 정확도 score 출력"
   ]
  },
  {
   "cell_type": "code",
   "execution_count": 8,
   "metadata": {},
   "outputs": [],
   "source": [
    "# 교차검증의 정확도 score 의 평균과 표준편차 출력"
   ]
  },
  {
   "cell_type": "code",
   "execution_count": null,
   "metadata": {},
   "outputs": [],
   "source": []
  },
  {
   "cell_type": "markdown",
   "metadata": {
    "id": "APOI7Hc9tnvr"
   },
   "source": [
    "## 6-1. 모델 학습 결과 평가하기\n",
    "- 테스트 데이터에 대한 예측값을 내어보고\n",
    "- 예측값에 대한  classification_report 출력하기"
   ]
  },
  {
   "cell_type": "code",
   "execution_count": null,
   "metadata": {},
   "outputs": [],
   "source": [
    "# TODO"
   ]
  },
  {
   "cell_type": "code",
   "execution_count": null,
   "metadata": {},
   "outputs": [],
   "source": []
  },
  {
   "cell_type": "markdown",
   "metadata": {},
   "source": [
    "## 6-2 . ROC curve 그리기"
   ]
  },
  {
   "attachments": {
    "image.png": {
     "image/png": "[encoded data removed]"
    }
   },
   "cell_type": "markdown",
   "metadata": {},
   "source": [
    "- 테스트 결과에 따른 ROC curve 그리기\n",
    "\n",
    "\n",
    "<예시>\n",
    "![image.png](attachment:image.png)"
   ]
  },
  {
   "cell_type": "code",
   "execution_count": null,
   "metadata": {},
   "outputs": [],
   "source": [
    "# TODO"
   ]
  },
  {
   "cell_type": "code",
   "execution_count": null,
   "metadata": {},
   "outputs": [],
   "source": []
  }
 ],
 "metadata": {
  "colab": {
   "collapsed_sections": [],
   "name": "1-3. 롤 좀 하니_ _이것_만 하면 무조건 이긴다! - 데이터로 알아보는 리그 오브 레전드의 승리 공식",
   "provenance": [
    {
     "file_id": "1j79f83Q3TPyjwsbNx2fy_Dt-J37MVNvZ",
     "timestamp": 1605597047726
    },
    {
     "file_id": "1QiLPv5TzBrE7Lb-X4fMq7KHePTq0Em2L",
     "timestamp": 1605593695308
    },
    {
     "file_id": "1Ot6dlC7E_dqo8XOgyTA03SKSqFcvkCdO",
     "timestamp": 1605087778098
    },
    {
     "file_id": "1cS2OjWOehEb97E7763rQ_LrzQIK34Kd-",
     "timestamp": 1604921871166
    },
    {
     "file_id": "1g7SaVjG6EvBPvIH4ADG2RA3qN8v521d1",
     "timestamp": 1604886286018
    }
   ]
  },
  "kernelspec": {
   "display_name": "Python 3",
   "language": "python",
   "name": "python3"
  },
  "language_info": {
   "codemirror_mode": {
    "name": "ipython",
    "version": 3
   },
   "file_extension": ".py",
   "mimetype": "text/x-python",
   "name": "python",
   "nbconvert_exporter": "python",
   "pygments_lexer": "ipython3",
   "version": "3.8.5"
  }
 },
 "nbformat": 4,
 "nbformat_minor": 1
}
