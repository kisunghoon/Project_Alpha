{
 "cells": [
  {
   "cell_type": "markdown",
   "metadata": {},
   "source": [
    "# PyTorch Layer 이해하기"
   ]
  },
  {
   "cell_type": "code",
   "execution_count": 1,
   "metadata": {},
   "outputs": [],
   "source": [
    "import numpy as np\n",
    "import matplotlib.pyplot as plt\n",
    "\n",
    "%matplotlib inline"
   ]
  },
  {
   "cell_type": "code",
   "execution_count": null,
   "metadata": {},
   "outputs": [],
   "source": [
    "# 이상하게 torch 를 import 하기 전에 \n",
    "# 먼저  imshow() 해줘야 나중에 정상적으로 시각화 된다."
   ]
  },
  {
   "cell_type": "code",
   "execution_count": 2,
   "metadata": {},
   "outputs": [
    {
     "data": {
      "image/png": "[encoded data removed]",
      "text/plain": [
       "<Figure size 432x288 with 1 Axes>"
      ]
     },
     "metadata": {
      "needs_background": "light"
     },
     "output_type": "display_data"
    }
   ],
   "source": [
    "d = np.array([[0, 1], [1, 0]])\n",
    "plt.imshow(d, 'gray')\n",
    "plt.show()"
   ]
  },
  {
   "cell_type": "code",
   "execution_count": 3,
   "metadata": {},
   "outputs": [],
   "source": [
    "import torch\n",
    "from torchvision import datasets, transforms"
   ]
  },
  {
   "cell_type": "code",
   "execution_count": 4,
   "metadata": {},
   "outputs": [],
   "source": [
    "save_dir = r'D:\\DevRoot\\DataSet\\torch\\dataset'"
   ]
  },
  {
   "cell_type": "code",
   "execution_count": 5,
   "metadata": {},
   "outputs": [],
   "source": [
    "train_loader = torch.utils.data.DataLoader(\n",
    "    datasets.MNIST(\n",
    "        save_dir    # 저장할 디렉토리\n",
    "        , train=True   # 학습용\n",
    "        , download = True  # 없으면 다운로드\n",
    "        , transform = transforms.Compose([\n",
    "                transforms.ToTensor()   # 데이터 다운받은뒤 Tensor 로 받아올거임.\n",
    "                # 직전예제에선 normalize 했었다.  이번에는 '학습'이 주목적이 아니라서 생략.\n",
    "        ]))\n",
    "    \n",
    "    , batch_size=1\n",
    "    # 이번 단원의 목적은 이미지 '하나하나' 를 넣어서 '확인' 해보는 거라, batch_size 는 1 로만 줍니다.\n",
    ")"
   ]
  },
  {
   "cell_type": "code",
   "execution_count": 6,
   "metadata": {},
   "outputs": [],
   "source": [
    "image, label = next(iter(train_loader))"
   ]
  },
  {
   "cell_type": "code",
   "execution_count": 7,
   "metadata": {},
   "outputs": [
    {
     "data": {
      "text/plain": [
       "(torch.Size([1, 1, 28, 28]), torch.Size([1]))"
      ]
     },
     "execution_count": 7,
     "metadata": {},
     "output_type": "execute_result"
    }
   ],
   "source": [
    "image.shape, label.shape"
   ]
  },
  {
   "cell_type": "code",
   "execution_count": null,
   "metadata": {},
   "outputs": [],
   "source": [
    "# (torch.Size([1, 1, 28, 28]), torch.Size([1]))\n",
    "#              ↑\n",
    "#      [batchsize, channel, height, width]"
   ]
  },
  {
   "cell_type": "code",
   "execution_count": 8,
   "metadata": {},
   "outputs": [
    {
     "data": {
      "image/png": "[encoded data removed]",
      "text/plain": [
       "<Figure size 432x288 with 1 Axes>"
      ]
     },
     "metadata": {
      "needs_background": "light"
     },
     "output_type": "display_data"
    }
   ],
   "source": [
    "plt.imshow(image[0, 0, :, :], 'gray')\n",
    "plt.show()"
   ]
  },
  {
   "cell_type": "code",
   "execution_count": 9,
   "metadata": {},
   "outputs": [],
   "source": [
    "# 첫번재 이미지 는 '5'\n",
    "# 이제 PyTorch 의 각 레이어들을 거치면서 이 이미지가 어덯게 변해가는지 보도록 하자."
   ]
  },
  {
   "cell_type": "markdown",
   "metadata": {},
   "source": [
    "# 각 Layer 들\n",
    "- Network 쌓기 위한 준비"
   ]
  },
  {
   "cell_type": "code",
   "execution_count": 10,
   "metadata": {},
   "outputs": [],
   "source": [
    "import torch\n",
    "import torch.nn as nn  # nn 레이어 와\n",
    "import torch.nn.functional as F  # F (레이어) 를 사용하게 된다"
   ]
  },
  {
   "cell_type": "code",
   "execution_count": null,
   "metadata": {},
   "outputs": [],
   "source": []
  },
  {
   "cell_type": "markdown",
   "metadata": {},
   "source": [
    "## Convolution\n",
    "- in_channels: 받게 될 channel의 갯수\n",
    "- out_channels: 보내고 싶은 channel의 갯수  \n",
    "- kernel_size: 만들고 싶은 kernel(weights)의 사이즈"
   ]
  },
  {
   "cell_type": "code",
   "execution_count": 12,
   "metadata": {},
   "outputs": [
    {
     "data": {
      "text/plain": [
       "Conv2d(1, 20, kernel_size=(5, 5), stride=(1, 1))"
      ]
     },
     "execution_count": 12,
     "metadata": {},
     "output_type": "execute_result"
    }
   ],
   "source": [
    "# PyTorch 의 Convolution\n",
    "nn.Conv2d(in_channels=1, out_channels=20, kernel_size=5, stride=1)"
   ]
  },
  {
   "cell_type": "code",
   "execution_count": 13,
   "metadata": {},
   "outputs": [],
   "source": [
    "# ↑ TensorFlow 에서 봤을때와 좀 다르죠.\n",
    "\n",
    "#  TensorFlow 에선 out channel 만 나왔습니다.  (얼마나 내보낼 것인지)\n",
    "#  PyTorch 는 앞에서 몇개를 받을지도 지정해주어야 하는 것입니다. (in_channeles)\n",
    "#  위 이미지의 채널은 1 이었습니다'  >> torch.Size([1, 1, 28, 28])\n",
    "#  그리고 이것을 20개로 내보냅니다 (out_channels)\n",
    "\n",
    "#  kernel_size = 5   TensorFlow 때는 3x3 이었는데\n",
    "# PyTorch 공식예제 에선 5x5 로 되어 있어서 5로 주었습니다.\n",
    "\n",
    "# stride = 1"
   ]
  },
  {
   "cell_type": "code",
   "execution_count": 14,
   "metadata": {},
   "outputs": [
    {
     "data": {
      "text/plain": [
       "'cpu'"
      ]
     },
     "execution_count": 14,
     "metadata": {},
     "output_type": "execute_result"
    }
   ],
   "source": [
    "device = 'cuda' if torch.cuda.is_available() else 'cpu'\n",
    "device"
   ]
  },
  {
   "cell_type": "code",
   "execution_count": 15,
   "metadata": {},
   "outputs": [
    {
     "data": {
      "text/plain": [
       "Conv2d(1, 20, kernel_size=(5, 5), stride=(1, 1))"
      ]
     },
     "execution_count": 15,
     "metadata": {},
     "output_type": "execute_result"
    }
   ],
   "source": [
    "layer_conv1 = nn.Conv2d(1, 20, 5, 1).to(torch.device(device))\n",
    "layer_conv1"
   ]
  },
  {
   "cell_type": "markdown",
   "metadata": {},
   "source": [
    "#### weight 시각화를 위해 slice 하고 numpy화"
   ]
  },
  {
   "cell_type": "code",
   "execution_count": 18,
   "metadata": {},
   "outputs": [
    {
     "data": {
      "text/plain": [
       "torch.Size([20, 1, 5, 5])"
      ]
     },
     "execution_count": 18,
     "metadata": {},
     "output_type": "execute_result"
    }
   ],
   "source": [
    "# weight 확인\n",
    "weight = layer_conv1.weight\n",
    "weight.shape\n",
    "\n",
    "# torch.Size([20, 1, 5, 5])   <=  5 x 5 kernel 이 20개"
   ]
  },
  {
   "cell_type": "code",
   "execution_count": 20,
   "metadata": {},
   "outputs": [],
   "source": [
    "# weight.numpy()  # detach() 없이 numpy() 로 꺼내려 하면 에러"
   ]
  },
  {
   "cell_type": "markdown",
   "metadata": {},
   "source": [
    "- 여기서 weight는 '학습 가능한 상태'이기 때문에 바로 numpy로 뽑아낼 수 없음\n",
    "    - '학습 가능?' 유연한, 말랑말랑한 tensor..\n",
    "- detach() method는 그래프에서 잠깐 빼서 gradient에 영향을 받지 않게 함"
   ]
  },
  {
   "cell_type": "code",
   "execution_count": 22,
   "metadata": {},
   "outputs": [
    {
     "data": {
      "text/plain": [
       "array([[[[-1.27742007e-01,  1.98388889e-01,  1.99273869e-01,\n",
       "           1.63007244e-01,  7.27037340e-02],\n",
       "         [ 3.73584032e-02, -1.33896410e-01, -1.53720781e-01,\n",
       "           1.27926096e-01, -4.26620245e-02],\n",
       "         [ 1.62565723e-01, -1.81941584e-01,  1.64659187e-01,\n",
       "           1.41752973e-01, -1.78290531e-01],\n",
       "         [ 1.39423415e-01,  1.75433412e-01,  1.67319044e-01,\n",
       "           1.70543268e-01,  7.59668797e-02],\n",
       "         [ 5.05405217e-02,  1.97658375e-01,  1.96595207e-01,\n",
       "           1.37494251e-01,  9.27089900e-02]]],\n",
       "\n",
       "\n",
       "       [[[ 1.38099000e-01,  1.94875017e-01,  3.22503299e-02,\n",
       "          -1.81710914e-01,  8.91473740e-02],\n",
       "         [ 1.00149706e-01, -1.80500343e-01,  9.43104774e-02,\n",
       "           1.93830863e-01,  6.94935471e-02],\n",
       "         [-3.59088182e-02, -3.96839380e-02,  5.26999980e-02,\n",
       "           8.36485773e-02,  1.47889629e-01],\n",
       "         [-1.34626687e-01, -8.73132497e-02, -1.93963766e-01,\n",
       "          -7.51251727e-02,  5.98599762e-02],\n",
       "         [-1.85375676e-01, -1.78033516e-01, -1.35449260e-01,\n",
       "          -1.92264244e-01, -1.11121468e-01]]],\n",
       "\n",
       "\n",
       "       [[[-7.80372843e-02, -9.71916914e-02,  2.53160298e-03,\n",
       "          -1.65751740e-01, -1.94629893e-01],\n",
       "         [ 7.04395920e-02, -7.19921291e-02, -1.35281801e-01,\n",
       "           5.93584627e-02,  4.06269729e-03],\n",
       "         [-7.31697530e-02, -5.91245592e-02, -1.88357979e-01,\n",
       "          -1.68442726e-02,  8.34905356e-02],\n",
       "         [ 1.01520255e-01, -3.49572599e-02,  1.48954764e-01,\n",
       "           8.56022537e-03,  1.46311536e-01],\n",
       "         [-1.91062614e-01, -1.56382278e-01, -9.13879424e-02,\n",
       "           1.25463530e-01, -1.73636749e-01]]],\n",
       "\n",
       "\n",
       "       [[[-1.76918909e-01, -6.15033805e-02, -4.68145162e-02,\n",
       "          -2.38662064e-02, -1.86989427e-01],\n",
       "         [ 1.96368113e-01, -2.34357864e-02, -1.31856680e-01,\n",
       "           3.30750048e-02,  5.91850430e-02],\n",
       "         [ 1.23557448e-03, -9.37047228e-02,  1.29318222e-01,\n",
       "           1.86297670e-01, -1.19558692e-01],\n",
       "         [ 1.94316015e-01, -1.56407878e-01,  1.33500233e-01,\n",
       "           1.39173761e-01, -7.39530772e-02],\n",
       "         [-4.29581851e-02,  9.05169398e-02, -9.61483493e-02,\n",
       "          -1.73078850e-01,  1.08934835e-01]]],\n",
       "\n",
       "\n",
       "       [[[ 5.55462688e-02,  7.41255134e-02, -4.67557460e-02,\n",
       "           1.91782758e-01, -1.57621220e-01],\n",
       "         [ 1.04049519e-01, -1.83073327e-01,  6.83636963e-03,\n",
       "          -1.06033705e-01, -1.99052885e-01],\n",
       "         [ 1.52752981e-01,  1.89565048e-01, -5.64794540e-02,\n",
       "          -1.37300164e-01, -3.94946337e-02],\n",
       "         [-1.69808656e-01,  5.61238974e-02, -1.91973016e-01,\n",
       "          -4.65173274e-02,  1.29482403e-01],\n",
       "         [ 1.57739773e-01,  1.71579883e-01, -6.38064146e-02,\n",
       "           1.47940680e-01,  1.55811504e-01]]],\n",
       "\n",
       "\n",
       "       [[[-1.11864999e-01,  1.44808903e-01, -5.08009940e-02,\n",
       "           8.24433118e-02,  1.96375713e-01],\n",
       "         [-4.39308137e-02, -2.74947137e-02,  1.10739663e-01,\n",
       "           1.83474794e-01, -1.64008290e-01],\n",
       "         [-1.85280666e-01,  9.95321721e-02, -3.11130583e-02,\n",
       "           1.41558051e-03,  1.43793076e-02],\n",
       "         [ 8.52727741e-02, -6.15561754e-02,  1.41632214e-01,\n",
       "           1.90741718e-02,  4.58811820e-02],\n",
       "         [-1.96433291e-01, -1.19914867e-01,  1.97771296e-01,\n",
       "          -1.09385066e-01, -4.74780798e-02]]],\n",
       "\n",
       "\n",
       "       [[[ 8.71086121e-03, -7.03260303e-03, -2.40543783e-02,\n",
       "          -1.96695164e-01, -1.68032244e-01],\n",
       "         [-6.88571036e-02, -9.34284255e-02,  1.57539383e-01,\n",
       "          -8.88585374e-02, -4.41736281e-02],\n",
       "         [-1.57472879e-01,  1.41740158e-01,  1.28643513e-02,\n",
       "          -1.32421434e-01,  1.11170843e-01],\n",
       "         [-1.73276693e-01,  5.91662079e-02, -1.18065834e-01,\n",
       "           1.11582533e-01, -1.89376324e-02],\n",
       "         [ 1.82104781e-01,  9.63591784e-02, -1.54220983e-01,\n",
       "           5.24790436e-02, -1.35312855e-01]]],\n",
       "\n",
       "\n",
       "       [[[ 1.04802400e-02, -1.10888481e-01,  1.04532912e-01,\n",
       "           4.58949506e-02, -8.32693353e-02],\n",
       "         [ 1.59009144e-01,  1.24804527e-02,  1.16866007e-01,\n",
       "          -1.49819881e-01,  8.84437561e-03],\n",
       "         [ 2.56749392e-02,  1.29877627e-02, -1.50551006e-01,\n",
       "          -4.61465418e-02,  1.88581929e-01],\n",
       "         [-1.48701504e-01,  9.46313590e-02,  1.91608474e-01,\n",
       "           1.30994603e-01,  1.60792604e-01],\n",
       "         [ 8.75758082e-02,  5.48779964e-03,  1.79543570e-01,\n",
       "           5.05527407e-02,  5.11881262e-02]]],\n",
       "\n",
       "\n",
       "       [[[-1.57601833e-02, -1.61457226e-01,  1.09847486e-02,\n",
       "          -1.04144648e-01,  1.09232917e-01],\n",
       "         [ 1.44448981e-01, -1.38619840e-02,  1.49373308e-01,\n",
       "           8.94495696e-02,  6.84672445e-02],\n",
       "         [-8.66964608e-02, -1.98067471e-01, -1.36865944e-01,\n",
       "           3.21644098e-02,  9.20748860e-02],\n",
       "         [-3.50093842e-03, -1.75636172e-01, -5.06398380e-02,\n",
       "           1.69322237e-01,  1.66611716e-01],\n",
       "         [-9.95585471e-02,  5.51488996e-03,  1.57681391e-01,\n",
       "          -5.50984889e-02, -4.90762740e-02]]],\n",
       "\n",
       "\n",
       "       [[[-7.69133121e-02,  1.37508854e-01, -4.57238406e-02,\n",
       "          -9.86093506e-02,  2.33262330e-02],\n",
       "         [-2.87708938e-02, -2.49798000e-02, -1.09030560e-01,\n",
       "           1.95087656e-01, -1.74258783e-01],\n",
       "         [-7.89386556e-02, -3.81664336e-02, -6.04023933e-02,\n",
       "          -1.53609186e-01,  1.20413169e-01],\n",
       "         [ 1.30437300e-01, -5.41477948e-02, -1.78341985e-01,\n",
       "          -1.49941951e-01,  1.04547739e-02],\n",
       "         [-1.36120468e-01,  1.85140669e-02, -7.80924112e-02,\n",
       "          -2.44219750e-02, -8.86290818e-02]]],\n",
       "\n",
       "\n",
       "       [[[ 1.27014652e-01,  1.96715295e-02,  1.73041835e-01,\n",
       "           1.90180287e-01, -1.83417231e-01],\n",
       "         [-4.17990386e-02,  1.98713079e-01, -1.16984747e-01,\n",
       "           1.35466531e-01,  1.52608469e-01],\n",
       "         [ 1.68883845e-01,  1.54352471e-01, -1.41842410e-01,\n",
       "          -4.20603305e-02,  1.23402491e-01],\n",
       "         [-3.79064977e-02, -1.16681293e-01,  1.55095920e-01,\n",
       "          -1.42440885e-01,  3.22070420e-02],\n",
       "         [-5.48009574e-02,  1.75513729e-01,  8.92432481e-02,\n",
       "           8.71491432e-03, -9.21820179e-02]]],\n",
       "\n",
       "\n",
       "       [[[-4.46391106e-03, -1.52607992e-01, -9.67065319e-02,\n",
       "          -1.37910247e-01,  1.94192722e-01],\n",
       "         [ 2.04167366e-02,  2.31356919e-03,  1.88593790e-01,\n",
       "          -1.10875249e-01,  1.72219113e-01],\n",
       "         [-1.31027520e-01,  9.36207920e-02, -1.28098071e-01,\n",
       "           8.65709633e-02,  8.82225186e-02],\n",
       "         [-2.47209966e-02,  6.52917176e-02,  1.35765746e-01,\n",
       "          -1.14196353e-01, -1.31125152e-01],\n",
       "         [-1.54456645e-01,  3.05222720e-02, -2.35724747e-02,\n",
       "           1.81330189e-01,  2.75978744e-02]]],\n",
       "\n",
       "\n",
       "       [[[ 1.37731627e-01,  1.12817153e-01, -1.86821416e-01,\n",
       "          -7.98276663e-02,  1.18902937e-01],\n",
       "         [ 9.55780596e-02, -9.64792520e-02,  5.67308068e-03,\n",
       "           1.05611697e-01,  1.94141522e-01],\n",
       "         [ 1.57191053e-01,  6.29414469e-02,  3.84919643e-02,\n",
       "           8.65692943e-02,  9.61812884e-02],\n",
       "         [ 3.51620913e-02,  4.70753461e-02, -1.08890466e-01,\n",
       "           1.98444769e-01,  1.19363591e-01],\n",
       "         [-1.75801083e-01, -8.11606869e-02, -2.30845809e-03,\n",
       "          -1.34528473e-01, -1.91822648e-01]]],\n",
       "\n",
       "\n",
       "       [[[ 3.57574672e-02, -4.45070565e-02,  3.02489698e-02,\n",
       "          -1.90315202e-01,  1.97115555e-01],\n",
       "         [ 1.59531221e-01,  1.86183140e-01, -9.26028490e-02,\n",
       "           8.05148929e-02, -8.61927792e-02],\n",
       "         [-4.94734943e-03, -3.55351418e-02,  1.19868740e-01,\n",
       "           1.19955912e-01, -1.72742441e-01],\n",
       "         [-1.27351582e-01, -1.02790140e-01,  9.67483371e-02,\n",
       "           3.82229835e-02,  1.02947965e-01],\n",
       "         [ 1.34910837e-01, -1.18577123e-01, -1.25384212e-01,\n",
       "           1.53708890e-01, -7.05889165e-02]]],\n",
       "\n",
       "\n",
       "       [[[-1.70852393e-02,  1.09584630e-02,  3.55025977e-02,\n",
       "           1.46685854e-01, -1.59489319e-01],\n",
       "         [-2.03375816e-02, -1.14838332e-02, -1.62701324e-01,\n",
       "          -3.17087919e-02,  9.29776579e-02],\n",
       "         [-1.49307221e-01, -3.61371338e-02, -1.79921195e-01,\n",
       "           1.16331652e-01, -1.53949708e-02],\n",
       "         [ 7.04062134e-02, -1.11113027e-01,  7.65188187e-02,\n",
       "           1.86607242e-04, -1.44237250e-01],\n",
       "         [ 1.61763445e-01,  3.09719145e-02, -1.91107869e-01,\n",
       "           1.20018855e-01,  1.26745209e-01]]],\n",
       "\n",
       "\n",
       "       [[[-1.40867859e-01, -5.33261746e-02,  2.64275074e-02,\n",
       "           1.50557309e-02, -1.77668676e-01],\n",
       "         [-9.58820581e-02,  1.32942632e-01,  2.63905227e-02,\n",
       "           4.94327098e-02,  6.14505559e-02],\n",
       "         [-7.52940699e-02, -6.02022856e-02,  2.24772692e-02,\n",
       "          -1.74085811e-01, -1.17123425e-02],\n",
       "         [ 7.69280046e-02, -1.60104796e-01,  1.06473789e-01,\n",
       "          -1.88314915e-01, -1.23931579e-01],\n",
       "         [ 3.01548541e-02, -3.21658850e-02, -2.09854394e-02,\n",
       "          -1.22010253e-01, -1.70699596e-01]]],\n",
       "\n",
       "\n",
       "       [[[ 1.13553599e-01, -6.93326443e-02, -3.39297056e-02,\n",
       "           1.51006475e-01,  1.67688176e-01],\n",
       "         [ 1.76872090e-01, -1.47699669e-01, -3.47851962e-02,\n",
       "          -8.04556832e-02, -1.89299613e-01],\n",
       "         [ 6.68984503e-02, -1.19477607e-01,  6.08880669e-02,\n",
       "          -2.52437145e-02,  8.93815011e-02],\n",
       "         [-2.40478516e-02, -1.04882315e-01,  1.20763913e-01,\n",
       "           1.60548672e-01,  3.49135846e-02],\n",
       "         [ 1.58521309e-01, -1.38888836e-01, -1.99670196e-01,\n",
       "          -1.42525941e-01, -8.97915587e-02]]],\n",
       "\n",
       "\n",
       "       [[[-7.75613785e-02,  1.01732120e-01,  1.49444953e-01,\n",
       "          -1.36215776e-01,  1.47152439e-01],\n",
       "         [ 7.91320354e-02,  1.10472098e-01, -5.39305955e-02,\n",
       "           1.85876831e-01,  1.21328667e-01],\n",
       "         [ 1.16630793e-02, -3.63937616e-02, -6.62586391e-02,\n",
       "           1.41198635e-02, -9.27699357e-02],\n",
       "         [-1.27278775e-01, -9.36711058e-02,  9.20643061e-02,\n",
       "           1.66000053e-01,  1.48755893e-01],\n",
       "         [-4.28890735e-02, -1.00528553e-01,  1.71981603e-02,\n",
       "          -1.11713484e-01, -1.32218301e-01]]],\n",
       "\n",
       "\n",
       "       [[[-7.49675333e-02, -5.45179397e-02, -1.26979768e-01,\n",
       "          -4.62053269e-02, -9.50306877e-02],\n",
       "         [ 1.17387369e-01, -8.99775326e-03,  1.44667193e-01,\n",
       "           8.23142976e-02, -9.15519744e-02],\n",
       "         [ 1.23582646e-01,  1.02828667e-01,  1.87818363e-01,\n",
       "           5.73317558e-02,  1.81092471e-02],\n",
       "         [-1.15720585e-01,  7.92083591e-02,  4.23937142e-02,\n",
       "           7.45889992e-02,  1.34036079e-01],\n",
       "         [-7.37133920e-02,  1.26261264e-02,  8.31273943e-02,\n",
       "          -1.21578075e-01, -3.17377746e-02]]],\n",
       "\n",
       "\n",
       "       [[[ 1.84806272e-01, -7.05330074e-02,  7.06398636e-02,\n",
       "          -6.92592561e-02, -3.09797078e-02],\n",
       "         [-1.46813512e-01, -1.60725027e-01, -7.28577822e-02,\n",
       "           2.86526233e-02,  7.73280412e-02],\n",
       "         [ 1.10754520e-02, -1.44384548e-01, -1.26009852e-01,\n",
       "          -1.44061282e-01, -1.45308778e-01],\n",
       "         [ 1.96732536e-01,  9.40170884e-03,  2.84067094e-02,\n",
       "           2.35752761e-02, -1.30378008e-01],\n",
       "         [-1.55521035e-01, -1.10838845e-01,  7.26304501e-02,\n",
       "          -1.69640660e-01,  1.20009229e-01]]]], dtype=float32)"
      ]
     },
     "execution_count": 22,
     "metadata": {},
     "output_type": "execute_result"
    }
   ],
   "source": [
    "weight = weight.detach().numpy()\n",
    "weight"
   ]
  },
  {
   "cell_type": "code",
   "execution_count": 24,
   "metadata": {},
   "outputs": [
    {
     "data": {
      "text/plain": [
       "(20, 1, 5, 5)"
      ]
     },
     "execution_count": 24,
     "metadata": {},
     "output_type": "execute_result"
    }
   ],
   "source": [
    "weight.shape"
   ]
  },
  {
   "cell_type": "code",
   "execution_count": 25,
   "metadata": {},
   "outputs": [
    {
     "data": {
      "text/plain": [
       "array([[-0.127742  ,  0.19838889,  0.19927387,  0.16300724,  0.07270373],\n",
       "       [ 0.0373584 , -0.13389641, -0.15372078,  0.1279261 , -0.04266202],\n",
       "       [ 0.16256572, -0.18194158,  0.16465919,  0.14175297, -0.17829053],\n",
       "       [ 0.13942342,  0.17543341,  0.16731904,  0.17054327,  0.07596688],\n",
       "       [ 0.05054052,  0.19765837,  0.1965952 ,  0.13749425,  0.09270899]],\n",
       "      dtype=float32)"
      ]
     },
     "execution_count": 25,
     "metadata": {},
     "output_type": "execute_result"
    }
   ],
   "source": [
    "weight[0, 0, :, :]"
   ]
  },
  {
   "cell_type": "code",
   "execution_count": 30,
   "metadata": {},
   "outputs": [
    {
     "data": {
      "image/png": "[encoded data removed]",
      "text/plain": [
       "<Figure size 432x288 with 2 Axes>"
      ]
     },
     "metadata": {
      "needs_background": "light"
     },
     "output_type": "display_data"
    }
   ],
   "source": [
    "# 20개 중에서 첫번째것만 시각화 해봅시다\n",
    "plt.imshow(weight[0, 0, :, :], 'jet')\n",
    "plt.colorbar()\n",
    "plt.show()\n",
    "\n",
    "# ↓ 파란색 부분의 weight 가 낮은거고, 빨간색 부분은 높은 겁니다."
   ]
  },
  {
   "cell_type": "markdown",
   "metadata": {},
   "source": [
    "### Output 시각화\n",
    "Convolution 을 통과한 후의 시각화"
   ]
  },
  {
   "cell_type": "code",
   "execution_count": 32,
   "metadata": {},
   "outputs": [
    {
     "data": {
      "text/plain": [
       "torch.Size([1, 20, 24, 24])"
      ]
     },
     "execution_count": 32,
     "metadata": {},
     "output_type": "execute_result"
    }
   ],
   "source": [
    "output_data = layer_conv1(image)\n",
    "output_data.shape"
   ]
  },
  {
   "cell_type": "code",
   "execution_count": 34,
   "metadata": {},
   "outputs": [],
   "source": [
    "output_data = output_data.data"
   ]
  },
  {
   "cell_type": "code",
   "execution_count": 35,
   "metadata": {},
   "outputs": [],
   "source": [
    "# cpu() 로 컴파일 하고 numpy() 로 변환\n",
    "output = output_data.cpu().numpy()"
   ]
  },
  {
   "cell_type": "code",
   "execution_count": 36,
   "metadata": {},
   "outputs": [
    {
     "data": {
      "text/plain": [
       "array([[[[ 0.0014033 ,  0.0014033 ,  0.0014033 , ...,  0.0014033 ,\n",
       "           0.0014033 ,  0.0014033 ],\n",
       "         [ 0.0014033 ,  0.0014033 ,  0.0014033 , ...,  0.34131327,\n",
       "           0.14879987,  0.02657446],\n",
       "         [ 0.0014033 ,  0.0014033 ,  0.0014033 , ...,  0.6425438 ,\n",
       "           0.31208238,  0.08352631],\n",
       "         ...,\n",
       "         [ 0.00346415,  0.07804624,  0.30531958, ...,  0.0014033 ,\n",
       "           0.0014033 ,  0.0014033 ],\n",
       "         [-0.1028866 , -0.10107134,  0.07342426, ...,  0.0014033 ,\n",
       "           0.0014033 ,  0.0014033 ],\n",
       "         [-0.00566858,  0.11150095,  0.22138031, ...,  0.0014033 ,\n",
       "           0.0014033 ,  0.0014033 ]],\n",
       "\n",
       "        [[-0.17634247, -0.17634247, -0.17634247, ..., -0.17634247,\n",
       "          -0.17634247, -0.17634247],\n",
       "         [-0.17634247, -0.17634247, -0.17634247, ..., -0.6016253 ,\n",
       "          -0.4445701 , -0.26866683],\n",
       "         [-0.17634247, -0.17634247, -0.17634247, ..., -0.83820826,\n",
       "          -0.5366718 , -0.2899175 ],\n",
       "         ...,\n",
       "         [-0.11251938, -0.03922389, -0.09117059, ..., -0.17634247,\n",
       "          -0.17634247, -0.17634247],\n",
       "         [-0.08247919,  0.10368055,  0.30045184, ..., -0.17634247,\n",
       "          -0.17634247, -0.17634247],\n",
       "         [-0.12005138,  0.01692071,  0.09861477, ..., -0.17634247,\n",
       "          -0.17634247, -0.17634247]],\n",
       "\n",
       "        [[-0.06415772, -0.06415772, -0.06415772, ..., -0.06415772,\n",
       "          -0.06415772, -0.06415772],\n",
       "         [-0.06415772, -0.06415772, -0.06415772, ..., -0.45221132,\n",
       "          -0.3271107 , -0.1593144 ],\n",
       "         [-0.06415772, -0.06415772, -0.06415772, ..., -0.24615791,\n",
       "          -0.1685881 , -0.06154963],\n",
       "         ...,\n",
       "         [ 0.03188286,  0.13825382,  0.19123636, ..., -0.06415772,\n",
       "          -0.06415772, -0.06415772],\n",
       "         [-0.01875317,  0.02523751, -0.09777025, ..., -0.06415772,\n",
       "          -0.06415772, -0.06415772],\n",
       "         [-0.10396995, -0.1954992 , -0.35713494, ..., -0.06415772,\n",
       "          -0.06415772, -0.06415772]],\n",
       "\n",
       "        ...,\n",
       "\n",
       "        [[ 0.00544393,  0.00544393,  0.00544393, ...,  0.00544393,\n",
       "           0.00544393,  0.00544393],\n",
       "         [ 0.00544393,  0.00544393,  0.00544393, ..., -0.12625451,\n",
       "          -0.08616676, -0.01591651],\n",
       "         [ 0.00544393,  0.00544393,  0.00544393, ..., -0.27997658,\n",
       "          -0.22252189, -0.06871021],\n",
       "         ...,\n",
       "         [ 0.06477121,  0.18203771,  0.28840983, ...,  0.00544393,\n",
       "           0.00544393,  0.00544393],\n",
       "         [-0.01786444,  0.04286066,  0.12373418, ...,  0.00544393,\n",
       "           0.00544393,  0.00544393],\n",
       "         [ 0.10189132,  0.29483122,  0.3522488 , ...,  0.00544393,\n",
       "           0.00544393,  0.00544393]],\n",
       "\n",
       "        [[-0.19095297, -0.19095297, -0.19095297, ..., -0.19095297,\n",
       "          -0.19095297, -0.19095297],\n",
       "         [-0.19095297, -0.19095297, -0.19095297, ..., -0.21103567,\n",
       "          -0.25606546, -0.22766513],\n",
       "         [-0.19095297, -0.19095297, -0.19095297, ..., -0.24827325,\n",
       "          -0.3167944 , -0.26708698],\n",
       "         ...,\n",
       "         [-0.11556114,  0.00639318,  0.12741375, ..., -0.19095297,\n",
       "          -0.19095297, -0.19095297],\n",
       "         [-0.2010412 , -0.18640746, -0.01705756, ..., -0.19095297,\n",
       "          -0.19095297, -0.19095297],\n",
       "         [-0.2602775 , -0.31195092, -0.26573938, ..., -0.19095297,\n",
       "          -0.19095297, -0.19095297]],\n",
       "\n",
       "        [[ 0.05952202,  0.05952202,  0.05952202, ...,  0.05952202,\n",
       "           0.05952202,  0.05952202],\n",
       "         [ 0.05952202,  0.05952202,  0.05952202, ..., -0.16718777,\n",
       "          -0.14632201, -0.01793356],\n",
       "         [ 0.05952202,  0.05952202,  0.05952202, ...,  0.06538616,\n",
       "           0.10801874,  0.1184698 ],\n",
       "         ...,\n",
       "         [-0.04135403, -0.18634418, -0.27896717, ...,  0.05952202,\n",
       "           0.05952202,  0.05952202],\n",
       "         [-0.00129741, -0.10314126, -0.2248246 , ...,  0.05952202,\n",
       "           0.05952202,  0.05952202],\n",
       "         [ 0.09408174,  0.11569057,  0.06687745, ...,  0.05952202,\n",
       "           0.05952202,  0.05952202]]]], dtype=float32)"
      ]
     },
     "execution_count": 36,
     "metadata": {},
     "output_type": "execute_result"
    }
   ],
   "source": [
    "output  # numpy 데이터로 담겨 있다."
   ]
  },
  {
   "cell_type": "code",
   "execution_count": 37,
   "metadata": {},
   "outputs": [
    {
     "data": {
      "text/plain": [
       "(1, 20, 24, 24)"
      ]
     },
     "execution_count": 37,
     "metadata": {},
     "output_type": "execute_result"
    }
   ],
   "source": [
    "# Convolution 레이어를 통과한 이미지\n",
    "output.shape"
   ]
  },
  {
   "cell_type": "markdown",
   "metadata": {},
   "source": [
    "#### Input 으로 들어간 이미지 numpy 화"
   ]
  },
  {
   "cell_type": "code",
   "execution_count": 38,
   "metadata": {},
   "outputs": [
    {
     "data": {
      "text/plain": [
       "(1, 1, 28, 28)"
      ]
     },
     "execution_count": 38,
     "metadata": {},
     "output_type": "execute_result"
    }
   ],
   "source": [
    "image_arr = image.numpy()\n",
    "image_arr.shape"
   ]
  },
  {
   "cell_type": "code",
   "execution_count": null,
   "metadata": {},
   "outputs": [],
   "source": [
    "# 위 3개를 가지고 시각화 해보자\n",
    "# image_arr : 입력\n",
    "# output : 출력\n",
    "# weight : 파라미터"
   ]
  },
  {
   "cell_type": "code",
   "execution_count": 42,
   "metadata": {},
   "outputs": [
    {
     "data": {
      "image/png": "[encoded data removed]",
      "text/plain": [
       "<Figure size 1080x2160 with 3 Axes>"
      ]
     },
     "metadata": {
      "needs_background": "light"
     },
     "output_type": "display_data"
    }
   ],
   "source": [
    "plt.figure(figsize=(15, 30))\n",
    "\n",
    "\n",
    "plt.subplot(131)\n",
    "plt.title(\"Input\")\n",
    "plt.imshow(np.squeeze(image_arr), 'gray')\n",
    "\n",
    "plt.subplot(132)\n",
    "plt.title(\"Weight\")\n",
    "plt.imshow(weight[0, 0, :, :], 'jet')\n",
    "\n",
    "plt.subplot(133)\n",
    "plt.title(\"Output\")\n",
    "plt.imshow(output[0, 0, :, :], 'gray')\n",
    "\n",
    "plt.show()\n"
   ]
  },
  {
   "cell_type": "markdown",
   "metadata": {},
   "source": [
    "## Pooling\n",
    "input 을 먼저 앞에 두고, 뒤에 kernel 사이즈와 stride 를 순서대로 넣음"
   ]
  },
  {
   "cell_type": "code",
   "execution_count": 43,
   "metadata": {},
   "outputs": [
    {
     "data": {
      "text/plain": [
       "torch.Size([1, 1, 28, 28])"
      ]
     },
     "execution_count": 43,
     "metadata": {},
     "output_type": "execute_result"
    }
   ],
   "source": [
    "image.shape"
   ]
  },
  {
   "cell_type": "code",
   "execution_count": null,
   "metadata": {},
   "outputs": [],
   "source": [
    "\n",
    "# nn 은, 그 안에 weight 가 있는 레이어들.\n",
    "# functional 은 weight 가 없는 레이어들 (max pooling, activation 함수들..)"
   ]
  },
  {
   "cell_type": "code",
   "execution_count": 44,
   "metadata": {},
   "outputs": [
    {
     "data": {
      "text/plain": [
       "torch.Size([1, 1, 14, 14])"
      ]
     },
     "execution_count": 44,
     "metadata": {},
     "output_type": "execute_result"
    }
   ],
   "source": [
    "pool = F.max_pool2d(image, 2, 2)\n",
    "pool.shape"
   ]
  },
  {
   "cell_type": "code",
   "execution_count": 45,
   "metadata": {},
   "outputs": [],
   "source": [
    "# torch.Size([1, 1, 28, 28])\n",
    "#     ↓\n",
    "# torch.Size([1, 1, 14, 14])   # 반으로 줄어든거 확인할수 있다!"
   ]
  },
  {
   "cell_type": "code",
   "execution_count": 46,
   "metadata": {},
   "outputs": [],
   "source": [
    "# MaxPool layer 는 weight가 없기 때문에 (즉 학습되는게 아니기에)  detach() 없이 곧바로 numpy() 가능"
   ]
  },
  {
   "cell_type": "code",
   "execution_count": 47,
   "metadata": {},
   "outputs": [
    {
     "data": {
      "text/plain": [
       "array([[[[0.        , 0.        , 0.        , 0.        , 0.        ,\n",
       "          0.        , 0.        , 0.        , 0.        , 0.        ,\n",
       "          0.        , 0.        , 0.        , 0.        ],\n",
       "         [0.        , 0.        , 0.        , 0.        , 0.        ,\n",
       "          0.        , 0.        , 0.        , 0.        , 0.        ,\n",
       "          0.        , 0.        , 0.        , 0.        ],\n",
       "         [0.        , 0.        , 0.        , 0.        , 0.        ,\n",
       "          0.        , 0.07058824, 0.07058824, 0.53333336, 0.6862745 ,\n",
       "          1.        , 0.96862745, 0.        , 0.        ],\n",
       "         [0.        , 0.        , 0.        , 0.19215687, 0.99215686,\n",
       "          0.99215686, 0.99215686, 0.99215686, 0.99215686, 0.88235295,\n",
       "          0.99215686, 0.7647059 , 0.        , 0.        ],\n",
       "         [0.        , 0.        , 0.        , 0.07058824, 0.99215686,\n",
       "          0.99215686, 0.99215686, 0.7764706 , 0.96862745, 0.        ,\n",
       "          0.        , 0.        , 0.        , 0.        ],\n",
       "         [0.        , 0.        , 0.        , 0.        , 0.05490196,\n",
       "          0.6039216 , 0.99215686, 0.00784314, 0.        , 0.        ,\n",
       "          0.        , 0.        , 0.        , 0.        ],\n",
       "         [0.        , 0.        , 0.        , 0.        , 0.        ,\n",
       "          0.04313726, 0.99215686, 0.88235295, 0.42352942, 0.        ,\n",
       "          0.        , 0.        , 0.        , 0.        ],\n",
       "         [0.        , 0.        , 0.        , 0.        , 0.        ,\n",
       "          0.        , 0.31764707, 0.99215686, 0.99215686, 0.5882353 ,\n",
       "          0.        , 0.        , 0.        , 0.        ],\n",
       "         [0.        , 0.        , 0.        , 0.        , 0.        ,\n",
       "          0.        , 0.        , 0.0627451 , 0.9882353 , 0.99215686,\n",
       "          0.2509804 , 0.        , 0.        , 0.        ],\n",
       "         [0.        , 0.        , 0.        , 0.        , 0.        ,\n",
       "          0.        , 0.5803922 , 0.99215686, 0.99215686, 0.99215686,\n",
       "          0.00784314, 0.        , 0.        , 0.        ],\n",
       "         [0.        , 0.        , 0.        , 0.        , 0.25882354,\n",
       "          0.99215686, 0.99215686, 0.99215686, 0.99215686, 0.30588236,\n",
       "          0.        , 0.        , 0.        , 0.        ],\n",
       "         [0.        , 0.        , 0.6745098 , 0.99215686, 0.99215686,\n",
       "          0.99215686, 0.99215686, 0.3137255 , 0.        , 0.        ,\n",
       "          0.        , 0.        , 0.        , 0.        ],\n",
       "         [0.        , 0.        , 0.99215686, 0.99215686, 0.83137256,\n",
       "          0.5176471 , 0.        , 0.        , 0.        , 0.        ,\n",
       "          0.        , 0.        , 0.        , 0.        ],\n",
       "         [0.        , 0.        , 0.        , 0.        , 0.        ,\n",
       "          0.        , 0.        , 0.        , 0.        , 0.        ,\n",
       "          0.        , 0.        , 0.        , 0.        ]]]],\n",
       "      dtype=float32)"
      ]
     },
     "execution_count": 47,
     "metadata": {},
     "output_type": "execute_result"
    }
   ],
   "source": [
    "pool_arr = pool.numpy()\n",
    "pool_arr"
   ]
  },
  {
   "cell_type": "code",
   "execution_count": 48,
   "metadata": {},
   "outputs": [
    {
     "data": {
      "text/plain": [
       "(1, 1, 14, 14)"
      ]
     },
     "execution_count": 48,
     "metadata": {},
     "output_type": "execute_result"
    }
   ],
   "source": [
    "pool_arr.shape"
   ]
  },
  {
   "cell_type": "code",
   "execution_count": 49,
   "metadata": {},
   "outputs": [
    {
     "data": {
      "text/plain": [
       "(1, 1, 28, 28)"
      ]
     },
     "execution_count": 49,
     "metadata": {},
     "output_type": "execute_result"
    }
   ],
   "source": [
    "image_arr.shape"
   ]
  },
  {
   "cell_type": "code",
   "execution_count": 50,
   "metadata": {},
   "outputs": [
    {
     "data": {
      "image/png": "[encoded data removed]",
      "text/plain": [
       "<Figure size 720x1080 with 2 Axes>"
      ]
     },
     "metadata": {
      "needs_background": "light"
     },
     "output_type": "display_data"
    }
   ],
   "source": [
    "# 이를 비교하는 시각화 \n",
    "plt.figure(figsize=(10, 15))\n",
    "\n",
    "plt.subplot(121)\n",
    "plt.title(\"Input\")\n",
    "plt.imshow(np.squeeze(image_arr), 'gray')\n",
    "\n",
    "plt.subplot(122)\n",
    "plt.title(\"Ouput\")\n",
    "plt.imshow(np.squeeze(pool_arr), 'gray')\n",
    "\n",
    "plt.show()"
   ]
  },
  {
   "cell_type": "code",
   "execution_count": 51,
   "metadata": {},
   "outputs": [],
   "source": [
    "# ↑ 이미지가 '반' 으로 줄어들면서 강하게 자극 받는 output 을 확인할수 있다"
   ]
  },
  {
   "cell_type": "markdown",
   "metadata": {},
   "source": [
    "## nn.Linear()\n",
    "- nn.Linear는 2d가 아닌 1d만 들어가기 때문에 .view() 1D로 펼쳐줘야함\n",
    "- TensorFlow 처럼 Flatten 이라는 레이어가 따로 있는게 아니라서  \n",
    "    - 우선, reshape 나 view 를 사용해서 펼쳐 준뒤, Linear() 에 넣어야 합니다"
   ]
  },
  {
   "cell_type": "code",
   "execution_count": 52,
   "metadata": {},
   "outputs": [
    {
     "data": {
      "text/plain": [
       "torch.Size([1, 1, 28, 28])"
      ]
     },
     "execution_count": 52,
     "metadata": {},
     "output_type": "execute_result"
    }
   ],
   "source": [
    "image.shape"
   ]
  },
  {
   "cell_type": "code",
   "execution_count": 54,
   "metadata": {},
   "outputs": [
    {
     "data": {
      "text/plain": [
       "torch.Size([1, 784])"
      ]
     },
     "execution_count": 54,
     "metadata": {},
     "output_type": "execute_result"
    }
   ],
   "source": [
    "flatten = image.view(1, 28 * 28)  # batch size 는 유지해줌\n",
    "flatten.shape"
   ]
  },
  {
   "cell_type": "code",
   "execution_count": 55,
   "metadata": {},
   "outputs": [
    {
     "data": {
      "text/plain": [
       "torch.Size([1, 10])"
      ]
     },
     "execution_count": 55,
     "metadata": {},
     "output_type": "execute_result"
    }
   ],
   "source": [
    "# Linear 에 넣어 봅니다.\n",
    "lin = nn.Linear(in_features=784, out_features=10)(flatten)  # flatten 의 784 개를 받아서 10개로 내보냄.\n",
    "lin.shape"
   ]
  },
  {
   "cell_type": "code",
   "execution_count": 56,
   "metadata": {},
   "outputs": [
    {
     "data": {
      "text/plain": [
       "tensor([[-0.2796,  0.2318,  0.0938, -0.1894, -0.0685, -0.1086, -0.0106,  0.2879,\n",
       "          0.0518,  0.0269]], grad_fn=<AddmmBackward>)"
      ]
     },
     "execution_count": 56,
     "metadata": {},
     "output_type": "execute_result"
    }
   ],
   "source": [
    "lin"
   ]
  },
  {
   "cell_type": "code",
   "execution_count": 57,
   "metadata": {},
   "outputs": [],
   "source": [
    "# Linear 에는 weight 가 있기 때문에  numpy 객체 확인하려면 우선 detach 해주어야 한다"
   ]
  },
  {
   "cell_type": "code",
   "execution_count": 58,
   "metadata": {},
   "outputs": [
    {
     "data": {
      "image/png": "[encoded data removed]",
      "text/plain": [
       "<Figure size 432x288 with 1 Axes>"
      ]
     },
     "metadata": {
      "needs_background": "light"
     },
     "output_type": "display_data"
    }
   ],
   "source": [
    "# 시각화\n",
    "plt.imshow(lin.detach().numpy(), 'jet')\n",
    "plt.show()"
   ]
  },
  {
   "cell_type": "markdown",
   "metadata": {},
   "source": [
    "## F.softmax()"
   ]
  },
  {
   "cell_type": "code",
   "execution_count": 59,
   "metadata": {},
   "outputs": [
    {
     "data": {
      "text/plain": [
       "torch.Size([1, 10])"
      ]
     },
     "execution_count": 59,
     "metadata": {},
     "output_type": "execute_result"
    }
   ],
   "source": [
    "lin.shape"
   ]
  },
  {
   "cell_type": "code",
   "execution_count": 60,
   "metadata": {},
   "outputs": [],
   "source": [
    "# 이번에는 detach() 말고 no_grad 를 사용하여 꺼내봅니다."
   ]
  },
  {
   "cell_type": "code",
   "execution_count": 61,
   "metadata": {},
   "outputs": [],
   "source": [
    "with torch.no_grad():\n",
    "    flatten = image.view(1, 28 * 28)\n",
    "    lin = nn.Linear(784, 10)(flatten)\n",
    "    softmax = F.softmax(lin, dim=1)  #torch.Size([1, 10]) 중 뒤에 있는 10개를 softmax 할것이다. dim=1 \n",
    "    \n",
    "    # no_grad() 가 아니면 softmax() 값은 볼수 없다."
   ]
  },
  {
   "cell_type": "code",
   "execution_count": 62,
   "metadata": {},
   "outputs": [
    {
     "data": {
      "text/plain": [
       "tensor([[0.1511, 0.1079, 0.0842, 0.1115, 0.0615, 0.1004, 0.1151, 0.0844, 0.0890,\n",
       "         0.0950]])"
      ]
     },
     "execution_count": 62,
     "metadata": {},
     "output_type": "execute_result"
    }
   ],
   "source": [
    "softmax"
   ]
  },
  {
   "cell_type": "code",
   "execution_count": 65,
   "metadata": {},
   "outputs": [
    {
     "data": {
      "text/plain": [
       "0.9999999"
      ]
     },
     "execution_count": 65,
     "metadata": {},
     "output_type": "execute_result"
    }
   ],
   "source": [
    "np.sum(softmax.numpy())  # 합하면 1"
   ]
  },
  {
   "cell_type": "code",
   "execution_count": 67,
   "metadata": {},
   "outputs": [
    {
     "data": {
      "text/plain": [
       "tensor(0)"
      ]
     },
     "execution_count": 67,
     "metadata": {},
     "output_type": "execute_result"
    }
   ],
   "source": [
    "np.argmax(softmax)"
   ]
  },
  {
   "cell_type": "markdown",
   "metadata": {},
   "source": [
    "# Layer 쌓기"
   ]
  },
  {
   "cell_type": "code",
   "execution_count": 77,
   "metadata": {},
   "outputs": [],
   "source": [
    "class Net(nn.Module):\n",
    "    \n",
    "    # 생성자 에는 '학습(train)' 이 가능한 것, 즉 weight 가 들어있는 레이어\n",
    "    # 위 예제코드에선 Conv 와 Linear 가 그런 레이어었다.    \n",
    "    def __init__(self):\n",
    "        super(Net, self).__init__()\n",
    "        self.conv1 = nn.Conv2d(1, 20, 5, 1) # (in-channel, out-channel, kernel-size, stride)\n",
    "        self.conv2 = nn.Conv2d(20, 50, 5, 1)\n",
    "        self.fc1 = nn.Linear(4 * 4 * 50, 500)  # fc (fully connected)\n",
    "        self.fc2 = nn.Linear(500, 10)  # 최종적으로 10개의 class\n",
    "    \n",
    " \n",
    "    # 생성자에서 '학습' 이 가능한 레이어들을 만들어 놓았으니\n",
    "    # 이를 적용해준다   \n",
    "    def forward(self, x):\n",
    "        # 1. Feature Extraction \n",
    "        x = F.relu(self.conv1(x))  # Convolution 은 relu 를 거쳐 activate 시킨다\n",
    "        x = F.max_pool2d(x, 2, 2)    # (입력, kernel, stride)\n",
    "        x = F.relu(self.conv2(x))\n",
    "        x = F.max_pool2d(x, 2, 2)\n",
    "        \n",
    "        # 2. Fully Connected (Classification)\n",
    "    \n",
    "        # print(x.shape)  # torch.Size([1, 50, 4, 4])  batch size 와 관계없이 50 x 4 x 4 는 고정적이 된다.\n",
    "    \n",
    "        # 우선 펼쳐주어야 한다.\n",
    "        x = x.view(-1, 4 * 4 * 50)\n",
    "        x = F.relu(self.fc1(x))\n",
    "        x = self.fc2(x)\n",
    "        \n",
    "        # 마지막으로 softmax 로\n",
    "        return F.log_softmax(x, dim=1)"
   ]
  },
  {
   "cell_type": "markdown",
   "metadata": {},
   "source": [
    "#### Image 를 Model 에 넣어서 결과 확인"
   ]
  },
  {
   "cell_type": "code",
   "execution_count": 78,
   "metadata": {},
   "outputs": [],
   "source": [
    "model = Net()  # 모델 생성!"
   ]
  },
  {
   "cell_type": "code",
   "execution_count": 79,
   "metadata": {},
   "outputs": [
    {
     "data": {
      "text/plain": [
       "tensor([[-2.3213, -2.3014, -2.3332, -2.2448, -2.3009, -2.2671, -2.3502, -2.3877,\n",
       "         -2.3318, -2.2008]], grad_fn=<LogSoftmaxBackward>)"
      ]
     },
     "execution_count": 79,
     "metadata": {},
     "output_type": "execute_result"
    }
   ],
   "source": [
    "result = model.forward(image)\n",
    "result"
   ]
  },
  {
   "cell_type": "code",
   "execution_count": 80,
   "metadata": {},
   "outputs": [
    {
     "data": {
      "text/plain": [
       "Conv2d(1, 20, kernel_size=(5, 5), stride=(1, 1))"
      ]
     },
     "execution_count": 80,
     "metadata": {},
     "output_type": "execute_result"
    }
   ],
   "source": [
    "# 레이어 하나하나씩 불러올수도 있다.\n",
    "model.conv1"
   ]
  },
  {
   "cell_type": "code",
   "execution_count": 81,
   "metadata": {},
   "outputs": [
    {
     "data": {
      "text/plain": [
       "tensor([[[[ 0.0490,  0.0490,  0.0490,  ...,  0.0490,  0.0490,  0.0490],\n",
       "          [ 0.0490,  0.0490,  0.0490,  ...,  0.2532,  0.1753,  0.0705],\n",
       "          [ 0.0490,  0.0490,  0.0490,  ...,  0.2998,  0.2721,  0.1266],\n",
       "          ...,\n",
       "          [-0.0005, -0.1605, -0.3332,  ...,  0.0490,  0.0490,  0.0490],\n",
       "          [-0.0250, -0.0953, -0.0492,  ...,  0.0490,  0.0490,  0.0490],\n",
       "          [ 0.0764,  0.1578,  0.2356,  ...,  0.0490,  0.0490,  0.0490]],\n",
       "\n",
       "         [[ 0.0533,  0.0533,  0.0533,  ...,  0.0533,  0.0533,  0.0533],\n",
       "          [ 0.0533,  0.0533,  0.0533,  ...,  0.0504,  0.0345,  0.0417],\n",
       "          [ 0.0533,  0.0533,  0.0533,  ...,  0.1099,  0.1042,  0.0537],\n",
       "          ...,\n",
       "          [ 0.1681,  0.2176,  0.1487,  ...,  0.0533,  0.0533,  0.0533],\n",
       "          [ 0.1099,  0.1559,  0.1452,  ...,  0.0533,  0.0533,  0.0533],\n",
       "          [ 0.0214, -0.1346, -0.2270,  ...,  0.0533,  0.0533,  0.0533]],\n",
       "\n",
       "         [[-0.1687, -0.1687, -0.1687,  ..., -0.1687, -0.1687, -0.1687],\n",
       "          [-0.1687, -0.1687, -0.1687,  ...,  0.1558,  0.0304, -0.0862],\n",
       "          [-0.1687, -0.1687, -0.1687,  ...,  0.2554,  0.1506, -0.0418],\n",
       "          ...,\n",
       "          [-0.2558, -0.2460, -0.1333,  ..., -0.1687, -0.1687, -0.1687],\n",
       "          [-0.1482, -0.0495,  0.0959,  ..., -0.1687, -0.1687, -0.1687],\n",
       "          [-0.1180, -0.0847, -0.0981,  ..., -0.1687, -0.1687, -0.1687]],\n",
       "\n",
       "         ...,\n",
       "\n",
       "         [[ 0.1426,  0.1426,  0.1426,  ...,  0.1426,  0.1426,  0.1426],\n",
       "          [ 0.1426,  0.1426,  0.1426,  ...,  0.1347,  0.1530,  0.1754],\n",
       "          [ 0.1426,  0.1426,  0.1426,  ...,  0.1858,  0.1904,  0.1526],\n",
       "          ...,\n",
       "          [ 0.1557,  0.1969,  0.2109,  ...,  0.1426,  0.1426,  0.1426],\n",
       "          [ 0.0350, -0.1585, -0.1892,  ...,  0.1426,  0.1426,  0.1426],\n",
       "          [ 0.0263, -0.1571, -0.2692,  ...,  0.1426,  0.1426,  0.1426]],\n",
       "\n",
       "         [[-0.0390, -0.0390, -0.0390,  ..., -0.0390, -0.0390, -0.0390],\n",
       "          [-0.0390, -0.0390, -0.0390,  ...,  0.1216,  0.0927,  0.0315],\n",
       "          [-0.0390, -0.0390, -0.0390,  ...,  0.2612,  0.1290, -0.0129],\n",
       "          ...,\n",
       "          [ 0.0391,  0.0463,  0.0828,  ..., -0.0390, -0.0390, -0.0390],\n",
       "          [-0.0717, -0.0248,  0.1072,  ..., -0.0390, -0.0390, -0.0390],\n",
       "          [ 0.0109,  0.0225, -0.0545,  ..., -0.0390, -0.0390, -0.0390]],\n",
       "\n",
       "         [[ 0.0006,  0.0006,  0.0006,  ...,  0.0006,  0.0006,  0.0006],\n",
       "          [ 0.0006,  0.0006,  0.0006,  ...,  0.0356,  0.0264, -0.0324],\n",
       "          [ 0.0006,  0.0006,  0.0006,  ...,  0.2639,  0.1420,  0.0236],\n",
       "          ...,\n",
       "          [ 0.0833,  0.1905,  0.2026,  ...,  0.0006,  0.0006,  0.0006],\n",
       "          [-0.0584, -0.1845, -0.3104,  ...,  0.0006,  0.0006,  0.0006],\n",
       "          [-0.0282, -0.1132, -0.1549,  ...,  0.0006,  0.0006,  0.0006]]]],\n",
       "       grad_fn=<MkldnnConvolutionBackward>)"
      ]
     },
     "execution_count": 81,
     "metadata": {},
     "output_type": "execute_result"
    }
   ],
   "source": [
    "# 그 레이어에 데이터를 넣어볼수도 있다\n",
    "model.conv1(image)"
   ]
  },
  {
   "cell_type": "code",
   "execution_count": null,
   "metadata": {},
   "outputs": [],
   "source": []
  },
  {
   "cell_type": "code",
   "execution_count": null,
   "metadata": {},
   "outputs": [],
   "source": []
  },
  {
   "cell_type": "code",
   "execution_count": null,
   "metadata": {},
   "outputs": [],
   "source": []
  },
  {
   "cell_type": "code",
   "execution_count": null,
   "metadata": {},
   "outputs": [],
   "source": []
  },
  {
   "cell_type": "code",
   "execution_count": null,
   "metadata": {},
   "outputs": [],
   "source": []
  },
  {
   "cell_type": "code",
   "execution_count": null,
   "metadata": {},
   "outputs": [],
   "source": []
  },
  {
   "cell_type": "code",
   "execution_count": null,
   "metadata": {},
   "outputs": [],
   "source": []
  },
  {
   "cell_type": "code",
   "execution_count": null,
   "metadata": {},
   "outputs": [],
   "source": []
  },
  {
   "cell_type": "code",
   "execution_count": null,
   "metadata": {},
   "outputs": [],
   "source": []
  },
  {
   "cell_type": "code",
   "execution_count": null,
   "metadata": {},
   "outputs": [],
   "source": []
  }
 ],
 "metadata": {
  "kernelspec": {
   "display_name": "Python 3",
   "language": "python",
   "name": "python3"
  },
  "language_info": {
   "codemirror_mode": {
    "name": "ipython",
    "version": 3
   },
   "file_extension": ".py",
   "mimetype": "text/x-python",
   "name": "python",
   "nbconvert_exporter": "python",
   "pygments_lexer": "ipython3",
   "version": "3.8.5"
  }
 },
 "nbformat": 4,
 "nbformat_minor": 4
}
