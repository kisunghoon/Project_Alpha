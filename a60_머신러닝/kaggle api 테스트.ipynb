{
 "cells": [
  {
   "cell_type": "code",
   "execution_count": 1,
   "metadata": {},
   "outputs": [],
   "source": [
    "import os"
   ]
  },
  {
   "cell_type": "code",
   "execution_count": 2,
   "metadata": {},
   "outputs": [
    {
     "data": {
      "text/plain": [
       "'C:\\\\Program Files\\\\Java\\\\jdk-11.0.10'"
      ]
     },
     "execution_count": 2,
     "metadata": {},
     "output_type": "execute_result"
    }
   ],
   "source": [
    "os.environ['JAVA_HOME']"
   ]
  },
  {
   "cell_type": "code",
   "execution_count": 4,
   "metadata": {},
   "outputs": [],
   "source": [
    "os.environ['KAGGLE_USERNAME'] = 'fteam73'\n",
    "os.environ['KAGGLE_KEY'] = '86e169ab9a57be48fb2e40e9acda1890'"
   ]
  },
  {
   "cell_type": "code",
   "execution_count": 5,
   "metadata": {},
   "outputs": [
    {
     "name": "stderr",
     "output_type": "stream",
     "text": [
      "\n",
      "  0%|          | 0.00/12.4k [00:00<?, ?B/s]\n",
      "100%|##########| 12.4k/12.4k [00:00<00:00, 4.30MB/s]\n"
     ]
    },
    {
     "name": "stdout",
     "output_type": "stream",
     "text": [
      "Downloading netflix-original-films-imdb-scores.zip to D:\\DevRoot\\Dropbox\\App00\\PyWork\\a60_머신러닝\n",
      "\n"
     ]
    }
   ],
   "source": [
    "!kaggle datasets download -d luiscorter/netflix-original-films-imdb-scores"
   ]
  },
  {
   "cell_type": "code",
   "execution_count": 6,
   "metadata": {},
   "outputs": [
    {
     "name": "stdout",
     "output_type": "stream",
     "text": [
      " D 드라이브의 볼륨: 새 볼륨\n",
      " 볼륨 일련 번호: 0ABD-0946\n",
      "\n",
      " D:\\DevRoot\\Dropbox\\App00\\PyWork\\a60_머신러닝 디렉터리\n",
      "\n",
      "2021-06-04  오후 02:38    <DIR>          .\n",
      "2021-06-04  오후 02:38    <DIR>          ..\n",
      "2021-06-04  오후 02:34    <DIR>          .ipynb_checkpoints\n",
      "2021-06-04  오후 02:36             1,928 kaggle api 테스트.ipynb\n",
      "2021-06-04  오후 02:38            12,745 netflix-original-films-imdb-scores.zip\n",
      "               2개 파일              14,673 바이트\n",
      "               3개 디렉터리  446,112,391,168 바이트 남음\n"
     ]
    }
   ],
   "source": [
    "!dir"
   ]
  },
  {
   "cell_type": "code",
   "execution_count": null,
   "metadata": {},
   "outputs": [],
   "source": []
  },
  {
   "cell_type": "code",
   "execution_count": null,
   "metadata": {},
   "outputs": [],
   "source": []
  },
  {
   "cell_type": "code",
   "execution_count": null,
   "metadata": {},
   "outputs": [],
   "source": []
  },
  {
   "cell_type": "code",
   "execution_count": null,
   "metadata": {},
   "outputs": [],
   "source": []
  },
  {
   "cell_type": "code",
   "execution_count": null,
   "metadata": {},
   "outputs": [],
   "source": []
  }
 ],
 "metadata": {
  "kernelspec": {
   "display_name": "Python 3",
   "language": "python",
   "name": "python3"
  },
  "language_info": {
   "codemirror_mode": {
    "name": "ipython",
    "version": 3
   },
   "file_extension": ".py",
   "mimetype": "text/x-python",
   "name": "python",
   "nbconvert_exporter": "python",
   "pygments_lexer": "ipython3",
   "version": "3.8.5"
  }
 },
 "nbformat": 4,
 "nbformat_minor": 4
}
