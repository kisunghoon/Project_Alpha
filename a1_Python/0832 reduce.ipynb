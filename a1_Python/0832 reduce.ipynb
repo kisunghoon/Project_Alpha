{
 "cells": [
  {
   "cell_type": "markdown",
   "metadata": {},
   "source": [
    "# reduce()      N개 => 1개"
   ]
  },
  {
   "cell_type": "code",
   "execution_count": 1,
   "metadata": {},
   "outputs": [],
   "source": [
    "from functools import reduce\n",
    "# reduce() 함수는 functools 모듈에 있다."
   ]
  },
  {
   "cell_type": "code",
   "execution_count": null,
   "metadata": {},
   "outputs": [],
   "source": [
    "# 구문\n",
    "# functools.reduce(function, iterable[, initializer])\n",
    "\n",
    "\n",
    "# function 을 사용해서 iterable을 '하나의 값'으로 줄입니다. \n",
    "# initializer 는 주어지면 첫 번째 인자로 추가 된다고 생각하면 됩니다."
   ]
  },
  {
   "cell_type": "code",
   "execution_count": 4,
   "metadata": {},
   "outputs": [
    {
     "name": "stdout",
     "output_type": "stream",
     "text": [
      "1\n",
      "3\n",
      "6\n",
      "10\n"
     ]
    },
    {
     "data": {
      "text/plain": [
       "10"
      ]
     },
     "execution_count": 4,
     "metadata": {},
     "output_type": "execute_result"
    }
   ],
   "source": [
    "# 주어진 리스트 안의 데이터 들의 합을 구하려면?\n",
    "\n",
    "# 기존의 for문으로 구현하는 경우\n",
    "\n",
    "dataset = [1, 2, 3, 4]\n",
    "\n",
    "\n",
    "def total(numbers):\n",
    "    result = 0\n",
    "    \n",
    "    for number in numbers:\n",
    "        result += number\n",
    "        print(result)  # 중간단계 출력\n",
    "    \n",
    "    return result\n",
    "\n",
    "total(dataset)"
   ]
  },
  {
   "cell_type": "code",
   "execution_count": null,
   "metadata": {},
   "outputs": [],
   "source": [
    "# 0 | 1, 2, 3, 4\n",
    "#     1\n",
    "#        3\n",
    "#            6\n",
    "#              10"
   ]
  },
  {
   "cell_type": "code",
   "execution_count": 8,
   "metadata": {},
   "outputs": [
    {
     "name": "stdout",
     "output_type": "stream",
     "text": [
      "(1, 2)\n",
      "(3, 3)\n",
      "(6, 4)\n",
      "(10, 5)\n"
     ]
    },
    {
     "data": {
      "text/plain": [
       "15"
      ]
     },
     "execution_count": 8,
     "metadata": {},
     "output_type": "execute_result"
    }
   ],
   "source": [
    "# reduce() 로 표현\n",
    "\n",
    "# reduce() 에 적용되는 함수,  '두개'의 입력 -> '하나'의 결과\n",
    "def add(x, y):\n",
    "    print((x, y))  # 중간단계 보기\n",
    "    return x + y\n",
    "\n",
    "reduce(add, [1, 2, 3, 4, 5])"
   ]
  },
  {
   "cell_type": "code",
   "execution_count": null,
   "metadata": {},
   "outputs": [],
   "source": [
    "# [  1,   2,   3,   4,   5]\n",
    "#    ↓    ↓\n",
    "# add(1, 2)\n",
    "#    ↓\n",
    "# [  3,        3,   4,   5]\n",
    "#      ↓      ↓\n",
    "#    add(3,   3)\n",
    "#       ↓\n",
    "# [      6,       4,   5]\n",
    "#       ↓         ↓\n",
    "#     add(6,       4)\n",
    "#       ↓\n",
    "# [     10,         5]\n",
    "#       ↓           ↓\n",
    "#      add(10,     5)\n",
    "#       ↓\n",
    "#       15   # 결국 하나의 값으로 reduce 된다  "
   ]
  },
  {
   "cell_type": "code",
   "execution_count": 7,
   "metadata": {},
   "outputs": [
    {
     "data": {
      "text/plain": [
       "15"
      ]
     },
     "execution_count": 7,
     "metadata": {},
     "output_type": "execute_result"
    }
   ],
   "source": [
    "# reduce + lambda\n",
    "reduce(lambda x, y : x + y, [1, 2, 3, 4, 5])"
   ]
  },
  {
   "cell_type": "markdown",
   "metadata": {},
   "source": [
    "#### initializer(초깃값)"
   ]
  },
  {
   "cell_type": "code",
   "execution_count": null,
   "metadata": {},
   "outputs": [],
   "source": [
    "# [1, 2, 3]  ==> [1, 4, 9]"
   ]
  },
  {
   "cell_type": "code",
   "execution_count": 11,
   "metadata": {},
   "outputs": [
    {
     "name": "stdout",
     "output_type": "stream",
     "text": [
      "([], 1)\n",
      "([1], 2)\n",
      "([1, 4], 3)\n"
     ]
    },
    {
     "data": {
      "text/plain": [
       "[1, 4, 9]"
      ]
     },
     "execution_count": 11,
     "metadata": {},
     "output_type": "execute_result"
    }
   ],
   "source": [
    "def func(a, b):\n",
    "    print((a, b)) #중간단계\n",
    "    a.append(b ** 2)\n",
    "    \n",
    "    return a\n",
    "\n",
    "\n",
    "reduce(func, [1, 2, 3], [])  # initializer 로 [] 주어짐\n",
    "\n"
   ]
  },
  {
   "cell_type": "code",
   "execution_count": null,
   "metadata": {},
   "outputs": [],
   "source": [
    "#   []   | [1,   2,   3]\n",
    "#     ↓    ↓\n",
    "# func([], 1)\n",
    "#       ↓\n",
    "#      [1]    2     3\n",
    "#         ↓   ↓\n",
    "#    func([1], 2)\n",
    "#           ↓\n",
    "#        [1, 4]    3\n",
    "#            ↓     ↓\n",
    "#      func([1, 4], 3)\n",
    "#                ↓\n",
    "#            [1, 4, 9]\n"
   ]
  },
  {
   "cell_type": "code",
   "execution_count": 33,
   "metadata": {},
   "outputs": [
    {
     "data": {
      "text/plain": [
       "[1, 4, 9]"
      ]
     },
     "execution_count": 33,
     "metadata": {},
     "output_type": "execute_result"
    }
   ],
   "source": [
    "# lambda 로 만들수 있을까?\n",
    "# reduce(lambda a, b : a.append(b ** 2), [1, 2, 3], [])  # 에러\n",
    "\n",
    "# reduce(lambda a, b : a + [b ** 2], [1, 2, 3], []) # 가능은 하다\n",
    "\n",
    "reduce(lambda a, b : a.append(b ** 2) or a, [1, 2, 3], []) # 권장 SCE 사용\n"
   ]
  },
  {
   "cell_type": "markdown",
   "metadata": {},
   "source": [
    "#### 도전 : 최댓값 찾기"
   ]
  },
  {
   "cell_type": "code",
   "execution_count": 12,
   "metadata": {},
   "outputs": [],
   "source": [
    "dataset = [1, 4, 3, 5, 2]\n",
    "\n",
    "# reduce + lambda 를 사용하여 최댓값을 찾아보세요"
   ]
  },
  {
   "cell_type": "code",
   "execution_count": null,
   "metadata": {},
   "outputs": [],
   "source": [
    "# [1, 4, 3, 5, 2] => 여기에서 최대값을 찾는 코드 (5)\n",
    "# --------------------------------------------\n",
    "#     4\n",
    "#        4\n",
    "#           5 \n",
    "#              5\n"
   ]
  },
  {
   "cell_type": "code",
   "execution_count": 15,
   "metadata": {},
   "outputs": [
    {
     "data": {
      "text/plain": [
       "5"
      ]
     },
     "execution_count": 15,
     "metadata": {},
     "output_type": "execute_result"
    }
   ],
   "source": [
    "reduce(lambda a, b : a if a > b else b, dataset)"
   ]
  },
  {
   "cell_type": "code",
   "execution_count": null,
   "metadata": {},
   "outputs": [],
   "source": []
  },
  {
   "cell_type": "markdown",
   "metadata": {},
   "source": [
    "#### 개수 구하기"
   ]
  },
  {
   "cell_type": "code",
   "execution_count": 19,
   "metadata": {},
   "outputs": [],
   "source": [
    "dataset = [\"dog\", \"dog\", \"dog\", \"cat\", \"cat\", \"bird\"]\n",
    "\n",
    "# 결과 {'dog': 3, 'cat': 2, 'bird': 1}"
   ]
  },
  {
   "cell_type": "code",
   "execution_count": null,
   "metadata": {},
   "outputs": [],
   "source": [
    "# 1. for 사용\n",
    "# 2. reduce 사용"
   ]
  },
  {
   "cell_type": "markdown",
   "metadata": {},
   "source": [
    "#### 1.  for 사용"
   ]
  },
  {
   "cell_type": "code",
   "execution_count": 23,
   "metadata": {},
   "outputs": [
    {
     "data": {
      "text/plain": [
       "20"
      ]
     },
     "execution_count": 23,
     "metadata": {},
     "output_type": "execute_result"
    }
   ],
   "source": [
    "student = {\"name\": \"susan\"}\n",
    "\n",
    "# student['age']\n",
    "# student.get(\"age\")  # None\n",
    "\n",
    "student.get(\"age\", 20)  # 만약에 age 키값이 없으면 20을 리턴"
   ]
  },
  {
   "cell_type": "code",
   "execution_count": 24,
   "metadata": {},
   "outputs": [
    {
     "data": {
      "text/plain": [
       "{'dog': 3, 'cat': 2, 'bird': 1}"
      ]
     },
     "execution_count": 24,
     "metadata": {},
     "output_type": "execute_result"
    }
   ],
   "source": [
    "def count_element(elements):\n",
    "    result = {}\n",
    "    \n",
    "    for element in elements:\n",
    "        result[element] = result.get(element, 0) + 1\n",
    "    \n",
    "    return result\n",
    "\n",
    "count_element(dataset)"
   ]
  },
  {
   "cell_type": "markdown",
   "metadata": {},
   "source": [
    "#### reduce 사용"
   ]
  },
  {
   "cell_type": "code",
   "execution_count": 25,
   "metadata": {},
   "outputs": [
    {
     "data": {
      "text/plain": [
       "{'dog': 3, 'cat': 2, 'bird': 1}"
      ]
     },
     "execution_count": 25,
     "metadata": {},
     "output_type": "execute_result"
    }
   ],
   "source": [
    "def func(result, element):\n",
    "    result[element] = result.get(element, 0) + 1\n",
    "    return result\n",
    "\n",
    "reduce(func, dataset, {})"
   ]
  },
  {
   "cell_type": "markdown",
   "metadata": {},
   "source": [
    "#### dict.update(), dict.get() + reduce() 사용한 또다른 방법"
   ]
  },
  {
   "cell_type": "code",
   "execution_count": 26,
   "metadata": {},
   "outputs": [],
   "source": [
    "# dict.update : 있으면 업데이트하고, 없으면 추가하고 , None 리턴\n",
    "# dict.get    : 있으면 가져오고, 없으면 초기값으로 가져오고"
   ]
  },
  {
   "cell_type": "code",
   "execution_count": 29,
   "metadata": {},
   "outputs": [
    {
     "data": {
      "text/plain": [
       "{'name': 'kate', 'email': 'aaa@bbb.ccc'}"
      ]
     },
     "execution_count": 29,
     "metadata": {},
     "output_type": "execute_result"
    }
   ],
   "source": [
    "student = {'name' : 'susan'}\n",
    "\n",
    "student.update({'name' : 'kate'})  # 있으면 업데이트 \n",
    "student.update({'email' : 'aaa@bbb.ccc'}) # 없으면 추가\n",
    "\n",
    "student"
   ]
  },
  {
   "cell_type": "code",
   "execution_count": null,
   "metadata": {},
   "outputs": [],
   "source": [
    "# list.append  .... 원본 변경; return None\n",
    "# dict.update ... .원본 변경; return None"
   ]
  },
  {
   "cell_type": "code",
   "execution_count": 31,
   "metadata": {},
   "outputs": [],
   "source": [
    "student.update({'name' : '박수지'}) # None 리턴"
   ]
  },
  {
   "cell_type": "code",
   "execution_count": 32,
   "metadata": {},
   "outputs": [
    {
     "data": {
      "text/plain": [
       "{'name': '박수지', 'email': 'aaa@bbb.ccc'}"
      ]
     },
     "execution_count": 32,
     "metadata": {},
     "output_type": "execute_result"
    }
   ],
   "source": [
    "# 위에서 student.update() 가 None 을 리턴하기 때문게 \n",
    "# 아래와 같은 것이 가능\n",
    "\n",
    "# 파이썬 프로그래밍에서 자주 사용하는 기법\n",
    "# dict 에 key-value 안정적으로 추가하고, 추가된\n",
    "# dict 를 리턴 받기\n",
    "\n",
    "student.update({'name' : '박수지'}) or student  # SCE 사용"
   ]
  },
  {
   "cell_type": "code",
   "execution_count": 34,
   "metadata": {},
   "outputs": [
    {
     "data": {
      "text/plain": [
       "{'dog': 3, 'cat': 2, 'bird': 1}"
      ]
     },
     "execution_count": 34,
     "metadata": {},
     "output_type": "execute_result"
    }
   ],
   "source": [
    "reduce(\n",
    "    lambda result, element : result.update({element : result.get(element, 0) + 1}) or result\n",
    "    , dataset\n",
    "    , {}\n",
    ")"
   ]
  },
  {
   "cell_type": "code",
   "execution_count": 35,
   "metadata": {},
   "outputs": [],
   "source": [
    "# 1. for loop\n",
    "# 2. map, filter ... list comprehension\n",
    "# 2.1. reduce\n",
    "\n",
    "# reduce => map      init: []\n",
    "# reduce => filter   init: []"
   ]
  },
  {
   "cell_type": "markdown",
   "metadata": {},
   "source": [
    "### map(), filter() 도 reduce() 로 구현 가능!\n",
    "좀더 파이썬 스러운 코딩 (pythonic!)"
   ]
  },
  {
   "cell_type": "code",
   "execution_count": 38,
   "metadata": {},
   "outputs": [],
   "source": [
    "# 제곱하기\n",
    "# [1, 2, 3] => [1, 4, 9]    map() 동작이지만 reduce() 로 가능\n"
   ]
  },
  {
   "cell_type": "code",
   "execution_count": 39,
   "metadata": {
    "scrolled": true
   },
   "outputs": [
    {
     "data": {
      "text/plain": [
       "[1, 4, 9]"
      ]
     },
     "execution_count": 39,
     "metadata": {},
     "output_type": "execute_result"
    }
   ],
   "source": [
    "reduce(\n",
    "    lambda r, e: r.append(e ** 2) or r,\n",
    "    [1, 2, 3],\n",
    "    [],\n",
    ")"
   ]
  },
  {
   "cell_type": "code",
   "execution_count": 37,
   "metadata": {},
   "outputs": [],
   "source": [
    "# 양수만 골라내기\n",
    "# [1, -2, 3] => [1, 3]"
   ]
  },
  {
   "cell_type": "code",
   "execution_count": 40,
   "metadata": {},
   "outputs": [
    {
     "data": {
      "text/plain": [
       "[1, 3]"
      ]
     },
     "execution_count": 40,
     "metadata": {},
     "output_type": "execute_result"
    }
   ],
   "source": [
    "reduce(\n",
    "    lambda r, e : (r.append(e) or r) if e > 0 else r\n",
    "    , [1, -2, 3]\n",
    "    , []\n",
    ")\n"
   ]
  },
  {
   "cell_type": "code",
   "execution_count": null,
   "metadata": {},
   "outputs": [],
   "source": []
  },
  {
   "cell_type": "code",
   "execution_count": null,
   "metadata": {},
   "outputs": [],
   "source": []
  },
  {
   "cell_type": "code",
   "execution_count": null,
   "metadata": {},
   "outputs": [],
   "source": []
  },
  {
   "cell_type": "code",
   "execution_count": null,
   "metadata": {},
   "outputs": [],
   "source": []
  },
  {
   "cell_type": "code",
   "execution_count": null,
   "metadata": {},
   "outputs": [],
   "source": []
  },
  {
   "cell_type": "code",
   "execution_count": null,
   "metadata": {},
   "outputs": [],
   "source": []
  }
 ],
 "metadata": {
  "kernelspec": {
   "display_name": "Python 3",
   "language": "python",
   "name": "python3"
  },
  "language_info": {
   "codemirror_mode": {
    "name": "ipython",
    "version": 3
   },
   "file_extension": ".py",
   "mimetype": "text/x-python",
   "name": "python",
   "nbconvert_exporter": "python",
   "pygments_lexer": "ipython3",
   "version": "3.8.5"
  }
 },
 "nbformat": 4,
 "nbformat_minor": 4
}
