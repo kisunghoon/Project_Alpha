{
 "cells": [
  {
   "cell_type": "markdown",
   "metadata": {},
   "source": [
    "# 클래스 (class)"
   ]
  },
  {
   "cell_type": "code",
   "execution_count": 1,
   "metadata": {},
   "outputs": [],
   "source": [
    "# 클래스 정의\n",
    "class Cookie:\n",
    "    pass"
   ]
  },
  {
   "cell_type": "code",
   "execution_count": 3,
   "metadata": {},
   "outputs": [
    {
     "data": {
      "text/plain": [
       "<__main__.Cookie at 0x22dfb5b15b0>"
      ]
     },
     "execution_count": 3,
     "metadata": {},
     "output_type": "execute_result"
    }
   ],
   "source": [
    "# 객체 (인스턴스) 생성\n",
    "a = Cookie()\n",
    "a"
   ]
  },
  {
   "cell_type": "code",
   "execution_count": 4,
   "metadata": {},
   "outputs": [],
   "source": [
    "b = Cookie()\n",
    "c = Cookie()"
   ]
  },
  {
   "cell_type": "code",
   "execution_count": 5,
   "metadata": {},
   "outputs": [
    {
     "data": {
      "text/plain": [
       "__main__.Cookie"
      ]
     },
     "execution_count": 5,
     "metadata": {},
     "output_type": "execute_result"
    }
   ],
   "source": [
    "type(a)"
   ]
  },
  {
   "cell_type": "code",
   "execution_count": 8,
   "metadata": {},
   "outputs": [
    {
     "data": {
      "text/plain": [
       "True"
      ]
     },
     "execution_count": 8,
     "metadata": {},
     "output_type": "execute_result"
    }
   ],
   "source": [
    "type(a) is Cookie   # a 가 Cookie 인스턴스인가?"
   ]
  },
  {
   "cell_type": "code",
   "execution_count": 10,
   "metadata": {},
   "outputs": [
    {
     "data": {
      "text/plain": [
       "False"
      ]
     },
     "execution_count": 10,
     "metadata": {},
     "output_type": "execute_result"
    }
   ],
   "source": [
    "a == b   # 타입만 같을뿐 다른 인스턴스다!"
   ]
  },
  {
   "cell_type": "code",
   "execution_count": null,
   "metadata": {},
   "outputs": [],
   "source": [
    "# 클래스를 통해 만들어진 객체를 인스턴스(instance)라고도 한다\n",
    "# 객체와 인스턴스는 다소 혼용되어 표현되기도 한다.\n",
    "# \"a 는 Cookie 의 객체\" 다\n",
    "# \"a 는 Cookie 의 인스턴스\" 다\n",
    "\n",
    "#----------------------------------------------------------------\n",
    "\n",
    "# 객체의 '속성' --> 객체변수로 정의\n",
    "# 객체의 '동작' --> 객체함수(메소드)로 정의\n",
    "\n",
    "# 클래스 가 가져야 하는 변수를 '객체변수(instance variable)', \n",
    "# 혹은 속성값 (attribute value) 혹은 멤버변수(member variable) 이라고도 함\n",
    "# 어떠한 메소드에서도 self. 키워드를 사용하여 정의 가능하고\n",
    "# 인스턴스를 통해 생성도 가능.\n",
    "\n",
    "# 객체변수 사용구문   . 사용\n",
    "#   객체.객체변수\n",
    "\n",
    "# 생성자 (Constructor)  __init__()\n",
    "# 객체가 생성될때 자동으로 호출되는 특별한 메소드\n",
    "# 주로 객체변수를 정의하고 초기화 하는 역할 수행\n",
    "\n",
    "# 클래스 안에서 정의된 함수를 메소드(method) 라 함\n",
    "# 메소드 호출 구문    . 사용\n",
    "#    객체.메소드()\n",
    "# 메소드가 호출될때는 해당 '객체' 에 대해서 동작하게 됨\n",
    "\n",
    "# 모든 메소드는 기본적으로 첫번째 매개변수가 self 이다.\n"
   ]
  },
  {
   "cell_type": "markdown",
   "metadata": {},
   "source": [
    "## 객체변수, 생성자"
   ]
  },
  {
   "cell_type": "code",
   "execution_count": 14,
   "metadata": {},
   "outputs": [],
   "source": [
    "# 사각형 이란 객체에 대해 설계해보자.\n",
    "# 사각형 클래스를 정의해보자.\n",
    "\n",
    "# 사각형의 속성은? -->  가로(width),  세로(height)\n",
    "# 사각형의 동작은? --> ??\n",
    "\n",
    "# Rectangle 객체 정의 (클래스 정의,  붕어빵틀 제작)\n",
    "class Rectangle:\n",
    "    \n",
    "    def __init__(self):\n",
    "        print(\"Rectangle() 생성자 호출\")\n",
    "        # 객체변수들(속성)\n",
    "        self.width = 0   # 객체변수 width 선언, 초깃값 0\n",
    "        self.height = 0  # 객체변수 height 선언, 초깃값 0\n"
   ]
  },
  {
   "cell_type": "code",
   "execution_count": 15,
   "metadata": {},
   "outputs": [
    {
     "name": "stdout",
     "output_type": "stream",
     "text": [
      "Rectangle() 생성자 호출\n"
     ]
    }
   ],
   "source": [
    "r1 = Rectangle()"
   ]
  },
  {
   "cell_type": "code",
   "execution_count": 16,
   "metadata": {},
   "outputs": [
    {
     "name": "stdout",
     "output_type": "stream",
     "text": [
      "Rectangle() 생성자 호출\n"
     ]
    }
   ],
   "source": [
    "r2 = Rectangle()"
   ]
  },
  {
   "cell_type": "code",
   "execution_count": 18,
   "metadata": {},
   "outputs": [
    {
     "data": {
      "text/plain": [
       "(0, 0)"
      ]
     },
     "execution_count": 18,
     "metadata": {},
     "output_type": "execute_result"
    }
   ],
   "source": [
    "r1.width, r1.height"
   ]
  },
  {
   "cell_type": "code",
   "execution_count": 19,
   "metadata": {},
   "outputs": [
    {
     "data": {
      "text/plain": [
       "(0, 0)"
      ]
     },
     "execution_count": 19,
     "metadata": {},
     "output_type": "execute_result"
    }
   ],
   "source": [
    "r2.width, r2.height"
   ]
  },
  {
   "cell_type": "code",
   "execution_count": 21,
   "metadata": {},
   "outputs": [],
   "source": [
    "r1.width, r1.height = 100, 200\n",
    "r2.width, r2.height = 50, 30"
   ]
  },
  {
   "cell_type": "code",
   "execution_count": 22,
   "metadata": {},
   "outputs": [
    {
     "name": "stdout",
     "output_type": "stream",
     "text": [
      "100 200\n",
      "50 30\n"
     ]
    }
   ],
   "source": [
    "print(r1.width, r1.height)\n",
    "print(r2.width, r2.height)"
   ]
  },
  {
   "cell_type": "code",
   "execution_count": 23,
   "metadata": {},
   "outputs": [
    {
     "ename": "AttributeError",
     "evalue": "'Rectangle' object has no attribute 'area'",
     "output_type": "error",
     "traceback": [
      "\u001b[1;31m---------------------------------------------------------------------------\u001b[0m",
      "\u001b[1;31mAttributeError\u001b[0m                            Traceback (most recent call last)",
      "\u001b[1;32m<ipython-input-23-1e58683b7daf>\u001b[0m in \u001b[0;36m<module>\u001b[1;34m\u001b[0m\n\u001b[1;32m----> 1\u001b[1;33m \u001b[0mr1\u001b[0m\u001b[1;33m.\u001b[0m\u001b[0marea\u001b[0m\u001b[1;33m\u001b[0m\u001b[1;33m\u001b[0m\u001b[0m\n\u001b[0m",
      "\u001b[1;31mAttributeError\u001b[0m: 'Rectangle' object has no attribute 'area'"
     ]
    }
   ],
   "source": [
    "r1.area"
   ]
  },
  {
   "cell_type": "code",
   "execution_count": 24,
   "metadata": {},
   "outputs": [],
   "source": [
    "r1.area = 19  # r1 인스턴스에 area 라는 객체변수 추가"
   ]
  },
  {
   "cell_type": "code",
   "execution_count": 25,
   "metadata": {},
   "outputs": [
    {
     "data": {
      "text/plain": [
       "19"
      ]
     },
     "execution_count": 25,
     "metadata": {},
     "output_type": "execute_result"
    }
   ],
   "source": [
    "r1.area"
   ]
  },
  {
   "cell_type": "code",
   "execution_count": 26,
   "metadata": {},
   "outputs": [
    {
     "ename": "AttributeError",
     "evalue": "'Rectangle' object has no attribute 'area'",
     "output_type": "error",
     "traceback": [
      "\u001b[1;31m---------------------------------------------------------------------------\u001b[0m",
      "\u001b[1;31mAttributeError\u001b[0m                            Traceback (most recent call last)",
      "\u001b[1;32m<ipython-input-26-105a664af923>\u001b[0m in \u001b[0;36m<module>\u001b[1;34m\u001b[0m\n\u001b[1;32m----> 1\u001b[1;33m \u001b[0mr2\u001b[0m\u001b[1;33m.\u001b[0m\u001b[0marea\u001b[0m\u001b[1;33m\u001b[0m\u001b[1;33m\u001b[0m\u001b[0m\n\u001b[0m",
      "\u001b[1;31mAttributeError\u001b[0m: 'Rectangle' object has no attribute 'area'"
     ]
    }
   ],
   "source": [
    "r2.area"
   ]
  },
  {
   "cell_type": "markdown",
   "metadata": {},
   "source": [
    "## 메소드"
   ]
  },
  {
   "cell_type": "code",
   "execution_count": 40,
   "metadata": {},
   "outputs": [],
   "source": [
    "#------------------------------------------\n",
    "# 사각형의 동작? ----> 객체 메소드(함수)로 정의\n",
    "#   - 사각형의 넓이를 구하기\n",
    "#   - 사각형의 둘레를 구하기 \n",
    "\n",
    "class Rectangle:\n",
    "    def __init__(self):  \n",
    "        print(\"Rectangle() 생성자 호출\")\n",
    "        self.width = 0\n",
    "        self.height = 0\n",
    "        \n",
    "    # 사각형 넓이 구하기\n",
    "    def getArea(self):\n",
    "        area = self.width * self.height\n",
    "        return area\n",
    "    \n",
    "    # 사각형 둘레 구하기\n",
    "    def getPerimeter(self):\n",
    "        perimeter = (self.width + self.height) * 2\n",
    "        return perimeter\n",
    "    \n",
    "    def setData(self, width, height):\n",
    "        self.width = width\n",
    "        self.height = height"
   ]
  },
  {
   "cell_type": "code",
   "execution_count": 41,
   "metadata": {},
   "outputs": [
    {
     "name": "stdout",
     "output_type": "stream",
     "text": [
      "Rectangle() 생성자 호출\n"
     ]
    }
   ],
   "source": [
    "r1 = Rectangle()"
   ]
  },
  {
   "cell_type": "code",
   "execution_count": 42,
   "metadata": {},
   "outputs": [],
   "source": [
    "r1.height, r1.width = 10, 20"
   ]
  },
  {
   "cell_type": "code",
   "execution_count": 43,
   "metadata": {},
   "outputs": [
    {
     "data": {
      "text/plain": [
       "200"
      ]
     },
     "execution_count": 43,
     "metadata": {},
     "output_type": "execute_result"
    }
   ],
   "source": [
    "r1.getArea()"
   ]
  },
  {
   "cell_type": "code",
   "execution_count": 44,
   "metadata": {},
   "outputs": [
    {
     "data": {
      "text/plain": [
       "60"
      ]
     },
     "execution_count": 44,
     "metadata": {},
     "output_type": "execute_result"
    }
   ],
   "source": [
    "r1.getPerimeter()"
   ]
  },
  {
   "cell_type": "markdown",
   "metadata": {},
   "source": [
    "#### 메소드에서 첫번째 매개변수 self"
   ]
  },
  {
   "cell_type": "code",
   "execution_count": 45,
   "metadata": {},
   "outputs": [],
   "source": [
    "r1.setData(30, 40)"
   ]
  },
  {
   "cell_type": "code",
   "execution_count": 46,
   "metadata": {},
   "outputs": [
    {
     "data": {
      "text/plain": [
       "(30, 40)"
      ]
     },
     "execution_count": 46,
     "metadata": {},
     "output_type": "execute_result"
    }
   ],
   "source": [
    "r1.width, r1.height"
   ]
  },
  {
   "cell_type": "code",
   "execution_count": 48,
   "metadata": {},
   "outputs": [],
   "source": [
    "# r1.setData(30, 40)  # 실제론 아래와 같이 호출됨\n",
    "Rectangle.setData(r1, 200, 400)  # self 에 r1 값이 넘겨짐"
   ]
  },
  {
   "cell_type": "code",
   "execution_count": 49,
   "metadata": {},
   "outputs": [
    {
     "data": {
      "text/plain": [
       "(200, 400)"
      ]
     },
     "execution_count": 49,
     "metadata": {},
     "output_type": "execute_result"
    }
   ],
   "source": [
    "r1.width, r1.height"
   ]
  },
  {
   "cell_type": "markdown",
   "metadata": {},
   "source": [
    "## 생성자 매개변수"
   ]
  },
  {
   "cell_type": "code",
   "execution_count": 54,
   "metadata": {},
   "outputs": [],
   "source": [
    "class Rectangle:\n",
    "    # 생성자 매개변수\n",
    "    # 객체변수 초기화에 사용된다.\n",
    "    # 디폴트 매개변수 가능!\n",
    "    \n",
    "#     def __init__(self, width, height):\n",
    "    def __init__(self, width = 0, height = 0):  # 디폴트 매개변수 \n",
    "        self.width = width\n",
    "        self.height = height\n",
    "        \n",
    "    # 사각형 넓이 구하기\n",
    "    def getArea(self):\n",
    "        area = self.width * self.height\n",
    "        return area\n",
    "    \n",
    "    # 사각형 둘레 구하기\n",
    "    def getPerimeter(self):\n",
    "        perimeter = (self.width + self.height) * 2\n",
    "        return perimeter\n",
    "    \n",
    "    def setData(self, width, height):\n",
    "        self.width = width\n",
    "        self.height = height"
   ]
  },
  {
   "cell_type": "code",
   "execution_count": 55,
   "metadata": {},
   "outputs": [],
   "source": [
    "r1 = Rectangle()"
   ]
  },
  {
   "cell_type": "code",
   "execution_count": 56,
   "metadata": {},
   "outputs": [
    {
     "data": {
      "text/plain": [
       "(0, 0)"
      ]
     },
     "execution_count": 56,
     "metadata": {},
     "output_type": "execute_result"
    }
   ],
   "source": [
    "r1.width, r1.height"
   ]
  },
  {
   "cell_type": "code",
   "execution_count": 52,
   "metadata": {},
   "outputs": [],
   "source": [
    "r1 = Rectangle(30, 20)"
   ]
  },
  {
   "cell_type": "code",
   "execution_count": 53,
   "metadata": {},
   "outputs": [
    {
     "data": {
      "text/plain": [
       "(600, 100)"
      ]
     },
     "execution_count": 53,
     "metadata": {},
     "output_type": "execute_result"
    }
   ],
   "source": [
    "r1.getArea(), r1.getPerimeter()"
   ]
  },
  {
   "cell_type": "markdown",
   "metadata": {},
   "source": [
    "### (메소드) 오버로딩?"
   ]
  },
  {
   "cell_type": "code",
   "execution_count": 57,
   "metadata": {},
   "outputs": [],
   "source": [
    "#  파이썬에선 함수의 오버로딩이 존재하진 않지만\n",
    "#  디폴트 파라미터,  가변매개변수 (*args, **kwargs) 등을 사용하면 동일한 효과를 볼수 있으니 잘 활용해보자\n"
   ]
  },
  {
   "cell_type": "markdown",
   "metadata": {},
   "source": [
    "## 연산자 오버로딩 (Operator Overloading)"
   ]
  },
  {
   "cell_type": "code",
   "execution_count": 63,
   "metadata": {},
   "outputs": [],
   "source": [
    "class Rectangle:\n",
    "    def __init__(self, width = 0, height = 0):  \n",
    "        print(\"Rectangle() 생성자 호출\")\n",
    "        self.width = width\n",
    "        self.height = height\n",
    "    \n",
    "    def getData(self):\n",
    "        return self.width, self.height\n",
    "    \n",
    "    def setData(self, width, height):\n",
    "        self.width = width\n",
    "        self.height = height\n",
    "        \n",
    "    def getArea(self):\n",
    "        return self.width * self.height\n",
    "    \n",
    "    def getPerimeter(self):\n",
    "        return 2 * (self.width + self.height)\n",
    "    \n",
    "    # + 연산자 오버로딩\n",
    "    def __add__(self, other):\n",
    "        return self.getArea() + other.getArea()"
   ]
  },
  {
   "cell_type": "code",
   "execution_count": 64,
   "metadata": {},
   "outputs": [
    {
     "name": "stdout",
     "output_type": "stream",
     "text": [
      "Rectangle() 생성자 호출\n",
      "Rectangle() 생성자 호출\n"
     ]
    }
   ],
   "source": [
    "rec1 = Rectangle(100, 200)\n",
    "rec2 = Rectangle(200, 300)"
   ]
  },
  {
   "cell_type": "code",
   "execution_count": 65,
   "metadata": {},
   "outputs": [
    {
     "data": {
      "text/plain": [
       "(20000, 60000)"
      ]
     },
     "execution_count": 65,
     "metadata": {},
     "output_type": "execute_result"
    }
   ],
   "source": [
    "rec1.getArea(),  rec2.getArea()"
   ]
  },
  {
   "cell_type": "code",
   "execution_count": 66,
   "metadata": {},
   "outputs": [
    {
     "data": {
      "text/plain": [
       "80000"
      ]
     },
     "execution_count": 66,
     "metadata": {},
     "output_type": "execute_result"
    }
   ],
   "source": [
    "rec1.getArea() + rec2.getArea()"
   ]
  },
  {
   "cell_type": "code",
   "execution_count": 67,
   "metadata": {},
   "outputs": [
    {
     "data": {
      "text/plain": [
       "80000"
      ]
     },
     "execution_count": 67,
     "metadata": {},
     "output_type": "execute_result"
    }
   ],
   "source": [
    "rec1 + rec2"
   ]
  },
  {
   "cell_type": "code",
   "execution_count": 68,
   "metadata": {},
   "outputs": [
    {
     "data": {
      "text/plain": [
       "80000"
      ]
     },
     "execution_count": 68,
     "metadata": {},
     "output_type": "execute_result"
    }
   ],
   "source": [
    "# rec1 + rec2 는 아래와 같이 호출된다.\n",
    "rec1.__add__(rec2)"
   ]
  },
  {
   "cell_type": "markdown",
   "metadata": {},
   "source": [
    "### 객체 생성 연습 : Circle"
   ]
  },
  {
   "cell_type": "code",
   "execution_count": 69,
   "metadata": {},
   "outputs": [],
   "source": [
    "# 연습 : 원에 대한 객체 정의\n",
    "\n",
    "#  클래스 정의 Circle\n",
    "#  객체변수는 반지름  (radius)\n",
    "#  생성자 \n",
    "#  원의 반지름 설정하는 메소드 setRadius(radius)\n",
    "#  원의 반지름을 리턴하는 메소드 getRadius()\n",
    "#  원의 넓이 계산하여 리턴하는 메소드  getArea()\n",
    "#  원의 둘레 계산하여 리턴하는 메소드  getPerimeter()\n",
    "\n",
    "# 원주율은 3.141592 로 하자  (후에 math 모듈을 배우면 math.pi 로 사용하면 된다)"
   ]
  },
  {
   "cell_type": "code",
   "execution_count": 70,
   "metadata": {},
   "outputs": [
    {
     "data": {
      "text/plain": [
       "3.141592653589793"
      ]
     },
     "execution_count": 70,
     "metadata": {},
     "output_type": "execute_result"
    }
   ],
   "source": [
    "import math\n",
    "math.pi"
   ]
  },
  {
   "cell_type": "code",
   "execution_count": 71,
   "metadata": {},
   "outputs": [],
   "source": [
    "class Circle:\n",
    "    def __init__(self, radius = 0):\n",
    "        self.radius = radius\n",
    "    def setRadius(self, radius):\n",
    "        self.radius = radius\n",
    "    def getRadius(self):\n",
    "        return self.radius\n",
    "    def getArea(self):\n",
    "        return math.pi * self.radius ** 2\n",
    "    def getPerimeter(self):\n",
    "        return 2 * math.pi * self.radius"
   ]
  },
  {
   "cell_type": "code",
   "execution_count": 72,
   "metadata": {},
   "outputs": [
    {
     "name": "stdout",
     "output_type": "stream",
     "text": [
      "314.1592653589793\n",
      "62.83185307179586\n"
     ]
    }
   ],
   "source": [
    "c1 = Circle()\n",
    "c1.setRadius(10)\n",
    "print(c1.getArea())\n",
    "print(c1.getPerimeter())"
   ]
  },
  {
   "cell_type": "markdown",
   "metadata": {},
   "source": [
    "## 연습 : 2차원 좌표 객체 정의 Point2D"
   ]
  },
  {
   "cell_type": "code",
   "execution_count": 73,
   "metadata": {},
   "outputs": [],
   "source": [
    "#  클래스 정의 Point2D\n",
    "\n",
    "#  객체변수는 x, y\n",
    "#  생성자 : x, y 초기화\n",
    "#  좌표 설정 메소드 setPoint(..)\n",
    "#  좌표 리턴하는 메소드 getPoint()\n",
    "#  원점에서 부터 거리 계산 getDistance()\n",
    "#  두 점 사이의 거리 계산 getDistanceFrom(other)\n",
    "\n",
    "# 파이썬에서 root 구하는 함수는\n",
    "# import math 후\n",
    "# math.sqrt(x) 사용   혹은   x ** 0.5"
   ]
  },
  {
   "cell_type": "code",
   "execution_count": 74,
   "metadata": {},
   "outputs": [],
   "source": [
    "class Point2D:\n",
    "    def __init__(self, x = 0, y = 0):\n",
    "        self.x = x\n",
    "        self.y = y\n",
    "    def setPoint(self, x, y):\n",
    "        self.x = x\n",
    "        self.y = y\n",
    "    def getPoint(self):\n",
    "        return self.x, self.y\n",
    "    def getDistance(self):\n",
    "        return (self.x ** 2 + self.y ** 2) ** 0.5\n",
    "    \n",
    "    def getDistanceFrom(self, other):  # other(Point2D) 사이의 거리 리턴\n",
    "        return ((self.x - other.x) ** 2 + (self.y - other.y) ** 2) ** 0.5\n",
    "        "
   ]
  },
  {
   "cell_type": "code",
   "execution_count": 75,
   "metadata": {},
   "outputs": [
    {
     "name": "stdout",
     "output_type": "stream",
     "text": [
      "(1, 2)\n",
      "2.23606797749979\n"
     ]
    }
   ],
   "source": [
    "p1 = Point2D(1, 2)\n",
    "print(p1.getPoint())\n",
    "print(p1.getDistance())"
   ]
  },
  {
   "cell_type": "code",
   "execution_count": 76,
   "metadata": {},
   "outputs": [
    {
     "name": "stdout",
     "output_type": "stream",
     "text": [
      "2.0\n"
     ]
    }
   ],
   "source": [
    "p2 = Point2D(0, 2)\n",
    "print(p2.getDistance())"
   ]
  },
  {
   "cell_type": "code",
   "execution_count": 77,
   "metadata": {
    "scrolled": true
   },
   "outputs": [
    {
     "data": {
      "text/plain": [
       "3.0"
      ]
     },
     "execution_count": 77,
     "metadata": {},
     "output_type": "execute_result"
    }
   ],
   "source": [
    "p3 = Point2D(0, -1)\n",
    "p2.getDistanceFrom(p3)"
   ]
  },
  {
   "cell_type": "markdown",
   "metadata": {},
   "source": [
    "### id() 인스턴스 고유 id\n",
    "주소"
   ]
  },
  {
   "cell_type": "code",
   "execution_count": 78,
   "metadata": {},
   "outputs": [],
   "source": [
    "p1 = Point2D(1, 2)\n",
    "p2 = Point2D(1, 2)"
   ]
  },
  {
   "cell_type": "code",
   "execution_count": 79,
   "metadata": {},
   "outputs": [
    {
     "data": {
      "text/plain": [
       "(2396546386144, 2396546387440)"
      ]
     },
     "execution_count": 79,
     "metadata": {},
     "output_type": "execute_result"
    }
   ],
   "source": [
    "id(p1), id(p2)"
   ]
  },
  {
   "cell_type": "code",
   "execution_count": 80,
   "metadata": {},
   "outputs": [
    {
     "data": {
      "text/plain": [
       "False"
      ]
     },
     "execution_count": 80,
     "metadata": {},
     "output_type": "execute_result"
    }
   ],
   "source": [
    "p1 == p2"
   ]
  },
  {
   "cell_type": "markdown",
   "metadata": {},
   "source": [
    "### dict 속성"
   ]
  },
  {
   "cell_type": "code",
   "execution_count": 85,
   "metadata": {},
   "outputs": [],
   "source": [
    "# instance 의 __dict__"
   ]
  },
  {
   "cell_type": "code",
   "execution_count": 81,
   "metadata": {},
   "outputs": [
    {
     "data": {
      "text/plain": [
       "{'x': 1, 'y': 2}"
      ]
     },
     "execution_count": 81,
     "metadata": {},
     "output_type": "execute_result"
    }
   ],
   "source": [
    "p1.__dict__"
   ]
  },
  {
   "cell_type": "code",
   "execution_count": 82,
   "metadata": {},
   "outputs": [
    {
     "data": {
      "text/plain": [
       "{'x': 1, 'y': 2}"
      ]
     },
     "execution_count": 82,
     "metadata": {},
     "output_type": "execute_result"
    }
   ],
   "source": [
    "p2.__dict__"
   ]
  },
  {
   "cell_type": "code",
   "execution_count": 83,
   "metadata": {},
   "outputs": [
    {
     "data": {
      "text/plain": [
       "{'x': 0, 'y': -1}"
      ]
     },
     "execution_count": 83,
     "metadata": {},
     "output_type": "execute_result"
    }
   ],
   "source": [
    "p3.__dict__"
   ]
  },
  {
   "cell_type": "code",
   "execution_count": 84,
   "metadata": {},
   "outputs": [
    {
     "data": {
      "text/plain": [
       "1"
      ]
     },
     "execution_count": 84,
     "metadata": {},
     "output_type": "execute_result"
    }
   ],
   "source": [
    "p1.__dict__['x']"
   ]
  },
  {
   "cell_type": "code",
   "execution_count": 86,
   "metadata": {},
   "outputs": [],
   "source": [
    "# class 의 __dict__"
   ]
  },
  {
   "cell_type": "code",
   "execution_count": 87,
   "metadata": {},
   "outputs": [
    {
     "data": {
      "text/plain": [
       "mappingproxy({'__module__': '__main__',\n",
       "              '__init__': <function __main__.Point2D.__init__(self, x=0, y=0)>,\n",
       "              'setPoint': <function __main__.Point2D.setPoint(self, x, y)>,\n",
       "              'getPoint': <function __main__.Point2D.getPoint(self)>,\n",
       "              'getDistance': <function __main__.Point2D.getDistance(self)>,\n",
       "              'getDistanceFrom': <function __main__.Point2D.getDistanceFrom(self, other)>,\n",
       "              '__dict__': <attribute '__dict__' of 'Point2D' objects>,\n",
       "              '__weakref__': <attribute '__weakref__' of 'Point2D' objects>,\n",
       "              '__doc__': None})"
      ]
     },
     "execution_count": 87,
     "metadata": {},
     "output_type": "execute_result"
    }
   ],
   "source": [
    "Point2D.__dict__"
   ]
  },
  {
   "cell_type": "code",
   "execution_count": null,
   "metadata": {},
   "outputs": [],
   "source": []
  },
  {
   "cell_type": "code",
   "execution_count": null,
   "metadata": {},
   "outputs": [],
   "source": []
  },
  {
   "cell_type": "code",
   "execution_count": null,
   "metadata": {},
   "outputs": [],
   "source": []
  },
  {
   "cell_type": "code",
   "execution_count": null,
   "metadata": {},
   "outputs": [],
   "source": []
  },
  {
   "cell_type": "code",
   "execution_count": null,
   "metadata": {},
   "outputs": [],
   "source": []
  },
  {
   "cell_type": "code",
   "execution_count": null,
   "metadata": {},
   "outputs": [],
   "source": []
  },
  {
   "cell_type": "code",
   "execution_count": null,
   "metadata": {},
   "outputs": [],
   "source": []
  },
  {
   "cell_type": "code",
   "execution_count": null,
   "metadata": {},
   "outputs": [],
   "source": []
  },
  {
   "cell_type": "code",
   "execution_count": null,
   "metadata": {},
   "outputs": [],
   "source": []
  },
  {
   "cell_type": "code",
   "execution_count": null,
   "metadata": {},
   "outputs": [],
   "source": []
  },
  {
   "cell_type": "code",
   "execution_count": null,
   "metadata": {},
   "outputs": [],
   "source": []
  },
  {
   "cell_type": "code",
   "execution_count": null,
   "metadata": {},
   "outputs": [],
   "source": []
  }
 ],
 "metadata": {
  "kernelspec": {
   "display_name": "Python 3",
   "language": "python",
   "name": "python3"
  },
  "language_info": {
   "codemirror_mode": {
    "name": "ipython",
    "version": 3
   },
   "file_extension": ".py",
   "mimetype": "text/x-python",
   "name": "python",
   "nbconvert_exporter": "python",
   "pygments_lexer": "ipython3",
   "version": "3.8.5"
  }
 },
 "nbformat": 4,
 "nbformat_minor": 4
}
