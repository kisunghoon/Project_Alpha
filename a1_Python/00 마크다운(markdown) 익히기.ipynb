{
 "cells": [
  {
   "cell_type": "markdown",
   "metadata": {},
   "source": [
    "# 마크다운 (Markdown) 문서 익히기\n",
    "확장자 **.md** 로 된 파일들\n",
    "\n",
    "HTML 대체 기능\n",
    "\n",
    "---"
   ]
  },
  {
   "cell_type": "code",
   "execution_count": 1,
   "metadata": {},
   "outputs": [],
   "source": [
    "\"\"\"\n",
    "---\n",
    "\"\"\"\n",
    "None"
   ]
  },
  {
   "cell_type": "code",
   "execution_count": 2,
   "metadata": {},
   "outputs": [],
   "source": [
    "\"\"\"\n",
    "# 제목 1\n",
    "## 제목 2\n",
    "### 제목 3\n",
    "#### 제목 4\n",
    "##### 제목 5\n",
    "###### 제목 6\n",
    "\n",
    "\"\"\"\n",
    "None"
   ]
  },
  {
   "cell_type": "code",
   "execution_count": 3,
   "metadata": {},
   "outputs": [],
   "source": [
    "\"\"\"\n",
    "# 수평선(Horizontal line)\n",
    "각 기호를 3개 이상 입력하세요\n",
    "\n",
    "---\n",
    "(Hyphens)\n",
    "\n",
    "***\n",
    "(Asterisks)\n",
    "\n",
    "___\n",
    "(Underscores)\n",
    "\"\"\"\n",
    "None"
   ]
  },
  {
   "cell_type": "markdown",
   "metadata": {},
   "source": [
    "---\n",
    "(hyphen)\n",
    "\n",
    "***\n",
    "(asterisk)\n",
    "\n",
    "___\n",
    "(underbar)"
   ]
  },
  {
   "cell_type": "code",
   "execution_count": 4,
   "metadata": {},
   "outputs": [],
   "source": [
    "\"\"\"\n",
    "# 줄바꿈 (Line break)\n",
    "일반 줄비꿈이 동작하지 않는 환경(설정 및 버전에 따라)의 경우, ‘2번의 띄어쓰기’나 `<br>`를 활용할 수 있습니다.\n",
    "\n",
    "동해물과 백두산이 마르고 닳도록 \n",
    "하느님이 보우하사 우리나라 만세   <!--띄어쓰기 2번-->\n",
    "\n",
    "무궁화 삼천리 화려 강산<br>\n",
    "대한 사람 대한으로 길이 보전하세\n",
    "\n",
    "\"\"\"\n",
    "None"
   ]
  },
  {
   "cell_type": "markdown",
   "metadata": {},
   "source": [
    "동해물과 백두산이\n",
    "\n",
    "마르고 닳도록 <br>\n",
    "하느님이 보우하사 \n",
    "우리나라 만세"
   ]
  },
  {
   "cell_type": "code",
   "execution_count": 5,
   "metadata": {},
   "outputs": [],
   "source": [
    "\"\"\"\n",
    "이탤릭은 *별표* 혹은 _언더바_ 사용하세요\n",
    "\n",
    "두껍게는 **별표** 혹은 __언더바__ 2개 사용하세요\n",
    "\n",
    "취소선 은 ~~물결~~ 사용하세요\n",
    "\n",
    "밑줄 은 <u>`<u></u>`</u> 사용하세요\n",
    "\n",
    "강조는 `back tick` 사용\n",
    "\n",
    "윗첨자 0(*n*<sup>2</sup>)   \n",
    "\n",
    "아래첨자 0(*n*<sub>2</sub>)   \n",
    "\n",
    "\"\"\"\n",
    "None"
   ]
  },
  {
   "cell_type": "markdown",
   "metadata": {},
   "source": [
    "이탤릭은 *별표* 혹은 _언더바_ 사용\n",
    "\n",
    "두껍게 **별표** 혹은 __언더바__ 사용\n",
    "\n",
    "취소선은 ~~물결~~ 사용\n",
    "\n",
    "밑줄 <u>밑줄</u> 사용\n",
    "\n",
    "강조 `back tick` 사용\n",
    "\n",
    "윗첨자 n<sup>2</sup>\n",
    "\n",
    "윗첨자 n<sub>2</sub>"
   ]
  },
  {
   "cell_type": "code",
   "execution_count": 6,
   "metadata": {},
   "outputs": [],
   "source": [
    "\"\"\"\n",
    "# 목록\n",
    "1. 순서가 필요한 목록\n",
    "1. 순서가 필요한 목록\n",
    "  - 순서가 필요하지 않은 목록(서브) \n",
    "  - 순서가 필요하지 않은 목록(서브) \n",
    "    - 순서가 필요하지 않은 목록(서브) \n",
    "    - - 순서가 필요하지 않은 목록(서브) \n",
    "1. 순서가 필요한 목록\n",
    "  1. 순서가 필요한 목록(서브)\n",
    "  1. 순서가 필요한 목록(서브)\n",
    "1. 순서가 필요한 목록\n",
    "\n",
    "- 순서가 필요하지 않은 목록에 사용 가능한 기호\n",
    "  - 대쉬(hyphen)\n",
    "  * 별표(asterisks)\n",
    "  + 더하기(plus sign)\n",
    "\n",
    "\"\"\"\n",
    "None"
   ]
  },
  {
   "cell_type": "markdown",
   "metadata": {},
   "source": [
    "# 목록\n",
    "1. 순서필요\n",
    "1. 순서필요\n",
    "    1. 순서필요\n",
    "    1. 순서필요\n",
    "1. 순서필요\n",
    "    - 순서 불필요\n",
    "    - 순서 불필요\n",
    "        - 순서 불필요\n",
    "        - 순서 불필요\n",
    "    - 순서 불필요"
   ]
  },
  {
   "cell_type": "code",
   "execution_count": 1,
   "metadata": {},
   "outputs": [],
   "source": [
    "\"\"\"\n",
    "# 링크\n",
    "[GOOGLE](https://google.com)\n",
    "\n",
    "[NAVER](https://naver.com \"링크 설명(title)을 작성하세요.\")\n",
    "\n",
    "[상대적 참조](../users/login)\n",
    "\n",
    "[Dribbble][Dribbble link]\n",
    "\n",
    "[GitHub][1]\n",
    "\n",
    "문서 안에서 [참조 링크]를 그대로 사용할 수도 있습니다.\n",
    "\n",
    "다음과 같이 문서 내 일반 URL이나 꺾쇠 괄호(`< >`, Angle Brackets)안의 URL은 자동으로 링크를 사용합니다.\n",
    "구글 홈페이지: https://google.com\n",
    "네이버 홈페이지: <https://naver.com>\n",
    "\n",
    "[Dribbble link]: https://dribbble.com\n",
    "[1]: https://github.com\n",
    "[참조 링크]: https://naver.com \"네이버로 이동합니다!\"\n",
    "\n",
    "\"\"\"\n",
    "None"
   ]
  },
  {
   "cell_type": "markdown",
   "metadata": {},
   "source": [
    "# 링크\n",
    "[Google](https://google.com)\n",
    "\n",
    "[NAVER](https://www.naver.com)\n",
    "\n",
    "https://www.daum.net\n"
   ]
  },
  {
   "cell_type": "code",
   "execution_count": 2,
   "metadata": {},
   "outputs": [],
   "source": [
    "\"\"\"\n",
    "# 이미지(images)\n",
    "![대체 텍스트(alternative text)를 입력하세요!](https://www.w3schools.com/html/pic_trulli.jpg \"링크 설명(title)을 작성하세요.\")\n",
    "\n",
    "![Kayak][girl]\n",
    "\n",
    "[girl]: https://www.w3schools.com/html/img_girl.jpg \"Girl in the Jacket.\"\n",
    "\n",
    "\n",
    "# 이미지에 링크\n",
    "[![Vue](https://heropy.blog/images/vue.png)](https://kr.vuejs.org/)\n",
    "\"\"\"\n",
    "None"
   ]
  },
  {
   "cell_type": "markdown",
   "metadata": {},
   "source": [
    "# 이미지(images)\n",
    "![이미지설명](https://www.w3schools.com/html/pic_trulli.jpg)\n",
    "\n",
    "![Kayak][girl]\n",
    "\n",
    "[girl]: https://www.w3schools.com/html/img_girl.jpg \"Girl in the Jacket.\"\n",
    "\n",
    "# 이미지에 링크\n",
    "\n",
    "[![Vue](https://heropy.blog/images/vue.png)](https://kr.vuejs.org)"
   ]
  },
  {
   "attachments": {
    "image.png": {
     "image/png": "[encoded data removed]"
    }
   },
   "cell_type": "markdown",
   "metadata": {},
   "source": [
    "# 이미지 복붙으로 삽입가능\n",
    "웹상의 이미지 복사 -> CTRL+ V 로 삽입 가능\n",
    "\n",
    "![image.png](attachment:image.png)\n"
   ]
  },
  {
   "cell_type": "code",
   "execution_count": 3,
   "metadata": {},
   "outputs": [],
   "source": [
    "\"\"\"\n",
    "# 코드강조\n",
    "### 인라인 코드 강조\n",
    "`background`혹은 `background-image` 속성으로 요소에 배경 이미지를 삽입할 수 있습니다.\n",
    "\n",
    "### 블록 코드 강조\n",
    "`를 3번 이상 입력하고 코드 종류도 적습니다.\n",
    "\n",
    "```html\n",
    "<a href=\"https://www.google.co.kr/\" target=\"_blank\">GOOGLE</a>\n",
    "```\n",
    "\n",
    "```css\n",
    ".list > li {\n",
    "  position: absolute;\n",
    "  top: 40px;\n",
    "}\n",
    "```\n",
    "\n",
    "```javascript\n",
    "function func() {\n",
    "  var a = 'AAA';\n",
    "  return a;\n",
    "}\n",
    "```\n",
    "\n",
    "```bash\n",
    "$ vim ./~zshrc\n",
    "```\n",
    "\n",
    "```python\n",
    "s = \"Python syntax highlighting\"\n",
    "print s\n",
    "```\n",
    "\n",
    "```\n",
    "No language indicated, so no syntax highlighting. \n",
    "But let's throw in a tag.\n",
    "```\n",
    "\n",
    "\"\"\"\n",
    "None"
   ]
  },
  {
   "cell_type": "markdown",
   "metadata": {},
   "source": [
    "# 코드 강조\n",
    "### 인라인 강조\n",
    "`background`  요소에 이미지 삽입 가능\n",
    "\n",
    "### 블록코드 강조\n",
    "```html\n",
    "<a href=\"htts://www.google.com/\" target=\"_blank\">Google</a>\n",
    "\n",
    "```\n",
    "\n",
    "```css\n",
    ".list > li {\n",
    "  position: absolute;\n",
    "  top: 40px;\n",
    "}\n",
    "```\n",
    "\n",
    "```javascript\n",
    "function func() {\n",
    "  var a = 'AAA';\n",
    "  return a;\n",
    "}\n",
    "```\n",
    "\n",
    "```bash\n",
    "$ vim ./~zshrc\n",
    "```\n",
    "\n",
    "```python\n",
    "s = \"Python syntax highlighting\"\n",
    "print(s)\n",
    "```\n",
    "\n",
    "```\n",
    "No language indicated, so no syntax highlighting. \n",
    "But let's throw in a tag.\n",
    "```"
   ]
  },
  {
   "cell_type": "code",
   "execution_count": 4,
   "metadata": {},
   "outputs": [],
   "source": [
    "\"\"\"\n",
    "# 표(table)\n",
    "`<table>` 태그로 변환됩니다.\n",
    "헤더 셀을 구분할 때 3개 이상의 -(hyphen/dash) 기호가 필요합니다.\n",
    "헤더 셀을 구분하면서 :(Colons) 기호로 셀(열/칸) 안에 내용을 정렬할 수 있습니다.\n",
    "가장 좌측과 가장 우측에 있는 |(vertical bar) 기호는 생략 가능합니다.\n",
    "\n",
    "|aa|aa|\n",
    "|--|--|\n",
    "|1|2|\n",
    "|2|3|\n",
    "\n",
    "\"\"\"\n",
    "None"
   ]
  },
  {
   "cell_type": "code",
   "execution_count": 5,
   "metadata": {},
   "outputs": [
    {
     "data": {
      "text/html": [
       "<style>\n",
       "    table, img {margin-left:0 !important;}\n",
       "</style>\n"
      ],
      "text/plain": [
       "<IPython.core.display.HTML object>"
      ]
     },
     "metadata": {},
     "output_type": "display_data"
    }
   ],
   "source": [
    "%%html\n",
    "<style>\n",
    "    table, img {margin-left:0 !important;}\n",
    "</style>"
   ]
  },
  {
   "cell_type": "markdown",
   "metadata": {},
   "source": [
    "# 표 ( table)\n",
    "\n",
    "|aa|bb|\n",
    "|--|--|\n",
    "|10|20|\n",
    "|30|40|"
   ]
  },
  {
   "cell_type": "code",
   "execution_count": 6,
   "metadata": {},
   "outputs": [],
   "source": [
    "\"\"\"\n",
    "### span(열병합)\n",
    "\n",
    "| Col 1 | Col 2 | Col 3 | Col 4 |\n",
    "| -------- | :------: | -------- | -------- |\n",
    "| No span  | Span across three columns    |||\n",
    "\n",
    "\n",
    "\n",
    "\n",
    "\n",
    "| 값 | 의미 | 기본값 |\n",
    "|---|:---:|---:|\n",
    "| `static` | 유형(기준) 없음 / 배치 불가능 | `static` |\n",
    "| `relative` | 요소 자신을 기준으로 배치 |  |\n",
    "| `absolute` | 위치 상 부모(조상)요소를 기준으로 배치 |  |\n",
    "| `fixed` | 브라우저 창을 기준으로 배치 |  |\n",
    "\n",
    "값 | 의미 | 기본값\n",
    "---|:---:|---:\n",
    "`static` | 유형(기준) 없음 / 배치 불가능 | `static`\n",
    "`relative` | 요소 **자신**을 기준으로 배치 |\n",
    "`absolute` | 위치 상 **_부모_(조상)요소**를 기준으로 배치 |\n",
    "`fixed` | **브라우저 창**을 기준으로 배치 |\n",
    "\"\"\"\n",
    "None"
   ]
  },
  {
   "cell_type": "markdown",
   "metadata": {},
   "source": [
    "### span(열병합)\n",
    "\n",
    "| Col 1 | Col 2 | Col 3 | Col 4 |\n",
    "| -------- | :------: | -------- | -------- |\n",
    "| No span  | Span across three columns    |||\n",
    "\n",
    "\n",
    "\n",
    "\n",
    "\n",
    "| 값 | 의미 | 기본값 |\n",
    "|---|:---:|---:|\n",
    "| `static` | 유형(기준) 없음 / 배치 불가능 | `static` |\n",
    "| `relative` | 요소 자신을 기준으로 배치 |  |\n",
    "| `absolute` | 위치 상 부모(조상)요소를 기준으로 배치 |  |\n",
    "| `fixed` | 브라우저 창을 기준으로 배치 |  |\n",
    "\n",
    "값 | 의미 | 기본값\n",
    "---|:---:|---:\n",
    "`static` | 유형(기준) 없음 / 배치 불가능 | `static`\n",
    "`relative` | 요소 **자신**을 기준으로 배치 |\n",
    "`absolute` | 위치 상 **_부모_(조상)요소**를 기준으로 배치 |\n",
    "`fixed` | **브라우저 창**을 기준으로 배치 |"
   ]
  },
  {
   "cell_type": "code",
   "execution_count": 7,
   "metadata": {},
   "outputs": [],
   "source": [
    "\"\"\"\n",
    "# 인용문\n",
    "`<blockquote>` 태그로 변환됩니다.\n",
    "\n",
    "인용문(blockQuote)\n",
    "\n",
    "> 남의 말이나 글에서 직접 또는 간접으로 따온 문장.\n",
    "> _(네이버 국어 사전)_\n",
    "\n",
    "BREAK!\n",
    "\n",
    "> 인용문을 작성하세요!\n",
    ">> 중첩된 인용문(nested blockquote)을 만들 수 있습니다.\n",
    ">>> 중중첩된 인용문 1\n",
    ">>> 중중첩된 인용문 2\n",
    ">>> 중중첩된 인용문 3\n",
    "\"\"\"\n",
    "None"
   ]
  },
  {
   "cell_type": "markdown",
   "metadata": {},
   "source": [
    "# 인용문\n",
    "인용문 (blockQuote)\n",
    ">  남의 말이나 글을 따온 문장\n",
    "> _네이버 국어사전_\n",
    "\n",
    "> 인용문 작성\n",
    ">> 중첩된 인용문\n",
    ">>> 인용문1\n",
    ">>> 인용문2\n",
    ">>> 인용문3"
   ]
  },
  {
   "cell_type": "code",
   "execution_count": 8,
   "metadata": {},
   "outputs": [],
   "source": [
    "\"\"\"\n",
    "# HTML 문서\n",
    "원래 HTML 문법을 사용할 수 있습니다.\n",
    "<u>마크다운에서 지원하지 않는 기능</u>을 사용할 때 유용하며 대부분 잘 동작합니다.\n",
    "\n",
    "<img width=\"150\" src=\"https://www.w3schools.com/html/img_chania.jpg\" alt=\"Prunus\" title=\"flowers\">\n",
    "\"\"\"\n",
    "None\n"
   ]
  },
  {
   "cell_type": "markdown",
   "metadata": {},
   "source": [
    "# HTML 문서\n",
    "원래 HTML 문법을 사용할 수 있습니다.\n",
    "<u>마크다운에서 지원하지 않는 기능</u>을 사용할 때 유용하며 대부분 잘 동작합니다.\n",
    "\n",
    "<img width=\"150\" src=\"https://www.w3schools.com/html/img_chania.jpg\" alt=\"Prunus\" title=\"flowers\">\n"
   ]
  },
  {
   "cell_type": "code",
   "execution_count": null,
   "metadata": {},
   "outputs": [],
   "source": []
  },
  {
   "cell_type": "code",
   "execution_count": null,
   "metadata": {},
   "outputs": [],
   "source": []
  },
  {
   "cell_type": "code",
   "execution_count": null,
   "metadata": {},
   "outputs": [],
   "source": []
  },
  {
   "cell_type": "code",
   "execution_count": null,
   "metadata": {},
   "outputs": [],
   "source": []
  },
  {
   "cell_type": "code",
   "execution_count": null,
   "metadata": {},
   "outputs": [],
   "source": []
  },
  {
   "cell_type": "code",
   "execution_count": null,
   "metadata": {},
   "outputs": [],
   "source": []
  },
  {
   "cell_type": "code",
   "execution_count": null,
   "metadata": {},
   "outputs": [],
   "source": []
  }
 ],
 "metadata": {
  "kernelspec": {
   "display_name": "Python 3",
   "language": "python",
   "name": "python3"
  },
  "language_info": {
   "codemirror_mode": {
    "name": "ipython",
    "version": 3
   },
   "file_extension": ".py",
   "mimetype": "text/x-python",
   "name": "python",
   "nbconvert_exporter": "python",
   "pygments_lexer": "ipython3",
   "version": "3.8.5"
  }
 },
 "nbformat": 4,
 "nbformat_minor": 4
}
