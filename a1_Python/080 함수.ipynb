{
 "cells": [
  {
   "cell_type": "markdown",
   "metadata": {},
   "source": [
    "# 함수 (Function)"
   ]
  },
  {
   "cell_type": "code",
   "execution_count": 1,
   "metadata": {},
   "outputs": [],
   "source": [
    "# 함수 만들기 (함수 정의 : Function Definition)\n",
    "\n",
    "# def 키워드로 작성\n",
    "\n",
    "# def 함수이름( 매개변수 들):\n",
    "#     함수 본체 <수행할 문장1>\n",
    "#     함수 본체 <수행할 문장2>\n",
    "#     ...\n",
    "\n",
    "# 함수의 동작 정의\n",
    "#   입력(매개변수) -> 본체 수행 -> 결과(리턴)\n",
    "\n",
    "# 함수이름은 변수 이름 작성과 거의 동일한 규칙\n",
    "\n",
    "#----------------------------------------------------------\n",
    "# 함수 호출 (함수 사용 )  Function call, invoke\n",
    "# 함수호출시 넘겨지는 인자(parameter) 값들은\n",
    "# 함수의 매개변수(argument)들이 받습니다.\n",
    "# 매개변수는 0개, 한개, 여러개 있을수 있을수 있습니다\n",
    "\n",
    "# 함수에는 리턴값이 있다.\n",
    "# 리턴값은 함수를 호출(call) 한쪽에 돌려준다\n",
    "# return 키워드로 리턴값을\n",
    "# 함수 본체 수행중 return 을 만나면 함수를 종료 하게 됩니다\n",
    "# 어떠한 타입도 리턴할수 있다.\n",
    "# 리턴값은 없을수도 있다. None 리턴\n"
   ]
  },
  {
   "cell_type": "code",
   "execution_count": 2,
   "metadata": {},
   "outputs": [],
   "source": [
    "# 함수 정의\n",
    "def sayAnthem():\n",
    "    print(\"동해물과 백수산이\")\n",
    "    print(\"마르고 닳도록\")\n",
    "    print(\"하느님이 보우하사\")\n",
    "    print(\"우리나라 만세\")"
   ]
  },
  {
   "cell_type": "code",
   "execution_count": 3,
   "metadata": {},
   "outputs": [
    {
     "name": "stdout",
     "output_type": "stream",
     "text": [
      "동해물과 백수산이\n",
      "마르고 닳도록\n",
      "하느님이 보우하사\n",
      "우리나라 만세\n"
     ]
    }
   ],
   "source": [
    "# 함수 호출\n",
    "sayAnthem()"
   ]
  },
  {
   "cell_type": "code",
   "execution_count": 4,
   "metadata": {},
   "outputs": [],
   "source": [
    "# 매개변수 지정\n",
    "def sayName(name):\n",
    "    print('안녕하세요')\n",
    "    print('제 이름은', name, '입니다')"
   ]
  },
  {
   "cell_type": "code",
   "execution_count": 5,
   "metadata": {},
   "outputs": [
    {
     "name": "stdout",
     "output_type": "stream",
     "text": [
      "안녕하세요\n",
      "제 이름은 문혜진 입니다\n"
     ]
    }
   ],
   "source": [
    "sayName('문혜진')"
   ]
  },
  {
   "cell_type": "code",
   "execution_count": 6,
   "metadata": {},
   "outputs": [
    {
     "ename": "TypeError",
     "evalue": "sayName() missing 1 required positional argument: 'name'",
     "output_type": "error",
     "traceback": [
      "\u001b[1;31m---------------------------------------------------------------------------\u001b[0m",
      "\u001b[1;31mTypeError\u001b[0m                                 Traceback (most recent call last)",
      "\u001b[1;32m<ipython-input-6-a338f4cde9af>\u001b[0m in \u001b[0;36m<module>\u001b[1;34m\u001b[0m\n\u001b[1;32m----> 1\u001b[1;33m \u001b[0msayName\u001b[0m\u001b[1;33m(\u001b[0m\u001b[1;33m)\u001b[0m  \u001b[1;31m#?????????????????????????\u001b[0m\u001b[1;33m\u001b[0m\u001b[1;33m\u001b[0m\u001b[0m\n\u001b[0m",
      "\u001b[1;31mTypeError\u001b[0m: sayName() missing 1 required positional argument: 'name'"
     ]
    }
   ],
   "source": [
    "sayName()  # 에러!"
   ]
  },
  {
   "cell_type": "code",
   "execution_count": 7,
   "metadata": {},
   "outputs": [],
   "source": [
    "def sayAge(age):\n",
    "    print(\"제 나이는요...\")\n",
    "    print(age, \"살 입니다\")"
   ]
  },
  {
   "cell_type": "code",
   "execution_count": 8,
   "metadata": {},
   "outputs": [
    {
     "name": "stdout",
     "output_type": "stream",
     "text": [
      "제 나이는요...\n",
      "10025 살 입니다\n"
     ]
    }
   ],
   "source": [
    "sayAge(10025)"
   ]
  },
  {
   "cell_type": "code",
   "execution_count": 9,
   "metadata": {},
   "outputs": [],
   "source": [
    "def sayHello(name, age):\n",
    "    print(\"--\" * 10)\n",
    "    sayName(name)\n",
    "    sayAge(age)\n",
    "    print(\"--\" * 10)"
   ]
  },
  {
   "cell_type": "code",
   "execution_count": 10,
   "metadata": {},
   "outputs": [
    {
     "name": "stdout",
     "output_type": "stream",
     "text": [
      "--------------------\n",
      "안녕하세요\n",
      "제 이름은 토르 입니다\n",
      "제 나이는요...\n",
      "1000 살 입니다\n",
      "--------------------\n"
     ]
    }
   ],
   "source": [
    "sayHello('토르', 1000)"
   ]
  },
  {
   "cell_type": "code",
   "execution_count": 11,
   "metadata": {},
   "outputs": [
    {
     "name": "stdout",
     "output_type": "stream",
     "text": [
      "--------------------\n",
      "안녕하세요\n",
      "제 이름은 1000 입니다\n",
      "제 나이는요...\n",
      "토르 살 입니다\n",
      "--------------------\n"
     ]
    }
   ],
   "source": [
    "sayHello(1000, '토르')  # "
   ]
  },
  {
   "cell_type": "code",
   "execution_count": 13,
   "metadata": {},
   "outputs": [
    {
     "name": "stdout",
     "output_type": "stream",
     "text": [
      "--------------------\n",
      "안녕하세요\n",
      "제 이름은 로키 입니다\n",
      "제 나이는요...\n",
      "500 살 입니다\n",
      "--------------------\n",
      "--------------------\n",
      "안녕하세요\n",
      "제 이름은 로키 입니다\n",
      "제 나이는요...\n",
      "500 살 입니다\n",
      "--------------------\n"
     ]
    }
   ],
   "source": [
    "# 함수호출시 매개변수 명시 가능!\n",
    "# 순서가 바뀌어도 동작 가능!\n",
    "sayHello(name = \"로키\", age = 500)\n",
    "sayHello(age = 500, name = \"로키\")"
   ]
  },
  {
   "cell_type": "code",
   "execution_count": 14,
   "metadata": {},
   "outputs": [
    {
     "name": "stdout",
     "output_type": "stream",
     "text": [
      "--------------------\n",
      "안녕하세요\n",
      "제 이름은 로키 입니다\n",
      "제 나이는요...\n",
      "500 살 입니다\n",
      "--------------------\n",
      "None\n"
     ]
    }
   ],
   "source": [
    "print(sayHello(age = 500, name = \"로키\"))"
   ]
  },
  {
   "cell_type": "code",
   "execution_count": 20,
   "metadata": {},
   "outputs": [],
   "source": [
    "def codeEveryday():\n",
    "    print(\"파이썬 열공중\")\n",
    "    print(\"Life is short\")\n",
    "    print(\"You need Python\")\n",
    "    return  # 리턴값 명시 안하면, None 리턴함\n",
    "\n",
    "# 동일 이름의 함수 재정의하면 이전 함수 정의는 사라짐 (덮어쓰기 됨)\n",
    "def codeEveryday():\n",
    "    print(\"You need Python\")\n",
    "    return  # 여기서 함수 종료\n",
    "    print(\"Life is short\")\n",
    "    print(\"파이썬 열공중\")\n",
    "    "
   ]
  },
  {
   "cell_type": "code",
   "execution_count": 21,
   "metadata": {},
   "outputs": [
    {
     "name": "stdout",
     "output_type": "stream",
     "text": [
      "You need Python\n"
     ]
    }
   ],
   "source": [
    "codeEveryday()"
   ]
  },
  {
   "cell_type": "code",
   "execution_count": 26,
   "metadata": {},
   "outputs": [],
   "source": [
    "def add(a, b):\n",
    "    result = a + b\n",
    "    return result"
   ]
  },
  {
   "cell_type": "code",
   "execution_count": 27,
   "metadata": {},
   "outputs": [
    {
     "data": {
      "text/plain": [
       "30"
      ]
     },
     "execution_count": 27,
     "metadata": {},
     "output_type": "execute_result"
    }
   ],
   "source": [
    "add(10, 20)"
   ]
  },
  {
   "cell_type": "code",
   "execution_count": 28,
   "metadata": {},
   "outputs": [
    {
     "data": {
      "text/plain": [
       "40"
      ]
     },
     "execution_count": 28,
     "metadata": {},
     "output_type": "execute_result"
    }
   ],
   "source": [
    "add(10, add(10, 20))"
   ]
  },
  {
   "cell_type": "code",
   "execution_count": 29,
   "metadata": {},
   "outputs": [],
   "source": [
    "def add(a, b):\n",
    "    print(f'a={a} b={b}')\n",
    "    return a + b"
   ]
  },
  {
   "cell_type": "code",
   "execution_count": 30,
   "metadata": {},
   "outputs": [
    {
     "name": "stdout",
     "output_type": "stream",
     "text": [
      "a=10 b=20\n"
     ]
    },
    {
     "data": {
      "text/plain": [
       "30"
      ]
     },
     "execution_count": 30,
     "metadata": {},
     "output_type": "execute_result"
    }
   ],
   "source": [
    "add(10, 20)"
   ]
  },
  {
   "cell_type": "code",
   "execution_count": 31,
   "metadata": {},
   "outputs": [
    {
     "name": "stdout",
     "output_type": "stream",
     "text": [
      "a=40 b=30\n"
     ]
    },
    {
     "data": {
      "text/plain": [
       "70"
      ]
     },
     "execution_count": 31,
     "metadata": {},
     "output_type": "execute_result"
    }
   ],
   "source": [
    "add(b = 30, a = 40)"
   ]
  },
  {
   "cell_type": "code",
   "execution_count": 32,
   "metadata": {},
   "outputs": [
    {
     "ename": "SyntaxError",
     "evalue": "positional argument follows keyword argument (<ipython-input-32-7a5f1e442ad9>, line 1)",
     "output_type": "error",
     "traceback": [
      "\u001b[1;36m  File \u001b[1;32m\"<ipython-input-32-7a5f1e442ad9>\"\u001b[1;36m, line \u001b[1;32m1\u001b[0m\n\u001b[1;33m    add(b = 50, 7)\u001b[0m\n\u001b[1;37m                ^\u001b[0m\n\u001b[1;31mSyntaxError\u001b[0m\u001b[1;31m:\u001b[0m positional argument follows keyword argument\n"
     ]
    }
   ],
   "source": [
    "add(b = 50, 7)  # position 매개변수 가 keyword 매개변수 뒤에 오면 안됨!"
   ]
  },
  {
   "cell_type": "code",
   "execution_count": 33,
   "metadata": {},
   "outputs": [
    {
     "name": "stdout",
     "output_type": "stream",
     "text": [
      "a=7 b=50\n"
     ]
    },
    {
     "data": {
      "text/plain": [
       "57"
      ]
     },
     "execution_count": 33,
     "metadata": {},
     "output_type": "execute_result"
    }
   ],
   "source": [
    "add(7, b = 50)"
   ]
  },
  {
   "cell_type": "markdown",
   "metadata": {},
   "source": [
    "## 디폴트 매개변수 (Default Argument)"
   ]
  },
  {
   "cell_type": "code",
   "execution_count": 34,
   "metadata": {},
   "outputs": [],
   "source": [
    "# 함수정의시 매개변수에 디폴트 값을 지정해 주면,  호출시 생략가능하다\n",
    "# 생략된 상태에서 호출되면 디폴트 값으로 작동된다\n",
    "\n",
    "# 디폴트 매개변수 작성 구문\n",
    "#    def 함수명(매개변수명=디폴트값)\n"
   ]
  },
  {
   "cell_type": "code",
   "execution_count": 37,
   "metadata": {},
   "outputs": [
    {
     "name": "stdout",
     "output_type": "stream",
     "text": [
      "제 이름은 고길동 입니다\n",
      "나이는 43 입니다\n",
      "남자입니다\n",
      "\n",
      "제 이름은 홍길동 입니다\n",
      "나이는 25 입니다\n",
      "남자입니다\n",
      "\n",
      "제 이름은 임향미 입니다\n",
      "나이는 32 입니다\n",
      "여자입니다\n",
      "\n"
     ]
    }
   ],
   "source": [
    "def say_myself(name, old, gender='M'):\n",
    "    print(f'제 이름은 {name} 입니다')\n",
    "    print(f'나이는 {old} 입니다')\n",
    "    \n",
    "    (gender == 'M') and print('남자입니다')\n",
    "    (gender == 'F') and print('여자입니다')\n",
    "    \n",
    "    print()\n",
    "    \n",
    "say_myself('고길동', 43, 'M')\n",
    "say_myself('홍길동', 25)\n",
    "say_myself('임향미', 32, 'F')"
   ]
  },
  {
   "cell_type": "code",
   "execution_count": 40,
   "metadata": {},
   "outputs": [
    {
     "name": "stdout",
     "output_type": "stream",
     "text": [
      "hello\n",
      "10 20 30\n",
      "10:20:30\n"
     ]
    }
   ],
   "source": [
    "print('hello', end='\\n')\n",
    "print(10, 20, 30, sep=' ')\n",
    "print(10, 20, 30, sep=':')"
   ]
  },
  {
   "cell_type": "code",
   "execution_count": 41,
   "metadata": {},
   "outputs": [
    {
     "ename": "SyntaxError",
     "evalue": "non-default argument follows default argument (<ipython-input-41-9b362c20abf4>, line 1)",
     "output_type": "error",
     "traceback": [
      "\u001b[1;36m  File \u001b[1;32m\"<ipython-input-41-9b362c20abf4>\"\u001b[1;36m, line \u001b[1;32m1\u001b[0m\n\u001b[1;33m    def say_myself(name, gender='M', old):\u001b[0m\n\u001b[1;37m                   ^\u001b[0m\n\u001b[1;31mSyntaxError\u001b[0m\u001b[1;31m:\u001b[0m non-default argument follows default argument\n"
     ]
    }
   ],
   "source": [
    "# 디폴트 매개변수, 주의 사항\n",
    "# 디폴트 매개변수 다음에 non-default 매개변수 올수 없다.\n",
    "def say_myself(name, gender='M', old):\n",
    "    print(f'제 이름은 {name} 입니다')\n",
    "    print(f'나이는 {old} 입니다')\n",
    "    \n",
    "    (gender == 'M') and print('남자입니다')\n",
    "    (gender == 'F') and print('여자입니다')\n",
    "    \n",
    "    print()"
   ]
  },
  {
   "cell_type": "code",
   "execution_count": null,
   "metadata": {},
   "outputs": [],
   "source": []
  },
  {
   "cell_type": "markdown",
   "metadata": {},
   "source": [
    "## 함수의 리턴값이 여러개다?"
   ]
  },
  {
   "cell_type": "code",
   "execution_count": 43,
   "metadata": {},
   "outputs": [],
   "source": [
    "# 결론적으로 말하자면 함수의 리턴 값은 오직 '하나' 다\n",
    "# 그런데 파이썬에선 여러개의 값도 리턴이 가능했다!  어떻게 가능?  tuple 로 리턴하면 가능하다.\n",
    "# 기술적으로는 tuple 하나 만 리턴했지만, tuple 안에 값이 여러개 있기 때문에\n",
    "# 여러개의 값을 리턴한것과 같은 효과를 보는것이다"
   ]
  },
  {
   "cell_type": "code",
   "execution_count": 42,
   "metadata": {},
   "outputs": [
    {
     "data": {
      "text/plain": [
       "(7, 12)"
      ]
     },
     "execution_count": 42,
     "metadata": {},
     "output_type": "execute_result"
    }
   ],
   "source": [
    "def sum_and_mul(a, b):\n",
    "    return a + b, a * b\n",
    "\n",
    "sum_and_mul(3, 4)"
   ]
  },
  {
   "cell_type": "code",
   "execution_count": 44,
   "metadata": {},
   "outputs": [
    {
     "name": "stdout",
     "output_type": "stream",
     "text": [
      "7 12\n"
     ]
    }
   ],
   "source": [
    "s, m = sum_and_mul(3, 4)\n",
    "print(s, m)"
   ]
  },
  {
   "cell_type": "markdown",
   "metadata": {},
   "source": [
    "#### tuple을 리턴하는 기본 내장함수들도 많다"
   ]
  },
  {
   "cell_type": "code",
   "execution_count": 45,
   "metadata": {},
   "outputs": [
    {
     "data": {
      "text/plain": [
       "(3, 1)"
      ]
     },
     "execution_count": 45,
     "metadata": {},
     "output_type": "execute_result"
    }
   ],
   "source": [
    "divmod(10, 3)"
   ]
  },
  {
   "cell_type": "code",
   "execution_count": 46,
   "metadata": {},
   "outputs": [],
   "source": [
    "quotient, remainder = divmod(10, 3)"
   ]
  },
  {
   "cell_type": "code",
   "execution_count": 47,
   "metadata": {},
   "outputs": [
    {
     "data": {
      "text/plain": [
       "3"
      ]
     },
     "execution_count": 47,
     "metadata": {},
     "output_type": "execute_result"
    }
   ],
   "source": [
    "quotient"
   ]
  },
  {
   "cell_type": "markdown",
   "metadata": {},
   "source": [
    "## 연습 "
   ]
  },
  {
   "cell_type": "code",
   "execution_count": 48,
   "metadata": {},
   "outputs": [],
   "source": [
    "import math"
   ]
  },
  {
   "cell_type": "code",
   "execution_count": 49,
   "metadata": {},
   "outputs": [
    {
     "data": {
      "text/plain": [
       "3.141592653589793"
      ]
     },
     "execution_count": 49,
     "metadata": {},
     "output_type": "execute_result"
    }
   ],
   "source": [
    "math.pi"
   ]
  },
  {
   "cell_type": "code",
   "execution_count": 50,
   "metadata": {},
   "outputs": [],
   "source": [
    "# 반지름은 입력받아\n",
    "# 원의 '둘레'와 '면적'을 계산하여 리턴하는 함수를 작성하세요\n",
    "\n",
    "# 정의 ,  호출"
   ]
  },
  {
   "cell_type": "code",
   "execution_count": 51,
   "metadata": {},
   "outputs": [
    {
     "name": "stdout",
     "output_type": "stream",
     "text": [
      "62.83185307179586 314.1592653589793\n"
     ]
    }
   ],
   "source": [
    "def calc_circle(radius):\n",
    "    perimeter = 2 * math.pi * radius # 둘레\n",
    "    area = math.pi * (radius ** 2)  # 면적\n",
    "    return perimeter, area\n",
    "\n",
    "\n",
    "p, a = calc_circle(10)\n",
    "print(p, a)"
   ]
  },
  {
   "cell_type": "code",
   "execution_count": 52,
   "metadata": {},
   "outputs": [],
   "source": [
    "# http://jungol.co.kr/bbs/board.php?bo_table=pbank&wr_id=77&sca=10c0\n",
    "# 함수2 - 형성평가3\n",
    "\"\"\"\n",
    "n개의 정수를 입력받아 각 정수의 절대값의 합을 출력하는 프로그램을 작성하시오. \n",
    "(함수를 작성하세요)\n",
    "\n",
    "입력예]\n",
    "35 -20 10 0 55\n",
    "\n",
    "출력예]\n",
    "120\n",
    "\"\"\"\n",
    "pass"
   ]
  },
  {
   "cell_type": "code",
   "execution_count": 53,
   "metadata": {},
   "outputs": [
    {
     "name": "stdout",
     "output_type": "stream",
     "text": [
      "35 -20 10 0 55\n",
      "120\n"
     ]
    }
   ],
   "source": [
    "def sum_abs(args):\n",
    "    result = 0\n",
    "    \n",
    "    for i in args:\n",
    "        if i >= 0:\n",
    "            result += i\n",
    "        else:\n",
    "            result -= i\n",
    "        \n",
    "    return result\n",
    "\n",
    "args = map(int, input().split())\n",
    "print(sum_abs(args))"
   ]
  },
  {
   "cell_type": "code",
   "execution_count": 59,
   "metadata": {},
   "outputs": [
    {
     "name": "stdout",
     "output_type": "stream",
     "text": [
      "35 -20 10 0 55\n",
      "120\n"
     ]
    }
   ],
   "source": [
    "def sum_abs(args):\n",
    "    \n",
    "    return sum([\n",
    "        num if num >= 0 else -num\n",
    "        for num in args\n",
    "    ])\n",
    "    \n",
    "\n",
    "args = map(int, input().split())\n",
    "print(sum_abs(args))"
   ]
  },
  {
   "cell_type": "code",
   "execution_count": 55,
   "metadata": {},
   "outputs": [
    {
     "data": {
      "text/plain": [
       "60"
      ]
     },
     "execution_count": 55,
     "metadata": {},
     "output_type": "execute_result"
    }
   ],
   "source": [
    "sum([10, 20, 30])"
   ]
  },
  {
   "cell_type": "code",
   "execution_count": null,
   "metadata": {},
   "outputs": [],
   "source": []
  },
  {
   "cell_type": "code",
   "execution_count": null,
   "metadata": {},
   "outputs": [],
   "source": []
  },
  {
   "cell_type": "code",
   "execution_count": null,
   "metadata": {},
   "outputs": [],
   "source": []
  },
  {
   "cell_type": "code",
   "execution_count": null,
   "metadata": {},
   "outputs": [],
   "source": []
  },
  {
   "cell_type": "code",
   "execution_count": null,
   "metadata": {},
   "outputs": [],
   "source": []
  },
  {
   "cell_type": "code",
   "execution_count": null,
   "metadata": {},
   "outputs": [],
   "source": []
  },
  {
   "cell_type": "code",
   "execution_count": null,
   "metadata": {},
   "outputs": [],
   "source": []
  },
  {
   "cell_type": "code",
   "execution_count": null,
   "metadata": {},
   "outputs": [],
   "source": []
  },
  {
   "cell_type": "code",
   "execution_count": null,
   "metadata": {},
   "outputs": [],
   "source": []
  },
  {
   "cell_type": "code",
   "execution_count": null,
   "metadata": {},
   "outputs": [],
   "source": []
  },
  {
   "cell_type": "code",
   "execution_count": null,
   "metadata": {},
   "outputs": [],
   "source": []
  },
  {
   "cell_type": "code",
   "execution_count": null,
   "metadata": {},
   "outputs": [],
   "source": []
  },
  {
   "cell_type": "code",
   "execution_count": null,
   "metadata": {},
   "outputs": [],
   "source": []
  },
  {
   "cell_type": "code",
   "execution_count": null,
   "metadata": {},
   "outputs": [],
   "source": []
  },
  {
   "cell_type": "code",
   "execution_count": null,
   "metadata": {},
   "outputs": [],
   "source": []
  },
  {
   "cell_type": "code",
   "execution_count": null,
   "metadata": {},
   "outputs": [],
   "source": []
  },
  {
   "cell_type": "code",
   "execution_count": null,
   "metadata": {},
   "outputs": [],
   "source": []
  }
 ],
 "metadata": {
  "kernelspec": {
   "display_name": "Python 3",
   "language": "python",
   "name": "python3"
  },
  "language_info": {
   "codemirror_mode": {
    "name": "ipython",
    "version": 3
   },
   "file_extension": ".py",
   "mimetype": "text/x-python",
   "name": "python",
   "nbconvert_exporter": "python",
   "pygments_lexer": "ipython3",
   "version": "3.8.5"
  }
 },
 "nbformat": 4,
 "nbformat_minor": 4
}
