{
 "cells": [
  {
   "cell_type": "code",
   "execution_count": 1,
   "metadata": {},
   "outputs": [],
   "source": [
    "# 제어문 (Control)\n",
    "#     프로그램의 기본 흐름 변경\n",
    "#   1. 조건문 Conditional\n",
    "#       - if \n",
    "\n",
    "#   2. 순환문 Loop\n",
    "#       - for, while"
   ]
  },
  {
   "cell_type": "markdown",
   "metadata": {},
   "source": [
    "# 조건문 Conditional"
   ]
  },
  {
   "cell_type": "code",
   "execution_count": 2,
   "metadata": {},
   "outputs": [],
   "source": [
    "# 조건문, 반복문에 대해 작용\n",
    "# 조건문 (if ~ elif ~ else)\n",
    "\n",
    "\n",
    "# if 조건식:\n",
    "#    참일때 수행 구문 블록  (블록이란 문장들의 집합)\n",
    "\n",
    "\n",
    "# if 조건식:\n",
    "#    참일때 수행 구문 블록\n",
    "# else:\n",
    "#    거짓일때 수행 구문 블록\n",
    "\n",
    "\n",
    "# if 조건식1:\n",
    "#    조건식1 참일때 수행 구문 블록\n",
    "# elif 조건식2:\n",
    "#    조건식2 참일때 수행 구문 블록\n",
    "# elif 조건식3:\n",
    "#    조건식3 참일때 수행 구문 블록\n",
    "# else:\n",
    "#    어떤 조건식도 거짓일때 수행 구문 블록\n",
    "\n",
    "\n",
    "# 각 블록은 반드시 동일한 인덴트로 작성되어야 한다\n",
    "\n",
    "# 조건식에는 비교연산자와 논리연산자 등을 잘 활용해야 한다\n",
    "# 비교연산자 <, >, ==, !=, >=, <=\n",
    "# 논리연산자 and, or, not\n"
   ]
  },
  {
   "cell_type": "code",
   "execution_count": 7,
   "metadata": {},
   "outputs": [
    {
     "name": "stdout",
     "output_type": "stream",
     "text": [
      "변수 a 값\n",
      "10 는 양수입니다\n",
      "종료합니다\n"
     ]
    }
   ],
   "source": [
    "a = 10\n",
    "\n",
    "if a > 0:\n",
    "    print(\"변수 a 값\")\n",
    "    print(a, \"는 양수입니다\")\n",
    "    \n",
    "print('종료합니다')"
   ]
  },
  {
   "cell_type": "code",
   "execution_count": 8,
   "metadata": {},
   "outputs": [
    {
     "ename": "IndentationError",
     "evalue": "unexpected indent (<ipython-input-8-bb39604e79e8>, line 5)",
     "output_type": "error",
     "traceback": [
      "\u001b[1;36m  File \u001b[1;32m\"<ipython-input-8-bb39604e79e8>\"\u001b[1;36m, line \u001b[1;32m5\u001b[0m\n\u001b[1;33m    print(a, \"는 양수입니다\")\u001b[0m\n\u001b[1;37m    ^\u001b[0m\n\u001b[1;31mIndentationError\u001b[0m\u001b[1;31m:\u001b[0m unexpected indent\n"
     ]
    }
   ],
   "source": [
    "a = 10\n",
    "\n",
    "if a > 0:\n",
    "    print(\"변수 a 값\")\n",
    "     print(a, \"는 양수입니다\")  # 동일 블럭안의 문장은 동일 indent 유지해야 한다\n",
    "    \n",
    "print('종료합니다')"
   ]
  },
  {
   "cell_type": "code",
   "execution_count": 10,
   "metadata": {},
   "outputs": [
    {
     "name": "stdout",
     "output_type": "stream",
     "text": [
      "음수입니다\n",
      "종료~~\n"
     ]
    }
   ],
   "source": [
    "a = -10\n",
    "if a > 0:\n",
    "    print(\"양수입니다\")\n",
    "\n",
    "if a == 0:\n",
    "    print('0 입니다')\n",
    "    \n",
    "if a < 0: print(\"음수입니다\")  # 수행블럭의 문장이 하나인 경우 : 우측에 작성 가능\n",
    "    \n",
    "print(\"종료~~\")"
   ]
  },
  {
   "cell_type": "code",
   "execution_count": 11,
   "metadata": {},
   "outputs": [
    {
     "name": "stdout",
     "output_type": "stream",
     "text": [
      "홀수입니다\n",
      "if~else 종료\n"
     ]
    }
   ],
   "source": [
    "a = 3\n",
    "\n",
    "if a % 2 == 0:\n",
    "    print('짝수입니다')\n",
    "else:\n",
    "    print('홀수입니다')\n",
    "    \n",
    "print('if~else 종료')"
   ]
  },
  {
   "cell_type": "code",
   "execution_count": 18,
   "metadata": {},
   "outputs": [
    {
     "name": "stdout",
     "output_type": "stream",
     "text": [
      "양수입니다\n",
      "if ~ elif 종료\n"
     ]
    }
   ],
   "source": [
    "a = 120\n",
    "\n",
    "if a > 0:\n",
    "    print('양수입니다')\n",
    "elif a == 0:\n",
    "    print('0 입니다')\n",
    "else:\n",
    "    print('음수입니다')\n",
    "    \n",
    "print('if ~ elif 종료')"
   ]
  },
  {
   "cell_type": "markdown",
   "metadata": {},
   "source": [
    "#### 중첩 조건문"
   ]
  },
  {
   "cell_type": "code",
   "execution_count": 19,
   "metadata": {},
   "outputs": [],
   "source": [
    "# TODO\n",
    "# 중첩 if 문 사용\n",
    "\n",
    "# 주어진 숫자가 \n",
    "# 홀수 이면 \"홀수입니다\" 라고 출력하고\n",
    "#     3의 배수이면 \"3의 배수입니다\" 라고 출력해주고\n",
    "#     3의 배수가 아니면 \"홀수이지만 3의 배수는 아닙니다\" 라고 출력\n",
    "\n",
    "# 짝수 이면 \"짝수입니다\" 라고 출력하고\n",
    "#     6의 배수면 \"6의 배수입니다\" 라고 출력하고\n",
    "#     6의 배수가 아니면 \"짝수이지만 6의 배수는 아닙니다\" 라고 출력\n",
    "\n",
    "#  예]\n",
    "#  7 의 경우\n",
    "\n",
    "#  출력]\n",
    "#  홀수입니다\n",
    "#  홀수이지만 3의 배수는 아닙니다"
   ]
  },
  {
   "cell_type": "code",
   "execution_count": 23,
   "metadata": {},
   "outputs": [
    {
     "name": "stdout",
     "output_type": "stream",
     "text": [
      "홀수입니다\n",
      "홀수이지만 3의 배수는 아닙니다\n",
      "-종료-\n"
     ]
    }
   ],
   "source": [
    "n = 5\n",
    "\n",
    "if n % 2 == 0:\n",
    "    print(\"짝수입니다\")\n",
    "    if n % 6 == 0:\n",
    "        print(\"6의 배수입니다\")\n",
    "    else:\n",
    "        print(\"짝수이지만 6의 배수는 아닙니다\")\n",
    "else:\n",
    "    print(\"홀수입니다\")\n",
    "    if n % 3 == 0:\n",
    "        print(\"3의 배수입니다\")\n",
    "    else:\n",
    "        print(\"홀수이지만 3의 배수는 아닙니다\")\n",
    "\n",
    "print(\"-종료-\")"
   ]
  },
  {
   "cell_type": "code",
   "execution_count": null,
   "metadata": {},
   "outputs": [],
   "source": []
  },
  {
   "cell_type": "markdown",
   "metadata": {},
   "source": [
    "# 비교연산자, 논리연산자"
   ]
  },
  {
   "cell_type": "code",
   "execution_count": 24,
   "metadata": {},
   "outputs": [],
   "source": [
    "# 조건식에 사용가능한 비교연산자, 논리연산자\n",
    "# 비교연산자 : >, >=, <, <=, !=, ==\n",
    "# 논리연산자 : and, or, not, ^ (xor)\n",
    "# 위 연산자들의 결과값은 항상 True / False\n",
    "#      and : 둘다 '참' 일때 '참'\n",
    "#      or : 둘중 하나만 '참' 이면 '참'\n",
    "#      not : 참 -> 거짓, 거짓 -> 참\n",
    "#      ^ : eXclusive OR (XOR, 배타적 논리합)\n",
    "#          같으면 거짓, 다르면 참 "
   ]
  },
  {
   "cell_type": "code",
   "execution_count": 35,
   "metadata": {},
   "outputs": [
    {
     "name": "stdout",
     "output_type": "stream",
     "text": [
      "False 거짓입니다\n"
     ]
    }
   ],
   "source": [
    "d = 10\n",
    "\n",
    "result = d > 2\n",
    "result = d > 10 # F\n",
    "result = d <= 100 # T\n",
    "result = d < 10 # F\n",
    "result = d == 100 / 10  # T\n",
    "result = d != 10 # F\n",
    "\n",
    "result = d % 2 == 0 and d % 3 == 0  # F\n",
    "result = d % 2 == 0 or d % 3 == 0 # T\n",
    "result = (d % 2 == 0) ^ (d % 3 == 0) # T\n",
    "result = not d % 2 == 0 # F\n",
    "result = not d % 3 == 0 # T\n",
    "\n",
    "if result:\n",
    "    print(result, '참입니다')\n",
    "else:\n",
    "    print(result, '거짓입니다')"
   ]
  },
  {
   "cell_type": "code",
   "execution_count": 37,
   "metadata": {},
   "outputs": [
    {
     "name": "stdout",
     "output_type": "stream",
     "text": [
      "유효한 점수가 아닙니다\n"
     ]
    }
   ],
   "source": [
    "# 주어진 숫자 n 이  0 <= n <= 100 범위인가?\n",
    "\n",
    "n = 101\n",
    "\n",
    "if 0 <= n and n <= 100:\n",
    "    print(\"유효한 점수입니다\")\n",
    "else:\n",
    "    print(\"유효한 점수가 아닙니다\")\n"
   ]
  },
  {
   "cell_type": "code",
   "execution_count": 39,
   "metadata": {},
   "outputs": [
    {
     "name": "stdout",
     "output_type": "stream",
     "text": [
      "유효한 점수입니다\n"
     ]
    }
   ],
   "source": [
    "# 파이썬은 아래와 같이 범위값 표현 가능\n",
    "\n",
    "n = 67\n",
    "\n",
    "if 0 <= n <= 100:\n",
    "    print(\"유효한 점수입니다\")\n",
    "else:\n",
    "    print(\"유효한 점수가 아닙니다\")"
   ]
  },
  {
   "cell_type": "code",
   "execution_count": 41,
   "metadata": {},
   "outputs": [
    {
     "name": "stdout",
     "output_type": "stream",
     "text": [
      "3 의 배수도 8 의 배수도 아닙니다\n"
     ]
    }
   ],
   "source": [
    "# 연습\n",
    "# 주어진 숫자가 3 과 8의 공배수 인지 확인\n",
    "\n",
    "# number = 24     # 3 와 8 의 공배수입니다\n",
    "# number = 12     # 3 의 배수이지만 8 의 배수는 아닙니다\n",
    "# number = 16     # 8 의 배수이지만 3 의 배수는 아닙니다\n",
    "# number = 5      # 3 의 배수도 8 의 배수도 아닙니다\n",
    "\n",
    "number = 5\n",
    "\n",
    "if number % 3 == 0 and number % 8 == 0:\n",
    "    print(\"%d 와 %d 의 공배수입니다\" % (3, 8))\n",
    "elif number % 3 == 0:\n",
    "    print(\"%d 의 배수이지만 %d 의 배수는 아닙니다\" % (3, 8))\n",
    "elif number % 8 == 0:\n",
    "    print(\"%d 의 배수이지만 %d 의 배수는 아닙니다\" % (8, 3))\n",
    "else:\n",
    "    print(\"%d 의 배수도 %d 의 배수도 아닙니다\" % (3, 8))\n",
    "\n"
   ]
  },
  {
   "cell_type": "markdown",
   "metadata": {},
   "source": [
    "# 조건식의 '참', '거짓' 판정"
   ]
  },
  {
   "cell_type": "code",
   "execution_count": null,
   "metadata": {},
   "outputs": [],
   "source": [
    "# 조건식의 참 / 거짓 판정\n",
    "\n",
    "# 조건문,  순환문 등에 사용되는  '조건식' 은 참, 거짓이 판정되어야 하는데\n",
    "# 파이썬에서는 bool 타입 외에도 조건식에서 참, 거짓 판정이 된다.\n",
    "\n",
    "#           │     참     │   거짓\n",
    "# ───────────────────\n",
    "# bool 타입 :     True         False\n",
    "# 숫자 타입 :  0 아닌 숫자      0\n",
    "# str  타입 :      \"abc\"        \"\"   빈문자열\n",
    "# list 타입 :    [1, 2, 3]      []\n",
    "# tuple 타입 :   (1, 2, 3)      ()\n",
    "# dict 타입 :    {\"name\":\"john\"}    {}\n",
    "\n",
    "# None 타입 :   무조건 거짓"
   ]
  },
  {
   "cell_type": "code",
   "execution_count": 59,
   "metadata": {},
   "outputs": [
    {
     "name": "stdout",
     "output_type": "stream",
     "text": [
      "거짓 <class 'NoneType'> None\n"
     ]
    }
   ],
   "source": [
    "result = 0.001  # T\n",
    "result = -100   # T\n",
    "result = 0  # F\n",
    "result = 0.0 # F\n",
    "result = \"abc\" # T\n",
    "result = \"\" # F\n",
    "result = \" \" # T\n",
    "result = not \" \"  #  not 의 결과는 bool 타입\n",
    "result = bool(\" \") # bool() 의 결과는 bool 타입\n",
    "result = [1, 2, 3]  # T\n",
    "result = []  # F\n",
    "result = ()  # F\n",
    "result = (0,)  # T tuple\n",
    "result = (0)  # F int\n",
    "result = {\"name\" : \"hong\"} # T\n",
    "result = {}  # F\n",
    "result = None # F\n",
    "\n",
    "if result:\n",
    "    print(\"참\", type(result), result)\n",
    "else:\n",
    "    print(\"거짓\", type(result), result)\n"
   ]
  },
  {
   "cell_type": "code",
   "execution_count": null,
   "metadata": {},
   "outputs": [],
   "source": []
  },
  {
   "cell_type": "markdown",
   "metadata": {},
   "source": [
    "## SCE : Short-circuit evaluation\n",
    "a.k.a : Lazy-evaluation\n",
    "<br>(also known as)"
   ]
  },
  {
   "cell_type": "code",
   "execution_count": 67,
   "metadata": {},
   "outputs": [],
   "source": [
    "#논리 연산자 and, or 표현식과의 관계\n",
    "#참, 거짓 판정에 이어 논리연산자의 결과는 \n",
    "# expression 값이 된다.\n",
    "# 이를 short-circuit evalutaiton (SCE) 혹은 \n",
    "# lazy evalutation 이라 한다\n",
    "\n",
    "# or \n",
    "# 왼쪽이 참인 경우 '왼쪽' 값 리턴\n",
    "# 왼쪽이 거짓인 경우 '오른쪽' 값 리턴\n",
    "\n",
    "# and \n",
    "# 왼쪽이 참인 경우 '오른쪽' 값 리턴\n",
    "# 왼쪽이 거짓인 경우 '왼쪽' 값 리턴"
   ]
  },
  {
   "cell_type": "code",
   "execution_count": 70,
   "metadata": {},
   "outputs": [
    {
     "name": "stdout",
     "output_type": "stream",
     "text": [
      "거짓 <class 'list'> []\n"
     ]
    }
   ],
   "source": [
    "result = True or False  # True\n",
    "result = False or True  # True\n",
    "\n",
    "result = True and False # False\n",
    "result = False and True # False\n",
    "\n",
    "result = 0 or 100  # 참인데... True 가 아니다! 100 이다?\n",
    "result = \"Hello\" or \"Python\"  # \"Hello\"\n",
    "result = \"Hello\" and \"Python\" # \"Python\"\n",
    "result = [] and \"Python\"  # []\n",
    "\n",
    "if result:\n",
    "    print('참', type(result), result)\n",
    "else:\n",
    "    print('거짓', type(result), result)"
   ]
  },
  {
   "cell_type": "code",
   "execution_count": 73,
   "metadata": {},
   "outputs": [
    {
     "name": "stdout",
     "output_type": "stream",
     "text": [
      "4 은 5의 배수가 아닙니다\n"
     ]
    }
   ],
   "source": [
    "# 파이썬에서 흔치않게 볼수 있는 표현\n",
    "\n",
    "n = 4\n",
    "\n",
    "(n % 5 == 0) and print(n, \"은 5의 배수입니다\")\n",
    "(n % 5 == 0) or print(n, \"은 5의 배수가 아닙니다\")\n"
   ]
  },
  {
   "cell_type": "code",
   "execution_count": 115,
   "metadata": {},
   "outputs": [
    {
     "name": "stdout",
     "output_type": "stream",
     "text": [
      "AAA\n"
     ]
    }
   ],
   "source": [
    "print(\"AAA\") and print(\"BBB\")"
   ]
  },
  {
   "cell_type": "code",
   "execution_count": 116,
   "metadata": {},
   "outputs": [
    {
     "name": "stdout",
     "output_type": "stream",
     "text": [
      "AAA\n",
      "BBB\n"
     ]
    }
   ],
   "source": [
    "print(\"AAA\") or print(\"BBB\")"
   ]
  },
  {
   "cell_type": "code",
   "execution_count": 118,
   "metadata": {},
   "outputs": [
    {
     "name": "stdout",
     "output_type": "stream",
     "text": [
      "AAA\n"
     ]
    },
    {
     "data": {
      "text/plain": [
       "NoneType"
      ]
     },
     "execution_count": 118,
     "metadata": {},
     "output_type": "execute_result"
    }
   ],
   "source": [
    "type(print(\"AAA\"))"
   ]
  },
  {
   "cell_type": "code",
   "execution_count": null,
   "metadata": {},
   "outputs": [],
   "source": []
  },
  {
   "cell_type": "code",
   "execution_count": null,
   "metadata": {},
   "outputs": [],
   "source": []
  },
  {
   "cell_type": "code",
   "execution_count": 75,
   "metadata": {},
   "outputs": [
    {
     "name": "stdout",
     "output_type": "stream",
     "text": [
      "False\n",
      "True\n",
      "True\n",
      "False\n"
     ]
    }
   ],
   "source": [
    "# ^ : xor (eXclusive OR : 배타적 논리합) 논리연산자\n",
    "\n",
    "print(True ^ True)\n",
    "print(True ^ False)\n",
    "print(False ^ True)\n",
    "print(False ^ False)"
   ]
  },
  {
   "cell_type": "code",
   "execution_count": 76,
   "metadata": {},
   "outputs": [
    {
     "ename": "TypeError",
     "evalue": "unsupported operand type(s) for ^: 'list' and 'list'",
     "output_type": "error",
     "traceback": [
      "\u001b[1;31m---------------------------------------------------------------------------\u001b[0m",
      "\u001b[1;31mTypeError\u001b[0m                                 Traceback (most recent call last)",
      "\u001b[1;32m<ipython-input-76-0f128372b08c>\u001b[0m in \u001b[0;36m<module>\u001b[1;34m\u001b[0m\n\u001b[1;32m----> 1\u001b[1;33m \u001b[1;33m[\u001b[0m\u001b[1;36m10\u001b[0m\u001b[1;33m]\u001b[0m \u001b[1;33m^\u001b[0m \u001b[1;33m[\u001b[0m\u001b[1;36m20\u001b[0m\u001b[1;33m]\u001b[0m\u001b[1;33m\u001b[0m\u001b[1;33m\u001b[0m\u001b[0m\n\u001b[0m",
      "\u001b[1;31mTypeError\u001b[0m: unsupported operand type(s) for ^: 'list' and 'list'"
     ]
    }
   ],
   "source": [
    "[10] ^ [20]  # ^ 은 bool 타입 외에는 아니되오.."
   ]
  },
  {
   "cell_type": "markdown",
   "metadata": {},
   "source": [
    "#### 비트연산자 ^\n",
    "^ 의 피연산자로 int, bool 타입이 오면 bit 연산 xor 수행"
   ]
  },
  {
   "cell_type": "code",
   "execution_count": 77,
   "metadata": {},
   "outputs": [
    {
     "data": {
      "text/plain": [
       "2"
      ]
     },
     "execution_count": 77,
     "metadata": {},
     "output_type": "execute_result"
    }
   ],
   "source": [
    "2 ^ 0\n",
    "\n",
    "# 0000 0010\n",
    "# 0000 0000\n",
    "# --------- XOR\n",
    "# 0000 0010"
   ]
  },
  {
   "cell_type": "code",
   "execution_count": 78,
   "metadata": {},
   "outputs": [
    {
     "data": {
      "text/plain": [
       "100"
      ]
     },
     "execution_count": 78,
     "metadata": {},
     "output_type": "execute_result"
    }
   ],
   "source": [
    "0 ^ 100"
   ]
  },
  {
   "cell_type": "code",
   "execution_count": 79,
   "metadata": {},
   "outputs": [
    {
     "data": {
      "text/plain": [
       "176"
      ]
     },
     "execution_count": 79,
     "metadata": {},
     "output_type": "execute_result"
    }
   ],
   "source": [
    "120 ^ 200"
   ]
  },
  {
   "cell_type": "code",
   "execution_count": 80,
   "metadata": {},
   "outputs": [
    {
     "data": {
      "text/plain": [
       "101"
      ]
     },
     "execution_count": 80,
     "metadata": {},
     "output_type": "execute_result"
    }
   ],
   "source": [
    "True ^ 100  # True 는 int값 1 로 변환"
   ]
  },
  {
   "cell_type": "code",
   "execution_count": 81,
   "metadata": {},
   "outputs": [
    {
     "data": {
      "text/plain": [
       "(1, 0)"
      ]
     },
     "execution_count": 81,
     "metadata": {},
     "output_type": "execute_result"
    }
   ],
   "source": [
    "int(True), int(False)"
   ]
  },
  {
   "cell_type": "code",
   "execution_count": 82,
   "metadata": {},
   "outputs": [
    {
     "data": {
      "text/plain": [
       "100"
      ]
     },
     "execution_count": 82,
     "metadata": {},
     "output_type": "execute_result"
    }
   ],
   "source": [
    "False ^ 100"
   ]
  },
  {
   "cell_type": "code",
   "execution_count": 83,
   "metadata": {},
   "outputs": [
    {
     "ename": "TypeError",
     "evalue": "unsupported operand type(s) for ^: 'float' and 'int'",
     "output_type": "error",
     "traceback": [
      "\u001b[1;31m---------------------------------------------------------------------------\u001b[0m",
      "\u001b[1;31mTypeError\u001b[0m                                 Traceback (most recent call last)",
      "\u001b[1;32m<ipython-input-83-cb0c6f203de1>\u001b[0m in \u001b[0;36m<module>\u001b[1;34m\u001b[0m\n\u001b[1;32m----> 1\u001b[1;33m \u001b[1;36m3.14\u001b[0m \u001b[1;33m^\u001b[0m \u001b[1;36m100\u001b[0m\u001b[1;33m\u001b[0m\u001b[1;33m\u001b[0m\u001b[0m\n\u001b[0m",
      "\u001b[1;31mTypeError\u001b[0m: unsupported operand type(s) for ^: 'float' and 'int'"
     ]
    }
   ],
   "source": [
    "3.14 ^ 100  # float 불가"
   ]
  },
  {
   "cell_type": "markdown",
   "metadata": {},
   "source": [
    "## x in s, x not in s"
   ]
  },
  {
   "cell_type": "code",
   "execution_count": 84,
   "metadata": {},
   "outputs": [],
   "source": [
    "# 파이썬 언어에서의 독특한 조건식\n",
    "\n",
    "#    in               not in\n",
    "#  x in 문자열    x not in 문자열\n",
    "#  x in 리스트    x not in 리스트\n",
    "#  x in 튜플      x not in 튜플\n",
    "#  x in 세트      x not in 세트\n",
    "#  x in 딕셔너리  x not in 딕셔너리      <-- key 값의 존재 유무\n",
    "\n"
   ]
  },
  {
   "cell_type": "code",
   "execution_count": 92,
   "metadata": {},
   "outputs": [
    {
     "name": "stdout",
     "output_type": "stream",
     "text": [
      "john in {'name': 'john', 'age': 12} <- 거짓\n",
      "john not in {'name': 'john', 'age': 12} <- 참\n"
     ]
    }
   ],
   "source": [
    "x, data = \"a\", \"abc\"\n",
    "x, data = \"A\", \"abc\"\n",
    "x, data = \"\", \"abc\"  # in 에서 참 판정\n",
    "\n",
    "x, data = 10, [10, 20, 30]\n",
    "x, data = 11, [10, 20, 30]\n",
    "\n",
    "# tuple, set  에서도 마찬가지\n",
    "\n",
    "x, data = 0, {10, 20, 30}\n",
    "\n",
    "x, data = \"name\", {\"name\": \"john\", \"age\": 12}\n",
    "x, data = \"john\", {\"name\": \"john\", \"age\": 12}  # key 에서 찾는다!\n",
    "\n",
    "if x in data:\n",
    "    print(x, \"in\", data, \"<- 참\")\n",
    "else:\n",
    "    print(x, \"in\", data, \"<- 거짓\")\n",
    "\n",
    "if x not in data:\n",
    "    print(x, \"not in\", data, \"<- 참\")\n",
    "else:\n",
    "    print(x, \"not in\", data, \"<- 거짓\")\n",
    "    \n",
    "    \n"
   ]
  },
  {
   "cell_type": "code",
   "execution_count": null,
   "metadata": {},
   "outputs": [],
   "source": []
  },
  {
   "cell_type": "markdown",
   "metadata": {},
   "source": [
    "## 타입 확인 is"
   ]
  },
  {
   "cell_type": "code",
   "execution_count": 93,
   "metadata": {},
   "outputs": [],
   "source": [
    "# 명심: 파이썬의 모든 타입은 결국 객체다.\n",
    "# 즉, 특정 변수나 값이 어떤 타입(어떤 객체)인지 확인하여 True / False 판별하는 키워드 is"
   ]
  },
  {
   "cell_type": "code",
   "execution_count": 95,
   "metadata": {},
   "outputs": [],
   "source": [
    "a = 10"
   ]
  },
  {
   "cell_type": "code",
   "execution_count": 97,
   "metadata": {},
   "outputs": [
    {
     "data": {
      "text/plain": [
       "False"
      ]
     },
     "execution_count": 97,
     "metadata": {},
     "output_type": "execute_result"
    }
   ],
   "source": [
    "a is int # XXX"
   ]
  },
  {
   "cell_type": "code",
   "execution_count": 98,
   "metadata": {},
   "outputs": [
    {
     "data": {
      "text/plain": [
       "True"
      ]
     },
     "execution_count": 98,
     "metadata": {},
     "output_type": "execute_result"
    }
   ],
   "source": [
    "type(a) is int  # 변수 a 가 int 객체인가?"
   ]
  },
  {
   "cell_type": "code",
   "execution_count": 101,
   "metadata": {},
   "outputs": [
    {
     "data": {
      "text/plain": [
       "False"
      ]
     },
     "execution_count": 101,
     "metadata": {},
     "output_type": "execute_result"
    }
   ],
   "source": [
    "a = [10, 20, 30]\n",
    "type(a) is list\n",
    "type(a) is tuple"
   ]
  },
  {
   "cell_type": "code",
   "execution_count": null,
   "metadata": {},
   "outputs": [],
   "source": [
    "#### 타입확인\n",
    "# https://hashcode.co.kr/questions/223/%ED%8C%8C%EC%9D%B4%EC%8D%AC%EC%97%90%EC%84%9C-type%EC%9D%84-%EC%B2%B4%ED%81%AC%ED%95%98%EB%8A%94-%ED%91%9C%EC%A4%80%EC%A0%81%EC%9D%B8-%EB%B0%A9%EB%B2%95%EC%9D%B4-%EC%A0%95%ED%95%B4%EC%A0%B8-%EC%9E%88%EB%82%98%EC%9A%94\n",
    "# 1. o 가 정확히 str인지 확인\n",
    "# type(o) is str\n",
    "\n",
    "# 2. o가 str의 인스턴스이거나 subclass인지 확인(표준적인 방법)\n",
    "# isinstance(o, str)\n",
    "\n",
    "# 3. o가 str의 subclass인지 확인\n",
    "# issubclass(type(o), str)\n",
    "# type(o) in ([str] + str.__subclasses__())\n",
    "\n",
    "# 4. unicode 스트링도 포함할 경우\n",
    "# unicode string은 str의 usbclass가 아니기 때문에 이 경우도 포함해야 할 경우는\n",
    "\n",
    "# isinstance(o, basestring) # str과 unicode 모두 basestring의 subclass임을 이용\n",
    "# isinstance(o, (str, unicode)) #isinstance가 tuple을 허용하는 것을 이용"
   ]
  },
  {
   "cell_type": "code",
   "execution_count": null,
   "metadata": {},
   "outputs": [],
   "source": []
  },
  {
   "cell_type": "markdown",
   "metadata": {},
   "source": [
    "## pass 키워드\n",
    "아무것도 안하는 블럭에는 꼭 명시!"
   ]
  },
  {
   "cell_type": "code",
   "execution_count": 104,
   "metadata": {},
   "outputs": [
    {
     "name": "stdout",
     "output_type": "stream",
     "text": [
      "카드를 사용하세요\n"
     ]
    }
   ],
   "source": [
    "pocket = ['paper', 'coin', 'cellphone']\n",
    "\n",
    "# if 'coin' in pocket:\n",
    "#     <-- 아무것도 안한다고 이렇게 블럭을 비워두면 에러!\n",
    "# else:\n",
    "#     print('카드를 사용하세요')\n",
    "    \n",
    "    \n",
    "if 'money' in pocket:\n",
    "    pass  # 아무일도 안하는 블럭이라면 이렇게 pass 를 명시해주어야 한다\n",
    "else:\n",
    "    print('카드를 사용하세요')    "
   ]
  },
  {
   "cell_type": "code",
   "execution_count": null,
   "metadata": {},
   "outputs": [],
   "source": []
  },
  {
   "cell_type": "markdown",
   "metadata": {},
   "source": [
    "# 삼항연산자 (ternary operator)"
   ]
  },
  {
   "cell_type": "code",
   "execution_count": 105,
   "metadata": {},
   "outputs": [],
   "source": [
    "# 피연산자 3개 필요 --> 삼항연산자 (ternary operator)\n",
    "# ( 참일때의 값 ) if (조건식) else (거짓일때의 값)"
   ]
  },
  {
   "cell_type": "code",
   "execution_count": 107,
   "metadata": {},
   "outputs": [
    {
     "data": {
      "text/plain": [
       "'양수'"
      ]
     },
     "execution_count": 107,
     "metadata": {},
     "output_type": "execute_result"
    }
   ],
   "source": [
    "n = 4\n",
    "result = \"양수\" if n > 0 else \"음수\"\n",
    "result"
   ]
  },
  {
   "cell_type": "code",
   "execution_count": null,
   "metadata": {},
   "outputs": [],
   "source": [
    "# 실습\n",
    "# 코드 1줄로 => 양수/음수/0을 구분하는 코드"
   ]
  },
  {
   "cell_type": "code",
   "execution_count": 109,
   "metadata": {},
   "outputs": [
    {
     "data": {
      "text/plain": [
       "'0'"
      ]
     },
     "execution_count": 109,
     "metadata": {},
     "output_type": "execute_result"
    }
   ],
   "source": [
    "a = 0\n",
    "\"양수\" if a > 0 else (\"음수\" if a < 0 else \"0\")"
   ]
  },
  {
   "cell_type": "code",
   "execution_count": null,
   "metadata": {},
   "outputs": [],
   "source": []
  },
  {
   "cell_type": "markdown",
   "metadata": {},
   "source": [
    "### jupyter tip"
   ]
  },
  {
   "cell_type": "code",
   "execution_count": 110,
   "metadata": {},
   "outputs": [
    {
     "data": {
      "text/plain": [
       "6000000"
      ]
     },
     "execution_count": 110,
     "metadata": {},
     "output_type": "execute_result"
    }
   ],
   "source": [
    "100 * 200 * 300"
   ]
  },
  {
   "cell_type": "code",
   "execution_count": 111,
   "metadata": {},
   "outputs": [
    {
     "data": {
      "text/plain": [
       "6000000"
      ]
     },
     "execution_count": 111,
     "metadata": {},
     "output_type": "execute_result"
    }
   ],
   "source": [
    "_110   # cell out값"
   ]
  },
  {
   "cell_type": "code",
   "execution_count": 112,
   "metadata": {},
   "outputs": [
    {
     "data": {
      "text/plain": [
       "6000020"
      ]
     },
     "execution_count": 112,
     "metadata": {},
     "output_type": "execute_result"
    }
   ],
   "source": [
    "_110 + 20"
   ]
  },
  {
   "cell_type": "code",
   "execution_count": 113,
   "metadata": {},
   "outputs": [
    {
     "data": {
      "text/plain": [
       "'100 * 200 * 300'"
      ]
     },
     "execution_count": 113,
     "metadata": {},
     "output_type": "execute_result"
    }
   ],
   "source": [
    "_i110   # cell 수식값"
   ]
  },
  {
   "cell_type": "code",
   "execution_count": null,
   "metadata": {},
   "outputs": [],
   "source": []
  },
  {
   "cell_type": "code",
   "execution_count": null,
   "metadata": {},
   "outputs": [],
   "source": []
  },
  {
   "cell_type": "code",
   "execution_count": null,
   "metadata": {},
   "outputs": [],
   "source": []
  },
  {
   "cell_type": "code",
   "execution_count": null,
   "metadata": {},
   "outputs": [],
   "source": []
  },
  {
   "cell_type": "code",
   "execution_count": null,
   "metadata": {},
   "outputs": [],
   "source": []
  },
  {
   "cell_type": "code",
   "execution_count": null,
   "metadata": {},
   "outputs": [],
   "source": []
  },
  {
   "cell_type": "code",
   "execution_count": null,
   "metadata": {},
   "outputs": [],
   "source": []
  },
  {
   "cell_type": "code",
   "execution_count": null,
   "metadata": {},
   "outputs": [],
   "source": []
  },
  {
   "cell_type": "code",
   "execution_count": null,
   "metadata": {},
   "outputs": [],
   "source": []
  },
  {
   "cell_type": "code",
   "execution_count": null,
   "metadata": {},
   "outputs": [],
   "source": []
  },
  {
   "cell_type": "code",
   "execution_count": null,
   "metadata": {},
   "outputs": [],
   "source": []
  },
  {
   "cell_type": "code",
   "execution_count": null,
   "metadata": {},
   "outputs": [],
   "source": []
  },
  {
   "cell_type": "code",
   "execution_count": null,
   "metadata": {},
   "outputs": [],
   "source": []
  }
 ],
 "metadata": {
  "kernelspec": {
   "display_name": "Python 3",
   "language": "python",
   "name": "python3"
  },
  "language_info": {
   "codemirror_mode": {
    "name": "ipython",
    "version": 3
   },
   "file_extension": ".py",
   "mimetype": "text/x-python",
   "name": "python",
   "nbconvert_exporter": "python",
   "pygments_lexer": "ipython3",
   "version": "3.8.5"
  }
 },
 "nbformat": 4,
 "nbformat_minor": 4
}
