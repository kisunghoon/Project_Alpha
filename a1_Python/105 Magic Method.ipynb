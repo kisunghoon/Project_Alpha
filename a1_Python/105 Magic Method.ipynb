{
 "cells": [
  {
   "cell_type": "markdown",
   "metadata": {},
   "source": [
    "# Magic Method"
   ]
  },
  {
   "cell_type": "code",
   "execution_count": 2,
   "metadata": {},
   "outputs": [],
   "source": [
    "# 매직 메소드란?\n",
    "# 클래스안에 정의할 수 있는 스페셜 메소드이며 클래스를 int, str, list등의 파이썬의 빌트인 타입(built-in type)과 같은 작동을 하게 해준다.\n",
    "# +, -, >, < 등의 오퍼레이터에 대해서 각각의 데이터 타입에 맞는 메소드로 오버로딩하여 백그라운드에서 연산을 한다.\n",
    "# __init__이나 __str__과 같이 메소드 이름 앞뒤에 더블 언더스코어(\"__\")를 붙인다.\n",
    "\"\"\"\n",
    "\n",
    "연산자     메소드                     설명\n",
    "─────────────────────────\n",
    "         <binary operator>\n",
    "         \n",
    " +      __add__(self, other)         덧셈 \n",
    " *      __mul__(self, other)         곱셈\n",
    " -      __sub__(self, other)         뺄셈 \n",
    " /      __truediv__(self, other)     나눗셈\n",
    " //     __floordiv__(self, other)\n",
    " %       __mod__(self, other)             나머지\n",
    " **      __pow__(self, other[, modulo])\n",
    " >>      __lshift__(self, other)\n",
    " <<      __rshift__(self, other)\n",
    " &       __and__(self, other)\n",
    " ^      __xor__(self, other)\n",
    " |      __or__(self, other)\n",
    " \n",
    " \n",
    "             <Extended operator>\n",
    "+=         __iadd__(self, other)\n",
    "-=         __isub__(self, other)\n",
    "*=         __imul__(self, other)\n",
    "/=         __idiv__(self, other)\n",
    "//=        __ifloordiv__(self, other)\n",
    "%=         __imod__(self, other)\n",
    "**=        __ipow__(self, other)\n",
    "<<=        __ilshift__(self, other)\n",
    ">>=        __irshift__(self, other)\n",
    "&=         __iand__(self, other)\n",
    "^=         __ixor__(self, other)\n",
    "|=         __ior__(self, other)\n",
    "\n",
    "        <unary operators>\n",
    "-\n",
    "+\n",
    "abs()\n",
    "~\n",
    "complex()\n",
    "int()\n",
    "long()\n",
    "float()\n",
    "oct()\n",
    "hex()\n",
    "        \n",
    "\n",
    "\n",
    " <       __lt__(self, other)         작다(미만) \n",
    " <=      __le__(self, other)         작거나 같다(이하) \n",
    " ==      __eq__(self, other)         같다 \n",
    " !=      __ne__(self, other)         같지 않다 \n",
    " >      __gt__(self, other)          크다(초과)\n",
    " >=     __ge__(self, other)          크거나 같다(이상) \n",
    " [index]   __getitem__(self, index)   인덱스 연산자 \n",
    " in       __contains__(self, value)   멤버 확인  \n",
    " len     __len__(self)                요소 길이 \n",
    " str      __str__(self)                문자열 표현 \n",
    " \n",
    " \n",
    "         __init__\n",
    "         __del__\n",
    "         __new__\n",
    " \n",
    "         __repr__(self)              representative form\n",
    " \"\"\"\n",
    "None"
   ]
  },
  {
   "cell_type": "code",
   "execution_count": 3,
   "metadata": {},
   "outputs": [],
   "source": [
    "s1 = \"Hello\"\n",
    "s2 = \"Python\""
   ]
  },
  {
   "cell_type": "markdown",
   "metadata": {},
   "source": [
    "#### 다음 2개는 완전히 동일하다\n",
    "실제로는 Magic Method 가 동작하고 있었던 것이다!"
   ]
  },
  {
   "cell_type": "code",
   "execution_count": 5,
   "metadata": {},
   "outputs": [
    {
     "data": {
      "text/plain": [
       "('HelloPython', 'HelloPython')"
      ]
     },
     "execution_count": 5,
     "metadata": {},
     "output_type": "execute_result"
    }
   ],
   "source": [
    "s1 + s2,  s1.__add__(s2)"
   ]
  },
  {
   "cell_type": "code",
   "execution_count": 7,
   "metadata": {},
   "outputs": [],
   "source": [
    "# str.__dict__  # 확인해보자"
   ]
  },
  {
   "cell_type": "code",
   "execution_count": 9,
   "metadata": {},
   "outputs": [
    {
     "data": {
      "text/plain": [
       "('HelloHello', 'HelloHello')"
      ]
     },
     "execution_count": 9,
     "metadata": {},
     "output_type": "execute_result"
    }
   ],
   "source": [
    "s1 * 2, s1.__mul__(2)"
   ]
  },
  {
   "cell_type": "code",
   "execution_count": 11,
   "metadata": {},
   "outputs": [
    {
     "data": {
      "text/plain": [
       "(False, False)"
      ]
     },
     "execution_count": 11,
     "metadata": {},
     "output_type": "execute_result"
    }
   ],
   "source": [
    "\"PYTHON\" > \"Python\", \"PYTHON\".__gt__(\"Python\")"
   ]
  },
  {
   "cell_type": "code",
   "execution_count": 13,
   "metadata": {},
   "outputs": [
    {
     "data": {
      "text/plain": [
       "('H', 'H')"
      ]
     },
     "execution_count": 13,
     "metadata": {},
     "output_type": "execute_result"
    }
   ],
   "source": [
    "s1[0],  s1.__getitem__(0)"
   ]
  },
  {
   "cell_type": "code",
   "execution_count": 15,
   "metadata": {},
   "outputs": [
    {
     "data": {
      "text/plain": [
       "(30, 30)"
      ]
     },
     "execution_count": 15,
     "metadata": {},
     "output_type": "execute_result"
    }
   ],
   "source": [
    "score = [10, 20, 30, 40, 50]\n",
    "score[2], score.__getitem__(2)"
   ]
  },
  {
   "cell_type": "code",
   "execution_count": 17,
   "metadata": {},
   "outputs": [
    {
     "data": {
      "text/plain": [
       "(True, True)"
      ]
     },
     "execution_count": 17,
     "metadata": {},
     "output_type": "execute_result"
    }
   ],
   "source": [
    "'e' in s1, s1.__contains__('e')"
   ]
  },
  {
   "cell_type": "markdown",
   "metadata": {},
   "source": [
    "## repr , str 차이\n",
    "`__repr__`, `__str__`"
   ]
  },
  {
   "cell_type": "code",
   "execution_count": 18,
   "metadata": {},
   "outputs": [],
   "source": [
    "# __repr__(),  __str__()\n",
    "# 공통점 : 객체를 문자열 리턴\n",
    "# 차이점\n",
    "#    `__repr__` : out 값\n",
    "#    `__str__` : str(), print() 등에서 문자열(str) 변환시 호출됨, \n",
    "#                 오버라이딩 안되어 있으면 __repr__ 의 값을 리턴한다"
   ]
  },
  {
   "cell_type": "code",
   "execution_count": 19,
   "metadata": {},
   "outputs": [],
   "source": [
    "class Student:\n",
    "    def __init__(self, name, grade):\n",
    "        self.name = name\n",
    "        self.grade = grade"
   ]
  },
  {
   "cell_type": "code",
   "execution_count": 20,
   "metadata": {},
   "outputs": [],
   "source": [
    "s1 = Student('김수진', 3)"
   ]
  },
  {
   "cell_type": "code",
   "execution_count": 21,
   "metadata": {},
   "outputs": [
    {
     "data": {
      "text/plain": [
       "<__main__.Student at 0x1b334bda850>"
      ]
     },
     "execution_count": 21,
     "metadata": {},
     "output_type": "execute_result"
    }
   ],
   "source": [
    "s1  "
   ]
  },
  {
   "cell_type": "code",
   "execution_count": 23,
   "metadata": {},
   "outputs": [
    {
     "name": "stdout",
     "output_type": "stream",
     "text": [
      "<__main__.Student object at 0x000001B334BDA850>\n"
     ]
    }
   ],
   "source": [
    "print(s1)"
   ]
  },
  {
   "cell_type": "code",
   "execution_count": 25,
   "metadata": {},
   "outputs": [],
   "source": [
    "class Student:\n",
    "    def __init__(self, name, grade):\n",
    "        self.name = name\n",
    "        self.grade = grade\n",
    "    \n",
    "    def __repr__(self):  # representative form\n",
    "        return f'이름 {self.name}, 학년 {self.grade}'"
   ]
  },
  {
   "cell_type": "code",
   "execution_count": 26,
   "metadata": {},
   "outputs": [
    {
     "data": {
      "text/plain": [
       "이름 정을영, 학년 3"
      ]
     },
     "execution_count": 26,
     "metadata": {},
     "output_type": "execute_result"
    }
   ],
   "source": [
    "s2 = Student('정을영', 3)\n",
    "s2  # __repr__ 의 값"
   ]
  },
  {
   "cell_type": "code",
   "execution_count": 30,
   "metadata": {},
   "outputs": [
    {
     "name": "stdout",
     "output_type": "stream",
     "text": [
      "이름 정을영, 학년 3\n"
     ]
    }
   ],
   "source": [
    "print(s2)  # __str__ 의 값이어야 하나.. 정의안되어 있으면 __repr__ 의 값으로 동작"
   ]
  },
  {
   "cell_type": "code",
   "execution_count": 29,
   "metadata": {},
   "outputs": [
    {
     "data": {
      "text/plain": [
       "'이름 정을영, 학년 3'"
      ]
     },
     "execution_count": 29,
     "metadata": {},
     "output_type": "execute_result"
    }
   ],
   "source": [
    "str(s2) # __str__ 의 값이어야 하나.. 정의안되어 있으면 __repr__ 의 값으로 동작"
   ]
  },
  {
   "cell_type": "code",
   "execution_count": 31,
   "metadata": {},
   "outputs": [],
   "source": [
    "class Student:\n",
    "    def __init__(self, name, grade):\n",
    "        self.name = name\n",
    "        self.grade = grade\n",
    "    \n",
    "    def __repr__(self):  # representative form\n",
    "        return f'이름 {self.name}, 학년 {self.grade}'\n",
    "    \n",
    "    def __str__(self):   # str()\n",
    "        return f'{self.name} : {self.grade}'"
   ]
  },
  {
   "cell_type": "code",
   "execution_count": 33,
   "metadata": {},
   "outputs": [
    {
     "data": {
      "text/plain": [
       "이름 문혜진, 학년 25"
      ]
     },
     "execution_count": 33,
     "metadata": {},
     "output_type": "execute_result"
    }
   ],
   "source": [
    "s3 = Student('문혜진', 25)\n",
    "s3  # OUT값은 __repr__ 값"
   ]
  },
  {
   "cell_type": "code",
   "execution_count": 34,
   "metadata": {},
   "outputs": [
    {
     "name": "stdout",
     "output_type": "stream",
     "text": [
      "문혜진 : 25\n"
     ]
    }
   ],
   "source": [
    "print(s3)  # __str__ 값"
   ]
  },
  {
   "cell_type": "code",
   "execution_count": 35,
   "metadata": {},
   "outputs": [
    {
     "data": {
      "text/plain": [
       "'문혜진 : 25'"
      ]
     },
     "execution_count": 35,
     "metadata": {},
     "output_type": "execute_result"
    }
   ],
   "source": [
    "str(s3)  # __str__ 값"
   ]
  },
  {
   "cell_type": "code",
   "execution_count": null,
   "metadata": {},
   "outputs": [],
   "source": []
  },
  {
   "cell_type": "markdown",
   "metadata": {},
   "source": [
    "\n",
    "#### 원래 객체간의 + 연산은 불가하다\n",
    "MagicMethod 를 오버라이딩 하면\n",
    "객체간의 연산도 가능해진다!"
   ]
  },
  {
   "cell_type": "code",
   "execution_count": 38,
   "metadata": {},
   "outputs": [],
   "source": [
    "class Number:\n",
    "    def __init__(self, number):\n",
    "        self.number = number\n",
    "        \n",
    "    def __repr__(self):\n",
    "        return str(self.number)"
   ]
  },
  {
   "cell_type": "code",
   "execution_count": 39,
   "metadata": {},
   "outputs": [
    {
     "name": "stdout",
     "output_type": "stream",
     "text": [
      "10 20\n"
     ]
    }
   ],
   "source": [
    "f1 = Number(10)\n",
    "f2 = Number(20)\n",
    "print(f1, f2)"
   ]
  },
  {
   "cell_type": "code",
   "execution_count": 40,
   "metadata": {},
   "outputs": [
    {
     "ename": "TypeError",
     "evalue": "unsupported operand type(s) for +: 'Number' and 'Number'",
     "output_type": "error",
     "traceback": [
      "\u001b[1;31m---------------------------------------------------------------------------\u001b[0m",
      "\u001b[1;31mTypeError\u001b[0m                                 Traceback (most recent call last)",
      "\u001b[1;32m<ipython-input-40-ad0256b81ae0>\u001b[0m in \u001b[0;36m<module>\u001b[1;34m\u001b[0m\n\u001b[1;32m----> 1\u001b[1;33m \u001b[0mf1\u001b[0m \u001b[1;33m+\u001b[0m \u001b[0mf2\u001b[0m\u001b[1;33m\u001b[0m\u001b[1;33m\u001b[0m\u001b[0m\n\u001b[0m",
      "\u001b[1;31mTypeError\u001b[0m: unsupported operand type(s) for +: 'Number' and 'Number'"
     ]
    }
   ],
   "source": [
    "f1 + f2"
   ]
  },
  {
   "cell_type": "code",
   "execution_count": 41,
   "metadata": {},
   "outputs": [],
   "source": [
    "class Number:\n",
    "    def __init__(self, number):\n",
    "        self.number = number\n",
    "        \n",
    "    def __repr__(self):\n",
    "        return str(self.number)\n",
    "    \n",
    "    def __add__(self, other):\n",
    "        return self.number + other.number"
   ]
  },
  {
   "cell_type": "code",
   "execution_count": 42,
   "metadata": {},
   "outputs": [
    {
     "name": "stdout",
     "output_type": "stream",
     "text": [
      "10 20\n"
     ]
    }
   ],
   "source": [
    "f1 = Number(10)\n",
    "f2 = Number(20)\n",
    "print(f1, f2)"
   ]
  },
  {
   "cell_type": "code",
   "execution_count": 44,
   "metadata": {},
   "outputs": [
    {
     "data": {
      "text/plain": [
       "30"
      ]
     },
     "execution_count": 44,
     "metadata": {},
     "output_type": "execute_result"
    }
   ],
   "source": [
    "f1 + f2   # 이제 덧셈이 된다!"
   ]
  },
  {
   "cell_type": "code",
   "execution_count": 45,
   "metadata": {},
   "outputs": [
    {
     "data": {
      "text/plain": [
       "30"
      ]
     },
     "execution_count": 45,
     "metadata": {},
     "output_type": "execute_result"
    }
   ],
   "source": [
    "f1.__add__(f2)"
   ]
  },
  {
   "cell_type": "code",
   "execution_count": 48,
   "metadata": {},
   "outputs": [
    {
     "ename": "TypeError",
     "evalue": "unsupported operand type(s) for +: 'int' and 'Number'",
     "output_type": "error",
     "traceback": [
      "\u001b[1;31m---------------------------------------------------------------------------\u001b[0m",
      "\u001b[1;31mTypeError\u001b[0m                                 Traceback (most recent call last)",
      "\u001b[1;32m<ipython-input-48-3b8c6670b0c8>\u001b[0m in \u001b[0;36m<module>\u001b[1;34m\u001b[0m\n\u001b[0;32m      1\u001b[0m \u001b[0mf3\u001b[0m \u001b[1;33m=\u001b[0m \u001b[0mNumber\u001b[0m\u001b[1;33m(\u001b[0m\u001b[1;36m30\u001b[0m\u001b[1;33m)\u001b[0m\u001b[1;33m\u001b[0m\u001b[1;33m\u001b[0m\u001b[0m\n\u001b[1;32m----> 2\u001b[1;33m \u001b[0mf1\u001b[0m \u001b[1;33m+\u001b[0m \u001b[0mf2\u001b[0m \u001b[1;33m+\u001b[0m \u001b[0mf3\u001b[0m  \u001b[1;31m# 이건 에러다!  왜???????\u001b[0m\u001b[1;33m\u001b[0m\u001b[1;33m\u001b[0m\u001b[0m\n\u001b[0m",
      "\u001b[1;31mTypeError\u001b[0m: unsupported operand type(s) for +: 'int' and 'Number'"
     ]
    }
   ],
   "source": [
    "f3 = Number(30)\n",
    "f1 + f2 + f3  # 이건 에러다!  왜???????"
   ]
  },
  {
   "cell_type": "code",
   "execution_count": 49,
   "metadata": {},
   "outputs": [],
   "source": [
    "class Number:\n",
    "    def __init__(self, number):\n",
    "        self.number = number\n",
    "        \n",
    "    def __repr__(self):\n",
    "        return str(self.number)\n",
    "    \n",
    "    def __add__(self, other):\n",
    "        return Number(self.number + other.number)"
   ]
  },
  {
   "cell_type": "code",
   "execution_count": 50,
   "metadata": {},
   "outputs": [],
   "source": [
    "f1 = Number(10)\n",
    "f2 = Number(20)\n",
    "f3 = Number(30)"
   ]
  },
  {
   "cell_type": "code",
   "execution_count": 51,
   "metadata": {},
   "outputs": [
    {
     "data": {
      "text/plain": [
       "60"
      ]
     },
     "execution_count": 51,
     "metadata": {},
     "output_type": "execute_result"
    }
   ],
   "source": [
    "f1 + f2 + f3"
   ]
  },
  {
   "cell_type": "markdown",
   "metadata": {},
   "source": [
    "## 연습: 2차원 행렬 정의\n",
    "magic method 활용"
   ]
  },
  {
   "cell_type": "code",
   "execution_count": null,
   "metadata": {},
   "outputs": [],
   "source": [
    "\"\"\"\n",
    "mt1 = Matrix2x2([10, 20], [30, 40])\n",
    "mt2 = Matrix2x2([1, 2], [3, 4])\n",
    "\n",
    "print(mt1) 실행 결과\n",
    "    [10, 20]\n",
    "    [30, 40] \n",
    "\n",
    "print(mt2) 실행 결과\n",
    "    [1, 2]\n",
    "    [3, 4]\n",
    "    \n",
    "print(mt1 + mt2) 실행결과\n",
    "    [11, 22]\n",
    "    [33, 44]\n",
    "    \n",
    "print(mt1 + mt2 + mt2 + mt2) 실행결과\n",
    "    [13, 26]\n",
    "    [39, 52]\n",
    "\"\"\"\n",
    "None"
   ]
  },
  {
   "cell_type": "code",
   "execution_count": 60,
   "metadata": {},
   "outputs": [],
   "source": [
    "class Matrix2x2:\n",
    "    def __init__(self, row1, row2):\n",
    "        self.row1 = row1\n",
    "        self.row2 = row2\n",
    "        return\n",
    "    \n",
    "    def __str__(self):\n",
    "        return str(self.row1) + \"\\n\" + str(self.row2) + \"\\n\"\n",
    "    \n",
    "    def __add__(self, other):\n",
    "        m = Matrix2x2([self.row1[0] + other.row1[0], self.row1[1] + other.row1[1]],\n",
    "                     [self.row2[0] + other.row2[0], self.row2[1] + other.row2[1]])\n",
    "        return m\n"
   ]
  },
  {
   "cell_type": "code",
   "execution_count": 61,
   "metadata": {},
   "outputs": [
    {
     "name": "stdout",
     "output_type": "stream",
     "text": [
      "[10, 20]\n",
      "[30, 40]\n",
      "\n"
     ]
    }
   ],
   "source": [
    "mt1 = Matrix2x2([10, 20], [30, 40])\n",
    "print(mt1)"
   ]
  },
  {
   "cell_type": "code",
   "execution_count": 62,
   "metadata": {},
   "outputs": [
    {
     "name": "stdout",
     "output_type": "stream",
     "text": [
      "[1, 2]\n",
      "[3, 4]\n",
      "\n"
     ]
    }
   ],
   "source": [
    "mt2 = Matrix2x2([1, 2], [3, 4])\n",
    "print(mt2)"
   ]
  },
  {
   "cell_type": "code",
   "execution_count": 63,
   "metadata": {},
   "outputs": [],
   "source": [
    "mt3 = Matrix2x2([1, 1], [1, 1])\n"
   ]
  },
  {
   "cell_type": "code",
   "execution_count": 64,
   "metadata": {},
   "outputs": [
    {
     "name": "stdout",
     "output_type": "stream",
     "text": [
      "[11, 22]\n",
      "[33, 44]\n",
      "\n"
     ]
    }
   ],
   "source": [
    "print(mt1 + mt2)"
   ]
  },
  {
   "cell_type": "code",
   "execution_count": 65,
   "metadata": {
    "scrolled": false
   },
   "outputs": [
    {
     "name": "stdout",
     "output_type": "stream",
     "text": [
      "[13, 26]\n",
      "[39, 52]\n",
      "\n"
     ]
    }
   ],
   "source": [
    "print(mt1 + mt2 + mt2 + mt2)"
   ]
  },
  {
   "cell_type": "code",
   "execution_count": null,
   "metadata": {},
   "outputs": [],
   "source": []
  },
  {
   "cell_type": "code",
   "execution_count": null,
   "metadata": {},
   "outputs": [],
   "source": []
  },
  {
   "cell_type": "code",
   "execution_count": null,
   "metadata": {},
   "outputs": [],
   "source": []
  },
  {
   "cell_type": "code",
   "execution_count": null,
   "metadata": {},
   "outputs": [],
   "source": []
  },
  {
   "cell_type": "code",
   "execution_count": null,
   "metadata": {},
   "outputs": [],
   "source": []
  },
  {
   "cell_type": "code",
   "execution_count": null,
   "metadata": {},
   "outputs": [],
   "source": []
  },
  {
   "cell_type": "code",
   "execution_count": null,
   "metadata": {},
   "outputs": [],
   "source": []
  },
  {
   "cell_type": "code",
   "execution_count": null,
   "metadata": {},
   "outputs": [],
   "source": []
  },
  {
   "cell_type": "code",
   "execution_count": null,
   "metadata": {},
   "outputs": [],
   "source": []
  }
 ],
 "metadata": {
  "kernelspec": {
   "display_name": "Python 3",
   "language": "python",
   "name": "python3"
  },
  "language_info": {
   "codemirror_mode": {
    "name": "ipython",
    "version": 3
   },
   "file_extension": ".py",
   "mimetype": "text/x-python",
   "name": "python",
   "nbconvert_exporter": "python",
   "pygments_lexer": "ipython3",
   "version": "3.8.5"
  }
 },
 "nbformat": 4,
 "nbformat_minor": 4
}
