{
 "cells": [
  {
   "cell_type": "markdown",
   "metadata": {},
   "source": [
    "# 파일 다루기"
   ]
  },
  {
   "cell_type": "code",
   "execution_count": 1,
   "metadata": {},
   "outputs": [],
   "source": [
    "# 파일을 다루기 위해선 open(), close() 함수로 감싸여진다\n",
    "\n",
    "# 파일객체 = open(파일 이름, 파일 열기 모드)\n",
    "#   ... 파일객체사용 (읽기 or 쓰기)\n",
    "#   ... 파일객체사용 (읽기 or 쓰기)\n",
    "#   ... 파일객체사용 (읽기 or 쓰기)\n",
    "# 파일객체.close()"
   ]
  },
  {
   "cell_type": "code",
   "execution_count": 2,
   "metadata": {},
   "outputs": [],
   "source": [
    "# 파일 열기 모드\n",
    "# r  읽기모드 - 파일을 읽기만 할 때 사용\n",
    "# w  쓰기모드 - 파일에 내용을 쓸 때 사용.  해당 파일이 없으면 새로 생성.   해당 파일이 있었으면 삭제하고 새로 생성 ★\n",
    "# a  추가모드 - 파일의 마지막에 새로운 내용을 추가 시킬 때 사용.  해당 파일이 없으면 새로 생성"
   ]
  },
  {
   "cell_type": "code",
   "execution_count": 3,
   "metadata": {},
   "outputs": [
    {
     "data": {
      "text/plain": [
       "_io.TextIOWrapper"
      ]
     },
     "execution_count": 3,
     "metadata": {},
     "output_type": "execute_result"
    }
   ],
   "source": [
    "f = open(\"새파일.txt\", \"w\")\n",
    "f.close()\n",
    "\n",
    "type(f)"
   ]
  },
  {
   "cell_type": "markdown",
   "metadata": {},
   "source": [
    "## 쓰기\n",
    "파일에 쓰기 **write()**"
   ]
  },
  {
   "cell_type": "code",
   "execution_count": 5,
   "metadata": {},
   "outputs": [],
   "source": [
    "f = open(\"새파일.txt\", \"w\")\n",
    "\n",
    "for i in range(1, 11):\n",
    "    data = \"Line %d\\n\" % i\n",
    "    f.write(data)\n",
    "\n",
    "f.close()"
   ]
  },
  {
   "cell_type": "markdown",
   "metadata": {},
   "source": [
    "## 읽기"
   ]
  },
  {
   "cell_type": "markdown",
   "metadata": {},
   "source": [
    "### 한줄읽기 **readline()**"
   ]
  },
  {
   "cell_type": "code",
   "execution_count": 10,
   "metadata": {},
   "outputs": [
    {
     "name": "stdout",
     "output_type": "stream",
     "text": [
      "Line 1\n",
      "Line 2\n"
     ]
    }
   ],
   "source": [
    "f = open(\"새파일.txt\", \"r\")  # 읽기모드 \"r\"\n",
    "\n",
    "line = f.readline()  # 한줄 읽기\n",
    "print(line, end='')\n",
    "line = f.readline()  # 한줄 읽기,  위에서 읽은 그 다음위치부터 읽어온다\n",
    "print(line, end='')\n",
    "\n",
    "f.close()"
   ]
  },
  {
   "cell_type": "code",
   "execution_count": 8,
   "metadata": {},
   "outputs": [
    {
     "name": "stdout",
     "output_type": "stream",
     "text": [
      "Line 1\n",
      "Line 2\n",
      "Line 3\n",
      "Line 4\n",
      "Line 5\n",
      "Line 6\n",
      "Line 7\n",
      "Line 8\n",
      "Line 9\n",
      "Line 10\n"
     ]
    }
   ],
   "source": [
    "!type 새파일.txt"
   ]
  },
  {
   "cell_type": "markdown",
   "metadata": {},
   "source": [
    "### 모든 라인 읽기"
   ]
  },
  {
   "cell_type": "markdown",
   "metadata": {},
   "source": [
    "#### 방법1: readline() 사용"
   ]
  },
  {
   "cell_type": "code",
   "execution_count": 11,
   "metadata": {},
   "outputs": [
    {
     "name": "stdout",
     "output_type": "stream",
     "text": [
      "Line 1\n",
      "Line 2\n",
      "Line 3\n",
      "Line 4\n",
      "Line 5\n",
      "Line 6\n",
      "Line 7\n",
      "Line 8\n",
      "Line 9\n",
      "Line 10\n"
     ]
    }
   ],
   "source": [
    "f = open('새파일.txt', 'r')\n",
    "\n",
    "while True:\n",
    "    line = f.readline()  # readline() 은 더 이상 읽을 라인이 없으면 None 리턴\n",
    "    if not line: break   # 파일의 끝에 다다랐으면 종료\n",
    "    print(line, end='')\n",
    "\n",
    "f.close()"
   ]
  },
  {
   "cell_type": "markdown",
   "metadata": {},
   "source": [
    "#### 방법2: readlines() 사용"
   ]
  },
  {
   "cell_type": "code",
   "execution_count": 14,
   "metadata": {},
   "outputs": [
    {
     "name": "stdout",
     "output_type": "stream",
     "text": [
      "Line 1\n",
      "Line 2\n",
      "Line 3\n",
      "Line 4\n",
      "Line 5\n",
      "Line 6\n",
      "Line 7\n",
      "Line 8\n",
      "Line 9\n",
      "Line 10\n",
      "\n"
     ]
    }
   ],
   "source": [
    "f = open(\"새파일.txt\", \"r\")\n",
    "\n",
    "lines = f.readlines()   # 각각의 line 을 담은 list 를 리턴한다\n",
    "# print(lines)\n",
    "# for line in lines:\n",
    "#     print(line, end=\"\")\n",
    "print(''.join(lines))\n",
    "\n",
    "f.close()"
   ]
  },
  {
   "cell_type": "markdown",
   "metadata": {},
   "source": [
    "#### 방법3 : iterable 사용"
   ]
  },
  {
   "cell_type": "code",
   "execution_count": 15,
   "metadata": {},
   "outputs": [
    {
     "name": "stdout",
     "output_type": "stream",
     "text": [
      "Line 1\n",
      "Line 2\n",
      "Line 3\n",
      "Line 4\n",
      "Line 5\n",
      "Line 6\n",
      "Line 7\n",
      "Line 8\n",
      "Line 9\n",
      "Line 10\n"
     ]
    }
   ],
   "source": [
    "f = open('새파일.txt', 'r')\n",
    "\n",
    "for line in f:  # file 객체가 iterable 하다.  한 line 씩 뽑혀나옴.\n",
    "    print(line, end=\"\")\n",
    "f.close()"
   ]
  },
  {
   "cell_type": "markdown",
   "metadata": {},
   "source": [
    "#### 방법4 : read() 사용"
   ]
  },
  {
   "cell_type": "code",
   "execution_count": 16,
   "metadata": {},
   "outputs": [
    {
     "name": "stdout",
     "output_type": "stream",
     "text": [
      "Line 1\n",
      "Line 2\n",
      "Line 3\n",
      "Line 4\n",
      "Line 5\n",
      "Line 6\n",
      "Line 7\n",
      "Line 8\n",
      "Line 9\n",
      "Line 10\n",
      "\n"
     ]
    }
   ],
   "source": [
    "f = open(\"새파일.txt\", \"r\")\n",
    "\n",
    "data = f.read()  # 파일 전체를 읽어옴\n",
    "print(data)\n",
    "\n",
    "f.close()\n"
   ]
  },
  {
   "cell_type": "markdown",
   "metadata": {},
   "source": [
    "## 추가 (append)"
   ]
  },
  {
   "cell_type": "code",
   "execution_count": 19,
   "metadata": {},
   "outputs": [],
   "source": [
    "f = open(\"새파일.txt\", \"a\")  # 추가모드 (append)\n",
    "\n",
    "for i in range(11, 20):\n",
    "    data = \"%d Line appended\\n\" % i\n",
    "    f.write(data)\n",
    "\n",
    "f.close()"
   ]
  },
  {
   "cell_type": "code",
   "execution_count": 20,
   "metadata": {},
   "outputs": [
    {
     "name": "stdout",
     "output_type": "stream",
     "text": [
      "Line 1\n",
      "Line 2\n",
      "Line 3\n",
      "Line 4\n",
      "Line 5\n",
      "Line 6\n",
      "Line 7\n",
      "Line 8\n",
      "Line 9\n",
      "Line 10\n",
      "11 Line appended\n",
      "12 Line appended\n",
      "13 Line appended\n",
      "14 Line appended\n",
      "15 Line appended\n",
      "16 Line appended\n",
      "17 Line appended\n",
      "18 Line appended\n",
      "19 Line appended\n",
      "11 Line appended\n",
      "12 Line appended\n",
      "13 Line appended\n",
      "14 Line appended\n",
      "15 Line appended\n",
      "16 Line appended\n",
      "17 Line appended\n",
      "18 Line appended\n",
      "19 Line appended\n"
     ]
    }
   ],
   "source": [
    "!type 새파일.txt"
   ]
  },
  {
   "cell_type": "markdown",
   "metadata": {},
   "source": [
    "## with 구문"
   ]
  },
  {
   "cell_type": "code",
   "execution_count": 21,
   "metadata": {},
   "outputs": [],
   "source": [
    "# 매번 close() 를 해주는게 불편하고, 까먹기도 쉽다\n",
    "# with 구문을 사용하면 자동적으로 close 해준다   (파이썬 2.5 부터 지원)"
   ]
  },
  {
   "cell_type": "code",
   "execution_count": 22,
   "metadata": {},
   "outputs": [
    {
     "name": "stdout",
     "output_type": "stream",
     "text": [
      "Line 1\n",
      "Line 2\n",
      "Line 3\n",
      "Line 4\n",
      "Line 5\n",
      "Line 6\n",
      "Line 7\n",
      "Line 8\n",
      "Line 9\n",
      "Line 10\n",
      "11 Line appended\n",
      "12 Line appended\n",
      "13 Line appended\n",
      "14 Line appended\n",
      "15 Line appended\n",
      "16 Line appended\n",
      "17 Line appended\n",
      "18 Line appended\n",
      "19 Line appended\n",
      "11 Line appended\n",
      "12 Line appended\n",
      "13 Line appended\n",
      "14 Line appended\n",
      "15 Line appended\n",
      "16 Line appended\n",
      "17 Line appended\n",
      "18 Line appended\n",
      "19 Line appended\n",
      "\n"
     ]
    }
   ],
   "source": [
    "with open(\"새파일.txt\", \"r\") as f:  # 블럭형태로 작성해야 한다. 블럭이 끝나면 자동적으로 f를 close()한다\n",
    "    data = f.read()\n",
    "    print(data)"
   ]
  },
  {
   "cell_type": "markdown",
   "metadata": {},
   "source": [
    "#### 폴더 생성"
   ]
  },
  {
   "cell_type": "code",
   "execution_count": 26,
   "metadata": {},
   "outputs": [
    {
     "name": "stdout",
     "output_type": "stream",
     "text": [
      "out 폴더가 이미 있습니다.\n"
     ]
    }
   ],
   "source": [
    "import os\n",
    "\n",
    "if not os.path.exists('out'):    # 'out' 폴더 존재 여부 확인\n",
    "    os.makedirs('out')  # 폴더 생성\n",
    "    print('out 폴더 생성')\n",
    "else:\n",
    "    print('out 폴더가 이미 있습니다.')"
   ]
  },
  {
   "cell_type": "code",
   "execution_count": 30,
   "metadata": {},
   "outputs": [],
   "source": [
    "f = open('out/새파일.txt', 'w')\n",
    "\n",
    "for i in range(1, 11):\n",
    "    data = f'{i}번째 줄입니다\\n'\n",
    "    f.write(data)\n",
    "\n",
    "f.close()"
   ]
  },
  {
   "cell_type": "code",
   "execution_count": 29,
   "metadata": {},
   "outputs": [
    {
     "name": "stdout",
     "output_type": "stream",
     "text": [
      "1번째 줄입니다\n",
      "2번째 줄입니다\n",
      "3번째 줄입니다\n",
      "4번째 줄입니다\n",
      "5번째 줄입니다\n",
      "6번째 줄입니다\n",
      "7번째 줄입니다\n",
      "8번째 줄입니다\n",
      "9번째 줄입니다\n",
      "10번째 줄입니다\n"
     ]
    }
   ],
   "source": [
    "!type out\\새파일.txt"
   ]
  },
  {
   "cell_type": "code",
   "execution_count": 32,
   "metadata": {},
   "outputs": [
    {
     "name": "stdout",
     "output_type": "stream",
     "text": [
      "1번째 줄입니다\n",
      "2번째 줄입니다\n",
      "3번째 줄입니다\n",
      "4번째 줄입니다\n",
      "5번째 줄입니다\n",
      "6번째 줄입니다\n",
      "7번째 줄입니다\n",
      "8번째 줄입니다\n",
      "9번째 줄입니다\n",
      "10번째 줄입니다\n",
      "\n"
     ]
    }
   ],
   "source": [
    "with open('out/새파일.txt', 'r') as f:\n",
    "    data = f.read()\n",
    "    print(data)"
   ]
  },
  {
   "cell_type": "markdown",
   "metadata": {},
   "source": [
    "#### utf-8 인코딩 문제\n",
    "저장한 인코딩으로 읽기 해야 한다"
   ]
  },
  {
   "cell_type": "code",
   "execution_count": 33,
   "metadata": {},
   "outputs": [],
   "source": [
    "f = open('out/새파일utf-8.txt', 'w', encoding=\"utf8\", errors='ignore')\n",
    "\n",
    "for i in range(1, 11):\n",
    "    data = f'{i}번째 줄입니다\\n'\n",
    "    f.write(data)\n",
    "\n",
    "f.close()"
   ]
  },
  {
   "cell_type": "code",
   "execution_count": 34,
   "metadata": {},
   "outputs": [
    {
     "ename": "UnicodeDecodeError",
     "evalue": "'cp949' codec can't decode byte 0xeb in position 14: illegal multibyte sequence",
     "output_type": "error",
     "traceback": [
      "\u001b[1;31m---------------------------------------------------------------------------\u001b[0m",
      "\u001b[1;31mUnicodeDecodeError\u001b[0m                        Traceback (most recent call last)",
      "\u001b[1;32m<ipython-input-34-e4b04a08acec>\u001b[0m in \u001b[0;36m<module>\u001b[1;34m\u001b[0m\n\u001b[0;32m      1\u001b[0m \u001b[1;32mwith\u001b[0m \u001b[0mopen\u001b[0m\u001b[1;33m(\u001b[0m\u001b[1;34m'out/새파일utf-8.txt'\u001b[0m\u001b[1;33m,\u001b[0m \u001b[1;34m'r'\u001b[0m\u001b[1;33m)\u001b[0m \u001b[1;32mas\u001b[0m \u001b[0mf\u001b[0m\u001b[1;33m:\u001b[0m\u001b[1;33m\u001b[0m\u001b[1;33m\u001b[0m\u001b[0m\n\u001b[1;32m----> 2\u001b[1;33m     \u001b[0mdata\u001b[0m \u001b[1;33m=\u001b[0m \u001b[0mf\u001b[0m\u001b[1;33m.\u001b[0m\u001b[0mread\u001b[0m\u001b[1;33m(\u001b[0m\u001b[1;33m)\u001b[0m\u001b[1;33m\u001b[0m\u001b[1;33m\u001b[0m\u001b[0m\n\u001b[0m\u001b[0;32m      3\u001b[0m     \u001b[0mprint\u001b[0m\u001b[1;33m(\u001b[0m\u001b[0mdata\u001b[0m\u001b[1;33m)\u001b[0m\u001b[1;33m\u001b[0m\u001b[1;33m\u001b[0m\u001b[0m\n",
      "\u001b[1;31mUnicodeDecodeError\u001b[0m: 'cp949' codec can't decode byte 0xeb in position 14: illegal multibyte sequence"
     ]
    }
   ],
   "source": [
    "with open('out/새파일utf-8.txt', 'r') as f:\n",
    "    data = f.read()\n",
    "    print(data)"
   ]
  },
  {
   "cell_type": "code",
   "execution_count": 35,
   "metadata": {},
   "outputs": [
    {
     "name": "stdout",
     "output_type": "stream",
     "text": [
      "1번째 줄입니다\n",
      "2번째 줄입니다\n",
      "3번째 줄입니다\n",
      "4번째 줄입니다\n",
      "5번째 줄입니다\n",
      "6번째 줄입니다\n",
      "7번째 줄입니다\n",
      "8번째 줄입니다\n",
      "9번째 줄입니다\n",
      "10번째 줄입니다\n",
      "\n"
     ]
    }
   ],
   "source": [
    "with open('out/새파일utf-8.txt', 'r', encoding='utf8', errors='ignore') as f:\n",
    "    data = f.read()\n",
    "    print(data)"
   ]
  },
  {
   "cell_type": "markdown",
   "metadata": {},
   "source": [
    "## 실습] 파일의 단어 빈도수 "
   ]
  },
  {
   "cell_type": "code",
   "execution_count": 36,
   "metadata": {},
   "outputs": [],
   "source": [
    "# 오로지 알파벳만. 계수하기\n",
    "# 대소문자 구문없이 비교 : The, the\n",
    "# 글자수 2개 이상인 단어만 카운트 하기 : a, I <-- 제외\n",
    "# 빈도수 100회 이상인 단어만 카운트\n",
    "\n",
    "\"\"\"\n",
    "[출력예]\n",
    "the 1642\n",
    "and 872\n",
    "to 729\n",
    "it 595\n",
    "she 553\n",
    "of 514\n",
    "said 462\n",
    "you 411\n",
    "alice 398\n",
    "in 369\n",
    "...\n",
    "\"\"\"\n",
    "None"
   ]
  },
  {
   "cell_type": "code",
   "execution_count": 37,
   "metadata": {},
   "outputs": [],
   "source": [
    "filepath = r'D:\\DevRoot\\DataSet\\alice30.txt'"
   ]
  },
  {
   "cell_type": "code",
   "execution_count": null,
   "metadata": {},
   "outputs": [],
   "source": [
    "# 파일 읽기 \"alice30.txt\"\n",
    "\n",
    "# 알파벳 대/소문자 변환 : lower(), upper()\n",
    "\n",
    "# 알파벳 아닌거 제거 (알파벳 아닌 글자는 공백으로 치환)\n",
    "\n",
    "# 단어 추출 (2글자 이상인 단어만) : split()\n",
    "\n",
    "# 등장 빈도 계수 --> { } 로 만들기\n",
    "\n",
    "# 100번이상 등장한것만 출력"
   ]
  },
  {
   "cell_type": "code",
   "execution_count": 52,
   "metadata": {},
   "outputs": [
    {
     "data": {
      "text/plain": [
       "{'alice': 398,\n",
       " 'in': 369,\n",
       " 'the': 1642,\n",
       " 'down': 102,\n",
       " 'was': 357,\n",
       " 'to': 729,\n",
       " 'very': 144,\n",
       " 'of': 514,\n",
       " 'her': 248,\n",
       " 'on': 193,\n",
       " 'and': 872,\n",
       " 'she': 553,\n",
       " 'had': 178,\n",
       " 'but': 170,\n",
       " 'it': 595,\n",
       " 'what': 141,\n",
       " 'is': 108,\n",
       " 'so': 151,\n",
       " 'as': 263,\n",
       " 'for': 153,\n",
       " 'be': 148,\n",
       " 'up': 100,\n",
       " 'with': 180,\n",
       " 'that': 315,\n",
       " 'out': 117,\n",
       " 'at': 212,\n",
       " 'this': 134,\n",
       " 'all': 182,\n",
       " 'not': 145,\n",
       " 'they': 153,\n",
       " 'one': 104,\n",
       " 'said': 462,\n",
       " 'you': 411,\n",
       " 'little': 128,\n",
       " 'he': 125}"
      ]
     },
     "execution_count": 52,
     "metadata": {},
     "output_type": "execute_result"
    }
   ],
   "source": [
    "with open(filepath, 'r', encoding='utf8') as f:\n",
    "    data = f.read()\n",
    "    data = data.lower() # 알파벳 대/소문자 변환 \n",
    "\n",
    "#-----------------------------------------------\n",
    "#알파벳 아닌거 제거\n",
    "data2 = ''\n",
    "for ch in data:\n",
    "    if 'a' <= ch <= 'z':\n",
    "        data2 += ch\n",
    "    else:\n",
    "        data2 += ' '\n",
    "        \n",
    "# 또 다른방법, 정규표현식 사용\n",
    "import re\n",
    "data2 = re.sub(\"[^\\w]\", \" \", data)\n",
    "        \n",
    "#-----------------------------------------------        \n",
    "# 단어 추출 (2글자 이상인 단어만) : split()\n",
    "words = [\n",
    "    word\n",
    "    for word in data2.split()\n",
    "    if len(word) > 1\n",
    "]\n",
    "\n",
    "# 또다른방법, filter 사용\n",
    "words = filter(lambda x : len(x) > 1, data2.split())\n",
    "\n",
    "# 또다른 방법, 정규표현식 사용\n",
    "words = re.findall('[a-z]{2,}', data2)\n",
    "\n",
    "#----------------------------------------------\n",
    "# 등장빈도 개수\n",
    "result = {}\n",
    "for word in words:\n",
    "    if result.get(word):\n",
    "        result[word] += 1\n",
    "    else:\n",
    "        result[word] = 1\n",
    "\n",
    "# 또다른 방법, reduce 사용\n",
    "from functools import reduce\n",
    "result = reduce(\n",
    "    lambda r, e : r.update({e : r.get(e, 0) + 1}) or r,\n",
    "    words,\n",
    "    {}\n",
    ")\n",
    "        \n",
    "\n",
    "# 100번이상 등장한것만 출력\n",
    "result2 = {\n",
    "    word : result[word]\n",
    "    for word in result\n",
    "    if result[word] >= 100\n",
    "}\n",
    "\n",
    "result2"
   ]
  },
  {
   "cell_type": "code",
   "execution_count": 53,
   "metadata": {},
   "outputs": [
    {
     "data": {
      "text/plain": [
       "{'alice': 398,\n",
       " 'in': 369,\n",
       " 'the': 1642,\n",
       " 'down': 102,\n",
       " 'was': 357,\n",
       " 'to': 729,\n",
       " 'very': 144,\n",
       " 'of': 514,\n",
       " 'her': 248,\n",
       " 'on': 193,\n",
       " 'and': 872,\n",
       " 'she': 553,\n",
       " 'had': 178,\n",
       " 'but': 170,\n",
       " 'it': 595,\n",
       " 'what': 141,\n",
       " 'is': 108,\n",
       " 'so': 151,\n",
       " 'as': 263,\n",
       " 'for': 153,\n",
       " 'be': 148,\n",
       " 'up': 100,\n",
       " 'with': 180,\n",
       " 'that': 315,\n",
       " 'out': 117,\n",
       " 'at': 212,\n",
       " 'this': 134,\n",
       " 'all': 182,\n",
       " 'not': 145,\n",
       " 'they': 153,\n",
       " 'one': 104,\n",
       " 'said': 462,\n",
       " 'you': 411,\n",
       " 'little': 128,\n",
       " 'he': 125}"
      ]
     },
     "execution_count": 53,
     "metadata": {},
     "output_type": "execute_result"
    }
   ],
   "source": [
    "result2"
   ]
  },
  {
   "cell_type": "code",
   "execution_count": 54,
   "metadata": {},
   "outputs": [],
   "source": [
    "# 빈도수 정렬, 내림차순 정렬 까지 한다면?\n",
    "\"\"\"\n",
    "the 1603\n",
    "and 766\n",
    "to 706\n",
    "she 518\n",
    "of 493\n",
    "said 421\n",
    "it 362\n",
    "in 351\n",
    "was 333\n",
    "you 265\n",
    "as 249\n",
    "that 222\n",
    "alice 221\n",
    "her 208\n",
    "at 206\n",
    "had 176\n",
    "with 169\n",
    "all 155\n",
    "on 142\n",
    "very 139\n",
    "be 138\n",
    "for 135\n",
    "so 126\n",
    "`i 121\n",
    "little 120\n",
    "they 118\n",
    "but 117\n",
    "he 111\n",
    "not 108\n",
    "this 103\n",
    "\"\"\"\n",
    "None"
   ]
  },
  {
   "cell_type": "code",
   "execution_count": 58,
   "metadata": {},
   "outputs": [
    {
     "name": "stdout",
     "output_type": "stream",
     "text": [
      "the 1642\n",
      "and 872\n",
      "to 729\n",
      "it 595\n",
      "she 553\n",
      "of 514\n",
      "said 462\n",
      "you 411\n",
      "alice 398\n",
      "in 369\n",
      "was 357\n",
      "that 315\n",
      "as 263\n",
      "her 248\n",
      "at 212\n",
      "on 193\n",
      "all 182\n",
      "with 180\n",
      "had 178\n",
      "but 170\n",
      "for 153\n",
      "they 153\n",
      "so 151\n",
      "be 148\n",
      "not 145\n",
      "very 144\n",
      "what 141\n",
      "this 134\n",
      "little 128\n",
      "he 125\n",
      "out 117\n",
      "is 108\n",
      "one 104\n",
      "down 102\n",
      "up 100\n"
     ]
    }
   ],
   "source": [
    "for key in sorted(result2, key=result2.get, reverse=True):\n",
    "    print(key, result2[key])"
   ]
  },
  {
   "cell_type": "markdown",
   "metadata": {},
   "source": [
    "# 실습] Titanic\n",
    "CSV 파일 읽기 + 분석"
   ]
  },
  {
   "cell_type": "code",
   "execution_count": 60,
   "metadata": {},
   "outputs": [],
   "source": [
    "# 등급별 생존률 계산하기\n",
    "# titanic.csv\n",
    "\"\"\"\n",
    "3등급] 총 491 명, 생존 119 명, 생존률 24.2%\n",
    "1등급] 총 216 명, 생존 136 명, 생존률 63.0%\n",
    "2등급] 총 184 명, 생존 87 명, 생존률 47.3%\n",
    "\"\"\"\n",
    "None"
   ]
  },
  {
   "cell_type": "code",
   "execution_count": 63,
   "metadata": {},
   "outputs": [],
   "source": [
    "filepath = r\"D:\\DevRoot\\DataSet\\titanic.csv\""
   ]
  },
  {
   "cell_type": "code",
   "execution_count": 65,
   "metadata": {},
   "outputs": [],
   "source": [
    "# 단계\n",
    "# line 별로 읽어들이기  (첫 line 제거)\n",
    "\n",
    "# line 을 , (콤마) 로 쪼개기 (split())\n",
    "    \n",
    "# 생존여부, 객실등급 데이터 추출 ([1],[2]번째 데이타)\n",
    "\n",
    "# 객실등급별 집계 ( dict 결과{'1': [...], '2' : [...]})\n",
    "    \n",
    "# 출력"
   ]
  },
  {
   "cell_type": "code",
   "execution_count": 76,
   "metadata": {},
   "outputs": [
    {
     "name": "stdout",
     "output_type": "stream",
     "text": [
      "3등급] 총 491명, 생존 119 명, 생존률 24.2%\n",
      "1등급] 총 216명, 생존 136 명, 생존률 63.0%\n",
      "2등급] 총 184명, 생존 87 명, 생존률 47.3%\n"
     ]
    }
   ],
   "source": [
    "result = {}\n",
    "with open(filepath, \"r\", encoding='utf8') as f:\n",
    "    f.readline()\n",
    "    for line in f:\n",
    "        psgr = line.split(',')\n",
    "        survived = psgr[1]\n",
    "        pclass = psgr[2]\n",
    "        if result.get(pclass):\n",
    "            result[pclass].append(survived)\n",
    "        else:\n",
    "            result[pclass] = [survived]\n",
    "        \n",
    "for pclass in result:\n",
    "    total = len(result[pclass])\n",
    "    survived = result[pclass].count(\"1\")\n",
    "    print(\"%d등급] 총 %d명, 생존 %d 명, 생존률 %.1f%%\" % (int(pclass), total, survived, (survived / total) * 100))\n",
    "   "
   ]
  },
  {
   "cell_type": "code",
   "execution_count": null,
   "metadata": {},
   "outputs": [],
   "source": []
  },
  {
   "cell_type": "code",
   "execution_count": null,
   "metadata": {},
   "outputs": [],
   "source": []
  },
  {
   "cell_type": "code",
   "execution_count": null,
   "metadata": {},
   "outputs": [],
   "source": []
  },
  {
   "cell_type": "code",
   "execution_count": null,
   "metadata": {},
   "outputs": [],
   "source": []
  },
  {
   "cell_type": "code",
   "execution_count": null,
   "metadata": {},
   "outputs": [],
   "source": []
  },
  {
   "cell_type": "code",
   "execution_count": null,
   "metadata": {},
   "outputs": [],
   "source": []
  },
  {
   "cell_type": "code",
   "execution_count": null,
   "metadata": {},
   "outputs": [],
   "source": []
  },
  {
   "cell_type": "code",
   "execution_count": null,
   "metadata": {},
   "outputs": [],
   "source": []
  },
  {
   "cell_type": "code",
   "execution_count": null,
   "metadata": {},
   "outputs": [],
   "source": []
  }
 ],
 "metadata": {
  "kernelspec": {
   "display_name": "Python 3",
   "language": "python",
   "name": "python3"
  },
  "language_info": {
   "codemirror_mode": {
    "name": "ipython",
    "version": 3
   },
   "file_extension": ".py",
   "mimetype": "text/x-python",
   "name": "python",
   "nbconvert_exporter": "python",
   "pygments_lexer": "ipython3",
   "version": "3.8.5"
  }
 },
 "nbformat": 4,
 "nbformat_minor": 4
}
