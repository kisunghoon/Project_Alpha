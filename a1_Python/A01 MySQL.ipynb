{
 "cells": [
  {
   "cell_type": "code",
   "execution_count": null,
   "metadata": {},
   "outputs": [],
   "source": [
    "# > pip install pymysql 설치"
   ]
  },
  {
   "cell_type": "code",
   "execution_count": 1,
   "metadata": {},
   "outputs": [],
   "source": [
    "import pymysql"
   ]
  },
  {
   "cell_type": "markdown",
   "metadata": {},
   "source": [
    "# Connection 생성"
   ]
  },
  {
   "cell_type": "code",
   "execution_count": 2,
   "metadata": {},
   "outputs": [
    {
     "data": {
      "text/plain": [
       "<pymysql.connections.Connection at 0x2099f5b78b0>"
      ]
     },
     "execution_count": 2,
     "metadata": {},
     "output_type": "execute_result"
    }
   ],
   "source": [
    "conn = pymysql.connect(\n",
    "    host='localhost',\n",
    "    port=3306,   # 디폴트 3306\n",
    "    user='myuser',\n",
    "    password='1234',\n",
    "    database='mydb'\n",
    ")\n",
    "conn"
   ]
  },
  {
   "cell_type": "code",
   "execution_count": 3,
   "metadata": {},
   "outputs": [],
   "source": [
    "conn.close()  # 사용후에는 close() 꼭 해주기"
   ]
  },
  {
   "cell_type": "markdown",
   "metadata": {},
   "source": [
    "# DDL \n",
    "테이블 생성"
   ]
  },
  {
   "cell_type": "code",
   "execution_count": 9,
   "metadata": {},
   "outputs": [
    {
     "name": "stdout",
     "output_type": "stream",
     "text": [
      "(1050, \"Table 'users' already exists\")\n",
      "MySQL 에러코드:  1050\n",
      "MySQL 에러메세지:  Table 'users' already exists\n"
     ]
    }
   ],
   "source": [
    "import pymysql\n",
    "import pymysql.cursors\n",
    "\n",
    "conn = pymysql.connect(\n",
    "    host='localhost',\n",
    "    port=3306,   # 디폴트 3306\n",
    "    user='myuser',\n",
    "    password='1234',\n",
    "    database='mydb'\n",
    ")\n",
    "\n",
    "try:\n",
    "    with conn.cursor() as cursor:\n",
    "        sql = '''\n",
    "            CREATE TABLE users (\n",
    "                id INT(11) AUTO_INCREMENT PRIMARY KEY,\n",
    "                email VARCHAR(255) NOT NULL,\n",
    "                password VARCHAR(255) NOT NULL\n",
    "            )\n",
    "        '''\n",
    "        cursor.execute(sql)\n",
    "    \n",
    "    print('테이블 생성')\n",
    "except pymysql.OperationalError as e:\n",
    "    print(e.args)\n",
    "    print(\"MySQL 에러코드: \", e.args[0])  # MySQL 에러코드\n",
    "    print(\"MySQL 에러메세지: \", e.args[1]) # MySLQ 에러 메세지\n",
    "finally:\n",
    "    conn.close()\n"
   ]
  },
  {
   "cell_type": "markdown",
   "metadata": {},
   "source": [
    "# DML : INSERT "
   ]
  },
  {
   "cell_type": "code",
   "execution_count": 14,
   "metadata": {},
   "outputs": [
    {
     "name": "stdout",
     "output_type": "stream",
     "text": [
      "5 1 0\n"
     ]
    }
   ],
   "source": [
    "import pymysql\n",
    "import pymysql.cursors\n",
    "\n",
    "conn = pymysql.connect(\n",
    "    host='localhost',\n",
    "    port=3306,   # 디폴트 3306\n",
    "    user='myuser',\n",
    "    password='1234',\n",
    "    database='mydb'\n",
    ")\n",
    "\n",
    "# prepared statement 방식\n",
    "try:\n",
    "    with conn.cursor() as cursor:\n",
    "        sql = 'INSERT INTO users(email, password) VALUES (%s, %s)'\n",
    "        cursor.execute(sql, ('test@test.com', 'my-password'))\n",
    "        \n",
    "    conn.commit()\n",
    "    \n",
    "    print(cursor.lastrowid, cursor.rowcount, cursor.rownumber)\n",
    "    # cursor.lastrowid  <-- last inser id\n",
    "    # cursor.rowcount <-- affected row count  (DML 은 정수값 리턴)\n",
    "    # cursor.rownumber\n",
    "    \n",
    "    \n",
    "# pymysql 을 다룰 때 자주 등장하는 Error 들\n",
    "except (pymysql.OperationalError, pymysql.ProgrammingError,\n",
    "       pymysql.InternalError, pymysql.IntegrityError) as e:\n",
    "    print(e.args)\n",
    "    print(\"MySQL 에러코드: \", e.args[0])  # MySQL 에러코드\n",
    "    print(\"MySQL 에러메세지: \", e.args[1]) # MySLQ 에러 메세지\n",
    "finally:\n",
    "    conn.close()\n"
   ]
  },
  {
   "cell_type": "markdown",
   "metadata": {},
   "source": [
    "# SELECT"
   ]
  },
  {
   "cell_type": "code",
   "execution_count": 15,
   "metadata": {},
   "outputs": [
    {
     "name": "stdout",
     "output_type": "stream",
     "text": [
      "(5, 'test@test.com', 'my-password')\n",
      "(4, 'test@test.com', 'my-password')\n"
     ]
    }
   ],
   "source": [
    "import pymysql\n",
    "import pymysql.cursors\n",
    "\n",
    "conn = pymysql.connect(\n",
    "    host='localhost',\n",
    "    port=3306,   # 디폴트 3306\n",
    "    user='myuser',\n",
    "    password='1234',\n",
    "    database='mydb'\n",
    ")\n",
    "\n",
    "# prepared statement 방식\n",
    "try:\n",
    "    with conn.cursor() as cursor:\n",
    "        sql = 'SELECT * FROM users ORDER BY id DESC'\n",
    "        cursor.execute(sql)\n",
    "        \n",
    "        # fetchone()  하나씩 차례대로 row 를 tuple 로 리턴.\n",
    "        result = cursor.fetchone()\n",
    "        print(result)\n",
    "\n",
    "        result = cursor.fetchone()\n",
    "        print(result)\n",
    "    \n",
    "# pymysql 을 다룰 때 자주 등장하는 Error 들\n",
    "except (pymysql.OperationalError, pymysql.ProgrammingError,\n",
    "       pymysql.InternalError, pymysql.IntegrityError) as e:\n",
    "    print(e.args)\n",
    "    print(\"MySQL 에러코드: \", e.args[0])  # MySQL 에러코드\n",
    "    print(\"MySQL 에러메세지: \", e.args[1]) # MySLQ 에러 메세지\n",
    "finally:\n",
    "    conn.close()\n"
   ]
  },
  {
   "cell_type": "code",
   "execution_count": 16,
   "metadata": {},
   "outputs": [
    {
     "name": "stdout",
     "output_type": "stream",
     "text": [
      "((5, 'test@test.com', 'my-password'), (4, 'test@test.com', 'my-password'), (3, 'test@test.com', 'my-password'), (2, 'test@test.com', 'my-password'), (1, 'test@test.com', 'my-password'))\n"
     ]
    }
   ],
   "source": [
    "import pymysql\n",
    "import pymysql.cursors\n",
    "\n",
    "conn = pymysql.connect(\n",
    "    host='localhost',\n",
    "    port=3306,   # 디폴트 3306\n",
    "    user='myuser',\n",
    "    password='1234',\n",
    "    database='mydb'\n",
    ")\n",
    "\n",
    "# prepared statement 방식\n",
    "try:\n",
    "    with conn.cursor() as cursor:\n",
    "        sql = 'SELECT * FROM users ORDER BY id DESC'\n",
    "        cursor.execute(sql)\n",
    "        \n",
    "        # fetchall() tuple 들의 tuple 을 리턴\n",
    "        result = cursor.fetchall()\n",
    "        print(result)\n",
    "       \n",
    "    \n",
    "# pymysql 을 다룰 때 자주 등장하는 Error 들\n",
    "except (pymysql.OperationalError, pymysql.ProgrammingError,\n",
    "       pymysql.InternalError, pymysql.IntegrityError) as e:\n",
    "    print(e.args)\n",
    "    print(\"MySQL 에러코드: \", e.args[0])  # MySQL 에러코드\n",
    "    print(\"MySQL 에러메세지: \", e.args[1]) # MySLQ 에러 메세지\n",
    "finally:\n",
    "    conn.close()\n"
   ]
  },
  {
   "cell_type": "markdown",
   "metadata": {},
   "source": [
    "# DML : UPDATE"
   ]
  },
  {
   "cell_type": "code",
   "execution_count": 24,
   "metadata": {},
   "outputs": [
    {
     "name": "stdout",
     "output_type": "stream",
     "text": [
      "0\n"
     ]
    }
   ],
   "source": [
    "import pymysql\n",
    "import pymysql.cursors\n",
    "\n",
    "conn = pymysql.connect(\n",
    "    host='localhost',\n",
    "    port=3306,   # 디폴트 3306\n",
    "    user='myuser',\n",
    "    password='1234',\n",
    "    database='mydb'\n",
    ")\n",
    "\n",
    "# prepared statement 방식\n",
    "try:\n",
    "    with conn.cursor() as cursor:\n",
    "        # 서식문자는 타입 관계없이 %s 로 통일!  다른거 쓰면 TypeError 발생!!\n",
    "        sql = 'UPDATE users SET email = %s WHERE id > %s'\n",
    "        cursor.execute(sql, ('my@phtyon.com', 1))\n",
    "       \n",
    "    conn.commit()\n",
    "    print(cursor.rowcount)\n",
    "\n",
    "except TypeError as e:\n",
    "    print(e.args)\n",
    "    \n",
    "# pymysql 을 다룰 때 자주 등장하는 Error 들\n",
    "except (pymysql.OperationalError, pymysql.ProgrammingError,\n",
    "       pymysql.InternalError, pymysql.IntegrityError) as e:\n",
    "    print(e.args)\n",
    "    print(\"MySQL 에러코드: \", e.args[0])  # MySQL 에러코드\n",
    "    print(\"MySQL 에러메세지: \", e.args[1]) # MySLQ 에러 메세지\n",
    "finally:\n",
    "    conn.close()\n"
   ]
  },
  {
   "cell_type": "markdown",
   "metadata": {},
   "source": [
    "# DML: DELETE"
   ]
  },
  {
   "cell_type": "code",
   "execution_count": 25,
   "metadata": {},
   "outputs": [
    {
     "name": "stdout",
     "output_type": "stream",
     "text": [
      "2\n"
     ]
    }
   ],
   "source": [
    "import pymysql\n",
    "import pymysql.cursors\n",
    "\n",
    "conn = pymysql.connect(\n",
    "    host='localhost',\n",
    "    port=3306,   # 디폴트 3306\n",
    "    user='myuser',\n",
    "    password='1234',\n",
    "    database='mydb'\n",
    ")\n",
    "\n",
    "# prepared statement 방식\n",
    "try:\n",
    "    with conn.cursor() as cursor:\n",
    "        sql = 'DELETE FROM users WHERE id > 3'\n",
    "        cursor.execute(sql)    \n",
    "       \n",
    "    conn.commit()\n",
    "    print(cursor.rowcount)\n",
    "\n",
    "except TypeError as e:\n",
    "    print(e.args)\n",
    "    \n",
    "# pymysql 을 다룰 때 자주 등장하는 Error 들\n",
    "except (pymysql.OperationalError, pymysql.ProgrammingError,\n",
    "       pymysql.InternalError, pymysql.IntegrityError) as e:\n",
    "    print(e.args)\n",
    "    print(\"MySQL 에러코드: \", e.args[0])  # MySQL 에러코드\n",
    "    print(\"MySQL 에러메세지: \", e.args[1]) # MySLQ 에러 메세지\n",
    "finally:\n",
    "    conn.close()\n"
   ]
  },
  {
   "cell_type": "code",
   "execution_count": null,
   "metadata": {},
   "outputs": [],
   "source": []
  },
  {
   "cell_type": "code",
   "execution_count": null,
   "metadata": {},
   "outputs": [],
   "source": []
  },
  {
   "cell_type": "code",
   "execution_count": null,
   "metadata": {},
   "outputs": [],
   "source": []
  },
  {
   "cell_type": "code",
   "execution_count": null,
   "metadata": {},
   "outputs": [],
   "source": []
  },
  {
   "cell_type": "code",
   "execution_count": null,
   "metadata": {},
   "outputs": [],
   "source": []
  },
  {
   "cell_type": "code",
   "execution_count": null,
   "metadata": {},
   "outputs": [],
   "source": []
  },
  {
   "cell_type": "code",
   "execution_count": null,
   "metadata": {},
   "outputs": [],
   "source": []
  },
  {
   "cell_type": "code",
   "execution_count": null,
   "metadata": {},
   "outputs": [],
   "source": []
  },
  {
   "cell_type": "code",
   "execution_count": null,
   "metadata": {},
   "outputs": [],
   "source": []
  },
  {
   "cell_type": "code",
   "execution_count": null,
   "metadata": {},
   "outputs": [],
   "source": []
  },
  {
   "cell_type": "code",
   "execution_count": null,
   "metadata": {},
   "outputs": [],
   "source": []
  }
 ],
 "metadata": {
  "kernelspec": {
   "display_name": "Python 3",
   "language": "python",
   "name": "python3"
  },
  "language_info": {
   "codemirror_mode": {
    "name": "ipython",
    "version": 3
   },
   "file_extension": ".py",
   "mimetype": "text/x-python",
   "name": "python",
   "nbconvert_exporter": "python",
   "pygments_lexer": "ipython3",
   "version": "3.8.5"
  }
 },
 "nbformat": 4,
 "nbformat_minor": 4
}
