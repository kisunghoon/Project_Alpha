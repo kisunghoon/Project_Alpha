{
 "cells": [
  {
   "cell_type": "code",
   "execution_count": 1,
   "metadata": {},
   "outputs": [],
   "source": [
    "# 국어 영어 수학 점수를 입력받고\n",
    "# 총점, 평균, 등급을 출력하세요\n",
    "\n",
    "# 등급은\n",
    "# 90점 이상은 A\n",
    "# 80점 이상은 B\n",
    "# 70점 이상은 C\n",
    "# 60점 이상은 D\n",
    "# 그 이하는 F\n",
    "\n",
    "#예1]\n",
    "# 국,영,수 입력:78 89 67\n",
    "# 총점: 234\n",
    "# 평균: 78.0\n",
    "# 등급: C\n",
    "\n",
    "# 예2]\n",
    "# 국,영,수 입력:98 45 23\n",
    "# 총점: 166\n",
    "# 평균: 55.3\n",
    "# 등급: F\n",
    "\n",
    "# 예3]\n",
    "# 국,영,수 입력:89 97 100\n",
    "# 총점: 286\n",
    "# 평균: 95.3\n",
    "# 등급: A"
   ]
  },
  {
   "cell_type": "code",
   "execution_count": 4,
   "metadata": {},
   "outputs": [
    {
     "name": "stdout",
     "output_type": "stream",
     "text": [
      "국,영,수 입력:89 97 100\n",
      "총점: 286\n",
      "평균: 95.3\n",
      "등급: A\n"
     ]
    }
   ],
   "source": [
    "kor, eng, math = map(int, input('국,영,수 입력:').split())\n",
    "total = kor + eng + math\n",
    "avg = total / 3\n",
    "print('총점:', total)\n",
    "print('평균: {:.1f}'.format(avg))\n",
    "\n",
    "grade = None\n",
    "if avg >= 90:\n",
    "    grade = 'A'\n",
    "elif avg >= 80:\n",
    "    grade = 'B'\n",
    "elif avg >= 70:\n",
    "    grade = 'C'\n",
    "elif avg >= 60:\n",
    "    grade = 'D'\n",
    "else:\n",
    "    grade = 'F'\n",
    "\n",
    "print('등급:', grade)"
   ]
  },
  {
   "cell_type": "code",
   "execution_count": null,
   "metadata": {},
   "outputs": [],
   "source": []
  },
  {
   "cell_type": "code",
   "execution_count": null,
   "metadata": {},
   "outputs": [],
   "source": []
  },
  {
   "cell_type": "code",
   "execution_count": null,
   "metadata": {},
   "outputs": [],
   "source": []
  },
  {
   "cell_type": "code",
   "execution_count": null,
   "metadata": {},
   "outputs": [],
   "source": []
  },
  {
   "cell_type": "code",
   "execution_count": null,
   "metadata": {},
   "outputs": [],
   "source": []
  },
  {
   "cell_type": "code",
   "execution_count": null,
   "metadata": {},
   "outputs": [],
   "source": []
  },
  {
   "cell_type": "code",
   "execution_count": null,
   "metadata": {},
   "outputs": [],
   "source": []
  },
  {
   "cell_type": "code",
   "execution_count": null,
   "metadata": {},
   "outputs": [],
   "source": []
  },
  {
   "cell_type": "code",
   "execution_count": null,
   "metadata": {},
   "outputs": [],
   "source": []
  },
  {
   "cell_type": "code",
   "execution_count": null,
   "metadata": {},
   "outputs": [],
   "source": []
  },
  {
   "cell_type": "code",
   "execution_count": null,
   "metadata": {},
   "outputs": [],
   "source": []
  },
  {
   "cell_type": "code",
   "execution_count": null,
   "metadata": {},
   "outputs": [],
   "source": []
  },
  {
   "cell_type": "code",
   "execution_count": null,
   "metadata": {},
   "outputs": [],
   "source": []
  },
  {
   "cell_type": "code",
   "execution_count": null,
   "metadata": {},
   "outputs": [],
   "source": []
  },
  {
   "cell_type": "code",
   "execution_count": null,
   "metadata": {},
   "outputs": [],
   "source": []
  },
  {
   "cell_type": "code",
   "execution_count": null,
   "metadata": {},
   "outputs": [],
   "source": []
  },
  {
   "cell_type": "code",
   "execution_count": null,
   "metadata": {},
   "outputs": [],
   "source": []
  }
 ],
 "metadata": {
  "kernelspec": {
   "display_name": "Python 3",
   "language": "python",
   "name": "python3"
  },
  "language_info": {
   "codemirror_mode": {
    "name": "ipython",
    "version": 3
   },
   "file_extension": ".py",
   "mimetype": "text/x-python",
   "name": "python",
   "nbconvert_exporter": "python",
   "pygments_lexer": "ipython3",
   "version": "3.8.5"
  }
 },
 "nbformat": 4,
 "nbformat_minor": 4
}
