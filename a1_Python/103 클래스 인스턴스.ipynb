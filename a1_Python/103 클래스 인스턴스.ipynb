{
 "cells": [
  {
   "cell_type": "markdown",
   "metadata": {},
   "source": [
    "# 클래스메소드, 인스턴스 메소드\n",
    "class method,  instance method"
   ]
  },
  {
   "cell_type": "code",
   "execution_count": 1,
   "metadata": {},
   "outputs": [],
   "source": [
    "class Foo:\n",
    "    # 클래스 메소드 (class method)\n",
    "    # self 가 안붙은 메소드, '클래스 이름' 으로 사용\n",
    "    def func1():\n",
    "        print('function1')\n",
    "\n",
    "    # 인스턴스 메소드 (instance method)        \n",
    "    # self 가 붙은 메소드 ,  '인스턴스 생성' 하여 사용 \n",
    "    def func2(self):\n",
    "        print('function2')"
   ]
  },
  {
   "cell_type": "code",
   "execution_count": 2,
   "metadata": {},
   "outputs": [],
   "source": [
    "f1 = Foo()"
   ]
  },
  {
   "cell_type": "code",
   "execution_count": 4,
   "metadata": {},
   "outputs": [
    {
     "name": "stdout",
     "output_type": "stream",
     "text": [
      "function2\n"
     ]
    }
   ],
   "source": [
    "# f1.func1()  # 에러!\n",
    "f1.func2()"
   ]
  },
  {
   "cell_type": "code",
   "execution_count": 7,
   "metadata": {},
   "outputs": [
    {
     "name": "stdout",
     "output_type": "stream",
     "text": [
      "function1\n"
     ]
    }
   ],
   "source": [
    "Foo.func1()\n",
    "# Foo.func2()  # 에러"
   ]
  },
  {
   "cell_type": "markdown",
   "metadata": {},
   "source": [
    "# 클래스변수, 인스턴스 변수\n",
    "class variable,  instance variable"
   ]
  },
  {
   "cell_type": "code",
   "execution_count": 8,
   "metadata": {},
   "outputs": [],
   "source": [
    "# self.변수이름  : <-- 인스턴스 변수\n",
    "#       인스턴스 변수는 '인스턴스 마다' 생성       \n",
    "# 클래스 내부에서 선언된변수 <-- 클래스 변수  (self 가 안 붙음)\n",
    "#        사용하려면 클래스이름.변수이름  으로 사용해야 함\n",
    "#        클래스 변수는 '클래스에 딱 하나' 생성"
   ]
  },
  {
   "cell_type": "code",
   "execution_count": 39,
   "metadata": {},
   "outputs": [],
   "source": [
    "class Account:\n",
    "    num_accounts = 0   # ★클래스 변수 : 클래스 내부에서 선연된 변수,  클래스 이름의 네임스페이스 소속\n",
    "                    #  클래스변수는 가.급.적   '클래스이름.클래스변수이름'으로  사용하자.\n",
    "\n",
    "    def __init__(self, name):\n",
    "        print(\"Account({}) 생성\".format(name))\n",
    "        self.name = name #  ★인스턴스 변수 : self 가 붙은 변수.  인스턴스 이름의 네임스페이스 소속\n",
    "        Account.num_accounts += 1\n",
    "        \n",
    "        \n",
    "    # 소멸자 (destructor) : 인스턴스가 소멸될때 자동으로 호출\n",
    "    def __del__(self):\n",
    "        print(\"Account({}) 소멸\".format(self.name))\n",
    "        Account.num_accounts -= 1"
   ]
  },
  {
   "cell_type": "code",
   "execution_count": 40,
   "metadata": {},
   "outputs": [
    {
     "data": {
      "text/plain": [
       "0"
      ]
     },
     "execution_count": 40,
     "metadata": {},
     "output_type": "execute_result"
    }
   ],
   "source": [
    "Account.num_accounts"
   ]
  },
  {
   "cell_type": "code",
   "execution_count": 41,
   "metadata": {},
   "outputs": [
    {
     "name": "stdout",
     "output_type": "stream",
     "text": [
      "Account(회사) 생성\n"
     ]
    }
   ],
   "source": [
    "acc1 = Account('회사')"
   ]
  },
  {
   "cell_type": "code",
   "execution_count": 42,
   "metadata": {},
   "outputs": [
    {
     "data": {
      "text/plain": [
       "1"
      ]
     },
     "execution_count": 42,
     "metadata": {},
     "output_type": "execute_result"
    }
   ],
   "source": [
    "Account.num_accounts"
   ]
  },
  {
   "cell_type": "code",
   "execution_count": 43,
   "metadata": {},
   "outputs": [
    {
     "name": "stdout",
     "output_type": "stream",
     "text": [
      "Account(개인) 생성\n"
     ]
    }
   ],
   "source": [
    "acc2 = Account('개인')"
   ]
  },
  {
   "cell_type": "code",
   "execution_count": 44,
   "metadata": {},
   "outputs": [
    {
     "data": {
      "text/plain": [
       "(2, 2, 2)"
      ]
     },
     "execution_count": 44,
     "metadata": {},
     "output_type": "execute_result"
    }
   ],
   "source": [
    "Account.num_accounts, acc1.num_accounts, acc2.num_accounts"
   ]
  },
  {
   "cell_type": "code",
   "execution_count": 45,
   "metadata": {},
   "outputs": [
    {
     "data": {
      "text/plain": [
       "('회사', '개인')"
      ]
     },
     "execution_count": 45,
     "metadata": {},
     "output_type": "execute_result"
    }
   ],
   "source": [
    "acc1.name, acc2.name"
   ]
  },
  {
   "cell_type": "code",
   "execution_count": 46,
   "metadata": {},
   "outputs": [
    {
     "name": "stdout",
     "output_type": "stream",
     "text": [
      "Account(개인) 소멸\n"
     ]
    }
   ],
   "source": [
    "del(acc2)"
   ]
  },
  {
   "cell_type": "code",
   "execution_count": 47,
   "metadata": {},
   "outputs": [
    {
     "data": {
      "text/plain": [
       "1"
      ]
     },
     "execution_count": 47,
     "metadata": {},
     "output_type": "execute_result"
    }
   ],
   "source": [
    "Account.num_accounts"
   ]
  },
  {
   "cell_type": "code",
   "execution_count": null,
   "metadata": {},
   "outputs": [],
   "source": []
  },
  {
   "cell_type": "code",
   "execution_count": null,
   "metadata": {},
   "outputs": [],
   "source": []
  },
  {
   "cell_type": "code",
   "execution_count": 15,
   "metadata": {},
   "outputs": [],
   "source": [
    "# 네임스페이스\n",
    "\n",
    "# Account (class)\n",
    "#   └  {'num_account': 2}\n",
    "    \n",
    "# acc1 (instance)\n",
    "#   └  {'name': '회사'}\n",
    "    \n",
    "# acc2 (instance)\n",
    "#   └  {'name': '개인'}\n"
   ]
  },
  {
   "cell_type": "markdown",
   "metadata": {},
   "source": [
    "# 연습 PartTimer 설계"
   ]
  },
  {
   "cell_type": "code",
   "execution_count": 18,
   "metadata": {},
   "outputs": [],
   "source": [
    "# '매 직원(PartTimer)'에 공통적으로 적용되는 자료\n",
    "# - 시급\n",
    "# - 전체 직원수\n",
    "\n",
    "# 각 직원별 객체 생성시 직원별로 '별칭'과 '근무지' '급여총액' 초기화 (속성)\n",
    "#   '근무지' 생략시 '113동' 으로 지정\n",
    "#   직원별로 '급여총액'  0으로 초기화\n",
    "\n",
    "# 직원의 급여 계산하기(동작)\n",
    "#    '몇시간 근무',  '+상여금'  에 따른 직원급여 계산\n",
    "#   '상여금' 은 지정안하면 0 으로 처리\n",
    "\n",
    "\n",
    "# 예]\n",
    "# park = PartTimer('라이언')   // park 은 ‘라이언’ 이라는 닉네임의 직원으로 등록\n",
    "\n",
    "# park 이 4시간 일한 급여 총액은?  → 34400\n",
    "# park 이 2시간 일한 급여 총액은? → 17200\n",
    "# park 이 2시간 일한 급여 + 상여급 2000 총액은? → 19200\n"
   ]
  },
  {
   "cell_type": "code",
   "execution_count": 30,
   "metadata": {},
   "outputs": [],
   "source": [
    "class PartTimer:\n",
    "    \"PartTimer 클래스는 직원관리 클래스\"\n",
    "    \n",
    "    # 클래스 변수\n",
    "    hour_rate = 8720 # 시급 8720\n",
    "    total_part_timers = 0 # 전체 직원수\n",
    "    \n",
    "    def __init__(self, nickname, workplace = '113동'):\n",
    "        \"직원생성: 별칭, 근무지 입력\"\n",
    "        PartTimer.total_part_timers += 1\n",
    "        # 인스턴스 변수들\n",
    "        self.nickname = nickname\n",
    "        self.workplace = workplace\n",
    "        self.total_wage = 0\n",
    "        \n",
    "    def calculate_wage(self, hour, bonus = 0):\n",
    "        \"시급계산, 상여금 포함\"\n",
    "        self.total_wage = PartTimer.hour_rate * hour + bonus\n",
    "        return self.total_wage"
   ]
  },
  {
   "cell_type": "code",
   "execution_count": 23,
   "metadata": {},
   "outputs": [],
   "source": [
    "park = PartTimer('라이언')\n",
    "lee = PartTimer(\"네오\", '127-1동')"
   ]
  },
  {
   "cell_type": "code",
   "execution_count": 24,
   "metadata": {},
   "outputs": [
    {
     "data": {
      "text/plain": [
       "34880"
      ]
     },
     "execution_count": 24,
     "metadata": {},
     "output_type": "execute_result"
    }
   ],
   "source": [
    "park.calculate_wage(4)"
   ]
  },
  {
   "cell_type": "code",
   "execution_count": 25,
   "metadata": {},
   "outputs": [
    {
     "data": {
      "text/plain": [
       "17440"
      ]
     },
     "execution_count": 25,
     "metadata": {},
     "output_type": "execute_result"
    }
   ],
   "source": [
    "park.calculate_wage(2)"
   ]
  },
  {
   "cell_type": "code",
   "execution_count": 26,
   "metadata": {
    "scrolled": true
   },
   "outputs": [
    {
     "data": {
      "text/plain": [
       "2"
      ]
     },
     "execution_count": 26,
     "metadata": {},
     "output_type": "execute_result"
    }
   ],
   "source": [
    "PartTimer.total_part_timers"
   ]
  },
  {
   "cell_type": "code",
   "execution_count": 27,
   "metadata": {},
   "outputs": [
    {
     "data": {
      "text/plain": [
       "41160"
      ]
     },
     "execution_count": 27,
     "metadata": {},
     "output_type": "execute_result"
    }
   ],
   "source": [
    "lee.calculate_wage(3, 15000)"
   ]
  },
  {
   "cell_type": "code",
   "execution_count": null,
   "metadata": {},
   "outputs": [],
   "source": []
  },
  {
   "cell_type": "code",
   "execution_count": 28,
   "metadata": {},
   "outputs": [
    {
     "name": "stdout",
     "output_type": "stream",
     "text": [
      "Help on built-in function print in module builtins:\n",
      "\n",
      "print(...)\n",
      "    print(value, ..., sep=' ', end='\\n', file=sys.stdout, flush=False)\n",
      "    \n",
      "    Prints the values to a stream, or to sys.stdout by default.\n",
      "    Optional keyword arguments:\n",
      "    file:  a file-like object (stream); defaults to the current sys.stdout.\n",
      "    sep:   string inserted between values, default a space.\n",
      "    end:   string appended after the last value, default a newline.\n",
      "    flush: whether to forcibly flush the stream.\n",
      "\n"
     ]
    }
   ],
   "source": [
    "help(print)"
   ]
  },
  {
   "cell_type": "code",
   "execution_count": 31,
   "metadata": {},
   "outputs": [
    {
     "name": "stdout",
     "output_type": "stream",
     "text": [
      "Help on class PartTimer in module __main__:\n",
      "\n",
      "class PartTimer(builtins.object)\n",
      " |  PartTimer(nickname, workplace='113동')\n",
      " |  \n",
      " |  PartTimer 클래스는 직원관리 클래스\n",
      " |  \n",
      " |  Methods defined here:\n",
      " |  \n",
      " |  __init__(self, nickname, workplace='113동')\n",
      " |      직원생성: 별칭, 근무지 입력\n",
      " |  \n",
      " |  calculate_wage(self, hour, bonus=0)\n",
      " |      시급계산, 상여금 포함\n",
      " |  \n",
      " |  ----------------------------------------------------------------------\n",
      " |  Data descriptors defined here:\n",
      " |  \n",
      " |  __dict__\n",
      " |      dictionary for instance variables (if defined)\n",
      " |  \n",
      " |  __weakref__\n",
      " |      list of weak references to the object (if defined)\n",
      " |  \n",
      " |  ----------------------------------------------------------------------\n",
      " |  Data and other attributes defined here:\n",
      " |  \n",
      " |  hour_rate = 8720\n",
      " |  \n",
      " |  total_part_timers = 0\n",
      "\n"
     ]
    }
   ],
   "source": [
    "help(PartTimer)"
   ]
  },
  {
   "cell_type": "code",
   "execution_count": null,
   "metadata": {},
   "outputs": [],
   "source": [
    "PartTimer?"
   ]
  },
  {
   "cell_type": "code",
   "execution_count": null,
   "metadata": {},
   "outputs": [],
   "source": []
  },
  {
   "cell_type": "code",
   "execution_count": null,
   "metadata": {},
   "outputs": [],
   "source": []
  },
  {
   "cell_type": "code",
   "execution_count": null,
   "metadata": {},
   "outputs": [],
   "source": []
  },
  {
   "cell_type": "code",
   "execution_count": null,
   "metadata": {},
   "outputs": [],
   "source": []
  },
  {
   "cell_type": "code",
   "execution_count": null,
   "metadata": {},
   "outputs": [],
   "source": []
  },
  {
   "cell_type": "code",
   "execution_count": null,
   "metadata": {},
   "outputs": [],
   "source": []
  },
  {
   "cell_type": "code",
   "execution_count": null,
   "metadata": {},
   "outputs": [],
   "source": []
  },
  {
   "cell_type": "code",
   "execution_count": null,
   "metadata": {},
   "outputs": [],
   "source": []
  },
  {
   "cell_type": "code",
   "execution_count": null,
   "metadata": {},
   "outputs": [],
   "source": []
  },
  {
   "cell_type": "code",
   "execution_count": null,
   "metadata": {},
   "outputs": [],
   "source": []
  },
  {
   "cell_type": "code",
   "execution_count": null,
   "metadata": {},
   "outputs": [],
   "source": []
  },
  {
   "cell_type": "code",
   "execution_count": null,
   "metadata": {},
   "outputs": [],
   "source": []
  }
 ],
 "metadata": {
  "kernelspec": {
   "display_name": "Python 3",
   "language": "python",
   "name": "python3"
  },
  "language_info": {
   "codemirror_mode": {
    "name": "ipython",
    "version": 3
   },
   "file_extension": ".py",
   "mimetype": "text/x-python",
   "name": "python",
   "nbconvert_exporter": "python",
   "pygments_lexer": "ipython3",
   "version": "3.8.5"
  }
 },
 "nbformat": 4,
 "nbformat_minor": 4
}
