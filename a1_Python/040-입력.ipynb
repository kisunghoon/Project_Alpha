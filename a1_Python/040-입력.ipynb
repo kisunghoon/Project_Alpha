{
 "cells": [
  {
   "cell_type": "markdown",
   "metadata": {},
   "source": [
    "# 파이썬 기본 입력함수 input() "
   ]
  },
  {
   "cell_type": "code",
   "execution_count": 1,
   "metadata": {},
   "outputs": [],
   "source": [
    "# 파이썬 기본입력 함수 input()\n",
    "# 기본적으로 input() 함수는 키보드로 부터 입력받아\n",
    "# 문자열(str) 으로 리턴합니다"
   ]
  },
  {
   "cell_type": "code",
   "execution_count": 2,
   "metadata": {},
   "outputs": [
    {
     "name": "stdout",
     "output_type": "stream",
     "text": [
      "10\n"
     ]
    }
   ],
   "source": [
    "a = input()"
   ]
  },
  {
   "cell_type": "code",
   "execution_count": 3,
   "metadata": {},
   "outputs": [
    {
     "name": "stdout",
     "output_type": "stream",
     "text": [
      "입력하신 값은 10\n"
     ]
    }
   ],
   "source": [
    "print(\"입력하신 값은\", a)"
   ]
  },
  {
   "cell_type": "code",
   "execution_count": 4,
   "metadata": {},
   "outputs": [
    {
     "ename": "TypeError",
     "evalue": "can only concatenate str (not \"int\") to str",
     "output_type": "error",
     "traceback": [
      "\u001b[1;31m---------------------------------------------------------------------------\u001b[0m",
      "\u001b[1;31mTypeError\u001b[0m                                 Traceback (most recent call last)",
      "\u001b[1;32m<ipython-input-4-5589b03f6f40>\u001b[0m in \u001b[0;36m<module>\u001b[1;34m\u001b[0m\n\u001b[1;32m----> 1\u001b[1;33m \u001b[0ma\u001b[0m \u001b[1;33m+\u001b[0m \u001b[1;36m8\u001b[0m\u001b[1;33m\u001b[0m\u001b[1;33m\u001b[0m\u001b[0m\n\u001b[0m",
      "\u001b[1;31mTypeError\u001b[0m: can only concatenate str (not \"int\") to str"
     ]
    }
   ],
   "source": [
    "a + 8  # input() 결과값은 str!  산술연산 불가!"
   ]
  },
  {
   "cell_type": "code",
   "execution_count": 5,
   "metadata": {},
   "outputs": [
    {
     "data": {
      "text/plain": [
       "('10', str)"
      ]
     },
     "execution_count": 5,
     "metadata": {},
     "output_type": "execute_result"
    }
   ],
   "source": [
    "a, type(a)"
   ]
  },
  {
   "cell_type": "code",
   "execution_count": 6,
   "metadata": {},
   "outputs": [
    {
     "name": "stdout",
     "output_type": "stream",
     "text": [
      "10\n"
     ]
    }
   ],
   "source": [
    "a = int(input())  # input()  으로 입력한 결과(문자열) 을 정수(int) 로 형변환하여 변수 a에 대입"
   ]
  },
  {
   "cell_type": "code",
   "execution_count": 7,
   "metadata": {},
   "outputs": [
    {
     "data": {
      "text/plain": [
       "(10, int)"
      ]
     },
     "execution_count": 7,
     "metadata": {},
     "output_type": "execute_result"
    }
   ],
   "source": [
    "a, type(a)"
   ]
  },
  {
   "cell_type": "code",
   "execution_count": 8,
   "metadata": {},
   "outputs": [
    {
     "data": {
      "text/plain": [
       "18"
      ]
     },
     "execution_count": 8,
     "metadata": {},
     "output_type": "execute_result"
    }
   ],
   "source": [
    "a + 8"
   ]
  },
  {
   "cell_type": "code",
   "execution_count": 9,
   "metadata": {},
   "outputs": [
    {
     "name": "stdout",
     "output_type": "stream",
     "text": [
      "키를 입력하세요 175.6\n"
     ]
    }
   ],
   "source": [
    "print(\"키를 입력하세요\", end = \" \")\n",
    "height = float(input())"
   ]
  },
  {
   "cell_type": "code",
   "execution_count": 10,
   "metadata": {},
   "outputs": [
    {
     "data": {
      "text/plain": [
       "(175.6, float)"
      ]
     },
     "execution_count": 10,
     "metadata": {},
     "output_type": "execute_result"
    }
   ],
   "source": [
    "height, type(height)"
   ]
  },
  {
   "cell_type": "markdown",
   "metadata": {},
   "source": [
    "### prompt 를 사용한 input 입력"
   ]
  },
  {
   "cell_type": "code",
   "execution_count": 11,
   "metadata": {},
   "outputs": [
    {
     "name": "stdout",
     "output_type": "stream",
     "text": [
      "키를 입력하세요 cm : 143.333\n"
     ]
    }
   ],
   "source": [
    "height = float(input(\"키를 입력하세요 cm : \"))"
   ]
  },
  {
   "cell_type": "code",
   "execution_count": 12,
   "metadata": {},
   "outputs": [
    {
     "data": {
      "text/plain": [
       "143.333"
      ]
     },
     "execution_count": 12,
     "metadata": {},
     "output_type": "execute_result"
    }
   ],
   "source": [
    "height"
   ]
  },
  {
   "cell_type": "code",
   "execution_count": null,
   "metadata": {},
   "outputs": [],
   "source": []
  },
  {
   "cell_type": "markdown",
   "metadata": {},
   "source": [
    "### input 으로는 한번에 여러개 입력 못받는다"
   ]
  },
  {
   "cell_type": "code",
   "execution_count": 1,
   "metadata": {},
   "outputs": [],
   "source": [
    "a, b, c = 10, 20, 30"
   ]
  },
  {
   "cell_type": "code",
   "execution_count": 2,
   "metadata": {},
   "outputs": [
    {
     "name": "stdout",
     "output_type": "stream",
     "text": [
      "3개 입력하세요10 20 30\n"
     ]
    },
    {
     "ename": "ValueError",
     "evalue": "too many values to unpack (expected 3)",
     "output_type": "error",
     "traceback": [
      "\u001b[1;31m---------------------------------------------------------------------------\u001b[0m",
      "\u001b[1;31mValueError\u001b[0m                                Traceback (most recent call last)",
      "\u001b[1;32m<ipython-input-2-8b6bbe4a98ad>\u001b[0m in \u001b[0;36m<module>\u001b[1;34m\u001b[0m\n\u001b[1;32m----> 1\u001b[1;33m \u001b[0ma\u001b[0m\u001b[1;33m,\u001b[0m \u001b[0mb\u001b[0m\u001b[1;33m,\u001b[0m \u001b[0mc\u001b[0m \u001b[1;33m=\u001b[0m \u001b[0minput\u001b[0m\u001b[1;33m(\u001b[0m\u001b[1;34m\"3개 입력하세요\"\u001b[0m\u001b[1;33m)\u001b[0m\u001b[1;33m\u001b[0m\u001b[1;33m\u001b[0m\u001b[0m\n\u001b[0m",
      "\u001b[1;31mValueError\u001b[0m: too many values to unpack (expected 3)"
     ]
    }
   ],
   "source": [
    "a, b, c = input(\"3개 입력하세요\")"
   ]
  },
  {
   "cell_type": "markdown",
   "metadata": {},
   "source": [
    "### 여러개 한번에 입력받기"
   ]
  },
  {
   "cell_type": "markdown",
   "metadata": {},
   "source": [
    "#### 방법1 : input().split()  -- 공백으로 구분"
   ]
  },
  {
   "cell_type": "code",
   "execution_count": 4,
   "metadata": {},
   "outputs": [
    {
     "data": {
      "text/plain": [
       "['10', '20', '30']"
      ]
     },
     "execution_count": 4,
     "metadata": {},
     "output_type": "execute_result"
    }
   ],
   "source": [
    "\"10 20 30\".split()"
   ]
  },
  {
   "cell_type": "code",
   "execution_count": 6,
   "metadata": {},
   "outputs": [
    {
     "name": "stdout",
     "output_type": "stream",
     "text": [
      "3개를 입력하세요:100  200        300\n",
      "a=100, b=200, c=300\n"
     ]
    }
   ],
   "source": [
    "a, b, c = input(\"3개를 입력하세요:\").split()  # split() 입력값을 공백(들) 로 구분\n",
    "print(f'a={a}, b={b}, c={c}')"
   ]
  },
  {
   "cell_type": "code",
   "execution_count": 8,
   "metadata": {},
   "outputs": [
    {
     "name": "stdout",
     "output_type": "stream",
     "text": [
      "시:분:초 입력 09:04:27\n",
      "09시 04분 27초\n"
     ]
    }
   ],
   "source": [
    "# 시:분:초\n",
    "hour, minute, second = input(\"시:분:초 입력 \").split(\":\")  # 입력값(str)을 ':' 으로 쪼갬\n",
    "print(f'{hour}시 {minute}분 {second}초')"
   ]
  },
  {
   "cell_type": "code",
   "execution_count": 10,
   "metadata": {},
   "outputs": [],
   "source": [
    "# '초' 로 환산\n",
    "# hour * 3600 + minute * 60 + second   # 그낭하면 문자열 연산"
   ]
  },
  {
   "cell_type": "code",
   "execution_count": 11,
   "metadata": {},
   "outputs": [
    {
     "data": {
      "text/plain": [
       "32667"
      ]
     },
     "execution_count": 11,
     "metadata": {},
     "output_type": "execute_result"
    }
   ],
   "source": [
    "hour = int(hour)\n",
    "minute = int(minute)\n",
    "second = int(second)\n",
    "\n",
    "hour * 3600 + minute * 60 + second"
   ]
  },
  {
   "cell_type": "code",
   "execution_count": null,
   "metadata": {},
   "outputs": [],
   "source": [
    "# 입력받은 문자열을 죄다 숫자로 변환...  (귀찮다..)"
   ]
  },
  {
   "cell_type": "markdown",
   "metadata": {},
   "source": [
    "#### 방법2 : 입력한 str (들)을 한번에 변환하기.  map() 함수 사용\n",
    "변수1, 변수2 ... = map(int, input().split())"
   ]
  },
  {
   "cell_type": "code",
   "execution_count": 14,
   "metadata": {},
   "outputs": [
    {
     "name": "stdout",
     "output_type": "stream",
     "text": [
      "3개의 정수 입력: 10 20 30\n",
      "10 20 30\n",
      "102030\n"
     ]
    }
   ],
   "source": [
    "a, b, c = input('3개의 정수 입력: ').split()\n",
    "\n",
    "print(a, b, c)\n",
    "print(a + b + c)"
   ]
  },
  {
   "cell_type": "code",
   "execution_count": 15,
   "metadata": {},
   "outputs": [
    {
     "name": "stdout",
     "output_type": "stream",
     "text": [
      "3개의 정수 입력: 10 20 30\n",
      "10 20 30\n",
      "60\n"
     ]
    }
   ],
   "source": [
    "a, b, c = map(int, input('3개의 정수 입력: ').split())\n",
    "\n",
    "print(a, b, c)\n",
    "print(a + b + c)"
   ]
  },
  {
   "cell_type": "markdown",
   "metadata": {},
   "source": [
    "## 연습: 단위변환"
   ]
  },
  {
   "cell_type": "code",
   "execution_count": 16,
   "metadata": {},
   "outputs": [],
   "source": [
    "# 1야드(yd)는 91.44cm이고 1인치(in)는 2.54cm이다.\n",
    "# 처음에는 야드를 입력받고, 두번째는 인치를 입력받아 \n",
    "# 각각 cm로 변환하여 다음 형식에 맞추어 소수 둘째자리까지 출력하시오.​\n",
    "\n",
    "# [실행예]\n",
    "# yard 입력: 23.45\n",
    "# inch 입력: 41.273\n",
    "# 23.45 yard 는 2144.27cm\n",
    "# 41.27 inch 는 104.83cm"
   ]
  },
  {
   "cell_type": "code",
   "execution_count": 17,
   "metadata": {},
   "outputs": [
    {
     "name": "stdout",
     "output_type": "stream",
     "text": [
      "yard 입력: 23.45555\n",
      "inch 입력: 41.273\n",
      "23.46 yard 는 2144.78cm\n",
      "41.27 inch 는 104.83cm\n"
     ]
    }
   ],
   "source": [
    "yard = float(input(\"yard 입력: \"))\n",
    "inch = float(input(\"inch 입력: \"))\n",
    "print(\"%.2f yard 는 %.2fcm\" % (yard, yard * 91.44))\n",
    "print(\"%.2f inch 는 %.2fcm\" % (inch, inch * 2.54))"
   ]
  },
  {
   "cell_type": "markdown",
   "metadata": {},
   "source": [
    "## 연습"
   ]
  },
  {
   "cell_type": "code",
   "execution_count": 18,
   "metadata": {},
   "outputs": [],
   "source": [
    "# 세 개의 정수를 입력받아 합과 평균을 출력하는 프로그램을 작성하시오.\n",
    "# (단 평균은 소수 이하를 버림하여 정수 부분만 출력한다.)\n",
    "\n",
    "# [입력예]\n",
    "# 3개의 정수 입력:10 20 44\n",
    "# 합= 74\n",
    "# 평균= 24"
   ]
  },
  {
   "cell_type": "code",
   "execution_count": 19,
   "metadata": {},
   "outputs": [
    {
     "name": "stdout",
     "output_type": "stream",
     "text": [
      "3개의 정수 입력:10 20 44\n",
      "합= 74\n",
      "평균= 24\n"
     ]
    }
   ],
   "source": [
    "a, b, c = map(int, input(\"3개의 정수 입력:\").split())\n",
    "print(\"합= {}\".format(a + b + c))\n",
    "print(\"평균= {}\".format(int((a + b + c)/3)))"
   ]
  },
  {
   "cell_type": "code",
   "execution_count": null,
   "metadata": {},
   "outputs": [],
   "source": []
  },
  {
   "cell_type": "markdown",
   "metadata": {},
   "source": [
    "#### 연습: BMI"
   ]
  },
  {
   "cell_type": "code",
   "execution_count": 20,
   "metadata": {},
   "outputs": [],
   "source": [
    "# 키(cm) 와 몸무게(kg) 를 입력받아 bmi 를 계산하여 출력\n",
    "# bmi = 몸무게(kg) /  (키(m) x 키(m))\n",
    "# bmi는 소숫점 한자리까지 출력\n",
    "\n",
    "# 실행예]\n",
    "# 키(cm) 와 몸무게(kg) 를 입력하세요: 183 93\n",
    "# BMI 는 27.8 입니다"
   ]
  },
  {
   "cell_type": "code",
   "execution_count": 21,
   "metadata": {},
   "outputs": [
    {
     "name": "stdout",
     "output_type": "stream",
     "text": [
      "키(cm) 와 몸무게(kg) 를 입력하세요: 183 93\n",
      "BMI 는 27.8 입니다\n",
      "BMI 는 27.8 입니다\n",
      "BMI 는 27.8 입니다\n"
     ]
    }
   ],
   "source": [
    "height, weight = map(float, input(\"키(cm) 와 몸무게(kg) 를 입력하세요: \").split())\n",
    "height /= 100\n",
    "bmi = weight / (height ** 2)\n",
    "print(\"BMI 는 %.1f 입니다\" % bmi)\n",
    "print(\"BMI 는 {:.1f} 입니다\".format(bmi))\n",
    "print(f\"BMI 는 {bmi:.1f} 입니다\")\n"
   ]
  },
  {
   "cell_type": "markdown",
   "metadata": {},
   "source": [
    "#### 연습"
   ]
  },
  {
   "cell_type": "code",
   "execution_count": null,
   "metadata": {},
   "outputs": [],
   "source": [
    "# 입력 - 형성평가4\n",
    "# http://jungol.co.kr/bbs/board.php?bo_table=pbank&wr_id=9&sca=1020\n",
    "\n",
    "# 세 개의 정수를 입력받아 합과 평균을 출력하는 프로그램을 작성하시오.\n",
    "# (단 평균은 소수 이하를 버림하여 정수 부분만 출력한다.)\n",
    "\n",
    "# 입력 예\n",
    "# 20 50 100\n",
    "\n",
    "# 출력 예\n",
    "# sum = 170\n",
    "# avg = 56"
   ]
  },
  {
   "cell_type": "code",
   "execution_count": 22,
   "metadata": {},
   "outputs": [
    {
     "name": "stdout",
     "output_type": "stream",
     "text": [
      "20 50 100\n",
      "sum = 170\n",
      "avg = 56\n"
     ]
    }
   ],
   "source": [
    "a, b, c = map(int, input().split())\n",
    "print('sum =', a + b + c)\n",
    "print('avg =', (a + b + c) // 3)"
   ]
  },
  {
   "cell_type": "code",
   "execution_count": null,
   "metadata": {},
   "outputs": [],
   "source": []
  },
  {
   "cell_type": "code",
   "execution_count": null,
   "metadata": {},
   "outputs": [],
   "source": []
  },
  {
   "cell_type": "code",
   "execution_count": null,
   "metadata": {},
   "outputs": [],
   "source": []
  },
  {
   "cell_type": "code",
   "execution_count": null,
   "metadata": {},
   "outputs": [],
   "source": []
  },
  {
   "cell_type": "code",
   "execution_count": null,
   "metadata": {},
   "outputs": [],
   "source": []
  },
  {
   "cell_type": "code",
   "execution_count": null,
   "metadata": {},
   "outputs": [],
   "source": []
  },
  {
   "cell_type": "code",
   "execution_count": null,
   "metadata": {},
   "outputs": [],
   "source": []
  }
 ],
 "metadata": {
  "kernelspec": {
   "display_name": "Python 3",
   "language": "python",
   "name": "python3"
  },
  "language_info": {
   "codemirror_mode": {
    "name": "ipython",
    "version": 3
   },
   "file_extension": ".py",
   "mimetype": "text/x-python",
   "name": "python",
   "nbconvert_exporter": "python",
   "pygments_lexer": "ipython3",
   "version": "3.8.5"
  }
 },
 "nbformat": 4,
 "nbformat_minor": 4
}
