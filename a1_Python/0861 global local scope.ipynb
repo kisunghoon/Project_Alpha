{
 "cells": [
  {
   "cell_type": "markdown",
   "metadata": {},
   "source": [
    "# global variable, global scope\n",
    "함수 바깥에서 선언한 변수.  \n",
    "\n",
    "스크립트 전체에서 접근할 수 있는 변수를 전역 변수(global variable)라고 부릅니다. \n",
    "\n",
    "특히 전역 변수에 접근할 수 있는 범위를 전역 범위(global scope)라고 합니다"
   ]
  },
  {
   "cell_type": "code",
   "execution_count": 2,
   "metadata": {},
   "outputs": [
    {
     "name": "stdout",
     "output_type": "stream",
     "text": [
      "10\n",
      "10\n"
     ]
    }
   ],
   "source": [
    "x = 10        # 전역변수 (global variable)\n",
    "\n",
    "def foo():\n",
    "    print(x) # 함수 안에서 전역변수 '사용' 가능 : '읽기동작' 가능\n",
    "\n",
    "foo()\n",
    "print(x)"
   ]
  },
  {
   "cell_type": "markdown",
   "metadata": {},
   "source": [
    "## local variable, local scope"
   ]
  },
  {
   "cell_type": "code",
   "execution_count": 4,
   "metadata": {},
   "outputs": [
    {
     "name": "stdout",
     "output_type": "stream",
     "text": [
      "10\n"
     ]
    },
    {
     "ename": "NameError",
     "evalue": "name 'y' is not defined",
     "output_type": "error",
     "traceback": [
      "\u001b[1;31m---------------------------------------------------------------------------\u001b[0m",
      "\u001b[1;31mNameError\u001b[0m                                 Traceback (most recent call last)",
      "\u001b[1;32m<ipython-input-4-814c1d83589b>\u001b[0m in \u001b[0;36m<module>\u001b[1;34m\u001b[0m\n\u001b[0;32m      5\u001b[0m \u001b[1;33m\u001b[0m\u001b[0m\n\u001b[0;32m      6\u001b[0m \u001b[0mfoo\u001b[0m\u001b[1;33m(\u001b[0m\u001b[1;33m)\u001b[0m\u001b[1;33m\u001b[0m\u001b[1;33m\u001b[0m\u001b[0m\n\u001b[1;32m----> 7\u001b[1;33m \u001b[0mprint\u001b[0m\u001b[1;33m(\u001b[0m\u001b[0my\u001b[0m\u001b[1;33m)\u001b[0m\u001b[1;33m\u001b[0m\u001b[1;33m\u001b[0m\u001b[0m\n\u001b[0m",
      "\u001b[1;31mNameError\u001b[0m: name 'y' is not defined"
     ]
    }
   ],
   "source": [
    "# 반면\n",
    "def foo():\n",
    "    y = 10     # foo 의 지역변수 (local variable)\n",
    "    print(y)\n",
    "    \n",
    "foo()\n",
    "print(y)   # 에러. foo의 지역 변수는 출력할 수 없음\n",
    "\n",
    "# foo의 지역 변수(local variable)입니다. \n",
    "# 따라서 지역 변수는 변수를 만든 함수 안에서만 접근할 수 있고, \n",
    "# 함수 바깥에서는 접근할 수 없습니다. 지역 변수가 접근할 수 있는 범위를 지역 범위(local scope)라 한다"
   ]
  },
  {
   "cell_type": "code",
   "execution_count": 6,
   "metadata": {},
   "outputs": [
    {
     "name": "stdout",
     "output_type": "stream",
     "text": [
      "20\n",
      "10\n"
     ]
    }
   ],
   "source": [
    "# 함수 안에서 전역변수를 수정(쓰기동작) 하려 하면?\n",
    "\n",
    "z = 10     # 전역변수\n",
    "def foo():\n",
    "    z = 20  # z 는 전역변수가 아니었다!!  ★함수 안에서 전역변수에 대한 '쓰기' 동작은 안됨!★\n",
    "    print(z)  # 따라서 z 는 foo() 의 지역변수로 동작함.\n",
    "    \n",
    "foo()\n",
    "print(z)  # 전역변수 z는 수정되지 않았다!!"
   ]
  },
  {
   "cell_type": "code",
   "execution_count": 7,
   "metadata": {},
   "outputs": [
    {
     "name": "stdout",
     "output_type": "stream",
     "text": [
      "1\n"
     ]
    }
   ],
   "source": [
    "a = 1  # 전역변수\n",
    "\n",
    "def vartest(a): # a 는 함수안에서 사용하는 지역변수 a \n",
    "    a = a + 1   # 지역변수 a 값 수정\n",
    "    \n",
    "vartest(a)\n",
    "print(a) # 전역변수 a  (안 바뀜!)"
   ]
  },
  {
   "cell_type": "markdown",
   "metadata": {},
   "source": [
    "### 전역변수 값을 변경하고 싶다면!\n",
    "1. 방법1 : return 값 활용 (추천)\n",
    "1. 방법2 : **global** 키워드 사용 (비추)"
   ]
  },
  {
   "cell_type": "code",
   "execution_count": 8,
   "metadata": {},
   "outputs": [
    {
     "name": "stdout",
     "output_type": "stream",
     "text": [
      "2\n"
     ]
    }
   ],
   "source": [
    "# 방법1 : 가급적 return 활용하자\n",
    "\n",
    "a = 1\n",
    "def vartest(a):\n",
    "    a = a + 1\n",
    "    return a    # 지역변수 a 값을 리턴한다\n",
    "\n",
    "a = vartest(a)   # 전역변수 a의 값을 변경한다\n",
    "print(a)"
   ]
  },
  {
   "cell_type": "code",
   "execution_count": 10,
   "metadata": {},
   "outputs": [
    {
     "name": "stdout",
     "output_type": "stream",
     "text": [
      "2\n"
     ]
    }
   ],
   "source": [
    "# 방법2 : global 키워드 사용 (ㅂㅊ)\n",
    "\n",
    "a = 1  # 전역변수\n",
    "\n",
    "def vartest(): \n",
    "    global a    # 이 함수 안에서의 a 는 전역변수 a 를 의미함\n",
    "    a = a + 1   # 함수안에서 전역변수 a를 수정!!!\n",
    "    \n",
    "vartest()\n",
    "print(a)"
   ]
  },
  {
   "cell_type": "markdown",
   "metadata": {},
   "source": [
    "#### global 전역변수\n",
    "함수 안에서 전역 변수의 값을 변경하려면 global 키워드를 사용해야 합니다. 다음과 같이 함수 안에서 global에 전역 변수의 이름을 지정해줍니다."
   ]
  },
  {
   "cell_type": "code",
   "execution_count": 11,
   "metadata": {},
   "outputs": [
    {
     "name": "stdout",
     "output_type": "stream",
     "text": [
      "20\n",
      "20\n"
     ]
    }
   ],
   "source": [
    "p = 10    # 전역변수\n",
    "def foo():\n",
    "    global p   # 전역변수 p 를 사용하겠다고 설정\n",
    "    p = 20     # 전역변수 p 수정\n",
    "    print(p)   # 전역변수 p 출력\n",
    "    \n",
    "foo()\n",
    "print(p)       # 전역변수값은 변경되어 있다!"
   ]
  },
  {
   "cell_type": "code",
   "execution_count": 13,
   "metadata": {},
   "outputs": [
    {
     "name": "stdout",
     "output_type": "stream",
     "text": [
      "20\n",
      "20\n"
     ]
    }
   ],
   "source": [
    "# 전역변수 q가 없는 상태\n",
    "def foo():\n",
    "    global q  # q 라는 전역변수가 없으면 새로 전역변수 만듦!!\n",
    "    q = 20    # 전역변수 q 수정\n",
    "    print(q)  # 전역변수 q 출력\n",
    "    \n",
    "foo()\n",
    "\n",
    "print(q)    # 없었던 전역변수 q가 foo() 를 통해 생겨있다!"
   ]
  },
  {
   "cell_type": "markdown",
   "metadata": {},
   "source": [
    "### 참고] 네임스페이스 (namespace)"
   ]
  },
  {
   "cell_type": "code",
   "execution_count": 14,
   "metadata": {},
   "outputs": [
    {
     "data": {
      "text/plain": [
       "{'__name__': '__main__',\n",
       " '__doc__': 'Automatically created module for IPython interactive environment',\n",
       " '__package__': None,\n",
       " '__loader__': None,\n",
       " '__spec__': None,\n",
       " '__builtin__': <module 'builtins' (built-in)>,\n",
       " '__builtins__': <module 'builtins' (built-in)>,\n",
       " '_ih': ['',\n",
       "  'x = 10\\n\\n\\nprint(x)',\n",
       "  'x = 10\\n\\ndef foo():\\n    print(x)\\n\\nfoo()\\nprint(x)',\n",
       "  '# 반면\\ndef foo():\\n    y = 10\\n    print(y)\\n    \\nfoo()',\n",
       "  '# 반면\\ndef foo():\\n    y = 10\\n    print(y)\\n    \\nfoo()\\nprint(y)',\n",
       "  '# 함수 안에서 전역변수를 수정(쓰기동작) 하려 하면?\\n\\ndef foo():\\n    z = 20\\n    print(z)\\n    \\nfoo()',\n",
       "  '# 함수 안에서 전역변수를 수정(쓰기동작) 하려 하면?\\n\\nz = 10\\ndef foo():\\n    z = 20\\n    print(z)\\n    \\nfoo()\\nprint(z)',\n",
       "  'a = 1\\n\\ndef vartest(a):\\n    a = a + 1\\n    \\nvartest(a)\\nprint(a) #?????',\n",
       "  '# 방법1 : 가급적 return 활용하자\\n\\na = 1\\ndef vartest(a):\\n    a = a + 1\\n    return a    # 지역변수 a 값을 리턴한다\\n\\na = vartest(a)   # 전역변수 a의 값을 변경한다\\nprint(a)',\n",
       "  '# 방법2 : global 키워드 사용 (ㅂㅊ)\\n\\na = 1  # 전역변수\\n\\ndef vartest(a): # a 는 함수안에서 사용하는 지역변수 a \\n    a = a + 1   # 지역변수 a 값 수정\\n    \\nvartest(a)\\nprint(a)',\n",
       "  '# 방법2 : global 키워드 사용 (ㅂㅊ)\\n\\na = 1  # 전역변수\\n\\ndef vartest(): # a 는 함수안에서 사용하는 지역변수 a \\n    global a    # 이 함수 안에서의 a 는 전역변수 a 를 의미함\\n    a = a + 1   # 지역변수 a 값 수정\\n    \\nvartest()\\nprint(a)',\n",
       "  'p = 10    # 전역변수\\ndef foo():\\n    global p   # 전역변수 p 를 사용하겠다고 설정\\n    p = 20     # 전역변수 p 수정\\n    print(p)   # 전역변수 p 출력\\n    \\nfoo()\\nprint(p)       # 전역변수값은 변경되어 있다!',\n",
       "  'def foo():\\n    global q\\n    q = 20\\n    print(q)\\n    \\nfoo()',\n",
       "  'def foo():\\n    global q\\n    q = 20\\n    print(q)\\n    \\nfoo()\\n\\nprint(q)',\n",
       "  'locals()'],\n",
       " '_oh': {},\n",
       " '_dh': ['D:\\\\DevRoot\\\\Dropbox\\\\App00\\\\PyWork\\\\a1_Python'],\n",
       " 'In': ['',\n",
       "  'x = 10\\n\\n\\nprint(x)',\n",
       "  'x = 10\\n\\ndef foo():\\n    print(x)\\n\\nfoo()\\nprint(x)',\n",
       "  '# 반면\\ndef foo():\\n    y = 10\\n    print(y)\\n    \\nfoo()',\n",
       "  '# 반면\\ndef foo():\\n    y = 10\\n    print(y)\\n    \\nfoo()\\nprint(y)',\n",
       "  '# 함수 안에서 전역변수를 수정(쓰기동작) 하려 하면?\\n\\ndef foo():\\n    z = 20\\n    print(z)\\n    \\nfoo()',\n",
       "  '# 함수 안에서 전역변수를 수정(쓰기동작) 하려 하면?\\n\\nz = 10\\ndef foo():\\n    z = 20\\n    print(z)\\n    \\nfoo()\\nprint(z)',\n",
       "  'a = 1\\n\\ndef vartest(a):\\n    a = a + 1\\n    \\nvartest(a)\\nprint(a) #?????',\n",
       "  '# 방법1 : 가급적 return 활용하자\\n\\na = 1\\ndef vartest(a):\\n    a = a + 1\\n    return a    # 지역변수 a 값을 리턴한다\\n\\na = vartest(a)   # 전역변수 a의 값을 변경한다\\nprint(a)',\n",
       "  '# 방법2 : global 키워드 사용 (ㅂㅊ)\\n\\na = 1  # 전역변수\\n\\ndef vartest(a): # a 는 함수안에서 사용하는 지역변수 a \\n    a = a + 1   # 지역변수 a 값 수정\\n    \\nvartest(a)\\nprint(a)',\n",
       "  '# 방법2 : global 키워드 사용 (ㅂㅊ)\\n\\na = 1  # 전역변수\\n\\ndef vartest(): # a 는 함수안에서 사용하는 지역변수 a \\n    global a    # 이 함수 안에서의 a 는 전역변수 a 를 의미함\\n    a = a + 1   # 지역변수 a 값 수정\\n    \\nvartest()\\nprint(a)',\n",
       "  'p = 10    # 전역변수\\ndef foo():\\n    global p   # 전역변수 p 를 사용하겠다고 설정\\n    p = 20     # 전역변수 p 수정\\n    print(p)   # 전역변수 p 출력\\n    \\nfoo()\\nprint(p)       # 전역변수값은 변경되어 있다!',\n",
       "  'def foo():\\n    global q\\n    q = 20\\n    print(q)\\n    \\nfoo()',\n",
       "  'def foo():\\n    global q\\n    q = 20\\n    print(q)\\n    \\nfoo()\\n\\nprint(q)',\n",
       "  'locals()'],\n",
       " 'Out': {},\n",
       " 'get_ipython': <bound method InteractiveShell.get_ipython of <ipykernel.zmqshell.ZMQInteractiveShell object at 0x0000023201AFC0A0>>,\n",
       " 'exit': <IPython.core.autocall.ZMQExitAutocall at 0x23201b8c5b0>,\n",
       " 'quit': <IPython.core.autocall.ZMQExitAutocall at 0x23201b8c5b0>,\n",
       " '_': '',\n",
       " '__': '',\n",
       " '___': '',\n",
       " '_i': 'def foo():\\n    global q\\n    q = 20\\n    print(q)\\n    \\nfoo()\\n\\nprint(q)',\n",
       " '_ii': 'def foo():\\n    global q\\n    q = 20\\n    print(q)\\n    \\nfoo()',\n",
       " '_iii': 'p = 10    # 전역변수\\ndef foo():\\n    global p   # 전역변수 p 를 사용하겠다고 설정\\n    p = 20     # 전역변수 p 수정\\n    print(p)   # 전역변수 p 출력\\n    \\nfoo()\\nprint(p)       # 전역변수값은 변경되어 있다!',\n",
       " '_i1': 'x = 10\\n\\n\\nprint(x)',\n",
       " 'x': 10,\n",
       " '_i2': 'x = 10\\n\\ndef foo():\\n    print(x)\\n\\nfoo()\\nprint(x)',\n",
       " 'foo': <function __main__.foo()>,\n",
       " '_i3': '# 반면\\ndef foo():\\n    y = 10\\n    print(y)\\n    \\nfoo()',\n",
       " '_i4': '# 반면\\ndef foo():\\n    y = 10\\n    print(y)\\n    \\nfoo()\\nprint(y)',\n",
       " '_i5': '# 함수 안에서 전역변수를 수정(쓰기동작) 하려 하면?\\n\\ndef foo():\\n    z = 20\\n    print(z)\\n    \\nfoo()',\n",
       " '_i6': '# 함수 안에서 전역변수를 수정(쓰기동작) 하려 하면?\\n\\nz = 10\\ndef foo():\\n    z = 20\\n    print(z)\\n    \\nfoo()\\nprint(z)',\n",
       " 'z': 10,\n",
       " '_i7': 'a = 1\\n\\ndef vartest(a):\\n    a = a + 1\\n    \\nvartest(a)\\nprint(a) #?????',\n",
       " 'a': 2,\n",
       " 'vartest': <function __main__.vartest()>,\n",
       " '_i8': '# 방법1 : 가급적 return 활용하자\\n\\na = 1\\ndef vartest(a):\\n    a = a + 1\\n    return a    # 지역변수 a 값을 리턴한다\\n\\na = vartest(a)   # 전역변수 a의 값을 변경한다\\nprint(a)',\n",
       " '_i9': '# 방법2 : global 키워드 사용 (ㅂㅊ)\\n\\na = 1  # 전역변수\\n\\ndef vartest(a): # a 는 함수안에서 사용하는 지역변수 a \\n    a = a + 1   # 지역변수 a 값 수정\\n    \\nvartest(a)\\nprint(a)',\n",
       " '_i10': '# 방법2 : global 키워드 사용 (ㅂㅊ)\\n\\na = 1  # 전역변수\\n\\ndef vartest(): # a 는 함수안에서 사용하는 지역변수 a \\n    global a    # 이 함수 안에서의 a 는 전역변수 a 를 의미함\\n    a = a + 1   # 지역변수 a 값 수정\\n    \\nvartest()\\nprint(a)',\n",
       " '_i11': 'p = 10    # 전역변수\\ndef foo():\\n    global p   # 전역변수 p 를 사용하겠다고 설정\\n    p = 20     # 전역변수 p 수정\\n    print(p)   # 전역변수 p 출력\\n    \\nfoo()\\nprint(p)       # 전역변수값은 변경되어 있다!',\n",
       " 'p': 20,\n",
       " '_i12': 'def foo():\\n    global q\\n    q = 20\\n    print(q)\\n    \\nfoo()',\n",
       " 'q': 20,\n",
       " '_i13': 'def foo():\\n    global q\\n    q = 20\\n    print(q)\\n    \\nfoo()\\n\\nprint(q)',\n",
       " '_i14': 'locals()'}"
      ]
     },
     "execution_count": 14,
     "metadata": {},
     "output_type": "execute_result"
    }
   ],
   "source": [
    "locals()  # 전역 네임스페이스\n",
    "\n",
    "# 위에서 만들었던 전역변수들이 있다 (잘 찾아보자)"
   ]
  },
  {
   "cell_type": "code",
   "execution_count": 16,
   "metadata": {},
   "outputs": [
    {
     "name": "stdout",
     "output_type": "stream",
     "text": [
      "{'c': 10, 'b': 20, 'd': 40}\n"
     ]
    }
   ],
   "source": [
    "def foo():\n",
    "    c = 10\n",
    "    b = 20\n",
    "    d = 40\n",
    "    print(locals())  # 로컬 네임스페이스\n",
    "    \n",
    "foo()"
   ]
  },
  {
   "cell_type": "code",
   "execution_count": null,
   "metadata": {},
   "outputs": [],
   "source": []
  },
  {
   "cell_type": "code",
   "execution_count": null,
   "metadata": {},
   "outputs": [],
   "source": []
  },
  {
   "cell_type": "code",
   "execution_count": null,
   "metadata": {},
   "outputs": [],
   "source": []
  },
  {
   "cell_type": "code",
   "execution_count": null,
   "metadata": {},
   "outputs": [],
   "source": []
  },
  {
   "cell_type": "code",
   "execution_count": null,
   "metadata": {},
   "outputs": [],
   "source": []
  },
  {
   "cell_type": "code",
   "execution_count": null,
   "metadata": {},
   "outputs": [],
   "source": []
  },
  {
   "cell_type": "code",
   "execution_count": null,
   "metadata": {},
   "outputs": [],
   "source": []
  },
  {
   "cell_type": "code",
   "execution_count": null,
   "metadata": {},
   "outputs": [],
   "source": []
  }
 ],
 "metadata": {
  "kernelspec": {
   "display_name": "Python 3",
   "language": "python",
   "name": "python3"
  },
  "language_info": {
   "codemirror_mode": {
    "name": "ipython",
    "version": 3
   },
   "file_extension": ".py",
   "mimetype": "text/x-python",
   "name": "python",
   "nbconvert_exporter": "python",
   "pygments_lexer": "ipython3",
   "version": "3.8.5"
  }
 },
 "nbformat": 4,
 "nbformat_minor": 4
}
