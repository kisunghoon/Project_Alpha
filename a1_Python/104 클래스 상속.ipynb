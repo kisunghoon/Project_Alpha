{
 "cells": [
  {
   "cell_type": "markdown",
   "metadata": {},
   "source": [
    "# 클래스의 상속(inheritance)"
   ]
  },
  {
   "cell_type": "code",
   "execution_count": 1,
   "metadata": {},
   "outputs": [],
   "source": [
    "# 기존의 만들어진 클래스를 상속받아 새로운 클래스 정의 가능\n",
    "\n",
    "# 상속받아 만들어진 클래스는 기존의 클래스의 메소드, 객체변수 를 그대로 가지고 있다.\n",
    "# 상속받은뒤, 새로운 객체변수, 메소드 추가 할수 있다.\n",
    "# 상속받은뒤, 상속받은 메소드 재정의 가능 (오버라이딩)\n",
    "\n",
    "# 상속의 장점: \n",
    "#    기존의 코드를 다시 재작성 할 필요 없이. 새로이 변경 추가 되는 코드에만 집중할수 있기 때문에 생산성 향상\n",
    "\n",
    "# 기존의 클래스 상속하여 새로운 클래스 정의하는 구문\n",
    "#    class 새클래스명(기존의 클래스명)\n",
    "#    class 새클래스명(기존클래스1, 기존클래스2, ...)  <-- 다중상속 허용\n",
    "\n",
    "# 기존의 클래스를 '부모클래스(parent class)' 라고 하고  (혹은 super class,  base class ...)\n",
    "# 상속받은 클래스를 '자식클래스(child class) 라고 한다  (혹은 sub class, derived class ...)\n"
   ]
  },
  {
   "cell_type": "markdown",
   "metadata": {},
   "source": [
    "## 2차원 원 Circle \n",
    "## └─ 3차원 구 Sphere "
   ]
  },
  {
   "cell_type": "code",
   "execution_count": 2,
   "metadata": {},
   "outputs": [],
   "source": [
    "import math"
   ]
  },
  {
   "cell_type": "code",
   "execution_count": 3,
   "metadata": {},
   "outputs": [],
   "source": [
    "# '2차원 원 Circle' 객체 정의\n",
    "class Circle:\n",
    "    def __init__(self, radius = 0):\n",
    "        self.radius = radius\n",
    "    def setRadius(self, radius):\n",
    "        self.radius = radius\n",
    "    def getRadius(self):\n",
    "        return self.radius\n",
    "    def getArea(self): # 면적\n",
    "        return math.pi * self.radius ** 2\n",
    "    def getPerimeter(self): # 둘레 \n",
    "        return 2 * math.pi * self.radius"
   ]
  },
  {
   "cell_type": "code",
   "execution_count": 4,
   "metadata": {},
   "outputs": [
    {
     "name": "stdout",
     "output_type": "stream",
     "text": [
      "314.1592653589793\n",
      "62.83185307179586\n"
     ]
    }
   ],
   "source": [
    "c1 = Circle()\n",
    "c1.setRadius(10)\n",
    "print(c1.getArea())\n",
    "print(c1.getPerimeter())"
   ]
  },
  {
   "cell_type": "code",
   "execution_count": 6,
   "metadata": {},
   "outputs": [],
   "source": [
    "# Circle 을 상속받아 Sphere 정의\n",
    "class Sphere(Circle):\n",
    "    pass"
   ]
  },
  {
   "cell_type": "code",
   "execution_count": 12,
   "metadata": {},
   "outputs": [
    {
     "name": "stdout",
     "output_type": "stream",
     "text": [
      "10\n",
      "62.83185307179586\n",
      "314.1592653589793\n"
     ]
    }
   ],
   "source": [
    "s1 = Sphere()\n",
    "s1.setRadius(10)\n",
    "print(s1.getRadius())\n",
    "print(s1.getPerimeter())\n",
    "print(s1.getArea())  # ?? 이건 원의 면적이다.  구의 면적이 아니다!"
   ]
  },
  {
   "cell_type": "code",
   "execution_count": 13,
   "metadata": {},
   "outputs": [],
   "source": [
    "class Sphere(Circle):\n",
    "    # Sphere 클래스에서 추가되는 메소드\n",
    "    def getVolume(self):  # 부피 구하기\n",
    "        return (4 / 3) * math.pi * self.radius ** 3"
   ]
  },
  {
   "cell_type": "code",
   "execution_count": 14,
   "metadata": {},
   "outputs": [
    {
     "data": {
      "text/plain": [
       "268.082573106329"
      ]
     },
     "execution_count": 14,
     "metadata": {},
     "output_type": "execute_result"
    }
   ],
   "source": [
    "s2 = Sphere(4)\n",
    "s2.getVolume()"
   ]
  },
  {
   "cell_type": "markdown",
   "metadata": {},
   "source": [
    "## 메소드 오버라이딩 (overriding)"
   ]
  },
  {
   "cell_type": "code",
   "execution_count": 15,
   "metadata": {},
   "outputs": [],
   "source": [
    "# 클래스가 상속관계에 있을때, \n",
    "# 클래스의 메소드와 동일한 이름으로 자식 클래스 쪽에서 재작성 하는 것을 \n",
    "# 메소드 오버라이딩 이라 한다"
   ]
  },
  {
   "cell_type": "code",
   "execution_count": 16,
   "metadata": {},
   "outputs": [
    {
     "data": {
      "text/plain": [
       "mappingproxy({'__module__': '__main__',\n",
       "              'getVolume': <function __main__.Sphere.getVolume(self)>,\n",
       "              '__doc__': None})"
      ]
     },
     "execution_count": 16,
     "metadata": {},
     "output_type": "execute_result"
    }
   ],
   "source": [
    "Sphere.__dict__"
   ]
  },
  {
   "cell_type": "code",
   "execution_count": 17,
   "metadata": {},
   "outputs": [
    {
     "data": {
      "text/plain": [
       "mappingproxy({'__module__': '__main__',\n",
       "              '__init__': <function __main__.Circle.__init__(self, radius=0)>,\n",
       "              'setRadius': <function __main__.Circle.setRadius(self, radius)>,\n",
       "              'getRadius': <function __main__.Circle.getRadius(self)>,\n",
       "              'getArea': <function __main__.Circle.getArea(self)>,\n",
       "              'getPerimeter': <function __main__.Circle.getPerimeter(self)>,\n",
       "              '__dict__': <attribute '__dict__' of 'Circle' objects>,\n",
       "              '__weakref__': <attribute '__weakref__' of 'Circle' objects>,\n",
       "              '__doc__': None})"
      ]
     },
     "execution_count": 17,
     "metadata": {},
     "output_type": "execute_result"
    }
   ],
   "source": [
    "Circle.__dict__"
   ]
  },
  {
   "cell_type": "code",
   "execution_count": null,
   "metadata": {},
   "outputs": [],
   "source": [
    "# '구' 와 '원'은 다르다\n",
    "# 기존의 Circle 의 getArea() 를 재정의 (오버라이딩) 해주어야 한다\n",
    "\n",
    "# 구의 겉넓이 공식  :  4 x pi x r ** 2"
   ]
  },
  {
   "cell_type": "code",
   "execution_count": 18,
   "metadata": {},
   "outputs": [],
   "source": [
    "class Sphere(Circle):\n",
    "    # Sphere 클래스에서 추가되는 메소드\n",
    "    def getVolume(self):  # 부피 구하기\n",
    "        return (4 / 3) * math.pi * self.radius ** 3\n",
    "    \n",
    "    def getArea(self):  # 메소드 오버라이딩\n",
    "        return 4 * math.pi * self.radius ** 2"
   ]
  },
  {
   "cell_type": "code",
   "execution_count": 19,
   "metadata": {},
   "outputs": [
    {
     "data": {
      "text/plain": [
       "mappingproxy({'__module__': '__main__',\n",
       "              'getVolume': <function __main__.Sphere.getVolume(self)>,\n",
       "              'getArea': <function __main__.Sphere.getArea(self)>,\n",
       "              '__doc__': None})"
      ]
     },
     "execution_count": 19,
     "metadata": {},
     "output_type": "execute_result"
    }
   ],
   "source": [
    "Sphere.__dict__"
   ]
  },
  {
   "cell_type": "code",
   "execution_count": 20,
   "metadata": {},
   "outputs": [
    {
     "data": {
      "text/plain": [
       "mappingproxy({'__module__': '__main__',\n",
       "              '__init__': <function __main__.Circle.__init__(self, radius=0)>,\n",
       "              'setRadius': <function __main__.Circle.setRadius(self, radius)>,\n",
       "              'getRadius': <function __main__.Circle.getRadius(self)>,\n",
       "              'getArea': <function __main__.Circle.getArea(self)>,\n",
       "              'getPerimeter': <function __main__.Circle.getPerimeter(self)>,\n",
       "              '__dict__': <attribute '__dict__' of 'Circle' objects>,\n",
       "              '__weakref__': <attribute '__weakref__' of 'Circle' objects>,\n",
       "              '__doc__': None})"
      ]
     },
     "execution_count": 20,
     "metadata": {},
     "output_type": "execute_result"
    }
   ],
   "source": [
    "Circle.__dict__"
   ]
  },
  {
   "cell_type": "code",
   "execution_count": 21,
   "metadata": {},
   "outputs": [
    {
     "data": {
      "text/plain": [
       "201.06192982974676"
      ]
     },
     "execution_count": 21,
     "metadata": {},
     "output_type": "execute_result"
    }
   ],
   "source": [
    "s3 = Sphere(4)\n",
    "s3.getArea()"
   ]
  },
  {
   "cell_type": "markdown",
   "metadata": {},
   "source": [
    "## 연습\n",
    "## 정사각형(Square)\n",
    "##  └─ 정육면체 (Cube)"
   ]
  },
  {
   "cell_type": "code",
   "execution_count": 22,
   "metadata": {},
   "outputs": [],
   "source": [
    "# 상속 연습 \n",
    "\n",
    "# 정사각형(Square)\n",
    "#   └─ 정육면체 (Cube)\n",
    "\n",
    "#  1. '정사각형' 객체 정의 \n",
    "#  클래스 이름 : Square\n",
    "#  생성자 : '한 면의 길이(side)'를 받아서 초기화\n",
    "#  면적을 계산하여 리턴하는 메소드 : getArea()\n",
    "\n",
    "# 2. '정육면체' 객체 정의 <-- Square 상속받아 정의\n",
    "#  클래스 이름 : Cube\n",
    "#  getArea() : 정육면체의 총 면적\n",
    "#  getVolume() : 정육면체의 부피 계산\n"
   ]
  },
  {
   "cell_type": "code",
   "execution_count": 25,
   "metadata": {},
   "outputs": [],
   "source": [
    "# 정사각형\n",
    "class Square:\n",
    "    def __init__(self, side = 0):\n",
    "        self.side = side\n",
    "    \n",
    "    def getArea(self):\n",
    "        return self.side ** 2"
   ]
  },
  {
   "cell_type": "code",
   "execution_count": 26,
   "metadata": {},
   "outputs": [],
   "source": [
    "# 정육면체\n",
    "class Cube(Square):\n",
    "    # 추가되는 메소드\n",
    "    def getVolume(self):\n",
    "        return self.side ** 3\n",
    "    \n",
    "    def getArea(self):  # 메소드 오버라이딩\n",
    "        return self.side ** 2 * 6"
   ]
  },
  {
   "cell_type": "code",
   "execution_count": 27,
   "metadata": {},
   "outputs": [
    {
     "data": {
      "text/plain": [
       "mappingproxy({'__module__': '__main__',\n",
       "              'getVolume': <function __main__.Cube.getVolume(self)>,\n",
       "              'getArea': <function __main__.Cube.getArea(self)>,\n",
       "              '__doc__': None})"
      ]
     },
     "execution_count": 27,
     "metadata": {},
     "output_type": "execute_result"
    }
   ],
   "source": [
    "Cube.__dict__"
   ]
  },
  {
   "cell_type": "code",
   "execution_count": 28,
   "metadata": {},
   "outputs": [],
   "source": [
    "cub1 = Cube(2)"
   ]
  },
  {
   "cell_type": "code",
   "execution_count": 29,
   "metadata": {},
   "outputs": [
    {
     "data": {
      "text/plain": [
       "8"
      ]
     },
     "execution_count": 29,
     "metadata": {},
     "output_type": "execute_result"
    }
   ],
   "source": [
    "cub1.getVolume()"
   ]
  },
  {
   "cell_type": "code",
   "execution_count": 30,
   "metadata": {},
   "outputs": [
    {
     "data": {
      "text/plain": [
       "24"
      ]
     },
     "execution_count": 30,
     "metadata": {},
     "output_type": "execute_result"
    }
   ],
   "source": [
    "cub1.getArea()"
   ]
  },
  {
   "cell_type": "markdown",
   "metadata": {},
   "source": [
    "#### 부모쪽의 메소드를 호출하고 싶다면???\n",
    "Cube(자식) 이 부모(Square) 의 getArea() 를 호출하려면?"
   ]
  },
  {
   "cell_type": "code",
   "execution_count": 31,
   "metadata": {},
   "outputs": [
    {
     "data": {
      "text/plain": [
       "<__main__.Cube at 0x1ae6158fac0>"
      ]
     },
     "execution_count": 31,
     "metadata": {},
     "output_type": "execute_result"
    }
   ],
   "source": [
    "cub1"
   ]
  },
  {
   "cell_type": "code",
   "execution_count": 32,
   "metadata": {},
   "outputs": [
    {
     "data": {
      "text/plain": [
       "4"
      ]
     },
     "execution_count": 32,
     "metadata": {},
     "output_type": "execute_result"
    }
   ],
   "source": [
    "Square.getArea(cub1)"
   ]
  },
  {
   "cell_type": "code",
   "execution_count": 33,
   "metadata": {},
   "outputs": [
    {
     "data": {
      "text/plain": [
       "<super: __main__.Cube, <__main__.Cube at 0x1ae6158fac0>>"
      ]
     },
     "execution_count": 33,
     "metadata": {},
     "output_type": "execute_result"
    }
   ],
   "source": [
    "super(Cube, cub1)"
   ]
  },
  {
   "cell_type": "code",
   "execution_count": 34,
   "metadata": {},
   "outputs": [
    {
     "data": {
      "text/plain": [
       "4"
      ]
     },
     "execution_count": 34,
     "metadata": {},
     "output_type": "execute_result"
    }
   ],
   "source": [
    "super(Cube, cub1).getArea()"
   ]
  },
  {
   "cell_type": "markdown",
   "metadata": {},
   "source": [
    "## super()"
   ]
  },
  {
   "cell_type": "code",
   "execution_count": 36,
   "metadata": {},
   "outputs": [],
   "source": [
    "class Person:\n",
    "    def __init__(self, fname, lname):\n",
    "        self.firstname = fname\n",
    "        self.lastname = lname\n",
    "        \n",
    "\n",
    "class Student(Person):\n",
    "    def __init__(self, grade = 1):\n",
    "        self.grade = grade\n",
    "        "
   ]
  },
  {
   "cell_type": "code",
   "execution_count": 37,
   "metadata": {},
   "outputs": [],
   "source": [
    "x = Student(1)"
   ]
  },
  {
   "cell_type": "code",
   "execution_count": 38,
   "metadata": {},
   "outputs": [
    {
     "data": {
      "text/plain": [
       "{'grade': 1}"
      ]
     },
     "execution_count": 38,
     "metadata": {},
     "output_type": "execute_result"
    }
   ],
   "source": [
    "x.__dict__"
   ]
  },
  {
   "cell_type": "code",
   "execution_count": 39,
   "metadata": {},
   "outputs": [
    {
     "data": {
      "text/plain": [
       "1"
      ]
     },
     "execution_count": 39,
     "metadata": {},
     "output_type": "execute_result"
    }
   ],
   "source": [
    "x.grade"
   ]
  },
  {
   "cell_type": "code",
   "execution_count": 40,
   "metadata": {},
   "outputs": [
    {
     "ename": "AttributeError",
     "evalue": "'Student' object has no attribute 'firstname'",
     "output_type": "error",
     "traceback": [
      "\u001b[1;31m---------------------------------------------------------------------------\u001b[0m",
      "\u001b[1;31mAttributeError\u001b[0m                            Traceback (most recent call last)",
      "\u001b[1;32m<ipython-input-40-c7e266c1b930>\u001b[0m in \u001b[0;36m<module>\u001b[1;34m\u001b[0m\n\u001b[1;32m----> 1\u001b[1;33m \u001b[0mx\u001b[0m\u001b[1;33m.\u001b[0m\u001b[0mfirstname\u001b[0m\u001b[1;33m\u001b[0m\u001b[1;33m\u001b[0m\u001b[0m\n\u001b[0m",
      "\u001b[1;31mAttributeError\u001b[0m: 'Student' object has no attribute 'firstname'"
     ]
    }
   ],
   "source": [
    "x.firstname"
   ]
  },
  {
   "cell_type": "code",
   "execution_count": 41,
   "metadata": {},
   "outputs": [],
   "source": [
    "class Person:\n",
    "    def __init__(self, fname, lname):\n",
    "        print(f'Person({fname},{lname}) 생성자 호출')\n",
    "        self.firstname = fname\n",
    "        self.lastname = lname\n",
    "        \n",
    "\n",
    "class Student(Person):\n",
    "    def __init__(self, grade = 1):\n",
    "        print(f'Student({grade}) 생성자 호출')\n",
    "        self.grade = grade\n",
    "        "
   ]
  },
  {
   "cell_type": "code",
   "execution_count": 42,
   "metadata": {},
   "outputs": [
    {
     "name": "stdout",
     "output_type": "stream",
     "text": [
      "Student(4) 생성자 호출\n"
     ]
    }
   ],
   "source": [
    "x = Student(4)  # ?! 부모생성자 호출 안한다!!!"
   ]
  },
  {
   "cell_type": "code",
   "execution_count": 43,
   "metadata": {},
   "outputs": [],
   "source": [
    "class Person:\n",
    "    def __init__(self, fname, lname):\n",
    "        print(f'Person({fname},{lname}) 생성자 호출')\n",
    "        self.firstname = fname\n",
    "        self.lastname = lname\n",
    "        \n",
    "\n",
    "class Student(Person):\n",
    "    def __init__(self, fname, lname, grade = 1):\n",
    "        print(f'Student({fname},{lname},{grade}) 생성자 호출')\n",
    "        super().__init__(fname, lname)  # 부모의 생성자 호출\n",
    "        self.grade = grade\n",
    "        "
   ]
  },
  {
   "cell_type": "code",
   "execution_count": 44,
   "metadata": {},
   "outputs": [
    {
     "name": "stdout",
     "output_type": "stream",
     "text": [
      "Student(Mike,Olsen,1) 생성자 호출\n",
      "Person(Mike,Olsen) 생성자 호출\n"
     ]
    }
   ],
   "source": [
    "x = Student('Mike', \"Olsen\", 1)"
   ]
  },
  {
   "cell_type": "code",
   "execution_count": 45,
   "metadata": {},
   "outputs": [
    {
     "data": {
      "text/plain": [
       "{'firstname': 'Mike', 'lastname': 'Olsen', 'grade': 1}"
      ]
     },
     "execution_count": 45,
     "metadata": {},
     "output_type": "execute_result"
    }
   ],
   "source": [
    "x.__dict__"
   ]
  },
  {
   "cell_type": "code",
   "execution_count": null,
   "metadata": {},
   "outputs": [],
   "source": []
  },
  {
   "cell_type": "code",
   "execution_count": null,
   "metadata": {},
   "outputs": [],
   "source": []
  },
  {
   "cell_type": "code",
   "execution_count": null,
   "metadata": {},
   "outputs": [],
   "source": []
  },
  {
   "cell_type": "code",
   "execution_count": null,
   "metadata": {},
   "outputs": [],
   "source": []
  },
  {
   "cell_type": "code",
   "execution_count": null,
   "metadata": {},
   "outputs": [],
   "source": []
  },
  {
   "cell_type": "code",
   "execution_count": null,
   "metadata": {},
   "outputs": [],
   "source": []
  },
  {
   "cell_type": "code",
   "execution_count": null,
   "metadata": {},
   "outputs": [],
   "source": []
  }
 ],
 "metadata": {
  "kernelspec": {
   "display_name": "Python 3",
   "language": "python",
   "name": "python3"
  },
  "language_info": {
   "codemirror_mode": {
    "name": "ipython",
    "version": 3
   },
   "file_extension": ".py",
   "mimetype": "text/x-python",
   "name": "python",
   "nbconvert_exporter": "python",
   "pygments_lexer": "ipython3",
   "version": "3.8.5"
  }
 },
 "nbformat": 4,
 "nbformat_minor": 4
}
