{
 "cells": [
  {
   "cell_type": "markdown",
   "metadata": {},
   "source": [
    "# Coroutine(코루틴)"
   ]
  },
  {
   "cell_type": "code",
   "execution_count": 1,
   "metadata": {},
   "outputs": [
    {
     "name": "stdout",
     "output_type": "stream",
     "text": [
      "3\n",
      "add 함수\n",
      "calc 함수\n"
     ]
    }
   ],
   "source": [
    "# 함수를 호출한 뒤 함수가 끝나면 현재 코드로 다시 돌아온다.\n",
    "# 함수에 들어있던 변수와 계산식은 모두 사라진다\n",
    "\n",
    "def add(a, b):\n",
    "    c = a + b    # add 함수가 끝나면 변수와 계산식은 사라짐\n",
    "    print(c)\n",
    "    print('add 함수')\n",
    "\n",
    "def calc():\n",
    "    add(1, 2)    # add 함수가 끝나면 다시 calc 함수로 돌아옴\n",
    "    print('calc 함수')\n",
    "\n",
    "calc()"
   ]
  },
  {
   "cell_type": "markdown",
   "metadata": {},
   "source": [
    "#### 메인루틴과 서브루틴의 동작과정\n",
    "메인루틴 (호출한측),  서브루틴 (호출받은쪽)<br>\n",
    "![](https://dojang.io/pluginfile.php/13976/mod_page/content/3/041001.png)\n",
    "\n",
    "메인 루틴에서 서브 루틴을 호출하면 서브 루틴의 코드를 실행한 뒤 다시 메인 루틴으로 돌아옵니다. 특히 서브 루틴이 끝나면 서브 루틴의 내용은 모두 사라집니다. 즉, 서브 루틴은 메인 루틴에 '종속된 관계'입니다."
   ]
  },
  {
   "cell_type": "markdown",
   "metadata": {},
   "source": [
    "#### 코루틴은 다르다\n",
    "코루틴(coroutine)은 cooperative routine를 의미하는데 서로 협력하는 루틴이라는 뜻입니다. 즉, 메인 루틴과 서브 루틴처럼 종속된 관계가 아니라 서로 대등한 관계이며 특정 시점에 상대방의 코드를 실행합니다.\n",
    "\n",
    "![](https://dojang.io/pluginfile.php/13976/mod_page/content/3/041002.png)\n",
    "\n",
    "코루틴은 함수가 종료되지 않은 상태에서 메인 루틴의 코드를 실행한 뒤 다시 돌아와서 코루틴의 코드를 실행합니다. 따라서 코루틴이 종료되지 않았으므로 코루틴의 내용도 계속 유지됩니다\n",
    "\n",
    "일반 함수를 호출하면 코드를 한 번만 실행할 수 있지만, 코루틴은 코드를 여러 번 실행할 수 있습니다. 참고로 함수의 코드를 실행하는 지점을 진입점(entry point)이라고 하는데, 코루틴은 진입점이 여러 개인 함수"
   ]
  },
  {
   "cell_type": "markdown",
   "metadata": {},
   "source": [
    "## 코루틴에 값 보내기 + 받기\n",
    "- 코루틴은 제너레이터의 특별한 형태\n",
    "- 코루틴은 yield로 값을 받아올 수 있습니다  (*제너레이터는 yield로 값을 발생시켰었다)\n",
    "- 코루틴에 값을 보내면서 코드를 실행할 때 : **send() 메소드** 사용\n",
    "    - 코루틴객체.send(값)\n",
    "- send() 메소드가 보낸 값을 받아오려면 **(yield)**  <- 괄호 꼭!    \n",
    "    - 변수 = (yield)"
   ]
  },
  {
   "cell_type": "code",
   "execution_count": 5,
   "metadata": {},
   "outputs": [],
   "source": [
    "def number_routine():\n",
    "    print(\"코루틴 최초 진입\")\n",
    "    while True:\n",
    "        x = (yield)\n",
    "        print(x)"
   ]
  },
  {
   "cell_type": "code",
   "execution_count": 6,
   "metadata": {},
   "outputs": [
    {
     "name": "stdout",
     "output_type": "stream",
     "text": [
      "코루틴 최초 진입\n"
     ]
    }
   ],
   "source": [
    "co = number_routine()\n",
    "next(co)  #코루틴 안의 yield 까지 코드 실행 (최초 실행)"
   ]
  },
  {
   "cell_type": "code",
   "execution_count": 7,
   "metadata": {},
   "outputs": [
    {
     "name": "stdout",
     "output_type": "stream",
     "text": [
      "1\n"
     ]
    }
   ],
   "source": [
    "co.send(1)  #코루틴에 숫자 1을 보냄"
   ]
  },
  {
   "cell_type": "code",
   "execution_count": 8,
   "metadata": {},
   "outputs": [
    {
     "name": "stdout",
     "output_type": "stream",
     "text": [
      "2\n"
     ]
    }
   ],
   "source": [
    "co.send(2)"
   ]
  },
  {
   "cell_type": "code",
   "execution_count": 9,
   "metadata": {},
   "outputs": [
    {
     "name": "stdout",
     "output_type": "stream",
     "text": [
      "3\n"
     ]
    }
   ],
   "source": [
    "co.send(3)"
   ]
  },
  {
   "cell_type": "markdown",
   "metadata": {},
   "source": [
    "#### 위 코루틴의 동작 과정\n",
    "\n",
    "![](https://dojang.io/pluginfile.php/13976/mod_page/content/3/041003.png)"
   ]
  },
  {
   "cell_type": "markdown",
   "metadata": {},
   "source": [
    "### 코루틴 코드를 최초로 실행하는 다양한 방법들"
   ]
  },
  {
   "cell_type": "code",
   "execution_count": 10,
   "metadata": {},
   "outputs": [
    {
     "name": "stdout",
     "output_type": "stream",
     "text": [
      "코루틴 최초 진입\n",
      "50\n"
     ]
    }
   ],
   "source": [
    "co = number_routine()\n",
    "next(co)\n",
    "\n",
    "co.send(50)"
   ]
  },
  {
   "cell_type": "code",
   "execution_count": 11,
   "metadata": {},
   "outputs": [
    {
     "name": "stdout",
     "output_type": "stream",
     "text": [
      "코루틴 최초 진입\n",
      "10\n",
      "20\n"
     ]
    }
   ],
   "source": [
    "co = number_routine()\n",
    "co.__next__()\n",
    "\n",
    "co.send(10)\n",
    "co.send(20)"
   ]
  },
  {
   "cell_type": "code",
   "execution_count": 12,
   "metadata": {},
   "outputs": [
    {
     "name": "stdout",
     "output_type": "stream",
     "text": [
      "코루틴 최초 진입\n",
      "10\n",
      "20\n",
      "30\n"
     ]
    }
   ],
   "source": [
    "co = number_routine()\n",
    "co.send(None)\n",
    "\n",
    "co.send(10)\n",
    "co.send(20)\n",
    "co.send(30)"
   ]
  },
  {
   "cell_type": "markdown",
   "metadata": {},
   "source": [
    "---\n",
    "## 코루틴 바깥으로 값 전달하기\n",
    "\n",
    "- (yield 변수)\n",
    "\n",
    " yield에 변수를 지정한 뒤 괄호로 묶어주면 값을 받아오면서 바깥으로 값을 전달합니다. 그리고 yield를 사용하여 바깥으로 전달한 값은 'next() 함수(__next__ 메서드)'와 'send() 메소드'의 **리턴값**으로 나옵니다."
   ]
  },
  {
   "cell_type": "code",
   "execution_count": 16,
   "metadata": {},
   "outputs": [
    {
     "name": "stdout",
     "output_type": "stream",
     "text": [
      "0\n",
      "1\n",
      "6\n",
      "9\n"
     ]
    }
   ],
   "source": [
    "def sum_coroutine():\n",
    "    total = 0\n",
    "    while True:\n",
    "        x = (yield total)  # 코루틴 바깥에서 값을 받아오면서, 바깥으로 값을 전달\n",
    "        total += x\n",
    "        \n",
    "co = sum_coroutine()\n",
    "print(next(co))  # 0: 코루틴 안의 yield 까지 코드를 실행하고 코루틴에서 나온 값 출력\n",
    "\n",
    "print(co.send(1))\n",
    "print(co.send(5))\n",
    "print(co.send(3))\n"
   ]
  },
  {
   "cell_type": "markdown",
   "metadata": {},
   "source": [
    "#### 값을 전달하는 과정\n",
    "![](https://dojang.io/pluginfile.php/13977/mod_page/content/5/041005.png)"
   ]
  },
  {
   "cell_type": "markdown",
   "metadata": {},
   "source": [
    "### generator 와 cotoutine 의 차이점 정리\n",
    "- 제너레이터는 next 함수(__next__ 메서드)를 반복 호출하여 값을 얻어내는 방식\n",
    "- 코루틴은 next 함수(__next__ 메서드)를 한 번만 호출한 뒤 send로 값을 주고 받는 방식\n",
    "- 코루틴도 결국은 제네레이터 다\n",
    "\n",
    "\n",
    "※ 참고: 값을 보내지 않고 코루틴의 코드 실행하기<br>\n",
    "값을 보내지 않으면서 코루틴의 코드를 실행할 때는 next 함수(__next__ 메서드)만 사용하면 됩니다. 잘 생각해보면 이 방식이 일반적인 제너레이터입니다."
   ]
  },
  {
   "cell_type": "markdown",
   "metadata": {},
   "source": [
    "---\n",
    "##  코루틴을 종료하고 예외 처리하기\n",
    "**코루틴객체.close()**\n",
    "\n",
    "보통 코루틴은 실행 상태를 유지하기 위해 while True:를 사용해서 끝나지 않는 무한 루프로 동작합니다. 만약 코루틴을 강제로 종료하고 싶다면 close 메서드를 사용합니다.\n",
    "\n"
   ]
  },
  {
   "cell_type": "code",
   "execution_count": 19,
   "metadata": {},
   "outputs": [
    {
     "name": "stdout",
     "output_type": "stream",
     "text": [
      "0 1 2 3 4 5 6 7 8 9 10 11 12 13 14 15 16 17 18 19 "
     ]
    }
   ],
   "source": [
    "def number_coroutine():\n",
    "    while True:\n",
    "        x = (yield)\n",
    "        print(x, end = ' ')\n",
    "        \n",
    "        \n",
    "co = number_coroutine()\n",
    "next(co)\n",
    "\n",
    "for i in range(20):\n",
    "    co.send(i)\n",
    "    \n",
    "co.close()  # 코루틴 종료"
   ]
  },
  {
   "cell_type": "code",
   "execution_count": 20,
   "metadata": {},
   "outputs": [
    {
     "ename": "StopIteration",
     "evalue": "",
     "output_type": "error",
     "traceback": [
      "\u001b[1;31m---------------------------------------------------------------------------\u001b[0m",
      "\u001b[1;31mStopIteration\u001b[0m                             Traceback (most recent call last)",
      "\u001b[1;32m<ipython-input-20-e9b92db9e6f5>\u001b[0m in \u001b[0;36m<module>\u001b[1;34m\u001b[0m\n\u001b[1;32m----> 1\u001b[1;33m \u001b[0mco\u001b[0m\u001b[1;33m.\u001b[0m\u001b[0msend\u001b[0m\u001b[1;33m(\u001b[0m\u001b[1;36m10\u001b[0m\u001b[1;33m)\u001b[0m\u001b[1;33m\u001b[0m\u001b[1;33m\u001b[0m\u001b[0m\n\u001b[0m",
      "\u001b[1;31mStopIteration\u001b[0m: "
     ]
    }
   ],
   "source": [
    "co.send(10)"
   ]
  },
  {
   "cell_type": "markdown",
   "metadata": {},
   "source": [
    "### GeneratorExit 예외 처리\n",
    "close() 메소드를 호출하면 코루틴이 종료될 때 **GeneratorExit** 예외가 발생합니다.<br>\n",
    "따라서 이 예외를 처리하면 코루틴의 종료 시점에서 수행할 코루틴의 작업들 수행 가능"
   ]
  },
  {
   "cell_type": "code",
   "execution_count": 23,
   "metadata": {},
   "outputs": [
    {
     "name": "stdout",
     "output_type": "stream",
     "text": [
      "0 1 2 3 4 5 6 7 8 9 10 11 12 13 14 15 16 17 18 19 \n",
      "코루틴 종료\n",
      "프로그램 종료\n"
     ]
    }
   ],
   "source": [
    "def number_coroutine():\n",
    "    try:\n",
    "        while True:\n",
    "            x = (yield)\n",
    "            print(x, end = ' ')\n",
    "    except GeneratorExit:  # 코루틴이 종료될때 GeneratorExit 예외 발생\n",
    "        print()\n",
    "        print('코루틴 종료')\n",
    "        \n",
    "        \n",
    "co = number_coroutine()\n",
    "next(co)\n",
    "\n",
    "for i in range(20):\n",
    "    co.send(i)\n",
    "    \n",
    "co.close()  # 코루틴 종료\n",
    "print('프로그램 종료')"
   ]
  },
  {
   "cell_type": "markdown",
   "metadata": {},
   "source": [
    "### 코루틴 안에서 예외 발생시키기\n",
    "**코루틴객체.throw(예외이름, 에러메시지)**\n"
   ]
  },
  {
   "cell_type": "code",
   "execution_count": 24,
   "metadata": {},
   "outputs": [],
   "source": [
    "# 코루틴 안에 예외를 발생 시킬 때는 throw 메서드를 사용합니다. \n",
    "# throw는 말그대로 던지다라는 뜻인데 예외를 코루틴 안으로 던집니다. \n",
    "# 이때 throw 메서드에 지정한 에러 메시지는 except as의 변수에 들어갑니다."
   ]
  },
  {
   "cell_type": "code",
   "execution_count": 27,
   "metadata": {},
   "outputs": [
    {
     "name": "stdout",
     "output_type": "stream",
     "text": [
      "코루틴 시작\n",
      "예외로 코루틴 끝내기\n",
      "190\n",
      "프로그램 종료\n"
     ]
    }
   ],
   "source": [
    "def sum_coroutine():\n",
    "    print('코루틴 시작')\n",
    "    try:\n",
    "        total = 0\n",
    "        while True:\n",
    "            x = (yield)\n",
    "            total += x\n",
    "    except RuntimeError as e:\n",
    "        print(e)\n",
    "        yield total  # 코루틴 바깥ㄴ으로 전달됨 throw() 의 리턴값이 된다.\n",
    "    print('코루틴 종료')\n",
    "        \n",
    "co = sum_coroutine()\n",
    "next(co)\n",
    "\n",
    "for i in range(20):\n",
    "    co.send(i)\n",
    "    \n",
    "print(co.throw(RuntimeError, '예외로 코루틴 끝내기'))\n",
    "\n",
    "print('프로그램 종료')"
   ]
  },
  {
   "cell_type": "markdown",
   "metadata": {},
   "source": [
    "## 하위 코루틴의 리턴값 가져오기\n",
    "**변수 = yield from 코루틴()**  (파이썬 3.3 <= 사용)"
   ]
  },
  {
   "cell_type": "code",
   "execution_count": 33,
   "metadata": {},
   "outputs": [
    {
     "name": "stdout",
     "output_type": "stream",
     "text": [
      "sum_couroutin() 시작\n",
      "accumulate() 시작\n",
      "55\n",
      "accumulate() 시작\n",
      "5050\n",
      "accumulate() 시작\n"
     ]
    }
   ],
   "source": [
    "def accumulate():\n",
    "    print(\"accumulate() 시작\")\n",
    "    total = 0\n",
    "    while True:\n",
    "        x = (yield)\n",
    "        if x is None:\n",
    "            return total\n",
    "        total += x\n",
    "        \n",
    "def sum_coroutine():\n",
    "    print(\"sum_couroutin() 시작\")\n",
    "    while True:\n",
    "        total = yield from accumulate()   # accumulate 의 반환값을 가져옴\n",
    "        print(total)\n",
    "        \n",
    "co = sum_coroutine()\n",
    "next(co)\n",
    "\n",
    "for i in range(1, 11):  \n",
    "    co.send(i)\n",
    "    \n",
    "co.send(None)\n",
    "\n",
    "for i in range(1, 101):\n",
    "    co.send(i)\n",
    "    \n",
    "co.send(None)\n"
   ]
  },
  {
   "cell_type": "markdown",
   "metadata": {},
   "source": [
    "#### StopIteration 예외 발생"
   ]
  },
  {
   "cell_type": "code",
   "execution_count": 35,
   "metadata": {},
   "outputs": [
    {
     "name": "stdout",
     "output_type": "stream",
     "text": [
      "sum_couroutin() 시작\n",
      "accumulate() 시작\n"
     ]
    },
    {
     "ename": "RuntimeError",
     "evalue": "generator raised StopIteration",
     "output_type": "error",
     "traceback": [
      "\u001b[1;31m---------------------------------------------------------------------------\u001b[0m",
      "\u001b[1;31mStopIteration\u001b[0m                             Traceback (most recent call last)",
      "\u001b[1;32m<ipython-input-35-af159d772c63>\u001b[0m in \u001b[0;36maccumulate\u001b[1;34m()\u001b[0m\n\u001b[0;32m      6\u001b[0m         \u001b[1;32mif\u001b[0m \u001b[0mx\u001b[0m \u001b[1;32mis\u001b[0m \u001b[1;32mNone\u001b[0m\u001b[1;33m:\u001b[0m\u001b[1;33m\u001b[0m\u001b[1;33m\u001b[0m\u001b[0m\n\u001b[1;32m----> 7\u001b[1;33m             \u001b[1;32mraise\u001b[0m \u001b[0mStopIteration\u001b[0m\u001b[1;33m(\u001b[0m\u001b[0mtotal\u001b[0m\u001b[1;33m)\u001b[0m\u001b[1;33m\u001b[0m\u001b[1;33m\u001b[0m\u001b[0m\n\u001b[0m\u001b[0;32m      8\u001b[0m             \u001b[1;32mreturn\u001b[0m \u001b[0mtotal\u001b[0m\u001b[1;33m\u001b[0m\u001b[1;33m\u001b[0m\u001b[0m\n",
      "\u001b[1;31mStopIteration\u001b[0m: 55",
      "\nThe above exception was the direct cause of the following exception:\n",
      "\u001b[1;31mRuntimeError\u001b[0m                              Traceback (most recent call last)",
      "\u001b[1;32m<ipython-input-35-af159d772c63>\u001b[0m in \u001b[0;36m<module>\u001b[1;34m\u001b[0m\n\u001b[0;32m     21\u001b[0m     \u001b[0mco\u001b[0m\u001b[1;33m.\u001b[0m\u001b[0msend\u001b[0m\u001b[1;33m(\u001b[0m\u001b[0mi\u001b[0m\u001b[1;33m)\u001b[0m\u001b[1;33m\u001b[0m\u001b[1;33m\u001b[0m\u001b[0m\n\u001b[0;32m     22\u001b[0m \u001b[1;33m\u001b[0m\u001b[0m\n\u001b[1;32m---> 23\u001b[1;33m \u001b[0mco\u001b[0m\u001b[1;33m.\u001b[0m\u001b[0msend\u001b[0m\u001b[1;33m(\u001b[0m\u001b[1;32mNone\u001b[0m\u001b[1;33m)\u001b[0m\u001b[1;33m\u001b[0m\u001b[1;33m\u001b[0m\u001b[0m\n\u001b[0m\u001b[0;32m     24\u001b[0m \u001b[1;33m\u001b[0m\u001b[0m\n\u001b[0;32m     25\u001b[0m \u001b[1;32mfor\u001b[0m \u001b[0mi\u001b[0m \u001b[1;32min\u001b[0m \u001b[0mrange\u001b[0m\u001b[1;33m(\u001b[0m\u001b[1;36m1\u001b[0m\u001b[1;33m,\u001b[0m \u001b[1;36m101\u001b[0m\u001b[1;33m)\u001b[0m\u001b[1;33m:\u001b[0m\u001b[1;33m\u001b[0m\u001b[1;33m\u001b[0m\u001b[0m\n",
      "\u001b[1;32m<ipython-input-35-af159d772c63>\u001b[0m in \u001b[0;36msum_coroutine\u001b[1;34m()\u001b[0m\n\u001b[0;32m     12\u001b[0m     \u001b[0mprint\u001b[0m\u001b[1;33m(\u001b[0m\u001b[1;34m\"sum_couroutin() 시작\"\u001b[0m\u001b[1;33m)\u001b[0m\u001b[1;33m\u001b[0m\u001b[1;33m\u001b[0m\u001b[0m\n\u001b[0;32m     13\u001b[0m     \u001b[1;32mwhile\u001b[0m \u001b[1;32mTrue\u001b[0m\u001b[1;33m:\u001b[0m\u001b[1;33m\u001b[0m\u001b[1;33m\u001b[0m\u001b[0m\n\u001b[1;32m---> 14\u001b[1;33m         \u001b[0mtotal\u001b[0m \u001b[1;33m=\u001b[0m \u001b[1;32myield\u001b[0m \u001b[1;32mfrom\u001b[0m \u001b[0maccumulate\u001b[0m\u001b[1;33m(\u001b[0m\u001b[1;33m)\u001b[0m   \u001b[1;31m# accumulate 의 반환값을 가져옴\u001b[0m\u001b[1;33m\u001b[0m\u001b[1;33m\u001b[0m\u001b[0m\n\u001b[0m\u001b[0;32m     15\u001b[0m         \u001b[0mprint\u001b[0m\u001b[1;33m(\u001b[0m\u001b[0mtotal\u001b[0m\u001b[1;33m)\u001b[0m\u001b[1;33m\u001b[0m\u001b[1;33m\u001b[0m\u001b[0m\n\u001b[0;32m     16\u001b[0m \u001b[1;33m\u001b[0m\u001b[0m\n",
      "\u001b[1;31mRuntimeError\u001b[0m: generator raised StopIteration"
     ]
    }
   ],
   "source": [
    "def accumulate():\n",
    "    print(\"accumulate() 시작\")\n",
    "    total = 0\n",
    "    while True:\n",
    "        x = (yield)\n",
    "        if x is None:\n",
    "            raise StopIteration(total)\n",
    "            return total\n",
    "        total += x\n",
    "        \n",
    "def sum_coroutine():\n",
    "    print(\"sum_couroutin() 시작\")\n",
    "    while True:\n",
    "        total = yield from accumulate()   # accumulate 의 반환값을 가져옴\n",
    "        print(total)\n",
    "        \n",
    "co = sum_coroutine()\n",
    "next(co)\n",
    "\n",
    "for i in range(1, 11):  \n",
    "    co.send(i)\n",
    "    \n",
    "co.send(None)\n",
    "\n",
    "for i in range(1, 101):\n",
    "    co.send(i)\n",
    "    \n",
    "co.send(None)\n"
   ]
  },
  {
   "cell_type": "markdown",
   "metadata": {},
   "source": [
    "## 연습 : 문자열 검색 코루틴 만들기"
   ]
  },
  {
   "cell_type": "code",
   "execution_count": 36,
   "metadata": {},
   "outputs": [
    {
     "name": "stdout",
     "output_type": "stream",
     "text": [
      "True\n",
      "False\n",
      "True\n"
     ]
    }
   ],
   "source": [
    "# 다음 소스 코드를 완성하여 문자열에서 특정 단어가 있으면 True, \n",
    "# 없으면 False가 출력되게 만드세요. find 함수는 코루틴으로 작성해야 합니다.\n",
    "\n",
    "def find(word):\n",
    "    result = False\n",
    "    while True:\n",
    "        line = (yield result)\n",
    "        result = word in line    \n",
    "                                 \n",
    "f = find('Python')\n",
    "next(f)\n",
    " \n",
    "print(f.send('Hello, Python!'))\n",
    "print(f.send('Hello, world!'))\n",
    "print(f.send('Python Script'))\n",
    " \n",
    "f.close()\n",
    "\n",
    "# [실행결과]\n",
    "# True\n",
    "# False\n",
    "# True"
   ]
  },
  {
   "cell_type": "code",
   "execution_count": null,
   "metadata": {},
   "outputs": [],
   "source": []
  },
  {
   "cell_type": "code",
   "execution_count": null,
   "metadata": {},
   "outputs": [],
   "source": []
  },
  {
   "cell_type": "code",
   "execution_count": null,
   "metadata": {},
   "outputs": [],
   "source": []
  },
  {
   "cell_type": "code",
   "execution_count": null,
   "metadata": {},
   "outputs": [],
   "source": []
  },
  {
   "cell_type": "code",
   "execution_count": null,
   "metadata": {},
   "outputs": [],
   "source": []
  },
  {
   "cell_type": "code",
   "execution_count": null,
   "metadata": {},
   "outputs": [],
   "source": []
  },
  {
   "cell_type": "code",
   "execution_count": null,
   "metadata": {},
   "outputs": [],
   "source": []
  },
  {
   "cell_type": "code",
   "execution_count": null,
   "metadata": {},
   "outputs": [],
   "source": []
  }
 ],
 "metadata": {
  "kernelspec": {
   "display_name": "Python 3",
   "language": "python",
   "name": "python3"
  },
  "language_info": {
   "codemirror_mode": {
    "name": "ipython",
    "version": 3
   },
   "file_extension": ".py",
   "mimetype": "text/x-python",
   "name": "python",
   "nbconvert_exporter": "python",
   "pygments_lexer": "ipython3",
   "version": "3.8.5"
  }
 },
 "nbformat": 4,
 "nbformat_minor": 4
}
