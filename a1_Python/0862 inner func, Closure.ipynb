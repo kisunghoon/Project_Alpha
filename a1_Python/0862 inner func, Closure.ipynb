{
 "cells": [
  {
   "cell_type": "markdown",
   "metadata": {},
   "source": [
    "# Inner function (nested function)\n",
    "함수 안에서 함수 만들기"
   ]
  },
  {
   "cell_type": "code",
   "execution_count": 1,
   "metadata": {},
   "outputs": [],
   "source": [
    "# def 함수이름1():\n",
    "#     코드\n",
    "#     def 함수이름2():\n",
    "#         코드"
   ]
  },
  {
   "cell_type": "code",
   "execution_count": 4,
   "metadata": {},
   "outputs": [
    {
     "name": "stdout",
     "output_type": "stream",
     "text": [
      "Hello, world!\n"
     ]
    }
   ],
   "source": [
    "def print_hello():\n",
    "    hello = \"Hello, world!\"\n",
    "    \n",
    "    # ↓함수안에서 정의된 함수 (inner function 혹은 nested function)\n",
    "    def print_message():  \n",
    "        print(hello)   # 안쪽 scope 에서 바깥쪽 scope의 변수 사용 '읽기' 가능\n",
    "        \n",
    "    print_message()\n",
    "    \n",
    "print_hello()\n",
    "\n",
    "# print_message()  # inner function 을 함수 밖에서 원칙적으로 사용 불가"
   ]
  },
  {
   "cell_type": "code",
   "execution_count": null,
   "metadata": {},
   "outputs": [],
   "source": [
    "# 함수를 리턴하는 함수\n",
    "# 곱하는 함수를 만드는 함수"
   ]
  },
  {
   "cell_type": "code",
   "execution_count": 5,
   "metadata": {},
   "outputs": [
    {
     "data": {
      "text/plain": [
       "<function __main__.multiplexer.<locals>.something(n)>"
      ]
     },
     "execution_count": 5,
     "metadata": {},
     "output_type": "execute_result"
    }
   ],
   "source": [
    "def multiplexer(x):\n",
    "    def something(n):\n",
    "        return x * n\n",
    "    \n",
    "    return something   # inner function 자체를 리턴!\n",
    "\n",
    "multiplexer(3)"
   ]
  },
  {
   "cell_type": "code",
   "execution_count": 6,
   "metadata": {},
   "outputs": [],
   "source": [
    "triple = multiplexer(3)\n",
    "double = multiplexer(2)\n",
    "\n",
    "# triple과 double 은 함수다!"
   ]
  },
  {
   "cell_type": "code",
   "execution_count": 10,
   "metadata": {},
   "outputs": [
    {
     "data": {
      "text/plain": [
       "(300, 30, 3000)"
      ]
     },
     "execution_count": 10,
     "metadata": {},
     "output_type": "execute_result"
    }
   ],
   "source": [
    "triple(100), triple(10), triple(1000)"
   ]
  },
  {
   "cell_type": "code",
   "execution_count": 12,
   "metadata": {},
   "outputs": [
    {
     "data": {
      "text/plain": [
       "(200, 20, 2000)"
      ]
     },
     "execution_count": 12,
     "metadata": {},
     "output_type": "execute_result"
    }
   ],
   "source": [
    "double(100), double(10), double(1000)"
   ]
  },
  {
   "cell_type": "markdown",
   "metadata": {},
   "source": [
    "#### 위 코드를 lamda function 으로 변경!"
   ]
  },
  {
   "cell_type": "code",
   "execution_count": 13,
   "metadata": {},
   "outputs": [
    {
     "data": {
      "text/plain": [
       "(300, 200)"
      ]
     },
     "execution_count": 13,
     "metadata": {},
     "output_type": "execute_result"
    }
   ],
   "source": [
    "multiplexer = lambda x : lambda n : x * n\n",
    "\n",
    "triple = multiplexer(3)\n",
    "double = multiplexer(2)\n",
    "\n",
    "triple(100), double(100)"
   ]
  },
  {
   "cell_type": "markdown",
   "metadata": {},
   "source": [
    "---\n",
    "## inner function  에서 scope 문제"
   ]
  },
  {
   "cell_type": "markdown",
   "metadata": {},
   "source": [
    "#### 외부 scope 의 변수 '읽기'"
   ]
  },
  {
   "cell_type": "code",
   "execution_count": 14,
   "metadata": {},
   "outputs": [
    {
     "name": "stdout",
     "output_type": "stream",
     "text": [
      "안녕하세요?\n"
     ]
    }
   ],
   "source": [
    "def greetings(x):\n",
    "    def say_hi():\n",
    "        print(x)  # x 는 say_hi() 입장에선 외부 scope의 변수다. '읽기 가능'\n",
    "        \n",
    "    say_hi()\n",
    "    \n",
    "greetings('안녕하세요?')"
   ]
  },
  {
   "cell_type": "code",
   "execution_count": null,
   "metadata": {},
   "outputs": [],
   "source": []
  },
  {
   "cell_type": "markdown",
   "metadata": {},
   "source": [
    "#### 외부 scope 의 변수 '변경'  (쓰기)"
   ]
  },
  {
   "cell_type": "code",
   "execution_count": 15,
   "metadata": {},
   "outputs": [
    {
     "name": "stdout",
     "output_type": "stream",
     "text": [
      "10\n"
     ]
    }
   ],
   "source": [
    "def A():\n",
    "    x = 10      # A 의 지역변수 x\n",
    "    def B():\n",
    "        x = 20  # inner local 에선 outer local의 변수 변경(쓰기) 원칙적으로 불가\n",
    "                # 따라서 x 는 B의 지역변수 x\n",
    "    B()\n",
    "    print(x)    # A 의 지역변수 x\n",
    "    \n",
    "A()"
   ]
  },
  {
   "cell_type": "code",
   "execution_count": 16,
   "metadata": {},
   "outputs": [
    {
     "ename": "UnboundLocalError",
     "evalue": "local variable 'x' referenced before assignment",
     "output_type": "error",
     "traceback": [
      "\u001b[1;31m---------------------------------------------------------------------------\u001b[0m",
      "\u001b[1;31mUnboundLocalError\u001b[0m                         Traceback (most recent call last)",
      "\u001b[1;32m<ipython-input-16-17c5a693dc14>\u001b[0m in \u001b[0;36m<module>\u001b[1;34m\u001b[0m\n\u001b[0;32m      6\u001b[0m     \u001b[0mincrement\u001b[0m\u001b[1;33m(\u001b[0m\u001b[1;33m)\u001b[0m\u001b[1;33m\u001b[0m\u001b[1;33m\u001b[0m\u001b[0m\n\u001b[0;32m      7\u001b[0m \u001b[1;33m\u001b[0m\u001b[0m\n\u001b[1;32m----> 8\u001b[1;33m \u001b[0mcount\u001b[0m\u001b[1;33m(\u001b[0m\u001b[1;36m5\u001b[0m\u001b[1;33m)\u001b[0m\u001b[1;33m\u001b[0m\u001b[1;33m\u001b[0m\u001b[0m\n\u001b[0m",
      "\u001b[1;32m<ipython-input-16-17c5a693dc14>\u001b[0m in \u001b[0;36mcount\u001b[1;34m(x)\u001b[0m\n\u001b[0;32m      4\u001b[0m         \u001b[0mprint\u001b[0m\u001b[1;33m(\u001b[0m\u001b[0mx\u001b[0m\u001b[1;33m)\u001b[0m\u001b[1;33m\u001b[0m\u001b[1;33m\u001b[0m\u001b[0m\n\u001b[0;32m      5\u001b[0m \u001b[1;33m\u001b[0m\u001b[0m\n\u001b[1;32m----> 6\u001b[1;33m     \u001b[0mincrement\u001b[0m\u001b[1;33m(\u001b[0m\u001b[1;33m)\u001b[0m\u001b[1;33m\u001b[0m\u001b[1;33m\u001b[0m\u001b[0m\n\u001b[0m\u001b[0;32m      7\u001b[0m \u001b[1;33m\u001b[0m\u001b[0m\n\u001b[0;32m      8\u001b[0m \u001b[0mcount\u001b[0m\u001b[1;33m(\u001b[0m\u001b[1;36m5\u001b[0m\u001b[1;33m)\u001b[0m\u001b[1;33m\u001b[0m\u001b[1;33m\u001b[0m\u001b[0m\n",
      "\u001b[1;32m<ipython-input-16-17c5a693dc14>\u001b[0m in \u001b[0;36mincrement\u001b[1;34m()\u001b[0m\n\u001b[0;32m      1\u001b[0m \u001b[1;32mdef\u001b[0m \u001b[0mcount\u001b[0m\u001b[1;33m(\u001b[0m\u001b[0mx\u001b[0m\u001b[1;33m)\u001b[0m\u001b[1;33m:\u001b[0m\u001b[1;33m\u001b[0m\u001b[1;33m\u001b[0m\u001b[0m\n\u001b[0;32m      2\u001b[0m     \u001b[1;32mdef\u001b[0m \u001b[0mincrement\u001b[0m\u001b[1;33m(\u001b[0m\u001b[1;33m)\u001b[0m\u001b[1;33m:\u001b[0m\u001b[1;33m\u001b[0m\u001b[1;33m\u001b[0m\u001b[0m\n\u001b[1;32m----> 3\u001b[1;33m         \u001b[0mx\u001b[0m \u001b[1;33m=\u001b[0m \u001b[0mx\u001b[0m \u001b[1;33m+\u001b[0m \u001b[1;36m1\u001b[0m\u001b[1;33m\u001b[0m\u001b[1;33m\u001b[0m\u001b[0m\n\u001b[0m\u001b[0;32m      4\u001b[0m         \u001b[0mprint\u001b[0m\u001b[1;33m(\u001b[0m\u001b[0mx\u001b[0m\u001b[1;33m)\u001b[0m\u001b[1;33m\u001b[0m\u001b[1;33m\u001b[0m\u001b[0m\n\u001b[0;32m      5\u001b[0m \u001b[1;33m\u001b[0m\u001b[0m\n",
      "\u001b[1;31mUnboundLocalError\u001b[0m: local variable 'x' referenced before assignment"
     ]
    }
   ],
   "source": [
    "def count(x):\n",
    "    def increment():\n",
    "        x = x + 1\n",
    "        print(x)\n",
    "        \n",
    "    increment()\n",
    "    \n",
    "count(5)\n",
    "\n",
    "# UnboundLocalError: local variable 'x' referenced before assignment"
   ]
  },
  {
   "cell_type": "markdown",
   "metadata": {},
   "source": [
    "#### Quiz"
   ]
  },
  {
   "cell_type": "code",
   "execution_count": 19,
   "metadata": {},
   "outputs": [
    {
     "name": "stdout",
     "output_type": "stream",
     "text": [
      "1000\n",
      "1000\n",
      "1000\n"
     ]
    }
   ],
   "source": [
    "# Quiz : 화면에는 무엇이 찍히겠는가\n",
    "# 실행하기 전에 맞추어 보자.\n",
    "\n",
    "z = 3\n",
    "\n",
    "def outer(x):\n",
    "    y = 10\n",
    "    def inner():\n",
    "        x = 1000\n",
    "        return x\n",
    "\n",
    "    return inner()\n",
    "\n",
    "\n",
    "print(outer(1))\n",
    "print(outer(10))\n",
    "print(outer(100))"
   ]
  },
  {
   "cell_type": "markdown",
   "metadata": {},
   "source": [
    "## nonlocal\n",
    "현재 함수의 바깥쪽에 있는 지역변수의 값을 '변경' 하려면 nonlocal 키워드 사용해야 한다"
   ]
  },
  {
   "cell_type": "code",
   "execution_count": 21,
   "metadata": {},
   "outputs": [
    {
     "name": "stdout",
     "output_type": "stream",
     "text": [
      "20\n"
     ]
    }
   ],
   "source": [
    "def A():\n",
    "    x = 10    \n",
    "    def B():\n",
    "        nonlocal x   # x는 B 의 local 이 아닌 바깥족의 local 을 사용\n",
    "        x = 20 \n",
    "               \n",
    "    B()\n",
    "    print(x)   \n",
    "    \n",
    "A()"
   ]
  },
  {
   "cell_type": "markdown",
   "metadata": {},
   "source": [
    "#### nonlocal 이 변수를 찾는 순서"
   ]
  },
  {
   "cell_type": "code",
   "execution_count": 24,
   "metadata": {},
   "outputs": [
    {
     "name": "stdout",
     "output_type": "stream",
     "text": [
      "C() x = 50\n",
      "C() y = 400\n",
      "B() x = 50\n",
      "B() y = 400\n",
      "A() x = 10\n",
      "A() y = 400\n"
     ]
    }
   ],
   "source": [
    "def A():\n",
    "    x = 10\n",
    "    y = 100\n",
    "    def B():\n",
    "        x = 20\n",
    "        def C():\n",
    "            nonlocal x\n",
    "            nonlocal y\n",
    "            x = x + 30\n",
    "            y = y + 300\n",
    "            print('C() x =', x)\n",
    "            print('C() y =', y)\n",
    "            \n",
    "        C() \n",
    "        print('B() x =', x)\n",
    "        print('B() y =', y)        \n",
    "    B()\n",
    "    print('A() x =', x)\n",
    "    print('A() y =', y)        \n",
    "A()\n",
    "    "
   ]
  },
  {
   "cell_type": "markdown",
   "metadata": {},
   "source": [
    "### global 전역변수 사용\n",
    "inner function이 몇단계이든 상관없이 global 키워드는 무조건 전역변수 사용!"
   ]
  },
  {
   "cell_type": "code",
   "execution_count": 27,
   "metadata": {},
   "outputs": [
    {
     "name": "stdout",
     "output_type": "stream",
     "text": [
      "31\n",
      "31\n"
     ]
    }
   ],
   "source": [
    "x = 1\n",
    "def A():\n",
    "    x = 10\n",
    "    def B():\n",
    "        x = 20\n",
    "        def C():\n",
    "#             nonlocal x\n",
    "            global x\n",
    "            x = x + 30\n",
    "            print(x)\n",
    "        C()\n",
    "    B()\n",
    "A()\n",
    "\n",
    "print(x)\n"
   ]
  },
  {
   "cell_type": "code",
   "execution_count": 28,
   "metadata": {},
   "outputs": [],
   "source": [
    "# 파이썬에서 global을 제공하지만 \n",
    "# 함수에서 값을 주고받을 때는 매개변수와 반환값을 사용하는 것이 좋습니다. \n",
    "# 특히 전역 변수는 코드가 복잡해졌을 때 변수의 값을 어디서 바꾸는지 알기가 힘듭니다. \n",
    "# 따라서 전역 변수는 가급적이면 사용하지 않는 것을 권장합니다."
   ]
  },
  {
   "cell_type": "code",
   "execution_count": null,
   "metadata": {},
   "outputs": [],
   "source": []
  },
  {
   "cell_type": "markdown",
   "metadata": {},
   "source": [
    "---\n",
    "# Closure (클로저)"
   ]
  },
  {
   "cell_type": "code",
   "execution_count": 32,
   "metadata": {},
   "outputs": [
    {
     "name": "stdout",
     "output_type": "stream",
     "text": [
      "8 11 14 17 20\n"
     ]
    }
   ],
   "source": [
    "def calc():\n",
    "    a = 3\n",
    "    b = 5\n",
    "    \n",
    "    def mul_add(x):\n",
    "        return a * x + b  # 함수 바깥쪽에 있는 지역변수 a, b 를 사용하여 계산\n",
    "    \n",
    "    return mul_add   # 내부에서 만든 mul_add 함수를 리턴\n",
    "\n",
    "c = calc()\n",
    "    \n",
    "print(c(1), c(2), c(3), c(4), c(5))\n",
    "\n",
    "# print(a)"
   ]
  },
  {
   "cell_type": "markdown",
   "metadata": {},
   "source": [
    "## closure 란?\n",
    "잘 보면 함수 calc가 끝났는데도 c는 calc의 지역 변수 a, b를 사용해서 계산을 하고 있습니다. <br>\n",
    "`이와같이 함수를 둘러싼 환경(지역 변수, 코드 등)을 계속 유지하다가, <br>\n",
    "함수를 호출할 때 다시 꺼내서 사용하는 함수를 **클로저(closure)**라고 합니다. `<br>\n",
    "여기서는 c에 저장된 함수가 클로저입니다.\n",
    "\n",
    "**‘자신을 둘러싼 스코프(네임스페이스)의 상태값을 기억하는 함수’**\n",
    "\n",
    "![](https://dojang.io/pluginfile.php/13868/mod_page/content/3/033004.png)\n",
    "\n",
    "\n",
    "#### 어떤 함수가 클로저 이기 위한 조건\n",
    "1. 해당 함수는 어떤 함수 내의 중첩된 함수여야 한다.\n",
    "1. 해당 함수는 자신을 둘러싼(enclose) 함수 내의 상태값을 반드시 참조해야 한다.\n",
    "1. 해당 함수를 둘러싼 함수는 이 함수를 반환해야 한다."
   ]
  },
  {
   "cell_type": "markdown",
   "metadata": {},
   "source": [
    "### lambda 로 클로저 만들기\n",
    "람다를 사용하면 클로저를 좀 더 간편하게 만들 수 있습니다."
   ]
  },
  {
   "cell_type": "code",
   "execution_count": 33,
   "metadata": {},
   "outputs": [
    {
     "name": "stdout",
     "output_type": "stream",
     "text": [
      "8 11 14 17 20\n"
     ]
    }
   ],
   "source": [
    "def calc():\n",
    "    a = 3\n",
    "    b = 5\n",
    "    return lambda x : a * x + b   # 람다표현식을 리턴\n",
    "\n",
    "c = calc()\n",
    "print(c(1), c(2), c(3), c(4), c(5))"
   ]
  },
  {
   "cell_type": "markdown",
   "metadata": {},
   "source": [
    "### 클로저에서 지역변수 변경(수정)하기\n",
    "클로저의 지역변수를 변경하고 싶다면 **nonlocal** 을 사용하면 된다."
   ]
  },
  {
   "cell_type": "code",
   "execution_count": 39,
   "metadata": {},
   "outputs": [
    {
     "name": "stdout",
     "output_type": "stream",
     "text": [
      "prev total 0\n",
      "after total 8\n",
      "prev total 8\n",
      "after total 19\n",
      "prev total 19\n",
      "after total 33\n"
     ]
    }
   ],
   "source": [
    "def calc():\n",
    "    a = 3 \n",
    "    b = 5\n",
    "    total = 0\n",
    "    \n",
    "    def mul_add(x):\n",
    "        nonlocal total\n",
    "        print('prev total', total)\n",
    "        total = total + a * x + b\n",
    "        print('after total', total)\n",
    "        \n",
    "    return mul_add\n",
    "\n",
    "c = calc()\n",
    "c(1)\n",
    "c(2)\n",
    "c(3)"
   ]
  },
  {
   "cell_type": "markdown",
   "metadata": {},
   "source": [
    "# 연습 : 호출 횟수를 세는 함수 만들기"
   ]
  },
  {
   "cell_type": "code",
   "execution_count": 40,
   "metadata": {},
   "outputs": [
    {
     "name": "stdout",
     "output_type": "stream",
     "text": [
      "1 2 3 4 5 6 7 8 9 10 "
     ]
    }
   ],
   "source": [
    "def counter():\n",
    "    i = 0\n",
    "    def count():\n",
    "        nonlocal i;\n",
    "        i += 1\n",
    "        return i\n",
    "        \n",
    "    return count;\n",
    "\n",
    "c = counter()\n",
    "for i in range(10):\n",
    "    print(c(), end=' ')\n",
    "    \n",
    "# [결과]    \n",
    "# 1 2 3 4 5 6 7 8 9 10 "
   ]
  },
  {
   "cell_type": "markdown",
   "metadata": {},
   "source": [
    "## 클로저의 사용이유\n",
    "1. 관리와 책임을 명확히 할 수 있고\n",
    "1. 각 변수가 섞여 불필요한 충돌을 방지할 수 있으며\n",
    "1. 사용환경(context)에 맞게 임의대로 내부구조를 조정할 수 있다."
   ]
  },
  {
   "cell_type": "code",
   "execution_count": null,
   "metadata": {},
   "outputs": [],
   "source": []
  },
  {
   "cell_type": "code",
   "execution_count": null,
   "metadata": {},
   "outputs": [],
   "source": []
  },
  {
   "cell_type": "code",
   "execution_count": null,
   "metadata": {},
   "outputs": [],
   "source": []
  },
  {
   "cell_type": "code",
   "execution_count": null,
   "metadata": {},
   "outputs": [],
   "source": []
  },
  {
   "cell_type": "code",
   "execution_count": null,
   "metadata": {},
   "outputs": [],
   "source": []
  },
  {
   "cell_type": "code",
   "execution_count": null,
   "metadata": {},
   "outputs": [],
   "source": []
  }
 ],
 "metadata": {
  "kernelspec": {
   "display_name": "Python 3",
   "language": "python",
   "name": "python3"
  },
  "language_info": {
   "codemirror_mode": {
    "name": "ipython",
    "version": 3
   },
   "file_extension": ".py",
   "mimetype": "text/x-python",
   "name": "python",
   "nbconvert_exporter": "python",
   "pygments_lexer": "ipython3",
   "version": "3.8.5"
  }
 },
 "nbformat": 4,
 "nbformat_minor": 4
}
