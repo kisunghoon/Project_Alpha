{
 "cells": [
  {
   "cell_type": "markdown",
   "metadata": {},
   "source": [
    "# 파이썬의 내장 자료형 (Built-in Types)\n",
    "\n",
    "https://docs.python.org/3/library/stdtypes.html\n",
    "\n",
    "1. 파이썬은 동적 자료형 지원 : 변수 타입 지정 안함\n",
    "1. 내장 자료형 분류:\n",
    "    1. 데이터 저장 방식 : 직접 표현, 시퀀스, 매핑\n",
    "    1. mutable (변경가능) / immutable (변경 불가)\n",
    "    1. 저장개수 : literal(한개), container(여러개 저장)\n"
   ]
  },
  {
   "cell_type": "markdown",
   "metadata": {},
   "source": [
    "# 수치자료형\n",
    "1. **int** : 정수형, 소숫점 없다. 형변환함수 int()\n",
    "2. **float** : 실수형, 소숫점 있다. 형변환함수 float()\n",
    "3. **complex** : 복소수."
   ]
  },
  {
   "cell_type": "markdown",
   "metadata": {},
   "source": [
    "# 문자열 자료형\n",
    "1. **str** : 문자열,  \" ~ \", ' ~ ', \"\"\" ~ \"\"\", ... f-string 등. 형변환함수 str()\n",
    "2. 문자열은 '시퀀스 자료형' : 인덱스, 슬라이싱 가능"
   ]
  },
  {
   "cell_type": "markdown",
   "metadata": {},
   "source": [
    "# 집합 자료형\n",
    "1. list\n",
    "1. set\n",
    "1. tuple\n",
    "1. dict"
   ]
  },
  {
   "cell_type": "code",
   "execution_count": null,
   "metadata": {},
   "outputs": [],
   "source": []
  },
  {
   "cell_type": "code",
   "execution_count": null,
   "metadata": {},
   "outputs": [],
   "source": []
  },
  {
   "cell_type": "code",
   "execution_count": null,
   "metadata": {},
   "outputs": [],
   "source": []
  },
  {
   "cell_type": "code",
   "execution_count": null,
   "metadata": {},
   "outputs": [],
   "source": []
  },
  {
   "cell_type": "code",
   "execution_count": null,
   "metadata": {},
   "outputs": [],
   "source": []
  },
  {
   "cell_type": "code",
   "execution_count": null,
   "metadata": {},
   "outputs": [],
   "source": []
  },
  {
   "cell_type": "code",
   "execution_count": null,
   "metadata": {},
   "outputs": [],
   "source": []
  }
 ],
 "metadata": {
  "kernelspec": {
   "display_name": "Python 3",
   "language": "python",
   "name": "python3"
  },
  "language_info": {
   "codemirror_mode": {
    "name": "ipython",
    "version": 3
   },
   "file_extension": ".py",
   "mimetype": "text/x-python",
   "name": "python",
   "nbconvert_exporter": "python",
   "pygments_lexer": "ipython3",
   "version": "3.8.5"
  }
 },
 "nbformat": 4,
 "nbformat_minor": 4
}
