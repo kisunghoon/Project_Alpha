{
 "cells": [
  {
   "cell_type": "code",
   "execution_count": 1,
   "metadata": {},
   "outputs": [],
   "source": [
    "# ■서울시 지하철 역사 정보\n",
    "# http://data.seoul.go.kr/dataList/datasetView.do?infId=OA-12753&srvType=A&serviceKind=1&currentPageNo=1\n",
    "\n",
    "# 샘플url\n",
    "\n",
    "# XML 버젼\n",
    "# http://swopenAPI.seoul.go.kr/api/subway/키값넣으세요/xml/stationInfo/0/5/서울\n",
    "# 예] http://swopenAPI.seoul.go.kr/api/subway/4d46796d7366726f3833774a774955/xml/stationInfo/0/5/서울\n",
    "\n",
    "# JSON 버젼\n",
    "# http://swopenAPI.seoul.go.kr/api/subway/키값넣으세요/json/stationInfo/0/5/서울\n",
    "# 예] http://swopenAPI.seoul.go.kr/api/subway/4d46796d7366726f3833774a774955/json/stationInfo/0/5/서울 \n"
   ]
  },
  {
   "cell_type": "code",
   "execution_count": null,
   "metadata": {},
   "outputs": [],
   "source": [
    "\"\"\" 결과예시\n",
    "[['서울', '1065', '공항철도', 'Seoul Station'],\n",
    " ['서울', '1063', '경의중앙선', 'Seoul Station'],\n",
    " ['서울', '1004', '4호선', 'Seoul Station'],\n",
    " ['서울', '1001', '1호선', 'Seoul Station']]\n",
    "\"\"\"\n",
    "None"
   ]
  },
  {
   "cell_type": "code",
   "execution_count": 2,
   "metadata": {},
   "outputs": [],
   "source": [
    "import requests\n",
    "from bs4 import BeautifulSoup"
   ]
  },
  {
   "cell_type": "code",
   "execution_count": 3,
   "metadata": {},
   "outputs": [],
   "source": [
    "api_key = \"4d46796d7366726f3833774a774955\"\n",
    "url_format = \"http://swopenAPI.seoul.go.kr/api/subway/4d46796d7366726f3833774a774955/{reqType}/stationInfo/{startIndex}/{endIndex}/{stationName}\""
   ]
  },
  {
   "cell_type": "markdown",
   "metadata": {},
   "source": [
    "# JSON"
   ]
  },
  {
   "cell_type": "code",
   "execution_count": 7,
   "metadata": {},
   "outputs": [
    {
     "data": {
      "text/plain": [
       "[['서울', '1065', '공항철도', 'Seoul Station'],\n",
       " ['서울', '1063', '경의중앙선', 'Seoul Station'],\n",
       " ['서울', '1004', '4호선', 'Seoul Station'],\n",
       " ['서울', '1001', '1호선', 'Seoul Station']]"
      ]
     },
     "execution_count": 7,
     "metadata": {},
     "output_type": "execute_result"
    }
   ],
   "source": [
    "import requests\n",
    "from bs4 import BeautifulSoup\n",
    "api_key = \"4d46796d7366726f3833774a774955\"\n",
    "url_format = \"http://swopenAPI.seoul.go.kr/api/subway/4d46796d7366726f3833774a774955/{reqType}/stationInfo/{startIndex}/{endIndex}/{stationName}\"\n",
    "\n",
    "reqType = \"json\"\n",
    "startIndex = 1\n",
    "endIndex = 5\n",
    "statsionName = \"서울\"\n",
    "\n",
    "url = url_format.format(reqType = reqType, startIndex = startIndex, \n",
    "                        endIndex = endIndex, stationName = \"서울\")\n",
    "response = requests.get(url)\n",
    "data = response.json()\n",
    "items = data[\"stationList\"]\n",
    "\n",
    "result = [\n",
    "    [\n",
    "        item['statnNm'],\n",
    "        item['subwayId'],\n",
    "        item['subwayNm'],\n",
    "        item['statnNmEng']\n",
    "    ]\n",
    "    for item in items\n",
    "]   \n",
    "\n",
    "\n",
    "result "
   ]
  },
  {
   "cell_type": "markdown",
   "metadata": {},
   "source": [
    "# XML"
   ]
  },
  {
   "cell_type": "code",
   "execution_count": 6,
   "metadata": {},
   "outputs": [
    {
     "data": {
      "text/plain": [
       "[['서울', '1065', '공항철도', 'Seoul Station'],\n",
       " ['서울', '1063', '경의중앙선', 'Seoul Station'],\n",
       " ['서울', '1004', '4호선', 'Seoul Station'],\n",
       " ['서울', '1001', '1호선', 'Seoul Station']]"
      ]
     },
     "execution_count": 6,
     "metadata": {},
     "output_type": "execute_result"
    }
   ],
   "source": [
    "import requests\n",
    "from bs4 import BeautifulSoup\n",
    "api_key = \"4d46796d7366726f3833774a774955\"\n",
    "url_format = \"http://swopenAPI.seoul.go.kr/api/subway/4d46796d7366726f3833774a774955/{reqType}/stationInfo/{startIndex}/{endIndex}/{stationName}\"\n",
    "\n",
    "reqType = \"xml\"\n",
    "startIndex = 1\n",
    "endIndex = 5\n",
    "statsionName = \"서울\"\n",
    "\n",
    "url = url_format.format(reqType = reqType, startIndex = startIndex, \n",
    "                        endIndex = endIndex, stationName = \"서울\")\n",
    "response = requests.get(url)\n",
    "data = BeautifulSoup(response.text, \"lxml-xml\")\n",
    "items = data.select(\"row\")\n",
    "\n",
    "result = [\n",
    "    [\n",
    "        item.select_one(\"statnNm\").text.strip(),\n",
    "        item.select_one(\"subwayId\").text.strip(),\n",
    "        item.select_one(\"subwayNm\").text.strip(),\n",
    "        item.select_one(\"statnNmEng\").text.strip()\n",
    "    ]\n",
    "    for item in items\n",
    "]   \n",
    "\n",
    "\n",
    "result "
   ]
  },
  {
   "cell_type": "code",
   "execution_count": null,
   "metadata": {},
   "outputs": [],
   "source": []
  },
  {
   "cell_type": "code",
   "execution_count": null,
   "metadata": {},
   "outputs": [],
   "source": []
  },
  {
   "cell_type": "code",
   "execution_count": null,
   "metadata": {},
   "outputs": [],
   "source": []
  },
  {
   "cell_type": "code",
   "execution_count": null,
   "metadata": {},
   "outputs": [],
   "source": []
  },
  {
   "cell_type": "code",
   "execution_count": null,
   "metadata": {},
   "outputs": [],
   "source": []
  },
  {
   "cell_type": "code",
   "execution_count": null,
   "metadata": {},
   "outputs": [],
   "source": []
  },
  {
   "cell_type": "code",
   "execution_count": null,
   "metadata": {},
   "outputs": [],
   "source": []
  },
  {
   "cell_type": "code",
   "execution_count": null,
   "metadata": {},
   "outputs": [],
   "source": []
  },
  {
   "cell_type": "code",
   "execution_count": null,
   "metadata": {},
   "outputs": [],
   "source": []
  }
 ],
 "metadata": {
  "kernelspec": {
   "display_name": "Python 3",
   "language": "python",
   "name": "python3"
  },
  "language_info": {
   "codemirror_mode": {
    "name": "ipython",
    "version": 3
   },
   "file_extension": ".py",
   "mimetype": "text/x-python",
   "name": "python",
   "nbconvert_exporter": "python",
   "pygments_lexer": "ipython3",
   "version": "3.8.5"
  }
 },
 "nbformat": 4,
 "nbformat_minor": 4
}
