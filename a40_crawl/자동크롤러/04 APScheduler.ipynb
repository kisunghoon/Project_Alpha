{
 "cells": [
  {
   "cell_type": "markdown",
   "metadata": {},
   "source": [
    "# APScheduler\n",
    "- Advanced Python Scheduler \n",
    "- 파이썬 코드를 주기적으로 수행할 수 있도록 도와주는 외부 모듈\n",
    "- MongoDB, Redis 등의 백엔드와 함께 사용가능 (디폴트는 Memory)\n",
    "    - 작업을 DB 에 저장한 뒤 불러와서 사용 가능\n",
    "- asyncio, gevent 등 여러가지 프레임워크와 연동 지원\n",
    "- 설치 > pip install apscheduler \n",
    "\n",
    "- https://apscheduler.readthedocs.io/en/stable/"
   ]
  },
  {
   "cell_type": "markdown",
   "metadata": {},
   "source": [
    "- 'scheduler' 모듈 과는 다르게 작업의 기간, 일시 정지, 다시 시작, 삭제 등 여러가지 조건에 따라 스케쥴링 가능\n",
    "\n",
    "- 3가지 수행 방식 지원\n",
    "    - Cron 방식 : Cron 표현식으로 코드를 수행\n",
    "    - Date 방식 : 특정 날짜에 코드를 수행\n",
    "    - Interval 방식 : 일정 주기로 코드를 수행\n",
    "    \n",
    "- 스케쥴러의 종류\n",
    "    1. BlockingScheduler : 단일 작업 수행시 사용\n",
    "    1. BackgroundScheduler : 다수 작업 수행 시 사용\n",
    "    1. AsyncIOScheduler, GeventScheduler ... : 각 프레임워크 내 작업 수행 시 사용"
   ]
  },
  {
   "cell_type": "code",
   "execution_count": null,
   "metadata": {},
   "outputs": [],
   "source": [
    "# 스케쥴러 객체 생성 \n",
    "#   -> add_job() 함수 추가해 작업 예약 \n",
    "#      -> start() 함수로 스케쥴러 시작"
   ]
  },
  {
   "cell_type": "code",
   "execution_count": 1,
   "metadata": {},
   "outputs": [],
   "source": [
    "from apscheduler.schedulers.background import BackgroundScheduler\n",
    "import time"
   ]
  },
  {
   "cell_type": "code",
   "execution_count": 2,
   "metadata": {},
   "outputs": [],
   "source": [
    "sched = BackgroundScheduler()"
   ]
  },
  {
   "cell_type": "code",
   "execution_count": 3,
   "metadata": {},
   "outputs": [],
   "source": [
    "def job():\n",
    "    print(\"I'm working\", time.strftime('%Y-%m-%d %H:%M:%S', time.localtime()))"
   ]
  },
  {
   "cell_type": "code",
   "execution_count": 4,
   "metadata": {},
   "outputs": [
    {
     "name": "stdout",
     "output_type": "stream",
     "text": [
      "I'm working 2021-05-31 11:32:43\n"
     ]
    }
   ],
   "source": [
    "job()"
   ]
  },
  {
   "cell_type": "code",
   "execution_count": 5,
   "metadata": {},
   "outputs": [
    {
     "data": {
      "text/plain": [
       "<Job (id=1 name=job)>"
      ]
     },
     "execution_count": 5,
     "metadata": {},
     "output_type": "execute_result"
    }
   ],
   "source": [
    "sched.add_job(job, 'interval', seconds=3, id='1')"
   ]
  },
  {
   "cell_type": "code",
   "execution_count": 6,
   "metadata": {},
   "outputs": [
    {
     "name": "stdout",
     "output_type": "stream",
     "text": [
      "I'm working 2021-05-31 11:34:11\n",
      "I'm working 2021-05-31 11:34:14\n",
      "I'm working 2021-05-31 11:34:17\n",
      "I'm working 2021-05-31 11:34:20\n",
      "I'm working 2021-05-31 11:34:23\n",
      "I'm working 2021-05-31 11:34:26\n",
      "I'm working 2021-05-31 11:34:29\n",
      "I'm working 2021-05-31 11:34:32\n",
      "I'm working 2021-05-31 11:34:35\n",
      "I'm working 2021-05-31 11:34:38\n",
      "I'm working 2021-05-31 11:34:41\n"
     ]
    }
   ],
   "source": [
    "sched.start()"
   ]
  },
  {
   "cell_type": "code",
   "execution_count": 7,
   "metadata": {
    "scrolled": false
   },
   "outputs": [
    {
     "name": "stdout",
     "output_type": "stream",
     "text": [
      "hello\n",
      "I'm working 2021-05-31 11:34:44\n",
      "I'm working 2021-05-31 11:34:47\n",
      "I'm working 2021-05-31 11:34:50\n",
      "I'm working 2021-05-31 11:34:53\n",
      "I'm working 2021-05-31 11:34:56\n",
      "I'm working 2021-05-31 11:34:59\n",
      "I'm working 2021-05-31 11:35:02\n",
      "I'm working 2021-05-31 11:35:05\n",
      "I'm working 2021-05-31 11:35:08\n",
      "I'm working 2021-05-31 11:35:11\n",
      "I'm working 2021-05-31 11:35:14\n",
      "I'm working 2021-05-31 11:35:17\n"
     ]
    }
   ],
   "source": [
    "print('hello')"
   ]
  },
  {
   "cell_type": "code",
   "execution_count": null,
   "metadata": {},
   "outputs": [],
   "source": []
  },
  {
   "cell_type": "code",
   "execution_count": null,
   "metadata": {},
   "outputs": [],
   "source": []
  },
  {
   "cell_type": "code",
   "execution_count": null,
   "metadata": {},
   "outputs": [],
   "source": []
  },
  {
   "cell_type": "code",
   "execution_count": null,
   "metadata": {},
   "outputs": [],
   "source": []
  },
  {
   "cell_type": "code",
   "execution_count": null,
   "metadata": {},
   "outputs": [],
   "source": []
  },
  {
   "cell_type": "code",
   "execution_count": null,
   "metadata": {},
   "outputs": [],
   "source": []
  },
  {
   "cell_type": "code",
   "execution_count": null,
   "metadata": {},
   "outputs": [],
   "source": []
  },
  {
   "cell_type": "code",
   "execution_count": null,
   "metadata": {},
   "outputs": [],
   "source": []
  },
  {
   "cell_type": "code",
   "execution_count": null,
   "metadata": {},
   "outputs": [],
   "source": []
  },
  {
   "cell_type": "code",
   "execution_count": null,
   "metadata": {},
   "outputs": [],
   "source": []
  },
  {
   "cell_type": "code",
   "execution_count": null,
   "metadata": {},
   "outputs": [],
   "source": []
  },
  {
   "cell_type": "code",
   "execution_count": null,
   "metadata": {},
   "outputs": [],
   "source": []
  },
  {
   "cell_type": "code",
   "execution_count": null,
   "metadata": {},
   "outputs": [],
   "source": []
  },
  {
   "cell_type": "code",
   "execution_count": null,
   "metadata": {},
   "outputs": [],
   "source": []
  },
  {
   "cell_type": "code",
   "execution_count": null,
   "metadata": {},
   "outputs": [],
   "source": []
  },
  {
   "cell_type": "code",
   "execution_count": null,
   "metadata": {},
   "outputs": [],
   "source": []
  },
  {
   "cell_type": "code",
   "execution_count": null,
   "metadata": {},
   "outputs": [],
   "source": []
  }
 ],
 "metadata": {
  "kernelspec": {
   "display_name": "Python 3",
   "language": "python",
   "name": "python3"
  },
  "language_info": {
   "codemirror_mode": {
    "name": "ipython",
    "version": 3
   },
   "file_extension": ".py",
   "mimetype": "text/x-python",
   "name": "python",
   "nbconvert_exporter": "python",
   "pygments_lexer": "ipython3",
   "version": "3.8.5"
  }
 },
 "nbformat": 4,
 "nbformat_minor": 4
}
