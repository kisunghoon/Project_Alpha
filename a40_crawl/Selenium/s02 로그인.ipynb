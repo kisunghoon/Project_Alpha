{
 "cells": [
  {
   "cell_type": "markdown",
   "metadata": {},
   "source": [
    "# Facebook 로그인"
   ]
  },
  {
   "cell_type": "code",
   "execution_count": 1,
   "metadata": {},
   "outputs": [],
   "source": [
    "from selenium import webdriver"
   ]
  },
  {
   "cell_type": "code",
   "execution_count": 35,
   "metadata": {},
   "outputs": [],
   "source": [
    "driver_path = r'D:\\DevRoot\\dataset\\bin\\chromedriver.exe'\n",
    "driver = webdriver.Chrome(driver_path)"
   ]
  },
  {
   "cell_type": "code",
   "execution_count": 3,
   "metadata": {},
   "outputs": [],
   "source": [
    "driver.get('http://facebook.com')"
   ]
  },
  {
   "cell_type": "code",
   "execution_count": 8,
   "metadata": {},
   "outputs": [],
   "source": [
    "driver.find_element_by_css_selector('#email').clear()  # 기존에 입력된것 지우기"
   ]
  },
  {
   "cell_type": "code",
   "execution_count": 9,
   "metadata": {},
   "outputs": [],
   "source": [
    "driver.find_element_by_css_selector('#email').send_keys('happy') # 해당 입력 element 에 입력"
   ]
  },
  {
   "cell_type": "code",
   "execution_count": 10,
   "metadata": {},
   "outputs": [],
   "source": [
    "driver.find_element_by_id('pass').send_keys('happy2021')"
   ]
  },
  {
   "cell_type": "code",
   "execution_count": 12,
   "metadata": {},
   "outputs": [],
   "source": [
    "# [로그인] 버튼 클릭\n",
    "driver.find_element_by_name('login').click()  # 해당 element 클릭"
   ]
  },
  {
   "cell_type": "code",
   "execution_count": 13,
   "metadata": {},
   "outputs": [],
   "source": [
    "driver.get('http://facebook.com')\n",
    "driver.find_element_by_css_selector('#email').clear() \n",
    "driver.find_element_by_css_selector('#pass').clear() \n",
    "driver.find_element_by_css_selector(\"#email\").send_keys(\"너의 아이디\")\n",
    "driver.find_element_by_css_selector(\"#pass\").send_keys(\"너의 패스워드\")\n",
    "driver.find_element_by_name('login').click() "
   ]
  },
  {
   "cell_type": "code",
   "execution_count": null,
   "metadata": {},
   "outputs": [],
   "source": [
    "# 일반적으로 로그인 등을 할때 굳이 [로그인] 버튼을 누르지 않는다\n",
    "# 'ENTER' 를 눌러도 로그인이 되도록 동작한다\n",
    "# Selenium 은 이와 같은 사용자 입력에 대한 Key 정의가 되어 있다."
   ]
  },
  {
   "cell_type": "code",
   "execution_count": 14,
   "metadata": {},
   "outputs": [],
   "source": [
    "# 브라우저에 입력한 사용자 Key\n",
    "from selenium.webdriver.common.keys import Keys"
   ]
  },
  {
   "cell_type": "markdown",
   "metadata": {},
   "source": [
    "### 특수키 입력\n",
    "- from selenium.webdriver.common.keys import Keys\n",
    "- **Keys.특수키**   로 사용 가능<br>\n",
    "    ARROW_DOWN, ARROW_LEFT, ARROW_RIGHT, ARROW_UP<br>\n",
    "    BACKSPACE, DELETE, HOME, END, INSERT, ALT, COMMAND, CONTROL, SHIFT, ENTER,<br>\n",
    "    ESCAPE, SPACE, TAB, F1, F2 ... F12\n",
    "    \n",
    "    - https://www.w3.org/TR/webdriver/#keyboard-actions <- WebDriver 가 지원하는 키입력들"
   ]
  },
  {
   "cell_type": "code",
   "execution_count": 15,
   "metadata": {},
   "outputs": [
    {
     "data": {
      "text/plain": [
       "'\\ue007'"
      ]
     },
     "execution_count": 15,
     "metadata": {},
     "output_type": "execute_result"
    }
   ],
   "source": [
    "Keys.ENTER"
   ]
  },
  {
   "cell_type": "code",
   "execution_count": 16,
   "metadata": {},
   "outputs": [
    {
     "data": {
      "text/plain": [
       "'\\ue006'"
      ]
     },
     "execution_count": 16,
     "metadata": {},
     "output_type": "execute_result"
    }
   ],
   "source": [
    "Keys.RETURN"
   ]
  },
  {
   "cell_type": "code",
   "execution_count": 17,
   "metadata": {},
   "outputs": [],
   "source": [
    "driver.get('http://facebook.com')\n",
    "driver.find_element_by_css_selector('#email').clear() \n",
    "driver.find_element_by_css_selector('#pass').clear() \n",
    "driver.find_element_by_css_selector(\"#email\").send_keys(\"너의 아이디\")\n",
    "driver.find_element_by_css_selector(\"#pass\").send_keys(\"너의 비번\")\n",
    "driver.find_element_by_css_selector(\"#pass\").send_keys(Keys.ENTER)  # ENTER 키 입력"
   ]
  },
  {
   "cell_type": "code",
   "execution_count": 18,
   "metadata": {},
   "outputs": [
    {
     "data": {
      "text/plain": [
       "<selenium.webdriver.remote.webelement.WebElement (session=\"175c171f9545962c48cc87981c24596a\", element=\"0a4a9456-51f4-4b31-b6bf-26745b14fe4f\")>"
      ]
     },
     "execution_count": 18,
     "metadata": {},
     "output_type": "execute_result"
    }
   ],
   "source": [
    "# 페이스북 검색\n",
    "driver.find_element_by_name('global_typeahead')"
   ]
  },
  {
   "cell_type": "code",
   "execution_count": 22,
   "metadata": {},
   "outputs": [],
   "source": [
    "driver.find_element_by_name('global_typeahead').clear()\n",
    "driver.find_element_by_name('global_typeahead').send_keys('Pycon')\n",
    "driver.find_element_by_name('global_typeahead').send_keys(Keys.ENTER)"
   ]
  },
  {
   "cell_type": "code",
   "execution_count": 26,
   "metadata": {},
   "outputs": [],
   "source": [
    "# 요즘은 자동화된 브라우저로 좋아요 클릭이 힘들다...\n",
    "# driver.find_element_by_css_selector('').click()"
   ]
  },
  {
   "cell_type": "code",
   "execution_count": null,
   "metadata": {},
   "outputs": [],
   "source": []
  },
  {
   "cell_type": "markdown",
   "metadata": {},
   "source": [
    "# 네이버 로그인"
   ]
  },
  {
   "cell_type": "code",
   "execution_count": 36,
   "metadata": {},
   "outputs": [],
   "source": [
    "driver.get('https://nid.naver.com/nidlogin.login')"
   ]
  },
  {
   "cell_type": "code",
   "execution_count": 32,
   "metadata": {},
   "outputs": [],
   "source": [
    "driver.find_element_by_css_selector(\"#id\").clear()\n",
    "driver.find_element_by_css_selector(\"#pw\").clear()\n",
    "driver.find_element_by_css_selector(\"#id\").send_keys(\"\")     #★★★  \n",
    "driver.find_element_by_css_selector(\"#pw\").send_keys(\"\")   #★★★  \n",
    "driver.find_element_by_css_selector(\"#pw\").send_keys(Keys.ENTER)"
   ]
  },
  {
   "cell_type": "code",
   "execution_count": 30,
   "metadata": {},
   "outputs": [],
   "source": [
    "driver.find_element_by_css_selector(\".btn_global\").click()"
   ]
  },
  {
   "cell_type": "code",
   "execution_count": 33,
   "metadata": {},
   "outputs": [],
   "source": [
    "driver.find_element_by_css_selector(\"#pw\").send_keys(\"\")   #★★★  \n",
    "driver.find_element_by_css_selector(\"#captcha\").send_keys(\"\")"
   ]
  },
  {
   "cell_type": "code",
   "execution_count": 34,
   "metadata": {},
   "outputs": [],
   "source": [
    "driver.find_element_by_css_selector(\"#captcha\").send_keys(Keys.ENTER)"
   ]
  },
  {
   "cell_type": "markdown",
   "metadata": {},
   "source": [
    "## 로드인 된 상태에서 접근할수 있는 페이지\n",
    "selenium 으로 가능!"
   ]
  },
  {
   "cell_type": "code",
   "execution_count": 37,
   "metadata": {},
   "outputs": [],
   "source": [
    "driver.get('https://mail.naver.com')"
   ]
  },
  {
   "cell_type": "code",
   "execution_count": 39,
   "metadata": {},
   "outputs": [],
   "source": [
    "driver.find_element_by_css_selector('#unreadMailCount').click()"
   ]
  },
  {
   "cell_type": "code",
   "execution_count": 41,
   "metadata": {},
   "outputs": [],
   "source": [
    "elements = driver.find_elements_by_css_selector('ol.mailList .mail_title')"
   ]
  },
  {
   "cell_type": "code",
   "execution_count": 42,
   "metadata": {},
   "outputs": [
    {
     "data": {
      "text/plain": [
       "['(광고) ★923회차 1등 당첨★ 이번 966회차 \"1등\" 당첨을 간절히 바랍니다. 당첨 예상번호 무료이벤트!!',\n",
       " '비밀번호가 변경되었습니다.',\n",
       " '네이버 메일 1차 휴면이 해지되어 메일을 받을 수 있습니다.',\n",
       " '네이버 아이디의 휴면이 해제되었습니다.',\n",
       " '(광고) 개인회생자들을 위한 맞춤형안심대출, 회생중에도 낮은금리로 최대한도까지!!',\n",
       " '(광고) 지난주1등 무료18명!!이번주1등이 만약 당신차례라면? 최적화된 분석, 예상번호 무료이벤트로 기회를 잡으세요.',\n",
       " '(광고) 지난주 11억/18명, 이번주 919회 최적화된 필터링 분석~ 행운의 예상번호 무료로 받기!!',\n",
       " \"(광고) 복잡한 절차는 NO. 쉽고 빠른 '최저금리/최대한도' 비교 맞춤형안심대출로 고민해결OK!!\",\n",
       " '(광고) 1등 당첨의 행운을 간절히 바랍니다!! 이번주 917회 1등예상번호 무료이벤트!!',\n",
       " '(광고)고객재택부업 찾으셨나요? 저희가 도와드리겠습니다.',\n",
       " '(광고)고객재택부업거리 찾으셨나요? 저희가 도와드리겠습니다!',\n",
       " '(광고) 어려운경기로 긴급한 생활자금이 필요할때 바로바로 최대한도 확인, 맞춤형안심대출로 한번에 OK',\n",
       " '(광고) 지난914회차 11명!! 이번엔 당신 차례일지모릅니다. 이번주1등 예상번호 무료이벤트로 기회를 놓치지마세요.',\n",
       " '(광고)고객코로나로 어려워진 경제 재택근무,부업거리 찾으셨나요? 저희가 도와드리겠습니다.',\n",
       " '(광고)재택부업 찾으셨나요 저희가 도와드리겠습니다~!',\n",
       " '(광고) 지난912회차 14명!! 이번엔 당신 차례일지모릅니다. 이번주1등 예상번호 무료이벤트로 기회를 놓치지마세요.',\n",
       " '(광고) 이번주가 1등당첨의 기회!!무료 1등예상번호 이벤트로 기회를 잡아보세요~ 혹시모르잖아요!!',\n",
       " '(광고) 혹시 모르는 행운의 1등!! 예상번호 무료이벤트로 기회를 잡아보세요!!',\n",
       " \"(광고) 생활안정을 위한 '서민안심대출' 맞춤형 최저금리로 최대9천만원까지~\",\n",
       " '(광고) 지금이 기회입니다.!! 지난주1등 7명, 아무도 모르는 이번주 1등!! 예상번호 무료받기!!',\n",
       " '네이버 메일 2차 휴면이 해지되어 메일이 초기화 되었습니다.',\n",
       " '네이버 아이디의 휴면이 해제되었습니다.']"
      ]
     },
     "execution_count": 42,
     "metadata": {},
     "output_type": "execute_result"
    }
   ],
   "source": [
    "[\n",
    "    element.text\n",
    "    for element in elements\n",
    "]"
   ]
  },
  {
   "cell_type": "code",
   "execution_count": null,
   "metadata": {},
   "outputs": [],
   "source": []
  },
  {
   "cell_type": "code",
   "execution_count": null,
   "metadata": {},
   "outputs": [],
   "source": []
  },
  {
   "cell_type": "code",
   "execution_count": null,
   "metadata": {},
   "outputs": [],
   "source": []
  },
  {
   "cell_type": "code",
   "execution_count": null,
   "metadata": {},
   "outputs": [],
   "source": []
  },
  {
   "cell_type": "code",
   "execution_count": null,
   "metadata": {},
   "outputs": [],
   "source": []
  },
  {
   "cell_type": "code",
   "execution_count": null,
   "metadata": {},
   "outputs": [],
   "source": []
  }
 ],
 "metadata": {
  "kernelspec": {
   "display_name": "Python 3",
   "language": "python",
   "name": "python3"
  },
  "language_info": {
   "codemirror_mode": {
    "name": "ipython",
    "version": 3
   },
   "file_extension": ".py",
   "mimetype": "text/x-python",
   "name": "python",
   "nbconvert_exporter": "python",
   "pygments_lexer": "ipython3",
   "version": "3.8.5"
  }
 },
 "nbformat": 4,
 "nbformat_minor": 4
}
