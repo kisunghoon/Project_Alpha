{
 "cells": [
  {
   "cell_type": "markdown",
   "metadata": {},
   "source": [
    "# 중고나라\n",
    "bs4 로는 크롤링 하기 힘들었지만, selenium 으로 손쉽게 가능!"
   ]
  },
  {
   "cell_type": "code",
   "execution_count": 1,
   "metadata": {},
   "outputs": [],
   "source": [
    "from selenium import webdriver\n",
    "from selenium.webdriver.common.keys import Keys\n",
    "\n",
    "from IPython.display import Image"
   ]
  },
  {
   "cell_type": "code",
   "execution_count": 2,
   "metadata": {},
   "outputs": [],
   "source": [
    "driver_path = r'D:\\DevRoot\\dataset\\bin\\chromedriver.exe'\n",
    "driver = webdriver.Chrome(driver_path)"
   ]
  },
  {
   "cell_type": "code",
   "execution_count": 3,
   "metadata": {},
   "outputs": [],
   "source": [
    "driver.get(\"http://cafe.naver.com/joonggonara\")"
   ]
  },
  {
   "cell_type": "markdown",
   "metadata": {},
   "source": [
    "### 검색창 입력"
   ]
  },
  {
   "cell_type": "code",
   "execution_count": 4,
   "metadata": {},
   "outputs": [],
   "source": [
    "driver.find_element_by_css_selector('#topLayerQueryInput').clear()\n",
    "driver.find_element_by_css_selector('#topLayerQueryInput').send_keys('애플')\n",
    "driver.find_element_by_css_selector('#topLayerQueryInput').send_keys(Keys.ENTER)"
   ]
  },
  {
   "cell_type": "markdown",
   "metadata": {},
   "source": [
    "### execute_script()  자바스크립트 함수 수행"
   ]
  },
  {
   "cell_type": "code",
   "execution_count": 5,
   "metadata": {},
   "outputs": [],
   "source": [
    "driver.find_element_by_css_selector('#topLayerQueryInput').clear()\n",
    "driver.find_element_by_css_selector('#topLayerQueryInput').send_keys('LG벨벳')\n",
    "driver.execute_script('searchBoard();')"
   ]
  },
  {
   "cell_type": "code",
   "execution_count": null,
   "metadata": {},
   "outputs": [],
   "source": [
    "#  웹개발에 어느정도 내공이 생기면, JavaScript 로 동작시키는게 더 편하다"
   ]
  },
  {
   "cell_type": "code",
   "execution_count": 6,
   "metadata": {},
   "outputs": [],
   "source": [
    "\"\"\"\n",
    "[{'제목': '[판매] (판매) 023020 자급제 갤럭시S10 5G 실버 256GB 무잔상 25만',\n",
    "  '주소': 'https://cafe.naver.com/ca-fe/ArticleRead.nhn?clubid=10050146&page=1&inCafeSearch=true&searchBy=1&query=%EA%B0%A4%EB%9F%AD%EC%8B%9C&includeAll=&exclude=&include=&exact=&searchdate=all&media=0&sortBy=date&articleid=845359009&referrerAllArticles=true'},\n",
    " {'제목': '[판매] 갤럭시 S9플러스 색상 별로 판매합니다. (좋은물건대량보유중.)',\n",
    "  '주소': 'https://cafe.naver.com/ca-fe/ArticleRead.nhn?clubid=10050146&page=1&inCafeSearch=true&searchBy=1&query=%EA%B0%A4%EB%9F%AD%EC%8B%9C&includeAll=&exclude=&include=&exact=&searchdate=all&media=0&sortBy=date&articleid=845359005&referrerAllArticles=true'},\n",
    " ... \n",
    "]\n",
    "\"\"\"\n",
    "None"
   ]
  },
  {
   "cell_type": "markdown",
   "metadata": {},
   "source": [
    "#### switch_to.frame()  <-- 포커스 이동"
   ]
  },
  {
   "cell_type": "code",
   "execution_count": 8,
   "metadata": {},
   "outputs": [
    {
     "data": {
      "text/plain": [
       "<selenium.webdriver.remote.webelement.WebElement (session=\"59c2a27693fa3feeb71a89b76ae48d6e\", element=\"4ceaba17-61c5-4a68-a0af-7e7885c16688\")>"
      ]
     },
     "execution_count": 8,
     "metadata": {},
     "output_type": "execute_result"
    }
   ],
   "source": [
    "iframe_element = driver.find_element_by_css_selector('#cafe_main')\n",
    "iframe_element"
   ]
  },
  {
   "cell_type": "code",
   "execution_count": 9,
   "metadata": {},
   "outputs": [],
   "source": [
    "# focus 이동\n",
    "driver.switch_to.frame(iframe_element)"
   ]
  },
  {
   "cell_type": "code",
   "execution_count": 11,
   "metadata": {},
   "outputs": [],
   "source": [
    "# 나중에 작업끝나면 빠져나와야 한다\n",
    "# driver.switch_to.default_content()"
   ]
  },
  {
   "cell_type": "code",
   "execution_count": 14,
   "metadata": {},
   "outputs": [
    {
     "data": {
      "text/plain": [
       "15"
      ]
     },
     "execution_count": 14,
     "metadata": {},
     "output_type": "execute_result"
    }
   ],
   "source": [
    "tr_items = driver.find_elements_by_css_selector(\".article-board tr a.article\")\n",
    "len(tr_items)"
   ]
  },
  {
   "cell_type": "code",
   "execution_count": 15,
   "metadata": {},
   "outputs": [
    {
     "data": {
      "text/plain": [
       "'[판매] LG 벨벳 레드 128GB A급 액정교체 미사용 [23만] G900 / KT'"
      ]
     },
     "execution_count": 15,
     "metadata": {},
     "output_type": "execute_result"
    }
   ],
   "source": [
    "tr_items[0].text"
   ]
  },
  {
   "cell_type": "code",
   "execution_count": 16,
   "metadata": {},
   "outputs": [
    {
     "data": {
      "text/plain": [
       "'https://cafe.naver.com/ca-fe/ArticleRead.nhn?clubid=10050146&page=1&inCafeSearch=true&searchBy=1&query=LG%EB%B2%A8%EB%B2%B3&includeAll=&exclude=&include=&exact=&searchdate=all&media=0&sortBy=date&articleid=845426373&referrerAllArticles=true'"
      ]
     },
     "execution_count": 16,
     "metadata": {},
     "output_type": "execute_result"
    }
   ],
   "source": [
    "tr_items[0].get_attribute('href')"
   ]
  },
  {
   "cell_type": "code",
   "execution_count": 17,
   "metadata": {},
   "outputs": [
    {
     "data": {
      "text/plain": [
       "[{'제목': '[판매] LG 벨벳 레드 128GB A급 액정교체 미사용 [23만] G900 / KT',\n",
       "  '주소': 'https://cafe.naver.com/ca-fe/ArticleRead.nhn?clubid=10050146&page=1&inCafeSearch=true&searchBy=1&query=LG%EB%B2%A8%EB%B2%B3&includeAll=&exclude=&include=&exact=&searchdate=all&media=0&sortBy=date&articleid=845426373&referrerAllArticles=true'},\n",
       " {'제목': '[판매][LG]LG 벨벳 128G 블랙 외관 A급 공기계(22만원)',\n",
       "  '주소': 'https://cafe.naver.com/ca-fe/ArticleRead.nhn?clubid=10050146&page=1&inCafeSearch=true&searchBy=1&query=LG%EB%B2%A8%EB%B2%B3&includeAll=&exclude=&include=&exact=&searchdate=all&media=0&sortBy=date&articleid=845425790&referrerAllArticles=true'},\n",
       " {'제목': '[판매] LG 벨벳 블랙 128G S급20년10월개통 24만원판매해요',\n",
       "  '주소': 'https://cafe.naver.com/ca-fe/ArticleRead.nhn?clubid=10050146&page=1&inCafeSearch=true&searchBy=1&query=LG%EB%B2%A8%EB%B2%B3&includeAll=&exclude=&include=&exact=&searchdate=all&media=0&sortBy=date&articleid=845425567&referrerAllArticles=true'},\n",
       " {'제목': 'LG 벨벳 5G 128G 레드 정상해지 공기기 판매 합니다',\n",
       "  '주소': 'https://cafe.naver.com/ca-fe/ArticleRead.nhn?clubid=10050146&page=1&inCafeSearch=true&searchBy=1&query=LG%EB%B2%A8%EB%B2%B3&includeAll=&exclude=&include=&exact=&searchdate=all&media=0&sortBy=date&articleid=845423705&referrerAllArticles=true'},\n",
       " {'제목': '[판매] 대전) LG G9 벨벳 S급 풀박스 128G 공기기 32만원에 팝니다',\n",
       "  '주소': 'https://cafe.naver.com/ca-fe/ArticleRead.nhn?clubid=10050146&page=1&inCafeSearch=true&searchBy=1&query=LG%EB%B2%A8%EB%B2%B3&includeAll=&exclude=&include=&exact=&searchdate=all&media=0&sortBy=date&articleid=845421642&referrerAllArticles=true'},\n",
       " {'제목': '<천안> LG 벨벳 그레이 128기가 / A급',\n",
       "  '주소': 'https://cafe.naver.com/ca-fe/ArticleRead.nhn?clubid=10050146&page=1&inCafeSearch=true&searchBy=1&query=LG%EB%B2%A8%EB%B2%B3&includeAll=&exclude=&include=&exact=&searchdate=all&media=0&sortBy=date&articleid=845421215&referrerAllArticles=true'},\n",
       " {'제목': '[판매] [경기수원] LG 벨벳 (G900) 128GB 화이트 판매 합니다.',\n",
       "  '주소': 'https://cafe.naver.com/ca-fe/ArticleRead.nhn?clubid=10050146&page=1&inCafeSearch=true&searchBy=1&query=LG%EB%B2%A8%EB%B2%B3&includeAll=&exclude=&include=&exact=&searchdate=all&media=0&sortBy=date&articleid=845420511&referrerAllArticles=true'},\n",
       " {'제목': '[경기수원] LG 벨벳 (G900) 128GB 화이트 판매 합니다.',\n",
       "  '주소': 'https://cafe.naver.com/ca-fe/ArticleRead.nhn?clubid=10050146&page=1&inCafeSearch=true&searchBy=1&query=LG%EB%B2%A8%EB%B2%B3&includeAll=&exclude=&include=&exact=&searchdate=all&media=0&sortBy=date&articleid=845420136&referrerAllArticles=true'},\n",
       " {'제목': '[경기수원] LG 벨벳 (G900) 128GB 화이트 판매 합니다.',\n",
       "  '주소': 'https://cafe.naver.com/ca-fe/ArticleRead.nhn?clubid=10050146&page=1&inCafeSearch=true&searchBy=1&query=LG%EB%B2%A8%EB%B2%B3&includeAll=&exclude=&include=&exact=&searchdate=all&media=0&sortBy=date&articleid=845420045&referrerAllArticles=true'},\n",
       " {'제목': '판매 <천안중고폰> LG 벨벳 그레이 128기가 / A급',\n",
       "  '주소': 'https://cafe.naver.com/ca-fe/ArticleRead.nhn?clubid=10050146&page=1&inCafeSearch=true&searchBy=1&query=LG%EB%B2%A8%EB%B2%B3&includeAll=&exclude=&include=&exact=&searchdate=all&media=0&sortBy=date&articleid=845419534&referrerAllArticles=true'},\n",
       " {'제목': 'LG 벨벳 128기가 화이트 SK A급',\n",
       "  '주소': 'https://cafe.naver.com/ca-fe/ArticleRead.nhn?clubid=10050146&page=1&inCafeSearch=true&searchBy=1&query=LG%EB%B2%A8%EB%B2%B3&includeAll=&exclude=&include=&exact=&searchdate=all&media=0&sortBy=date&articleid=845419460&referrerAllArticles=true'},\n",
       " {'제목': 'LG벨벳 128G 핑크 20년 6월개통 A급 23만원 판매합니다*',\n",
       "  '주소': 'https://cafe.naver.com/ca-fe/ArticleRead.nhn?clubid=10050146&page=1&inCafeSearch=true&searchBy=1&query=LG%EB%B2%A8%EB%B2%B3&includeAll=&exclude=&include=&exact=&searchdate=all&media=0&sortBy=date&articleid=845418006&referrerAllArticles=true'},\n",
       " {'제목': '13364 LG벨벳 G900 128기가 화이트 정상해지 공기계 23만/ 수원',\n",
       "  '주소': 'https://cafe.naver.com/ca-fe/ArticleRead.nhn?clubid=10050146&page=1&inCafeSearch=true&searchBy=1&query=LG%EB%B2%A8%EB%B2%B3&includeAll=&exclude=&include=&exact=&searchdate=all&media=0&sortBy=date&articleid=845417628&referrerAllArticles=true'},\n",
       " {'제목': '상태 좋고 잔상 없는 LG 벨벳 23만원 팝니다.',\n",
       "  '주소': 'https://cafe.naver.com/ca-fe/ArticleRead.nhn?clubid=10050146&page=1&inCafeSearch=true&searchBy=1&query=LG%EB%B2%A8%EB%B2%B3&includeAll=&exclude=&include=&exact=&searchdate=all&media=0&sortBy=date&articleid=845417312&referrerAllArticles=true'},\n",
       " {'제목': 'LG 벨벳(G900) 128G 블랙 깨끗한 무잔상 판매합니다 <23만원>',\n",
       "  '주소': 'https://cafe.naver.com/ca-fe/ArticleRead.nhn?clubid=10050146&page=1&inCafeSearch=true&searchBy=1&query=LG%EB%B2%A8%EB%B2%B3&includeAll=&exclude=&include=&exact=&searchdate=all&media=0&sortBy=date&articleid=845416878&referrerAllArticles=true'}]"
      ]
     },
     "execution_count": 17,
     "metadata": {},
     "output_type": "execute_result"
    }
   ],
   "source": [
    "[\n",
    "    {\n",
    "        \"제목\" : item.text,\n",
    "        \"주소\" : item.get_attribute('href')\n",
    "    }\n",
    "    for item in tr_items\n",
    "]"
   ]
  },
  {
   "cell_type": "code",
   "execution_count": 18,
   "metadata": {},
   "outputs": [],
   "source": [
    "# iframe 밖으로 나가기\n",
    "driver.switch_to.default_content()"
   ]
  },
  {
   "cell_type": "code",
   "execution_count": null,
   "metadata": {},
   "outputs": [],
   "source": []
  },
  {
   "cell_type": "code",
   "execution_count": null,
   "metadata": {},
   "outputs": [],
   "source": []
  },
  {
   "cell_type": "code",
   "execution_count": null,
   "metadata": {},
   "outputs": [],
   "source": []
  },
  {
   "cell_type": "code",
   "execution_count": null,
   "metadata": {},
   "outputs": [],
   "source": []
  },
  {
   "cell_type": "code",
   "execution_count": null,
   "metadata": {},
   "outputs": [],
   "source": []
  },
  {
   "cell_type": "code",
   "execution_count": null,
   "metadata": {},
   "outputs": [],
   "source": []
  },
  {
   "cell_type": "code",
   "execution_count": null,
   "metadata": {},
   "outputs": [],
   "source": []
  },
  {
   "cell_type": "code",
   "execution_count": null,
   "metadata": {},
   "outputs": [],
   "source": []
  },
  {
   "cell_type": "code",
   "execution_count": null,
   "metadata": {},
   "outputs": [],
   "source": []
  }
 ],
 "metadata": {
  "kernelspec": {
   "display_name": "Python 3",
   "language": "python",
   "name": "python3"
  },
  "language_info": {
   "codemirror_mode": {
    "name": "ipython",
    "version": 3
   },
   "file_extension": ".py",
   "mimetype": "text/x-python",
   "name": "python",
   "nbconvert_exporter": "python",
   "pygments_lexer": "ipython3",
   "version": "3.8.5"
  }
 },
 "nbformat": 4,
 "nbformat_minor": 4
}
