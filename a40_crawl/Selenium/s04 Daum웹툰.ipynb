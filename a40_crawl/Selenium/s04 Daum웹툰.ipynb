{
 "cells": [
  {
   "cell_type": "code",
   "execution_count": 1,
   "metadata": {},
   "outputs": [],
   "source": [
    "from selenium import webdriver\n",
    "from selenium.webdriver.common.by import By"
   ]
  },
  {
   "cell_type": "code",
   "execution_count": 5,
   "metadata": {},
   "outputs": [],
   "source": [
    "url = 'http://webtoon.daum.net'"
   ]
  },
  {
   "cell_type": "code",
   "execution_count": 3,
   "metadata": {},
   "outputs": [],
   "source": [
    "driver_path = r'D:\\DevRoot\\dataset\\bin\\chromedriver.exe'\n",
    "driver = webdriver.Chrome(driver_path)"
   ]
  },
  {
   "cell_type": "code",
   "execution_count": 6,
   "metadata": {},
   "outputs": [],
   "source": [
    "driver.get(url)"
   ]
  },
  {
   "cell_type": "markdown",
   "metadata": {},
   "source": [
    "### 특정 작품 에피소드 목록 url 뽑기"
   ]
  },
  {
   "cell_type": "code",
   "execution_count": 7,
   "metadata": {},
   "outputs": [],
   "source": [
    "# 작품 url\n",
    "url = 'http://webtoon.daum.net/webtoon/view/denomination'"
   ]
  },
  {
   "cell_type": "code",
   "execution_count": null,
   "metadata": {},
   "outputs": [],
   "source": [
    "# 에피소드 url\n",
    "# http://webtoon.daum.net/webtoon/viewer/107801\n",
    "# http://webtoon.daum.net/webtoon/viewer/107612\n",
    "\n",
    "# 각 에피소드 url 이 순차적이지 않다.\n",
    "# 어디가 처음이고 어디가 끝인지 알수 없다.--> 목록 꺼내봐야 안다."
   ]
  },
  {
   "cell_type": "code",
   "execution_count": 8,
   "metadata": {},
   "outputs": [],
   "source": [
    "# 에피소드 이름, 날짜, url 뽑기"
   ]
  },
  {
   "cell_type": "code",
   "execution_count": 10,
   "metadata": {},
   "outputs": [
    {
     "data": {
      "text/plain": [
       "21"
      ]
     },
     "execution_count": 10,
     "metadata": {},
     "output_type": "execute_result"
    }
   ],
   "source": [
    "len(driver.find_elements_by_css_selector('#episodeList > ul > li:not(.item_preview)'))"
   ]
  },
  {
   "cell_type": "code",
   "execution_count": 11,
   "metadata": {},
   "outputs": [],
   "source": [
    "elements = driver.find_elements_by_css_selector('#episodeList > ul > li:not(.item_preview)')"
   ]
  },
  {
   "cell_type": "code",
   "execution_count": 12,
   "metadata": {},
   "outputs": [
    {
     "data": {
      "text/plain": [
       "'뱅크런편 17화'"
      ]
     },
     "execution_count": 12,
     "metadata": {},
     "output_type": "execute_result"
    }
   ],
   "source": [
    "# 에피소드 명\n",
    "elements[0].find_element_by_class_name('tit_wt').text"
   ]
  },
  {
   "cell_type": "code",
   "execution_count": 13,
   "metadata": {},
   "outputs": [
    {
     "data": {
      "text/plain": [
       "'2021.06.01'"
      ]
     },
     "execution_count": 13,
     "metadata": {},
     "output_type": "execute_result"
    }
   ],
   "source": [
    "# 날짜\n",
    "elements[0].find_element_by_class_name('txt_date').text"
   ]
  },
  {
   "cell_type": "code",
   "execution_count": 14,
   "metadata": {},
   "outputs": [
    {
     "data": {
      "text/plain": [
       "'http://webtoon.daum.net/webtoon/viewer/107801'"
      ]
     },
     "execution_count": 14,
     "metadata": {},
     "output_type": "execute_result"
    }
   ],
   "source": [
    "# url\n",
    "elements[0].find_element_by_class_name('link_wt').get_attribute('href')"
   ]
  },
  {
   "cell_type": "code",
   "execution_count": 16,
   "metadata": {},
   "outputs": [
    {
     "data": {
      "text/plain": [
       "[{'title': '뱅크런편 17화',\n",
       "  'date': '2021.06.01',\n",
       "  'url': 'http://webtoon.daum.net/webtoon/viewer/107801'},\n",
       " {'title': '뱅크런편 16화',\n",
       "  'date': '2021.05.25',\n",
       "  'url': 'http://webtoon.daum.net/webtoon/viewer/107612'},\n",
       " {'title': '뱅크런편 15화',\n",
       "  'date': '2021.05.18',\n",
       "  'url': 'http://webtoon.daum.net/webtoon/viewer/107431'},\n",
       " {'title': '뱅크런편 14화',\n",
       "  'date': '2021.05.11',\n",
       "  'url': 'http://webtoon.daum.net/webtoon/viewer/107223'},\n",
       " {'title': '뱅크런편 13화',\n",
       "  'date': '2021.05.04',\n",
       "  'url': 'http://webtoon.daum.net/webtoon/viewer/107026'},\n",
       " {'title': '뱅크런편 12화',\n",
       "  'date': '2021.04.27',\n",
       "  'url': 'http://webtoon.daum.net/webtoon/viewer/106844'},\n",
       " {'title': '뱅크런편 11화',\n",
       "  'date': '2021.04.20',\n",
       "  'url': 'http://webtoon.daum.net/webtoon/viewer/106651'},\n",
       " {'title': '뱅크런편 10화',\n",
       "  'date': '2021.04.13',\n",
       "  'url': 'http://webtoon.daum.net/webtoon/viewer/106464'},\n",
       " {'title': '뱅크런편 9화',\n",
       "  'date': '2021.04.06',\n",
       "  'url': 'http://webtoon.daum.net/webtoon/viewer/106166'},\n",
       " {'title': '뱅크런편 8화',\n",
       "  'date': '2021.03.30',\n",
       "  'url': 'http://webtoon.daum.net/webtoon/viewer/105921'},\n",
       " {'title': '뱅크런편 7화',\n",
       "  'date': '2021.03.23',\n",
       "  'url': 'http://webtoon.daum.net/webtoon/viewer/105608'},\n",
       " {'title': '뱅크런편 6화',\n",
       "  'date': '2021.03.16',\n",
       "  'url': 'http://webtoon.daum.net/webtoon/viewer/105065'},\n",
       " {'title': '뱅크런편 5화',\n",
       "  'date': '2021.03.09',\n",
       "  'url': 'http://webtoon.daum.net/webtoon/viewer/104751'},\n",
       " {'title': '뱅크런편 4화',\n",
       "  'date': '2021.03.02',\n",
       "  'url': 'http://webtoon.daum.net/webtoon/viewer/104750'},\n",
       " {'title': '뱅크런편 3화',\n",
       "  'date': '2021.02.23',\n",
       "  'url': 'http://webtoon.daum.net/webtoon/viewer/104749'},\n",
       " {'title': '뱅크런편 2화',\n",
       "  'date': '2021.02.16',\n",
       "  'url': 'http://webtoon.daum.net/webtoon/viewer/104748'},\n",
       " {'title': '뱅크런편 1화',\n",
       "  'date': '2021.02.09',\n",
       "  'url': 'http://webtoon.daum.net/webtoon/viewer/104747'},\n",
       " {'title': '시즌2 프롤로그',\n",
       "  'date': '2021.02.09',\n",
       "  'url': 'http://webtoon.daum.net/webtoon/viewer/104746'},\n",
       " {'title': '40화(시즌1 마지막화)',\n",
       "  'date': '2020.10.20',\n",
       "  'url': 'http://webtoon.daum.net/webtoon/viewer/97060'},\n",
       " {'title': '39화',\n",
       "  'date': '2020.10.13',\n",
       "  'url': 'http://webtoon.daum.net/webtoon/viewer/96274'},\n",
       " {'title': '38화',\n",
       "  'date': '2020.10.06',\n",
       "  'url': 'http://webtoon.daum.net/webtoon/viewer/95976'}]"
      ]
     },
     "execution_count": 16,
     "metadata": {},
     "output_type": "execute_result"
    }
   ],
   "source": [
    "result = [\n",
    "    {\n",
    "      'title' : element.find_element_by_class_name('tit_wt').text,\n",
    "      'date' : element.find_element_by_class_name('txt_date').text,\n",
    "        'url' : element.find_element_by_class_name('link_wt').get_attribute('href')\n",
    "    }\n",
    "    for element in elements\n",
    "]\n",
    "result"
   ]
  },
  {
   "cell_type": "code",
   "execution_count": 17,
   "metadata": {},
   "outputs": [],
   "source": [
    "\n",
    "# 페이징은 각자 구현해보자\n"
   ]
  },
  {
   "cell_type": "markdown",
   "metadata": {},
   "source": [
    "### 특정에피소드의 이미지 다운로드"
   ]
  },
  {
   "cell_type": "code",
   "execution_count": 18,
   "metadata": {},
   "outputs": [],
   "source": [
    "basepath = r'D:\\DevRoot\\DataSet\\download'"
   ]
  },
  {
   "cell_type": "code",
   "execution_count": 20,
   "metadata": {},
   "outputs": [],
   "source": [
    "title = result[0]['title']\n",
    "date = result[0]['date']\n",
    "url = result[0]['url']"
   ]
  },
  {
   "cell_type": "code",
   "execution_count": 21,
   "metadata": {},
   "outputs": [
    {
     "data": {
      "text/plain": [
       "'http://webtoon.daum.net/webtoon/viewer/107801'"
      ]
     },
     "execution_count": 21,
     "metadata": {},
     "output_type": "execute_result"
    }
   ],
   "source": [
    "url"
   ]
  },
  {
   "cell_type": "code",
   "execution_count": 22,
   "metadata": {},
   "outputs": [],
   "source": [
    "driver.get(url)"
   ]
  },
  {
   "cell_type": "code",
   "execution_count": 24,
   "metadata": {},
   "outputs": [
    {
     "data": {
      "text/plain": [
       "[<selenium.webdriver.remote.webelement.WebElement (session=\"27d5a40bfaf1375886469a411b87ca70\", element=\"da1bd00d-1cfa-4a8f-802c-366d7229d32b\")>,\n",
       " <selenium.webdriver.remote.webelement.WebElement (session=\"27d5a40bfaf1375886469a411b87ca70\", element=\"65dd1eef-a825-4853-b4ff-82baf607a4d1\")>,\n",
       " <selenium.webdriver.remote.webelement.WebElement (session=\"27d5a40bfaf1375886469a411b87ca70\", element=\"52c4ad79-10ca-4087-8913-b0960f8404e1\")>,\n",
       " <selenium.webdriver.remote.webelement.WebElement (session=\"27d5a40bfaf1375886469a411b87ca70\", element=\"63e0300c-b0e5-4b4c-b059-ad708e322334\")>,\n",
       " <selenium.webdriver.remote.webelement.WebElement (session=\"27d5a40bfaf1375886469a411b87ca70\", element=\"1c87ef4c-08b5-48ca-a201-a8272ccb8bf4\")>,\n",
       " <selenium.webdriver.remote.webelement.WebElement (session=\"27d5a40bfaf1375886469a411b87ca70\", element=\"76c7ed52-1cf8-4f17-adfc-bf1efde80f38\")>,\n",
       " <selenium.webdriver.remote.webelement.WebElement (session=\"27d5a40bfaf1375886469a411b87ca70\", element=\"72ba5257-6c35-46c5-b451-5c27d6bc0712\")>,\n",
       " <selenium.webdriver.remote.webelement.WebElement (session=\"27d5a40bfaf1375886469a411b87ca70\", element=\"c506dfb4-fcce-40c1-88df-1ccd181082d5\")>,\n",
       " <selenium.webdriver.remote.webelement.WebElement (session=\"27d5a40bfaf1375886469a411b87ca70\", element=\"b4709dd5-9ae1-44e9-8a91-bf23f57b30ed\")>]"
      ]
     },
     "execution_count": 24,
     "metadata": {},
     "output_type": "execute_result"
    }
   ],
   "source": [
    "imgs = driver.find_elements_by_css_selector('#imgView > img')\n",
    "imgs"
   ]
  },
  {
   "cell_type": "code",
   "execution_count": 25,
   "metadata": {},
   "outputs": [
    {
     "data": {
      "text/plain": [
       "['http://t1.daumcdn.net/webtoon_episode/26cb059ba354243935ac8045b684feabfe22f672',\n",
       " 'http://t1.daumcdn.net/webtoon_episode/579b36f9747694ae7f352fdf92b7cebcfd2e8b29',\n",
       " 'http://t1.daumcdn.net/webtoon_episode/648bd480beca672a012b2988d685c2d2f1ec64d2',\n",
       " 'http://t1.daumcdn.net/webtoon_episode/65512661b203678c15d0933f707c7e27a27c0886',\n",
       " 'http://t1.daumcdn.net/webtoon_episode/ad137d2337e865da9c9289015cd23942bc5d3510',\n",
       " 'http://t1.daumcdn.net/webtoon_episode/50a81d75718dae648a9c3dedb23e3d3ac8dbfb73',\n",
       " 'http://t1.daumcdn.net/webtoon_episode/99bee78c187a7d2624a0727d424dd724573c5efc',\n",
       " 'http://t1.daumcdn.net/webtoon_episode/775b9ae207bc229b4a449f39eca49c32fa508681',\n",
       " 'http://t1.daumcdn.net/webtoon_episode/e667fb59013e81b3b68f96b4e276a72f1de38a99']"
      ]
     },
     "execution_count": 25,
     "metadata": {},
     "output_type": "execute_result"
    }
   ],
   "source": [
    "img_urls = [\n",
    "    img.get_attribute('src')\n",
    "    for img in imgs\n",
    "]\n",
    "img_urls\n",
    "\n",
    "# 이름만으로는 순서를 알수 없다."
   ]
  },
  {
   "cell_type": "code",
   "execution_count": 26,
   "metadata": {},
   "outputs": [],
   "source": [
    "img_url = img_urls[0]"
   ]
  },
  {
   "cell_type": "code",
   "execution_count": 31,
   "metadata": {},
   "outputs": [],
   "source": [
    "import requests\n",
    "import os"
   ]
  },
  {
   "cell_type": "code",
   "execution_count": 28,
   "metadata": {},
   "outputs": [
    {
     "data": {
      "text/plain": [
       "<Response [200]>"
      ]
     },
     "execution_count": 28,
     "metadata": {},
     "output_type": "execute_result"
    }
   ],
   "source": [
    "response = requests.get(img_url)\n",
    "response"
   ]
  },
  {
   "cell_type": "code",
   "execution_count": 32,
   "metadata": {},
   "outputs": [
    {
     "name": "stdout",
     "output_type": "stream",
     "text": [
      "D:\\DevRoot\\DataSet\\download\\daumtoon01.jpg 저장성공\n",
      "D:\\DevRoot\\DataSet\\download\\daumtoon02.jpg 저장성공\n",
      "D:\\DevRoot\\DataSet\\download\\daumtoon03.jpg 저장성공\n",
      "D:\\DevRoot\\DataSet\\download\\daumtoon04.jpg 저장성공\n",
      "D:\\DevRoot\\DataSet\\download\\daumtoon05.jpg 저장성공\n",
      "D:\\DevRoot\\DataSet\\download\\daumtoon06.jpg 저장성공\n",
      "D:\\DevRoot\\DataSet\\download\\daumtoon07.jpg 저장성공\n",
      "D:\\DevRoot\\DataSet\\download\\daumtoon08.jpg 저장성공\n",
      "D:\\DevRoot\\DataSet\\download\\daumtoon09.jpg 저장성공\n"
     ]
    }
   ],
   "source": [
    "i = 1\n",
    "for img_url in img_urls:\n",
    "    \n",
    "    response = requests.get(img_url)\n",
    "    savePath = os.path.join(basepath, f'daumtoon{i:02d}.jpg')\n",
    "    \n",
    "    with open(savePath, 'wb') as f:\n",
    "        f.write(response.content)\n",
    "        print(savePath, '저장성공')\n",
    "    \n",
    "    i += 1"
   ]
  },
  {
   "cell_type": "code",
   "execution_count": 33,
   "metadata": {},
   "outputs": [
    {
     "name": "stdout",
     "output_type": "stream",
     "text": [
      " D 드라이브의 볼륨: 새 볼륨\n",
      " 볼륨 일련 번호: 0ABD-0946\n",
      "\n",
      " D:\\DevRoot\\DataSet\\download 디렉터리\n",
      "\n",
      "2021-06-01  오후 01:12         1,343,217 daumtoon01.jpg\n",
      "2021-06-01  오후 01:12         1,348,811 daumtoon02.jpg\n",
      "2021-06-01  오후 01:12         1,327,746 daumtoon03.jpg\n",
      "2021-06-01  오후 01:12         1,163,117 daumtoon04.jpg\n",
      "2021-06-01  오후 01:12         1,698,994 daumtoon05.jpg\n",
      "2021-06-01  오후 01:12         1,584,676 daumtoon06.jpg\n",
      "2021-06-01  오후 01:12         1,738,170 daumtoon07.jpg\n",
      "2021-06-01  오후 01:12         1,453,540 daumtoon08.jpg\n",
      "2021-06-01  오후 01:12           416,069 daumtoon09.jpg\n",
      "               9개 파일          12,074,340 바이트\n",
      "               0개 디렉터리  446,734,876,672 바이트 남음\n"
     ]
    }
   ],
   "source": [
    "! dir D:\\DevRoot\\DataSet\\download\\daumtoon*.jpg"
   ]
  },
  {
   "cell_type": "code",
   "execution_count": null,
   "metadata": {},
   "outputs": [],
   "source": []
  },
  {
   "cell_type": "code",
   "execution_count": null,
   "metadata": {},
   "outputs": [],
   "source": []
  },
  {
   "cell_type": "code",
   "execution_count": null,
   "metadata": {},
   "outputs": [],
   "source": []
  },
  {
   "cell_type": "code",
   "execution_count": null,
   "metadata": {},
   "outputs": [],
   "source": []
  },
  {
   "cell_type": "code",
   "execution_count": null,
   "metadata": {},
   "outputs": [],
   "source": []
  },
  {
   "cell_type": "code",
   "execution_count": null,
   "metadata": {},
   "outputs": [],
   "source": []
  },
  {
   "cell_type": "code",
   "execution_count": null,
   "metadata": {},
   "outputs": [],
   "source": []
  },
  {
   "cell_type": "code",
   "execution_count": null,
   "metadata": {},
   "outputs": [],
   "source": []
  },
  {
   "cell_type": "code",
   "execution_count": null,
   "metadata": {},
   "outputs": [],
   "source": []
  },
  {
   "cell_type": "code",
   "execution_count": null,
   "metadata": {},
   "outputs": [],
   "source": []
  },
  {
   "cell_type": "code",
   "execution_count": null,
   "metadata": {},
   "outputs": [],
   "source": []
  },
  {
   "cell_type": "code",
   "execution_count": null,
   "metadata": {},
   "outputs": [],
   "source": []
  },
  {
   "cell_type": "code",
   "execution_count": null,
   "metadata": {},
   "outputs": [],
   "source": []
  },
  {
   "cell_type": "code",
   "execution_count": null,
   "metadata": {},
   "outputs": [],
   "source": []
  },
  {
   "cell_type": "code",
   "execution_count": null,
   "metadata": {},
   "outputs": [],
   "source": []
  },
  {
   "cell_type": "code",
   "execution_count": null,
   "metadata": {},
   "outputs": [],
   "source": []
  },
  {
   "cell_type": "code",
   "execution_count": null,
   "metadata": {},
   "outputs": [],
   "source": []
  },
  {
   "cell_type": "code",
   "execution_count": null,
   "metadata": {},
   "outputs": [],
   "source": []
  },
  {
   "cell_type": "code",
   "execution_count": null,
   "metadata": {},
   "outputs": [],
   "source": []
  },
  {
   "cell_type": "code",
   "execution_count": null,
   "metadata": {},
   "outputs": [],
   "source": []
  }
 ],
 "metadata": {
  "kernelspec": {
   "display_name": "Python 3",
   "language": "python",
   "name": "python3"
  },
  "language_info": {
   "codemirror_mode": {
    "name": "ipython",
    "version": 3
   },
   "file_extension": ".py",
   "mimetype": "text/x-python",
   "name": "python",
   "nbconvert_exporter": "python",
   "pygments_lexer": "ipython3",
   "version": "3.8.5"
  }
 },
 "nbformat": 4,
 "nbformat_minor": 4
}
