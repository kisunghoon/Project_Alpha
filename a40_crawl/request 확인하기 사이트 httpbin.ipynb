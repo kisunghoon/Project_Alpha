{
 "cells": [
  {
   "cell_type": "markdown",
   "metadata": {},
   "source": [
    "# request header 확인하기 "
   ]
  },
  {
   "cell_type": "code",
   "execution_count": 7,
   "metadata": {},
   "outputs": [],
   "source": [
    "# User-Agent 값에는 주로 어떠한 시스템에서 request 했는지에 대한 정보가 담겨 있다.\n",
    "#  - OS, Browser, 프로그램 ... \n",
    "#  일부 웹서버에서는 user-agent 값을 체크해서 정상적인 브라우저의 request 가 아니면 에러 페이지를 response 하는 경우가 있다\n",
    "\n",
    "# ★ 실제로 이런저런 header 값들을 넣어보면서 에러 없이 정상적으로 response 받는지 확인해봐야 한다"
   ]
  },
  {
   "cell_type": "code",
   "execution_count": 1,
   "metadata": {},
   "outputs": [],
   "source": [
    "url = 'https://httpbin.org/headers'"
   ]
  },
  {
   "cell_type": "markdown",
   "metadata": {},
   "source": [
    "### chrome 으로 request 하는 경우"
   ]
  },
  {
   "cell_type": "markdown",
   "metadata": {},
   "source": [
    "```javascript\n",
    "{\n",
    "    headers: {\n",
    "    Accept: \"text/html,application/xhtml+xml,application/xml;q=0.9,image/avif,image/webp,image/apng,*/*;q=0.8,application/signed-exchange;v=b3;q=0.9\",\n",
    "    Accept-Encoding: \"gzip, deflate, br\",\n",
    "    Accept-Language: \"ko-KR,ko;q=0.9,en-US;q=0.8,en;q=0.7\",\n",
    "    Host: \"httpbin.org\",\n",
    "    Sec-Ch-Ua: \"\" Not A;Brand\";v=\"99\", \"Chromium\";v=\"90\", \"Google Chrome\";v=\"90\"\",\n",
    "    Sec-Ch-Ua-Mobile: \"?0\",\n",
    "    Sec-Fetch-Dest: \"document\",\n",
    "    Sec-Fetch-Mode: \"navigate\",\n",
    "    Sec-Fetch-Site: \"none\",\n",
    "    Sec-Fetch-User: \"?1\",\n",
    "    Upgrade-Insecure-Requests: \"1\",\n",
    "    User-Agent: \"Mozilla/5.0 (Windows NT 10.0; Win64; x64) AppleWebKit/537.36 (KHTML, like Gecko) Chrome/90.0.4430.212 Safari/537.36\",\n",
    "    X-Amzn-Trace-Id: \"Root=1-60b03cfc-2871a7930f6855f27bbaecc8\"\n",
    "    }\n",
    "}\n",
    "```"
   ]
  },
  {
   "cell_type": "code",
   "execution_count": 4,
   "metadata": {},
   "outputs": [
    {
     "name": "stdout",
     "output_type": "stream",
     "text": [
      "{\n",
      "  \"headers\": {\n",
      "    \"Accept\": \"*/*\", \n",
      "    \"Accept-Encoding\": \"gzip, deflate\", \n",
      "    \"Host\": \"httpbin.org\", \n",
      "    \"User-Agent\": \"python-requests/2.24.0\", \n",
      "    \"X-Amzn-Trace-Id\": \"Root=1-60b03d7d-3574f52a4d264a314ba3cfb5\"\n",
      "  }\n",
      "}\n",
      "\n"
     ]
    }
   ],
   "source": [
    "import requests\n",
    "response = requests.get(url)\n",
    "print(response.text)"
   ]
  },
  {
   "cell_type": "markdown",
   "metadata": {},
   "source": [
    "### Postman 으로 하는 경우"
   ]
  },
  {
   "cell_type": "markdown",
   "metadata": {},
   "source": [
    "```javascript\n",
    "{\n",
    "    \"headers\": {\n",
    "        \"Accept\": \"*/*\",\n",
    "        \"Accept-Encoding\": \"gzip, deflate, br\",\n",
    "        \"Host\": \"httpbin.org\",\n",
    "        \"Postman-Token\": \"1819077b-13c8-48f1-9919-7a7f1affae33\",\n",
    "        \"User-Agent\": \"PostmanRuntime/7.28.0\",\n",
    "        \"X-Amzn-Trace-Id\": \"Root=1-60b03ddb-01f6e4d701109c90766dfe1e\"\n",
    "    }\n",
    "}\n",
    "```"
   ]
  },
  {
   "cell_type": "code",
   "execution_count": null,
   "metadata": {},
   "outputs": [],
   "source": []
  },
  {
   "cell_type": "code",
   "execution_count": null,
   "metadata": {},
   "outputs": [],
   "source": []
  },
  {
   "cell_type": "code",
   "execution_count": null,
   "metadata": {},
   "outputs": [],
   "source": []
  },
  {
   "cell_type": "code",
   "execution_count": null,
   "metadata": {},
   "outputs": [],
   "source": []
  },
  {
   "cell_type": "code",
   "execution_count": null,
   "metadata": {},
   "outputs": [],
   "source": []
  },
  {
   "cell_type": "code",
   "execution_count": null,
   "metadata": {},
   "outputs": [],
   "source": []
  },
  {
   "cell_type": "code",
   "execution_count": null,
   "metadata": {},
   "outputs": [],
   "source": []
  }
 ],
 "metadata": {
  "kernelspec": {
   "display_name": "Python 3",
   "language": "python",
   "name": "python3"
  },
  "language_info": {
   "codemirror_mode": {
    "name": "ipython",
    "version": 3
   },
   "file_extension": ".py",
   "mimetype": "text/x-python",
   "name": "python",
   "nbconvert_exporter": "python",
   "pygments_lexer": "ipython3",
   "version": "3.8.5"
  }
 },
 "nbformat": 4,
 "nbformat_minor": 4
}
