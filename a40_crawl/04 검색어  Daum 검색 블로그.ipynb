{
 "cells": [
  {
   "cell_type": "markdown",
   "metadata": {},
   "source": [
    "# Daum 검색 블로그"
   ]
  },
  {
   "cell_type": "code",
   "execution_count": null,
   "metadata": {},
   "outputs": [],
   "source": [
    "\"\"\"\n",
    "https://search.daum.net/search\n",
    "?\n",
    "w=blog&\n",
    "nil_search=btn&\n",
    "DA=NTB&\n",
    "enc=utf8&\n",
    "q=%ED%8C%8C%EC%9D%B4%EC%8D%AC\n",
    "\n",
    "\n",
    "\n",
    "\"\"\"\n",
    "None"
   ]
  },
  {
   "cell_type": "code",
   "execution_count": null,
   "metadata": {},
   "outputs": [],
   "source": [
    "#Daum 에서 특정한 '키워드'로 검색하기\n",
    "#거기서 '블로그' 항목으로 들어가서\n",
    "#블로그 제목, 블로그 이름을 뽑아보세요.\n",
    "\n",
    "#실제로 포스팅 이름과 블로그 이름이 아래와 같이 나와야 함..\n",
    "\n",
    "# dict 들의 list\n",
    "# 각 dict 에는 포스팅 제목 과 블로그 제목이 담겨야 함\n",
    "#[\n",
    "#   {\n",
    "#        post_title: 포스팅 제목,  \n",
    "#        blog_title: 블로그 제목\n",
    "#   },\n",
    "#   {},\n",
    "#   {},\n",
    "#]\n",
    "\n",
    "# 출력예)\n",
    "\"\"\"\n",
    "[{'blog_title': '멍선생과 잡담', 'post_title': '[Python] 왜 파이썬을 사용할까?'},\n",
    " {'blog_title': 'AiDA Lab.', 'post_title': '파이썬 환경 구축하기'},\n",
    " {'blog_title': '평범한 직장인의 세상...', 'post_title': '파이썬 기초 강좌 아나콘다 설치방법'},\n",
    " {'blog_title': \"Tae's Note : 하나씩 ...\", 'post_title': '파이썬 함수 다루기 (1)'},\n",
    " {'blog_title': 'Tour&Coffee', 'post_title': '[파이썬] Data Analysis'},\n",
    " {'blog_title': 'AiDA Lab.', 'post_title': '파이썬 문법 기초'},\n",
    " {'blog_title': 'MakeRejoiceGames',\n",
    "  'post_title': '파이썬 1장(컴파일러, 인터프리터, print, 출력, 함수, 사칙연산)'},\n",
    " {'blog_title': '파트너스활동을 통해 ...',\n",
    "  'post_title': 'python , 파이썬 시작하기 / 다운로드 / 설치'},\n",
    " {'blog_title': '초급기술자', 'post_title': '파이썬 개발환경 구축 # IDE 설치'},\n",
    " {'blog_title': '나눔코딩', 'post_title': '02. 파이썬 기본'}]\n",
    "\"\"\"\n",
    "None"
   ]
  },
  {
   "cell_type": "code",
   "execution_count": 1,
   "metadata": {},
   "outputs": [],
   "source": [
    "import requests\n",
    "from bs4 import BeautifulSoup"
   ]
  },
  {
   "cell_type": "code",
   "execution_count": null,
   "metadata": {},
   "outputs": [],
   "source": [
    "# 확인!\n",
    "# url 을 조립해서 request 할때\n",
    "# 원하는 결과 페이지가 response 되나?"
   ]
  },
  {
   "cell_type": "code",
   "execution_count": 4,
   "metadata": {},
   "outputs": [],
   "source": [
    "# 검색어\n",
    "search = '자바'"
   ]
  },
  {
   "cell_type": "code",
   "execution_count": 5,
   "metadata": {},
   "outputs": [
    {
     "data": {
      "text/plain": [
       "'https://search.daum.net/search?w=blog&nil_search=btn&DA=NTB&enc=utf8&q=자바'"
      ]
     },
     "execution_count": 5,
     "metadata": {},
     "output_type": "execute_result"
    }
   ],
   "source": [
    "url = 'https://search.daum.net/search?w=blog&nil_search=btn&DA=NTB&enc=utf8&q={search}'.format(search = search)\n",
    "url\n",
    "\n",
    "#  위 url 로 브라우저등에서 정상적으로 페이지 response 되는지 확인하자"
   ]
  },
  {
   "cell_type": "code",
   "execution_count": null,
   "metadata": {},
   "outputs": [],
   "source": [
    "# requests 에서 request 시 한글은 자동으로 인코딩 되어 request 된다."
   ]
  },
  {
   "cell_type": "code",
   "execution_count": 7,
   "metadata": {},
   "outputs": [
    {
     "data": {
      "text/plain": [
       "<Response [200]>"
      ]
     },
     "execution_count": 7,
     "metadata": {},
     "output_type": "execute_result"
    }
   ],
   "source": [
    "response = requests.get(url)\n",
    "response  # response 코드 200 확인"
   ]
  },
  {
   "cell_type": "code",
   "execution_count": 9,
   "metadata": {},
   "outputs": [],
   "source": [
    "dom = BeautifulSoup(response.text, \"html.parser\")"
   ]
  },
  {
   "cell_type": "code",
   "execution_count": 10,
   "metadata": {},
   "outputs": [
    {
     "data": {
      "text/plain": [
       "10"
      ]
     },
     "execution_count": 10,
     "metadata": {},
     "output_type": "execute_result"
    }
   ],
   "source": [
    "len(dom.select(\"#blogColl > div.coll_cont > ul > li\"))"
   ]
  },
  {
   "cell_type": "code",
   "execution_count": 13,
   "metadata": {},
   "outputs": [
    {
     "data": {
      "text/plain": [
       "10"
      ]
     },
     "execution_count": 13,
     "metadata": {},
     "output_type": "execute_result"
    }
   ],
   "source": [
    "item_list = dom.select(\"#blogColl > div.coll_cont > ul > li .f_link_b\")\n",
    "len(item_list)"
   ]
  },
  {
   "cell_type": "code",
   "execution_count": 14,
   "metadata": {},
   "outputs": [
    {
     "data": {
      "text/plain": [
       "<a class=\"f_link_b\" href=\"http://xxxelppa.tistory.com/190\" onclick='smartLog(this, \"s=BL&amp;a=BOTO&amp;dc=BR1&amp;d=22ALQFCUF-_C0bRvkr&amp;pg=1&amp;r=1&amp;p=1&amp;e1=tstory-2718121&amp;e2=794570&amp;rc=10&amp;hi=1&amp;ext=&amp;at=link&amp;gd=tstory-2718121_190\", event);' target=\"_blank\">나 혼자 떠드는 <b>자바</b> : <b>자바</b> 실행 환경 (<b>자바</b> 설치 방법)</a>"
      ]
     },
     "execution_count": 14,
     "metadata": {},
     "output_type": "execute_result"
    }
   ],
   "source": [
    "item_list[0]"
   ]
  },
  {
   "cell_type": "code",
   "execution_count": 15,
   "metadata": {},
   "outputs": [
    {
     "data": {
      "text/plain": [
       "'나 혼자 떠드는 자바 : 자바 실행 환경 (자바 설치 방법)'"
      ]
     },
     "execution_count": 15,
     "metadata": {},
     "output_type": "execute_result"
    }
   ],
   "source": [
    "item_list[0].text.strip()"
   ]
  },
  {
   "cell_type": "code",
   "execution_count": 20,
   "metadata": {},
   "outputs": [
    {
     "data": {
      "text/plain": [
       "0"
      ]
     },
     "execution_count": 20,
     "metadata": {},
     "output_type": "execute_result"
    }
   ],
   "source": [
    "blog_list = dom.select(\"#blogColl > div.coll_cont > ul > li .info .f_nb:first-child\")\n",
    "len(blog_list)\n"
   ]
  },
  {
   "cell_type": "code",
   "execution_count": null,
   "metadata": {},
   "outputs": [],
   "source": [
    "#br_tstory-2718121_190 > div.wrap_cont > div > div.info.clear > span.f_l > a:nth-child(2)"
   ]
  },
  {
   "cell_type": "markdown",
   "metadata": {},
   "source": [
    "## 완성코드 - 포스트 제목 + 블로그 제목 + url"
   ]
  },
  {
   "cell_type": "code",
   "execution_count": 30,
   "metadata": {},
   "outputs": [
    {
     "data": {
      "text/plain": [
       "[{'post_title': '박정수 나이 남편 정을영 아들 정경호 딸 자녀 이혼 이유',\n",
       "  'blog_title': '엔슈',\n",
       "  'url': 'http://tatw3650.tistory.com/854'},\n",
       " {'post_title': '정경호 <수영 나이(차) 집안 결혼 계획, 아버지 정을영PD>',\n",
       "  'blog_title': 'MWAY BLOG2',\n",
       "  'url': 'http://mway2.tistory.com/1937'},\n",
       " {'post_title': '박정수 남편 정을영 아들 정경호',\n",
       "  'blog_title': '소소랑',\n",
       "  'url': 'http://sosorang.com/497'},\n",
       " {'post_title': '박정수 나이 프로필🔴 정을영 아들 정경호 남편 이혼 사유(이유) 딸 자녀...',\n",
       "  'blog_title': '쓔쓔',\n",
       "  'url': 'http://blog.naver.com/plb365/222241536184'},\n",
       " {'post_title': '박정수 남편 정을영 재혼 이혼이유',\n",
       "  'blog_title': '스마일랜턴',\n",
       "  'url': 'http://smilefire.tistory.com/105'},\n",
       " {'post_title': '박정수 재혼 남편 정을영 아들 정경호 친딸 전남편 이혼이유',\n",
       "  'blog_title': '2two 별 그리고 달',\n",
       "  'url': 'http://blog.naver.com/11suk22/222333093659'},\n",
       " {'post_title': '정경호 엄마 박정수 아버지 정을영 결혼 이혼 전남편 자녀',\n",
       "  'blog_title': '엔슈',\n",
       "  'url': 'http://tatw3650.tistory.com/444'},\n",
       " {'post_title': '수영 정경호 나이 키 - 박정수 정을영 피디 동거',\n",
       "  'blog_title': 'Royal Oak',\n",
       "  'url': 'http://royal-oak.tistory.com/629'},\n",
       " {'post_title': '정경호 안쓰러울때 있었다..\"<더 먹고 가>(박정아, 갑상선암,남편,정을영)',\n",
       "  'blog_title': '스타들의 이야기.사로...',\n",
       "  'url': 'http://sarogoo.tistory.com/386'},\n",
       " {'post_title': 'MBN 더 먹고 가 박정수 정을영 정경호 나이',\n",
       "  'blog_title': '피땀눈물',\n",
       "  'url': 'http://sportsall.tistory.com/31'}]"
      ]
     },
     "execution_count": 30,
     "metadata": {},
     "output_type": "execute_result"
    }
   ],
   "source": [
    "import requests\n",
    "from bs4 import BeautifulSoup\n",
    "\n",
    "search = '정을영'\n",
    "url = 'https://search.daum.net/search?w=blog&nil_search=btn&DA=NTB&enc=utf8&q={search}'.format(search = search)\n",
    "response = requests.get(url)\n",
    "\n",
    "dom = BeautifulSoup(response.text, 'html.parser')\n",
    "\n",
    "post_elements = dom.select(\"#blogColl .list_info li .wrap_cont\")\n",
    "# print(len(post_elments)) # 10개 확인\n",
    "\n",
    "result = [\n",
    "    {\n",
    "        'post_title' : post_element.select_one('.wrap_tit').text.strip(),\n",
    "        'blog_title' : post_element.select_one('.info .f_nb').text.strip(),\n",
    "        'url' : post_element.select_one('a').attrs.get('href').strip()\n",
    "    }\n",
    "    \n",
    "    for post_element\n",
    "    in post_elements\n",
    "]\n",
    "\n",
    "result\n",
    "\n",
    "\n"
   ]
  },
  {
   "cell_type": "code",
   "execution_count": null,
   "metadata": {},
   "outputs": [],
   "source": []
  },
  {
   "cell_type": "code",
   "execution_count": null,
   "metadata": {},
   "outputs": [],
   "source": []
  },
  {
   "cell_type": "code",
   "execution_count": null,
   "metadata": {},
   "outputs": [],
   "source": []
  },
  {
   "cell_type": "code",
   "execution_count": null,
   "metadata": {},
   "outputs": [],
   "source": []
  },
  {
   "cell_type": "code",
   "execution_count": null,
   "metadata": {},
   "outputs": [],
   "source": []
  },
  {
   "cell_type": "code",
   "execution_count": null,
   "metadata": {},
   "outputs": [],
   "source": []
  },
  {
   "cell_type": "code",
   "execution_count": null,
   "metadata": {},
   "outputs": [],
   "source": []
  },
  {
   "cell_type": "code",
   "execution_count": null,
   "metadata": {},
   "outputs": [],
   "source": []
  },
  {
   "cell_type": "code",
   "execution_count": null,
   "metadata": {},
   "outputs": [],
   "source": []
  },
  {
   "cell_type": "code",
   "execution_count": null,
   "metadata": {},
   "outputs": [],
   "source": []
  },
  {
   "cell_type": "code",
   "execution_count": null,
   "metadata": {},
   "outputs": [],
   "source": []
  },
  {
   "cell_type": "code",
   "execution_count": null,
   "metadata": {},
   "outputs": [],
   "source": []
  }
 ],
 "metadata": {
  "kernelspec": {
   "display_name": "Python 3",
   "language": "python",
   "name": "python3"
  },
  "language_info": {
   "codemirror_mode": {
    "name": "ipython",
    "version": 3
   },
   "file_extension": ".py",
   "mimetype": "text/x-python",
   "name": "python",
   "nbconvert_exporter": "python",
   "pygments_lexer": "ipython3",
   "version": "3.8.5"
  }
 },
 "nbformat": 4,
 "nbformat_minor": 4
}
