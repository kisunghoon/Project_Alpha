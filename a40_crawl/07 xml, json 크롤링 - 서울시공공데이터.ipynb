{
 "cells": [
  {
   "cell_type": "markdown",
   "metadata": {},
   "source": [
    "# API (Application Programming Interface)\n",
    "서울시 공공데이터 json, xml"
   ]
  },
  {
   "cell_type": "markdown",
   "metadata": {},
   "source": [
    "#### 서울시 지하철 승하차 데이터 \n",
    "http://data.seoul.go.kr/dataList/datasetView.do?infId=OA-12914&srvType=A&serviceKind=1&currentPageNo=1\n",
    "\n",
    "XML 버젼\n",
    "http://openapi.seoul.go.kr:8088/4d46796d7366726f3833774a774955/xml/CardSubwayStatsNew/1/5/20151101  \n",
    "\n",
    "JSON 버젼\n",
    "http://openapi.seoul.go.kr:8088/4d46796d7366726f3833774a774955/json/CardSubwayStatsNew/1/5/20151101"
   ]
  },
  {
   "cell_type": "code",
   "execution_count": 1,
   "metadata": {},
   "outputs": [],
   "source": [
    "#  list 안의 리스트 형태\n",
    "#  [호선,  역이름,  승차인원, 하차인원]\n",
    "\"\"\"\n",
    "[\n",
    "    [1호선, 시청역, 12342, 12345],\n",
    "    [1호선, 서울역, 12523, 34235],\n",
    "    ...\n",
    "    ...\n",
    "    \n",
    "]\n",
    "\"\"\"\n",
    "None"
   ]
  },
  {
   "cell_type": "code",
   "execution_count": 2,
   "metadata": {},
   "outputs": [],
   "source": [
    "import requests\n",
    "from bs4 import BeautifulSoup"
   ]
  },
  {
   "cell_type": "code",
   "execution_count": 3,
   "metadata": {},
   "outputs": [],
   "source": [
    "key = \"4d46796d7366726f3833774a774955\"\n",
    "date = \"20200610\"\n",
    "end_index = 19"
   ]
  },
  {
   "cell_type": "markdown",
   "metadata": {},
   "source": [
    "# JSON"
   ]
  },
  {
   "cell_type": "code",
   "execution_count": 5,
   "metadata": {},
   "outputs": [
    {
     "data": {
      "text/plain": [
       "'http://openapi.seoul.go.kr:8088/4d46796d7366726f3833774a774955/json/CardSubwayStatsNew/1/19/20200610'"
      ]
     },
     "execution_count": 5,
     "metadata": {},
     "output_type": "execute_result"
    }
   ],
   "source": [
    "req_type = 'json'\n",
    "\n",
    "url = \"http://openapi.seoul.go.kr:8088/\" + \\\n",
    "        \"{key}/{type}/CardSubwayStatsNew/1/{end_index}/{date}\".format(\\\n",
    "        key = key, type=req_type, date=date, end_index = end_index\n",
    ")\n",
    "\n",
    "url\n"
   ]
  },
  {
   "cell_type": "code",
   "execution_count": 6,
   "metadata": {},
   "outputs": [
    {
     "data": {
      "text/plain": [
       "<Response [200]>"
      ]
     },
     "execution_count": 6,
     "metadata": {},
     "output_type": "execute_result"
    }
   ],
   "source": [
    "response = requests.get(url)\n",
    "response"
   ]
  },
  {
   "cell_type": "code",
   "execution_count": 7,
   "metadata": {},
   "outputs": [
    {
     "data": {
      "text/plain": [
       "'{\"CardSubwayStatsNew\":{\"list_total_count\":592,\"RESULT\":{\"CODE\":\"INFO-000\",\"MESSAGE\":\"정상 처리되었습니다\"},\"row\":[{\"USE_DT\":\"20200610\",\"LINE_NUM\":\"1호선\",\"SUB_STA_NM\":\"서울역\",\"RIDE_PASGR_NUM\":40995.0,\"ALIGHT_PASGR_NUM\":38769.0,\"WORK_DT\":\"20200613\"},{\"USE_DT\":\"20200610\",\"LINE_NUM\":\"1호선\",\"SUB_STA_NM\":\"시청\",\"RIDE_PASGR_NUM\":21206.0,\"ALIGHT_PASGR_NUM\":21255.0,\"WORK_DT\":\"20200613\"},{\"USE_DT\":\"20200610\",\"LINE_NUM\":\"1호선\",\"SUB_STA_NM\":\"종각\",\"RIDE_PASGR_NUM\":39605.0,\"ALIGHT_PASGR_NUM\":37610.0,\"WORK_DT\":\"20200613\"},{\"USE_DT\":\"20200610\",\"LINE_NUM\":\"1호선\",\"SUB_STA_NM\":\"종로3가\",\"RIDE_PASGR_NUM\":25128.0,\"ALIGHT_PASGR_NUM\":23953.0,\"WORK_DT\":\"20200613\"},{\"USE_DT\":\"20200610\",\"LINE_NUM\":\"1호선\",\"SUB_STA_NM\":\"종로5가\",\"RIDE_PASGR_NUM\":22810.0,\"ALIGHT_PASGR_NUM\":22416.0,\"WORK_DT\":\"20200613\"},{\"USE_DT\":\"20200610\",\"LINE_NUM\":\"1호선\",\"SUB_STA_NM\":\"동대문\",\"RIDE_PASGR_NUM\":11060.0,\"ALIGHT_PASGR_NUM\":11239.0,\"WORK_DT\":\"20200613\"},{\"USE_DT\":\"20200610\",\"LINE_NUM\":\"1호선\",\"SUB_STA_NM\":\"신설동\",\"RIDE_PASGR_NUM\":14749.0,\"ALIGHT_PASGR_NUM\":14940.0,\"WORK_DT\":\"20200613\"},{\"USE_DT\":\"20200610\",\"LINE_NUM\":\"1호선\",\"SUB_STA_NM\":\"제기동\",\"RIDE_PASGR_NUM\":15750.0,\"ALIGHT_PASGR_NUM\":16317.0,\"WORK_DT\":\"20200613\"},{\"USE_DT\":\"20200610\",\"LINE_NUM\":\"1호선\",\"SUB_STA_NM\":\"청량리(서울시립대입구)\",\"RIDE_PASGR_NUM\":19865.0,\"ALIGHT_PASGR_NUM\":19909.0,\"WORK_DT\":\"20200613\"},{\"USE_DT\":\"20200610\",\"LINE_NUM\":\"1호선\",\"SUB_STA_NM\":\"동묘앞\",\"RIDE_PASGR_NUM\":7829.0,\"ALIGHT_PASGR_NUM\":8252.0,\"WORK_DT\":\"20200613\"},{\"USE_DT\":\"20200610\",\"LINE_NUM\":\"2호선\",\"SUB_STA_NM\":\"시청\",\"RIDE_PASGR_NUM\":24821.0,\"ALIGHT_PASGR_NUM\":23885.0,\"WORK_DT\":\"20200613\"},{\"USE_DT\":\"20200610\",\"LINE_NUM\":\"2호선\",\"SUB_STA_NM\":\"을지로입구\",\"RIDE_PASGR_NUM\":39684.0,\"ALIGHT_PASGR_NUM\":40131.0,\"WORK_DT\":\"20200613\"},{\"USE_DT\":\"20200610\",\"LINE_NUM\":\"2호선\",\"SUB_STA_NM\":\"을지로3가\",\"RIDE_PASGR_NUM\":21694.0,\"ALIGHT_PASGR_NUM\":20925.0,\"WORK_DT\":\"20200613\"},{\"USE_DT\":\"20200610\",\"LINE_NUM\":\"2호선\",\"SUB_STA_NM\":\"을지로4가\",\"RIDE_PASGR_NUM\":13103.0,\"ALIGHT_PASGR_NUM\":12635.0,\"WORK_DT\":\"20200613\"},{\"USE_DT\":\"20200610\",\"LINE_NUM\":\"2호선\",\"SUB_STA_NM\":\"동대문역사문화공원(DDP)\",\"RIDE_PASGR_NUM\":11799.0,\"ALIGHT_PASGR_NUM\":13077.0,\"WORK_DT\":\"20200613\"},{\"USE_DT\":\"20200610\",\"LINE_NUM\":\"2호선\",\"SUB_STA_NM\":\"신당\",\"RIDE_PASGR_NUM\":13455.0,\"ALIGHT_PASGR_NUM\":13779.0,\"WORK_DT\":\"20200613\"},{\"USE_DT\":\"20200610\",\"LINE_NUM\":\"2호선\",\"SUB_STA_NM\":\"상왕십리\",\"RIDE_PASGR_NUM\":13724.0,\"ALIGHT_PASGR_NUM\":13439.0,\"WORK_DT\":\"20200613\"},{\"USE_DT\":\"20200610\",\"LINE_NUM\":\"2호선\",\"SUB_STA_NM\":\"왕십리(성동구청)\",\"RIDE_PASGR_NUM\":15668.0,\"ALIGHT_PASGR_NUM\":12696.0,\"WORK_DT\":\"20200613\"},{\"USE_DT\":\"20200610\",\"LINE_NUM\":\"2호선\",\"SUB_STA_NM\":\"한양대\",\"RIDE_PASGR_NUM\":7965.0,\"ALIGHT_PASGR_NUM\":8718.0,\"WORK_DT\":\"20200613\"}]}}'"
      ]
     },
     "execution_count": 7,
     "metadata": {},
     "output_type": "execute_result"
    }
   ],
   "source": [
    "response.text  # JSON 텍스트"
   ]
  },
  {
   "cell_type": "code",
   "execution_count": 8,
   "metadata": {},
   "outputs": [
    {
     "data": {
      "text/plain": [
       "dict"
      ]
     },
     "execution_count": 8,
     "metadata": {},
     "output_type": "execute_result"
    }
   ],
   "source": [
    "# JSON 텍스트 -> 파이썬 데이터 (list, dict) 로 변환\n",
    "# JSON  object { }  => 파이썬 dict {}\n",
    "# JSON  array [ ]  => 파이썬 list []\n",
    "data = response.json()\n",
    "type(data)"
   ]
  },
  {
   "cell_type": "code",
   "execution_count": 9,
   "metadata": {},
   "outputs": [
    {
     "data": {
      "text/plain": [
       "{'CardSubwayStatsNew': {'list_total_count': 592,\n",
       "  'RESULT': {'CODE': 'INFO-000', 'MESSAGE': '정상 처리되었습니다'},\n",
       "  'row': [{'USE_DT': '20200610',\n",
       "    'LINE_NUM': '1호선',\n",
       "    'SUB_STA_NM': '서울역',\n",
       "    'RIDE_PASGR_NUM': 40995.0,\n",
       "    'ALIGHT_PASGR_NUM': 38769.0,\n",
       "    'WORK_DT': '20200613'},\n",
       "   {'USE_DT': '20200610',\n",
       "    'LINE_NUM': '1호선',\n",
       "    'SUB_STA_NM': '시청',\n",
       "    'RIDE_PASGR_NUM': 21206.0,\n",
       "    'ALIGHT_PASGR_NUM': 21255.0,\n",
       "    'WORK_DT': '20200613'},\n",
       "   {'USE_DT': '20200610',\n",
       "    'LINE_NUM': '1호선',\n",
       "    'SUB_STA_NM': '종각',\n",
       "    'RIDE_PASGR_NUM': 39605.0,\n",
       "    'ALIGHT_PASGR_NUM': 37610.0,\n",
       "    'WORK_DT': '20200613'},\n",
       "   {'USE_DT': '20200610',\n",
       "    'LINE_NUM': '1호선',\n",
       "    'SUB_STA_NM': '종로3가',\n",
       "    'RIDE_PASGR_NUM': 25128.0,\n",
       "    'ALIGHT_PASGR_NUM': 23953.0,\n",
       "    'WORK_DT': '20200613'},\n",
       "   {'USE_DT': '20200610',\n",
       "    'LINE_NUM': '1호선',\n",
       "    'SUB_STA_NM': '종로5가',\n",
       "    'RIDE_PASGR_NUM': 22810.0,\n",
       "    'ALIGHT_PASGR_NUM': 22416.0,\n",
       "    'WORK_DT': '20200613'},\n",
       "   {'USE_DT': '20200610',\n",
       "    'LINE_NUM': '1호선',\n",
       "    'SUB_STA_NM': '동대문',\n",
       "    'RIDE_PASGR_NUM': 11060.0,\n",
       "    'ALIGHT_PASGR_NUM': 11239.0,\n",
       "    'WORK_DT': '20200613'},\n",
       "   {'USE_DT': '20200610',\n",
       "    'LINE_NUM': '1호선',\n",
       "    'SUB_STA_NM': '신설동',\n",
       "    'RIDE_PASGR_NUM': 14749.0,\n",
       "    'ALIGHT_PASGR_NUM': 14940.0,\n",
       "    'WORK_DT': '20200613'},\n",
       "   {'USE_DT': '20200610',\n",
       "    'LINE_NUM': '1호선',\n",
       "    'SUB_STA_NM': '제기동',\n",
       "    'RIDE_PASGR_NUM': 15750.0,\n",
       "    'ALIGHT_PASGR_NUM': 16317.0,\n",
       "    'WORK_DT': '20200613'},\n",
       "   {'USE_DT': '20200610',\n",
       "    'LINE_NUM': '1호선',\n",
       "    'SUB_STA_NM': '청량리(서울시립대입구)',\n",
       "    'RIDE_PASGR_NUM': 19865.0,\n",
       "    'ALIGHT_PASGR_NUM': 19909.0,\n",
       "    'WORK_DT': '20200613'},\n",
       "   {'USE_DT': '20200610',\n",
       "    'LINE_NUM': '1호선',\n",
       "    'SUB_STA_NM': '동묘앞',\n",
       "    'RIDE_PASGR_NUM': 7829.0,\n",
       "    'ALIGHT_PASGR_NUM': 8252.0,\n",
       "    'WORK_DT': '20200613'},\n",
       "   {'USE_DT': '20200610',\n",
       "    'LINE_NUM': '2호선',\n",
       "    'SUB_STA_NM': '시청',\n",
       "    'RIDE_PASGR_NUM': 24821.0,\n",
       "    'ALIGHT_PASGR_NUM': 23885.0,\n",
       "    'WORK_DT': '20200613'},\n",
       "   {'USE_DT': '20200610',\n",
       "    'LINE_NUM': '2호선',\n",
       "    'SUB_STA_NM': '을지로입구',\n",
       "    'RIDE_PASGR_NUM': 39684.0,\n",
       "    'ALIGHT_PASGR_NUM': 40131.0,\n",
       "    'WORK_DT': '20200613'},\n",
       "   {'USE_DT': '20200610',\n",
       "    'LINE_NUM': '2호선',\n",
       "    'SUB_STA_NM': '을지로3가',\n",
       "    'RIDE_PASGR_NUM': 21694.0,\n",
       "    'ALIGHT_PASGR_NUM': 20925.0,\n",
       "    'WORK_DT': '20200613'},\n",
       "   {'USE_DT': '20200610',\n",
       "    'LINE_NUM': '2호선',\n",
       "    'SUB_STA_NM': '을지로4가',\n",
       "    'RIDE_PASGR_NUM': 13103.0,\n",
       "    'ALIGHT_PASGR_NUM': 12635.0,\n",
       "    'WORK_DT': '20200613'},\n",
       "   {'USE_DT': '20200610',\n",
       "    'LINE_NUM': '2호선',\n",
       "    'SUB_STA_NM': '동대문역사문화공원(DDP)',\n",
       "    'RIDE_PASGR_NUM': 11799.0,\n",
       "    'ALIGHT_PASGR_NUM': 13077.0,\n",
       "    'WORK_DT': '20200613'},\n",
       "   {'USE_DT': '20200610',\n",
       "    'LINE_NUM': '2호선',\n",
       "    'SUB_STA_NM': '신당',\n",
       "    'RIDE_PASGR_NUM': 13455.0,\n",
       "    'ALIGHT_PASGR_NUM': 13779.0,\n",
       "    'WORK_DT': '20200613'},\n",
       "   {'USE_DT': '20200610',\n",
       "    'LINE_NUM': '2호선',\n",
       "    'SUB_STA_NM': '상왕십리',\n",
       "    'RIDE_PASGR_NUM': 13724.0,\n",
       "    'ALIGHT_PASGR_NUM': 13439.0,\n",
       "    'WORK_DT': '20200613'},\n",
       "   {'USE_DT': '20200610',\n",
       "    'LINE_NUM': '2호선',\n",
       "    'SUB_STA_NM': '왕십리(성동구청)',\n",
       "    'RIDE_PASGR_NUM': 15668.0,\n",
       "    'ALIGHT_PASGR_NUM': 12696.0,\n",
       "    'WORK_DT': '20200613'},\n",
       "   {'USE_DT': '20200610',\n",
       "    'LINE_NUM': '2호선',\n",
       "    'SUB_STA_NM': '한양대',\n",
       "    'RIDE_PASGR_NUM': 7965.0,\n",
       "    'ALIGHT_PASGR_NUM': 8718.0,\n",
       "    'WORK_DT': '20200613'}]}}"
      ]
     },
     "execution_count": 9,
     "metadata": {},
     "output_type": "execute_result"
    }
   ],
   "source": [
    "data"
   ]
  },
  {
   "cell_type": "code",
   "execution_count": 10,
   "metadata": {},
   "outputs": [
    {
     "data": {
      "text/plain": [
       "19"
      ]
     },
     "execution_count": 10,
     "metadata": {},
     "output_type": "execute_result"
    }
   ],
   "source": [
    "rows = data['CardSubwayStatsNew']['row']\n",
    "len(rows)"
   ]
  },
  {
   "cell_type": "code",
   "execution_count": 11,
   "metadata": {},
   "outputs": [
    {
     "data": {
      "text/plain": [
       "[['1호선', '서울역', 40995.0, 38769.0],\n",
       " ['1호선', '시청', 21206.0, 21255.0],\n",
       " ['1호선', '종각', 39605.0, 37610.0],\n",
       " ['1호선', '종로3가', 25128.0, 23953.0],\n",
       " ['1호선', '종로5가', 22810.0, 22416.0],\n",
       " ['1호선', '동대문', 11060.0, 11239.0],\n",
       " ['1호선', '신설동', 14749.0, 14940.0],\n",
       " ['1호선', '제기동', 15750.0, 16317.0],\n",
       " ['1호선', '청량리(서울시립대입구)', 19865.0, 19909.0],\n",
       " ['1호선', '동묘앞', 7829.0, 8252.0],\n",
       " ['2호선', '시청', 24821.0, 23885.0],\n",
       " ['2호선', '을지로입구', 39684.0, 40131.0],\n",
       " ['2호선', '을지로3가', 21694.0, 20925.0],\n",
       " ['2호선', '을지로4가', 13103.0, 12635.0],\n",
       " ['2호선', '동대문역사문화공원(DDP)', 11799.0, 13077.0],\n",
       " ['2호선', '신당', 13455.0, 13779.0],\n",
       " ['2호선', '상왕십리', 13724.0, 13439.0],\n",
       " ['2호선', '왕십리(성동구청)', 15668.0, 12696.0],\n",
       " ['2호선', '한양대', 7965.0, 8718.0]]"
      ]
     },
     "execution_count": 11,
     "metadata": {},
     "output_type": "execute_result"
    }
   ],
   "source": [
    "[\n",
    "    [\n",
    "        row['LINE_NUM'],\n",
    "        row['SUB_STA_NM'],\n",
    "        row['RIDE_PASGR_NUM'],\n",
    "        row['ALIGHT_PASGR_NUM']  \n",
    "    ]\n",
    "    for row in rows\n",
    "]"
   ]
  },
  {
   "cell_type": "markdown",
   "metadata": {},
   "source": [
    "# XML"
   ]
  },
  {
   "cell_type": "code",
   "execution_count": 12,
   "metadata": {},
   "outputs": [
    {
     "data": {
      "text/plain": [
       "'http://openapi.seoul.go.kr:8088/4d46796d7366726f3833774a774955/xml/CardSubwayStatsNew/1/19/20200610'"
      ]
     },
     "execution_count": 12,
     "metadata": {},
     "output_type": "execute_result"
    }
   ],
   "source": [
    "req_type = 'xml'\n",
    "\n",
    "url = \"http://openapi.seoul.go.kr:8088/\" + \\\n",
    "        \"{key}/{type}/CardSubwayStatsNew/1/{end_index}/{date}\".format(\\\n",
    "        key = key, type=req_type, date=date, end_index = end_index\n",
    ")\n",
    "\n",
    "url\n"
   ]
  },
  {
   "cell_type": "code",
   "execution_count": 14,
   "metadata": {},
   "outputs": [
    {
     "data": {
      "text/plain": [
       "<Response [200]>"
      ]
     },
     "execution_count": 14,
     "metadata": {},
     "output_type": "execute_result"
    }
   ],
   "source": [
    "response = requests.get(url)\n",
    "response"
   ]
  },
  {
   "cell_type": "code",
   "execution_count": 15,
   "metadata": {},
   "outputs": [
    {
     "data": {
      "text/plain": [
       "'<?xml version=\"1.0\" encoding=\"UTF-8\"?>\\n<CardSubwayStatsNew>\\n<list_total_count>592</list_total_count>\\n<RESULT>\\n<CODE>INFO-000</CODE>\\n<MESSAGE>정상 처리되었습니다</MESSAGE>\\n</RESULT>\\n<row>\\n<USE_DT>20200610</USE_DT>\\n<LINE_NUM>1호선</LINE_NUM>\\n<SUB_STA_NM>서울역</SUB_STA_NM>\\n<RIDE_PASGR_NUM>40995</RIDE_PASGR_NUM>\\n<ALIGHT_PASGR_NUM>38769</ALIGHT_PASGR_NUM>\\n<WORK_DT>20200613</WORK_DT>\\n</row>\\n<row>\\n<USE_DT>20200610</USE_DT>\\n<LINE_NUM>1호선</LINE_NUM>\\n<SUB_STA_NM>시청</SUB_STA_NM>\\n<RIDE_PASGR_NUM>21206</RIDE_PASGR_NUM>\\n<ALIGHT_PASGR_NUM>21255</ALIGHT_PASGR_NUM>\\n<WORK_DT>20200613</WORK_DT>\\n</row>\\n<row>\\n<USE_DT>20200610</USE_DT>\\n<LINE_NUM>1호선</LINE_NUM>\\n<SUB_STA_NM>종각</SUB_STA_NM>\\n<RIDE_PASGR_NUM>39605</RIDE_PASGR_NUM>\\n<ALIGHT_PASGR_NUM>37610</ALIGHT_PASGR_NUM>\\n<WORK_DT>20200613</WORK_DT>\\n</row>\\n<row>\\n<USE_DT>20200610</USE_DT>\\n<LINE_NUM>1호선</LINE_NUM>\\n<SUB_STA_NM>종로3가</SUB_STA_NM>\\n<RIDE_PASGR_NUM>25128</RIDE_PASGR_NUM>\\n<ALIGHT_PASGR_NUM>23953</ALIGHT_PASGR_NUM>\\n<WORK_DT>20200613</WORK_DT>\\n</row>\\n<row>\\n<USE_DT>20200610</USE_DT>\\n<LINE_NUM>1호선</LINE_NUM>\\n<SUB_STA_NM>종로5가</SUB_STA_NM>\\n<RIDE_PASGR_NUM>22810</RIDE_PASGR_NUM>\\n<ALIGHT_PASGR_NUM>22416</ALIGHT_PASGR_NUM>\\n<WORK_DT>20200613</WORK_DT>\\n</row>\\n<row>\\n<USE_DT>20200610</USE_DT>\\n<LINE_NUM>1호선</LINE_NUM>\\n<SUB_STA_NM>동대문</SUB_STA_NM>\\n<RIDE_PASGR_NUM>11060</RIDE_PASGR_NUM>\\n<ALIGHT_PASGR_NUM>11239</ALIGHT_PASGR_NUM>\\n<WORK_DT>20200613</WORK_DT>\\n</row>\\n<row>\\n<USE_DT>20200610</USE_DT>\\n<LINE_NUM>1호선</LINE_NUM>\\n<SUB_STA_NM>신설동</SUB_STA_NM>\\n<RIDE_PASGR_NUM>14749</RIDE_PASGR_NUM>\\n<ALIGHT_PASGR_NUM>14940</ALIGHT_PASGR_NUM>\\n<WORK_DT>20200613</WORK_DT>\\n</row>\\n<row>\\n<USE_DT>20200610</USE_DT>\\n<LINE_NUM>1호선</LINE_NUM>\\n<SUB_STA_NM>제기동</SUB_STA_NM>\\n<RIDE_PASGR_NUM>15750</RIDE_PASGR_NUM>\\n<ALIGHT_PASGR_NUM>16317</ALIGHT_PASGR_NUM>\\n<WORK_DT>20200613</WORK_DT>\\n</row>\\n<row>\\n<USE_DT>20200610</USE_DT>\\n<LINE_NUM>1호선</LINE_NUM>\\n<SUB_STA_NM>청량리(서울시립대입구)</SUB_STA_NM>\\n<RIDE_PASGR_NUM>19865</RIDE_PASGR_NUM>\\n<ALIGHT_PASGR_NUM>19909</ALIGHT_PASGR_NUM>\\n<WORK_DT>20200613</WORK_DT>\\n</row>\\n<row>\\n<USE_DT>20200610</USE_DT>\\n<LINE_NUM>1호선</LINE_NUM>\\n<SUB_STA_NM>동묘앞</SUB_STA_NM>\\n<RIDE_PASGR_NUM>7829</RIDE_PASGR_NUM>\\n<ALIGHT_PASGR_NUM>8252</ALIGHT_PASGR_NUM>\\n<WORK_DT>20200613</WORK_DT>\\n</row>\\n<row>\\n<USE_DT>20200610</USE_DT>\\n<LINE_NUM>2호선</LINE_NUM>\\n<SUB_STA_NM>시청</SUB_STA_NM>\\n<RIDE_PASGR_NUM>24821</RIDE_PASGR_NUM>\\n<ALIGHT_PASGR_NUM>23885</ALIGHT_PASGR_NUM>\\n<WORK_DT>20200613</WORK_DT>\\n</row>\\n<row>\\n<USE_DT>20200610</USE_DT>\\n<LINE_NUM>2호선</LINE_NUM>\\n<SUB_STA_NM>을지로입구</SUB_STA_NM>\\n<RIDE_PASGR_NUM>39684</RIDE_PASGR_NUM>\\n<ALIGHT_PASGR_NUM>40131</ALIGHT_PASGR_NUM>\\n<WORK_DT>20200613</WORK_DT>\\n</row>\\n<row>\\n<USE_DT>20200610</USE_DT>\\n<LINE_NUM>2호선</LINE_NUM>\\n<SUB_STA_NM>을지로3가</SUB_STA_NM>\\n<RIDE_PASGR_NUM>21694</RIDE_PASGR_NUM>\\n<ALIGHT_PASGR_NUM>20925</ALIGHT_PASGR_NUM>\\n<WORK_DT>20200613</WORK_DT>\\n</row>\\n<row>\\n<USE_DT>20200610</USE_DT>\\n<LINE_NUM>2호선</LINE_NUM>\\n<SUB_STA_NM>을지로4가</SUB_STA_NM>\\n<RIDE_PASGR_NUM>13103</RIDE_PASGR_NUM>\\n<ALIGHT_PASGR_NUM>12635</ALIGHT_PASGR_NUM>\\n<WORK_DT>20200613</WORK_DT>\\n</row>\\n<row>\\n<USE_DT>20200610</USE_DT>\\n<LINE_NUM>2호선</LINE_NUM>\\n<SUB_STA_NM>동대문역사문화공원(DDP)</SUB_STA_NM>\\n<RIDE_PASGR_NUM>11799</RIDE_PASGR_NUM>\\n<ALIGHT_PASGR_NUM>13077</ALIGHT_PASGR_NUM>\\n<WORK_DT>20200613</WORK_DT>\\n</row>\\n<row>\\n<USE_DT>20200610</USE_DT>\\n<LINE_NUM>2호선</LINE_NUM>\\n<SUB_STA_NM>신당</SUB_STA_NM>\\n<RIDE_PASGR_NUM>13455</RIDE_PASGR_NUM>\\n<ALIGHT_PASGR_NUM>13779</ALIGHT_PASGR_NUM>\\n<WORK_DT>20200613</WORK_DT>\\n</row>\\n<row>\\n<USE_DT>20200610</USE_DT>\\n<LINE_NUM>2호선</LINE_NUM>\\n<SUB_STA_NM>상왕십리</SUB_STA_NM>\\n<RIDE_PASGR_NUM>13724</RIDE_PASGR_NUM>\\n<ALIGHT_PASGR_NUM>13439</ALIGHT_PASGR_NUM>\\n<WORK_DT>20200613</WORK_DT>\\n</row>\\n<row>\\n<USE_DT>20200610</USE_DT>\\n<LINE_NUM>2호선</LINE_NUM>\\n<SUB_STA_NM>왕십리(성동구청)</SUB_STA_NM>\\n<RIDE_PASGR_NUM>15668</RIDE_PASGR_NUM>\\n<ALIGHT_PASGR_NUM>12696</ALIGHT_PASGR_NUM>\\n<WORK_DT>20200613</WORK_DT>\\n</row>\\n<row>\\n<USE_DT>20200610</USE_DT>\\n<LINE_NUM>2호선</LINE_NUM>\\n<SUB_STA_NM>한양대</SUB_STA_NM>\\n<RIDE_PASGR_NUM>7965</RIDE_PASGR_NUM>\\n<ALIGHT_PASGR_NUM>8718</ALIGHT_PASGR_NUM>\\n<WORK_DT>20200613</WORK_DT>\\n</row>\\n</CardSubwayStatsNew>\\n'"
      ]
     },
     "execution_count": 15,
     "metadata": {},
     "output_type": "execute_result"
    }
   ],
   "source": [
    "response.text   # XML text"
   ]
  },
  {
   "cell_type": "code",
   "execution_count": 18,
   "metadata": {},
   "outputs": [],
   "source": [
    "# BeautifulSoup 로 XML 파싱할때\n",
    "#  1. 'lxml-xml' 사용\n",
    "#  2. 태그이름 대소문자 구분 주의!"
   ]
  },
  {
   "cell_type": "code",
   "execution_count": 16,
   "metadata": {},
   "outputs": [],
   "source": [
    "dom = BeautifulSoup(response.text, 'lxml-xml')"
   ]
  },
  {
   "cell_type": "code",
   "execution_count": 17,
   "metadata": {},
   "outputs": [
    {
     "data": {
      "text/plain": [
       "<?xml version=\"1.0\" encoding=\"utf-8\"?>\n",
       "<CardSubwayStatsNew>\n",
       "<list_total_count>592</list_total_count>\n",
       "<RESULT>\n",
       "<CODE>INFO-000</CODE>\n",
       "<MESSAGE>정상 처리되었습니다</MESSAGE>\n",
       "</RESULT>\n",
       "<row>\n",
       "<USE_DT>20200610</USE_DT>\n",
       "<LINE_NUM>1호선</LINE_NUM>\n",
       "<SUB_STA_NM>서울역</SUB_STA_NM>\n",
       "<RIDE_PASGR_NUM>40995</RIDE_PASGR_NUM>\n",
       "<ALIGHT_PASGR_NUM>38769</ALIGHT_PASGR_NUM>\n",
       "<WORK_DT>20200613</WORK_DT>\n",
       "</row>\n",
       "<row>\n",
       "<USE_DT>20200610</USE_DT>\n",
       "<LINE_NUM>1호선</LINE_NUM>\n",
       "<SUB_STA_NM>시청</SUB_STA_NM>\n",
       "<RIDE_PASGR_NUM>21206</RIDE_PASGR_NUM>\n",
       "<ALIGHT_PASGR_NUM>21255</ALIGHT_PASGR_NUM>\n",
       "<WORK_DT>20200613</WORK_DT>\n",
       "</row>\n",
       "<row>\n",
       "<USE_DT>20200610</USE_DT>\n",
       "<LINE_NUM>1호선</LINE_NUM>\n",
       "<SUB_STA_NM>종각</SUB_STA_NM>\n",
       "<RIDE_PASGR_NUM>39605</RIDE_PASGR_NUM>\n",
       "<ALIGHT_PASGR_NUM>37610</ALIGHT_PASGR_NUM>\n",
       "<WORK_DT>20200613</WORK_DT>\n",
       "</row>\n",
       "<row>\n",
       "<USE_DT>20200610</USE_DT>\n",
       "<LINE_NUM>1호선</LINE_NUM>\n",
       "<SUB_STA_NM>종로3가</SUB_STA_NM>\n",
       "<RIDE_PASGR_NUM>25128</RIDE_PASGR_NUM>\n",
       "<ALIGHT_PASGR_NUM>23953</ALIGHT_PASGR_NUM>\n",
       "<WORK_DT>20200613</WORK_DT>\n",
       "</row>\n",
       "<row>\n",
       "<USE_DT>20200610</USE_DT>\n",
       "<LINE_NUM>1호선</LINE_NUM>\n",
       "<SUB_STA_NM>종로5가</SUB_STA_NM>\n",
       "<RIDE_PASGR_NUM>22810</RIDE_PASGR_NUM>\n",
       "<ALIGHT_PASGR_NUM>22416</ALIGHT_PASGR_NUM>\n",
       "<WORK_DT>20200613</WORK_DT>\n",
       "</row>\n",
       "<row>\n",
       "<USE_DT>20200610</USE_DT>\n",
       "<LINE_NUM>1호선</LINE_NUM>\n",
       "<SUB_STA_NM>동대문</SUB_STA_NM>\n",
       "<RIDE_PASGR_NUM>11060</RIDE_PASGR_NUM>\n",
       "<ALIGHT_PASGR_NUM>11239</ALIGHT_PASGR_NUM>\n",
       "<WORK_DT>20200613</WORK_DT>\n",
       "</row>\n",
       "<row>\n",
       "<USE_DT>20200610</USE_DT>\n",
       "<LINE_NUM>1호선</LINE_NUM>\n",
       "<SUB_STA_NM>신설동</SUB_STA_NM>\n",
       "<RIDE_PASGR_NUM>14749</RIDE_PASGR_NUM>\n",
       "<ALIGHT_PASGR_NUM>14940</ALIGHT_PASGR_NUM>\n",
       "<WORK_DT>20200613</WORK_DT>\n",
       "</row>\n",
       "<row>\n",
       "<USE_DT>20200610</USE_DT>\n",
       "<LINE_NUM>1호선</LINE_NUM>\n",
       "<SUB_STA_NM>제기동</SUB_STA_NM>\n",
       "<RIDE_PASGR_NUM>15750</RIDE_PASGR_NUM>\n",
       "<ALIGHT_PASGR_NUM>16317</ALIGHT_PASGR_NUM>\n",
       "<WORK_DT>20200613</WORK_DT>\n",
       "</row>\n",
       "<row>\n",
       "<USE_DT>20200610</USE_DT>\n",
       "<LINE_NUM>1호선</LINE_NUM>\n",
       "<SUB_STA_NM>청량리(서울시립대입구)</SUB_STA_NM>\n",
       "<RIDE_PASGR_NUM>19865</RIDE_PASGR_NUM>\n",
       "<ALIGHT_PASGR_NUM>19909</ALIGHT_PASGR_NUM>\n",
       "<WORK_DT>20200613</WORK_DT>\n",
       "</row>\n",
       "<row>\n",
       "<USE_DT>20200610</USE_DT>\n",
       "<LINE_NUM>1호선</LINE_NUM>\n",
       "<SUB_STA_NM>동묘앞</SUB_STA_NM>\n",
       "<RIDE_PASGR_NUM>7829</RIDE_PASGR_NUM>\n",
       "<ALIGHT_PASGR_NUM>8252</ALIGHT_PASGR_NUM>\n",
       "<WORK_DT>20200613</WORK_DT>\n",
       "</row>\n",
       "<row>\n",
       "<USE_DT>20200610</USE_DT>\n",
       "<LINE_NUM>2호선</LINE_NUM>\n",
       "<SUB_STA_NM>시청</SUB_STA_NM>\n",
       "<RIDE_PASGR_NUM>24821</RIDE_PASGR_NUM>\n",
       "<ALIGHT_PASGR_NUM>23885</ALIGHT_PASGR_NUM>\n",
       "<WORK_DT>20200613</WORK_DT>\n",
       "</row>\n",
       "<row>\n",
       "<USE_DT>20200610</USE_DT>\n",
       "<LINE_NUM>2호선</LINE_NUM>\n",
       "<SUB_STA_NM>을지로입구</SUB_STA_NM>\n",
       "<RIDE_PASGR_NUM>39684</RIDE_PASGR_NUM>\n",
       "<ALIGHT_PASGR_NUM>40131</ALIGHT_PASGR_NUM>\n",
       "<WORK_DT>20200613</WORK_DT>\n",
       "</row>\n",
       "<row>\n",
       "<USE_DT>20200610</USE_DT>\n",
       "<LINE_NUM>2호선</LINE_NUM>\n",
       "<SUB_STA_NM>을지로3가</SUB_STA_NM>\n",
       "<RIDE_PASGR_NUM>21694</RIDE_PASGR_NUM>\n",
       "<ALIGHT_PASGR_NUM>20925</ALIGHT_PASGR_NUM>\n",
       "<WORK_DT>20200613</WORK_DT>\n",
       "</row>\n",
       "<row>\n",
       "<USE_DT>20200610</USE_DT>\n",
       "<LINE_NUM>2호선</LINE_NUM>\n",
       "<SUB_STA_NM>을지로4가</SUB_STA_NM>\n",
       "<RIDE_PASGR_NUM>13103</RIDE_PASGR_NUM>\n",
       "<ALIGHT_PASGR_NUM>12635</ALIGHT_PASGR_NUM>\n",
       "<WORK_DT>20200613</WORK_DT>\n",
       "</row>\n",
       "<row>\n",
       "<USE_DT>20200610</USE_DT>\n",
       "<LINE_NUM>2호선</LINE_NUM>\n",
       "<SUB_STA_NM>동대문역사문화공원(DDP)</SUB_STA_NM>\n",
       "<RIDE_PASGR_NUM>11799</RIDE_PASGR_NUM>\n",
       "<ALIGHT_PASGR_NUM>13077</ALIGHT_PASGR_NUM>\n",
       "<WORK_DT>20200613</WORK_DT>\n",
       "</row>\n",
       "<row>\n",
       "<USE_DT>20200610</USE_DT>\n",
       "<LINE_NUM>2호선</LINE_NUM>\n",
       "<SUB_STA_NM>신당</SUB_STA_NM>\n",
       "<RIDE_PASGR_NUM>13455</RIDE_PASGR_NUM>\n",
       "<ALIGHT_PASGR_NUM>13779</ALIGHT_PASGR_NUM>\n",
       "<WORK_DT>20200613</WORK_DT>\n",
       "</row>\n",
       "<row>\n",
       "<USE_DT>20200610</USE_DT>\n",
       "<LINE_NUM>2호선</LINE_NUM>\n",
       "<SUB_STA_NM>상왕십리</SUB_STA_NM>\n",
       "<RIDE_PASGR_NUM>13724</RIDE_PASGR_NUM>\n",
       "<ALIGHT_PASGR_NUM>13439</ALIGHT_PASGR_NUM>\n",
       "<WORK_DT>20200613</WORK_DT>\n",
       "</row>\n",
       "<row>\n",
       "<USE_DT>20200610</USE_DT>\n",
       "<LINE_NUM>2호선</LINE_NUM>\n",
       "<SUB_STA_NM>왕십리(성동구청)</SUB_STA_NM>\n",
       "<RIDE_PASGR_NUM>15668</RIDE_PASGR_NUM>\n",
       "<ALIGHT_PASGR_NUM>12696</ALIGHT_PASGR_NUM>\n",
       "<WORK_DT>20200613</WORK_DT>\n",
       "</row>\n",
       "<row>\n",
       "<USE_DT>20200610</USE_DT>\n",
       "<LINE_NUM>2호선</LINE_NUM>\n",
       "<SUB_STA_NM>한양대</SUB_STA_NM>\n",
       "<RIDE_PASGR_NUM>7965</RIDE_PASGR_NUM>\n",
       "<ALIGHT_PASGR_NUM>8718</ALIGHT_PASGR_NUM>\n",
       "<WORK_DT>20200613</WORK_DT>\n",
       "</row>\n",
       "</CardSubwayStatsNew>"
      ]
     },
     "execution_count": 17,
     "metadata": {},
     "output_type": "execute_result"
    }
   ],
   "source": [
    "dom"
   ]
  },
  {
   "cell_type": "code",
   "execution_count": 19,
   "metadata": {},
   "outputs": [
    {
     "data": {
      "text/plain": [
       "19"
      ]
     },
     "execution_count": 19,
     "metadata": {},
     "output_type": "execute_result"
    }
   ],
   "source": [
    "items = dom.select(\"row\")\n",
    "len(items)"
   ]
  },
  {
   "cell_type": "code",
   "execution_count": 20,
   "metadata": {},
   "outputs": [
    {
     "data": {
      "text/plain": [
       "<row>\n",
       "<USE_DT>20200610</USE_DT>\n",
       "<LINE_NUM>1호선</LINE_NUM>\n",
       "<SUB_STA_NM>서울역</SUB_STA_NM>\n",
       "<RIDE_PASGR_NUM>40995</RIDE_PASGR_NUM>\n",
       "<ALIGHT_PASGR_NUM>38769</ALIGHT_PASGR_NUM>\n",
       "<WORK_DT>20200613</WORK_DT>\n",
       "</row>"
      ]
     },
     "execution_count": 20,
     "metadata": {},
     "output_type": "execute_result"
    }
   ],
   "source": [
    "items[0]"
   ]
  },
  {
   "cell_type": "code",
   "execution_count": 21,
   "metadata": {},
   "outputs": [
    {
     "data": {
      "text/plain": [
       "[['1호선', '서울역', '40995', '38769'],\n",
       " ['1호선', '시청', '21206', '21255'],\n",
       " ['1호선', '종각', '39605', '37610'],\n",
       " ['1호선', '종로3가', '25128', '23953'],\n",
       " ['1호선', '종로5가', '22810', '22416'],\n",
       " ['1호선', '동대문', '11060', '11239'],\n",
       " ['1호선', '신설동', '14749', '14940'],\n",
       " ['1호선', '제기동', '15750', '16317'],\n",
       " ['1호선', '청량리(서울시립대입구)', '19865', '19909'],\n",
       " ['1호선', '동묘앞', '7829', '8252'],\n",
       " ['2호선', '시청', '24821', '23885'],\n",
       " ['2호선', '을지로입구', '39684', '40131'],\n",
       " ['2호선', '을지로3가', '21694', '20925'],\n",
       " ['2호선', '을지로4가', '13103', '12635'],\n",
       " ['2호선', '동대문역사문화공원(DDP)', '11799', '13077'],\n",
       " ['2호선', '신당', '13455', '13779'],\n",
       " ['2호선', '상왕십리', '13724', '13439'],\n",
       " ['2호선', '왕십리(성동구청)', '15668', '12696'],\n",
       " ['2호선', '한양대', '7965', '8718']]"
      ]
     },
     "execution_count": 21,
     "metadata": {},
     "output_type": "execute_result"
    }
   ],
   "source": [
    "[\n",
    "    [\n",
    "        item.select_one('LINE_NUM').text.strip(),\n",
    "        item.select_one('SUB_STA_NM').text.strip(),\n",
    "        item.select_one('RIDE_PASGR_NUM').text.strip(),\n",
    "        item.select_one('ALIGHT_PASGR_NUM').text.strip()\n",
    "    ]\n",
    "    for item in items\n",
    "]"
   ]
  },
  {
   "cell_type": "code",
   "execution_count": null,
   "metadata": {},
   "outputs": [],
   "source": []
  },
  {
   "cell_type": "code",
   "execution_count": null,
   "metadata": {},
   "outputs": [],
   "source": []
  },
  {
   "cell_type": "code",
   "execution_count": null,
   "metadata": {},
   "outputs": [],
   "source": []
  },
  {
   "cell_type": "code",
   "execution_count": null,
   "metadata": {},
   "outputs": [],
   "source": []
  },
  {
   "cell_type": "code",
   "execution_count": null,
   "metadata": {},
   "outputs": [],
   "source": []
  },
  {
   "cell_type": "code",
   "execution_count": null,
   "metadata": {},
   "outputs": [],
   "source": []
  }
 ],
 "metadata": {
  "kernelspec": {
   "display_name": "Python 3",
   "language": "python",
   "name": "python3"
  },
  "language_info": {
   "codemirror_mode": {
    "name": "ipython",
    "version": 3
   },
   "file_extension": ".py",
   "mimetype": "text/x-python",
   "name": "python",
   "nbconvert_exporter": "python",
   "pygments_lexer": "ipython3",
   "version": "3.8.5"
  }
 },
 "nbformat": 4,
 "nbformat_minor": 4
}
