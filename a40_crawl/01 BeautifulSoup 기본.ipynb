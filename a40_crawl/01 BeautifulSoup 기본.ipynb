{
 "cells": [
  {
   "cell_type": "code",
   "execution_count": 1,
   "metadata": {},
   "outputs": [],
   "source": [
    "# 실질적으로 하는 '데이터 수집'  (data crawling.. scraping..)\n",
    "\n",
    "# 일반적으로 crawling.. scraping..  은 대형 포털등에서 통채로 불러올때 쓰는 말\n",
    "\n",
    "# 우리가 하려는건\n",
    "# 가령.. 뉴스, 기사 내용, 쇼핑몰 제품.. 가격정보  판매수치 정보.. 등..\n",
    "# 웹 페이지의 특정한 위치에 있는것만 가져오려 하는 것.\n",
    "\n",
    "# 가령 네이버에 특정 검색어 입력한뒤,  '블로그' 영역 이라든지 \n",
    "# 혹은 쇼핑몰 등에서 상품이미지 나 가격 이름 정보만 가져오기 라든지\n",
    "#      경쟁사의 특정 물품 판매 지수 라든지 등에 대한 정보..\n",
    "\n",
    "# 현재 우리가 하는건 사실상 parsing 이라 해야 한다.  \n",
    "\n",
    "# 그러나, 용어의 혼선이 올거 같아서, \n",
    "# 우리가 배우는 파싱 하는 것들을 그냥 크롤링 이라 부르겠습니다.\n",
    "\n",
    "\n",
    "# 앞으로 보게될 사이트 크롤링 적용예\n",
    "# 1. 정적인 사이트 \n",
    "# 2. 동적인 사이트\n",
    "# 3. 브라우저 제어를 통한 크롤링\n"
   ]
  },
  {
   "cell_type": "markdown",
   "metadata": {},
   "source": [
    "## BeautifulSoup 사용"
   ]
  },
  {
   "cell_type": "code",
   "execution_count": 2,
   "metadata": {},
   "outputs": [],
   "source": [
    "# HTML파일 읽기\n",
    "fp = open('simple.html', 'r', encoding='utf8')\n",
    "html = fp.read()\n",
    "fp.close()"
   ]
  },
  {
   "cell_type": "code",
   "execution_count": 3,
   "metadata": {},
   "outputs": [
    {
     "data": {
      "text/plain": [
       "'<!DOCTYPE html>\\n\\n<html lang=\"ko\">\\n    <head>\\n        <meta charset=\\'utf-8\\'/>\\n        <title>간단한 html</title>\\n        \\n<style>\\n\\th1 { color: red; }\\n\\tp {color: green; }\\n\\t/* ul li {color: blue; } */\\n\\n\\t/* class  */\\n\\t.animal {color: blue; }\\n\\t.fruit {color: orange; }\\n\\n\\t/* id  */\\n\\t#cat {color:brown;}\\n    \\n    table, th, td {\\n        border : 1px solid black;\\n        border-collapse : collapse;\\n    }\\n    \\n    #books b {\\n        background-color: cyan;\\n    }\\n\\n</style>        \\n        \\n        \\n        \\n        \\n    </head>    \\n    \\n    <body>\\n        <h1>header</h1>\\n        <p>This is a paragraph</p>\\n        <div>이것은 <br> div 입니다</div>\\n\\n        <ul>\\n            <li class=\"animal\">dog</li>\\n            <li class=\"animal\" id=\"cat\">cat</li>\\n            <li class=\"animal\">frog</li>\\n            <li class=\"animal\">this</li>\\n        </ul>\\n        <ul>\\n            <li class=\"fruit\">apple  </li>  <!-- 일부러 공백 띄었다 -->\\n            <li class=\"fruit\">ba<b>nana</b></li>\\n\\n        </ul>\\n        <ol>\\n            <li><a href=\"https://www.naver.com\" title=\"최고포탈\">네이버</a></li>\\n            <li><a href=\"https://www.daum.net\">daum</a></li>\\n            <li class=\"animal\">fish</li>  <!-- 일부러 여기도 animal 을 넣었다 -->\\n                 <!-- 일부러 a 가 없는 li 를 넣어보았다 -->\\n        </ol>\\n\\n        <hr>\\n        <table id=\"books\">\\n            <thead>\\n            <tr>\\n                <th>제목</th>\\n                <th>가격</th>\\n            </tr>  \\n            </thead>\\n            <tbody>\\n            <tr>\\n                <td>1.이것이 파이썬이다</td>\\n                <td><b>[도서]</b> 19,200원</td>\\n            </tr>    \\n            <tr>\\n                <td>2.저것도 파이썬이다</td>\\n                <td><b>[할인]</b> 12,800원</td>\\n            </tr>    \\n            <tr>\\n                <td>3.그래도 파이썬인가?</td>\\n                <td><b>[중고]</b> 6,500원</td>\\n            </tr>  \\n            </tbody>    \\n        </table>\\n       \\n        \\n        \\n    </body>    \\n    \\n</html>    '"
      ]
     },
     "execution_count": 3,
     "metadata": {},
     "output_type": "execute_result"
    }
   ],
   "source": [
    "html"
   ]
  },
  {
   "cell_type": "code",
   "execution_count": 4,
   "metadata": {},
   "outputs": [],
   "source": [
    "# BeautifulSoup 파싱 라이브러리 사용\n",
    "# html, xml 등을 parsing 할수 있다\n",
    "from bs4 import BeautifulSoup"
   ]
  },
  {
   "cell_type": "code",
   "execution_count": 5,
   "metadata": {},
   "outputs": [
    {
     "data": {
      "text/plain": [
       "<!DOCTYPE html>\n",
       "\n",
       "<html lang=\"ko\">\n",
       "<head>\n",
       "<meta charset=\"utf-8\"/>\n",
       "<title>간단한 html</title>\n",
       "<style>\n",
       "\th1 { color: red; }\n",
       "\tp {color: green; }\n",
       "\t/* ul li {color: blue; } */\n",
       "\n",
       "\t/* class  */\n",
       "\t.animal {color: blue; }\n",
       "\t.fruit {color: orange; }\n",
       "\n",
       "\t/* id  */\n",
       "\t#cat {color:brown;}\n",
       "    \n",
       "    table, th, td {\n",
       "        border : 1px solid black;\n",
       "        border-collapse : collapse;\n",
       "    }\n",
       "    \n",
       "    #books b {\n",
       "        background-color: cyan;\n",
       "    }\n",
       "\n",
       "</style>\n",
       "</head>\n",
       "<body>\n",
       "<h1>header</h1>\n",
       "<p>This is a paragraph</p>\n",
       "<div>이것은 <br/> div 입니다</div>\n",
       "<ul>\n",
       "<li class=\"animal\">dog</li>\n",
       "<li class=\"animal\" id=\"cat\">cat</li>\n",
       "<li class=\"animal\">frog</li>\n",
       "<li class=\"animal\">this</li>\n",
       "</ul>\n",
       "<ul>\n",
       "<li class=\"fruit\">apple  </li> <!-- 일부러 공백 띄었다 -->\n",
       "<li class=\"fruit\">ba<b>nana</b></li>\n",
       "</ul>\n",
       "<ol>\n",
       "<li><a href=\"https://www.naver.com\" title=\"최고포탈\">네이버</a></li>\n",
       "<li><a href=\"https://www.daum.net\">daum</a></li>\n",
       "<li class=\"animal\">fish</li> <!-- 일부러 여기도 animal 을 넣었다 -->\n",
       "<!-- 일부러 a 가 없는 li 를 넣어보았다 -->\n",
       "</ol>\n",
       "<hr/>\n",
       "<table id=\"books\">\n",
       "<thead>\n",
       "<tr>\n",
       "<th>제목</th>\n",
       "<th>가격</th>\n",
       "</tr>\n",
       "</thead>\n",
       "<tbody>\n",
       "<tr>\n",
       "<td>1.이것이 파이썬이다</td>\n",
       "<td><b>[도서]</b> 19,200원</td>\n",
       "</tr>\n",
       "<tr>\n",
       "<td>2.저것도 파이썬이다</td>\n",
       "<td><b>[할인]</b> 12,800원</td>\n",
       "</tr>\n",
       "<tr>\n",
       "<td>3.그래도 파이썬인가?</td>\n",
       "<td><b>[중고]</b> 6,500원</td>\n",
       "</tr>\n",
       "</tbody>\n",
       "</table>\n",
       "</body>\n",
       "</html> "
      ]
     },
     "execution_count": 5,
     "metadata": {},
     "output_type": "execute_result"
    }
   ],
   "source": [
    "data = BeautifulSoup(html, \"html.parser\")\n",
    "\n",
    "# 주어진 데이터 html 을 html 문서로 파싱하고\n",
    "# Document Object Model 객체 (DOM) 을 표현하는 BeautifulSoup 객체 생성\n",
    "\n",
    "#BeautifulSoup 생성자의 두번째 매개변수로는 html.parser 나 lxml 을 많이 사용한다. 여기서는 동일\n",
    "\n",
    "data"
   ]
  },
  {
   "cell_type": "code",
   "execution_count": 6,
   "metadata": {},
   "outputs": [
    {
     "data": {
      "text/plain": [
       "bs4.BeautifulSoup"
      ]
     },
     "execution_count": 6,
     "metadata": {},
     "output_type": "execute_result"
    }
   ],
   "source": [
    "type(data)"
   ]
  },
  {
   "cell_type": "markdown",
   "metadata": {},
   "source": [
    "## select(), select_one() "
   ]
  },
  {
   "cell_type": "code",
   "execution_count": 7,
   "metadata": {},
   "outputs": [],
   "source": [
    "#data.select_one(CSS selector)\n",
    "# 해당 CSS selector 로 select 된 첫번째 element 하나를 리턴"
   ]
  },
  {
   "cell_type": "code",
   "execution_count": 8,
   "metadata": {},
   "outputs": [
    {
     "data": {
      "text/plain": [
       "<h1>header</h1>"
      ]
     },
     "execution_count": 8,
     "metadata": {},
     "output_type": "execute_result"
    }
   ],
   "source": [
    "data.select_one(\"h1\")  # 결과는 하나의 element "
   ]
  },
  {
   "cell_type": "code",
   "execution_count": 9,
   "metadata": {},
   "outputs": [
    {
     "data": {
      "text/plain": [
       "bs4.element.Tag"
      ]
     },
     "execution_count": 9,
     "metadata": {},
     "output_type": "execute_result"
    }
   ],
   "source": [
    "type(data.select_one(\"h1\"))"
   ]
  },
  {
   "cell_type": "code",
   "execution_count": 10,
   "metadata": {},
   "outputs": [
    {
     "data": {
      "text/plain": [
       "<li class=\"animal\">dog</li>"
      ]
     },
     "execution_count": 10,
     "metadata": {},
     "output_type": "execute_result"
    }
   ],
   "source": [
    "data.select_one(\"li\")\n",
    "# 해당 selector 의 element 가 여러개 있었다 하더라도 첫번째 element만 리턴"
   ]
  },
  {
   "cell_type": "code",
   "execution_count": 11,
   "metadata": {},
   "outputs": [],
   "source": [
    "# select(CSS selector)\n",
    "# 해당 CSS selector 로 select 된 모든 'element(들)의 list' 리턴\n",
    "# 심지어 한개도 select 되지 않아도 비어있는 list 리턴"
   ]
  },
  {
   "cell_type": "code",
   "execution_count": 12,
   "metadata": {},
   "outputs": [
    {
     "data": {
      "text/plain": [
       "[<li class=\"fruit\">apple  </li>, <li class=\"fruit\">ba<b>nana</b></li>]"
      ]
     },
     "execution_count": 12,
     "metadata": {},
     "output_type": "execute_result"
    }
   ],
   "source": [
    "data.select('.fruit')\n",
    "# 결과가 element(들) 의 list 다!"
   ]
  },
  {
   "cell_type": "code",
   "execution_count": 13,
   "metadata": {},
   "outputs": [
    {
     "data": {
      "text/plain": [
       "[]"
      ]
     },
     "execution_count": 13,
     "metadata": {},
     "output_type": "execute_result"
    }
   ],
   "source": [
    "data.select('.xxx')"
   ]
  },
  {
   "cell_type": "code",
   "execution_count": 15,
   "metadata": {},
   "outputs": [],
   "source": [
    "data.select_one('.xxx') # select_one() 은 못찾으면 None 리턴"
   ]
  },
  {
   "cell_type": "code",
   "execution_count": 16,
   "metadata": {},
   "outputs": [
    {
     "data": {
      "text/plain": [
       "2"
      ]
     },
     "execution_count": 16,
     "metadata": {},
     "output_type": "execute_result"
    }
   ],
   "source": [
    "# select() 결과 element 의 개수를 알고 싶다면?\n",
    "len(data.select('.fruit'))"
   ]
  },
  {
   "cell_type": "code",
   "execution_count": 17,
   "metadata": {},
   "outputs": [
    {
     "data": {
      "text/plain": [
       "<li class=\"fruit\">apple  </li>"
      ]
     },
     "execution_count": 17,
     "metadata": {},
     "output_type": "execute_result"
    }
   ],
   "source": [
    "data.select_one('.fruit') # 첫번째 element"
   ]
  },
  {
   "cell_type": "code",
   "execution_count": 19,
   "metadata": {},
   "outputs": [
    {
     "data": {
      "text/plain": [
       "<li class=\"fruit\">apple  </li>"
      ]
     },
     "execution_count": 19,
     "metadata": {},
     "output_type": "execute_result"
    }
   ],
   "source": [
    "data.select('.fruit')[0]  # 첫번째 element"
   ]
  },
  {
   "cell_type": "markdown",
   "metadata": {},
   "source": [
    "## .text"
   ]
  },
  {
   "cell_type": "code",
   "execution_count": 20,
   "metadata": {},
   "outputs": [],
   "source": [
    "# .text : 특정 element 의 content \n",
    "#  태그는 제거된 형태"
   ]
  },
  {
   "cell_type": "code",
   "execution_count": 22,
   "metadata": {},
   "outputs": [
    {
     "data": {
      "text/plain": [
       "'apple  '"
      ]
     },
     "execution_count": 22,
     "metadata": {},
     "output_type": "execute_result"
    }
   ],
   "source": [
    "data.select('.fruit')[0].text"
   ]
  },
  {
   "cell_type": "code",
   "execution_count": 23,
   "metadata": {},
   "outputs": [
    {
     "data": {
      "text/plain": [
       "'apple'"
      ]
     },
     "execution_count": 23,
     "metadata": {},
     "output_type": "execute_result"
    }
   ],
   "source": [
    "# 텍스트 데이터 추출하고 좌우 공백 제거 --> strip()\n",
    "data.select('.fruit')[0].text.strip()"
   ]
  },
  {
   "cell_type": "code",
   "execution_count": 24,
   "metadata": {},
   "outputs": [
    {
     "data": {
      "text/plain": [
       "<li class=\"fruit\">ba<b>nana</b></li>"
      ]
     },
     "execution_count": 24,
     "metadata": {},
     "output_type": "execute_result"
    }
   ],
   "source": [
    "data.select('.fruit')[1]"
   ]
  },
  {
   "cell_type": "code",
   "execution_count": 25,
   "metadata": {},
   "outputs": [
    {
     "data": {
      "text/plain": [
       "'banana'"
      ]
     },
     "execution_count": 25,
     "metadata": {},
     "output_type": "execute_result"
    }
   ],
   "source": [
    "data.select('.fruit')[1].text  # 태그는 제거된 형태의 text"
   ]
  },
  {
   "cell_type": "code",
   "execution_count": 26,
   "metadata": {},
   "outputs": [
    {
     "data": {
      "text/plain": [
       "['apple', 'banana']"
      ]
     },
     "execution_count": 26,
     "metadata": {},
     "output_type": "execute_result"
    }
   ],
   "source": [
    "# 도전!!\n",
    "#[\"apple\", \"banana\"] 이렇게 결과가 나오도록 결과를 만들자\n",
    "# for 사용\n",
    "\n",
    "result = []\n",
    "for element in data.select('.fruit'):\n",
    "    result.append(element.text.strip())\n",
    "    \n",
    "result\n"
   ]
  },
  {
   "cell_type": "code",
   "execution_count": 28,
   "metadata": {},
   "outputs": [
    {
     "data": {
      "text/plain": [
       "['apple', 'banana']"
      ]
     },
     "execution_count": 28,
     "metadata": {},
     "output_type": "execute_result"
    }
   ],
   "source": [
    "# 도전!!\n",
    "#[\"apple\", \"banana\"] 이렇게 결과가 나오도록 list comprehension 을 사용하여 작성해보세요\n",
    "\n",
    "[element.text.strip() for element in data.select('.fruit')]"
   ]
  },
  {
   "cell_type": "code",
   "execution_count": 29,
   "metadata": {},
   "outputs": [],
   "source": [
    "# 연습: 도전!\n",
    "# animals 에 대한 리스트도 뽑아보세요\n",
    "# 결과 --> ['dog', 'cat', 'frog', 'this']"
   ]
  },
  {
   "cell_type": "code",
   "execution_count": 30,
   "metadata": {},
   "outputs": [
    {
     "data": {
      "text/plain": [
       "['dog', 'cat', 'frog', 'this']"
      ]
     },
     "execution_count": 30,
     "metadata": {},
     "output_type": "execute_result"
    }
   ],
   "source": [
    "[\n",
    "    element.text.strip()\n",
    "    for element\n",
    "    in data.select(\"ul li.animal\")\n",
    "]"
   ]
  },
  {
   "cell_type": "markdown",
   "metadata": {},
   "source": [
    "### .attrs\n",
    "attributes 추출하기"
   ]
  },
  {
   "cell_type": "code",
   "execution_count": null,
   "metadata": {},
   "outputs": [],
   "source": [
    "# 아래 링크 '주소'와  '링크이름' 을 dict 의 list 형태로 가져오기 \n",
    "\n",
    "# <ol>\n",
    "#   <li><a href=\"http://www.naver.com\">네이버</a></li>\n",
    "#   <li><a href=\"hrrp://www.daum.net\">daum</a></li>\n",
    "# </ol>\n",
    "\n",
    "\n",
    "# 결과예)\n",
    "\n",
    "# [\n",
    "#     {\n",
    "#         url: \"http://www.naver.com\",\n",
    "#         link: \"네이버\"\n",
    "#     },\n",
    "#     {\n",
    "#         url: \"http://www.daum.net\",\n",
    "#         link: \"daum\"\n",
    "#     },\n",
    "# ]\n",
    "\n"
   ]
  },
  {
   "cell_type": "code",
   "execution_count": 32,
   "metadata": {},
   "outputs": [
    {
     "data": {
      "text/plain": [
       "[<li><a href=\"https://www.naver.com\" title=\"최고포탈\">네이버</a></li>,\n",
       " <li><a href=\"https://www.daum.net\">daum</a></li>,\n",
       " <li class=\"animal\">fish</li>]"
      ]
     },
     "execution_count": 32,
     "metadata": {},
     "output_type": "execute_result"
    }
   ],
   "source": [
    "items = data.select(\"ol li\")\n",
    "items"
   ]
  },
  {
   "cell_type": "code",
   "execution_count": 34,
   "metadata": {},
   "outputs": [
    {
     "data": {
      "text/plain": [
       "<a href=\"https://www.naver.com\" title=\"최고포탈\">네이버</a>"
      ]
     },
     "execution_count": 34,
     "metadata": {},
     "output_type": "execute_result"
    }
   ],
   "source": [
    "# element 객체에서 다시 select, select_one()  사용가능\n",
    "items[0].select_one(\"a\")"
   ]
  },
  {
   "cell_type": "code",
   "execution_count": 35,
   "metadata": {},
   "outputs": [
    {
     "data": {
      "text/plain": [
       "{'href': 'https://www.naver.com', 'title': '최고포탈'}"
      ]
     },
     "execution_count": 35,
     "metadata": {},
     "output_type": "execute_result"
    }
   ],
   "source": [
    "items[0].select_one(\"a\").attrs   # attrs 는 dict 결과"
   ]
  },
  {
   "cell_type": "code",
   "execution_count": 36,
   "metadata": {},
   "outputs": [
    {
     "data": {
      "text/plain": [
       "'https://www.naver.com'"
      ]
     },
     "execution_count": 36,
     "metadata": {},
     "output_type": "execute_result"
    }
   ],
   "source": [
    "items[0].select_one(\"a\").attrs['href']"
   ]
  },
  {
   "cell_type": "code",
   "execution_count": 37,
   "metadata": {},
   "outputs": [
    {
     "data": {
      "text/plain": [
       "'https://www.naver.com'"
      ]
     },
     "execution_count": 37,
     "metadata": {},
     "output_type": "execute_result"
    }
   ],
   "source": [
    "items[0].select_one(\"a\").attrs.get('href')"
   ]
  },
  {
   "cell_type": "code",
   "execution_count": 38,
   "metadata": {},
   "outputs": [
    {
     "ename": "KeyError",
     "evalue": "'aaa'",
     "output_type": "error",
     "traceback": [
      "\u001b[1;31m---------------------------------------------------------------------------\u001b[0m",
      "\u001b[1;31mKeyError\u001b[0m                                  Traceback (most recent call last)",
      "\u001b[1;32m<ipython-input-38-50f194c86acb>\u001b[0m in \u001b[0;36m<module>\u001b[1;34m\u001b[0m\n\u001b[1;32m----> 1\u001b[1;33m \u001b[0mitems\u001b[0m\u001b[1;33m[\u001b[0m\u001b[1;36m0\u001b[0m\u001b[1;33m]\u001b[0m\u001b[1;33m.\u001b[0m\u001b[0mselect_one\u001b[0m\u001b[1;33m(\u001b[0m\u001b[1;34m\"a\"\u001b[0m\u001b[1;33m)\u001b[0m\u001b[1;33m.\u001b[0m\u001b[0mattrs\u001b[0m\u001b[1;33m[\u001b[0m\u001b[1;34m'aaa'\u001b[0m\u001b[1;33m]\u001b[0m\u001b[1;33m\u001b[0m\u001b[1;33m\u001b[0m\u001b[0m\n\u001b[0m",
      "\u001b[1;31mKeyError\u001b[0m: 'aaa'"
     ]
    }
   ],
   "source": [
    "items[0].select_one(\"a\").attrs['aaa']"
   ]
  },
  {
   "cell_type": "code",
   "execution_count": 39,
   "metadata": {},
   "outputs": [],
   "source": [
    "items[0].select_one(\"a\").attrs.get('aaa')"
   ]
  },
  {
   "cell_type": "code",
   "execution_count": 40,
   "metadata": {},
   "outputs": [
    {
     "data": {
      "text/plain": [
       "[{'url': 'https://www.naver.com', 'link': '네이버'},\n",
       " {'url': 'https://www.daum.net', 'link': 'daum'}]"
      ]
     },
     "execution_count": 40,
     "metadata": {},
     "output_type": "execute_result"
    }
   ],
   "source": [
    "# 최종결과\n",
    "[\n",
    "    {\n",
    "        \"url\" : item.select_one(\"a\").attrs.get('href'),\n",
    "        \"link\" : item.select_one(\"a\").text.strip()\n",
    "    }\n",
    "    \n",
    "    for item\n",
    "    in data.select(\"ol li\")\n",
    "    if item.select_one(\"a\")    \n",
    "]"
   ]
  },
  {
   "cell_type": "code",
   "execution_count": null,
   "metadata": {},
   "outputs": [],
   "source": []
  },
  {
   "cell_type": "markdown",
   "metadata": {},
   "source": [
    "### element 를 제거하려면? --> decompose()"
   ]
  },
  {
   "cell_type": "code",
   "execution_count": 43,
   "metadata": {},
   "outputs": [
    {
     "data": {
      "text/plain": [
       "[<tr>\n",
       " <th>제목</th>\n",
       " <th>가격</th>\n",
       " </tr>,\n",
       " <tr>\n",
       " <td>1.이것이 파이썬이다</td>\n",
       " <td><b>[도서]</b> 19,200원</td>\n",
       " </tr>,\n",
       " <tr>\n",
       " <td>2.저것도 파이썬이다</td>\n",
       " <td><b>[할인]</b> 12,800원</td>\n",
       " </tr>,\n",
       " <tr>\n",
       " <td>3.그래도 파이썬인가?</td>\n",
       " <td><b>[중고]</b> 6,500원</td>\n",
       " </tr>]"
      ]
     },
     "execution_count": 43,
     "metadata": {},
     "output_type": "execute_result"
    }
   ],
   "source": [
    "row_elements = data.select_one(\"#books\").select(\"tr\")\n",
    "row_elements"
   ]
  },
  {
   "cell_type": "code",
   "execution_count": 44,
   "metadata": {},
   "outputs": [
    {
     "data": {
      "text/plain": [
       "4"
      ]
     },
     "execution_count": 44,
     "metadata": {},
     "output_type": "execute_result"
    }
   ],
   "source": [
    "len(row_elements)   # select() 결과의 len() 꼭 확인해보자"
   ]
  },
  {
   "cell_type": "code",
   "execution_count": 45,
   "metadata": {},
   "outputs": [],
   "source": [
    "# comprehension 을 사용하여 만들어보자\n",
    "\"\"\"\n",
    "<결과 예시>\n",
    "[{'제목': '이것이 파이썬이다', '가격': '[도서] 19,200원'},\n",
    " {'제목': '저것도 파이썬이다', '가격': '[할인] 12,800원'},\n",
    " {'제목': '그래도 파이썬인가?', '가격': '[중고] 6,500원'}]\n",
    "\"\"\"\n",
    "None"
   ]
  },
  {
   "cell_type": "code",
   "execution_count": 50,
   "metadata": {},
   "outputs": [
    {
     "data": {
      "text/plain": [
       "<td>1.이것이 파이썬이다</td>"
      ]
     },
     "execution_count": 50,
     "metadata": {},
     "output_type": "execute_result"
    }
   ],
   "source": [
    "row_elements[1].select_one('td')"
   ]
  },
  {
   "cell_type": "code",
   "execution_count": 53,
   "metadata": {},
   "outputs": [
    {
     "data": {
      "text/plain": [
       "[{'제목': '1.이것이 파이썬이다', '가격': '[도서] 19,200원'},\n",
       " {'제목': '2.저것도 파이썬이다', '가격': '[할인] 12,800원'},\n",
       " {'제목': '3.그래도 파이썬인가?', '가격': '[중고] 6,500원'}]"
      ]
     },
     "execution_count": 53,
     "metadata": {},
     "output_type": "execute_result"
    }
   ],
   "source": [
    "result = [\n",
    "    {\n",
    "#         '제목' : element.select('td')[0].text.strip(), \n",
    "#         '가격' : element.select('td')[1].text.strip(),\n",
    "        \n",
    "        '제목' : element.select_one(\"td:first-child\").text.strip(), \n",
    "        '가격' : element.select_one('td:nth-child(2)').text.strip(),\n",
    "    }\n",
    "    \n",
    "    for element in row_elements\n",
    "    if element.select_one('td')\n",
    "]\n",
    "\n",
    "result"
   ]
  },
  {
   "cell_type": "code",
   "execution_count": 55,
   "metadata": {},
   "outputs": [
    {
     "data": {
      "text/plain": [
       "[{'제목': '1.이것이 파이썬이다', '가격': '[도서] 19,200원'},\n",
       " {'제목': '2.저것도 파이썬이다', '가격': '[할인] 12,800원'},\n",
       " {'제목': '3.그래도 파이썬인가?', '가격': '[중고] 6,500원'}]"
      ]
     },
     "execution_count": 55,
     "metadata": {},
     "output_type": "execute_result"
    }
   ],
   "source": [
    "result = [\n",
    "    {\n",
    "#         '제목' : element.select('td')[0].text.strip(), \n",
    "#         '가격' : element.select('td')[1].text.strip(),\n",
    "        \n",
    "        '제목' : element.select_one(\"td:first-child\").text.strip(), \n",
    "        '가격' : element.select_one('td:nth-child(2)').text.strip(),\n",
    "    }\n",
    "    \n",
    "\n",
    "    for element in data.select(\"#books > tbody > tr\")\n",
    "]\n",
    "\n",
    "result"
   ]
  },
  {
   "cell_type": "code",
   "execution_count": null,
   "metadata": {},
   "outputs": [],
   "source": [
    "# 가격 앞의 [도서], [할인].. 제거하려면?\n",
    "# <td><b>[중고]</b> 6,500원</td>        \n",
    "\n",
    "# <td> element  안의 <b> element 를 제거하고 싶다.\n",
    "\n",
    "# element 의 decompose () 사용"
   ]
  },
  {
   "cell_type": "code",
   "execution_count": 59,
   "metadata": {},
   "outputs": [
    {
     "name": "stdout",
     "output_type": "stream",
     "text": [
      "decompose() 전 <td><b>[도서]</b> 19,200원</td>\n",
      "decompose() 후 <td> 19,200원</td>\n",
      "decompose() 전 <td><b>[할인]</b> 12,800원</td>\n",
      "decompose() 후 <td> 12,800원</td>\n",
      "decompose() 전 <td><b>[중고]</b> 6,500원</td>\n",
      "decompose() 후 <td> 6,500원</td>\n"
     ]
    },
    {
     "data": {
      "text/plain": [
       "[{'제목': '1.이것이 파이썬이다', '가격': '19,200원'},\n",
       " {'제목': '2.저것도 파이썬이다', '가격': '12,800원'},\n",
       " {'제목': '3.그래도 파이썬인가?', '가격': '6,500원'}]"
      ]
     },
     "execution_count": 59,
     "metadata": {},
     "output_type": "execute_result"
    }
   ],
   "source": [
    "data = BeautifulSoup(html, \"html.parser\")\n",
    "row_elements = data.select(\"#books > tbody > tr\")\n",
    "\n",
    "result = []\n",
    "\n",
    "for row in row_elements:\n",
    "    \n",
    "    price_element = row.select_one('td:nth-child(2)')\n",
    "    print('decompose() 전', price_element)\n",
    "    price_element.select_one('b').decompose()  \n",
    "    print('decompose() 후', price_element)\n",
    "    \n",
    "    item = {\n",
    "        \"제목\" : row.select_one(\"td:first-child\").text.strip(),\n",
    "        \"가격\" : price_element.text.strip()\n",
    "    }\n",
    "    result.append(item)\n",
    "\n",
    "result"
   ]
  },
  {
   "cell_type": "markdown",
   "metadata": {},
   "source": [
    "#### 가격을 숫자타입으로 파싱하려면?\n",
    "'19,200원' --> 19000 float 타입으로"
   ]
  },
  {
   "cell_type": "code",
   "execution_count": 63,
   "metadata": {},
   "outputs": [
    {
     "data": {
      "text/plain": [
       "1232200.0"
      ]
     },
     "execution_count": 63,
     "metadata": {},
     "output_type": "execute_result"
    }
   ],
   "source": [
    "myStr = '1,232,200원'\n",
    "myStr = myStr.replace(',', '')  # 중간 콤마 제거\n",
    "myStr = myStr[:-1]  # 끝의 한글자 제거\n",
    "\n",
    "num = float(myStr)\n",
    "num"
   ]
  },
  {
   "cell_type": "code",
   "execution_count": 64,
   "metadata": {},
   "outputs": [
    {
     "name": "stdout",
     "output_type": "stream",
     "text": [
      "decompose() 전 <td><b>[도서]</b> 19,200원</td>\n",
      "decompose() 후 <td> 19,200원</td>\n",
      "decompose() 전 <td><b>[할인]</b> 12,800원</td>\n",
      "decompose() 후 <td> 12,800원</td>\n",
      "decompose() 전 <td><b>[중고]</b> 6,500원</td>\n",
      "decompose() 후 <td> 6,500원</td>\n"
     ]
    },
    {
     "data": {
      "text/plain": [
       "[{'제목': '1.이것이 파이썬이다', '가격': 19200.0},\n",
       " {'제목': '2.저것도 파이썬이다', '가격': 12800.0},\n",
       " {'제목': '3.그래도 파이썬인가?', '가격': 6500.0}]"
      ]
     },
     "execution_count": 64,
     "metadata": {},
     "output_type": "execute_result"
    }
   ],
   "source": [
    "data = BeautifulSoup(html, \"html.parser\")\n",
    "row_elements = data.select(\"#books > tbody > tr\")\n",
    "\n",
    "result = []\n",
    "\n",
    "for row in row_elements:\n",
    "    \n",
    "    price_element = row.select_one('td:nth-child(2)')\n",
    "    print('decompose() 전', price_element)\n",
    "    price_element.select_one('b').decompose()  \n",
    "    print('decompose() 후', price_element)\n",
    "    \n",
    "    item = {\n",
    "        \"제목\" : row.select_one(\"td:first-child\").text.strip(),\n",
    "        \"가격\" : float(price_element.text.strip().replace(',', '')[:-1])\n",
    "    }\n",
    "    result.append(item)\n",
    "\n",
    "result"
   ]
  },
  {
   "cell_type": "markdown",
   "metadata": {},
   "source": [
    "#### 크롤링 결과를 DataFrame 으로 만들기"
   ]
  },
  {
   "cell_type": "code",
   "execution_count": 65,
   "metadata": {},
   "outputs": [],
   "source": [
    "import pandas as pd"
   ]
  },
  {
   "cell_type": "code",
   "execution_count": 66,
   "metadata": {},
   "outputs": [
    {
     "data": {
      "text/html": [
       "<div>\n",
       "<style scoped>\n",
       "    .dataframe tbody tr th:only-of-type {\n",
       "        vertical-align: middle;\n",
       "    }\n",
       "\n",
       "    .dataframe tbody tr th {\n",
       "        vertical-align: top;\n",
       "    }\n",
       "\n",
       "    .dataframe thead th {\n",
       "        text-align: right;\n",
       "    }\n",
       "</style>\n",
       "<table border=\"1\" class=\"dataframe\">\n",
       "  <thead>\n",
       "    <tr style=\"text-align: right;\">\n",
       "      <th></th>\n",
       "      <th>제목</th>\n",
       "      <th>가격</th>\n",
       "    </tr>\n",
       "  </thead>\n",
       "  <tbody>\n",
       "  </tbody>\n",
       "</table>\n",
       "</div>"
      ],
      "text/plain": [
       "Empty DataFrame\n",
       "Columns: [제목, 가격]\n",
       "Index: []"
      ]
     },
     "execution_count": 66,
     "metadata": {},
     "output_type": "execute_result"
    }
   ],
   "source": [
    "df = pd.DataFrame(columns = ['제목', '가격'])\n",
    "df"
   ]
  },
  {
   "cell_type": "code",
   "execution_count": 67,
   "metadata": {},
   "outputs": [
    {
     "data": {
      "text/html": [
       "<div>\n",
       "<style scoped>\n",
       "    .dataframe tbody tr th:only-of-type {\n",
       "        vertical-align: middle;\n",
       "    }\n",
       "\n",
       "    .dataframe tbody tr th {\n",
       "        vertical-align: top;\n",
       "    }\n",
       "\n",
       "    .dataframe thead th {\n",
       "        text-align: right;\n",
       "    }\n",
       "</style>\n",
       "<table border=\"1\" class=\"dataframe\">\n",
       "  <thead>\n",
       "    <tr style=\"text-align: right;\">\n",
       "      <th></th>\n",
       "      <th>제목</th>\n",
       "      <th>가격</th>\n",
       "    </tr>\n",
       "  </thead>\n",
       "  <tbody>\n",
       "    <tr>\n",
       "      <th>0</th>\n",
       "      <td>1.이것이 파이썬이다</td>\n",
       "      <td>19200.0</td>\n",
       "    </tr>\n",
       "    <tr>\n",
       "      <th>1</th>\n",
       "      <td>2.저것도 파이썬이다</td>\n",
       "      <td>12800.0</td>\n",
       "    </tr>\n",
       "    <tr>\n",
       "      <th>2</th>\n",
       "      <td>3.그래도 파이썬인가?</td>\n",
       "      <td>6500.0</td>\n",
       "    </tr>\n",
       "  </tbody>\n",
       "</table>\n",
       "</div>"
      ],
      "text/plain": [
       "             제목       가격\n",
       "0   1.이것이 파이썬이다  19200.0\n",
       "1   2.저것도 파이썬이다  12800.0\n",
       "2  3.그래도 파이썬인가?   6500.0"
      ]
     },
     "execution_count": 67,
     "metadata": {},
     "output_type": "execute_result"
    }
   ],
   "source": [
    "for data in result:\n",
    "    df.loc[len(df)] = data\n",
    "    \n",
    "df"
   ]
  },
  {
   "cell_type": "code",
   "execution_count": null,
   "metadata": {},
   "outputs": [],
   "source": []
  },
  {
   "cell_type": "code",
   "execution_count": null,
   "metadata": {},
   "outputs": [],
   "source": []
  },
  {
   "cell_type": "code",
   "execution_count": null,
   "metadata": {},
   "outputs": [],
   "source": []
  },
  {
   "cell_type": "code",
   "execution_count": null,
   "metadata": {},
   "outputs": [],
   "source": []
  },
  {
   "cell_type": "code",
   "execution_count": null,
   "metadata": {},
   "outputs": [],
   "source": []
  },
  {
   "cell_type": "code",
   "execution_count": null,
   "metadata": {},
   "outputs": [],
   "source": []
  },
  {
   "cell_type": "code",
   "execution_count": null,
   "metadata": {},
   "outputs": [],
   "source": []
  },
  {
   "cell_type": "code",
   "execution_count": null,
   "metadata": {},
   "outputs": [],
   "source": []
  },
  {
   "cell_type": "code",
   "execution_count": null,
   "metadata": {},
   "outputs": [],
   "source": []
  },
  {
   "cell_type": "code",
   "execution_count": null,
   "metadata": {},
   "outputs": [],
   "source": []
  }
 ],
 "metadata": {
  "kernelspec": {
   "display_name": "Python 3",
   "language": "python",
   "name": "python3"
  },
  "language_info": {
   "codemirror_mode": {
    "name": "ipython",
    "version": 3
   },
   "file_extension": ".py",
   "mimetype": "text/x-python",
   "name": "python",
   "nbconvert_exporter": "python",
   "pygments_lexer": "ipython3",
   "version": "3.8.5"
  }
 },
 "nbformat": 4,
 "nbformat_minor": 4
}
