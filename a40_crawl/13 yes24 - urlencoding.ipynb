{
 "cells": [
  {
   "cell_type": "markdown",
   "metadata": {},
   "source": [
    "# yes24\n",
    "\n",
    "- 책제목, 가격(정수), 상세페이지url, 썸네일이미지url\n",
    "- 썸네일 이미지 다운로드 --> 상품 아이디 명으로 다운로드 받기\n"
   ]
  },
  {
   "cell_type": "code",
   "execution_count": 1,
   "metadata": {},
   "outputs": [],
   "source": [
    "import requests\n",
    "from bs4 import BeautifulSoup\n",
    "import urllib\n",
    "import urllib.parse as urlparser\n",
    "import os"
   ]
  },
  {
   "cell_type": "code",
   "execution_count": null,
   "metadata": {},
   "outputs": [],
   "source": [
    "# yes24 는 url encoding 2byte 체제...\n",
    "# utf-8 인코딩이 아니다\n",
    "\n",
    "# euc-kr, cp949, ms949.. 으로 인코딩 해야 한다."
   ]
  },
  {
   "cell_type": "code",
   "execution_count": 2,
   "metadata": {},
   "outputs": [],
   "source": [
    "\"\"\"\n",
    "http://www.yes24.com/searchcorner/Search\n",
    "?\n",
    "keywordAd=&\n",
    "keyword=&\n",
    "domain=ALL&\n",
    "qdomain=%C0%FC%C3%BC&\n",
    "Wcode=001_005&\n",
    "query=%C6%C4%C0%CC%BD%E3\n",
    "\n",
    "\"\"\"\n",
    "None"
   ]
  },
  {
   "cell_type": "code",
   "execution_count": 3,
   "metadata": {},
   "outputs": [],
   "source": [
    "url_base = 'http://www.yes24.com/searchcorner/Search?keywordAd=&keyword=&domain=ALL&qdomain=%C0%FC%C3%BC&Wcode=001_005&query={search}'"
   ]
  },
  {
   "cell_type": "code",
   "execution_count": 14,
   "metadata": {},
   "outputs": [
    {
     "data": {
      "text/plain": [
       "'%C6%C4%C0%CC%BD%E3'"
      ]
     },
     "execution_count": 14,
     "metadata": {},
     "output_type": "execute_result"
    }
   ],
   "source": [
    "keyword = '파이썬'\n",
    "\n",
    "search = urlparser.quote(keyword, encoding='cp949') ## 인코딩!!\n",
    "search\n"
   ]
  },
  {
   "cell_type": "code",
   "execution_count": 15,
   "metadata": {},
   "outputs": [
    {
     "data": {
      "text/plain": [
       "'http://www.yes24.com/searchcorner/Search?keywordAd=&keyword=&domain=ALL&qdomain=%C0%FC%C3%BC&Wcode=001_005&query=%C6%C4%C0%CC%BD%E3'"
      ]
     },
     "execution_count": 15,
     "metadata": {},
     "output_type": "execute_result"
    }
   ],
   "source": [
    "url = url_base.format(search=search)\n",
    "url"
   ]
  },
  {
   "cell_type": "code",
   "execution_count": 16,
   "metadata": {},
   "outputs": [
    {
     "data": {
      "text/plain": [
       "<Response [200]>"
      ]
     },
     "execution_count": 16,
     "metadata": {},
     "output_type": "execute_result"
    }
   ],
   "source": [
    "response = requests.get(url)\n",
    "response"
   ]
  },
  {
   "cell_type": "code",
   "execution_count": 17,
   "metadata": {},
   "outputs": [],
   "source": [
    "dom = BeautifulSoup(response.text, 'html.parser')"
   ]
  },
  {
   "cell_type": "code",
   "execution_count": 18,
   "metadata": {},
   "outputs": [
    {
     "data": {
      "text/plain": [
       "15"
      ]
     },
     "execution_count": 18,
     "metadata": {},
     "output_type": "execute_result"
    }
   ],
   "source": [
    "rr = dom.select_one(\"#schMid_wrap > div.goods_list_wrap.mgt30\")\n",
    "# rr = dom.select_one(\"#schMid_wrap\")\n",
    "len(rr)"
   ]
  },
  {
   "cell_type": "code",
   "execution_count": 19,
   "metadata": {},
   "outputs": [
    {
     "data": {
      "text/plain": [
       "20"
      ]
     },
     "execution_count": 19,
     "metadata": {},
     "output_type": "execute_result"
    }
   ],
   "source": [
    "book_list = rr.select(\"div.goodsList.goodsList_list table tr:nth-child(even)\")\n",
    "len(book_list)"
   ]
  },
  {
   "cell_type": "code",
   "execution_count": 21,
   "metadata": {},
   "outputs": [],
   "source": [
    "\"\"\"\n",
    "[{'thumbnail_url': 'http://image.yes24.com/Goods/74419916/L',\n",
    "  'book_title': 'Do it! 점프 투 파이썬',\n",
    "  'book_url': 'http://www.yes24.com/Product/Goods/74419916?OzSrank=1',\n",
    "  'price': 16920},\n",
    " {'thumbnail_url': 'http://image.yes24.com/Goods/74269975/L',\n",
    "  'book_title': '혼자 공부하는 파이썬',\n",
    "  'book_url': 'http://www.yes24.com/Product/Goods/74269975?OzSrank=2',\n",
    "  'price': 16200},\n",
    " {'thumbnail_url': 'http://image.yes24.com/Goods/96024871/L',\n",
    "  'book_title': '혼자 공부하는 머신러닝+딥러닝',\n",
    "  'book_url': 'http://www.yes24.com/Product/Goods/96024871?OzSrank=3',\n",
    "  'price': 23400},\n",
    "  ...\n",
    "]\n",
    "\"\"\"\n",
    "None"
   ]
  },
  {
   "cell_type": "code",
   "execution_count": 28,
   "metadata": {},
   "outputs": [
    {
     "data": {
      "text/plain": [
       "[{'thumbnail_url': 'http://image.yes24.com/Goods/74419916/L',\n",
       "  'book_title': 'Do it! 점프 투 파이썬',\n",
       "  'book_url': 'http://www.yes24.com/Product/Goods/74419916?OzSrank=1',\n",
       "  'price': 16920},\n",
       " {'thumbnail_url': 'http://image.yes24.com/Goods/74269975/L',\n",
       "  'book_title': '혼자 공부하는 파이썬',\n",
       "  'book_url': 'http://www.yes24.com/Product/Goods/74269975?OzSrank=2',\n",
       "  'price': 16200},\n",
       " {'thumbnail_url': 'http://image.yes24.com/Goods/96024871/L',\n",
       "  'book_title': '혼자 공부하는 머신러닝+딥러닝',\n",
       "  'book_url': 'http://www.yes24.com/Product/Goods/96024871?OzSrank=3',\n",
       "  'price': 23400},\n",
       " {'thumbnail_url': 'http://image.yes24.com/Goods/91433923/L',\n",
       "  'book_title': '이것이 취업을 위한 코딩 테스트다 with 파이썬',\n",
       "  'book_url': 'http://www.yes24.com/Product/Goods/91433923?OzSrank=4',\n",
       "  'price': 30600},\n",
       " {'thumbnail_url': 'http://image.yes24.com/Goods/98135876/L',\n",
       "  'book_title': '파이썬을 이용한 비트코인 자동매매',\n",
       "  'book_url': 'http://www.yes24.com/Product/Goods/98135876?OzSrank=5',\n",
       "  'price': 24300},\n",
       " {'thumbnail_url': 'http://image.yes24.com/Goods/90578506/L',\n",
       "  'book_title': '파이썬 증권 데이터 분석',\n",
       "  'book_url': 'http://www.yes24.com/Product/Goods/90578506?OzSrank=6',\n",
       "  'price': 28800},\n",
       " {'thumbnail_url': 'http://image.yes24.com/Goods/101818336/L',\n",
       "  'book_title': '파이썬으로 살펴보는 아키텍처 패턴',\n",
       "  'book_url': 'http://www.yes24.com/Product/Goods/101818336?OzSrank=7',\n",
       "  'price': 28800},\n",
       " {'thumbnail_url': 'http://image.yes24.com/Goods/91437485/L',\n",
       "  'book_title': 'Do it! 파이썬 생활 프로그래밍',\n",
       "  'book_url': 'http://www.yes24.com/Product/Goods/91437485?OzSrank=8',\n",
       "  'price': 18000},\n",
       " {'thumbnail_url': 'http://image.yes24.com/Goods/91446225/L',\n",
       "  'book_title': 'Do it! 점프 투 파이썬 + Do it! 파이썬 생활 프로그래밍',\n",
       "  'book_url': 'http://www.yes24.com/Product/Goods/91446225?OzSrank=9',\n",
       "  'price': 34920},\n",
       " {'thumbnail_url': 'http://image.yes24.com/Goods/91084402/L',\n",
       "  'book_title': '파이썬 알고리즘 인터뷰',\n",
       "  'book_url': 'http://www.yes24.com/Product/Goods/91084402?OzSrank=10',\n",
       "  'price': 34200},\n",
       " {'thumbnail_url': 'http://image.yes24.com/Goods/87044746/L',\n",
       "  'book_title': '파이썬 머신러닝 완벽 가이드',\n",
       "  'book_url': 'http://www.yes24.com/Product/Goods/87044746?OzSrank=11',\n",
       "  'price': 34200},\n",
       " {'thumbnail_url': 'http://image.yes24.com/Goods/101876329/L',\n",
       "  'book_title': '파이썬 스킬 업',\n",
       "  'book_url': 'http://www.yes24.com/Product/Goods/101876329?OzSrank=12',\n",
       "  'price': 36000},\n",
       " {'thumbnail_url': 'http://image.yes24.com/Goods/101861210/L',\n",
       "  'book_title': '똑똑한 파이썬',\n",
       "  'book_url': 'http://www.yes24.com/Product/Goods/101861210?OzSrank=13',\n",
       "  'price': 16200},\n",
       " {'thumbnail_url': 'http://image.yes24.com/Goods/101891366/L',\n",
       "  'book_title': '파이썬 데이터 과학 통계 학습',\n",
       "  'book_url': 'http://www.yes24.com/Product/Goods/101891366?OzSrank=14',\n",
       "  'price': 26100},\n",
       " {'thumbnail_url': 'http://image.yes24.com/Goods/34970929/L',\n",
       "  'book_title': '밑바닥부터 시작하는 딥러닝',\n",
       "  'book_url': 'http://www.yes24.com/Product/Goods/34970929?OzSrank=15',\n",
       "  'price': 21600},\n",
       " {'thumbnail_url': 'http://image.yes24.com/Goods/90617738/L',\n",
       "  'book_title': '혼자 공부하는 첫 프로그래밍 with 파이썬',\n",
       "  'book_url': 'http://www.yes24.com/Product/Goods/90617738?OzSrank=16',\n",
       "  'price': 15300},\n",
       " {'thumbnail_url': 'http://image.yes24.com/Goods/66531799/L',\n",
       "  'book_title': '모두의 파이썬',\n",
       "  'book_url': 'http://www.yes24.com/Product/Goods/66531799?OzSrank=17',\n",
       "  'price': 10800},\n",
       " {'thumbnail_url': 'http://image.yes24.com/Goods/94197582/L',\n",
       "  'book_title': '파이썬 코딩의 기술(개정2판)',\n",
       "  'book_url': 'http://www.yes24.com/Product/Goods/94197582?OzSrank=18',\n",
       "  'price': 28800},\n",
       " {'thumbnail_url': 'http://image.yes24.com/Goods/89959711/L',\n",
       "  'book_title': '핸즈온 머신러닝',\n",
       "  'book_url': 'http://www.yes24.com/Product/Goods/89959711?OzSrank=19',\n",
       "  'price': 49500},\n",
       " {'thumbnail_url': 'http://image.yes24.com/Goods/91446242/L',\n",
       "  'book_title': 'Do it! 점프 투 파이썬 + Do it! 자료구조와 함께 배우는 알고리즘 입문 : 파이썬 편 + Do it! 파이썬 생활 프로그래밍',\n",
       "  'book_url': 'http://www.yes24.com/Product/Goods/91446242?OzSrank=20',\n",
       "  'price': 54720}]"
      ]
     },
     "execution_count": 28,
     "metadata": {},
     "output_type": "execute_result"
    }
   ],
   "source": [
    "result = []\n",
    "\n",
    "for book_item in book_list:\n",
    "    # 썸네일 url\n",
    "    img = book_item.select_one(\"td.goods_img > a > img\")\n",
    "    img_src = img.attrs['src'].strip()  \n",
    "    # 책제목\n",
    "    book_title = book_item.select_one(\"td.goods_infogrp > p.goods_name > a\").text.strip()\n",
    "    # 책 url\n",
    "    book_url = book_item.select_one(\"td.goods_infogrp > p.goods_name > a\").attrs['href']\n",
    "    book_url = \"http://www.yes24.com\" + book_url \n",
    "    # 책 가격\n",
    "    price = int(book_item.select_one(\"td.goods_infogrp > .goods_price > em\").text.strip().replace(\",\", \"\"))     \n",
    "    \n",
    "    result.append({\n",
    "        \"thumbnail_url\" : img_src,\n",
    "        \"book_title\" : book_title,\n",
    "        \"book_url\" : book_url,\n",
    "        \"price\" : price\n",
    "    })\n",
    "\n",
    "result"
   ]
  },
  {
   "cell_type": "code",
   "execution_count": null,
   "metadata": {},
   "outputs": [],
   "source": []
  },
  {
   "cell_type": "markdown",
   "metadata": {},
   "source": [
    "## 썸네일 이미지 다운로드"
   ]
  },
  {
   "cell_type": "code",
   "execution_count": 29,
   "metadata": {},
   "outputs": [],
   "source": [
    "# ./yes24 폴더 만들고\n",
    "\n",
    "# 위 검색결과에서 썸네일 이미지만 위 폴더에 다운로드 하기\n",
    "\n",
    "# 저장 파일 형태는\n",
    "# yes24_파이썬_1_74419916.jpg\n",
    "# yes24_파이썬_2_74269975.jpg\n",
    "# yes24_파이썬_3_96024871.jpg\n",
    "# yes24_파이썬_4_91433923.jpg\n",
    "#  ...\n"
   ]
  },
  {
   "cell_type": "code",
   "execution_count": 30,
   "metadata": {},
   "outputs": [],
   "source": [
    "basepath = r'D:\\DevRoot\\DataSet'"
   ]
  },
  {
   "cell_type": "code",
   "execution_count": 32,
   "metadata": {},
   "outputs": [
    {
     "name": "stdout",
     "output_type": "stream",
     "text": [
      "D:\\DevRoot\\DataSet\\download\\yes24 디렉토리 생성\n"
     ]
    }
   ],
   "source": [
    "dirpath = os.path.join(basepath, 'download', 'yes24')\n",
    "if not os.path.exists(dirpath):\n",
    "    os.mkdir(dirpath)\n",
    "    print(dirpath, '디렉토리 생성')"
   ]
  },
  {
   "cell_type": "code",
   "execution_count": 39,
   "metadata": {},
   "outputs": [
    {
     "name": "stdout",
     "output_type": "stream",
     "text": [
      "다운로드 http://image.yes24.com/Goods/74419916/L -> yes24_파이썬_1_74419916.jpg\n",
      "다운로드 http://image.yes24.com/Goods/74269975/L -> yes24_파이썬_2_74269975.jpg\n",
      "다운로드 http://image.yes24.com/Goods/96024871/L -> yes24_파이썬_3_96024871.jpg\n",
      "다운로드 http://image.yes24.com/Goods/91433923/L -> yes24_파이썬_4_91433923.jpg\n",
      "다운로드 http://image.yes24.com/Goods/98135876/L -> yes24_파이썬_5_98135876.jpg\n",
      "다운로드 http://image.yes24.com/Goods/90578506/L -> yes24_파이썬_6_90578506.jpg\n",
      "다운로드 http://image.yes24.com/Goods/101818336/L -> yes24_파이썬_7_101818336.jpg\n",
      "다운로드 http://image.yes24.com/Goods/91437485/L -> yes24_파이썬_8_91437485.jpg\n",
      "다운로드 http://image.yes24.com/Goods/91446225/L -> yes24_파이썬_9_91446225.jpg\n",
      "다운로드 http://image.yes24.com/Goods/91084402/L -> yes24_파이썬_10_91084402.jpg\n",
      "다운로드 http://image.yes24.com/Goods/87044746/L -> yes24_파이썬_11_87044746.jpg\n",
      "다운로드 http://image.yes24.com/Goods/101876329/L -> yes24_파이썬_12_101876329.jpg\n",
      "다운로드 http://image.yes24.com/Goods/101861210/L -> yes24_파이썬_13_101861210.jpg\n",
      "다운로드 http://image.yes24.com/Goods/101891366/L -> yes24_파이썬_14_101891366.jpg\n",
      "다운로드 http://image.yes24.com/Goods/34970929/L -> yes24_파이썬_15_34970929.jpg\n",
      "다운로드 http://image.yes24.com/Goods/90617738/L -> yes24_파이썬_16_90617738.jpg\n",
      "다운로드 http://image.yes24.com/Goods/66531799/L -> yes24_파이썬_17_66531799.jpg\n",
      "다운로드 http://image.yes24.com/Goods/94197582/L -> yes24_파이썬_18_94197582.jpg\n",
      "다운로드 http://image.yes24.com/Goods/89959711/L -> yes24_파이썬_19_89959711.jpg\n",
      "다운로드 http://image.yes24.com/Goods/91446242/L -> yes24_파이썬_20_91446242.jpg\n"
     ]
    }
   ],
   "source": [
    "i = 1\n",
    "for item in result:\n",
    "    url = item.get('thumbnail_url')\n",
    "    book_id = urlparser.urlsplit(url).path.split('/')[2]\n",
    "    download_name = \"yes24_{keyword}_{index}_{book_id}.jpg\".format(keyword=keyword, index=i, book_id=book_id)\n",
    "    print(\"다운로드\", url, '->', download_name)\n",
    "    urllib.request.urlretrieve(url, os.path.join(dirpath, download_name))\n",
    "    i += 1"
   ]
  },
  {
   "cell_type": "code",
   "execution_count": null,
   "metadata": {},
   "outputs": [],
   "source": []
  },
  {
   "cell_type": "code",
   "execution_count": null,
   "metadata": {},
   "outputs": [],
   "source": []
  },
  {
   "cell_type": "code",
   "execution_count": null,
   "metadata": {},
   "outputs": [],
   "source": []
  },
  {
   "cell_type": "code",
   "execution_count": null,
   "metadata": {},
   "outputs": [],
   "source": []
  },
  {
   "cell_type": "code",
   "execution_count": null,
   "metadata": {},
   "outputs": [],
   "source": []
  },
  {
   "cell_type": "code",
   "execution_count": null,
   "metadata": {},
   "outputs": [],
   "source": []
  },
  {
   "cell_type": "code",
   "execution_count": null,
   "metadata": {},
   "outputs": [],
   "source": []
  },
  {
   "cell_type": "code",
   "execution_count": null,
   "metadata": {},
   "outputs": [],
   "source": []
  },
  {
   "cell_type": "code",
   "execution_count": null,
   "metadata": {},
   "outputs": [],
   "source": []
  }
 ],
 "metadata": {
  "kernelspec": {
   "display_name": "Python 3",
   "language": "python",
   "name": "python3"
  },
  "language_info": {
   "codemirror_mode": {
    "name": "ipython",
    "version": 3
   },
   "file_extension": ".py",
   "mimetype": "text/x-python",
   "name": "python",
   "nbconvert_exporter": "python",
   "pygments_lexer": "ipython3",
   "version": "3.8.5"
  }
 },
 "nbformat": 4,
 "nbformat_minor": 4
}
