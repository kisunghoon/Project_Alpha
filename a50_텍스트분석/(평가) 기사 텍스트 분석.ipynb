{
 "cells": [
  {
   "cell_type": "code",
   "execution_count": null,
   "metadata": {},
   "outputs": [],
   "source": [
    "# TODO : 각종 import, 기본 변수값들."
   ]
  },
  {
   "cell_type": "markdown",
   "metadata": {},
   "source": [
    "# 1. 텍스트 데이터 수집\n",
    "\n",
    "- 기사 텍스트 수집 사이트 : https://www.bigkinds.or.kr/\n",
    "\n",
    "\n",
    "- 검색 조건\n",
    "    - 검색어 :     \n",
    "    > ((조국) OR (조국 민정수석) OR (조국 청와대 민정수석) OR (조국 서울대학교 법학전문대학원 교수) OR (조국 서울대 교수) OR (서울대 법학전문대학원 조국 교수) OR (조국 교수) OR (조국 서울대 법학전문대학원 교수) OR (조국 법무부 장관 후보자) OR (조국 법무부 장관) OR (조국 법무장관) OR (조국 장관) OR (조국 전 법무부 장관) OR (조국 전 장관) OR (조국 전 법무장관) OR (조국 전 법무부 장관) OR (조국 전 법무부 장관)) AND ((회장) OR (민정수석) OR (새정치민주연합) OR (서울대학교) OR (혁신위원회) OR (대학교수) OR (위원) OR (한국경찰법학회) OR (청와대) OR (법학전문대학원) OR (서울대학교 법학전문대학원) OR (교수) OR (수석))\n",
    "    \n",
    "    \n",
    "-     \n",
    "    - 기간: **최근 1주**\n",
    "    - 언론사: **조선일보, 동아일보, 경향신문, 한겨레**\n",
    "    - 통합분류 : **정치**\n",
    "    - 검색어처리 : **바이그램**\n",
    "\n",
    "\n",
    "- **전체 페이징** 하여 기사별 데이터 추출(크롤링)하기\n",
    "    - 추출항목 : **날짜 / 기사제목 / 언론사 / 기사본문**\n",
    "\n",
    "\n",
    "- selenium 혹은 requests 혹은 둘을 혼합하여 사용 가능합니다\n",
    "    - 크롤링 동작은 **하나의 셀**에 작성하세요\n",
    "    \n",
    "\n",
    "- **언론사 별** 로  DataFrame 담아서 출력하기\n",
    "    - 변수명은 각각\n",
    "        - df_chosun\n",
    "        - df_donga\n",
    "        - df_kyunghyang\n",
    "        - df_hankyoreh\n",
    "|날짜|제목|언론사|기사본문|\n",
    "|-|-|-|-|\n",
    "|...|...|...|...|\n",
    "        \n",
    "    \n",
    "\n",
    "\n"
   ]
  },
  {
   "cell_type": "code",
   "execution_count": null,
   "metadata": {},
   "outputs": [],
   "source": [
    "# 크롤링\n",
    "# TODO"
   ]
  },
  {
   "cell_type": "code",
   "execution_count": null,
   "metadata": {},
   "outputs": [],
   "source": [
    "# 결과\n",
    "df_chosun"
   ]
  },
  {
   "cell_type": "code",
   "execution_count": null,
   "metadata": {},
   "outputs": [],
   "source": [
    "# 결과\n",
    "df_donga"
   ]
  },
  {
   "cell_type": "code",
   "execution_count": null,
   "metadata": {},
   "outputs": [],
   "source": [
    "# 결과\n",
    "df_kyunghyang"
   ]
  },
  {
   "cell_type": "code",
   "execution_count": 5,
   "metadata": {},
   "outputs": [],
   "source": [
    "# 결과\n",
    "df_hankyoreh"
   ]
  },
  {
   "cell_type": "code",
   "execution_count": null,
   "metadata": {},
   "outputs": [],
   "source": []
  },
  {
   "cell_type": "code",
   "execution_count": null,
   "metadata": {},
   "outputs": [],
   "source": []
  },
  {
   "cell_type": "markdown",
   "metadata": {},
   "source": [
    "# 2. 텍스트 데이터 정제\n",
    "\n",
    "- **언론사별** '기사본문' 텍스트를 정제 합니다\n",
    "\n",
    "    - 불필요한 태그 제거\n",
    "\n",
    "    - 불용어 설정 및 제거\n",
    "\n",
    "    - 구두점 제거\n",
    "\n",
    "    - 치환어 설정 및 치환\n",
    "\n",
    "\n",
    "- 언론사별 DataFrame 에 새로운 컬럼 '정제본문' 을 추가하고, 위 정제된 텍스트를 넣습니다\n",
    "\n",
    "|날짜|제목|언론사|기사본문|**정제본문**|\n",
    "|-|-|-|-|-|\n",
    "|...|...|...|...|...|\n",
    "\n",
    "- 결과 출력1 : 각 언론사별 DataFrame 출력\n",
    "\n",
    "- 결과 출력2 : 전체 기사중 한건만 골라서, '정제전' 과 '정제후' 결과를 보여주세요"
   ]
  },
  {
   "cell_type": "code",
   "execution_count": 6,
   "metadata": {},
   "outputs": [],
   "source": [
    "# 텍스트 데이터 정제\n",
    "# TODO\n",
    "\n",
    "\n"
   ]
  },
  {
   "cell_type": "code",
   "execution_count": null,
   "metadata": {},
   "outputs": [],
   "source": [
    "# 결과출력1\n",
    "df_chosun"
   ]
  },
  {
   "cell_type": "code",
   "execution_count": null,
   "metadata": {},
   "outputs": [],
   "source": [
    "# 결과출력1\n",
    "df_donga"
   ]
  },
  {
   "cell_type": "code",
   "execution_count": null,
   "metadata": {},
   "outputs": [],
   "source": [
    "# 결과출력1\n",
    "df_kyunghyang"
   ]
  },
  {
   "cell_type": "code",
   "execution_count": 5,
   "metadata": {},
   "outputs": [],
   "source": [
    "# 결과출력1\n",
    "df_hankyoreh"
   ]
  },
  {
   "cell_type": "code",
   "execution_count": 8,
   "metadata": {},
   "outputs": [],
   "source": [
    "# 결과출력2\n",
    "# '정제전 기사'\n",
    "# TODO"
   ]
  },
  {
   "cell_type": "code",
   "execution_count": 9,
   "metadata": {},
   "outputs": [],
   "source": [
    "# 결과출력2\n",
    "# '정제후 기사'\n",
    "# TODO"
   ]
  },
  {
   "cell_type": "code",
   "execution_count": null,
   "metadata": {},
   "outputs": [],
   "source": []
  },
  {
   "cell_type": "code",
   "execution_count": null,
   "metadata": {},
   "outputs": [],
   "source": []
  },
  {
   "cell_type": "markdown",
   "metadata": {},
   "source": [
    "# 3. 형태소 분석 \n",
    "\n",
    "- 언론사 별로 기사들의 '정제본문' 을 합친후, 형태소 분리\n",
    "\n",
    "- 어휘소 분석기는 KoNLPy 의 Okt (Open Korean Text) 사용\n",
    "\n",
    "\n",
    "- **동사**, **명사** 만 분류\n",
    "\n",
    "     - norm , stem 옵션을 주어 원형만 분리해 냅니다\n",
    "     \n",
    "\n",
    "- 결과는 pos() 결과인 list 로 출력하고\n",
    "    - list 변수명은 언론사별로 각각\n",
    "        - malist_chosun\n",
    "        - malist_donga\n",
    "        - malist_kyunghyang\n",
    "        - malist_hankyoreh\n",
    "        \n",
    "        \n",
    "- 출력 결과는 첫 50개만 출력해주세요        \n"
   ]
  },
  {
   "cell_type": "code",
   "execution_count": 10,
   "metadata": {},
   "outputs": [],
   "source": [
    "# TODO 형태소 분리\n",
    "\n",
    "\n"
   ]
  },
  {
   "cell_type": "code",
   "execution_count": null,
   "metadata": {},
   "outputs": [],
   "source": [
    "# 결과\n",
    "malist_chosun[:50]"
   ]
  },
  {
   "cell_type": "code",
   "execution_count": null,
   "metadata": {},
   "outputs": [],
   "source": [
    "# 결과\n",
    "malist_donga[:50]"
   ]
  },
  {
   "cell_type": "code",
   "execution_count": null,
   "metadata": {},
   "outputs": [],
   "source": [
    "# 결과\n",
    "malist_kyunghyang[:50]"
   ]
  },
  {
   "cell_type": "code",
   "execution_count": null,
   "metadata": {},
   "outputs": [],
   "source": [
    "# 결과\n",
    "malist_hankyoreh[:50]"
   ]
  },
  {
   "cell_type": "code",
   "execution_count": null,
   "metadata": {},
   "outputs": [],
   "source": []
  },
  {
   "cell_type": "code",
   "execution_count": null,
   "metadata": {},
   "outputs": [],
   "source": []
  },
  {
   "cell_type": "markdown",
   "metadata": {},
   "source": [
    "# 4. 텍스트 데이터 분석\n",
    "\n",
    "1. 언론사별 x 품사별 등장 어휘 빈도수 분석\n",
    "    - 단어길이는 2글자 이상만 빈도수 계산\n",
    "    \n",
    "1. 시각화\n",
    "    - **언론사별**로 x '명사', '동사' 등장빈도 상위 20개를 내림차순으로 bar plot 으로 시각화 하기\n",
    "        - 조선일보 명사\n",
    "        - 조선일보 동사\n",
    "        - 동아일보 명사\n",
    "        - 동아일보 동사\n",
    "        - 경향신문 명사\n",
    "        - 경향신문 동사\n",
    "        - 한겨례 명사\n",
    "        - 한겨례 동사\n",
    "        - ※ plot 별로 위 title 을 달아주세요\n",
    "        \n",
    "    - **언론사별** x '명사' 상위 20개를 wordcloud 만들어 시각화 하기\n",
    "        - 조선일보 명사 wordcloud\n",
    "        - 동아일보 명사 wordcloud\n",
    "        - 경향신문 명사 wordcloud\n",
    "        - 한겨례 명사 wordcloud\n",
    "    "
   ]
  },
  {
   "cell_type": "code",
   "execution_count": null,
   "metadata": {},
   "outputs": [],
   "source": [
    "# 어휘 빈도수 분석\n",
    "# TODO\n",
    "\n",
    "\n"
   ]
  },
  {
   "cell_type": "code",
   "execution_count": 19,
   "metadata": {},
   "outputs": [],
   "source": [
    "# 조선일보 명사 bar plot\n",
    "# TODO"
   ]
  },
  {
   "cell_type": "code",
   "execution_count": null,
   "metadata": {},
   "outputs": [],
   "source": [
    "# 조선일보 동사 bar plot\n",
    "# TODO"
   ]
  },
  {
   "cell_type": "code",
   "execution_count": null,
   "metadata": {},
   "outputs": [],
   "source": [
    "# 동아일보 명사 bar plot\n",
    "# TODO"
   ]
  },
  {
   "cell_type": "code",
   "execution_count": null,
   "metadata": {},
   "outputs": [],
   "source": [
    "# 동아일보 동사 bar plot\n",
    "# TODO"
   ]
  },
  {
   "cell_type": "code",
   "execution_count": null,
   "metadata": {},
   "outputs": [],
   "source": [
    "# 경향신문 명사 bar plot\n",
    "# TODO"
   ]
  },
  {
   "cell_type": "code",
   "execution_count": null,
   "metadata": {},
   "outputs": [],
   "source": [
    "# 경향신문 동사 bar plot\n",
    "# TODO"
   ]
  },
  {
   "cell_type": "code",
   "execution_count": null,
   "metadata": {},
   "outputs": [],
   "source": [
    "# 한겨례 명사 bar plot\n",
    "# TODO"
   ]
  },
  {
   "cell_type": "code",
   "execution_count": null,
   "metadata": {},
   "outputs": [],
   "source": [
    "# 한겨례 동사 bar plot\n",
    "# TODO"
   ]
  },
  {
   "cell_type": "code",
   "execution_count": null,
   "metadata": {},
   "outputs": [],
   "source": [
    "# 조선일보 명사 wordcloud\n",
    "# TODO"
   ]
  },
  {
   "cell_type": "code",
   "execution_count": null,
   "metadata": {},
   "outputs": [],
   "source": [
    "# 동아일보 명사 wordcloud\n",
    "# TODO"
   ]
  },
  {
   "cell_type": "code",
   "execution_count": null,
   "metadata": {},
   "outputs": [],
   "source": [
    "# 경향신문 명사 wordcloud\n",
    "# TODO"
   ]
  },
  {
   "cell_type": "code",
   "execution_count": null,
   "metadata": {},
   "outputs": [],
   "source": [
    "# 한겨례 명사 wordcloud\n",
    "# TODO"
   ]
  },
  {
   "cell_type": "code",
   "execution_count": null,
   "metadata": {},
   "outputs": [],
   "source": []
  },
  {
   "cell_type": "code",
   "execution_count": null,
   "metadata": {},
   "outputs": [],
   "source": []
  },
  {
   "cell_type": "markdown",
   "metadata": {},
   "source": [
    "# 5. 정형데이터화\n",
    "- **언론사별**로  정제된기사 텍스트를 Word2Vec 모델을 적용 학습시켜 벡터화 합니다\n",
    "\n",
    "\n",
    "- 이후 언론사별로 '조국' 이라는 단어와 가장 가까운 단어들이 무엇인지 출력해보세요"
   ]
  },
  {
   "cell_type": "code",
   "execution_count": null,
   "metadata": {},
   "outputs": [],
   "source": [
    "# Word2Vec 모델 학습\n",
    "# TODO\n",
    "\n"
   ]
  },
  {
   "cell_type": "code",
   "execution_count": 11,
   "metadata": {},
   "outputs": [],
   "source": [
    "# 조선일보\n",
    "# TODO"
   ]
  },
  {
   "cell_type": "code",
   "execution_count": 13,
   "metadata": {},
   "outputs": [],
   "source": [
    "# 동아일보\n",
    "# TODO"
   ]
  },
  {
   "cell_type": "code",
   "execution_count": 15,
   "metadata": {},
   "outputs": [],
   "source": [
    "# 경향신문\n",
    "# TODO"
   ]
  },
  {
   "cell_type": "code",
   "execution_count": 17,
   "metadata": {},
   "outputs": [],
   "source": [
    "# 한겨레\n",
    "# TODO"
   ]
  },
  {
   "cell_type": "code",
   "execution_count": null,
   "metadata": {},
   "outputs": [],
   "source": []
  }
 ],
 "metadata": {
  "kernelspec": {
   "display_name": "Python 3",
   "language": "python",
   "name": "python3"
  },
  "language_info": {
   "codemirror_mode": {
    "name": "ipython",
    "version": 3
   },
   "file_extension": ".py",
   "mimetype": "text/x-python",
   "name": "python",
   "nbconvert_exporter": "python",
   "pygments_lexer": "ipython3",
   "version": "3.8.5"
  }
 },
 "nbformat": 4,
 "nbformat_minor": 4
}
