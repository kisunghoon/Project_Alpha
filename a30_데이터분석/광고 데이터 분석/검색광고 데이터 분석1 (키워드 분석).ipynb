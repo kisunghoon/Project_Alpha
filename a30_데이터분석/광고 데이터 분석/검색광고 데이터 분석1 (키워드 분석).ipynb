{
 "cells": [
  {
   "cell_type": "markdown",
   "metadata": {},
   "source": [
    "## Domain Knowledge 2 : 광고성과지표\n",
    "| 광고성과지표 | = | 계산식 |\n",
    "|:---------- |---------- |:---------- |\n",
    "|CTR(Click Through Rate)|=|클릭수 / 노출수 * 100|\n",
    "|CPM(Cost Per Mile)|=|광고비용 / 노출수 * 1000|\n",
    "|CPC(Cost Per Click)|=|광고비용 / 클릭수|\n",
    "|CPA(Cost Per Action)|=|광고비용 / 구매수|\n",
    "\n",
    "\n"
   ]
  },
  {
   "cell_type": "code",
   "execution_count": 1,
   "metadata": {},
   "outputs": [],
   "source": [
    "imp = 10000 # 노출수 (impression)\n",
    "clk = 100 # 클릭수 (click)\n",
    "conv = 10 # 구매전환 (conversion)\n",
    "cost = 100000 # 광고비용 (cost)\n",
    "\n",
    "# ↑ 광고 마케팅을 통해 나온 지표"
   ]
  },
  {
   "cell_type": "code",
   "execution_count": 2,
   "metadata": {},
   "outputs": [
    {
     "data": {
      "text/plain": [
       "1.0"
      ]
     },
     "execution_count": 2,
     "metadata": {},
     "output_type": "execute_result"
    }
   ],
   "source": [
    "# ctr \n",
    "ctr = clk / imp * 100\n",
    "ctr"
   ]
  },
  {
   "cell_type": "code",
   "execution_count": 3,
   "metadata": {},
   "outputs": [
    {
     "data": {
      "text/plain": [
       "10000.0"
      ]
     },
     "execution_count": 3,
     "metadata": {},
     "output_type": "execute_result"
    }
   ],
   "source": [
    "# cpm\n",
    "cpm = cost / imp * 1000\n",
    "cpm"
   ]
  },
  {
   "cell_type": "code",
   "execution_count": 4,
   "metadata": {},
   "outputs": [
    {
     "data": {
      "text/plain": [
       "1000.0"
      ]
     },
     "execution_count": 4,
     "metadata": {},
     "output_type": "execute_result"
    }
   ],
   "source": [
    "# cpc\n",
    "cpc = cost / clk\n",
    "cpc"
   ]
  },
  {
   "cell_type": "code",
   "execution_count": 5,
   "metadata": {},
   "outputs": [
    {
     "data": {
      "text/plain": [
       "10000.0"
      ]
     },
     "execution_count": 5,
     "metadata": {},
     "output_type": "execute_result"
    }
   ],
   "source": [
    "# cpa\n",
    "cpa = cost / conv\n",
    "cpa"
   ]
  },
  {
   "cell_type": "code",
   "execution_count": 6,
   "metadata": {},
   "outputs": [],
   "source": [
    "import pandas as pd\n",
    "import numpy as np\n",
    "import matplotlib.pyplot as plt\n",
    "\n",
    "%matplotlib inline"
   ]
  },
  {
   "cell_type": "code",
   "execution_count": 7,
   "metadata": {},
   "outputs": [],
   "source": [
    "# matplotlib 한글 폰트 출력코드\n",
    "# 출처 : 데이터공방( https://kiddwannabe.blog.me)\n",
    "\n",
    "import matplotlib\n",
    "from matplotlib import font_manager, rc\n",
    "import platform\n",
    "\n",
    "try : \n",
    "    if platform.system() == 'Windows':\n",
    "    # 윈도우인 경우\n",
    "        font_name = font_manager.FontProperties(fname=\"c:/Windows/Fonts/malgun.ttf\").get_name()\n",
    "        rc('font', family=font_name)\n",
    "    else:    \n",
    "    # Mac 인 경우\n",
    "        rc('font', family='AppleGothic')\n",
    "except : \n",
    "    pass\n",
    "matplotlib.rcParams['axes.unicode_minus'] = False  \n",
    "\n"
   ]
  },
  {
   "cell_type": "code",
   "execution_count": 8,
   "metadata": {},
   "outputs": [],
   "source": [
    "# 전체적인 보고서의 구성 들여다 보기\n",
    "\n",
    "# 광고그룹 x 키워드 가 있는데.\n",
    "# 하나의 광고그룹에 키워드가 여러개 있는 형태입니다.\n",
    "# ex) 올인원패키지 : '업무자동화_VBA ' 광고그룹 하에 '엑셀배우기', '엑셀자격증' 키워드들이 있다.\n",
    "# 각 키워드 별로 '노출수' '클릭수' '클릭률%' '평균클릭비용' '총비용' 이 세팅되어 있다."
   ]
  },
  {
   "cell_type": "markdown",
   "metadata": {},
   "source": [
    "## 분석목표 : \n",
    "1. 중점관리 키워드, 저효율 키워드 추출\n",
    "2. 중점관리 광고그룹, 저효율 광고그룹 추출"
   ]
  },
  {
   "cell_type": "code",
   "execution_count": 9,
   "metadata": {},
   "outputs": [],
   "source": [
    "# 실제 현업에서 \n",
    "# 마케팅 쪽 데이터를 다루게 되면 '광고그룹' 과 '키워드' 가 굉~장히 많습니다.\n",
    "#   ex) 광고그룹 수백개..  키워드 90,000개 이상.  ---> 엑셀로 다루기에는 한계가 있다.\n",
    "#   ==>  과연 어떠한 '광고그룹', 어떠한 '키워드' 를 중점적으로 키워야 하지??   단순 엑셀 작업으로는 추려내기 힘들수도 있다.\n",
    "#     ==> 그러면 데이터 중심의 운영이 아니라 '감/경험' 에 의존한 운영을 하게 된다.\n",
    "\n",
    "# 파이썬을 통해서 어떻게 대량 데이터를 어떻게 파악하고, 또 어떻게 분석할수 있느냐를 알아보도록 하겠습니다.\n"
   ]
  },
  {
   "cell_type": "markdown",
   "metadata": {},
   "source": [
    "# 분석과정\n",
    "1. 데이터 전처리\n",
    "1. 데이터 탐색\n",
    "1. 시각화\n",
    "1. 데이터 분석"
   ]
  },
  {
   "cell_type": "markdown",
   "metadata": {},
   "source": [
    "---\n",
    "# 1. 데이터 전처리\n",
    "- 엑셀 파일 읽기\n",
    "- 열단위 수치연산 및 데이터 타입 다루기"
   ]
  },
  {
   "cell_type": "code",
   "execution_count": 10,
   "metadata": {},
   "outputs": [],
   "source": [
    "filepath = r'D:\\DevRoot\\DataSet\\네이버보고서.xls'"
   ]
  },
  {
   "cell_type": "code",
   "execution_count": 11,
   "metadata": {},
   "outputs": [
    {
     "data": {
      "text/html": [
       "<div>\n",
       "<style scoped>\n",
       "    .dataframe tbody tr th:only-of-type {\n",
       "        vertical-align: middle;\n",
       "    }\n",
       "\n",
       "    .dataframe tbody tr th {\n",
       "        vertical-align: top;\n",
       "    }\n",
       "\n",
       "    .dataframe thead th {\n",
       "        text-align: right;\n",
       "    }\n",
       "</style>\n",
       "<table border=\"1\" class=\"dataframe\">\n",
       "  <thead>\n",
       "    <tr style=\"text-align: right;\">\n",
       "      <th></th>\n",
       "      <th>캠페인보고서(2019.02.01.~2019.04.30.),ftasia</th>\n",
       "      <th>Unnamed: 1</th>\n",
       "      <th>Unnamed: 2</th>\n",
       "      <th>Unnamed: 3</th>\n",
       "      <th>Unnamed: 4</th>\n",
       "      <th>Unnamed: 5</th>\n",
       "      <th>Unnamed: 6</th>\n",
       "    </tr>\n",
       "  </thead>\n",
       "  <tbody>\n",
       "    <tr>\n",
       "      <th>0</th>\n",
       "      <td>광고그룹</td>\n",
       "      <td>키워드</td>\n",
       "      <td>노출수</td>\n",
       "      <td>클릭수</td>\n",
       "      <td>클릭률(%)</td>\n",
       "      <td>평균클릭비용(VAT포함,원)</td>\n",
       "      <td>총비용(VAT포함,원)</td>\n",
       "    </tr>\n",
       "    <tr>\n",
       "      <th>1</th>\n",
       "      <td>올인원 패키지 : 디자인 툴_파워컨텐츠_포토샵</td>\n",
       "      <td>-</td>\n",
       "      <td>2319456</td>\n",
       "      <td>9606</td>\n",
       "      <td>0.414149</td>\n",
       "      <td>261.549</td>\n",
       "      <td>2512444</td>\n",
       "    </tr>\n",
       "    <tr>\n",
       "      <th>2</th>\n",
       "      <td>올인원 패키지 : 업무자동화_VBA</td>\n",
       "      <td>-</td>\n",
       "      <td>767491</td>\n",
       "      <td>8058</td>\n",
       "      <td>1.04991</td>\n",
       "      <td>295.975</td>\n",
       "      <td>2384965</td>\n",
       "    </tr>\n",
       "    <tr>\n",
       "      <th>3</th>\n",
       "      <td>ㅍAOP 전체_중복키워드_디자인(삭제)</td>\n",
       "      <td>일러스트</td>\n",
       "      <td>1137840</td>\n",
       "      <td>324</td>\n",
       "      <td>0.028475</td>\n",
       "      <td>4841.66</td>\n",
       "      <td>1568699</td>\n",
       "    </tr>\n",
       "    <tr>\n",
       "      <th>4</th>\n",
       "      <td>올인원 패키지 : 데이터 분석 입문 온라인_파콘</td>\n",
       "      <td>-</td>\n",
       "      <td>694106</td>\n",
       "      <td>1863.6</td>\n",
       "      <td>0.268489</td>\n",
       "      <td>630.593</td>\n",
       "      <td>1175174</td>\n",
       "    </tr>\n",
       "  </tbody>\n",
       "</table>\n",
       "</div>"
      ],
      "text/plain": [
       "  캠페인보고서(2019.02.01.~2019.04.30.),ftasia Unnamed: 1 Unnamed: 2 Unnamed: 3  \\\n",
       "0                                   광고그룹        키워드        노출수        클릭수   \n",
       "1              올인원 패키지 : 디자인 툴_파워컨텐츠_포토샵          -    2319456       9606   \n",
       "2                    올인원 패키지 : 업무자동화_VBA          -     767491       8058   \n",
       "3                  ㅍAOP 전체_중복키워드_디자인(삭제)       일러스트    1137840        324   \n",
       "4             올인원 패키지 : 데이터 분석 입문 온라인_파콘          -     694106     1863.6   \n",
       "\n",
       "  Unnamed: 4       Unnamed: 5    Unnamed: 6  \n",
       "0     클릭률(%)  평균클릭비용(VAT포함,원)  총비용(VAT포함,원)  \n",
       "1   0.414149          261.549       2512444  \n",
       "2    1.04991          295.975       2384965  \n",
       "3   0.028475          4841.66       1568699  \n",
       "4   0.268489          630.593       1175174  "
      ]
     },
     "execution_count": 11,
     "metadata": {},
     "output_type": "execute_result"
    }
   ],
   "source": [
    "df = pd.read_excel(filepath)\n",
    "df.head()"
   ]
  },
  {
   "cell_type": "markdown",
   "metadata": {},
   "source": [
    "#### skiprows 를 사용하여 불필요한 행 제거"
   ]
  },
  {
   "cell_type": "code",
   "execution_count": 12,
   "metadata": {},
   "outputs": [
    {
     "data": {
      "text/html": [
       "<div>\n",
       "<style scoped>\n",
       "    .dataframe tbody tr th:only-of-type {\n",
       "        vertical-align: middle;\n",
       "    }\n",
       "\n",
       "    .dataframe tbody tr th {\n",
       "        vertical-align: top;\n",
       "    }\n",
       "\n",
       "    .dataframe thead th {\n",
       "        text-align: right;\n",
       "    }\n",
       "</style>\n",
       "<table border=\"1\" class=\"dataframe\">\n",
       "  <thead>\n",
       "    <tr style=\"text-align: right;\">\n",
       "      <th></th>\n",
       "      <th>광고그룹</th>\n",
       "      <th>키워드</th>\n",
       "      <th>노출수</th>\n",
       "      <th>클릭수</th>\n",
       "      <th>클릭률(%)</th>\n",
       "      <th>평균클릭비용(VAT포함,원)</th>\n",
       "      <th>총비용(VAT포함,원)</th>\n",
       "    </tr>\n",
       "  </thead>\n",
       "  <tbody>\n",
       "    <tr>\n",
       "      <th>0</th>\n",
       "      <td>올인원 패키지 : 디자인 툴_파워컨텐츠_포토샵</td>\n",
       "      <td>-</td>\n",
       "      <td>2319456</td>\n",
       "      <td>9606.0</td>\n",
       "      <td>0.414149</td>\n",
       "      <td>261.549448</td>\n",
       "      <td>2512444</td>\n",
       "    </tr>\n",
       "    <tr>\n",
       "      <th>1</th>\n",
       "      <td>올인원 패키지 : 업무자동화_VBA</td>\n",
       "      <td>-</td>\n",
       "      <td>767491</td>\n",
       "      <td>8058.0</td>\n",
       "      <td>1.049915</td>\n",
       "      <td>295.974808</td>\n",
       "      <td>2384965</td>\n",
       "    </tr>\n",
       "    <tr>\n",
       "      <th>2</th>\n",
       "      <td>ㅍAOP 전체_중복키워드_디자인(삭제)</td>\n",
       "      <td>일러스트</td>\n",
       "      <td>1137840</td>\n",
       "      <td>324.0</td>\n",
       "      <td>0.028475</td>\n",
       "      <td>4841.663580</td>\n",
       "      <td>1568699</td>\n",
       "    </tr>\n",
       "    <tr>\n",
       "      <th>3</th>\n",
       "      <td>올인원 패키지 : 데이터 분석 입문 온라인_파콘</td>\n",
       "      <td>-</td>\n",
       "      <td>694106</td>\n",
       "      <td>1863.6</td>\n",
       "      <td>0.268489</td>\n",
       "      <td>630.593475</td>\n",
       "      <td>1175174</td>\n",
       "    </tr>\n",
       "    <tr>\n",
       "      <th>4</th>\n",
       "      <td>3. html</td>\n",
       "      <td>HTML</td>\n",
       "      <td>9626374</td>\n",
       "      <td>813.6</td>\n",
       "      <td>0.008452</td>\n",
       "      <td>1408.435349</td>\n",
       "      <td>1145903</td>\n",
       "    </tr>\n",
       "  </tbody>\n",
       "</table>\n",
       "</div>"
      ],
      "text/plain": [
       "                         광고그룹   키워드      노출수     클릭수    클릭률(%)  \\\n",
       "0   올인원 패키지 : 디자인 툴_파워컨텐츠_포토샵     -  2319456  9606.0  0.414149   \n",
       "1         올인원 패키지 : 업무자동화_VBA     -   767491  8058.0  1.049915   \n",
       "2       ㅍAOP 전체_중복키워드_디자인(삭제)  일러스트  1137840   324.0  0.028475   \n",
       "3  올인원 패키지 : 데이터 분석 입문 온라인_파콘     -   694106  1863.6  0.268489   \n",
       "4                     3. html  HTML  9626374   813.6  0.008452   \n",
       "\n",
       "   평균클릭비용(VAT포함,원)  총비용(VAT포함,원)  \n",
       "0       261.549448       2512444  \n",
       "1       295.974808       2384965  \n",
       "2      4841.663580       1568699  \n",
       "3       630.593475       1175174  \n",
       "4      1408.435349       1145903  "
      ]
     },
     "execution_count": 12,
     "metadata": {},
     "output_type": "execute_result"
    }
   ],
   "source": [
    "df = pd.read_excel(filepath, skiprows=[0])  # list 로 빼버릴 row 들 지정\n",
    "df.head()"
   ]
  },
  {
   "cell_type": "code",
   "execution_count": 13,
   "metadata": {},
   "outputs": [],
   "source": [
    "# 실제 원본 데이터는 , 데이터 제공자 측에서 첫번째 행에 '개요' 등의 내용을 넣는 경우가 많다.\n",
    "# 그래서 이와 같이 읽어올때 skiprows 등을 활용하여 걸러내야 한다."
   ]
  },
  {
   "cell_type": "code",
   "execution_count": 14,
   "metadata": {},
   "outputs": [
    {
     "data": {
      "text/html": [
       "<div>\n",
       "<style scoped>\n",
       "    .dataframe tbody tr th:only-of-type {\n",
       "        vertical-align: middle;\n",
       "    }\n",
       "\n",
       "    .dataframe tbody tr th {\n",
       "        vertical-align: top;\n",
       "    }\n",
       "\n",
       "    .dataframe thead th {\n",
       "        text-align: right;\n",
       "    }\n",
       "</style>\n",
       "<table border=\"1\" class=\"dataframe\">\n",
       "  <thead>\n",
       "    <tr style=\"text-align: right;\">\n",
       "      <th></th>\n",
       "      <th>캠페인보고서(2019.02.01.~2019.04.30.),ftasia</th>\n",
       "      <th>Unnamed: 1</th>\n",
       "      <th>Unnamed: 2</th>\n",
       "      <th>Unnamed: 3</th>\n",
       "      <th>Unnamed: 4</th>\n",
       "      <th>Unnamed: 5</th>\n",
       "      <th>Unnamed: 6</th>\n",
       "    </tr>\n",
       "  </thead>\n",
       "  <tbody>\n",
       "    <tr>\n",
       "      <th>0</th>\n",
       "      <td>올인원 패키지 : 디자인 툴_파워컨텐츠_포토샵</td>\n",
       "      <td>-</td>\n",
       "      <td>2319456</td>\n",
       "      <td>9606.0</td>\n",
       "      <td>0.414149</td>\n",
       "      <td>261.549448</td>\n",
       "      <td>2512444</td>\n",
       "    </tr>\n",
       "    <tr>\n",
       "      <th>1</th>\n",
       "      <td>올인원 패키지 : 업무자동화_VBA</td>\n",
       "      <td>-</td>\n",
       "      <td>767491</td>\n",
       "      <td>8058.0</td>\n",
       "      <td>1.049915</td>\n",
       "      <td>295.974808</td>\n",
       "      <td>2384965</td>\n",
       "    </tr>\n",
       "    <tr>\n",
       "      <th>2</th>\n",
       "      <td>ㅍAOP 전체_중복키워드_디자인(삭제)</td>\n",
       "      <td>일러스트</td>\n",
       "      <td>1137840</td>\n",
       "      <td>324.0</td>\n",
       "      <td>0.028475</td>\n",
       "      <td>4841.663580</td>\n",
       "      <td>1568699</td>\n",
       "    </tr>\n",
       "    <tr>\n",
       "      <th>3</th>\n",
       "      <td>올인원 패키지 : 데이터 분석 입문 온라인_파콘</td>\n",
       "      <td>-</td>\n",
       "      <td>694106</td>\n",
       "      <td>1863.6</td>\n",
       "      <td>0.268489</td>\n",
       "      <td>630.593475</td>\n",
       "      <td>1175174</td>\n",
       "    </tr>\n",
       "    <tr>\n",
       "      <th>4</th>\n",
       "      <td>3. html</td>\n",
       "      <td>HTML</td>\n",
       "      <td>9626374</td>\n",
       "      <td>813.6</td>\n",
       "      <td>0.008452</td>\n",
       "      <td>1408.435349</td>\n",
       "      <td>1145903</td>\n",
       "    </tr>\n",
       "    <tr>\n",
       "      <th>...</th>\n",
       "      <td>...</td>\n",
       "      <td>...</td>\n",
       "      <td>...</td>\n",
       "      <td>...</td>\n",
       "      <td>...</td>\n",
       "      <td>...</td>\n",
       "      <td>...</td>\n",
       "    </tr>\n",
       "    <tr>\n",
       "      <th>1376</th>\n",
       "      <td>올인원 패키지 : 업무자동화_3. 엑셀</td>\n",
       "      <td>엑셀셀서식</td>\n",
       "      <td>24016</td>\n",
       "      <td>0.0</td>\n",
       "      <td>0.000000</td>\n",
       "      <td>0.000000</td>\n",
       "      <td>0</td>\n",
       "    </tr>\n",
       "    <tr>\n",
       "      <th>1377</th>\n",
       "      <td>올인원 패키지 : 업무자동화_3. 엑셀</td>\n",
       "      <td>MATCH</td>\n",
       "      <td>32287</td>\n",
       "      <td>0.0</td>\n",
       "      <td>0.000000</td>\n",
       "      <td>0.000000</td>\n",
       "      <td>0</td>\n",
       "    </tr>\n",
       "    <tr>\n",
       "      <th>1378</th>\n",
       "      <td>마케팅KPI수립</td>\n",
       "      <td>LTV</td>\n",
       "      <td>32602</td>\n",
       "      <td>0.0</td>\n",
       "      <td>0.000000</td>\n",
       "      <td>0.000000</td>\n",
       "      <td>0</td>\n",
       "    </tr>\n",
       "    <tr>\n",
       "      <th>1379</th>\n",
       "      <td>data_camp_rmp_8</td>\n",
       "      <td>DECISION</td>\n",
       "      <td>60844</td>\n",
       "      <td>0.0</td>\n",
       "      <td>0.000000</td>\n",
       "      <td>0.000000</td>\n",
       "      <td>0</td>\n",
       "    </tr>\n",
       "    <tr>\n",
       "      <th>1380</th>\n",
       "      <td>4. 웹의 동작</td>\n",
       "      <td>REST</td>\n",
       "      <td>61193</td>\n",
       "      <td>0.0</td>\n",
       "      <td>0.000000</td>\n",
       "      <td>0.000000</td>\n",
       "      <td>0</td>\n",
       "    </tr>\n",
       "  </tbody>\n",
       "</table>\n",
       "<p>1381 rows × 7 columns</p>\n",
       "</div>"
      ],
      "text/plain": [
       "     캠페인보고서(2019.02.01.~2019.04.30.),ftasia Unnamed: 1  Unnamed: 2  \\\n",
       "0                 올인원 패키지 : 디자인 툴_파워컨텐츠_포토샵          -     2319456   \n",
       "1                       올인원 패키지 : 업무자동화_VBA          -      767491   \n",
       "2                     ㅍAOP 전체_중복키워드_디자인(삭제)       일러스트     1137840   \n",
       "3                올인원 패키지 : 데이터 분석 입문 온라인_파콘          -      694106   \n",
       "4                                   3. html       HTML     9626374   \n",
       "...                                     ...        ...         ...   \n",
       "1376                  올인원 패키지 : 업무자동화_3. 엑셀      엑셀셀서식       24016   \n",
       "1377                  올인원 패키지 : 업무자동화_3. 엑셀      MATCH       32287   \n",
       "1378                               마케팅KPI수립        LTV       32602   \n",
       "1379                        data_camp_rmp_8   DECISION       60844   \n",
       "1380                               4. 웹의 동작       REST       61193   \n",
       "\n",
       "      Unnamed: 3  Unnamed: 4   Unnamed: 5  Unnamed: 6  \n",
       "0         9606.0    0.414149   261.549448     2512444  \n",
       "1         8058.0    1.049915   295.974808     2384965  \n",
       "2          324.0    0.028475  4841.663580     1568699  \n",
       "3         1863.6    0.268489   630.593475     1175174  \n",
       "4          813.6    0.008452  1408.435349     1145903  \n",
       "...          ...         ...          ...         ...  \n",
       "1376         0.0    0.000000     0.000000           0  \n",
       "1377         0.0    0.000000     0.000000           0  \n",
       "1378         0.0    0.000000     0.000000           0  \n",
       "1379         0.0    0.000000     0.000000           0  \n",
       "1380         0.0    0.000000     0.000000           0  \n",
       "\n",
       "[1381 rows x 7 columns]"
      ]
     },
     "execution_count": 14,
     "metadata": {},
     "output_type": "execute_result"
    }
   ],
   "source": [
    "pd.read_excel(filepath, skiprows=[1]) "
   ]
  },
  {
   "cell_type": "code",
   "execution_count": 15,
   "metadata": {},
   "outputs": [
    {
     "data": {
      "text/html": [
       "<div>\n",
       "<style scoped>\n",
       "    .dataframe tbody tr th:only-of-type {\n",
       "        vertical-align: middle;\n",
       "    }\n",
       "\n",
       "    .dataframe tbody tr th {\n",
       "        vertical-align: top;\n",
       "    }\n",
       "\n",
       "    .dataframe thead th {\n",
       "        text-align: right;\n",
       "    }\n",
       "</style>\n",
       "<table border=\"1\" class=\"dataframe\">\n",
       "  <thead>\n",
       "    <tr style=\"text-align: right;\">\n",
       "      <th></th>\n",
       "      <th>광고그룹</th>\n",
       "      <th>키워드</th>\n",
       "      <th>노출수</th>\n",
       "      <th>클릭수</th>\n",
       "      <th>클릭률(%)</th>\n",
       "      <th>평균클릭비용(VAT포함,원)</th>\n",
       "      <th>총비용(VAT포함,원)</th>\n",
       "    </tr>\n",
       "  </thead>\n",
       "  <tbody>\n",
       "    <tr>\n",
       "      <th>0</th>\n",
       "      <td>올인원 패키지 : 업무자동화_VBA</td>\n",
       "      <td>-</td>\n",
       "      <td>767491</td>\n",
       "      <td>8058.0</td>\n",
       "      <td>1.049915</td>\n",
       "      <td>295.974808</td>\n",
       "      <td>2384965</td>\n",
       "    </tr>\n",
       "    <tr>\n",
       "      <th>1</th>\n",
       "      <td>올인원 패키지 : 데이터 분석 입문 온라인_파콘</td>\n",
       "      <td>-</td>\n",
       "      <td>694106</td>\n",
       "      <td>1863.6</td>\n",
       "      <td>0.268489</td>\n",
       "      <td>630.593475</td>\n",
       "      <td>1175174</td>\n",
       "    </tr>\n",
       "    <tr>\n",
       "      <th>2</th>\n",
       "      <td>3. html</td>\n",
       "      <td>HTML</td>\n",
       "      <td>9626374</td>\n",
       "      <td>813.6</td>\n",
       "      <td>0.008452</td>\n",
       "      <td>1408.435349</td>\n",
       "      <td>1145903</td>\n",
       "    </tr>\n",
       "    <tr>\n",
       "      <th>3</th>\n",
       "      <td>6. 파이썬</td>\n",
       "      <td>파이썬</td>\n",
       "      <td>384522</td>\n",
       "      <td>260.4</td>\n",
       "      <td>0.067720</td>\n",
       "      <td>3705.360983</td>\n",
       "      <td>964876</td>\n",
       "    </tr>\n",
       "    <tr>\n",
       "      <th>4</th>\n",
       "      <td>1. 코딩</td>\n",
       "      <td>코딩</td>\n",
       "      <td>562162</td>\n",
       "      <td>271.2</td>\n",
       "      <td>0.048242</td>\n",
       "      <td>3243.215339</td>\n",
       "      <td>879560</td>\n",
       "    </tr>\n",
       "    <tr>\n",
       "      <th>...</th>\n",
       "      <td>...</td>\n",
       "      <td>...</td>\n",
       "      <td>...</td>\n",
       "      <td>...</td>\n",
       "      <td>...</td>\n",
       "      <td>...</td>\n",
       "      <td>...</td>\n",
       "    </tr>\n",
       "    <tr>\n",
       "      <th>1374</th>\n",
       "      <td>올인원 패키지 : 업무자동화_3. 엑셀</td>\n",
       "      <td>엑셀셀서식</td>\n",
       "      <td>24016</td>\n",
       "      <td>0.0</td>\n",
       "      <td>0.000000</td>\n",
       "      <td>0.000000</td>\n",
       "      <td>0</td>\n",
       "    </tr>\n",
       "    <tr>\n",
       "      <th>1375</th>\n",
       "      <td>올인원 패키지 : 업무자동화_3. 엑셀</td>\n",
       "      <td>MATCH</td>\n",
       "      <td>32287</td>\n",
       "      <td>0.0</td>\n",
       "      <td>0.000000</td>\n",
       "      <td>0.000000</td>\n",
       "      <td>0</td>\n",
       "    </tr>\n",
       "    <tr>\n",
       "      <th>1376</th>\n",
       "      <td>마케팅KPI수립</td>\n",
       "      <td>LTV</td>\n",
       "      <td>32602</td>\n",
       "      <td>0.0</td>\n",
       "      <td>0.000000</td>\n",
       "      <td>0.000000</td>\n",
       "      <td>0</td>\n",
       "    </tr>\n",
       "    <tr>\n",
       "      <th>1377</th>\n",
       "      <td>data_camp_rmp_8</td>\n",
       "      <td>DECISION</td>\n",
       "      <td>60844</td>\n",
       "      <td>0.0</td>\n",
       "      <td>0.000000</td>\n",
       "      <td>0.000000</td>\n",
       "      <td>0</td>\n",
       "    </tr>\n",
       "    <tr>\n",
       "      <th>1378</th>\n",
       "      <td>4. 웹의 동작</td>\n",
       "      <td>REST</td>\n",
       "      <td>61193</td>\n",
       "      <td>0.0</td>\n",
       "      <td>0.000000</td>\n",
       "      <td>0.000000</td>\n",
       "      <td>0</td>\n",
       "    </tr>\n",
       "  </tbody>\n",
       "</table>\n",
       "<p>1379 rows × 7 columns</p>\n",
       "</div>"
      ],
      "text/plain": [
       "                            광고그룹       키워드      노출수     클릭수    클릭률(%)  \\\n",
       "0            올인원 패키지 : 업무자동화_VBA         -   767491  8058.0  1.049915   \n",
       "1     올인원 패키지 : 데이터 분석 입문 온라인_파콘         -   694106  1863.6  0.268489   \n",
       "2                        3. html      HTML  9626374   813.6  0.008452   \n",
       "3                         6. 파이썬       파이썬   384522   260.4  0.067720   \n",
       "4                          1. 코딩        코딩   562162   271.2  0.048242   \n",
       "...                          ...       ...      ...     ...       ...   \n",
       "1374       올인원 패키지 : 업무자동화_3. 엑셀     엑셀셀서식    24016     0.0  0.000000   \n",
       "1375       올인원 패키지 : 업무자동화_3. 엑셀     MATCH    32287     0.0  0.000000   \n",
       "1376                    마케팅KPI수립       LTV    32602     0.0  0.000000   \n",
       "1377             data_camp_rmp_8  DECISION    60844     0.0  0.000000   \n",
       "1378                    4. 웹의 동작      REST    61193     0.0  0.000000   \n",
       "\n",
       "      평균클릭비용(VAT포함,원)  총비용(VAT포함,원)  \n",
       "0          295.974808       2384965  \n",
       "1          630.593475       1175174  \n",
       "2         1408.435349       1145903  \n",
       "3         3705.360983        964876  \n",
       "4         3243.215339        879560  \n",
       "...               ...           ...  \n",
       "1374         0.000000             0  \n",
       "1375         0.000000             0  \n",
       "1376         0.000000             0  \n",
       "1377         0.000000             0  \n",
       "1378         0.000000             0  \n",
       "\n",
       "[1379 rows x 7 columns]"
      ]
     },
     "execution_count": 15,
     "metadata": {},
     "output_type": "execute_result"
    }
   ],
   "source": [
    "pd.read_excel(filepath, skiprows=[0, 2, 4]) # 여러 행 제거 가능"
   ]
  },
  {
   "cell_type": "code",
   "execution_count": 16,
   "metadata": {},
   "outputs": [
    {
     "data": {
      "text/plain": [
       "(1381, 7)"
      ]
     },
     "execution_count": 16,
     "metadata": {},
     "output_type": "execute_result"
    }
   ],
   "source": [
    "df.shape"
   ]
  },
  {
   "cell_type": "markdown",
   "metadata": {},
   "source": [
    "### 결측치 확인\n",
    "isnull(), info()"
   ]
  },
  {
   "cell_type": "code",
   "execution_count": 17,
   "metadata": {},
   "outputs": [
    {
     "name": "stdout",
     "output_type": "stream",
     "text": [
      "<class 'pandas.core.frame.DataFrame'>\n",
      "RangeIndex: 1381 entries, 0 to 1380\n",
      "Data columns (total 7 columns):\n",
      " #   Column           Non-Null Count  Dtype  \n",
      "---  ------           --------------  -----  \n",
      " 0   광고그룹             1381 non-null   object \n",
      " 1   키워드              1381 non-null   object \n",
      " 2   노출수              1381 non-null   int64  \n",
      " 3   클릭수              1381 non-null   float64\n",
      " 4   클릭률(%)           1381 non-null   float64\n",
      " 5   평균클릭비용(VAT포함,원)  1381 non-null   float64\n",
      " 6   총비용(VAT포함,원)     1381 non-null   int64  \n",
      "dtypes: float64(3), int64(2), object(2)\n",
      "memory usage: 75.6+ KB\n"
     ]
    }
   ],
   "source": [
    "df.info()"
   ]
  },
  {
   "cell_type": "code",
   "execution_count": 18,
   "metadata": {},
   "outputs": [],
   "source": [
    "# isnull()  : 결측이면 True,  아이면 False\n",
    "# notnull() : 결측이면 False, 아리면 True  (isnull() 과 정반대)"
   ]
  },
  {
   "cell_type": "code",
   "execution_count": 19,
   "metadata": {},
   "outputs": [
    {
     "data": {
      "text/html": [
       "<div>\n",
       "<style scoped>\n",
       "    .dataframe tbody tr th:only-of-type {\n",
       "        vertical-align: middle;\n",
       "    }\n",
       "\n",
       "    .dataframe tbody tr th {\n",
       "        vertical-align: top;\n",
       "    }\n",
       "\n",
       "    .dataframe thead th {\n",
       "        text-align: right;\n",
       "    }\n",
       "</style>\n",
       "<table border=\"1\" class=\"dataframe\">\n",
       "  <thead>\n",
       "    <tr style=\"text-align: right;\">\n",
       "      <th></th>\n",
       "      <th>광고그룹</th>\n",
       "      <th>키워드</th>\n",
       "      <th>노출수</th>\n",
       "      <th>클릭수</th>\n",
       "      <th>클릭률(%)</th>\n",
       "      <th>평균클릭비용(VAT포함,원)</th>\n",
       "      <th>총비용(VAT포함,원)</th>\n",
       "    </tr>\n",
       "  </thead>\n",
       "  <tbody>\n",
       "    <tr>\n",
       "      <th>0</th>\n",
       "      <td>False</td>\n",
       "      <td>False</td>\n",
       "      <td>False</td>\n",
       "      <td>False</td>\n",
       "      <td>False</td>\n",
       "      <td>False</td>\n",
       "      <td>False</td>\n",
       "    </tr>\n",
       "    <tr>\n",
       "      <th>1</th>\n",
       "      <td>False</td>\n",
       "      <td>False</td>\n",
       "      <td>False</td>\n",
       "      <td>False</td>\n",
       "      <td>False</td>\n",
       "      <td>False</td>\n",
       "      <td>False</td>\n",
       "    </tr>\n",
       "    <tr>\n",
       "      <th>2</th>\n",
       "      <td>False</td>\n",
       "      <td>False</td>\n",
       "      <td>False</td>\n",
       "      <td>False</td>\n",
       "      <td>False</td>\n",
       "      <td>False</td>\n",
       "      <td>False</td>\n",
       "    </tr>\n",
       "    <tr>\n",
       "      <th>3</th>\n",
       "      <td>False</td>\n",
       "      <td>False</td>\n",
       "      <td>False</td>\n",
       "      <td>False</td>\n",
       "      <td>False</td>\n",
       "      <td>False</td>\n",
       "      <td>False</td>\n",
       "    </tr>\n",
       "    <tr>\n",
       "      <th>4</th>\n",
       "      <td>False</td>\n",
       "      <td>False</td>\n",
       "      <td>False</td>\n",
       "      <td>False</td>\n",
       "      <td>False</td>\n",
       "      <td>False</td>\n",
       "      <td>False</td>\n",
       "    </tr>\n",
       "    <tr>\n",
       "      <th>...</th>\n",
       "      <td>...</td>\n",
       "      <td>...</td>\n",
       "      <td>...</td>\n",
       "      <td>...</td>\n",
       "      <td>...</td>\n",
       "      <td>...</td>\n",
       "      <td>...</td>\n",
       "    </tr>\n",
       "    <tr>\n",
       "      <th>1376</th>\n",
       "      <td>False</td>\n",
       "      <td>False</td>\n",
       "      <td>False</td>\n",
       "      <td>False</td>\n",
       "      <td>False</td>\n",
       "      <td>False</td>\n",
       "      <td>False</td>\n",
       "    </tr>\n",
       "    <tr>\n",
       "      <th>1377</th>\n",
       "      <td>False</td>\n",
       "      <td>False</td>\n",
       "      <td>False</td>\n",
       "      <td>False</td>\n",
       "      <td>False</td>\n",
       "      <td>False</td>\n",
       "      <td>False</td>\n",
       "    </tr>\n",
       "    <tr>\n",
       "      <th>1378</th>\n",
       "      <td>False</td>\n",
       "      <td>False</td>\n",
       "      <td>False</td>\n",
       "      <td>False</td>\n",
       "      <td>False</td>\n",
       "      <td>False</td>\n",
       "      <td>False</td>\n",
       "    </tr>\n",
       "    <tr>\n",
       "      <th>1379</th>\n",
       "      <td>False</td>\n",
       "      <td>False</td>\n",
       "      <td>False</td>\n",
       "      <td>False</td>\n",
       "      <td>False</td>\n",
       "      <td>False</td>\n",
       "      <td>False</td>\n",
       "    </tr>\n",
       "    <tr>\n",
       "      <th>1380</th>\n",
       "      <td>False</td>\n",
       "      <td>False</td>\n",
       "      <td>False</td>\n",
       "      <td>False</td>\n",
       "      <td>False</td>\n",
       "      <td>False</td>\n",
       "      <td>False</td>\n",
       "    </tr>\n",
       "  </tbody>\n",
       "</table>\n",
       "<p>1381 rows × 7 columns</p>\n",
       "</div>"
      ],
      "text/plain": [
       "       광고그룹    키워드    노출수    클릭수  클릭률(%)  평균클릭비용(VAT포함,원)  총비용(VAT포함,원)\n",
       "0     False  False  False  False   False            False         False\n",
       "1     False  False  False  False   False            False         False\n",
       "2     False  False  False  False   False            False         False\n",
       "3     False  False  False  False   False            False         False\n",
       "4     False  False  False  False   False            False         False\n",
       "...     ...    ...    ...    ...     ...              ...           ...\n",
       "1376  False  False  False  False   False            False         False\n",
       "1377  False  False  False  False   False            False         False\n",
       "1378  False  False  False  False   False            False         False\n",
       "1379  False  False  False  False   False            False         False\n",
       "1380  False  False  False  False   False            False         False\n",
       "\n",
       "[1381 rows x 7 columns]"
      ]
     },
     "execution_count": 19,
     "metadata": {},
     "output_type": "execute_result"
    }
   ],
   "source": [
    "df.isnull()"
   ]
  },
  {
   "cell_type": "code",
   "execution_count": 20,
   "metadata": {},
   "outputs": [
    {
     "data": {
      "text/html": [
       "<div>\n",
       "<style scoped>\n",
       "    .dataframe tbody tr th:only-of-type {\n",
       "        vertical-align: middle;\n",
       "    }\n",
       "\n",
       "    .dataframe tbody tr th {\n",
       "        vertical-align: top;\n",
       "    }\n",
       "\n",
       "    .dataframe thead th {\n",
       "        text-align: right;\n",
       "    }\n",
       "</style>\n",
       "<table border=\"1\" class=\"dataframe\">\n",
       "  <thead>\n",
       "    <tr style=\"text-align: right;\">\n",
       "      <th></th>\n",
       "      <th>광고그룹</th>\n",
       "      <th>키워드</th>\n",
       "      <th>노출수</th>\n",
       "      <th>클릭수</th>\n",
       "      <th>클릭률(%)</th>\n",
       "      <th>평균클릭비용(VAT포함,원)</th>\n",
       "      <th>총비용(VAT포함,원)</th>\n",
       "    </tr>\n",
       "  </thead>\n",
       "  <tbody>\n",
       "    <tr>\n",
       "      <th>0</th>\n",
       "      <td>True</td>\n",
       "      <td>True</td>\n",
       "      <td>True</td>\n",
       "      <td>True</td>\n",
       "      <td>True</td>\n",
       "      <td>True</td>\n",
       "      <td>True</td>\n",
       "    </tr>\n",
       "    <tr>\n",
       "      <th>1</th>\n",
       "      <td>True</td>\n",
       "      <td>True</td>\n",
       "      <td>True</td>\n",
       "      <td>True</td>\n",
       "      <td>True</td>\n",
       "      <td>True</td>\n",
       "      <td>True</td>\n",
       "    </tr>\n",
       "    <tr>\n",
       "      <th>2</th>\n",
       "      <td>True</td>\n",
       "      <td>True</td>\n",
       "      <td>True</td>\n",
       "      <td>True</td>\n",
       "      <td>True</td>\n",
       "      <td>True</td>\n",
       "      <td>True</td>\n",
       "    </tr>\n",
       "    <tr>\n",
       "      <th>3</th>\n",
       "      <td>True</td>\n",
       "      <td>True</td>\n",
       "      <td>True</td>\n",
       "      <td>True</td>\n",
       "      <td>True</td>\n",
       "      <td>True</td>\n",
       "      <td>True</td>\n",
       "    </tr>\n",
       "    <tr>\n",
       "      <th>4</th>\n",
       "      <td>True</td>\n",
       "      <td>True</td>\n",
       "      <td>True</td>\n",
       "      <td>True</td>\n",
       "      <td>True</td>\n",
       "      <td>True</td>\n",
       "      <td>True</td>\n",
       "    </tr>\n",
       "    <tr>\n",
       "      <th>...</th>\n",
       "      <td>...</td>\n",
       "      <td>...</td>\n",
       "      <td>...</td>\n",
       "      <td>...</td>\n",
       "      <td>...</td>\n",
       "      <td>...</td>\n",
       "      <td>...</td>\n",
       "    </tr>\n",
       "    <tr>\n",
       "      <th>1376</th>\n",
       "      <td>True</td>\n",
       "      <td>True</td>\n",
       "      <td>True</td>\n",
       "      <td>True</td>\n",
       "      <td>True</td>\n",
       "      <td>True</td>\n",
       "      <td>True</td>\n",
       "    </tr>\n",
       "    <tr>\n",
       "      <th>1377</th>\n",
       "      <td>True</td>\n",
       "      <td>True</td>\n",
       "      <td>True</td>\n",
       "      <td>True</td>\n",
       "      <td>True</td>\n",
       "      <td>True</td>\n",
       "      <td>True</td>\n",
       "    </tr>\n",
       "    <tr>\n",
       "      <th>1378</th>\n",
       "      <td>True</td>\n",
       "      <td>True</td>\n",
       "      <td>True</td>\n",
       "      <td>True</td>\n",
       "      <td>True</td>\n",
       "      <td>True</td>\n",
       "      <td>True</td>\n",
       "    </tr>\n",
       "    <tr>\n",
       "      <th>1379</th>\n",
       "      <td>True</td>\n",
       "      <td>True</td>\n",
       "      <td>True</td>\n",
       "      <td>True</td>\n",
       "      <td>True</td>\n",
       "      <td>True</td>\n",
       "      <td>True</td>\n",
       "    </tr>\n",
       "    <tr>\n",
       "      <th>1380</th>\n",
       "      <td>True</td>\n",
       "      <td>True</td>\n",
       "      <td>True</td>\n",
       "      <td>True</td>\n",
       "      <td>True</td>\n",
       "      <td>True</td>\n",
       "      <td>True</td>\n",
       "    </tr>\n",
       "  </tbody>\n",
       "</table>\n",
       "<p>1381 rows × 7 columns</p>\n",
       "</div>"
      ],
      "text/plain": [
       "      광고그룹   키워드   노출수   클릭수  클릭률(%)  평균클릭비용(VAT포함,원)  총비용(VAT포함,원)\n",
       "0     True  True  True  True    True             True          True\n",
       "1     True  True  True  True    True             True          True\n",
       "2     True  True  True  True    True             True          True\n",
       "3     True  True  True  True    True             True          True\n",
       "4     True  True  True  True    True             True          True\n",
       "...    ...   ...   ...   ...     ...              ...           ...\n",
       "1376  True  True  True  True    True             True          True\n",
       "1377  True  True  True  True    True             True          True\n",
       "1378  True  True  True  True    True             True          True\n",
       "1379  True  True  True  True    True             True          True\n",
       "1380  True  True  True  True    True             True          True\n",
       "\n",
       "[1381 rows x 7 columns]"
      ]
     },
     "execution_count": 20,
     "metadata": {},
     "output_type": "execute_result"
    }
   ],
   "source": [
    "df.notnull()"
   ]
  },
  {
   "cell_type": "code",
   "execution_count": 22,
   "metadata": {},
   "outputs": [
    {
     "data": {
      "text/plain": [
       "광고그룹               0\n",
       "키워드                0\n",
       "노출수                0\n",
       "클릭수                0\n",
       "클릭률(%)             0\n",
       "평균클릭비용(VAT포함,원)    0\n",
       "총비용(VAT포함,원)       0\n",
       "dtype: int64"
      ]
     },
     "execution_count": 22,
     "metadata": {},
     "output_type": "execute_result"
    }
   ],
   "source": [
    "# 열단위 결측치 확인\n",
    "df.isnull().sum()\n",
    "\n",
    "# True + True => 1\n",
    "# 산술계산에서 True 는 1 로 계산된다.  합계를 구하면 결측치의 개수가 나온다."
   ]
  },
  {
   "cell_type": "code",
   "execution_count": 23,
   "metadata": {},
   "outputs": [
    {
     "data": {
      "text/plain": [
       "0       0\n",
       "1       0\n",
       "2       0\n",
       "3       0\n",
       "4       0\n",
       "       ..\n",
       "1376    0\n",
       "1377    0\n",
       "1378    0\n",
       "1379    0\n",
       "1380    0\n",
       "Length: 1381, dtype: int64"
      ]
     },
     "execution_count": 23,
     "metadata": {},
     "output_type": "execute_result"
    }
   ],
   "source": [
    "# 결측치 확인 - 행단위\n",
    "df.isnull().sum(axis = 1)  "
   ]
  },
  {
   "cell_type": "markdown",
   "metadata": {},
   "source": [
    "### 데이터프레임의 열 단위 수치연산 및 데이터 타입 다루기\n",
    "- 클릭수(반올림처리, 일의 자리수로 변경)\n",
    "- 클릭률\n",
    "- 평균클릭비용(VAT포함,원)"
   ]
  },
  {
   "cell_type": "markdown",
   "metadata": {},
   "source": [
    "#### 클릭수 전처리"
   ]
  },
  {
   "cell_type": "code",
   "execution_count": 24,
   "metadata": {},
   "outputs": [
    {
     "data": {
      "text/html": [
       "<div>\n",
       "<style scoped>\n",
       "    .dataframe tbody tr th:only-of-type {\n",
       "        vertical-align: middle;\n",
       "    }\n",
       "\n",
       "    .dataframe tbody tr th {\n",
       "        vertical-align: top;\n",
       "    }\n",
       "\n",
       "    .dataframe thead th {\n",
       "        text-align: right;\n",
       "    }\n",
       "</style>\n",
       "<table border=\"1\" class=\"dataframe\">\n",
       "  <thead>\n",
       "    <tr style=\"text-align: right;\">\n",
       "      <th></th>\n",
       "      <th>광고그룹</th>\n",
       "      <th>키워드</th>\n",
       "      <th>노출수</th>\n",
       "      <th>클릭수</th>\n",
       "      <th>클릭률(%)</th>\n",
       "      <th>평균클릭비용(VAT포함,원)</th>\n",
       "      <th>총비용(VAT포함,원)</th>\n",
       "    </tr>\n",
       "  </thead>\n",
       "  <tbody>\n",
       "    <tr>\n",
       "      <th>0</th>\n",
       "      <td>올인원 패키지 : 디자인 툴_파워컨텐츠_포토샵</td>\n",
       "      <td>-</td>\n",
       "      <td>2319456</td>\n",
       "      <td>9606.0</td>\n",
       "      <td>0.414149</td>\n",
       "      <td>261.549448</td>\n",
       "      <td>2512444</td>\n",
       "    </tr>\n",
       "    <tr>\n",
       "      <th>1</th>\n",
       "      <td>올인원 패키지 : 업무자동화_VBA</td>\n",
       "      <td>-</td>\n",
       "      <td>767491</td>\n",
       "      <td>8058.0</td>\n",
       "      <td>1.049915</td>\n",
       "      <td>295.974808</td>\n",
       "      <td>2384965</td>\n",
       "    </tr>\n",
       "    <tr>\n",
       "      <th>2</th>\n",
       "      <td>ㅍAOP 전체_중복키워드_디자인(삭제)</td>\n",
       "      <td>일러스트</td>\n",
       "      <td>1137840</td>\n",
       "      <td>324.0</td>\n",
       "      <td>0.028475</td>\n",
       "      <td>4841.663580</td>\n",
       "      <td>1568699</td>\n",
       "    </tr>\n",
       "    <tr>\n",
       "      <th>3</th>\n",
       "      <td>올인원 패키지 : 데이터 분석 입문 온라인_파콘</td>\n",
       "      <td>-</td>\n",
       "      <td>694106</td>\n",
       "      <td>1863.6</td>\n",
       "      <td>0.268489</td>\n",
       "      <td>630.593475</td>\n",
       "      <td>1175174</td>\n",
       "    </tr>\n",
       "    <tr>\n",
       "      <th>4</th>\n",
       "      <td>3. html</td>\n",
       "      <td>HTML</td>\n",
       "      <td>9626374</td>\n",
       "      <td>813.6</td>\n",
       "      <td>0.008452</td>\n",
       "      <td>1408.435349</td>\n",
       "      <td>1145903</td>\n",
       "    </tr>\n",
       "  </tbody>\n",
       "</table>\n",
       "</div>"
      ],
      "text/plain": [
       "                         광고그룹   키워드      노출수     클릭수    클릭률(%)  \\\n",
       "0   올인원 패키지 : 디자인 툴_파워컨텐츠_포토샵     -  2319456  9606.0  0.414149   \n",
       "1         올인원 패키지 : 업무자동화_VBA     -   767491  8058.0  1.049915   \n",
       "2       ㅍAOP 전체_중복키워드_디자인(삭제)  일러스트  1137840   324.0  0.028475   \n",
       "3  올인원 패키지 : 데이터 분석 입문 온라인_파콘     -   694106  1863.6  0.268489   \n",
       "4                     3. html  HTML  9626374   813.6  0.008452   \n",
       "\n",
       "   평균클릭비용(VAT포함,원)  총비용(VAT포함,원)  \n",
       "0       261.549448       2512444  \n",
       "1       295.974808       2384965  \n",
       "2      4841.663580       1568699  \n",
       "3       630.593475       1175174  \n",
       "4      1408.435349       1145903  "
      ]
     },
     "execution_count": 24,
     "metadata": {},
     "output_type": "execute_result"
    }
   ],
   "source": [
    "df.head()"
   ]
  },
  {
   "cell_type": "code",
   "execution_count": 25,
   "metadata": {},
   "outputs": [],
   "source": [
    "# 클릭수 열을 잘 관찰해보면\n",
    "#  1863.6, 813.6  과 같은 수치 들이 있다.  (응 클릭수 인데 소숫점?)\n",
    "# 클릭의 최소단위는 1이어야 함.\n",
    "\n",
    "# 그래서, 클릭수 열에 round함수 적용하여 전처리 할겁니다.\n",
    "# ↓"
   ]
  },
  {
   "cell_type": "code",
   "execution_count": 26,
   "metadata": {},
   "outputs": [
    {
     "data": {
      "text/plain": [
       "0       9606.0\n",
       "1       8058.0\n",
       "2        324.0\n",
       "3       1863.6\n",
       "4        813.6\n",
       "         ...  \n",
       "1376       0.0\n",
       "1377       0.0\n",
       "1378       0.0\n",
       "1379       0.0\n",
       "1380       0.0\n",
       "Name: 클릭수, Length: 1381, dtype: float64"
      ]
     },
     "execution_count": 26,
     "metadata": {},
     "output_type": "execute_result"
    }
   ],
   "source": [
    "df['클릭수']"
   ]
  },
  {
   "cell_type": "code",
   "execution_count": 28,
   "metadata": {},
   "outputs": [
    {
     "data": {
      "text/plain": [
       "0       9606.0\n",
       "1       8058.0\n",
       "2        324.0\n",
       "3       1864.0\n",
       "4        814.0\n",
       "         ...  \n",
       "1376       0.0\n",
       "1377       0.0\n",
       "1378       0.0\n",
       "1379       0.0\n",
       "1380       0.0\n",
       "Name: 클릭수, Length: 1381, dtype: float64"
      ]
     },
     "execution_count": 28,
     "metadata": {},
     "output_type": "execute_result"
    }
   ],
   "source": [
    "clk = round(df['클릭수'], 0)\n",
    "clk"
   ]
  },
  {
   "cell_type": "code",
   "execution_count": 29,
   "metadata": {},
   "outputs": [
    {
     "data": {
      "text/plain": [
       "0       9606\n",
       "1       8058\n",
       "2        324\n",
       "3       1864\n",
       "4        814\n",
       "        ... \n",
       "1376       0\n",
       "1377       0\n",
       "1378       0\n",
       "1379       0\n",
       "1380       0\n",
       "Name: 클릭수, Length: 1381, dtype: int32"
      ]
     },
     "execution_count": 29,
     "metadata": {},
     "output_type": "execute_result"
    }
   ],
   "source": [
    "# 소숫점 제거 -> 실수(float) -> 정수(int)로 변경\n",
    "clk.astype(int)"
   ]
  },
  {
   "cell_type": "code",
   "execution_count": 30,
   "metadata": {},
   "outputs": [],
   "source": [
    "# 기존 컬럼데이터 대체\n",
    "df['클릭수'] = clk.astype(int)"
   ]
  },
  {
   "cell_type": "code",
   "execution_count": 31,
   "metadata": {},
   "outputs": [
    {
     "data": {
      "text/html": [
       "<div>\n",
       "<style scoped>\n",
       "    .dataframe tbody tr th:only-of-type {\n",
       "        vertical-align: middle;\n",
       "    }\n",
       "\n",
       "    .dataframe tbody tr th {\n",
       "        vertical-align: top;\n",
       "    }\n",
       "\n",
       "    .dataframe thead th {\n",
       "        text-align: right;\n",
       "    }\n",
       "</style>\n",
       "<table border=\"1\" class=\"dataframe\">\n",
       "  <thead>\n",
       "    <tr style=\"text-align: right;\">\n",
       "      <th></th>\n",
       "      <th>광고그룹</th>\n",
       "      <th>키워드</th>\n",
       "      <th>노출수</th>\n",
       "      <th>클릭수</th>\n",
       "      <th>클릭률(%)</th>\n",
       "      <th>평균클릭비용(VAT포함,원)</th>\n",
       "      <th>총비용(VAT포함,원)</th>\n",
       "    </tr>\n",
       "  </thead>\n",
       "  <tbody>\n",
       "    <tr>\n",
       "      <th>0</th>\n",
       "      <td>올인원 패키지 : 디자인 툴_파워컨텐츠_포토샵</td>\n",
       "      <td>-</td>\n",
       "      <td>2319456</td>\n",
       "      <td>9606</td>\n",
       "      <td>0.414149</td>\n",
       "      <td>261.549448</td>\n",
       "      <td>2512444</td>\n",
       "    </tr>\n",
       "    <tr>\n",
       "      <th>1</th>\n",
       "      <td>올인원 패키지 : 업무자동화_VBA</td>\n",
       "      <td>-</td>\n",
       "      <td>767491</td>\n",
       "      <td>8058</td>\n",
       "      <td>1.049915</td>\n",
       "      <td>295.974808</td>\n",
       "      <td>2384965</td>\n",
       "    </tr>\n",
       "    <tr>\n",
       "      <th>2</th>\n",
       "      <td>ㅍAOP 전체_중복키워드_디자인(삭제)</td>\n",
       "      <td>일러스트</td>\n",
       "      <td>1137840</td>\n",
       "      <td>324</td>\n",
       "      <td>0.028475</td>\n",
       "      <td>4841.663580</td>\n",
       "      <td>1568699</td>\n",
       "    </tr>\n",
       "    <tr>\n",
       "      <th>3</th>\n",
       "      <td>올인원 패키지 : 데이터 분석 입문 온라인_파콘</td>\n",
       "      <td>-</td>\n",
       "      <td>694106</td>\n",
       "      <td>1864</td>\n",
       "      <td>0.268489</td>\n",
       "      <td>630.593475</td>\n",
       "      <td>1175174</td>\n",
       "    </tr>\n",
       "    <tr>\n",
       "      <th>4</th>\n",
       "      <td>3. html</td>\n",
       "      <td>HTML</td>\n",
       "      <td>9626374</td>\n",
       "      <td>814</td>\n",
       "      <td>0.008452</td>\n",
       "      <td>1408.435349</td>\n",
       "      <td>1145903</td>\n",
       "    </tr>\n",
       "  </tbody>\n",
       "</table>\n",
       "</div>"
      ],
      "text/plain": [
       "                         광고그룹   키워드      노출수   클릭수    클릭률(%)  평균클릭비용(VAT포함,원)  \\\n",
       "0   올인원 패키지 : 디자인 툴_파워컨텐츠_포토샵     -  2319456  9606  0.414149       261.549448   \n",
       "1         올인원 패키지 : 업무자동화_VBA     -   767491  8058  1.049915       295.974808   \n",
       "2       ㅍAOP 전체_중복키워드_디자인(삭제)  일러스트  1137840   324  0.028475      4841.663580   \n",
       "3  올인원 패키지 : 데이터 분석 입문 온라인_파콘     -   694106  1864  0.268489       630.593475   \n",
       "4                     3. html  HTML  9626374   814  0.008452      1408.435349   \n",
       "\n",
       "   총비용(VAT포함,원)  \n",
       "0       2512444  \n",
       "1       2384965  \n",
       "2       1568699  \n",
       "3       1175174  \n",
       "4       1145903  "
      ]
     },
     "execution_count": 31,
     "metadata": {},
     "output_type": "execute_result"
    }
   ],
   "source": [
    "df.head()"
   ]
  },
  {
   "cell_type": "code",
   "execution_count": 32,
   "metadata": {},
   "outputs": [
    {
     "name": "stdout",
     "output_type": "stream",
     "text": [
      "<class 'pandas.core.frame.DataFrame'>\n",
      "RangeIndex: 1381 entries, 0 to 1380\n",
      "Data columns (total 7 columns):\n",
      " #   Column           Non-Null Count  Dtype  \n",
      "---  ------           --------------  -----  \n",
      " 0   광고그룹             1381 non-null   object \n",
      " 1   키워드              1381 non-null   object \n",
      " 2   노출수              1381 non-null   int64  \n",
      " 3   클릭수              1381 non-null   int32  \n",
      " 4   클릭률(%)           1381 non-null   float64\n",
      " 5   평균클릭비용(VAT포함,원)  1381 non-null   float64\n",
      " 6   총비용(VAT포함,원)     1381 non-null   int64  \n",
      "dtypes: float64(2), int32(1), int64(2), object(2)\n",
      "memory usage: 70.3+ KB\n"
     ]
    }
   ],
   "source": [
    "df.info()"
   ]
  },
  {
   "cell_type": "markdown",
   "metadata": {},
   "source": [
    "### 전처리 : 클릭률\n",
    "\n",
    "- **클릭률** : CTR  (Click Through Rate)\n",
    "- CTR = 클릭수 / 노출수 * 100<br>\n",
    "=> 위에서 **'클릭수'** 가 모두 변경되었으므로 기존 클릭률(%) 열 데이터 갱신(변경) 필요하다\n",
    "\n",
    "이러한 전처리를 어떻게 하는지 보자"
   ]
  },
  {
   "cell_type": "code",
   "execution_count": 33,
   "metadata": {},
   "outputs": [
    {
     "data": {
      "text/plain": [
       "0       9606\n",
       "1       8058\n",
       "2        324\n",
       "3       1864\n",
       "4        814\n",
       "        ... \n",
       "1376       0\n",
       "1377       0\n",
       "1378       0\n",
       "1379       0\n",
       "1380       0\n",
       "Name: 클릭수, Length: 1381, dtype: int32"
      ]
     },
     "execution_count": 33,
     "metadata": {},
     "output_type": "execute_result"
    }
   ],
   "source": [
    "df['클릭수']"
   ]
  },
  {
   "cell_type": "code",
   "execution_count": 34,
   "metadata": {},
   "outputs": [
    {
     "data": {
      "text/plain": [
       "0       2319456\n",
       "1        767491\n",
       "2       1137840\n",
       "3        694106\n",
       "4       9626374\n",
       "         ...   \n",
       "1376      24016\n",
       "1377      32287\n",
       "1378      32602\n",
       "1379      60844\n",
       "1380      61193\n",
       "Name: 노출수, Length: 1381, dtype: int64"
      ]
     },
     "execution_count": 34,
     "metadata": {},
     "output_type": "execute_result"
    }
   ],
   "source": [
    "df['노출수']"
   ]
  },
  {
   "cell_type": "code",
   "execution_count": 35,
   "metadata": {},
   "outputs": [
    {
     "data": {
      "text/plain": [
       "0       0.414149\n",
       "1       1.049915\n",
       "2       0.028475\n",
       "3       0.268547\n",
       "4       0.008456\n",
       "          ...   \n",
       "1376    0.000000\n",
       "1377    0.000000\n",
       "1378    0.000000\n",
       "1379    0.000000\n",
       "1380    0.000000\n",
       "Length: 1381, dtype: float64"
      ]
     },
     "execution_count": 35,
     "metadata": {},
     "output_type": "execute_result"
    }
   ],
   "source": [
    "# ctr\n",
    "df['클릭수'] / df['노출수'] * 100"
   ]
  },
  {
   "cell_type": "code",
   "execution_count": 36,
   "metadata": {},
   "outputs": [
    {
     "data": {
      "text/plain": [
       "Index(['광고그룹', '키워드', '노출수', '클릭수', '클릭률(%)', '평균클릭비용(VAT포함,원)',\n",
       "       '총비용(VAT포함,원)'],\n",
       "      dtype='object')"
      ]
     },
     "execution_count": 36,
     "metadata": {},
     "output_type": "execute_result"
    }
   ],
   "source": [
    "df.columns"
   ]
  },
  {
   "cell_type": "code",
   "execution_count": 37,
   "metadata": {},
   "outputs": [],
   "source": [
    "# 클릭률 칼럼 대체\n",
    "df['클릭률(%)'] = df['클릭수'] / df['노출수'] * 100"
   ]
  },
  {
   "cell_type": "code",
   "execution_count": 38,
   "metadata": {},
   "outputs": [
    {
     "data": {
      "text/html": [
       "<div>\n",
       "<style scoped>\n",
       "    .dataframe tbody tr th:only-of-type {\n",
       "        vertical-align: middle;\n",
       "    }\n",
       "\n",
       "    .dataframe tbody tr th {\n",
       "        vertical-align: top;\n",
       "    }\n",
       "\n",
       "    .dataframe thead th {\n",
       "        text-align: right;\n",
       "    }\n",
       "</style>\n",
       "<table border=\"1\" class=\"dataframe\">\n",
       "  <thead>\n",
       "    <tr style=\"text-align: right;\">\n",
       "      <th></th>\n",
       "      <th>광고그룹</th>\n",
       "      <th>키워드</th>\n",
       "      <th>노출수</th>\n",
       "      <th>클릭수</th>\n",
       "      <th>클릭률(%)</th>\n",
       "      <th>평균클릭비용(VAT포함,원)</th>\n",
       "      <th>총비용(VAT포함,원)</th>\n",
       "    </tr>\n",
       "  </thead>\n",
       "  <tbody>\n",
       "    <tr>\n",
       "      <th>0</th>\n",
       "      <td>올인원 패키지 : 디자인 툴_파워컨텐츠_포토샵</td>\n",
       "      <td>-</td>\n",
       "      <td>2319456</td>\n",
       "      <td>9606</td>\n",
       "      <td>0.414149</td>\n",
       "      <td>261.549448</td>\n",
       "      <td>2512444</td>\n",
       "    </tr>\n",
       "    <tr>\n",
       "      <th>1</th>\n",
       "      <td>올인원 패키지 : 업무자동화_VBA</td>\n",
       "      <td>-</td>\n",
       "      <td>767491</td>\n",
       "      <td>8058</td>\n",
       "      <td>1.049915</td>\n",
       "      <td>295.974808</td>\n",
       "      <td>2384965</td>\n",
       "    </tr>\n",
       "    <tr>\n",
       "      <th>2</th>\n",
       "      <td>ㅍAOP 전체_중복키워드_디자인(삭제)</td>\n",
       "      <td>일러스트</td>\n",
       "      <td>1137840</td>\n",
       "      <td>324</td>\n",
       "      <td>0.028475</td>\n",
       "      <td>4841.663580</td>\n",
       "      <td>1568699</td>\n",
       "    </tr>\n",
       "    <tr>\n",
       "      <th>3</th>\n",
       "      <td>올인원 패키지 : 데이터 분석 입문 온라인_파콘</td>\n",
       "      <td>-</td>\n",
       "      <td>694106</td>\n",
       "      <td>1864</td>\n",
       "      <td>0.268547</td>\n",
       "      <td>630.593475</td>\n",
       "      <td>1175174</td>\n",
       "    </tr>\n",
       "    <tr>\n",
       "      <th>4</th>\n",
       "      <td>3. html</td>\n",
       "      <td>HTML</td>\n",
       "      <td>9626374</td>\n",
       "      <td>814</td>\n",
       "      <td>0.008456</td>\n",
       "      <td>1408.435349</td>\n",
       "      <td>1145903</td>\n",
       "    </tr>\n",
       "  </tbody>\n",
       "</table>\n",
       "</div>"
      ],
      "text/plain": [
       "                         광고그룹   키워드      노출수   클릭수    클릭률(%)  평균클릭비용(VAT포함,원)  \\\n",
       "0   올인원 패키지 : 디자인 툴_파워컨텐츠_포토샵     -  2319456  9606  0.414149       261.549448   \n",
       "1         올인원 패키지 : 업무자동화_VBA     -   767491  8058  1.049915       295.974808   \n",
       "2       ㅍAOP 전체_중복키워드_디자인(삭제)  일러스트  1137840   324  0.028475      4841.663580   \n",
       "3  올인원 패키지 : 데이터 분석 입문 온라인_파콘     -   694106  1864  0.268547       630.593475   \n",
       "4                     3. html  HTML  9626374   814  0.008456      1408.435349   \n",
       "\n",
       "   총비용(VAT포함,원)  \n",
       "0       2512444  \n",
       "1       2384965  \n",
       "2       1568699  \n",
       "3       1175174  \n",
       "4       1145903  "
      ]
     },
     "execution_count": 38,
     "metadata": {},
     "output_type": "execute_result"
    }
   ],
   "source": [
    "df.head()"
   ]
  },
  {
   "cell_type": "code",
   "execution_count": 39,
   "metadata": {},
   "outputs": [],
   "source": [
    "# jupyter notebook Tip\n",
    "# 컬럼명이 너무 길다?\n",
    "# df['클'] <-- 요 정도만 타이핑 하고 TAB 활용\n",
    "# df['클릭률(%)'] 자동완성"
   ]
  },
  {
   "cell_type": "markdown",
   "metadata": {},
   "source": [
    "### 전처리: 평균클릭비용 (CPC, Cost per Click) \n",
    "\n",
    "- 평균클릭비용 : 칼럼명에 원 단위로 명시됨<br>\n",
    " => 반올림처리, 일의 자리수로 변경\n",
    " \n",
    " ('클릭수' 전처리와 비슷)"
   ]
  },
  {
   "cell_type": "code",
   "execution_count": 40,
   "metadata": {},
   "outputs": [
    {
     "data": {
      "text/html": [
       "<div>\n",
       "<style scoped>\n",
       "    .dataframe tbody tr th:only-of-type {\n",
       "        vertical-align: middle;\n",
       "    }\n",
       "\n",
       "    .dataframe tbody tr th {\n",
       "        vertical-align: top;\n",
       "    }\n",
       "\n",
       "    .dataframe thead th {\n",
       "        text-align: right;\n",
       "    }\n",
       "</style>\n",
       "<table border=\"1\" class=\"dataframe\">\n",
       "  <thead>\n",
       "    <tr style=\"text-align: right;\">\n",
       "      <th></th>\n",
       "      <th>광고그룹</th>\n",
       "      <th>키워드</th>\n",
       "      <th>노출수</th>\n",
       "      <th>클릭수</th>\n",
       "      <th>클릭률(%)</th>\n",
       "      <th>평균클릭비용(VAT포함,원)</th>\n",
       "      <th>총비용(VAT포함,원)</th>\n",
       "    </tr>\n",
       "  </thead>\n",
       "  <tbody>\n",
       "    <tr>\n",
       "      <th>0</th>\n",
       "      <td>올인원 패키지 : 디자인 툴_파워컨텐츠_포토샵</td>\n",
       "      <td>-</td>\n",
       "      <td>2319456</td>\n",
       "      <td>9606</td>\n",
       "      <td>0.414149</td>\n",
       "      <td>261.549448</td>\n",
       "      <td>2512444</td>\n",
       "    </tr>\n",
       "    <tr>\n",
       "      <th>1</th>\n",
       "      <td>올인원 패키지 : 업무자동화_VBA</td>\n",
       "      <td>-</td>\n",
       "      <td>767491</td>\n",
       "      <td>8058</td>\n",
       "      <td>1.049915</td>\n",
       "      <td>295.974808</td>\n",
       "      <td>2384965</td>\n",
       "    </tr>\n",
       "    <tr>\n",
       "      <th>2</th>\n",
       "      <td>ㅍAOP 전체_중복키워드_디자인(삭제)</td>\n",
       "      <td>일러스트</td>\n",
       "      <td>1137840</td>\n",
       "      <td>324</td>\n",
       "      <td>0.028475</td>\n",
       "      <td>4841.663580</td>\n",
       "      <td>1568699</td>\n",
       "    </tr>\n",
       "    <tr>\n",
       "      <th>3</th>\n",
       "      <td>올인원 패키지 : 데이터 분석 입문 온라인_파콘</td>\n",
       "      <td>-</td>\n",
       "      <td>694106</td>\n",
       "      <td>1864</td>\n",
       "      <td>0.268547</td>\n",
       "      <td>630.593475</td>\n",
       "      <td>1175174</td>\n",
       "    </tr>\n",
       "    <tr>\n",
       "      <th>4</th>\n",
       "      <td>3. html</td>\n",
       "      <td>HTML</td>\n",
       "      <td>9626374</td>\n",
       "      <td>814</td>\n",
       "      <td>0.008456</td>\n",
       "      <td>1408.435349</td>\n",
       "      <td>1145903</td>\n",
       "    </tr>\n",
       "  </tbody>\n",
       "</table>\n",
       "</div>"
      ],
      "text/plain": [
       "                         광고그룹   키워드      노출수   클릭수    클릭률(%)  평균클릭비용(VAT포함,원)  \\\n",
       "0   올인원 패키지 : 디자인 툴_파워컨텐츠_포토샵     -  2319456  9606  0.414149       261.549448   \n",
       "1         올인원 패키지 : 업무자동화_VBA     -   767491  8058  1.049915       295.974808   \n",
       "2       ㅍAOP 전체_중복키워드_디자인(삭제)  일러스트  1137840   324  0.028475      4841.663580   \n",
       "3  올인원 패키지 : 데이터 분석 입문 온라인_파콘     -   694106  1864  0.268547       630.593475   \n",
       "4                     3. html  HTML  9626374   814  0.008456      1408.435349   \n",
       "\n",
       "   총비용(VAT포함,원)  \n",
       "0       2512444  \n",
       "1       2384965  \n",
       "2       1568699  \n",
       "3       1175174  \n",
       "4       1145903  "
      ]
     },
     "execution_count": 40,
     "metadata": {},
     "output_type": "execute_result"
    }
   ],
   "source": [
    "df.head()"
   ]
  },
  {
   "cell_type": "code",
   "execution_count": 42,
   "metadata": {},
   "outputs": [
    {
     "data": {
      "text/plain": [
       "0        262.0\n",
       "1        296.0\n",
       "2       4842.0\n",
       "3        631.0\n",
       "4       1408.0\n",
       "         ...  \n",
       "1376       0.0\n",
       "1377       0.0\n",
       "1378       0.0\n",
       "1379       0.0\n",
       "1380       0.0\n",
       "Name: 평균클릭비용(VAT포함,원), Length: 1381, dtype: float64"
      ]
     },
     "execution_count": 42,
     "metadata": {},
     "output_type": "execute_result"
    }
   ],
   "source": [
    "cpc = round(df['평균클릭비용(VAT포함,원)'], 0)\n",
    "cpc"
   ]
  },
  {
   "cell_type": "code",
   "execution_count": 43,
   "metadata": {},
   "outputs": [],
   "source": [
    "# 기존 평균클릭비용 대체\n",
    "df['평균클릭비용(VAT포함,원)'] = cpc.astype(int)"
   ]
  },
  {
   "cell_type": "code",
   "execution_count": 44,
   "metadata": {},
   "outputs": [
    {
     "data": {
      "text/html": [
       "<div>\n",
       "<style scoped>\n",
       "    .dataframe tbody tr th:only-of-type {\n",
       "        vertical-align: middle;\n",
       "    }\n",
       "\n",
       "    .dataframe tbody tr th {\n",
       "        vertical-align: top;\n",
       "    }\n",
       "\n",
       "    .dataframe thead th {\n",
       "        text-align: right;\n",
       "    }\n",
       "</style>\n",
       "<table border=\"1\" class=\"dataframe\">\n",
       "  <thead>\n",
       "    <tr style=\"text-align: right;\">\n",
       "      <th></th>\n",
       "      <th>광고그룹</th>\n",
       "      <th>키워드</th>\n",
       "      <th>노출수</th>\n",
       "      <th>클릭수</th>\n",
       "      <th>클릭률(%)</th>\n",
       "      <th>평균클릭비용(VAT포함,원)</th>\n",
       "      <th>총비용(VAT포함,원)</th>\n",
       "    </tr>\n",
       "  </thead>\n",
       "  <tbody>\n",
       "    <tr>\n",
       "      <th>0</th>\n",
       "      <td>올인원 패키지 : 디자인 툴_파워컨텐츠_포토샵</td>\n",
       "      <td>-</td>\n",
       "      <td>2319456</td>\n",
       "      <td>9606</td>\n",
       "      <td>0.414149</td>\n",
       "      <td>262</td>\n",
       "      <td>2512444</td>\n",
       "    </tr>\n",
       "    <tr>\n",
       "      <th>1</th>\n",
       "      <td>올인원 패키지 : 업무자동화_VBA</td>\n",
       "      <td>-</td>\n",
       "      <td>767491</td>\n",
       "      <td>8058</td>\n",
       "      <td>1.049915</td>\n",
       "      <td>296</td>\n",
       "      <td>2384965</td>\n",
       "    </tr>\n",
       "    <tr>\n",
       "      <th>2</th>\n",
       "      <td>ㅍAOP 전체_중복키워드_디자인(삭제)</td>\n",
       "      <td>일러스트</td>\n",
       "      <td>1137840</td>\n",
       "      <td>324</td>\n",
       "      <td>0.028475</td>\n",
       "      <td>4842</td>\n",
       "      <td>1568699</td>\n",
       "    </tr>\n",
       "    <tr>\n",
       "      <th>3</th>\n",
       "      <td>올인원 패키지 : 데이터 분석 입문 온라인_파콘</td>\n",
       "      <td>-</td>\n",
       "      <td>694106</td>\n",
       "      <td>1864</td>\n",
       "      <td>0.268547</td>\n",
       "      <td>631</td>\n",
       "      <td>1175174</td>\n",
       "    </tr>\n",
       "    <tr>\n",
       "      <th>4</th>\n",
       "      <td>3. html</td>\n",
       "      <td>HTML</td>\n",
       "      <td>9626374</td>\n",
       "      <td>814</td>\n",
       "      <td>0.008456</td>\n",
       "      <td>1408</td>\n",
       "      <td>1145903</td>\n",
       "    </tr>\n",
       "  </tbody>\n",
       "</table>\n",
       "</div>"
      ],
      "text/plain": [
       "                         광고그룹   키워드      노출수   클릭수    클릭률(%)  평균클릭비용(VAT포함,원)  \\\n",
       "0   올인원 패키지 : 디자인 툴_파워컨텐츠_포토샵     -  2319456  9606  0.414149              262   \n",
       "1         올인원 패키지 : 업무자동화_VBA     -   767491  8058  1.049915              296   \n",
       "2       ㅍAOP 전체_중복키워드_디자인(삭제)  일러스트  1137840   324  0.028475             4842   \n",
       "3  올인원 패키지 : 데이터 분석 입문 온라인_파콘     -   694106  1864  0.268547              631   \n",
       "4                     3. html  HTML  9626374   814  0.008456             1408   \n",
       "\n",
       "   총비용(VAT포함,원)  \n",
       "0       2512444  \n",
       "1       2384965  \n",
       "2       1568699  \n",
       "3       1175174  \n",
       "4       1145903  "
      ]
     },
     "execution_count": 44,
     "metadata": {},
     "output_type": "execute_result"
    }
   ],
   "source": [
    "df.head()"
   ]
  },
  {
   "cell_type": "markdown",
   "metadata": {},
   "source": [
    "---\n",
    "# 2. 데이터 탐색"
   ]
  },
  {
   "cell_type": "code",
   "execution_count": 45,
   "metadata": {},
   "outputs": [
    {
     "data": {
      "text/html": [
       "<div>\n",
       "<style scoped>\n",
       "    .dataframe tbody tr th:only-of-type {\n",
       "        vertical-align: middle;\n",
       "    }\n",
       "\n",
       "    .dataframe tbody tr th {\n",
       "        vertical-align: top;\n",
       "    }\n",
       "\n",
       "    .dataframe thead th {\n",
       "        text-align: right;\n",
       "    }\n",
       "</style>\n",
       "<table border=\"1\" class=\"dataframe\">\n",
       "  <thead>\n",
       "    <tr style=\"text-align: right;\">\n",
       "      <th></th>\n",
       "      <th>노출수</th>\n",
       "      <th>클릭수</th>\n",
       "      <th>클릭률(%)</th>\n",
       "      <th>평균클릭비용(VAT포함,원)</th>\n",
       "      <th>총비용(VAT포함,원)</th>\n",
       "    </tr>\n",
       "  </thead>\n",
       "  <tbody>\n",
       "    <tr>\n",
       "      <th>count</th>\n",
       "      <td>1.381000e+03</td>\n",
       "      <td>1381.000000</td>\n",
       "      <td>1381.000000</td>\n",
       "      <td>1381.000000</td>\n",
       "      <td>1.381000e+03</td>\n",
       "    </tr>\n",
       "    <tr>\n",
       "      <th>mean</th>\n",
       "      <td>3.505415e+04</td>\n",
       "      <td>52.504707</td>\n",
       "      <td>0.352023</td>\n",
       "      <td>981.624909</td>\n",
       "      <td>3.791958e+04</td>\n",
       "    </tr>\n",
       "    <tr>\n",
       "      <th>std</th>\n",
       "      <td>2.964650e+05</td>\n",
       "      <td>387.513479</td>\n",
       "      <td>1.000998</td>\n",
       "      <td>1372.401050</td>\n",
       "      <td>1.421492e+05</td>\n",
       "    </tr>\n",
       "    <tr>\n",
       "      <th>min</th>\n",
       "      <td>1.001000e+03</td>\n",
       "      <td>0.000000</td>\n",
       "      <td>0.000000</td>\n",
       "      <td>0.000000</td>\n",
       "      <td>0.000000e+00</td>\n",
       "    </tr>\n",
       "    <tr>\n",
       "      <th>25%</th>\n",
       "      <td>1.814000e+03</td>\n",
       "      <td>1.000000</td>\n",
       "      <td>0.006539</td>\n",
       "      <td>64.000000</td>\n",
       "      <td>7.700000e+01</td>\n",
       "    </tr>\n",
       "    <tr>\n",
       "      <th>50%</th>\n",
       "      <td>3.805000e+03</td>\n",
       "      <td>4.000000</td>\n",
       "      <td>0.056721</td>\n",
       "      <td>396.000000</td>\n",
       "      <td>2.123000e+03</td>\n",
       "    </tr>\n",
       "    <tr>\n",
       "      <th>75%</th>\n",
       "      <td>1.073400e+04</td>\n",
       "      <td>14.000000</td>\n",
       "      <td>0.243309</td>\n",
       "      <td>1303.000000</td>\n",
       "      <td>1.743500e+04</td>\n",
       "    </tr>\n",
       "    <tr>\n",
       "      <th>max</th>\n",
       "      <td>9.626374e+06</td>\n",
       "      <td>9606.000000</td>\n",
       "      <td>13.590551</td>\n",
       "      <td>9363.000000</td>\n",
       "      <td>2.512444e+06</td>\n",
       "    </tr>\n",
       "  </tbody>\n",
       "</table>\n",
       "</div>"
      ],
      "text/plain": [
       "                노출수          클릭수       클릭률(%)  평균클릭비용(VAT포함,원)  총비용(VAT포함,원)\n",
       "count  1.381000e+03  1381.000000  1381.000000      1381.000000  1.381000e+03\n",
       "mean   3.505415e+04    52.504707     0.352023       981.624909  3.791958e+04\n",
       "std    2.964650e+05   387.513479     1.000998      1372.401050  1.421492e+05\n",
       "min    1.001000e+03     0.000000     0.000000         0.000000  0.000000e+00\n",
       "25%    1.814000e+03     1.000000     0.006539        64.000000  7.700000e+01\n",
       "50%    3.805000e+03     4.000000     0.056721       396.000000  2.123000e+03\n",
       "75%    1.073400e+04    14.000000     0.243309      1303.000000  1.743500e+04\n",
       "max    9.626374e+06  9606.000000    13.590551      9363.000000  2.512444e+06"
      ]
     },
     "execution_count": 45,
     "metadata": {},
     "output_type": "execute_result"
    }
   ],
   "source": [
    "df.describe()"
   ]
  },
  {
   "cell_type": "code",
   "execution_count": 46,
   "metadata": {},
   "outputs": [],
   "source": [
    "# pandas 의 출력 옵션 설정\n",
    "pd.set_option('display.float_format', '{:.2f}'.format)"
   ]
  },
  {
   "cell_type": "code",
   "execution_count": 47,
   "metadata": {},
   "outputs": [
    {
     "data": {
      "text/html": [
       "<div>\n",
       "<style scoped>\n",
       "    .dataframe tbody tr th:only-of-type {\n",
       "        vertical-align: middle;\n",
       "    }\n",
       "\n",
       "    .dataframe tbody tr th {\n",
       "        vertical-align: top;\n",
       "    }\n",
       "\n",
       "    .dataframe thead th {\n",
       "        text-align: right;\n",
       "    }\n",
       "</style>\n",
       "<table border=\"1\" class=\"dataframe\">\n",
       "  <thead>\n",
       "    <tr style=\"text-align: right;\">\n",
       "      <th></th>\n",
       "      <th>노출수</th>\n",
       "      <th>클릭수</th>\n",
       "      <th>클릭률(%)</th>\n",
       "      <th>평균클릭비용(VAT포함,원)</th>\n",
       "      <th>총비용(VAT포함,원)</th>\n",
       "    </tr>\n",
       "  </thead>\n",
       "  <tbody>\n",
       "    <tr>\n",
       "      <th>count</th>\n",
       "      <td>1381.00</td>\n",
       "      <td>1381.00</td>\n",
       "      <td>1381.00</td>\n",
       "      <td>1381.00</td>\n",
       "      <td>1381.00</td>\n",
       "    </tr>\n",
       "    <tr>\n",
       "      <th>mean</th>\n",
       "      <td>35054.15</td>\n",
       "      <td>52.50</td>\n",
       "      <td>0.35</td>\n",
       "      <td>981.62</td>\n",
       "      <td>37919.58</td>\n",
       "    </tr>\n",
       "    <tr>\n",
       "      <th>std</th>\n",
       "      <td>296465.03</td>\n",
       "      <td>387.51</td>\n",
       "      <td>1.00</td>\n",
       "      <td>1372.40</td>\n",
       "      <td>142149.16</td>\n",
       "    </tr>\n",
       "    <tr>\n",
       "      <th>min</th>\n",
       "      <td>1001.00</td>\n",
       "      <td>0.00</td>\n",
       "      <td>0.00</td>\n",
       "      <td>0.00</td>\n",
       "      <td>0.00</td>\n",
       "    </tr>\n",
       "    <tr>\n",
       "      <th>25%</th>\n",
       "      <td>1814.00</td>\n",
       "      <td>1.00</td>\n",
       "      <td>0.01</td>\n",
       "      <td>64.00</td>\n",
       "      <td>77.00</td>\n",
       "    </tr>\n",
       "    <tr>\n",
       "      <th>50%</th>\n",
       "      <td>3805.00</td>\n",
       "      <td>4.00</td>\n",
       "      <td>0.06</td>\n",
       "      <td>396.00</td>\n",
       "      <td>2123.00</td>\n",
       "    </tr>\n",
       "    <tr>\n",
       "      <th>75%</th>\n",
       "      <td>10734.00</td>\n",
       "      <td>14.00</td>\n",
       "      <td>0.24</td>\n",
       "      <td>1303.00</td>\n",
       "      <td>17435.00</td>\n",
       "    </tr>\n",
       "    <tr>\n",
       "      <th>max</th>\n",
       "      <td>9626374.00</td>\n",
       "      <td>9606.00</td>\n",
       "      <td>13.59</td>\n",
       "      <td>9363.00</td>\n",
       "      <td>2512444.00</td>\n",
       "    </tr>\n",
       "  </tbody>\n",
       "</table>\n",
       "</div>"
      ],
      "text/plain": [
       "             노출수     클릭수  클릭률(%)  평균클릭비용(VAT포함,원)  총비용(VAT포함,원)\n",
       "count    1381.00 1381.00 1381.00          1381.00       1381.00\n",
       "mean    35054.15   52.50    0.35           981.62      37919.58\n",
       "std    296465.03  387.51    1.00          1372.40     142149.16\n",
       "min      1001.00    0.00    0.00             0.00          0.00\n",
       "25%      1814.00    1.00    0.01            64.00         77.00\n",
       "50%      3805.00    4.00    0.06           396.00       2123.00\n",
       "75%     10734.00   14.00    0.24          1303.00      17435.00\n",
       "max   9626374.00 9606.00   13.59          9363.00    2512444.00"
      ]
     },
     "execution_count": 47,
     "metadata": {},
     "output_type": "execute_result"
    }
   ],
   "source": [
    "df.describe()"
   ]
  },
  {
   "cell_type": "code",
   "execution_count": 48,
   "metadata": {},
   "outputs": [
    {
     "data": {
      "text/plain": [
       "0        올인원 패키지 : 디자인 툴_파워컨텐츠_포토샵\n",
       "1              올인원 패키지 : 업무자동화_VBA\n",
       "2            ㅍAOP 전체_중복키워드_디자인(삭제)\n",
       "3       올인원 패키지 : 데이터 분석 입문 온라인_파콘\n",
       "4                          3. html\n",
       "                   ...            \n",
       "1376         올인원 패키지 : 업무자동화_3. 엑셀\n",
       "1377         올인원 패키지 : 업무자동화_3. 엑셀\n",
       "1378                      마케팅KPI수립\n",
       "1379               data_camp_rmp_8\n",
       "1380                      4. 웹의 동작\n",
       "Name: 광고그룹, Length: 1381, dtype: object"
      ]
     },
     "execution_count": 48,
     "metadata": {},
     "output_type": "execute_result"
    }
   ],
   "source": [
    "df['광고그룹']"
   ]
  },
  {
   "cell_type": "code",
   "execution_count": 49,
   "metadata": {},
   "outputs": [
    {
     "data": {
      "text/plain": [
       "array(['올인원 패키지 : 디자인 툴_파워컨텐츠_포토샵', '올인원 패키지 : 업무자동화_VBA',\n",
       "       'ㅍAOP 전체_중복키워드_디자인(삭제)', '올인원 패키지 : 데이터 분석 입문 온라인_파콘', '3. html',\n",
       "       '6. 파이썬', '1. 코딩', '2. C언어 일반', '프로그래밍 전체_파워컨텐츠_블록체인(삭제)',\n",
       "       'AOP 전체_중복키워드_디자인', '디지털 마케팅 스쿨 13기_대표키워드', '인스타그램 마케팅',\n",
       "       '블록체인 신사업 시작하기', 'AOP 전체_중복키워드_비지니스', '올인원 패키지 : 업무자동화_2. 파이썬',\n",
       "       '올인원 패키지 : 1인 쇼핑몰 시작하기_00.창업_PC', '올인원 패키지 : 영상 제작/편집_6.프리미어프로',\n",
       "       '1. 모바일앱개발_교육', '올인원 패키지 : UX/UI 디자인 입문_연관검색어',\n",
       "       '올인원 패키지 : 데이터 분석 입문(파컨)', 'JavaScript BOOT CAMP', '1. 일반_PC',\n",
       "       'AOP 전체_중복키워드_공통', 'AOP 전체_중복키워드_프로그래밍', '003.퍼포먼스 마케팅',\n",
       "       '2. 프로그래밍', '마케팅 유치원', '올인원 패키지 : 업무자동화_1. 자동화', '올인원 패키지 : 브랜딩',\n",
       "       'ㅍ올인원 패키지 : 브랜딩', '올인원 패키지 : 콘텐츠 마케팅_카피라이팅',\n",
       "       'AOP 전체_중복키워드_데이터사이언스', '8. 시스템 프로그래밍',\n",
       "       'ㅍ올인원 패키지 : UX/UI 디자인 입문_연관검색어(삭제)', '올인원 패키지 : 프로그래밍 첫걸음 시작하기',\n",
       "       '페이스북&인스타그램 마케팅 실전', 'Python & Django를 활용한 웹 서비스_개발자', '5. 자료구조',\n",
       "       'fin_camp_auction_6', '올인원 패키지 : 1인 쇼핑몰_00.창업_MO', '타이포그래피와 편집디자인',\n",
       "       '올인원 패키지 : 디지털 마케팅_1. 디지털 마케팅', 'AOP 전체_중복키워드_마케팅',\n",
       "       '마케터를 위한 데이터 부트캠프', '코딩으로 여행하는 블록체인 서비스',\n",
       "       '올인원 패키지 : 1인 쇼핑몰 시작하기_02.쇼핑몰구축', '상업용 부동산 실무 입문 4기',\n",
       "       '포토샵 유치원_일러스트레이터 유치원', '고객의 마음을 읽는 구글애널리틱스',\n",
       "       '왕초보의 파이썬 웹 프로그래밍 CAMP', '올인원 패키지 : 콘텐츠 마케팅_영상바이럴', '마케팅KPI수립',\n",
       "       '프로그래밍 유치원', 'ㅍAOP 전체_중복키워드_프로그래밍(삭제)', '#000_마케팅 전체_main',\n",
       "       'SEO/SEM 전략', '올인원 패키지 : 투자_파워콘텐츠', 'ㅍAOP 전체_중복키워드_공통(삭제)',\n",
       "       '올인원 패키지 : 콘텐츠 마케팅_대표키워드', '올인원 패키지 : 파이썬 웹 개발_2.프론트엔드기초',\n",
       "       '올인원 패키지 : 업무자동화_4. VBA', '올인원 패키지 : 금융공학/퀀트_01.파이썬기본&자동화',\n",
       "       'TensorFlow로 시작하는 딥러닝 입문', '올인원 패키지 : 업무자동화_3. 엑셀', '002.마케팅 입문',\n",
       "       '올인원 패키지 : 그로스해킹_5.마케팅 분석', '1. 데이터분석입문_일반', 'data_camp_rmp_8',\n",
       "       'ㅍAOP 전체_중복키워드_마케팅(삭제)', '올인원 패키지 : 게임 개발', '마케터를 위한 데이터 해석 실전',\n",
       "       '마케팅 전체', '1. 경영 일반', 'Vue로 구현하는 PWA CAMP', '1. 전체',\n",
       "       '001.데이터분석/ 통계', '5. javascript', 'ㅍ1. 전체',\n",
       "       '올인원 패키지 : 1인 쇼핑몰 시작하기_05.상품촬영', '1. 컴퓨터공학 일반',\n",
       "       '올인원 패키지 : 파이썬 웹 개발_3.FLASK기초', '올인원 패키지 : 디지털 마케팅_2. 페이스북 광고',\n",
       "       '올인원 패키지 : 영상 제작/편집_2.영상제작이론', '대기업을 이기는 브랜딩 전략',\n",
       "       '올인원 패키지 : 영상 제작/편집_9.유튜브/유튜버', '올인원 패키지 : 금융공학/퀀_03.금융공학',\n",
       "       '올인원 패키지 : 리더를 위한 HR/인재경영_1.인재', '내 아이템에 맞는 영상 콘텐츠 기획/제작',\n",
       "       'ㅍAOP 전체_중복키워드_데이터사이언스(삭제)', '올인원 패키지 : 그로스해킹_1.용어',\n",
       "       '1_벤처캐피탈에 대한 이해(벤처캐피탈)', '1. 일반_MO', '002.R',\n",
       "       'PYTHON & DJANGO를 활용한  웹 서비스 개발', '올인원 패키지 : 디지털 마케팅_3. 구글 광고',\n",
       "       '올인원 패키지 : 1인 쇼핑몰 시작하기_06.해외쇼핑몰', 'LaTeX를 활용한 효율적 논문작성 Workshop',\n",
       "       '인디자인 유치원', 'ㅍAOP 전체_중복키워드_비지니스(삭제)', '딥러닝으로 배우는 병렬처리 CAMP',\n",
       "       '올인원 패키지 : 영상 제작/편집_3.촬영 기법/장비1', '올인원 패키지 : FAST MBA_파워컨텐츠_아마존',\n",
       "       '7. 운영체제', '실전 웹/앱 프로젝트 기획', '2_투자유치를 위한 사업계획서 작성(투자유치)',\n",
       "       '올인원 패키지 : 영상 제작/편집_10.패캠강의', '올인원 패키지 : 1인 쇼핑몰 시작하기_01.플랫폼',\n",
       "       '다빈치리졸브와 컬러그레이딩', '파이썬을 통한 금융 데이터 수집과 분석 자동화 16기',\n",
       "       '실전 웹 UX/UI 디자인', '올인원 패키지 : 영상 제작/편집_7.에프터이펙트', '파이썬 텍스트 마이닝',\n",
       "       'data_camp_pcda_3', '5_초기 스타트업 실제 투자사례(창업자)', '1. 모바일앱개발_세부',\n",
       "       'Python & Django를 활용한 웹 서비스_일반', '005.머신러닝',\n",
       "       '올인원 패키지 : 영상 제작/편집_5.일러스트', '구글 광고', '올인원 패키지 : 영상 제작/편집_1.크리에이터',\n",
       "       '딥러닝으로 배우는 병렬처리 CAMP_구버전', '건강한 조직을 만드는 HR 전략 WORKSHOP',\n",
       "       '6.  컴퓨터구조', '003.파이썬', 'fin_camp_modeling_15', 'Apache Spark',\n",
       "       '올인원 패키지 : 금융공학/퀀_02.R활용금융데이터분석', '모바일 앱 UX/UI 디자인',\n",
       "       '001.BASIC DESIGN', '올인원 패키지 : 영상 제작/편집_8.파이널컷 프로',\n",
       "       '1. 앱웹서비스기획_일반', '프로그래밍 전체', '리눅스 인프라',\n",
       "       'OpenCV와 함께하는 컴퓨터 비전 프로그래밍', '서비스 기획 스쿨 5기_구글 연관검색어',\n",
       "       '올인원 패키지 : 금융공학/퀀트_00.일반', '올인원 패키지 : 리더를 위한 HR/인재경영_2.리더십',\n",
       "       '4_벤처캐피탈 투자계약(벤처 투자)', 'fin_camp_rdev_4', '파이낸스 전체',\n",
       "       'typescript 실전 workshop', '비즈니스 전체', '4. css', '영상 콘텐츠 디자인 유치원',\n",
       "       '올인원 패키지 : 디지털 마케팅_5. 태그매니저', '007.빅데이터',\n",
       "       '모바일 앱 GUI 포트폴리오 디자인 LAB', '올인원 패키지 : 디지털 마케팅_8. 검색 마케팅',\n",
       "       'Javascript 정복 프로젝트', '올인원 패키지 : 콘텐츠 마케팅_콘텐츠 제작',\n",
       "       '올인원 패키지 : 디지털 마케팅_트위터광고', '올인원 패키지 : 1인 쇼핑몰 시작하기_04.호스팅사',\n",
       "       '쉽고 재미있는 재무제표 분석 17기', '1_2 대표 경쟁', 'Java 웹 프로그래밍 마스터 4기 : 3개월',\n",
       "       '올인원 패키지 : 그로스해킹_2.그로스해킹', '크리에이티브 전체', '002.UX/UI',\n",
       "       'fin_camp_feasibilitystudy_18', 'Vue.js 정복 CAMP', '4. 웹의 동작',\n",
       "       '머신러닝을 위한 선형대수학', '6_스타트업 M&A에 대한 단상(스타트업)', 'iOS 개발 스쿨 9기_기존 키워드',\n",
       "       '006.딥러닝', 'UX 디자인 실전', '디지털 마케팅', '올인원 패키지 : 리더를 위한 HR/인재경영_5.HR',\n",
       "       '올인원 패키지 : 영상 제작/편집_4.포토샵', '데이터 사이언스 전체',\n",
       "       '올인원 패키지 : 파이썬 웹 개발_4.Django', '올인원 패키지 : 리더를 위한 HR/인재경영_3.온보딩',\n",
       "       '3. 파이썬', '컴퓨터공학으로 풀어낸 블록체인 코어 CAMP', '7_How to 벤처캐피탈',\n",
       "       '3_기업가치평가 방법론', '자율주행 연구를 위한 ROS·SLAM Workshop',\n",
       "       '프론트엔드 개발 스쿨 12기_기존 키워드', '개발자와 협업하는 디자이너를 위한 실무 역량 강화',\n",
       "       '올인원 패키지 : 1인 쇼핑몰 시작하기_03.결제시스템', '웹 프로그래밍 스쿨 10기_기존 키워드',\n",
       "       '올인원 패키지 : 디지털 마케팅_인스타광고', '다함께 DDD 프로젝트', 'fin_camp_rfs_9',\n",
       "       'Hyperledger Fabric 프로젝트 CAMP', 'fin_camp_business_4'],\n",
       "      dtype=object)"
      ]
     },
     "execution_count": 49,
     "metadata": {},
     "output_type": "execute_result"
    }
   ],
   "source": [
    "df['광고그룹'].unique()  # 광고그룹 안의 고유한 값들 출력"
   ]
  },
  {
   "cell_type": "code",
   "execution_count": 50,
   "metadata": {},
   "outputs": [
    {
     "data": {
      "text/plain": [
       "186"
      ]
     },
     "execution_count": 50,
     "metadata": {},
     "output_type": "execute_result"
    }
   ],
   "source": [
    "len(df['광고그룹'].unique()) # 광고그룹 갯수"
   ]
  },
  {
   "cell_type": "code",
   "execution_count": 51,
   "metadata": {},
   "outputs": [
    {
     "data": {
      "text/plain": [
       "array(['-', '일러스트', 'HTML', ..., 'MATCH', 'DECISION', 'REST'],\n",
       "      dtype=object)"
      ]
     },
     "execution_count": 51,
     "metadata": {},
     "output_type": "execute_result"
    }
   ],
   "source": [
    "df['키워드'].unique()"
   ]
  },
  {
   "cell_type": "code",
   "execution_count": 52,
   "metadata": {},
   "outputs": [
    {
     "data": {
      "text/plain": [
       "1112"
      ]
     },
     "execution_count": 52,
     "metadata": {},
     "output_type": "execute_result"
    }
   ],
   "source": [
    "len(df['키워드'].unique())"
   ]
  },
  {
   "cell_type": "code",
   "execution_count": 53,
   "metadata": {},
   "outputs": [
    {
     "data": {
      "text/plain": [
       "올인원 패키지 : 업무자동화_3. 엑셀            93\n",
       "AOP 전체_중복키워드_디자인                 57\n",
       "#000_마케팅 전체_main                 48\n",
       "ㅍAOP 전체_중복키워드_디자인(삭제)            46\n",
       "리눅스 인프라                          26\n",
       "                                 ..\n",
       "자율주행 연구를 위한 ROS·SLAM Workshop     1\n",
       "올인원 패키지 : 금융공학/퀀트_00.일반           1\n",
       "디지털 마케팅                           1\n",
       "UX 디자인 실전                         1\n",
       "ㅍAOP 전체_중복키워드_공통(삭제)              1\n",
       "Name: 광고그룹, Length: 186, dtype: int64"
      ]
     },
     "execution_count": 53,
     "metadata": {},
     "output_type": "execute_result"
    }
   ],
   "source": [
    "# 고유값 빈도\n",
    "df['광고그룹'].value_counts()"
   ]
  },
  {
   "cell_type": "code",
   "execution_count": 54,
   "metadata": {},
   "outputs": [
    {
     "data": {
      "text/plain": [
       "-               8\n",
       "포토샵             5\n",
       "GUI             5\n",
       "구글광고            5\n",
       "퍼포먼스마케팅         4\n",
       "               ..\n",
       "TENSORFLOW설치    1\n",
       "파이썬프로그램         1\n",
       "벤처투자            1\n",
       "PCA             1\n",
       "SNS홍보           1\n",
       "Name: 키워드, Length: 1112, dtype: int64"
      ]
     },
     "execution_count": 54,
     "metadata": {},
     "output_type": "execute_result"
    }
   ],
   "source": [
    "df['키워드'].value_counts()"
   ]
  },
  {
   "cell_type": "code",
   "execution_count": 56,
   "metadata": {},
   "outputs": [
    {
     "data": {
      "text/plain": [
       "1057       1001\n",
       "445        1003\n",
       "597        1005\n",
       "983        1006\n",
       "442        1007\n",
       "         ...   \n",
       "13      1470452\n",
       "9       1887822\n",
       "0       2319456\n",
       "173     3095998\n",
       "4       9626374\n",
       "Name: 노출수, Length: 1381, dtype: int64"
      ]
     },
     "execution_count": 56,
     "metadata": {},
     "output_type": "execute_result"
    }
   ],
   "source": [
    "#  노출수 정렬\n",
    "df['노출수'].sort_values()"
   ]
  },
  {
   "cell_type": "code",
   "execution_count": 57,
   "metadata": {},
   "outputs": [
    {
     "data": {
      "text/plain": [
       "4       9626374\n",
       "173     3095998\n",
       "0       2319456\n",
       "9       1887822\n",
       "13      1470452\n",
       "         ...   \n",
       "442        1007\n",
       "983        1006\n",
       "597        1005\n",
       "445        1003\n",
       "1057       1001\n",
       "Name: 노출수, Length: 1381, dtype: int64"
      ]
     },
     "execution_count": 57,
     "metadata": {},
     "output_type": "execute_result"
    }
   ],
   "source": [
    "df['노출수'].sort_values(ascending=False) # 내림차순"
   ]
  },
  {
   "cell_type": "markdown",
   "metadata": {},
   "source": [
    "# 3. 시각화를 통한 데이터 탐색"
   ]
  },
  {
   "cell_type": "code",
   "execution_count": 59,
   "metadata": {},
   "outputs": [
    {
     "data": {
      "image/png": "[encoded data removed]",
      "text/plain": [
       "<Figure size 432x288 with 1 Axes>"
      ]
     },
     "metadata": {
      "needs_background": "light"
     },
     "output_type": "display_data"
    }
   ],
   "source": [
    "df['노출수'].plot()\n",
    "plt.show()"
   ]
  },
  {
   "cell_type": "code",
   "execution_count": 60,
   "metadata": {},
   "outputs": [
    {
     "data": {
      "text/plain": [
       "0       2319456\n",
       "1        767491\n",
       "2       1137840\n",
       "3        694106\n",
       "4       9626374\n",
       "         ...   \n",
       "1376      24016\n",
       "1377      32287\n",
       "1378      32602\n",
       "1379      60844\n",
       "1380      61193\n",
       "Name: 노출수, Length: 1381, dtype: int64"
      ]
     },
     "execution_count": 60,
     "metadata": {},
     "output_type": "execute_result"
    }
   ],
   "source": [
    "df['노출수']"
   ]
  },
  {
   "cell_type": "code",
   "execution_count": 62,
   "metadata": {},
   "outputs": [
    {
     "data": {
      "text/plain": [
       "1057       1001\n",
       "445        1003\n",
       "597        1005\n",
       "983        1006\n",
       "442        1007\n",
       "         ...   \n",
       "13      1470452\n",
       "9       1887822\n",
       "0       2319456\n",
       "173     3095998\n",
       "4       9626374\n",
       "Name: 노출수, Length: 1381, dtype: int64"
      ]
     },
     "execution_count": 62,
     "metadata": {},
     "output_type": "execute_result"
    }
   ],
   "source": [
    "imp_sort = df['노출수'].sort_values()\n",
    "imp_sort"
   ]
  },
  {
   "cell_type": "code",
   "execution_count": 63,
   "metadata": {},
   "outputs": [
    {
     "data": {
      "text/html": [
       "<div>\n",
       "<style scoped>\n",
       "    .dataframe tbody tr th:only-of-type {\n",
       "        vertical-align: middle;\n",
       "    }\n",
       "\n",
       "    .dataframe tbody tr th {\n",
       "        vertical-align: top;\n",
       "    }\n",
       "\n",
       "    .dataframe thead th {\n",
       "        text-align: right;\n",
       "    }\n",
       "</style>\n",
       "<table border=\"1\" class=\"dataframe\">\n",
       "  <thead>\n",
       "    <tr style=\"text-align: right;\">\n",
       "      <th></th>\n",
       "      <th>index</th>\n",
       "      <th>노출수</th>\n",
       "    </tr>\n",
       "  </thead>\n",
       "  <tbody>\n",
       "    <tr>\n",
       "      <th>0</th>\n",
       "      <td>1057</td>\n",
       "      <td>1001</td>\n",
       "    </tr>\n",
       "    <tr>\n",
       "      <th>1</th>\n",
       "      <td>445</td>\n",
       "      <td>1003</td>\n",
       "    </tr>\n",
       "    <tr>\n",
       "      <th>2</th>\n",
       "      <td>597</td>\n",
       "      <td>1005</td>\n",
       "    </tr>\n",
       "    <tr>\n",
       "      <th>3</th>\n",
       "      <td>983</td>\n",
       "      <td>1006</td>\n",
       "    </tr>\n",
       "    <tr>\n",
       "      <th>4</th>\n",
       "      <td>442</td>\n",
       "      <td>1007</td>\n",
       "    </tr>\n",
       "    <tr>\n",
       "      <th>...</th>\n",
       "      <td>...</td>\n",
       "      <td>...</td>\n",
       "    </tr>\n",
       "    <tr>\n",
       "      <th>1376</th>\n",
       "      <td>13</td>\n",
       "      <td>1470452</td>\n",
       "    </tr>\n",
       "    <tr>\n",
       "      <th>1377</th>\n",
       "      <td>9</td>\n",
       "      <td>1887822</td>\n",
       "    </tr>\n",
       "    <tr>\n",
       "      <th>1378</th>\n",
       "      <td>0</td>\n",
       "      <td>2319456</td>\n",
       "    </tr>\n",
       "    <tr>\n",
       "      <th>1379</th>\n",
       "      <td>173</td>\n",
       "      <td>3095998</td>\n",
       "    </tr>\n",
       "    <tr>\n",
       "      <th>1380</th>\n",
       "      <td>4</td>\n",
       "      <td>9626374</td>\n",
       "    </tr>\n",
       "  </tbody>\n",
       "</table>\n",
       "<p>1381 rows × 2 columns</p>\n",
       "</div>"
      ],
      "text/plain": [
       "      index      노출수\n",
       "0      1057     1001\n",
       "1       445     1003\n",
       "2       597     1005\n",
       "3       983     1006\n",
       "4       442     1007\n",
       "...     ...      ...\n",
       "1376     13  1470452\n",
       "1377      9  1887822\n",
       "1378      0  2319456\n",
       "1379    173  3095998\n",
       "1380      4  9626374\n",
       "\n",
       "[1381 rows x 2 columns]"
      ]
     },
     "execution_count": 63,
     "metadata": {},
     "output_type": "execute_result"
    }
   ],
   "source": [
    "imp_sort.reset_index()"
   ]
  },
  {
   "cell_type": "code",
   "execution_count": 64,
   "metadata": {},
   "outputs": [
    {
     "data": {
      "text/html": [
       "<div>\n",
       "<style scoped>\n",
       "    .dataframe tbody tr th:only-of-type {\n",
       "        vertical-align: middle;\n",
       "    }\n",
       "\n",
       "    .dataframe tbody tr th {\n",
       "        vertical-align: top;\n",
       "    }\n",
       "\n",
       "    .dataframe thead th {\n",
       "        text-align: right;\n",
       "    }\n",
       "</style>\n",
       "<table border=\"1\" class=\"dataframe\">\n",
       "  <thead>\n",
       "    <tr style=\"text-align: right;\">\n",
       "      <th></th>\n",
       "      <th>index</th>\n",
       "      <th>노출수</th>\n",
       "    </tr>\n",
       "  </thead>\n",
       "  <tbody>\n",
       "    <tr>\n",
       "      <th>0</th>\n",
       "      <td>1057</td>\n",
       "      <td>1001</td>\n",
       "    </tr>\n",
       "    <tr>\n",
       "      <th>1</th>\n",
       "      <td>445</td>\n",
       "      <td>1003</td>\n",
       "    </tr>\n",
       "    <tr>\n",
       "      <th>2</th>\n",
       "      <td>597</td>\n",
       "      <td>1005</td>\n",
       "    </tr>\n",
       "    <tr>\n",
       "      <th>3</th>\n",
       "      <td>983</td>\n",
       "      <td>1006</td>\n",
       "    </tr>\n",
       "    <tr>\n",
       "      <th>4</th>\n",
       "      <td>442</td>\n",
       "      <td>1007</td>\n",
       "    </tr>\n",
       "    <tr>\n",
       "      <th>...</th>\n",
       "      <td>...</td>\n",
       "      <td>...</td>\n",
       "    </tr>\n",
       "    <tr>\n",
       "      <th>1376</th>\n",
       "      <td>13</td>\n",
       "      <td>1470452</td>\n",
       "    </tr>\n",
       "    <tr>\n",
       "      <th>1377</th>\n",
       "      <td>9</td>\n",
       "      <td>1887822</td>\n",
       "    </tr>\n",
       "    <tr>\n",
       "      <th>1378</th>\n",
       "      <td>0</td>\n",
       "      <td>2319456</td>\n",
       "    </tr>\n",
       "    <tr>\n",
       "      <th>1379</th>\n",
       "      <td>173</td>\n",
       "      <td>3095998</td>\n",
       "    </tr>\n",
       "    <tr>\n",
       "      <th>1380</th>\n",
       "      <td>4</td>\n",
       "      <td>9626374</td>\n",
       "    </tr>\n",
       "  </tbody>\n",
       "</table>\n",
       "<p>1381 rows × 2 columns</p>\n",
       "</div>"
      ],
      "text/plain": [
       "      index      노출수\n",
       "0      1057     1001\n",
       "1       445     1003\n",
       "2       597     1005\n",
       "3       983     1006\n",
       "4       442     1007\n",
       "...     ...      ...\n",
       "1376     13  1470452\n",
       "1377      9  1887822\n",
       "1378      0  2319456\n",
       "1379    173  3095998\n",
       "1380      4  9626374\n",
       "\n",
       "[1381 rows x 2 columns]"
      ]
     },
     "execution_count": 64,
     "metadata": {},
     "output_type": "execute_result"
    }
   ],
   "source": [
    "imp_sort = imp_sort.reset_index()\n",
    "imp_sort"
   ]
  },
  {
   "cell_type": "code",
   "execution_count": 66,
   "metadata": {},
   "outputs": [
    {
     "data": {
      "text/html": [
       "<div>\n",
       "<style scoped>\n",
       "    .dataframe tbody tr th:only-of-type {\n",
       "        vertical-align: middle;\n",
       "    }\n",
       "\n",
       "    .dataframe tbody tr th {\n",
       "        vertical-align: top;\n",
       "    }\n",
       "\n",
       "    .dataframe thead th {\n",
       "        text-align: right;\n",
       "    }\n",
       "</style>\n",
       "<table border=\"1\" class=\"dataframe\">\n",
       "  <thead>\n",
       "    <tr style=\"text-align: right;\">\n",
       "      <th></th>\n",
       "      <th>노출수</th>\n",
       "    </tr>\n",
       "  </thead>\n",
       "  <tbody>\n",
       "    <tr>\n",
       "      <th>0</th>\n",
       "      <td>1001</td>\n",
       "    </tr>\n",
       "    <tr>\n",
       "      <th>1</th>\n",
       "      <td>1003</td>\n",
       "    </tr>\n",
       "    <tr>\n",
       "      <th>2</th>\n",
       "      <td>1005</td>\n",
       "    </tr>\n",
       "    <tr>\n",
       "      <th>3</th>\n",
       "      <td>1006</td>\n",
       "    </tr>\n",
       "    <tr>\n",
       "      <th>4</th>\n",
       "      <td>1007</td>\n",
       "    </tr>\n",
       "    <tr>\n",
       "      <th>...</th>\n",
       "      <td>...</td>\n",
       "    </tr>\n",
       "    <tr>\n",
       "      <th>1376</th>\n",
       "      <td>1470452</td>\n",
       "    </tr>\n",
       "    <tr>\n",
       "      <th>1377</th>\n",
       "      <td>1887822</td>\n",
       "    </tr>\n",
       "    <tr>\n",
       "      <th>1378</th>\n",
       "      <td>2319456</td>\n",
       "    </tr>\n",
       "    <tr>\n",
       "      <th>1379</th>\n",
       "      <td>3095998</td>\n",
       "    </tr>\n",
       "    <tr>\n",
       "      <th>1380</th>\n",
       "      <td>9626374</td>\n",
       "    </tr>\n",
       "  </tbody>\n",
       "</table>\n",
       "<p>1381 rows × 1 columns</p>\n",
       "</div>"
      ],
      "text/plain": [
       "          노출수\n",
       "0        1001\n",
       "1        1003\n",
       "2        1005\n",
       "3        1006\n",
       "4        1007\n",
       "...       ...\n",
       "1376  1470452\n",
       "1377  1887822\n",
       "1378  2319456\n",
       "1379  3095998\n",
       "1380  9626374\n",
       "\n",
       "[1381 rows x 1 columns]"
      ]
     },
     "execution_count": 66,
     "metadata": {},
     "output_type": "execute_result"
    }
   ],
   "source": [
    "imp_sort.drop('index', axis=1)"
   ]
  },
  {
   "cell_type": "code",
   "execution_count": 67,
   "metadata": {},
   "outputs": [],
   "source": [
    "imp_sort.drop('index', axis=1, inplace=True)  # 원본 변경"
   ]
  },
  {
   "cell_type": "code",
   "execution_count": 68,
   "metadata": {},
   "outputs": [
    {
     "data": {
      "text/html": [
       "<div>\n",
       "<style scoped>\n",
       "    .dataframe tbody tr th:only-of-type {\n",
       "        vertical-align: middle;\n",
       "    }\n",
       "\n",
       "    .dataframe tbody tr th {\n",
       "        vertical-align: top;\n",
       "    }\n",
       "\n",
       "    .dataframe thead th {\n",
       "        text-align: right;\n",
       "    }\n",
       "</style>\n",
       "<table border=\"1\" class=\"dataframe\">\n",
       "  <thead>\n",
       "    <tr style=\"text-align: right;\">\n",
       "      <th></th>\n",
       "      <th>노출수</th>\n",
       "    </tr>\n",
       "  </thead>\n",
       "  <tbody>\n",
       "    <tr>\n",
       "      <th>0</th>\n",
       "      <td>1001</td>\n",
       "    </tr>\n",
       "    <tr>\n",
       "      <th>1</th>\n",
       "      <td>1003</td>\n",
       "    </tr>\n",
       "    <tr>\n",
       "      <th>2</th>\n",
       "      <td>1005</td>\n",
       "    </tr>\n",
       "    <tr>\n",
       "      <th>3</th>\n",
       "      <td>1006</td>\n",
       "    </tr>\n",
       "    <tr>\n",
       "      <th>4</th>\n",
       "      <td>1007</td>\n",
       "    </tr>\n",
       "    <tr>\n",
       "      <th>...</th>\n",
       "      <td>...</td>\n",
       "    </tr>\n",
       "    <tr>\n",
       "      <th>1376</th>\n",
       "      <td>1470452</td>\n",
       "    </tr>\n",
       "    <tr>\n",
       "      <th>1377</th>\n",
       "      <td>1887822</td>\n",
       "    </tr>\n",
       "    <tr>\n",
       "      <th>1378</th>\n",
       "      <td>2319456</td>\n",
       "    </tr>\n",
       "    <tr>\n",
       "      <th>1379</th>\n",
       "      <td>3095998</td>\n",
       "    </tr>\n",
       "    <tr>\n",
       "      <th>1380</th>\n",
       "      <td>9626374</td>\n",
       "    </tr>\n",
       "  </tbody>\n",
       "</table>\n",
       "<p>1381 rows × 1 columns</p>\n",
       "</div>"
      ],
      "text/plain": [
       "          노출수\n",
       "0        1001\n",
       "1        1003\n",
       "2        1005\n",
       "3        1006\n",
       "4        1007\n",
       "...       ...\n",
       "1376  1470452\n",
       "1377  1887822\n",
       "1378  2319456\n",
       "1379  3095998\n",
       "1380  9626374\n",
       "\n",
       "[1381 rows x 1 columns]"
      ]
     },
     "execution_count": 68,
     "metadata": {},
     "output_type": "execute_result"
    }
   ],
   "source": [
    "imp_sort"
   ]
  },
  {
   "cell_type": "code",
   "execution_count": 69,
   "metadata": {},
   "outputs": [
    {
     "data": {
      "text/plain": [
       "<AxesSubplot:>"
      ]
     },
     "execution_count": 69,
     "metadata": {},
     "output_type": "execute_result"
    },
    {
     "data": {
      "image/png": "[encoded data removed]",
      "text/plain": [
       "<Figure size 432x288 with 1 Axes>"
      ]
     },
     "metadata": {
      "needs_background": "light"
     },
     "output_type": "display_data"
    }
   ],
   "source": [
    "imp_sort.plot()"
   ]
  },
  {
   "cell_type": "code",
   "execution_count": 74,
   "metadata": {},
   "outputs": [
    {
     "data": {
      "text/plain": [
       "<AxesSubplot:>"
      ]
     },
     "execution_count": 74,
     "metadata": {},
     "output_type": "execute_result"
    },
    {
     "data": {
      "image/png": "[encoded data removed]",
      "text/plain": [
       "<Figure size 432x288 with 1 Axes>"
      ]
     },
     "metadata": {
      "needs_background": "light"
     },
     "output_type": "display_data"
    }
   ],
   "source": [
    "#  한줄로 만들기\n",
    "((df['클릭수'].sort_values()).reset_index()).drop('index', axis=1).plot()"
   ]
  },
  {
   "cell_type": "code",
   "execution_count": 75,
   "metadata": {},
   "outputs": [
    {
     "data": {
      "text/plain": [
       "<AxesSubplot:>"
      ]
     },
     "execution_count": 75,
     "metadata": {},
     "output_type": "execute_result"
    },
    {
     "data": {
      "image/png": "[encoded data removed]",
      "text/plain": [
       "<Figure size 432x288 with 1 Axes>"
      ]
     },
     "metadata": {
      "needs_background": "light"
     },
     "output_type": "display_data"
    }
   ],
   "source": [
    "# 총비용\n",
    "\n",
    "((df['총비용(VAT포함,원)'].sort_values()).reset_index()).drop('index', axis=1).plot()"
   ]
  },
  {
   "cell_type": "code",
   "execution_count": null,
   "metadata": {},
   "outputs": [],
   "source": [
    "# 관찰 INSIGHT\n",
    "\n",
    "# '노출수' '클릭수' 는 상위 5% 정도에 대한 데이터를 제외하곤 거의다 최솟값에 머물고 있다.\n",
    "#  그런데 '총비용' 의 경우 약 15% 정도를 제외하곤 최솟값에 머물고 있다.\n",
    "\n",
    "#  비용대비... 노출수, 클릭수 저조한 구간은 어디라고 판단하는가?"
   ]
  },
  {
   "cell_type": "markdown",
   "metadata": {},
   "source": [
    "---\n",
    "# 4. 데이터 분석"
   ]
  },
  {
   "cell_type": "code",
   "execution_count": 76,
   "metadata": {},
   "outputs": [],
   "source": [
    "# 위 결과에서 상위 5% 가 클릭수, 노출수가 집중되고 있다.\n",
    "# 이를 '중점 관리 키워드' 로 보고 추출해보도록 하자"
   ]
  },
  {
   "cell_type": "markdown",
   "metadata": {},
   "source": [
    "## 중점관리키워드 추출\n",
    "- 노출수, 클릭수 기준 상위 5%에 해당하는 키워드 추출 . 다음의 3단계를 거쳐야 함\n",
    " 1. 95백분위수 찾기(quantile 함수 사용)\n",
    " 2. 95백분위수 이상(상위 5%)의 노출수 추출\n",
    " 3. 상위 5%에 해당하는 키워드 추출"
   ]
  },
  {
   "cell_type": "code",
   "execution_count": 78,
   "metadata": {},
   "outputs": [
    {
     "data": {
      "text/plain": [
       "0       2319456\n",
       "1        767491\n",
       "2       1137840\n",
       "3        694106\n",
       "4       9626374\n",
       "         ...   \n",
       "1376      24016\n",
       "1377      32287\n",
       "1378      32602\n",
       "1379      60844\n",
       "1380      61193\n",
       "Name: 노출수, Length: 1381, dtype: int64"
      ]
     },
     "execution_count": 78,
     "metadata": {},
     "output_type": "execute_result"
    }
   ],
   "source": [
    "imp = df['노출수']\n",
    "imp"
   ]
  },
  {
   "cell_type": "code",
   "execution_count": 80,
   "metadata": {},
   "outputs": [
    {
     "data": {
      "text/plain": [
       "3805.0"
      ]
     },
     "execution_count": 80,
     "metadata": {},
     "output_type": "execute_result"
    }
   ],
   "source": [
    "#1. 95백분위수 찾기\n",
    "# quntile() - 분위수 출력 (default: 중앙값, 2사분위수)\n",
    "imp.quantile()"
   ]
  },
  {
   "cell_type": "code",
   "execution_count": 81,
   "metadata": {},
   "outputs": [
    {
     "data": {
      "text/plain": [
       "1001.0"
      ]
     },
     "execution_count": 81,
     "metadata": {},
     "output_type": "execute_result"
    }
   ],
   "source": [
    "imp.quantile(0)  # 최솟값"
   ]
  },
  {
   "cell_type": "code",
   "execution_count": 82,
   "metadata": {},
   "outputs": [
    {
     "data": {
      "text/plain": [
       "1001"
      ]
     },
     "execution_count": 82,
     "metadata": {},
     "output_type": "execute_result"
    }
   ],
   "source": [
    "imp.min()"
   ]
  },
  {
   "cell_type": "code",
   "execution_count": 83,
   "metadata": {},
   "outputs": [
    {
     "data": {
      "text/plain": [
       "9626374.0"
      ]
     },
     "execution_count": 83,
     "metadata": {},
     "output_type": "execute_result"
    }
   ],
   "source": [
    "imp.quantile(1)  # 최댓값"
   ]
  },
  {
   "cell_type": "code",
   "execution_count": 84,
   "metadata": {},
   "outputs": [
    {
     "data": {
      "text/plain": [
       "9626374"
      ]
     },
     "execution_count": 84,
     "metadata": {},
     "output_type": "execute_result"
    }
   ],
   "source": [
    "imp.max()"
   ]
  },
  {
   "cell_type": "code",
   "execution_count": 85,
   "metadata": {},
   "outputs": [
    {
     "data": {
      "text/plain": [
       "82858.0"
      ]
     },
     "execution_count": 85,
     "metadata": {},
     "output_type": "execute_result"
    }
   ],
   "source": [
    "# 95백분위수 =>\n",
    "imp.quantile(0.95)"
   ]
  },
  {
   "cell_type": "code",
   "execution_count": 87,
   "metadata": {},
   "outputs": [
    {
     "data": {
      "text/plain": [
       "0      2319456\n",
       "1       767491\n",
       "2      1137840\n",
       "3       694106\n",
       "4      9626374\n",
       "        ...   \n",
       "602     247898\n",
       "698     196862\n",
       "741      94933\n",
       "777     126393\n",
       "780      90041\n",
       "Name: 노출수, Length: 69, dtype: int64"
      ]
     },
     "execution_count": 87,
     "metadata": {},
     "output_type": "execute_result"
    }
   ],
   "source": [
    "#2. 95백분위수 이상 (상위 5%) 의 노출수(들) 추출\n",
    "imp[imp > imp.quantile(0.95)]"
   ]
  },
  {
   "cell_type": "code",
   "execution_count": 88,
   "metadata": {},
   "outputs": [],
   "source": [
    "imp = imp[imp > imp.quantile(0.95)]"
   ]
  },
  {
   "cell_type": "code",
   "execution_count": 89,
   "metadata": {},
   "outputs": [
    {
     "data": {
      "text/plain": [
       "0      2319456\n",
       "1       767491\n",
       "2      1137840\n",
       "3       694106\n",
       "4      9626374\n",
       "        ...   \n",
       "602     247898\n",
       "698     196862\n",
       "741      94933\n",
       "777     126393\n",
       "780      90041\n",
       "Name: 노출수, Length: 69, dtype: int64"
      ]
     },
     "execution_count": 89,
     "metadata": {},
     "output_type": "execute_result"
    }
   ],
   "source": [
    "imp"
   ]
  },
  {
   "cell_type": "code",
   "execution_count": 90,
   "metadata": {},
   "outputs": [],
   "source": [
    "# 위 69개의 광고그룹 x 키워드는  상위 5% 의 노출수에 해당한다.\n",
    "# 이 키워드들을 찾아내려면 어케 하나?"
   ]
  },
  {
   "cell_type": "code",
   "execution_count": 91,
   "metadata": {},
   "outputs": [
    {
     "data": {
      "text/html": [
       "<div>\n",
       "<style scoped>\n",
       "    .dataframe tbody tr th:only-of-type {\n",
       "        vertical-align: middle;\n",
       "    }\n",
       "\n",
       "    .dataframe tbody tr th {\n",
       "        vertical-align: top;\n",
       "    }\n",
       "\n",
       "    .dataframe thead th {\n",
       "        text-align: right;\n",
       "    }\n",
       "</style>\n",
       "<table border=\"1\" class=\"dataframe\">\n",
       "  <thead>\n",
       "    <tr style=\"text-align: right;\">\n",
       "      <th></th>\n",
       "      <th>광고그룹</th>\n",
       "      <th>키워드</th>\n",
       "      <th>노출수</th>\n",
       "      <th>클릭수</th>\n",
       "      <th>클릭률(%)</th>\n",
       "      <th>평균클릭비용(VAT포함,원)</th>\n",
       "      <th>총비용(VAT포함,원)</th>\n",
       "    </tr>\n",
       "  </thead>\n",
       "  <tbody>\n",
       "    <tr>\n",
       "      <th>0</th>\n",
       "      <td>올인원 패키지 : 디자인 툴_파워컨텐츠_포토샵</td>\n",
       "      <td>-</td>\n",
       "      <td>2319456</td>\n",
       "      <td>9606</td>\n",
       "      <td>0.41</td>\n",
       "      <td>262</td>\n",
       "      <td>2512444</td>\n",
       "    </tr>\n",
       "    <tr>\n",
       "      <th>1</th>\n",
       "      <td>올인원 패키지 : 업무자동화_VBA</td>\n",
       "      <td>-</td>\n",
       "      <td>767491</td>\n",
       "      <td>8058</td>\n",
       "      <td>1.05</td>\n",
       "      <td>296</td>\n",
       "      <td>2384965</td>\n",
       "    </tr>\n",
       "    <tr>\n",
       "      <th>2</th>\n",
       "      <td>ㅍAOP 전체_중복키워드_디자인(삭제)</td>\n",
       "      <td>일러스트</td>\n",
       "      <td>1137840</td>\n",
       "      <td>324</td>\n",
       "      <td>0.03</td>\n",
       "      <td>4842</td>\n",
       "      <td>1568699</td>\n",
       "    </tr>\n",
       "    <tr>\n",
       "      <th>3</th>\n",
       "      <td>올인원 패키지 : 데이터 분석 입문 온라인_파콘</td>\n",
       "      <td>-</td>\n",
       "      <td>694106</td>\n",
       "      <td>1864</td>\n",
       "      <td>0.27</td>\n",
       "      <td>631</td>\n",
       "      <td>1175174</td>\n",
       "    </tr>\n",
       "    <tr>\n",
       "      <th>4</th>\n",
       "      <td>3. html</td>\n",
       "      <td>HTML</td>\n",
       "      <td>9626374</td>\n",
       "      <td>814</td>\n",
       "      <td>0.01</td>\n",
       "      <td>1408</td>\n",
       "      <td>1145903</td>\n",
       "    </tr>\n",
       "    <tr>\n",
       "      <th>...</th>\n",
       "      <td>...</td>\n",
       "      <td>...</td>\n",
       "      <td>...</td>\n",
       "      <td>...</td>\n",
       "      <td>...</td>\n",
       "      <td>...</td>\n",
       "      <td>...</td>\n",
       "    </tr>\n",
       "    <tr>\n",
       "      <th>1376</th>\n",
       "      <td>올인원 패키지 : 업무자동화_3. 엑셀</td>\n",
       "      <td>엑셀셀서식</td>\n",
       "      <td>24016</td>\n",
       "      <td>0</td>\n",
       "      <td>0.00</td>\n",
       "      <td>0</td>\n",
       "      <td>0</td>\n",
       "    </tr>\n",
       "    <tr>\n",
       "      <th>1377</th>\n",
       "      <td>올인원 패키지 : 업무자동화_3. 엑셀</td>\n",
       "      <td>MATCH</td>\n",
       "      <td>32287</td>\n",
       "      <td>0</td>\n",
       "      <td>0.00</td>\n",
       "      <td>0</td>\n",
       "      <td>0</td>\n",
       "    </tr>\n",
       "    <tr>\n",
       "      <th>1378</th>\n",
       "      <td>마케팅KPI수립</td>\n",
       "      <td>LTV</td>\n",
       "      <td>32602</td>\n",
       "      <td>0</td>\n",
       "      <td>0.00</td>\n",
       "      <td>0</td>\n",
       "      <td>0</td>\n",
       "    </tr>\n",
       "    <tr>\n",
       "      <th>1379</th>\n",
       "      <td>data_camp_rmp_8</td>\n",
       "      <td>DECISION</td>\n",
       "      <td>60844</td>\n",
       "      <td>0</td>\n",
       "      <td>0.00</td>\n",
       "      <td>0</td>\n",
       "      <td>0</td>\n",
       "    </tr>\n",
       "    <tr>\n",
       "      <th>1380</th>\n",
       "      <td>4. 웹의 동작</td>\n",
       "      <td>REST</td>\n",
       "      <td>61193</td>\n",
       "      <td>0</td>\n",
       "      <td>0.00</td>\n",
       "      <td>0</td>\n",
       "      <td>0</td>\n",
       "    </tr>\n",
       "  </tbody>\n",
       "</table>\n",
       "<p>1381 rows × 7 columns</p>\n",
       "</div>"
      ],
      "text/plain": [
       "                            광고그룹       키워드      노출수   클릭수  클릭률(%)  \\\n",
       "0      올인원 패키지 : 디자인 툴_파워컨텐츠_포토샵         -  2319456  9606    0.41   \n",
       "1            올인원 패키지 : 업무자동화_VBA         -   767491  8058    1.05   \n",
       "2          ㅍAOP 전체_중복키워드_디자인(삭제)      일러스트  1137840   324    0.03   \n",
       "3     올인원 패키지 : 데이터 분석 입문 온라인_파콘         -   694106  1864    0.27   \n",
       "4                        3. html      HTML  9626374   814    0.01   \n",
       "...                          ...       ...      ...   ...     ...   \n",
       "1376       올인원 패키지 : 업무자동화_3. 엑셀     엑셀셀서식    24016     0    0.00   \n",
       "1377       올인원 패키지 : 업무자동화_3. 엑셀     MATCH    32287     0    0.00   \n",
       "1378                    마케팅KPI수립       LTV    32602     0    0.00   \n",
       "1379             data_camp_rmp_8  DECISION    60844     0    0.00   \n",
       "1380                    4. 웹의 동작      REST    61193     0    0.00   \n",
       "\n",
       "      평균클릭비용(VAT포함,원)  총비용(VAT포함,원)  \n",
       "0                 262       2512444  \n",
       "1                 296       2384965  \n",
       "2                4842       1568699  \n",
       "3                 631       1175174  \n",
       "4                1408       1145903  \n",
       "...               ...           ...  \n",
       "1376                0             0  \n",
       "1377                0             0  \n",
       "1378                0             0  \n",
       "1379                0             0  \n",
       "1380                0             0  \n",
       "\n",
       "[1381 rows x 7 columns]"
      ]
     },
     "execution_count": 91,
     "metadata": {},
     "output_type": "execute_result"
    }
   ],
   "source": [
    "df"
   ]
  },
  {
   "cell_type": "code",
   "execution_count": 93,
   "metadata": {},
   "outputs": [
    {
     "data": {
      "text/html": [
       "<div>\n",
       "<style scoped>\n",
       "    .dataframe tbody tr th:only-of-type {\n",
       "        vertical-align: middle;\n",
       "    }\n",
       "\n",
       "    .dataframe tbody tr th {\n",
       "        vertical-align: top;\n",
       "    }\n",
       "\n",
       "    .dataframe thead th {\n",
       "        text-align: right;\n",
       "    }\n",
       "</style>\n",
       "<table border=\"1\" class=\"dataframe\">\n",
       "  <thead>\n",
       "    <tr style=\"text-align: right;\">\n",
       "      <th></th>\n",
       "      <th>광고그룹</th>\n",
       "      <th>노출수</th>\n",
       "      <th>클릭수</th>\n",
       "      <th>클릭률(%)</th>\n",
       "      <th>평균클릭비용(VAT포함,원)</th>\n",
       "      <th>총비용(VAT포함,원)</th>\n",
       "    </tr>\n",
       "    <tr>\n",
       "      <th>키워드</th>\n",
       "      <th></th>\n",
       "      <th></th>\n",
       "      <th></th>\n",
       "      <th></th>\n",
       "      <th></th>\n",
       "      <th></th>\n",
       "    </tr>\n",
       "  </thead>\n",
       "  <tbody>\n",
       "    <tr>\n",
       "      <th>-</th>\n",
       "      <td>올인원 패키지 : 디자인 툴_파워컨텐츠_포토샵</td>\n",
       "      <td>2319456</td>\n",
       "      <td>9606</td>\n",
       "      <td>0.41</td>\n",
       "      <td>262</td>\n",
       "      <td>2512444</td>\n",
       "    </tr>\n",
       "    <tr>\n",
       "      <th>-</th>\n",
       "      <td>올인원 패키지 : 업무자동화_VBA</td>\n",
       "      <td>767491</td>\n",
       "      <td>8058</td>\n",
       "      <td>1.05</td>\n",
       "      <td>296</td>\n",
       "      <td>2384965</td>\n",
       "    </tr>\n",
       "    <tr>\n",
       "      <th>일러스트</th>\n",
       "      <td>ㅍAOP 전체_중복키워드_디자인(삭제)</td>\n",
       "      <td>1137840</td>\n",
       "      <td>324</td>\n",
       "      <td>0.03</td>\n",
       "      <td>4842</td>\n",
       "      <td>1568699</td>\n",
       "    </tr>\n",
       "    <tr>\n",
       "      <th>-</th>\n",
       "      <td>올인원 패키지 : 데이터 분석 입문 온라인_파콘</td>\n",
       "      <td>694106</td>\n",
       "      <td>1864</td>\n",
       "      <td>0.27</td>\n",
       "      <td>631</td>\n",
       "      <td>1175174</td>\n",
       "    </tr>\n",
       "    <tr>\n",
       "      <th>HTML</th>\n",
       "      <td>3. html</td>\n",
       "      <td>9626374</td>\n",
       "      <td>814</td>\n",
       "      <td>0.01</td>\n",
       "      <td>1408</td>\n",
       "      <td>1145903</td>\n",
       "    </tr>\n",
       "    <tr>\n",
       "      <th>...</th>\n",
       "      <td>...</td>\n",
       "      <td>...</td>\n",
       "      <td>...</td>\n",
       "      <td>...</td>\n",
       "      <td>...</td>\n",
       "      <td>...</td>\n",
       "    </tr>\n",
       "    <tr>\n",
       "      <th>엑셀셀서식</th>\n",
       "      <td>올인원 패키지 : 업무자동화_3. 엑셀</td>\n",
       "      <td>24016</td>\n",
       "      <td>0</td>\n",
       "      <td>0.00</td>\n",
       "      <td>0</td>\n",
       "      <td>0</td>\n",
       "    </tr>\n",
       "    <tr>\n",
       "      <th>MATCH</th>\n",
       "      <td>올인원 패키지 : 업무자동화_3. 엑셀</td>\n",
       "      <td>32287</td>\n",
       "      <td>0</td>\n",
       "      <td>0.00</td>\n",
       "      <td>0</td>\n",
       "      <td>0</td>\n",
       "    </tr>\n",
       "    <tr>\n",
       "      <th>LTV</th>\n",
       "      <td>마케팅KPI수립</td>\n",
       "      <td>32602</td>\n",
       "      <td>0</td>\n",
       "      <td>0.00</td>\n",
       "      <td>0</td>\n",
       "      <td>0</td>\n",
       "    </tr>\n",
       "    <tr>\n",
       "      <th>DECISION</th>\n",
       "      <td>data_camp_rmp_8</td>\n",
       "      <td>60844</td>\n",
       "      <td>0</td>\n",
       "      <td>0.00</td>\n",
       "      <td>0</td>\n",
       "      <td>0</td>\n",
       "    </tr>\n",
       "    <tr>\n",
       "      <th>REST</th>\n",
       "      <td>4. 웹의 동작</td>\n",
       "      <td>61193</td>\n",
       "      <td>0</td>\n",
       "      <td>0.00</td>\n",
       "      <td>0</td>\n",
       "      <td>0</td>\n",
       "    </tr>\n",
       "  </tbody>\n",
       "</table>\n",
       "<p>1381 rows × 6 columns</p>\n",
       "</div>"
      ],
      "text/plain": [
       "                                광고그룹      노출수   클릭수  클릭률(%)  평균클릭비용(VAT포함,원)  \\\n",
       "키워드                                                                            \n",
       "-          올인원 패키지 : 디자인 툴_파워컨텐츠_포토샵  2319456  9606    0.41              262   \n",
       "-                올인원 패키지 : 업무자동화_VBA   767491  8058    1.05              296   \n",
       "일러스트           ㅍAOP 전체_중복키워드_디자인(삭제)  1137840   324    0.03             4842   \n",
       "-         올인원 패키지 : 데이터 분석 입문 온라인_파콘   694106  1864    0.27              631   \n",
       "HTML                         3. html  9626374   814    0.01             1408   \n",
       "...                              ...      ...   ...     ...              ...   \n",
       "엑셀셀서식          올인원 패키지 : 업무자동화_3. 엑셀    24016     0    0.00                0   \n",
       "MATCH          올인원 패키지 : 업무자동화_3. 엑셀    32287     0    0.00                0   \n",
       "LTV                         마케팅KPI수립    32602     0    0.00                0   \n",
       "DECISION             data_camp_rmp_8    60844     0    0.00                0   \n",
       "REST                        4. 웹의 동작    61193     0    0.00                0   \n",
       "\n",
       "          총비용(VAT포함,원)  \n",
       "키워드                     \n",
       "-              2512444  \n",
       "-              2384965  \n",
       "일러스트           1568699  \n",
       "-              1175174  \n",
       "HTML           1145903  \n",
       "...                ...  \n",
       "엑셀셀서식                0  \n",
       "MATCH                0  \n",
       "LTV                  0  \n",
       "DECISION             0  \n",
       "REST                 0  \n",
       "\n",
       "[1381 rows x 6 columns]"
      ]
     },
     "execution_count": 93,
     "metadata": {},
     "output_type": "execute_result"
    }
   ],
   "source": [
    "df_index = df.set_index('키워드')\n",
    "df_index"
   ]
  },
  {
   "cell_type": "code",
   "execution_count": 95,
   "metadata": {},
   "outputs": [],
   "source": [
    "imp = df_index['노출수']"
   ]
  },
  {
   "cell_type": "code",
   "execution_count": 96,
   "metadata": {},
   "outputs": [],
   "source": [
    "imp = imp[imp >= imp.quantile(0.95)]"
   ]
  },
  {
   "cell_type": "code",
   "execution_count": 97,
   "metadata": {},
   "outputs": [
    {
     "data": {
      "text/plain": [
       "키워드\n",
       "-         2319456\n",
       "-          767491\n",
       "일러스트      1137840\n",
       "-          694106\n",
       "HTML      9626374\n",
       "           ...   \n",
       "부동산스터디     196862\n",
       "가상메모리       94933\n",
       "프로모션        82858\n",
       "앱스토어       126393\n",
       "OS          90041\n",
       "Name: 노출수, Length: 70, dtype: int64"
      ]
     },
     "execution_count": 97,
     "metadata": {},
     "output_type": "execute_result"
    }
   ],
   "source": [
    "imp  # '노출수' 상위 5%의 키워드들이 인덱스로 나온다!!"
   ]
  },
  {
   "cell_type": "code",
   "execution_count": 99,
   "metadata": {},
   "outputs": [
    {
     "data": {
      "text/plain": [
       "키워드\n",
       "-          9606\n",
       "-          8058\n",
       "일러스트        324\n",
       "-          1864\n",
       "HTML        814\n",
       "           ... \n",
       "재태크         126\n",
       "모스자격증       198\n",
       "펀드하는법       248\n",
       "채권투자        136\n",
       "주식투자하는법     120\n",
       "Name: 클릭수, Length: 70, dtype: int32"
      ]
     },
     "execution_count": 99,
     "metadata": {},
     "output_type": "execute_result"
    }
   ],
   "source": [
    "# [도전] df_index 에서 '클릭수' 상위 5% 키워드 추출!\n",
    "clk = df_index['클릭수']\n",
    "clk = clk[clk >= clk.quantile(0.95)]\n",
    "clk"
   ]
  },
  {
   "cell_type": "code",
   "execution_count": 100,
   "metadata": {},
   "outputs": [],
   "source": [
    "# '노출수' 상위 5%,  '클릭수' 상위 5% 출력"
   ]
  },
  {
   "cell_type": "code",
   "execution_count": 101,
   "metadata": {},
   "outputs": [
    {
     "data": {
      "text/plain": [
       "키워드\n",
       "-         2319456\n",
       "-          767491\n",
       "일러스트      1137840\n",
       "-          694106\n",
       "HTML      9626374\n",
       "           ...   \n",
       "부동산스터디     196862\n",
       "가상메모리       94933\n",
       "프로모션        82858\n",
       "앱스토어       126393\n",
       "OS          90041\n",
       "Name: 노출수, Length: 70, dtype: int64"
      ]
     },
     "execution_count": 101,
     "metadata": {},
     "output_type": "execute_result"
    }
   ],
   "source": [
    "imp"
   ]
  },
  {
   "cell_type": "code",
   "execution_count": 102,
   "metadata": {},
   "outputs": [
    {
     "data": {
      "text/plain": [
       "키워드\n",
       "-          9606\n",
       "-          8058\n",
       "일러스트        324\n",
       "-          1864\n",
       "HTML        814\n",
       "           ... \n",
       "재태크         126\n",
       "모스자격증       198\n",
       "펀드하는법       248\n",
       "채권투자        136\n",
       "주식투자하는법     120\n",
       "Name: 클릭수, Length: 70, dtype: int32"
      ]
     },
     "execution_count": 102,
     "metadata": {},
     "output_type": "execute_result"
    }
   ],
   "source": [
    "clk"
   ]
  },
  {
   "cell_type": "markdown",
   "metadata": {},
   "source": [
    "### 중점관리 키워드\n",
    "- 노출수 와 클릭수 모두 상위 5% 이상\n",
    "\n",
    "- DataFrame[(조건문) & (조건문)]"
   ]
  },
  {
   "cell_type": "code",
   "execution_count": 103,
   "metadata": {},
   "outputs": [],
   "source": [
    "imp = df_index['노출수']\n",
    "clk = df_index['클릭수']"
   ]
  },
  {
   "cell_type": "code",
   "execution_count": 104,
   "metadata": {},
   "outputs": [
    {
     "data": {
      "text/html": [
       "<div>\n",
       "<style scoped>\n",
       "    .dataframe tbody tr th:only-of-type {\n",
       "        vertical-align: middle;\n",
       "    }\n",
       "\n",
       "    .dataframe tbody tr th {\n",
       "        vertical-align: top;\n",
       "    }\n",
       "\n",
       "    .dataframe thead th {\n",
       "        text-align: right;\n",
       "    }\n",
       "</style>\n",
       "<table border=\"1\" class=\"dataframe\">\n",
       "  <thead>\n",
       "    <tr style=\"text-align: right;\">\n",
       "      <th></th>\n",
       "      <th>광고그룹</th>\n",
       "      <th>노출수</th>\n",
       "      <th>클릭수</th>\n",
       "      <th>클릭률(%)</th>\n",
       "      <th>평균클릭비용(VAT포함,원)</th>\n",
       "      <th>총비용(VAT포함,원)</th>\n",
       "    </tr>\n",
       "    <tr>\n",
       "      <th>키워드</th>\n",
       "      <th></th>\n",
       "      <th></th>\n",
       "      <th></th>\n",
       "      <th></th>\n",
       "      <th></th>\n",
       "      <th></th>\n",
       "    </tr>\n",
       "  </thead>\n",
       "  <tbody>\n",
       "    <tr>\n",
       "      <th>-</th>\n",
       "      <td>올인원 패키지 : 디자인 툴_파워컨텐츠_포토샵</td>\n",
       "      <td>2319456</td>\n",
       "      <td>9606</td>\n",
       "      <td>0.41</td>\n",
       "      <td>262</td>\n",
       "      <td>2512444</td>\n",
       "    </tr>\n",
       "    <tr>\n",
       "      <th>-</th>\n",
       "      <td>올인원 패키지 : 업무자동화_VBA</td>\n",
       "      <td>767491</td>\n",
       "      <td>8058</td>\n",
       "      <td>1.05</td>\n",
       "      <td>296</td>\n",
       "      <td>2384965</td>\n",
       "    </tr>\n",
       "    <tr>\n",
       "      <th>일러스트</th>\n",
       "      <td>ㅍAOP 전체_중복키워드_디자인(삭제)</td>\n",
       "      <td>1137840</td>\n",
       "      <td>324</td>\n",
       "      <td>0.03</td>\n",
       "      <td>4842</td>\n",
       "      <td>1568699</td>\n",
       "    </tr>\n",
       "    <tr>\n",
       "      <th>-</th>\n",
       "      <td>올인원 패키지 : 데이터 분석 입문 온라인_파콘</td>\n",
       "      <td>694106</td>\n",
       "      <td>1864</td>\n",
       "      <td>0.27</td>\n",
       "      <td>631</td>\n",
       "      <td>1175174</td>\n",
       "    </tr>\n",
       "    <tr>\n",
       "      <th>HTML</th>\n",
       "      <td>3. html</td>\n",
       "      <td>9626374</td>\n",
       "      <td>814</td>\n",
       "      <td>0.01</td>\n",
       "      <td>1408</td>\n",
       "      <td>1145903</td>\n",
       "    </tr>\n",
       "    <tr>\n",
       "      <th>파이썬</th>\n",
       "      <td>6. 파이썬</td>\n",
       "      <td>384522</td>\n",
       "      <td>260</td>\n",
       "      <td>0.07</td>\n",
       "      <td>3705</td>\n",
       "      <td>964876</td>\n",
       "    </tr>\n",
       "    <tr>\n",
       "      <th>코딩</th>\n",
       "      <td>1. 코딩</td>\n",
       "      <td>562162</td>\n",
       "      <td>271</td>\n",
       "      <td>0.05</td>\n",
       "      <td>3243</td>\n",
       "      <td>879560</td>\n",
       "    </tr>\n",
       "    <tr>\n",
       "      <th>C언어</th>\n",
       "      <td>2. C언어 일반</td>\n",
       "      <td>271370</td>\n",
       "      <td>154</td>\n",
       "      <td>0.06</td>\n",
       "      <td>5269</td>\n",
       "      <td>809358</td>\n",
       "    </tr>\n",
       "    <tr>\n",
       "      <th>가상화폐</th>\n",
       "      <td>프로그래밍 전체_파워컨텐츠_블록체인(삭제)</td>\n",
       "      <td>91369</td>\n",
       "      <td>2838</td>\n",
       "      <td>3.11</td>\n",
       "      <td>283</td>\n",
       "      <td>803770</td>\n",
       "    </tr>\n",
       "    <tr>\n",
       "      <th>포토샵</th>\n",
       "      <td>AOP 전체_중복키워드_디자인</td>\n",
       "      <td>1887822</td>\n",
       "      <td>394</td>\n",
       "      <td>0.02</td>\n",
       "      <td>1914</td>\n",
       "      <td>753247</td>\n",
       "    </tr>\n",
       "    <tr>\n",
       "      <th>블록체인</th>\n",
       "      <td>블록체인 신사업 시작하기</td>\n",
       "      <td>200243</td>\n",
       "      <td>236</td>\n",
       "      <td>0.12</td>\n",
       "      <td>2722</td>\n",
       "      <td>643478</td>\n",
       "    </tr>\n",
       "    <tr>\n",
       "      <th>엑셀</th>\n",
       "      <td>AOP 전체_중복키워드_비지니스</td>\n",
       "      <td>1470452</td>\n",
       "      <td>450</td>\n",
       "      <td>0.03</td>\n",
       "      <td>1409</td>\n",
       "      <td>633897</td>\n",
       "    </tr>\n",
       "    <tr>\n",
       "      <th>-</th>\n",
       "      <td>올인원 패키지 : 데이터 분석 입문(파컨)</td>\n",
       "      <td>139717</td>\n",
       "      <td>618</td>\n",
       "      <td>0.44</td>\n",
       "      <td>636</td>\n",
       "      <td>393327</td>\n",
       "    </tr>\n",
       "    <tr>\n",
       "      <th>포토샵</th>\n",
       "      <td>올인원 패키지 : 디자인 툴_파워컨텐츠_포토샵</td>\n",
       "      <td>124068</td>\n",
       "      <td>2536</td>\n",
       "      <td>2.04</td>\n",
       "      <td>150</td>\n",
       "      <td>381359</td>\n",
       "    </tr>\n",
       "    <tr>\n",
       "      <th>컴퓨터활용능력</th>\n",
       "      <td>올인원 패키지 : 업무자동화_VBA</td>\n",
       "      <td>139729</td>\n",
       "      <td>1535</td>\n",
       "      <td>1.10</td>\n",
       "      <td>239</td>\n",
       "      <td>367147</td>\n",
       "    </tr>\n",
       "    <tr>\n",
       "      <th>컴퓨터활용능력2급</th>\n",
       "      <td>올인원 패키지 : 업무자동화_VBA</td>\n",
       "      <td>88751</td>\n",
       "      <td>1283</td>\n",
       "      <td>1.45</td>\n",
       "      <td>234</td>\n",
       "      <td>300058</td>\n",
       "    </tr>\n",
       "    <tr>\n",
       "      <th>컴퓨터활용능력1급</th>\n",
       "      <td>올인원 패키지 : 업무자동화_VBA</td>\n",
       "      <td>94757</td>\n",
       "      <td>1192</td>\n",
       "      <td>1.26</td>\n",
       "      <td>237</td>\n",
       "      <td>282018</td>\n",
       "    </tr>\n",
       "    <tr>\n",
       "      <th>포토샵</th>\n",
       "      <td>ㅍAOP 전체_중복키워드_디자인(삭제)</td>\n",
       "      <td>1021846</td>\n",
       "      <td>157</td>\n",
       "      <td>0.02</td>\n",
       "      <td>1625</td>\n",
       "      <td>255475</td>\n",
       "    </tr>\n",
       "    <tr>\n",
       "      <th>-</th>\n",
       "      <td>올인원 패키지 : 프로그래밍 첫걸음 시작하기</td>\n",
       "      <td>88800</td>\n",
       "      <td>599</td>\n",
       "      <td>0.67</td>\n",
       "      <td>352</td>\n",
       "      <td>210650</td>\n",
       "    </tr>\n",
       "    <tr>\n",
       "      <th>프리미어프로</th>\n",
       "      <td>AOP 전체_중복키워드_디자인</td>\n",
       "      <td>213033</td>\n",
       "      <td>132</td>\n",
       "      <td>0.06</td>\n",
       "      <td>1574</td>\n",
       "      <td>207702</td>\n",
       "    </tr>\n",
       "    <tr>\n",
       "      <th>폰트</th>\n",
       "      <td>타이포그래피와 편집디자인</td>\n",
       "      <td>478588</td>\n",
       "      <td>474</td>\n",
       "      <td>0.10</td>\n",
       "      <td>396</td>\n",
       "      <td>187693</td>\n",
       "    </tr>\n",
       "    <tr>\n",
       "      <th>스케치</th>\n",
       "      <td>AOP 전체_중복키워드_디자인</td>\n",
       "      <td>200487</td>\n",
       "      <td>133</td>\n",
       "      <td>0.07</td>\n",
       "      <td>1166</td>\n",
       "      <td>155254</td>\n",
       "    </tr>\n",
       "    <tr>\n",
       "      <th>포토샵</th>\n",
       "      <td>포토샵 유치원_일러스트레이터 유치원</td>\n",
       "      <td>691814</td>\n",
       "      <td>130</td>\n",
       "      <td>0.02</td>\n",
       "      <td>1052</td>\n",
       "      <td>136279</td>\n",
       "    </tr>\n",
       "    <tr>\n",
       "      <th>글씨체</th>\n",
       "      <td>타이포그래피와 편집디자인</td>\n",
       "      <td>106648</td>\n",
       "      <td>216</td>\n",
       "      <td>0.20</td>\n",
       "      <td>425</td>\n",
       "      <td>91806</td>\n",
       "    </tr>\n",
       "    <tr>\n",
       "      <th>한글폰트</th>\n",
       "      <td>타이포그래피와 편집디자인</td>\n",
       "      <td>82983</td>\n",
       "      <td>206</td>\n",
       "      <td>0.25</td>\n",
       "      <td>308</td>\n",
       "      <td>63492</td>\n",
       "    </tr>\n",
       "    <tr>\n",
       "      <th>마블</th>\n",
       "      <td>ㅍAOP 전체_중복키워드_디자인(삭제)</td>\n",
       "      <td>907619</td>\n",
       "      <td>228</td>\n",
       "      <td>0.03</td>\n",
       "      <td>265</td>\n",
       "      <td>60533</td>\n",
       "    </tr>\n",
       "    <tr>\n",
       "      <th>바이럴마케팅</th>\n",
       "      <td>마케팅 전체</td>\n",
       "      <td>3095998</td>\n",
       "      <td>262</td>\n",
       "      <td>0.01</td>\n",
       "      <td>220</td>\n",
       "      <td>57563</td>\n",
       "    </tr>\n",
       "  </tbody>\n",
       "</table>\n",
       "</div>"
      ],
      "text/plain": [
       "                                 광고그룹      노출수   클릭수  클릭률(%)  평균클릭비용(VAT포함,원)  \\\n",
       "키워드                                                                             \n",
       "-           올인원 패키지 : 디자인 툴_파워컨텐츠_포토샵  2319456  9606    0.41              262   \n",
       "-                 올인원 패키지 : 업무자동화_VBA   767491  8058    1.05              296   \n",
       "일러스트            ㅍAOP 전체_중복키워드_디자인(삭제)  1137840   324    0.03             4842   \n",
       "-          올인원 패키지 : 데이터 분석 입문 온라인_파콘   694106  1864    0.27              631   \n",
       "HTML                          3. html  9626374   814    0.01             1408   \n",
       "파이썬                            6. 파이썬   384522   260    0.07             3705   \n",
       "코딩                              1. 코딩   562162   271    0.05             3243   \n",
       "C언어                         2. C언어 일반   271370   154    0.06             5269   \n",
       "가상화폐          프로그래밍 전체_파워컨텐츠_블록체인(삭제)    91369  2838    3.11              283   \n",
       "포토샵                  AOP 전체_중복키워드_디자인  1887822   394    0.02             1914   \n",
       "블록체인                    블록체인 신사업 시작하기   200243   236    0.12             2722   \n",
       "엑셀                  AOP 전체_중복키워드_비지니스  1470452   450    0.03             1409   \n",
       "-             올인원 패키지 : 데이터 분석 입문(파컨)   139717   618    0.44              636   \n",
       "포토샵         올인원 패키지 : 디자인 툴_파워컨텐츠_포토샵   124068  2536    2.04              150   \n",
       "컴퓨터활용능력           올인원 패키지 : 업무자동화_VBA   139729  1535    1.10              239   \n",
       "컴퓨터활용능력2급         올인원 패키지 : 업무자동화_VBA    88751  1283    1.45              234   \n",
       "컴퓨터활용능력1급         올인원 패키지 : 업무자동화_VBA    94757  1192    1.26              237   \n",
       "포토샵             ㅍAOP 전체_중복키워드_디자인(삭제)  1021846   157    0.02             1625   \n",
       "-            올인원 패키지 : 프로그래밍 첫걸음 시작하기    88800   599    0.67              352   \n",
       "프리미어프로               AOP 전체_중복키워드_디자인   213033   132    0.06             1574   \n",
       "폰트                      타이포그래피와 편집디자인   478588   474    0.10              396   \n",
       "스케치                  AOP 전체_중복키워드_디자인   200487   133    0.07             1166   \n",
       "포토샵               포토샵 유치원_일러스트레이터 유치원   691814   130    0.02             1052   \n",
       "글씨체                     타이포그래피와 편집디자인   106648   216    0.20              425   \n",
       "한글폰트                    타이포그래피와 편집디자인    82983   206    0.25              308   \n",
       "마블              ㅍAOP 전체_중복키워드_디자인(삭제)   907619   228    0.03              265   \n",
       "바이럴마케팅                         마케팅 전체  3095998   262    0.01              220   \n",
       "\n",
       "           총비용(VAT포함,원)  \n",
       "키워드                      \n",
       "-               2512444  \n",
       "-               2384965  \n",
       "일러스트            1568699  \n",
       "-               1175174  \n",
       "HTML            1145903  \n",
       "파이썬              964876  \n",
       "코딩               879560  \n",
       "C언어              809358  \n",
       "가상화폐             803770  \n",
       "포토샵              753247  \n",
       "블록체인             643478  \n",
       "엑셀               633897  \n",
       "-                393327  \n",
       "포토샵              381359  \n",
       "컴퓨터활용능력          367147  \n",
       "컴퓨터활용능력2급        300058  \n",
       "컴퓨터활용능력1급        282018  \n",
       "포토샵              255475  \n",
       "-                210650  \n",
       "프리미어프로           207702  \n",
       "폰트               187693  \n",
       "스케치              155254  \n",
       "포토샵              136279  \n",
       "글씨체               91806  \n",
       "한글폰트              63492  \n",
       "마블                60533  \n",
       "바이럴마케팅            57563  "
      ]
     },
     "execution_count": 104,
     "metadata": {},
     "output_type": "execute_result"
    }
   ],
   "source": [
    "result = df_index[(imp >= imp.quantile(0.95)) & (clk >= clk.quantile(0.95))]\n",
    "result"
   ]
  },
  {
   "cell_type": "code",
   "execution_count": 105,
   "metadata": {},
   "outputs": [
    {
     "data": {
      "text/plain": [
       "Index(['-', '-', '일러스트', '-', 'HTML', '파이썬', '코딩', 'C언어', '가상화폐', '포토샵',\n",
       "       '블록체인', '엑셀', '-', '포토샵', '컴퓨터활용능력', '컴퓨터활용능력2급', '컴퓨터활용능력1급', '포토샵',\n",
       "       '-', '프리미어프로', '폰트', '스케치', '포토샵', '글씨체', '한글폰트', '마블', '바이럴마케팅'],\n",
       "      dtype='object', name='키워드')"
      ]
     },
     "execution_count": 105,
     "metadata": {},
     "output_type": "execute_result"
    }
   ],
   "source": [
    "# 중점관리 키워드! \n",
    "result.index"
   ]
  },
  {
   "cell_type": "markdown",
   "metadata": {},
   "source": [
    "### 저효율 키워드 선별"
   ]
  },
  {
   "cell_type": "code",
   "execution_count": 106,
   "metadata": {},
   "outputs": [
    {
     "data": {
      "image/png": "[encoded data removed]",
      "text/plain": [
       "<Figure size 432x288 with 1 Axes>"
      ]
     },
     "metadata": {
      "needs_background": "light"
     },
     "output_type": "display_data"
    }
   ],
   "source": [
    "# '노출수'\n",
    "imp_sort.plot()\n",
    "plt.show()"
   ]
  },
  {
   "cell_type": "code",
   "execution_count": 108,
   "metadata": {},
   "outputs": [
    {
     "data": {
      "image/png": "[encoded data removed]",
      "text/plain": [
       "<Figure size 432x288 with 1 Axes>"
      ]
     },
     "metadata": {
      "needs_background": "light"
     },
     "output_type": "display_data"
    }
   ],
   "source": [
    "# '클릭수'\n",
    "(((df['클릭수'].sort_values()).reset_index()).drop('index', axis=1)).plot()\n",
    "plt.show()"
   ]
  },
  {
   "cell_type": "code",
   "execution_count": 109,
   "metadata": {},
   "outputs": [
    {
     "data": {
      "text/plain": [
       "<AxesSubplot:>"
      ]
     },
     "execution_count": 109,
     "metadata": {},
     "output_type": "execute_result"
    },
    {
     "data": {
      "image/png": "[encoded data removed]",
      "text/plain": [
       "<Figure size 432x288 with 1 Axes>"
      ]
     },
     "metadata": {
      "needs_background": "light"
     },
     "output_type": "display_data"
    }
   ],
   "source": [
    "# 총비용\n",
    "\n",
    "((df['총비용(VAT포함,원)'].sort_values()).reset_index()).drop('index', axis=1).plot()"
   ]
  },
  {
   "cell_type": "code",
   "execution_count": 110,
   "metadata": {},
   "outputs": [],
   "source": [
    "# 노출이나 클릭이 잘 되지 않음에도 비용이 많이 들어가는 키워드 --> 저효율 키워드"
   ]
  },
  {
   "cell_type": "markdown",
   "metadata": {},
   "source": [
    "- 노출수, 클릭수  기준 상위 5%의 키워드가 아닌데도 불구하고 비용이 많이 쓰이고 있는 저효율 키워드를 다음과 같이 정의했다 하자\n",
    " 1. 노출수 95백분위수 미만\n",
    " 2. 클릭수 95백분위수 미만\n",
    " 3. 총비용 85백분위수 이상\n",
    " 4. 총비용 95백분위수 미만\n",
    " \n",
    " ### # 조건이 여러개일  경우 \n",
    " - 데이터프레임[(조건문)&(조건문)]"
   ]
  },
  {
   "cell_type": "code",
   "execution_count": 113,
   "metadata": {},
   "outputs": [
    {
     "data": {
      "text/plain": [
       "키워드\n",
       "-           2512444\n",
       "-           2384965\n",
       "일러스트        1568699\n",
       "-           1175174\n",
       "HTML        1145903\n",
       "             ...   \n",
       "엑셀셀서식             0\n",
       "MATCH             0\n",
       "LTV               0\n",
       "DECISION          0\n",
       "REST              0\n",
       "Name: 총비용(VAT포함,원), Length: 1381, dtype: int64"
      ]
     },
     "execution_count": 113,
     "metadata": {},
     "output_type": "execute_result"
    }
   ],
   "source": [
    "cost = df_index['총비용(VAT포함,원)']\n",
    "cost"
   ]
  },
  {
   "cell_type": "code",
   "execution_count": 115,
   "metadata": {},
   "outputs": [
    {
     "data": {
      "text/html": [
       "<div>\n",
       "<style scoped>\n",
       "    .dataframe tbody tr th:only-of-type {\n",
       "        vertical-align: middle;\n",
       "    }\n",
       "\n",
       "    .dataframe tbody tr th {\n",
       "        vertical-align: top;\n",
       "    }\n",
       "\n",
       "    .dataframe thead th {\n",
       "        text-align: right;\n",
       "    }\n",
       "</style>\n",
       "<table border=\"1\" class=\"dataframe\">\n",
       "  <thead>\n",
       "    <tr style=\"text-align: right;\">\n",
       "      <th></th>\n",
       "      <th>광고그룹</th>\n",
       "      <th>노출수</th>\n",
       "      <th>클릭수</th>\n",
       "      <th>클릭률(%)</th>\n",
       "      <th>평균클릭비용(VAT포함,원)</th>\n",
       "      <th>총비용(VAT포함,원)</th>\n",
       "    </tr>\n",
       "    <tr>\n",
       "      <th>키워드</th>\n",
       "      <th></th>\n",
       "      <th></th>\n",
       "      <th></th>\n",
       "      <th></th>\n",
       "      <th></th>\n",
       "      <th></th>\n",
       "    </tr>\n",
       "  </thead>\n",
       "  <tbody>\n",
       "    <tr>\n",
       "      <th>온라인마케팅교육</th>\n",
       "      <td>올인원 패키지 : 디지털 마케팅_1. 디지털 마케팅</td>\n",
       "      <td>4712</td>\n",
       "      <td>54</td>\n",
       "      <td>1.15</td>\n",
       "      <td>3460</td>\n",
       "      <td>186846</td>\n",
       "    </tr>\n",
       "    <tr>\n",
       "      <th>온라인마케팅</th>\n",
       "      <td>AOP 전체_중복키워드_마케팅</td>\n",
       "      <td>25645</td>\n",
       "      <td>43</td>\n",
       "      <td>0.17</td>\n",
       "      <td>4294</td>\n",
       "      <td>185493</td>\n",
       "    </tr>\n",
       "    <tr>\n",
       "      <th>어플제작비용</th>\n",
       "      <td>1. 모바일앱개발_교육</td>\n",
       "      <td>1786</td>\n",
       "      <td>70</td>\n",
       "      <td>3.92</td>\n",
       "      <td>2653</td>\n",
       "      <td>184646</td>\n",
       "    </tr>\n",
       "    <tr>\n",
       "      <th>부동산경매</th>\n",
       "      <td>fin_camp_auction_6</td>\n",
       "      <td>5087</td>\n",
       "      <td>50</td>\n",
       "      <td>0.98</td>\n",
       "      <td>3606</td>\n",
       "      <td>181742</td>\n",
       "    </tr>\n",
       "    <tr>\n",
       "      <th>퍼포먼스마케팅</th>\n",
       "      <td>마케터를 위한 데이터 부트캠프</td>\n",
       "      <td>5131</td>\n",
       "      <td>55</td>\n",
       "      <td>1.07</td>\n",
       "      <td>3275</td>\n",
       "      <td>180774</td>\n",
       "    </tr>\n",
       "    <tr>\n",
       "      <th>...</th>\n",
       "      <td>...</td>\n",
       "      <td>...</td>\n",
       "      <td>...</td>\n",
       "      <td>...</td>\n",
       "      <td>...</td>\n",
       "      <td>...</td>\n",
       "    </tr>\n",
       "    <tr>\n",
       "      <th>PHP</th>\n",
       "      <td>Python &amp; Django를 활용한 웹 서비스_개발자</td>\n",
       "      <td>11304</td>\n",
       "      <td>13</td>\n",
       "      <td>0.12</td>\n",
       "      <td>3490</td>\n",
       "      <td>46068</td>\n",
       "    </tr>\n",
       "    <tr>\n",
       "      <th>UXUI</th>\n",
       "      <td>AOP 전체_중복키워드_디자인</td>\n",
       "      <td>8957</td>\n",
       "      <td>28</td>\n",
       "      <td>0.31</td>\n",
       "      <td>1645</td>\n",
       "      <td>45408</td>\n",
       "    </tr>\n",
       "    <tr>\n",
       "      <th>SQL</th>\n",
       "      <td>올인원 패키지 : 파이썬 웹 개발_3.FLASK기초</td>\n",
       "      <td>7980</td>\n",
       "      <td>12</td>\n",
       "      <td>0.15</td>\n",
       "      <td>3781</td>\n",
       "      <td>45375</td>\n",
       "    </tr>\n",
       "    <tr>\n",
       "      <th>UI디자인</th>\n",
       "      <td>ㅍ올인원 패키지 : UX/UI 디자인 입문_연관검색어(삭제)</td>\n",
       "      <td>2812</td>\n",
       "      <td>13</td>\n",
       "      <td>0.46</td>\n",
       "      <td>3430</td>\n",
       "      <td>45276</td>\n",
       "    </tr>\n",
       "    <tr>\n",
       "      <th>웹크롤링</th>\n",
       "      <td>왕초보의 파이썬 웹 프로그래밍 CAMP</td>\n",
       "      <td>1929</td>\n",
       "      <td>13</td>\n",
       "      <td>0.67</td>\n",
       "      <td>3417</td>\n",
       "      <td>45100</td>\n",
       "    </tr>\n",
       "  </tbody>\n",
       "</table>\n",
       "<p>97 rows × 6 columns</p>\n",
       "</div>"
      ],
      "text/plain": [
       "                                       광고그룹    노출수  클릭수  클릭률(%)  \\\n",
       "키워드                                                               \n",
       "온라인마케팅교육       올인원 패키지 : 디지털 마케팅_1. 디지털 마케팅   4712   54    1.15   \n",
       "온라인마케팅                     AOP 전체_중복키워드_마케팅  25645   43    0.17   \n",
       "어플제작비용                         1. 모바일앱개발_교육   1786   70    3.92   \n",
       "부동산경매                    fin_camp_auction_6   5087   50    0.98   \n",
       "퍼포먼스마케팅                    마케터를 위한 데이터 부트캠프   5131   55    1.07   \n",
       "...                                     ...    ...  ...     ...   \n",
       "PHP          Python & Django를 활용한 웹 서비스_개발자  11304   13    0.12   \n",
       "UXUI                       AOP 전체_중복키워드_디자인   8957   28    0.31   \n",
       "SQL            올인원 패키지 : 파이썬 웹 개발_3.FLASK기초   7980   12    0.15   \n",
       "UI디자인     ㅍ올인원 패키지 : UX/UI 디자인 입문_연관검색어(삭제)   2812   13    0.46   \n",
       "웹크롤링                  왕초보의 파이썬 웹 프로그래밍 CAMP   1929   13    0.67   \n",
       "\n",
       "          평균클릭비용(VAT포함,원)  총비용(VAT포함,원)  \n",
       "키워드                                      \n",
       "온라인마케팅교육             3460        186846  \n",
       "온라인마케팅               4294        185493  \n",
       "어플제작비용               2653        184646  \n",
       "부동산경매                3606        181742  \n",
       "퍼포먼스마케팅              3275        180774  \n",
       "...                   ...           ...  \n",
       "PHP                  3490         46068  \n",
       "UXUI                 1645         45408  \n",
       "SQL                  3781         45375  \n",
       "UI디자인                3430         45276  \n",
       "웹크롤링                 3417         45100  \n",
       "\n",
       "[97 rows x 6 columns]"
      ]
     },
     "execution_count": 115,
     "metadata": {},
     "output_type": "execute_result"
    }
   ],
   "source": [
    "result = df_index[(imp < imp.quantile(0.95)) & (clk < clk.quantile(0.95)) & (cost >= cost.quantile(0.85)) & (cost < cost.quantile(0.95))]\n",
    "result"
   ]
  },
  {
   "cell_type": "code",
   "execution_count": 116,
   "metadata": {},
   "outputs": [
    {
     "data": {
      "text/plain": [
       "Index(['온라인마케팅교육', '온라인마케팅', '어플제작비용', '부동산경매', '퍼포먼스마케팅', '블록체인', 'C++',\n",
       "       '게임만드는프로그램', '엑셀배우기', '앱만들기', '영상제작', '쇼핑몰제작', '에프터이펙트', '어플리케이션제작',\n",
       "       '강남빌딩매매', '웹디자인', '디지털마케팅', '포토샵강의', '구글애널리틱스자격증', 'PYTHON', '페이스북광고',\n",
       "       '유튜브마케팅', '게임제작', '부동산투자', '마케팅전략', 'PYTHON', '홈페이지만들기', 'B2B사이트',\n",
       "       'JAVASCRIPT', '파이썬강좌', '인스타그램광고', '동영상제작', 'SEO', '쇼핑몰창업', '인터넷쇼핑몰',\n",
       "       '게임프로그래밍학원', '프로그래밍', '서울빌딩매매', '데이터사이언스', '모바일게임제작', '엑셀학원',\n",
       "       '유튜브크리에이터', '엑셀VBA', '영상편집학원', '텐서플로우', '쇼핑몰홈페이지제작', '엑셀교육', '그로스해킹',\n",
       "       '게임개발', '광고대행사', '통계학원', '모바일앱개발', '안드로이드앱만들기', '파이썬기초', '하이브리드앱',\n",
       "       '온라인마케팅', '인디자인', '검색엔진최적화', '엑셀실무', '인터넷쇼핑몰제작', '상가빌딩매매', '퍼포먼스마케팅',\n",
       "       '쇼핑몰', 'UX디자인', '유니티강좌', 'VBA', '코딩이란', 'SNS마케팅', 'GA자격증', '콘텐츠제작',\n",
       "       '구글애널리틱스', 'UI디자인', '1인미디어', '포토샵자격증', '하이브리드앱', '포토샵자격증', '브랜드네이밍',\n",
       "       '리플렛디자인', '데이터사이언티스트', '유니티3D', '자바스크립트', '일러스트레이터강좌', '데이터분석준전문가',\n",
       "       '유튜브편집', '모션그래픽', '리플렛디자인', 'SPRING', '어도비일러스트레이터', 'SNS광고', '쇼핑몰촬영',\n",
       "       '브랜드마케팅', '데이터분석', 'PHP', 'UXUI', 'SQL', 'UI디자인', '웹크롤링'],\n",
       "      dtype='object', name='키워드')"
      ]
     },
     "execution_count": 116,
     "metadata": {},
     "output_type": "execute_result"
    }
   ],
   "source": [
    "# 저효율 키워드!\n",
    "result.index"
   ]
  },
  {
   "cell_type": "code",
   "execution_count": 117,
   "metadata": {},
   "outputs": [],
   "source": [
    "# 이번에는 '키워드'중심분석\n",
    "# 다음에는 '광고그룹' 중심으로 분석"
   ]
  },
  {
   "cell_type": "code",
   "execution_count": null,
   "metadata": {},
   "outputs": [],
   "source": []
  },
  {
   "cell_type": "code",
   "execution_count": null,
   "metadata": {},
   "outputs": [],
   "source": []
  },
  {
   "cell_type": "code",
   "execution_count": null,
   "metadata": {},
   "outputs": [],
   "source": []
  },
  {
   "cell_type": "code",
   "execution_count": null,
   "metadata": {},
   "outputs": [],
   "source": []
  },
  {
   "cell_type": "code",
   "execution_count": null,
   "metadata": {},
   "outputs": [],
   "source": []
  },
  {
   "cell_type": "code",
   "execution_count": null,
   "metadata": {},
   "outputs": [],
   "source": []
  },
  {
   "cell_type": "code",
   "execution_count": null,
   "metadata": {},
   "outputs": [],
   "source": []
  }
 ],
 "metadata": {
  "kernelspec": {
   "display_name": "Python 3",
   "language": "python",
   "name": "python3"
  },
  "language_info": {
   "codemirror_mode": {
    "name": "ipython",
    "version": 3
   },
   "file_extension": ".py",
   "mimetype": "text/x-python",
   "name": "python",
   "nbconvert_exporter": "python",
   "pygments_lexer": "ipython3",
   "version": "3.8.5"
  }
 },
 "nbformat": 4,
 "nbformat_minor": 4
}
