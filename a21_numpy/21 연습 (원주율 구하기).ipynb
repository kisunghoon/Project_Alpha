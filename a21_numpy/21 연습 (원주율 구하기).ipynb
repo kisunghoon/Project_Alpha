{
 "cells": [
  {
   "cell_type": "markdown",
   "metadata": {},
   "source": [
    "---\n",
    "# 연습문제\n",
    " 1. numpy를 이용하여 pi(원주율) 값을 계산하시오\n",
    "  - 몬테 카를로 방법 이용 : 난수를 발생하여 특정한 값의 근사치를 추정하는 겁니다\n",
    "  - ![파이 값 구하기](https://nclab.com/wp-content/media/2017/08/pi1.gif)"
   ]
  },
  {
   "cell_type": "code",
   "execution_count": 3,
   "metadata": {},
   "outputs": [],
   "source": [
    "import numpy as np"
   ]
  },
  {
   "cell_type": "code",
   "execution_count": null,
   "metadata": {},
   "outputs": [],
   "source": [
    "# 네모의 넓이는 1 입니다.\n",
    "# 원의 넓이는 pi x (r ** 2) 인데  r = 1 이니까, 원의 넓이는 pi 다!\n",
    "# 그 중에서 사분원만 있으니까, 저 빨간색의 영역의 넓이는  pi/4 일겁니다.\n",
    "\n",
    "# 그러면 이러한 비례식을 세울수 있다.\n",
    "\n",
    "# pi / 4  : 1  = (4분원 안에 생성된 점 개수) : 전체 시도 횟수 (1e7)\n",
    "\n",
    "# pi = 4 * (4분원 안에 생성된 점 개수) / 1e7"
   ]
  },
  {
   "cell_type": "code",
   "execution_count": 1,
   "metadata": {},
   "outputs": [
    {
     "data": {
      "text/plain": [
       "10000000"
      ]
     },
     "execution_count": 1,
     "metadata": {},
     "output_type": "execute_result"
    }
   ],
   "source": [
    "# 전체 시도횟수\n",
    "total = int(1e7)  # 천만\n",
    "total"
   ]
  },
  {
   "cell_type": "code",
   "execution_count": 5,
   "metadata": {},
   "outputs": [
    {
     "data": {
      "text/plain": [
       "array([[0.23835504, 0.1110595 ],\n",
       "       [0.17645773, 0.467061  ],\n",
       "       [0.09176531, 0.09856966],\n",
       "       ...,\n",
       "       [0.01194966, 0.93072217],\n",
       "       [0.8960272 , 0.21491759],\n",
       "       [0.32987784, 0.07608053]])"
      ]
     },
     "execution_count": 5,
     "metadata": {},
     "output_type": "execute_result"
    }
   ],
   "source": [
    "points = np.random.rand(total, 2)   # [x, y] 좌표값\n",
    "points"
   ]
  },
  {
   "cell_type": "code",
   "execution_count": 6,
   "metadata": {},
   "outputs": [
    {
     "data": {
      "text/plain": [
       "10000000"
      ]
     },
     "execution_count": 6,
     "metadata": {},
     "output_type": "execute_result"
    }
   ],
   "source": [
    "len(points)"
   ]
  },
  {
   "cell_type": "code",
   "execution_count": null,
   "metadata": {},
   "outputs": [],
   "source": [
    "# x ** 2 + y ** 2   이 결과값이 1보다 작은 점이 원 안에 찍힌 점이다"
   ]
  },
  {
   "cell_type": "code",
   "execution_count": 7,
   "metadata": {},
   "outputs": [
    {
     "data": {
      "text/plain": [
       "array([[5.68131235e-02, 1.23342121e-02],\n",
       "       [3.11373311e-02, 2.18145974e-01],\n",
       "       [8.42087263e-03, 9.71597761e-03],\n",
       "       ...,\n",
       "       [1.42794343e-04, 8.66243759e-01],\n",
       "       [8.02864749e-01, 4.61895721e-02],\n",
       "       [1.08819389e-01, 5.78824727e-03]])"
      ]
     },
     "execution_count": 7,
     "metadata": {},
     "output_type": "execute_result"
    }
   ],
   "source": [
    "points ** 2"
   ]
  },
  {
   "cell_type": "code",
   "execution_count": 9,
   "metadata": {},
   "outputs": [
    {
     "data": {
      "text/plain": [
       "array([0.06914734, 0.24928331, 0.01813685, ..., 0.86638655, 0.84905432,\n",
       "       0.11460764])"
      ]
     },
     "execution_count": 9,
     "metadata": {},
     "output_type": "execute_result"
    }
   ],
   "source": [
    "# x ** 2 + y ** 2\n",
    "np.sum(points ** 2, axis = 1)"
   ]
  },
  {
   "cell_type": "code",
   "execution_count": 10,
   "metadata": {},
   "outputs": [
    {
     "data": {
      "text/plain": [
       "array([ True,  True,  True, ...,  True,  True,  True])"
      ]
     },
     "execution_count": 10,
     "metadata": {},
     "output_type": "execute_result"
    }
   ],
   "source": [
    "# x ** 2 + y ** 2 < 1\n",
    "np.sum(points ** 2, axis = 1) < 1"
   ]
  },
  {
   "cell_type": "code",
   "execution_count": 11,
   "metadata": {},
   "outputs": [
    {
     "data": {
      "text/plain": [
       "7852834"
      ]
     },
     "execution_count": 11,
     "metadata": {},
     "output_type": "execute_result"
    }
   ],
   "source": [
    "# 원 안에 찍힌 점 들의 갯수\n",
    "np.sum(np.sum(points ** 2, axis = 1) < 1)"
   ]
  },
  {
   "cell_type": "code",
   "execution_count": 12,
   "metadata": {},
   "outputs": [
    {
     "data": {
      "text/plain": [
       "3.1411336"
      ]
     },
     "execution_count": 12,
     "metadata": {},
     "output_type": "execute_result"
    }
   ],
   "source": [
    "# 원주율!\n",
    "4 * np.sum(np.sum(points ** 2, axis = 1) < 1) / total"
   ]
  },
  {
   "cell_type": "markdown",
   "metadata": {},
   "source": [
    "### 정리(완성)"
   ]
  },
  {
   "cell_type": "code",
   "execution_count": 13,
   "metadata": {},
   "outputs": [
    {
     "data": {
      "text/plain": [
       "3.1421592"
      ]
     },
     "execution_count": 13,
     "metadata": {},
     "output_type": "execute_result"
    }
   ],
   "source": [
    "total = int(1e7)\n",
    "points = np.random.rand(total, 2)\n",
    "4 * np.sum(np.sum(points ** 2, axis = 1) < 1) / total"
   ]
  },
  {
   "cell_type": "code",
   "execution_count": null,
   "metadata": {},
   "outputs": [],
   "source": []
  },
  {
   "cell_type": "markdown",
   "metadata": {},
   "source": [
    "# 위와 같은 그림 시각화 할수 있나?"
   ]
  },
  {
   "cell_type": "code",
   "execution_count": 14,
   "metadata": {},
   "outputs": [],
   "source": [
    "import matplotlib.pyplot as plt\n",
    "%matplotlib inline"
   ]
  },
  {
   "cell_type": "code",
   "execution_count": 18,
   "metadata": {},
   "outputs": [],
   "source": [
    "total = 500  # 개수 조정\n",
    "points = np.random.rand(total, 2)\n",
    "\n",
    "# 원 안쪽의 점들과 바깥쪽의 점들을 나눈다 (filter)\n",
    "\n",
    "in_pts = points[np.sum(points ** 2, axis = 1) < 1]\n",
    "out_pts = points[np.sum(points ** 2, axis = 1) >= 1]\n"
   ]
  },
  {
   "cell_type": "code",
   "execution_count": 20,
   "metadata": {},
   "outputs": [
    {
     "data": {
      "text/plain": [
       "(401, 99)"
      ]
     },
     "execution_count": 20,
     "metadata": {},
     "output_type": "execute_result"
    }
   ],
   "source": [
    "len(in_pts), len(out_pts)"
   ]
  },
  {
   "cell_type": "code",
   "execution_count": 21,
   "metadata": {},
   "outputs": [
    {
     "data": {
      "text/plain": [
       "array([[0.75664933, 0.05982226],\n",
       "       [0.47369401, 0.04243113],\n",
       "       [0.20837882, 0.86675635],\n",
       "       [0.3256845 , 0.84468768],\n",
       "       [0.29675606, 0.42676907],\n",
       "       [0.83209645, 0.17016877],\n",
       "       [0.49464567, 0.50667925],\n",
       "       [0.36216052, 0.06922329],\n",
       "       [0.02801633, 0.99459509],\n",
       "       [0.3311218 , 0.45077071]])"
      ]
     },
     "execution_count": 21,
     "metadata": {},
     "output_type": "execute_result"
    }
   ],
   "source": [
    "# 원안에 찍힌 점들 (상위 10개)\n",
    "in_pts[:10]"
   ]
  },
  {
   "cell_type": "code",
   "execution_count": 24,
   "metadata": {},
   "outputs": [
    {
     "data": {
      "text/plain": [
       "array([0.75664933, 0.47369401, 0.20837882, 0.3256845 , 0.29675606,\n",
       "       0.83209645, 0.49464567, 0.36216052, 0.02801633, 0.3311218 ,\n",
       "       0.72668872, 0.43471774, 0.34517804, 0.37264152, 0.6035478 ,\n",
       "       0.42904137, 0.47399667, 0.73530328, 0.39949282, 0.54099705,\n",
       "       0.17682856, 0.2160816 , 0.07425908, 0.74965054, 0.28810419,\n",
       "       0.99214539, 0.50110648, 0.13843249, 0.68382548, 0.72802465,\n",
       "       0.2594472 , 0.60030429, 0.25521217, 0.47058285, 0.08472408,\n",
       "       0.90127799, 0.05072284, 0.02258425, 0.36319709, 0.13326244,\n",
       "       0.96097458, 0.26613482, 0.11078192, 0.14576619, 0.08302885,\n",
       "       0.47893321, 0.13729766, 0.29858088, 0.32634226, 0.64721613,\n",
       "       0.15846446, 0.16383366, 0.44011761, 0.76511821, 0.18769088,\n",
       "       0.05373706, 0.44042294, 0.18190418, 0.15418261, 0.27475866,\n",
       "       0.62946899, 0.74805498, 0.86881353, 0.56864979, 0.25968147,\n",
       "       0.72997343, 0.37471032, 0.27192777, 0.55246553, 0.56247592,\n",
       "       0.14717991, 0.26298888, 0.52896995, 0.51490782, 0.00805755,\n",
       "       0.28331471, 0.5558174 , 0.93420413, 0.58511754, 0.78693549,\n",
       "       0.14625472, 0.05350101, 0.23513362, 0.15844806, 0.09771193,\n",
       "       0.23677038, 0.67030449, 0.26953521, 0.51212864, 0.7537671 ,\n",
       "       0.11150779, 0.2506901 , 0.14564185, 0.05680169, 0.33667685,\n",
       "       0.89649693, 0.52811566, 0.20503888, 0.52223413, 0.95797367,\n",
       "       0.96170766, 0.54386186, 0.76032029, 0.45493558, 0.65358942,\n",
       "       0.0978456 , 0.49021471, 0.03653054, 0.93420358, 0.3788532 ,\n",
       "       0.27072765, 0.17314493, 0.10421443, 0.37878737, 0.42055074,\n",
       "       0.66296231, 0.88992062, 0.66013713, 0.42159749, 0.1440925 ,\n",
       "       0.15079126, 0.53571828, 0.70899367, 0.59895003, 0.49052364,\n",
       "       0.21178746, 0.86027569, 0.84137599, 0.37178661, 0.17599895,\n",
       "       0.75672158, 0.321133  , 0.09998733, 0.78366435, 0.06639554,\n",
       "       0.12295858, 0.48606862, 0.53894532, 0.51635189, 0.23626413,\n",
       "       0.39873955, 0.30605994, 0.26452776, 0.50507656, 0.61052672,\n",
       "       0.38309742, 0.56080414, 0.6046765 , 0.57371225, 0.00351339,\n",
       "       0.56448015, 0.26944297, 0.32508693, 0.61655631, 0.44195669,\n",
       "       0.09371806, 0.60300882, 0.10275921, 0.84231499, 0.51170908,\n",
       "       0.23845236, 0.00588051, 0.41472211, 0.51630835, 0.33446133,\n",
       "       0.14745456, 0.57297581, 0.85815323, 0.70897477, 0.861322  ,\n",
       "       0.37554725, 0.34700062, 0.57589739, 0.88879317, 0.98720614,\n",
       "       0.63174199, 0.29192523, 0.33146724, 0.41974311, 0.07653922,\n",
       "       0.00382485, 0.91461674, 0.47303784, 0.2859338 , 0.31110435,\n",
       "       0.15433517, 0.58810799, 0.1295449 , 0.4920701 , 0.12308074,\n",
       "       0.64661596, 0.12472951, 0.66669795, 0.61499646, 0.12148941,\n",
       "       0.21264627, 0.02050879, 0.37707269, 0.83870137, 0.00588651,\n",
       "       0.11906293, 0.3337025 , 0.03250843, 0.56605257, 0.15626887,\n",
       "       0.75404206, 0.27896194, 0.52818368, 0.2218838 , 0.30321206,\n",
       "       0.02176291, 0.34053012, 0.97652861, 0.7864709 , 0.7894688 ,\n",
       "       0.15422023, 0.98814958, 0.23161906, 0.31155242, 0.60472607,\n",
       "       0.07806699, 0.49220801, 0.5391874 , 0.16862966, 0.69374449,\n",
       "       0.62698243, 0.97361127, 0.65555921, 0.64922276, 0.65516878,\n",
       "       0.50333802, 0.17009663, 0.62790537, 0.23146426, 0.36687616,\n",
       "       0.81391631, 0.32056925, 0.16061832, 0.50357963, 0.09853954,\n",
       "       0.91475923, 0.8380768 , 0.45917256, 0.13737964, 0.20559039,\n",
       "       0.37090983, 0.87824165, 0.52889432, 0.32482598, 0.51156184,\n",
       "       0.15834898, 0.15347273, 0.33109529, 0.34209114, 0.27779561,\n",
       "       0.81778072, 0.00121737, 0.73252278, 0.21552646, 0.88726546,\n",
       "       0.60155468, 0.10961903, 0.54097236, 0.20416445, 0.1337547 ,\n",
       "       0.674535  , 0.03906648, 0.69393319, 0.09746896, 0.30749516,\n",
       "       0.36008316, 0.67887643, 0.74366813, 0.03293662, 0.42566347,\n",
       "       0.06474831, 0.25981882, 0.10920922, 0.82409144, 0.12773073,\n",
       "       0.30531686, 0.86976664, 0.20411356, 0.35007688, 0.32165026,\n",
       "       0.67929331, 0.84525156, 0.4897577 , 0.87409392, 0.41983191,\n",
       "       0.72070625, 0.23880756, 0.11834318, 0.60914735, 0.21918974,\n",
       "       0.67858669, 0.75539255, 0.02712666, 0.15303342, 0.03919723,\n",
       "       0.82655769, 0.45435297, 0.21173601, 0.34658058, 0.91534068,\n",
       "       0.15987011, 0.07223365, 0.02880286, 0.37622948, 0.88426503,\n",
       "       0.43143192, 0.33814239, 0.5194654 , 0.76106259, 0.13906527,\n",
       "       0.38342667, 0.17768318, 0.2449784 , 0.81918666, 0.58357153,\n",
       "       0.818405  , 0.13748911, 0.00469647, 0.49845853, 0.48852189,\n",
       "       0.8964815 , 0.16885061, 0.83650049, 0.30129996, 0.83703588,\n",
       "       0.13549241, 0.42115138, 0.12938035, 0.77908419, 0.40530181,\n",
       "       0.46289264, 0.69114644, 0.70665158, 0.49528847, 0.13646037,\n",
       "       0.11788336, 0.68526757, 0.07596001, 0.11268437, 0.61193929,\n",
       "       0.28743369, 0.92310762, 0.57793015, 0.87967274, 0.16748182,\n",
       "       0.25284913, 0.64984753, 0.98112938, 0.75141299, 0.24733266,\n",
       "       0.72493906, 0.63850132, 0.11911224, 0.66155737, 0.47009931,\n",
       "       0.92665246, 0.16510009, 0.26129459, 0.77603332, 0.14981852,\n",
       "       0.61993063, 0.11675088, 0.5569231 , 0.74878171, 0.12905963,\n",
       "       0.40167158, 0.06474926, 0.11862206, 0.4985149 , 0.34283263,\n",
       "       0.43971835, 0.40981568, 0.7505383 , 0.09587415, 0.55946996,\n",
       "       0.10060921, 0.11677144, 0.70326092, 0.09352238, 0.46832243,\n",
       "       0.19238451, 0.28663286, 0.63903051, 0.2118594 , 0.16054964,\n",
       "       0.59706957, 0.63727963, 0.34070495, 0.59157088, 0.68467417,\n",
       "       0.49573505, 0.76448574, 0.09959229, 0.72233029, 0.82456483,\n",
       "       0.60961902])"
      ]
     },
     "execution_count": 24,
     "metadata": {},
     "output_type": "execute_result"
    }
   ],
   "source": [
    "# 원안에 찍힘 점들의 x 좌표\n",
    "in_pts[:, 0]"
   ]
  },
  {
   "cell_type": "code",
   "execution_count": 35,
   "metadata": {},
   "outputs": [
    {
     "data": {
      "text/plain": [
       "array([0.        , 0.01010101, 0.02020202, 0.03030303, 0.04040404,\n",
       "       0.05050505, 0.06060606, 0.07070707, 0.08080808, 0.09090909,\n",
       "       0.1010101 , 0.11111111, 0.12121212, 0.13131313, 0.14141414,\n",
       "       0.15151515, 0.16161616, 0.17171717, 0.18181818, 0.19191919,\n",
       "       0.2020202 , 0.21212121, 0.22222222, 0.23232323, 0.24242424,\n",
       "       0.25252525, 0.26262626, 0.27272727, 0.28282828, 0.29292929,\n",
       "       0.3030303 , 0.31313131, 0.32323232, 0.33333333, 0.34343434,\n",
       "       0.35353535, 0.36363636, 0.37373737, 0.38383838, 0.39393939,\n",
       "       0.4040404 , 0.41414141, 0.42424242, 0.43434343, 0.44444444,\n",
       "       0.45454545, 0.46464646, 0.47474747, 0.48484848, 0.49494949,\n",
       "       0.50505051, 0.51515152, 0.52525253, 0.53535354, 0.54545455,\n",
       "       0.55555556, 0.56565657, 0.57575758, 0.58585859, 0.5959596 ,\n",
       "       0.60606061, 0.61616162, 0.62626263, 0.63636364, 0.64646465,\n",
       "       0.65656566, 0.66666667, 0.67676768, 0.68686869, 0.6969697 ,\n",
       "       0.70707071, 0.71717172, 0.72727273, 0.73737374, 0.74747475,\n",
       "       0.75757576, 0.76767677, 0.77777778, 0.78787879, 0.7979798 ,\n",
       "       0.80808081, 0.81818182, 0.82828283, 0.83838384, 0.84848485,\n",
       "       0.85858586, 0.86868687, 0.87878788, 0.88888889, 0.8989899 ,\n",
       "       0.90909091, 0.91919192, 0.92929293, 0.93939394, 0.94949495,\n",
       "       0.95959596, 0.96969697, 0.97979798, 0.98989899, 1.        ])"
      ]
     },
     "execution_count": 35,
     "metadata": {},
     "output_type": "execute_result"
    }
   ],
   "source": [
    "np.linspace(0, 1, 100)"
   ]
  },
  {
   "cell_type": "code",
   "execution_count": 36,
   "metadata": {},
   "outputs": [
    {
     "data": {
      "text/plain": [
       "array([0.        , 0.01586663, 0.03173326, 0.04759989, 0.06346652,\n",
       "       0.07933315, 0.09519978, 0.11106641, 0.12693304, 0.14279967,\n",
       "       0.1586663 , 0.17453293, 0.19039955, 0.20626618, 0.22213281,\n",
       "       0.23799944, 0.25386607, 0.2697327 , 0.28559933, 0.30146596,\n",
       "       0.31733259, 0.33319922, 0.34906585, 0.36493248, 0.38079911,\n",
       "       0.39666574, 0.41253237, 0.428399  , 0.44426563, 0.46013226,\n",
       "       0.47599889, 0.49186552, 0.50773215, 0.52359878, 0.53946541,\n",
       "       0.55533203, 0.57119866, 0.58706529, 0.60293192, 0.61879855,\n",
       "       0.63466518, 0.65053181, 0.66639844, 0.68226507, 0.6981317 ,\n",
       "       0.71399833, 0.72986496, 0.74573159, 0.76159822, 0.77746485,\n",
       "       0.79333148, 0.80919811, 0.82506474, 0.84093137, 0.856798  ,\n",
       "       0.87266463, 0.88853126, 0.90439789, 0.92026451, 0.93613114,\n",
       "       0.95199777, 0.9678644 , 0.98373103, 0.99959766, 1.01546429,\n",
       "       1.03133092, 1.04719755, 1.06306418, 1.07893081, 1.09479744,\n",
       "       1.11066407, 1.1265307 , 1.14239733, 1.15826396, 1.17413059,\n",
       "       1.18999722, 1.20586385, 1.22173048, 1.23759711, 1.25346374,\n",
       "       1.26933037, 1.28519699, 1.30106362, 1.31693025, 1.33279688,\n",
       "       1.34866351, 1.36453014, 1.38039677, 1.3962634 , 1.41213003,\n",
       "       1.42799666, 1.44386329, 1.45972992, 1.47559655, 1.49146318,\n",
       "       1.50732981, 1.52319644, 1.53906307, 1.5549297 , 1.57079633])"
      ]
     },
     "execution_count": 36,
     "metadata": {},
     "output_type": "execute_result"
    }
   ],
   "source": [
    "# radian 0 ~ pi / 2 (90도)\n",
    "np.linspace(0, np.pi / 2, 100)"
   ]
  },
  {
   "cell_type": "code",
   "execution_count": 37,
   "metadata": {},
   "outputs": [
    {
     "data": {
      "text/plain": [
       "[<matplotlib.lines.Line2D at 0x253011d6d30>]"
      ]
     },
     "execution_count": 37,
     "metadata": {},
     "output_type": "execute_result"
    },
    {
     "data": {
      "image/png": "[encoded data removed]",
      "text/plain": [
       "<Figure size 576x576 with 1 Axes>"
      ]
     },
     "metadata": {
      "needs_background": "light"
     },
     "output_type": "display_data"
    }
   ],
   "source": [
    "plt.figure(figsize=(8, 8))\n",
    "plt.xlabel('X')\n",
    "plt.ylabel('Y')\n",
    "plt.xlim(0, 1)\n",
    "plt.ylim(0, 1)\n",
    "plt.title('X-Y relation')\n",
    "plt.grid(True)\n",
    "plt.scatter(in_pts[:, 0], in_pts[:, 1], c='r')\n",
    "plt.scatter(out_pts[:, 0], out_pts[:, 1], c='g')\n",
    "\n",
    "rad = np.linspace(0, np.pi / 2, 100) # radian 0 ~ pi / 2 (90도)\n",
    "plt.plot(1 * np.cos(rad), 1 * np.sin(rad), 'b')"
   ]
  },
  {
   "cell_type": "code",
   "execution_count": null,
   "metadata": {},
   "outputs": [],
   "source": []
  },
  {
   "cell_type": "code",
   "execution_count": null,
   "metadata": {},
   "outputs": [],
   "source": []
  },
  {
   "cell_type": "code",
   "execution_count": null,
   "metadata": {},
   "outputs": [],
   "source": []
  },
  {
   "cell_type": "code",
   "execution_count": null,
   "metadata": {},
   "outputs": [],
   "source": []
  },
  {
   "cell_type": "code",
   "execution_count": null,
   "metadata": {},
   "outputs": [],
   "source": []
  },
  {
   "cell_type": "code",
   "execution_count": null,
   "metadata": {},
   "outputs": [],
   "source": []
  },
  {
   "cell_type": "code",
   "execution_count": null,
   "metadata": {},
   "outputs": [],
   "source": []
  },
  {
   "cell_type": "code",
   "execution_count": null,
   "metadata": {},
   "outputs": [],
   "source": []
  },
  {
   "cell_type": "code",
   "execution_count": null,
   "metadata": {},
   "outputs": [],
   "source": []
  },
  {
   "cell_type": "code",
   "execution_count": null,
   "metadata": {},
   "outputs": [],
   "source": []
  },
  {
   "cell_type": "code",
   "execution_count": null,
   "metadata": {},
   "outputs": [],
   "source": []
  },
  {
   "cell_type": "code",
   "execution_count": null,
   "metadata": {},
   "outputs": [],
   "source": []
  },
  {
   "cell_type": "code",
   "execution_count": null,
   "metadata": {},
   "outputs": [],
   "source": []
  },
  {
   "cell_type": "code",
   "execution_count": null,
   "metadata": {},
   "outputs": [],
   "source": []
  }
 ],
 "metadata": {
  "kernelspec": {
   "display_name": "Python 3",
   "language": "python",
   "name": "python3"
  },
  "language_info": {
   "codemirror_mode": {
    "name": "ipython",
    "version": 3
   },
   "file_extension": ".py",
   "mimetype": "text/x-python",
   "name": "python",
   "nbconvert_exporter": "python",
   "pygments_lexer": "ipython3",
   "version": "3.8.5"
  }
 },
 "nbformat": 4,
 "nbformat_minor": 4
}
