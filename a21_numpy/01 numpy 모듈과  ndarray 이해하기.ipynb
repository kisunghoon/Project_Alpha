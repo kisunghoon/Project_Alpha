{
 "cells": [
  {
   "cell_type": "markdown",
   "metadata": {},
   "source": [
    "# <hr>NumPy\n",
    "<img src=\"https://numpy.org/images/logos/numpy.svg\" width=\"100\" height=\"100\"/>\n",
    "\n",
    "[공식] (https://numpy.org/)"
   ]
  },
  {
   "cell_type": "code",
   "execution_count": 1,
   "metadata": {},
   "outputs": [],
   "source": [
    "# numpy : 수치적 연산을 위해 최적화된 모듈\n",
    "#  파이썬을 활용한 데이터 분석에서  가장 기본!\n",
    "#  이 자체로도 많이 쓰이거니와, 앞으로 배울 pandas, 머신러닝 등 수많은 분야에서 기본적으로 사용하는 모듈\n",
    "#  파이썬 개발자라면 꼭 익힐 필요 있다\n",
    "\n",
    "# 수학수치 연산  (numerical python) / 합, 평균, 핼렬연산 등..\n",
    "# 추가적으로 scipy, statsmodel  같은 것들도 numpy 기반으로 구현됨.   \n",
    "# 상황에 따라, pandas 안써도 numpy 만으로도 가능.\n",
    "\n",
    "# 기본 타임 : ndarray  (n-dimensional array) 다차원 배열 표현\n",
    "\n",
    "# 파이썬에 list 가 있는데 굳이? 왜?  -\n",
    "\n",
    "# numpy 를 사용하는 이유\n",
    "# 1. 성능 : 성능적으로 훨~씬 빠름.\n",
    "# 2. 메모리 : 훨씩 적은 메모리사용\n",
    "# 3. 제공함수풍부 : 선형대수, 통계관련 여러 수치함수 제공\n",
    "# 4. 수많은 모듈에서 numpy 함수명 과 기능을 그대로 사용.\n"
   ]
  },
  {
   "cell_type": "code",
   "execution_count": null,
   "metadata": {},
   "outputs": [],
   "source": []
  },
  {
   "cell_type": "code",
   "execution_count": 2,
   "metadata": {},
   "outputs": [],
   "source": [
    "import numpy as np"
   ]
  },
  {
   "cell_type": "markdown",
   "metadata": {},
   "source": [
    "![aaa](https://statkclee.github.io/deep-learning/fig/tensor.jpg)\n",
    "\n",
    "**Scalar** : 0차원 array (단일값)\n",
    "\n",
    "**Vector** : 1차원 array\n",
    "\n",
    "**Matrix** : 2차원 array\n",
    "\n",
    "**Tensor** : 3차원(이상) array"
   ]
  },
  {
   "cell_type": "code",
   "execution_count": 3,
   "metadata": {},
   "outputs": [],
   "source": [
    "# 1차원 array (벡터) 생성"
   ]
  },
  {
   "cell_type": "code",
   "execution_count": 11,
   "metadata": {},
   "outputs": [
    {
     "data": {
      "text/plain": [
       "(array([1, 2, 3]), array([ 2,  4, 10]))"
      ]
     },
     "execution_count": 11,
     "metadata": {},
     "output_type": "execute_result"
    }
   ],
   "source": [
    "x = np.array([1, 2, 3])\n",
    "y = np.array([2, 4, 10])\n",
    "x, y"
   ]
  },
  {
   "cell_type": "code",
   "execution_count": 12,
   "metadata": {},
   "outputs": [
    {
     "name": "stdout",
     "output_type": "stream",
     "text": [
      "[1 2 3]\n",
      "[ 2  4 10]\n"
     ]
    }
   ],
   "source": [
    "print(x)\n",
    "print(y)"
   ]
  },
  {
   "cell_type": "code",
   "execution_count": 13,
   "metadata": {},
   "outputs": [],
   "source": [
    "import matplotlib.pyplot as plt"
   ]
  },
  {
   "cell_type": "code",
   "execution_count": 14,
   "metadata": {},
   "outputs": [
    {
     "data": {
      "text/plain": [
       "[<matplotlib.lines.Line2D at 0x25e7f98c0d0>]"
      ]
     },
     "execution_count": 14,
     "metadata": {},
     "output_type": "execute_result"
    },
    {
     "data": {
      "image/png": "[encoded data removed]",
      "text/plain": [
       "<Figure size 432x288 with 1 Axes>"
      ]
     },
     "metadata": {
      "needs_background": "light"
     },
     "output_type": "display_data"
    }
   ],
   "source": [
    "plt.plot(x, y)"
   ]
  },
  {
   "cell_type": "code",
   "execution_count": null,
   "metadata": {},
   "outputs": [],
   "source": []
  },
  {
   "cell_type": "code",
   "execution_count": null,
   "metadata": {},
   "outputs": [],
   "source": []
  },
  {
   "cell_type": "code",
   "execution_count": null,
   "metadata": {},
   "outputs": [],
   "source": []
  },
  {
   "cell_type": "code",
   "execution_count": null,
   "metadata": {},
   "outputs": [],
   "source": []
  },
  {
   "cell_type": "code",
   "execution_count": null,
   "metadata": {},
   "outputs": [],
   "source": []
  }
 ],
 "metadata": {
  "kernelspec": {
   "display_name": "Python 3",
   "language": "python",
   "name": "python3"
  },
  "language_info": {
   "codemirror_mode": {
    "name": "ipython",
    "version": 3
   },
   "file_extension": ".py",
   "mimetype": "text/x-python",
   "name": "python",
   "nbconvert_exporter": "python",
   "pygments_lexer": "ipython3",
   "version": "3.8.5"
  }
 },
 "nbformat": 4,
 "nbformat_minor": 4
}
