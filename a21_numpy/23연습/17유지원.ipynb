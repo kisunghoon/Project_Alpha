{
 "cells": [
  {
   "cell_type": "markdown",
   "metadata": {},
   "source": [
    "# 연습 : 영화 평점\n",
    "파일 : rating.csv"
   ]
  },
  {
   "cell_type": "markdown",
   "metadata": {},
   "source": [
    "## 1. 파일 읽어 들이기"
   ]
  },
  {
   "cell_type": "code",
   "execution_count": 9,
   "metadata": {},
   "outputs": [],
   "source": [
    "# rating.csv 파일의 내용을 확인하고\n",
    "# numpy 의 array 로 읽어 들어와 arr_rating 이라는 변수에 담습니다.\n",
    "# 읽어온뒤 내용도 확인합니다\n",
    "\n",
    "# userid, movieid, rating"
   ]
  },
  {
   "cell_type": "code",
   "execution_count": 5,
   "metadata": {},
   "outputs": [
    {
     "data": {
      "text/plain": [
       "<_io.TextIOWrapper name='C:\\\\DevRoot\\\\DataSet\\\\rating.csv' mode='r' encoding='cp1252'>"
      ]
     },
     "execution_count": 5,
     "metadata": {},
     "output_type": "execute_result"
    }
   ],
   "source": [
    "import numpy as np\n",
    "\n",
    "data = np.array([])\n",
    "filepath = r\"C:\\DevRoot\\DataSet\\rating.csv\"\n",
    "with open(filepath,'r') as rating:\n",
    "    while True:\n",
    "        \n"
   ]
  },
  {
   "cell_type": "code",
   "execution_count": null,
   "metadata": {},
   "outputs": [],
   "source": []
  },
  {
   "cell_type": "markdown",
   "metadata": {},
   "source": [
    "## 2.데이터 탐색하기"
   ]
  },
  {
   "cell_type": "code",
   "execution_count": 11,
   "metadata": {},
   "outputs": [],
   "source": [
    "# arr_rating 의 \n",
    "# A) 데이터 개수, 차원 정보등을 확인해봅니다.\n",
    "# B)  0 ~ 4번째 row만 출력해봅니다\n",
    "# C)  0번째 칼럼(열)만 출력\n",
    "\n",
    "# D) 3번쨰 칼럼 (영화평점)의 최소, 최댓값을 확인해봅시다."
   ]
  },
  {
   "cell_type": "code",
   "execution_count": null,
   "metadata": {},
   "outputs": [],
   "source": []
  },
  {
   "cell_type": "code",
   "execution_count": null,
   "metadata": {},
   "outputs": [],
   "source": []
  },
  {
   "cell_type": "markdown",
   "metadata": {},
   "source": [
    "## 3. 영화의 개수 구하기"
   ]
  },
  {
   "cell_type": "code",
   "execution_count": 12,
   "metadata": {},
   "outputs": [],
   "source": [
    "# 평점이 매겨진 영화의 개수를 구해보세요"
   ]
  },
  {
   "cell_type": "code",
   "execution_count": null,
   "metadata": {},
   "outputs": [],
   "source": []
  },
  {
   "cell_type": "code",
   "execution_count": null,
   "metadata": {},
   "outputs": [],
   "source": []
  },
  {
   "cell_type": "markdown",
   "metadata": {},
   "source": [
    "## 4. 1번 유저에 대한 모든 평점 정보 구하기"
   ]
  },
  {
   "cell_type": "code",
   "execution_count": 14,
   "metadata": {},
   "outputs": [],
   "source": [
    "# 1번 유저의 '평점 개수' 와 '평점 평균' 을 구하세요"
   ]
  },
  {
   "cell_type": "code",
   "execution_count": null,
   "metadata": {},
   "outputs": [],
   "source": []
  },
  {
   "cell_type": "code",
   "execution_count": null,
   "metadata": {},
   "outputs": [],
   "source": []
  },
  {
   "cell_type": "markdown",
   "metadata": {},
   "source": [
    "## 5. 각 유저별 정보 구하기"
   ]
  },
  {
   "cell_type": "code",
   "execution_count": 16,
   "metadata": {},
   "outputs": [],
   "source": [
    "# 각 유저별\n",
    "# 유저 아이디, 평점회수, 평점 평균\n",
    "# 아래와 같이 list 로 출력\n",
    "\n",
    "\"\"\"\n",
    "[[1, 175, 3.742857142857143],\n",
    " [2, 61, 4.0],\n",
    " [3, 187, 4.122994652406417],\n",
    " [4, 28, 3.5714285714285716],\n",
    " [5, 66, 4.2727272727272725],\n",
    " [6, 24, 3.75],\n",
    " ...\n",
    " ...\n",
    "\"\"\"\n",
    "None"
   ]
  },
  {
   "cell_type": "code",
   "execution_count": null,
   "metadata": {},
   "outputs": [],
   "source": []
  },
  {
   "cell_type": "code",
   "execution_count": null,
   "metadata": {},
   "outputs": [],
   "source": []
  }
 ],
 "metadata": {
  "kernelspec": {
   "display_name": "Python 3",
   "language": "python",
   "name": "python3"
  },
  "language_info": {
   "codemirror_mode": {
    "name": "ipython",
    "version": 3
   },
   "file_extension": ".py",
   "mimetype": "text/x-python",
   "name": "python",
   "nbconvert_exporter": "python",
   "pygments_lexer": "ipython3",
   "version": "3.8.5"
  }
 },
 "nbformat": 4,
 "nbformat_minor": 4
}
