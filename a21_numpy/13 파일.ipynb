{
 "cells": [
  {
   "cell_type": "code",
   "execution_count": 1,
   "metadata": {},
   "outputs": [],
   "source": [
    "import numpy as np"
   ]
  },
  {
   "cell_type": "markdown",
   "metadata": {},
   "source": [
    "## savetxt() 텍스트 파일로 저장하기"
   ]
  },
  {
   "cell_type": "code",
   "execution_count": 2,
   "metadata": {},
   "outputs": [],
   "source": [
    "# numpy.savetxt( filename, X, fmt='%.18e', delimiter=' ', \n",
    "# \tnewline='n', header='', footer='', comment='#', encoding=None)\n",
    "\n",
    "# 간단히 사용할때는\n",
    "# numpy.savetxt({파일이름}, {데이터}, \n",
    "#            fmt={데이터 형식}, delimiter={데이터간 구분자})"
   ]
  },
  {
   "cell_type": "code",
   "execution_count": 3,
   "metadata": {},
   "outputs": [
    {
     "data": {
      "text/plain": [
       "array([[18406, 33569, 21284, 34011],\n",
       "       [ 4767,  5744, 39973,  8547],\n",
       "       [16918, 19951, 15127,  4114],\n",
       "       [ 9481, 11475, 39199,  7074],\n",
       "       [37974,  5164, 10349,  3474],\n",
       "       [ 1667, 14632, 29688,  8034],\n",
       "       [ 1095, 19529, 20241, 33753],\n",
       "       [11051, 17708, 39632, 26861],\n",
       "       [ 1925, 35118, 35602, 20753],\n",
       "       [24352, 11891, 24157, 37042]])"
      ]
     },
     "execution_count": 3,
     "metadata": {},
     "output_type": "execute_result"
    }
   ],
   "source": [
    "numbers = np.random.randint(1000, 40000, (10, 4))\n",
    "numbers"
   ]
  },
  {
   "cell_type": "code",
   "execution_count": 5,
   "metadata": {},
   "outputs": [],
   "source": [
    "np.savetxt(\"numbers.txt\", numbers, fmt=\"%d\", delimiter=',')"
   ]
  },
  {
   "cell_type": "code",
   "execution_count": 6,
   "metadata": {},
   "outputs": [
    {
     "name": "stdout",
     "output_type": "stream",
     "text": [
      "18406,33569,21284,34011\n",
      "4767,5744,39973,8547\n",
      "16918,19951,15127,4114\n",
      "9481,11475,39199,7074\n",
      "37974,5164,10349,3474\n",
      "1667,14632,29688,8034\n",
      "1095,19529,20241,33753\n",
      "11051,17708,39632,26861\n",
      "1925,35118,35602,20753\n",
      "24352,11891,24157,37042\n"
     ]
    }
   ],
   "source": [
    "!type numbers.txt"
   ]
  },
  {
   "cell_type": "markdown",
   "metadata": {},
   "source": [
    "## loadtxt()\n",
    "txt, csv 등 파일 읽기"
   ]
  },
  {
   "cell_type": "code",
   "execution_count": 7,
   "metadata": {},
   "outputs": [],
   "source": [
    "# numpy.loadtxt(fname, dtype=<class 'float', comments='#', delimiter=' ', \n",
    "# \t\t\tconerters=None, skiprows=0, usecols=None, unpack=False, ndmin=0, \n",
    "#             encoding='bytes', max_rows=None>\n",
    "\n",
    "# 간단히 사용할때는\n",
    "# numpy.loadtxt({파일 이름}, delimiter=\",\")\n",
    "\n",
    "# 읽어들일 파일의 데이터 타입과 구분자(delimiter)가 무엇인지 먼저 확인하기"
   ]
  },
  {
   "cell_type": "code",
   "execution_count": 9,
   "metadata": {},
   "outputs": [
    {
     "data": {
      "text/plain": [
       "array([[18406., 33569., 21284., 34011.],\n",
       "       [ 4767.,  5744., 39973.,  8547.],\n",
       "       [16918., 19951., 15127.,  4114.],\n",
       "       [ 9481., 11475., 39199.,  7074.],\n",
       "       [37974.,  5164., 10349.,  3474.],\n",
       "       [ 1667., 14632., 29688.,  8034.],\n",
       "       [ 1095., 19529., 20241., 33753.],\n",
       "       [11051., 17708., 39632., 26861.],\n",
       "       [ 1925., 35118., 35602., 20753.],\n",
       "       [24352., 11891., 24157., 37042.]])"
      ]
     },
     "execution_count": 9,
     "metadata": {},
     "output_type": "execute_result"
    }
   ],
   "source": [
    "# np.loadtxt('numbers.txt')  # 에러\n",
    "\n",
    "np.loadtxt('numbers.txt', delimiter=',')  # 기본적으로 실수로 읽어 들인다."
   ]
  },
  {
   "cell_type": "code",
   "execution_count": 11,
   "metadata": {},
   "outputs": [
    {
     "data": {
      "text/plain": [
       "array([[18406, 33569, 21284, 34011],\n",
       "       [ 4767,  5744, 39973,  8547],\n",
       "       [16918, 19951, 15127,  4114],\n",
       "       [ 9481, 11475, 39199,  7074],\n",
       "       [37974,  5164, 10349,  3474],\n",
       "       [ 1667, 14632, 29688,  8034],\n",
       "       [ 1095, 19529, 20241, 33753],\n",
       "       [11051, 17708, 39632, 26861],\n",
       "       [ 1925, 35118, 35602, 20753],\n",
       "       [24352, 11891, 24157, 37042]])"
      ]
     },
     "execution_count": 11,
     "metadata": {},
     "output_type": "execute_result"
    }
   ],
   "source": [
    "np.loadtxt('numbers.txt', delimiter=',', dtype='int')"
   ]
  },
  {
   "cell_type": "markdown",
   "metadata": {},
   "source": [
    "## np.save(), np.load()\n",
    "*.npy 형식의 object (pickle) 형태로 저장 (바이너리 데이터)\n",
    "\n",
    "`pickle` 은 파이썬에서 텍스트외의 데이터를 저장하는 형식"
   ]
  },
  {
   "cell_type": "code",
   "execution_count": 12,
   "metadata": {},
   "outputs": [],
   "source": [
    "np.save(\"npy_numbers\", numbers)  # npy_numbers.npy 로 저장됨."
   ]
  },
  {
   "cell_type": "code",
   "execution_count": 13,
   "metadata": {},
   "outputs": [
    {
     "data": {
      "text/plain": [
       "array([[18406, 33569, 21284, 34011],\n",
       "       [ 4767,  5744, 39973,  8547],\n",
       "       [16918, 19951, 15127,  4114],\n",
       "       [ 9481, 11475, 39199,  7074],\n",
       "       [37974,  5164, 10349,  3474],\n",
       "       [ 1667, 14632, 29688,  8034],\n",
       "       [ 1095, 19529, 20241, 33753],\n",
       "       [11051, 17708, 39632, 26861],\n",
       "       [ 1925, 35118, 35602, 20753],\n",
       "       [24352, 11891, 24157, 37042]])"
      ]
     },
     "execution_count": 13,
     "metadata": {},
     "output_type": "execute_result"
    }
   ],
   "source": [
    "np.load(\"npy_numbers.npy\")"
   ]
  },
  {
   "cell_type": "code",
   "execution_count": null,
   "metadata": {},
   "outputs": [],
   "source": []
  },
  {
   "cell_type": "code",
   "execution_count": null,
   "metadata": {},
   "outputs": [],
   "source": []
  },
  {
   "cell_type": "code",
   "execution_count": null,
   "metadata": {},
   "outputs": [],
   "source": []
  },
  {
   "cell_type": "code",
   "execution_count": null,
   "metadata": {},
   "outputs": [],
   "source": []
  },
  {
   "cell_type": "code",
   "execution_count": null,
   "metadata": {},
   "outputs": [],
   "source": []
  },
  {
   "cell_type": "code",
   "execution_count": null,
   "metadata": {},
   "outputs": [],
   "source": []
  },
  {
   "cell_type": "code",
   "execution_count": null,
   "metadata": {},
   "outputs": [],
   "source": []
  },
  {
   "cell_type": "code",
   "execution_count": null,
   "metadata": {},
   "outputs": [],
   "source": []
  },
  {
   "cell_type": "code",
   "execution_count": null,
   "metadata": {},
   "outputs": [],
   "source": []
  },
  {
   "cell_type": "code",
   "execution_count": null,
   "metadata": {},
   "outputs": [],
   "source": []
  },
  {
   "cell_type": "code",
   "execution_count": null,
   "metadata": {},
   "outputs": [],
   "source": []
  },
  {
   "cell_type": "code",
   "execution_count": null,
   "metadata": {},
   "outputs": [],
   "source": []
  },
  {
   "cell_type": "code",
   "execution_count": null,
   "metadata": {},
   "outputs": [],
   "source": []
  },
  {
   "cell_type": "code",
   "execution_count": null,
   "metadata": {},
   "outputs": [],
   "source": []
  },
  {
   "cell_type": "code",
   "execution_count": null,
   "metadata": {},
   "outputs": [],
   "source": []
  },
  {
   "cell_type": "code",
   "execution_count": null,
   "metadata": {},
   "outputs": [],
   "source": []
  },
  {
   "cell_type": "code",
   "execution_count": null,
   "metadata": {},
   "outputs": [],
   "source": []
  },
  {
   "cell_type": "code",
   "execution_count": null,
   "metadata": {},
   "outputs": [],
   "source": []
  },
  {
   "cell_type": "code",
   "execution_count": null,
   "metadata": {},
   "outputs": [],
   "source": []
  },
  {
   "cell_type": "code",
   "execution_count": null,
   "metadata": {},
   "outputs": [],
   "source": []
  }
 ],
 "metadata": {
  "kernelspec": {
   "display_name": "Python 3",
   "language": "python",
   "name": "python3"
  },
  "language_info": {
   "codemirror_mode": {
    "name": "ipython",
    "version": 3
   },
   "file_extension": ".py",
   "mimetype": "text/x-python",
   "name": "python",
   "nbconvert_exporter": "python",
   "pygments_lexer": "ipython3",
   "version": "3.8.5"
  }
 },
 "nbformat": 4,
 "nbformat_minor": 4
}
