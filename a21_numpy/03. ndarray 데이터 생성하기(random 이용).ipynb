{
 "cells": [
  {
   "cell_type": "markdown",
   "metadata": {},
   "source": [
    "# random 사용하여 array  생성하기\n",
    " - random 서브모듈 함수를 통해 ndarray 생성하기\n",
    " - 무작위 데이터 생성\n",
    " - 머신러닝에선, weight 값을 '무작위'로 설정한뒤 train 하면서 model 에 맞게 fit 해나가게 된다."
   ]
  },
  {
   "cell_type": "code",
   "execution_count": 1,
   "metadata": {},
   "outputs": [],
   "source": [
    "import numpy as np"
   ]
  },
  {
   "cell_type": "markdown",
   "metadata": {},
   "source": [
    "## np.random"
   ]
  },
  {
   "cell_type": "code",
   "execution_count": 2,
   "metadata": {},
   "outputs": [],
   "source": [
    "# rand: 0부터 1사이의 균일 분포 [0, 1)  uniform distribution\n",
    "# randn: 가우시안 표준 정규 분포\n",
    "# randint: 균일 분포의 정수 난수"
   ]
  },
  {
   "cell_type": "markdown",
   "metadata": {},
   "source": [
    "#### rand 함수\n",
    " - 0, 1사이 [0, 1) 의 분포로 랜덤한 ndarray 생성"
   ]
  },
  {
   "cell_type": "code",
   "execution_count": null,
   "metadata": {},
   "outputs": [],
   "source": [
    "# np.random.   # tab 눌러보면 무수히 많은 난수 발생 관련 함수들 확인 가능!"
   ]
  },
  {
   "cell_type": "code",
   "execution_count": 22,
   "metadata": {},
   "outputs": [
    {
     "data": {
      "text/plain": [
       "array([0.50325874, 0.36887471, 0.70855812, 0.39929871, 0.40914667,\n",
       "       0.02239866, 0.25725701, 0.87842177, 0.92512909, 0.21802871])"
      ]
     },
     "execution_count": 22,
     "metadata": {},
     "output_type": "execute_result"
    }
   ],
   "source": [
    "np.random.rand(10)"
   ]
  },
  {
   "cell_type": "code",
   "execution_count": 24,
   "metadata": {},
   "outputs": [
    {
     "data": {
      "text/plain": [
       "array([[0.58330795, 0.82854132, 0.19689031],\n",
       "       [0.3661144 , 0.25741366, 0.04211437]])"
      ]
     },
     "execution_count": 24,
     "metadata": {},
     "output_type": "execute_result"
    }
   ],
   "source": [
    "np.random.rand(2, 3)  # 2 x 3 2차원 랜덤 array"
   ]
  },
  {
   "cell_type": "code",
   "execution_count": 26,
   "metadata": {},
   "outputs": [
    {
     "data": {
      "text/plain": [
       "array([[[0.40375806, 0.50873869, 0.91451951],\n",
       "        [0.71940689, 0.12922731, 0.74070098],\n",
       "        [0.49676315, 0.18934115, 0.2995481 ],\n",
       "        [0.8811944 , 0.6919159 , 0.76132897],\n",
       "        [0.04802117, 0.05749477, 0.9166991 ]],\n",
       "\n",
       "       [[0.22908336, 0.34287841, 0.58385946],\n",
       "        [0.51840105, 0.17070961, 0.28828707],\n",
       "        [0.92138487, 0.82865171, 0.53122889],\n",
       "        [0.20282263, 0.79633917, 0.13754717],\n",
       "        [0.62604204, 0.67017914, 0.24162236]],\n",
       "\n",
       "       [[0.50742417, 0.20774597, 0.18291636],\n",
       "        [0.36036847, 0.32929133, 0.45404261],\n",
       "        [0.68984128, 0.28578972, 0.28334493],\n",
       "        [0.17981017, 0.6459405 , 0.99796147],\n",
       "        [0.07036392, 0.19341145, 0.80065015]],\n",
       "\n",
       "       [[0.06081714, 0.65806145, 0.3712522 ],\n",
       "        [0.91306759, 0.33143299, 0.5515087 ],\n",
       "        [0.2238781 , 0.83556659, 0.6154036 ],\n",
       "        [0.40075026, 0.82868794, 0.86785681],\n",
       "        [0.21951415, 0.26669849, 0.51604808]]])"
      ]
     },
     "execution_count": 26,
     "metadata": {},
     "output_type": "execute_result"
    }
   ],
   "source": [
    "np.random.rand(4, 5, 3)  # 4 x 5 x 3  3차원 랜덤 array (tensor 텐서)"
   ]
  },
  {
   "cell_type": "markdown",
   "metadata": {},
   "source": [
    "#### randn함수\n",
    " - n: normal distribution(정규분포)\n",
    " - 정규분포로 샘플링된 랜덤 ndarray 생성\n",
    " - 단순히 [0, 1) 사이의 값이 아닌 정규분포 (음수값도 갖게 된다)\n",
    " \n",
    " - rand() 는 uniform 한 분포에서 값을 가져오고\n",
    " - randn() 은 normal distribution 에서 값을 가져온다\n",
    " \n",
    " ![normal](https://www.itl.nist.gov/div898/handbook/pmc/section5/gifs/normal.gif)"
   ]
  },
  {
   "cell_type": "code",
   "execution_count": 56,
   "metadata": {},
   "outputs": [
    {
     "data": {
      "text/plain": [
       "array([-0.91576688, -0.86403325,  0.31637507,  0.55943968, -0.38263064])"
      ]
     },
     "execution_count": 56,
     "metadata": {},
     "output_type": "execute_result"
    }
   ],
   "source": [
    "np.random.randn(5)"
   ]
  },
  {
   "cell_type": "code",
   "execution_count": 57,
   "metadata": {},
   "outputs": [
    {
     "data": {
      "text/plain": [
       "array([[-0.73633124,  1.75836713, -0.97705877, -0.1382338 ],\n",
       "       [-1.12666764,  0.45871804, -1.00582781,  1.96042116],\n",
       "       [-0.3245095 , -0.02646746, -0.77883629, -0.0521283 ]])"
      ]
     },
     "execution_count": 57,
     "metadata": {},
     "output_type": "execute_result"
    }
   ],
   "source": [
    "np.random.randn(3, 4)  # 3 x 4   정규분포에서 샘플링(sampling) 한 값."
   ]
  },
  {
   "cell_type": "code",
   "execution_count": 58,
   "metadata": {},
   "outputs": [
    {
     "data": {
      "text/plain": [
       "array([[[[ 0.17663684,  0.32916117],\n",
       "         [-0.19274469, -0.30439679]],\n",
       "\n",
       "        [[-0.95205323, -1.50398904],\n",
       "         [ 1.41588961, -0.64770288]],\n",
       "\n",
       "        [[-1.00417381, -1.13549516],\n",
       "         [ 0.554013  ,  0.28546522]],\n",
       "\n",
       "        [[-0.55147615, -0.04146009],\n",
       "         [-0.39479712, -1.0466529 ]]],\n",
       "\n",
       "\n",
       "       [[[ 0.15348796,  0.62351278],\n",
       "         [ 1.56563157,  1.22821366]],\n",
       "\n",
       "        [[-0.46961094, -0.31397595],\n",
       "         [-0.38426283,  0.97921407]],\n",
       "\n",
       "        [[-0.01753671,  0.76090387],\n",
       "         [-1.81649781, -0.52491764]],\n",
       "\n",
       "        [[ 0.68879393, -1.17132956],\n",
       "         [-0.65813355, -0.35333268]]],\n",
       "\n",
       "\n",
       "       [[[ 0.00570736, -0.83766227],\n",
       "         [-1.0437342 ,  1.32235619]],\n",
       "\n",
       "        [[ 0.46275795,  0.20098701],\n",
       "         [-0.81355114,  0.4342228 ]],\n",
       "\n",
       "        [[-1.47739054,  0.57910098],\n",
       "         [-0.66362827,  0.38780711]],\n",
       "\n",
       "        [[-0.90260052, -1.58587431],\n",
       "         [-1.45274868, -1.5806916 ]]]])"
      ]
     },
     "execution_count": 58,
     "metadata": {},
     "output_type": "execute_result"
    }
   ],
   "source": [
    "np.random.randn(3, 4, 2, 2)"
   ]
  },
  {
   "cell_type": "markdown",
   "metadata": {},
   "source": [
    "#### randint 함수\n",
    " - 특정 정수 사이에서 랜덤하게 샘플링"
   ]
  },
  {
   "cell_type": "code",
   "execution_count": 59,
   "metadata": {},
   "outputs": [
    {
     "data": {
      "text/plain": [
       "3"
      ]
     },
     "execution_count": 59,
     "metadata": {},
     "output_type": "execute_result"
    }
   ],
   "source": [
    "np.random.randint(5)   # 0 ~ 4 사이의 정수  [0, 5)"
   ]
  },
  {
   "cell_type": "code",
   "execution_count": 133,
   "metadata": {},
   "outputs": [
    {
     "data": {
      "text/plain": [
       "9"
      ]
     },
     "execution_count": 133,
     "metadata": {},
     "output_type": "execute_result"
    }
   ],
   "source": [
    "np.random.randint(1, 10)  # 1 ~ 9 사이의 정수  [1, 10)"
   ]
  },
  {
   "cell_type": "code",
   "execution_count": 141,
   "metadata": {},
   "outputs": [
    {
     "data": {
      "text/plain": [
       "array([[ 1, 44, 66, 50, 72],\n",
       "       [73, 50,  3, 42, 17],\n",
       "       [66, 13, 95, 74, 25]])"
      ]
     },
     "execution_count": 141,
     "metadata": {},
     "output_type": "execute_result"
    }
   ],
   "source": [
    "# size 값\n",
    "np.random.randint(1, 100, (3, 5))  # (low, high=None, size=None)"
   ]
  },
  {
   "cell_type": "code",
   "execution_count": 142,
   "metadata": {},
   "outputs": [
    {
     "data": {
      "text/plain": [
       "array([[[11, 46],\n",
       "        [43, 14],\n",
       "        [59, 94],\n",
       "        [73, 52],\n",
       "        [99, 16]],\n",
       "\n",
       "       [[ 5, 57],\n",
       "        [77, 22],\n",
       "        [86, 11],\n",
       "        [44, 55],\n",
       "        [70, 51]],\n",
       "\n",
       "       [[46, 85],\n",
       "        [35, 73],\n",
       "        [55, 97],\n",
       "        [48, 29],\n",
       "        [24, 90]]])"
      ]
     },
     "execution_count": 142,
     "metadata": {},
     "output_type": "execute_result"
    }
   ],
   "source": [
    "np.random.randint(1, 100, (3, 5, 2))"
   ]
  },
  {
   "cell_type": "code",
   "execution_count": null,
   "metadata": {},
   "outputs": [],
   "source": [
    "# 위 3가지 함수가 np.random 에서 가장 많이 사용되는 함수!"
   ]
  },
  {
   "cell_type": "markdown",
   "metadata": {},
   "source": [
    "#### seed 함수\n",
    " - 랜덤한 값을 동일하게 다시 생성하고자 할때 사용\n",
    " \n",
    " - 데이터 실험, 인공지능 학습 하다가, 무언가 직전에 생성된 값으로 다시 실행해야 할때가 있다.  (그런데 랜덤값이 계속 바뀌면 곤란)"
   ]
  },
  {
   "cell_type": "code",
   "execution_count": 150,
   "metadata": {},
   "outputs": [
    {
     "data": {
      "text/plain": [
       "array([[-0.68630297,  1.41407796,  0.36230345,  1.6248821 ],\n",
       "       [-0.4805024 ,  1.76395017,  0.03196672, -0.69451211],\n",
       "       [-1.41149784,  0.51180352, -0.96414268,  0.16934275]])"
      ]
     },
     "execution_count": 150,
     "metadata": {},
     "output_type": "execute_result"
    }
   ],
   "source": [
    "# seed() 를 사용하지 않는 경우\n",
    "np.random.randn(3, 4)    # <-- 랜덤값이 계속 바뀐다."
   ]
  },
  {
   "cell_type": "code",
   "execution_count": 161,
   "metadata": {},
   "outputs": [
    {
     "data": {
      "text/plain": [
       "array([[-1.74976547,  0.3426804 ,  1.1530358 , -0.25243604],\n",
       "       [ 0.98132079,  0.51421884,  0.22117967, -1.07004333],\n",
       "       [-0.18949583,  0.25500144, -0.45802699,  0.43516349]])"
      ]
     },
     "execution_count": 161,
     "metadata": {},
     "output_type": "execute_result"
    }
   ],
   "source": [
    "# np.random.seed(정수)\n",
    "np.random.seed(100)\n",
    "np.random.randn(3, 4) # <-- seed() 함수 호출한 '직후' 에 random 의 함수를 호출하면 값이 고정됨."
   ]
  },
  {
   "cell_type": "code",
   "execution_count": 168,
   "metadata": {},
   "outputs": [
    {
     "data": {
      "text/plain": [
       "array([[ 0.7788224 ,  0.42823287,  0.10887199,  0.02828363],\n",
       "       [-0.57882582, -1.1994512 , -1.70595201,  0.36916396],\n",
       "       [ 1.87657343, -0.37690335,  1.83193608,  0.00301743]])"
      ]
     },
     "execution_count": 168,
     "metadata": {},
     "output_type": "execute_result"
    }
   ],
   "source": [
    "np.random.randn(3, 4) # 그러나, 그 다음은 seed() 의 영향을 받지 않는다"
   ]
  },
  {
   "cell_type": "code",
   "execution_count": 169,
   "metadata": {},
   "outputs": [
    {
     "data": {
      "text/plain": [
       "array([[ 0.88389311,  0.19586502,  0.35753652, -2.34326191],\n",
       "       [-1.08483259,  0.55969629,  0.93946935, -0.97848104],\n",
       "       [ 0.50309684,  0.40641447,  0.32346101, -0.49341088]])"
      ]
     },
     "execution_count": 169,
     "metadata": {},
     "output_type": "execute_result"
    }
   ],
   "source": [
    "np.random.seed(20)   # seed 값이 바뀌면 아래 random 값도 바뀌게 된다.\n",
    "np.random.randn(3, 4) "
   ]
  },
  {
   "cell_type": "markdown",
   "metadata": {},
   "source": [
    "#### choice()\n",
    " - 주어진 1차원 ndarray로 부터 랜덤으로 샘플링 (뽑기!)\n",
    " - 정수가 주어진 경우, np.arange(해당숫자)로 간주"
   ]
  },
  {
   "cell_type": "code",
   "execution_count": 188,
   "metadata": {},
   "outputs": [
    {
     "data": {
      "text/plain": [
       "43"
      ]
     },
     "execution_count": 188,
     "metadata": {},
     "output_type": "execute_result"
    }
   ],
   "source": [
    "np.random.choice(100)  # 첫번째 parameter 가 정수인경우.  0 ~ 99"
   ]
  },
  {
   "cell_type": "code",
   "execution_count": 223,
   "metadata": {},
   "outputs": [
    {
     "data": {
      "text/plain": [
       "30"
      ]
     },
     "execution_count": 223,
     "metadata": {},
     "output_type": "execute_result"
    }
   ],
   "source": [
    "np.random.choice([10, 20, 30])  # 첫번째 parameter 가 1-D array-like"
   ]
  },
  {
   "cell_type": "code",
   "execution_count": 224,
   "metadata": {},
   "outputs": [
    {
     "data": {
      "text/plain": [
       "array([1, 3, 5, 7, 9])"
      ]
     },
     "execution_count": 224,
     "metadata": {},
     "output_type": "execute_result"
    }
   ],
   "source": [
    "np.arange(1, 10, 2)"
   ]
  },
  {
   "cell_type": "code",
   "execution_count": 240,
   "metadata": {},
   "outputs": [
    {
     "data": {
      "text/plain": [
       "1"
      ]
     },
     "execution_count": 240,
     "metadata": {},
     "output_type": "execute_result"
    }
   ],
   "source": [
    "np.random.choice(np.arange(1, 10, 2))"
   ]
  },
  {
   "cell_type": "code",
   "execution_count": 242,
   "metadata": {},
   "outputs": [
    {
     "data": {
      "text/plain": [
       "array([[56, 56, 58, 79],\n",
       "       [27, 50, 74, 69],\n",
       "       [ 2, 57, 23, 95]])"
      ]
     },
     "execution_count": 242,
     "metadata": {},
     "output_type": "execute_result"
    }
   ],
   "source": [
    "np.random.choice(100, (3, 4))  # size 명시 가능"
   ]
  },
  {
   "cell_type": "code",
   "execution_count": 243,
   "metadata": {},
   "outputs": [
    {
     "data": {
      "text/plain": [
       "array([[5, 5, 9, 6],\n",
       "       [9, 9, 5, 2],\n",
       "       [9, 6, 1, 8]])"
      ]
     },
     "execution_count": 243,
     "metadata": {},
     "output_type": "execute_result"
    }
   ],
   "source": [
    "np.random.choice(10, (3, 4))  # 중복 허용"
   ]
  },
  {
   "cell_type": "code",
   "execution_count": 256,
   "metadata": {},
   "outputs": [
    {
     "data": {
      "text/plain": [
       "array([[2.6, 1.5],\n",
       "       [2.6, 3. ]])"
      ]
     },
     "execution_count": 256,
     "metadata": {},
     "output_type": "execute_result"
    }
   ],
   "source": [
    "x = np.array([1, 2, 3, 1.5, 2.6, 4.9])   # 이 경우 type 은 실수가 된다.\n",
    "np.random.choice(x, size=(2, 2))   # 중복 허용됨."
   ]
  },
  {
   "cell_type": "code",
   "execution_count": 253,
   "metadata": {},
   "outputs": [
    {
     "data": {
      "text/plain": [
       "array([[2.6, 1.5],\n",
       "       [1. , 3. ]])"
      ]
     },
     "execution_count": 253,
     "metadata": {},
     "output_type": "execute_result"
    }
   ],
   "source": [
    "# replace=False  : 중복 허용 안함\n",
    "np.random.choice(x, size=(2, 2), replace=False)  "
   ]
  },
  {
   "cell_type": "code",
   "execution_count": 257,
   "metadata": {},
   "outputs": [
    {
     "ename": "ValueError",
     "evalue": "Cannot take a larger sample than population when 'replace=False'",
     "output_type": "error",
     "traceback": [
      "\u001b[1;31m---------------------------------------------------------------------------\u001b[0m",
      "\u001b[1;31mValueError\u001b[0m                                Traceback (most recent call last)",
      "\u001b[1;32m<ipython-input-257-83269af3fcea>\u001b[0m in \u001b[0;36m<module>\u001b[1;34m\u001b[0m\n\u001b[1;32m----> 1\u001b[1;33m \u001b[0mnp\u001b[0m\u001b[1;33m.\u001b[0m\u001b[0mrandom\u001b[0m\u001b[1;33m.\u001b[0m\u001b[0mchoice\u001b[0m\u001b[1;33m(\u001b[0m\u001b[0mx\u001b[0m\u001b[1;33m,\u001b[0m \u001b[0msize\u001b[0m\u001b[1;33m=\u001b[0m\u001b[1;33m(\u001b[0m\u001b[1;36m3\u001b[0m\u001b[1;33m,\u001b[0m \u001b[1;36m3\u001b[0m\u001b[1;33m)\u001b[0m\u001b[1;33m,\u001b[0m \u001b[0mreplace\u001b[0m\u001b[1;33m=\u001b[0m\u001b[1;32mFalse\u001b[0m\u001b[1;33m)\u001b[0m\u001b[1;33m\u001b[0m\u001b[1;33m\u001b[0m\u001b[0m\n\u001b[0m",
      "\u001b[1;32mmtrand.pyx\u001b[0m in \u001b[0;36mnumpy.random.mtrand.RandomState.choice\u001b[1;34m()\u001b[0m\n",
      "\u001b[1;31mValueError\u001b[0m: Cannot take a larger sample than population when 'replace=False'"
     ]
    }
   ],
   "source": [
    "np.random.choice(x, size=(3, 3), replace=False)    # 따라서 이건 에러"
   ]
  },
  {
   "cell_type": "code",
   "execution_count": 258,
   "metadata": {},
   "outputs": [],
   "source": [
    "# 확률 분포에 대한 이해가 깊고, 활용하실수 있다면 \n",
    "# 해당 확률 분포의 이름으로 제공되는 함수들을 사용하여 샘플링 하면 된다."
   ]
  },
  {
   "cell_type": "markdown",
   "metadata": {},
   "source": [
    "### np.random.shuffle() 섞기"
   ]
  },
  {
   "cell_type": "code",
   "execution_count": 259,
   "metadata": {},
   "outputs": [
    {
     "data": {
      "text/plain": [
       "array([0, 1, 2, 3, 4, 5, 6, 7, 8, 9])"
      ]
     },
     "execution_count": 259,
     "metadata": {},
     "output_type": "execute_result"
    }
   ],
   "source": [
    "bb = np.arange(10)\n",
    "bb"
   ]
  },
  {
   "cell_type": "code",
   "execution_count": 262,
   "metadata": {},
   "outputs": [],
   "source": [
    "np.random.shuffle(bb)  # 주의! 원본이 변화된다!\n",
    "\n",
    "# 함수 수행결과 None ... -->  원본 변화 시키는 함수일 가능성 99.9999.. %"
   ]
  },
  {
   "cell_type": "code",
   "execution_count": 261,
   "metadata": {},
   "outputs": [
    {
     "data": {
      "text/plain": [
       "array([8, 5, 4, 1, 6, 9, 3, 0, 7, 2])"
      ]
     },
     "execution_count": 261,
     "metadata": {},
     "output_type": "execute_result"
    }
   ],
   "source": [
    "bb"
   ]
  },
  {
   "cell_type": "code",
   "execution_count": 263,
   "metadata": {},
   "outputs": [
    {
     "data": {
      "text/plain": [
       "array([0, 1, 2, 3, 4, 5, 6, 7, 8, 9])"
      ]
     },
     "execution_count": 263,
     "metadata": {},
     "output_type": "execute_result"
    }
   ],
   "source": [
    "np.sort(bb)\n",
    "# 함수 수행결과 있다  --> 원본 변화 시키지 않는 함수"
   ]
  },
  {
   "cell_type": "code",
   "execution_count": 264,
   "metadata": {},
   "outputs": [
    {
     "data": {
      "text/plain": [
       "array([7, 4, 1, 8, 6, 5, 3, 9, 2, 0])"
      ]
     },
     "execution_count": 264,
     "metadata": {},
     "output_type": "execute_result"
    }
   ],
   "source": [
    "bb"
   ]
  },
  {
   "cell_type": "code",
   "execution_count": 265,
   "metadata": {},
   "outputs": [
    {
     "data": {
      "text/plain": [
       "array([9, 8, 7, 6, 5, 4, 3, 2, 1, 0])"
      ]
     },
     "execution_count": 265,
     "metadata": {},
     "output_type": "execute_result"
    }
   ],
   "source": [
    "np.sort(bb)[::-1]"
   ]
  },
  {
   "cell_type": "markdown",
   "metadata": {},
   "source": [
    "### unique, bincount\n",
    "고유원소, 개수 구하기"
   ]
  },
  {
   "cell_type": "code",
   "execution_count": 266,
   "metadata": {},
   "outputs": [
    {
     "data": {
      "text/plain": [
       "array([ 2, 11, 34])"
      ]
     },
     "execution_count": 266,
     "metadata": {},
     "output_type": "execute_result"
    }
   ],
   "source": [
    "np.unique([11, 11, 2, 2, 34, 34])"
   ]
  },
  {
   "cell_type": "code",
   "execution_count": 267,
   "metadata": {},
   "outputs": [
    {
     "data": {
      "text/plain": [
       "array(['a', 'b', 'b', 'c', 'a'], dtype='<U1')"
      ]
     },
     "execution_count": 267,
     "metadata": {},
     "output_type": "execute_result"
    }
   ],
   "source": [
    "a = np.array(['a', 'b', 'b', 'c', 'a'])\n",
    "a"
   ]
  },
  {
   "cell_type": "code",
   "execution_count": 270,
   "metadata": {},
   "outputs": [],
   "source": [
    "# return_counts=True  등장빈도를 담은 array 도 리턴\n",
    "index, count = np.unique(a, return_counts=True)"
   ]
  },
  {
   "cell_type": "code",
   "execution_count": 271,
   "metadata": {},
   "outputs": [
    {
     "data": {
      "text/plain": [
       "array(['a', 'b', 'c'], dtype='<U1')"
      ]
     },
     "execution_count": 271,
     "metadata": {},
     "output_type": "execute_result"
    }
   ],
   "source": [
    "index"
   ]
  },
  {
   "cell_type": "code",
   "execution_count": 272,
   "metadata": {},
   "outputs": [
    {
     "data": {
      "text/plain": [
       "array([2, 2, 1], dtype=int64)"
      ]
     },
     "execution_count": 272,
     "metadata": {},
     "output_type": "execute_result"
    }
   ],
   "source": [
    "count"
   ]
  },
  {
   "cell_type": "code",
   "execution_count": null,
   "metadata": {},
   "outputs": [],
   "source": []
  },
  {
   "cell_type": "code",
   "execution_count": null,
   "metadata": {},
   "outputs": [],
   "source": []
  },
  {
   "cell_type": "code",
   "execution_count": null,
   "metadata": {},
   "outputs": [],
   "source": []
  },
  {
   "cell_type": "code",
   "execution_count": null,
   "metadata": {},
   "outputs": [],
   "source": []
  },
  {
   "cell_type": "code",
   "execution_count": null,
   "metadata": {},
   "outputs": [],
   "source": []
  },
  {
   "cell_type": "code",
   "execution_count": null,
   "metadata": {},
   "outputs": [],
   "source": []
  },
  {
   "cell_type": "code",
   "execution_count": null,
   "metadata": {},
   "outputs": [],
   "source": []
  },
  {
   "cell_type": "code",
   "execution_count": null,
   "metadata": {},
   "outputs": [],
   "source": []
  },
  {
   "cell_type": "code",
   "execution_count": null,
   "metadata": {},
   "outputs": [],
   "source": []
  }
 ],
 "metadata": {
  "kernelspec": {
   "display_name": "Python 3",
   "language": "python",
   "name": "python3"
  },
  "language_info": {
   "codemirror_mode": {
    "name": "ipython",
    "version": 3
   },
   "file_extension": ".py",
   "mimetype": "text/x-python",
   "name": "python",
   "nbconvert_exporter": "python",
   "pygments_lexer": "ipython3",
   "version": "3.8.5"
  }
 },
 "nbformat": 4,
 "nbformat_minor": 4
}
